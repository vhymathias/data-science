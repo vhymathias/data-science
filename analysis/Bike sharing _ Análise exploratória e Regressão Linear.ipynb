{
  "nbformat": 4,
  "nbformat_minor": 2,
  "metadata": {
    "kernelspec": {
      "language": "python",
      "display_name": "Python 3",
      "name": "python3"
    },
    "language_info": {
      "pygments_lexer": "ipython3",
      "nbconvert_exporter": "python",
      "version": "3.6.4",
      "file_extension": ".py",
      "codemirror_mode": {
        "name": "ipython",
        "version": 3
      },
      "name": "python",
      "mimetype": "text/x-python"
    },
    "colab": {
      "name": "Bike sharing - Análise exploratória e Regressão Linear.ipynb",
      "provenance": [],
      "collapsed_sections": [],
      "include_colab_link": true
    }
  },
  "cells": [
    {
      "cell_type": "markdown",
      "source": [
        "<a href=\"https://colab.research.google.com/github/vhymathias/data-science/blob/main/Bike_sharing_An%C3%A1lise_explorat%C3%B3ria_e_Regress%C3%A3o_Linear.ipynb\" target=\"_parent\"><img src=\"https://colab.research.google.com/assets/colab-badge.svg\" alt=\"Open In Colab\"/></a>"
      ],
      "metadata": {
        "id": "view-in-github",
        "colab_type": "text"
      }
    },
    {
      "cell_type": "markdown",
      "source": [
        "# 0.1 Importando bibliotecas e dados"
      ],
      "metadata": {
        "id": "ZnZLFE5bmX_I"
      }
    },
    {
      "cell_type": "code",
      "execution_count": 1,
      "source": [
        "!git clone https://github.com/vhymathias/data-science.git"
      ],
      "outputs": [
        {
          "output_type": "stream",
          "name": "stdout",
          "text": [
            "Cloning into 'data-science'...\n",
            "remote: Enumerating objects: 21, done.\u001b[K\n",
            "remote: Counting objects: 100% (21/21), done.\u001b[K\n",
            "remote: Compressing objects: 100% (18/18), done.\u001b[K\n",
            "remote: Total 21 (delta 3), reused 9 (delta 0), pack-reused 0\u001b[K\n",
            "Unpacking objects: 100% (21/21), done.\n"
          ]
        }
      ],
      "metadata": {
        "colab": {
          "base_uri": "https://localhost:8080/"
        },
        "id": "_J7Ndhggma3S",
        "outputId": "5c25b7cb-672b-4201-89ec-66adeb47a474"
      }
    },
    {
      "cell_type": "code",
      "execution_count": 2,
      "source": [
        "!pip install plotly --upgrade"
      ],
      "outputs": [
        {
          "output_type": "stream",
          "name": "stdout",
          "text": [
            "Requirement already satisfied: plotly in /usr/local/lib/python3.7/dist-packages (4.4.1)\n",
            "Collecting plotly\n",
            "  Downloading plotly-5.4.0-py2.py3-none-any.whl (25.3 MB)\n",
            "\u001b[K     |████████████████████████████████| 25.3 MB 1.5 MB/s \n",
            "\u001b[?25hRequirement already satisfied: six in /usr/local/lib/python3.7/dist-packages (from plotly) (1.15.0)\n",
            "Collecting tenacity>=6.2.0\n",
            "  Downloading tenacity-8.0.1-py3-none-any.whl (24 kB)\n",
            "Installing collected packages: tenacity, plotly\n",
            "  Attempting uninstall: plotly\n",
            "    Found existing installation: plotly 4.4.1\n",
            "    Uninstalling plotly-4.4.1:\n",
            "      Successfully uninstalled plotly-4.4.1\n",
            "Successfully installed plotly-5.4.0 tenacity-8.0.1\n"
          ]
        }
      ],
      "metadata": {
        "colab": {
          "base_uri": "https://localhost:8080/"
        },
        "id": "PmCoza7z-tvg",
        "outputId": "82959eb5-4f77-4b0f-ae27-46e61946429b"
      }
    },
    {
      "cell_type": "code",
      "execution_count": 3,
      "source": [
        "import numpy as np\r\n",
        "import pandas as pd\r\n",
        "import plotly.express as px\r\n",
        "\r\n",
        "df = pd.read_csv('/content/data-science/datasets/bike-sharing/day.csv')\r\n",
        "\r\n",
        "weathersit_map = {1: 'Clear',2: 'Mist', 3: 'Formations - Light', 4: 'Formations - Heavy'}\r\n",
        "df['weathersit_num'] = df['weathersit']\r\n",
        "df['weathersit'] = df['weathersit'].apply(lambda x: str(x)+\" _ \"+weathersit_map[x])\r\n",
        "\r\n",
        "season_map = {1: 'winter',2: 'spring', 3: 'summer', 4: 'autumn'}\r\n",
        "df['season_num'] = df['season']\r\n",
        "df['season'] = df['season'].apply(lambda x: str(x)+\"_\"+season_map[x])\r\n",
        "\r\n",
        "df['weekday_num'] = df['weekday'] \r\n",
        "weekday_map = {\r\n",
        "    0: 'sunday',\r\n",
        "    1: 'monday',\r\n",
        "    2: 'tuesday',\r\n",
        "    3: 'wednesday',\r\n",
        "    4: 'thursday',\r\n",
        "    5: 'friday',\r\n",
        "    6: 'saturday'\r\n",
        "}\r\n",
        "df['weekday'] = df['weekday'].apply(lambda x: str(x)+\"_\"+weekday_map[x])\r\n",
        "\r\n",
        "df['workingday_num'] = df['workingday']\r\n",
        "df['workingday'] = df['workingday'].apply(lambda x : 'workday' if x == 1 else 'restday')\r\n",
        "\r\n",
        "df['yr_str'] = df['yr'].apply(lambda x: 2012 if x == 1 else 2011)\r\n",
        "\r\n",
        "df['yr_month'] = df.apply(lambda x : str(x['yr_str'])+\"_\"+\"{:02d}\".format(x['mnth']),axis=1)\r\n",
        "\r\n",
        "df"
      ],
      "outputs": [
        {
          "data": {
            "text/plain": [
              "     instant      dteday    season  ...  workingday_num  yr_str  yr_month\n",
              "0          1  2011-01-01  1_winter  ...               0    2011   2011_01\n",
              "1          2  2011-01-02  1_winter  ...               0    2011   2011_01\n",
              "2          3  2011-01-03  1_winter  ...               1    2011   2011_01\n",
              "3          4  2011-01-04  1_winter  ...               1    2011   2011_01\n",
              "4          5  2011-01-05  1_winter  ...               1    2011   2011_01\n",
              "..       ...         ...       ...  ...             ...     ...       ...\n",
              "726      727  2012-12-27  1_winter  ...               1    2012   2012_12\n",
              "727      728  2012-12-28  1_winter  ...               1    2012   2012_12\n",
              "728      729  2012-12-29  1_winter  ...               0    2012   2012_12\n",
              "729      730  2012-12-30  1_winter  ...               0    2012   2012_12\n",
              "730      731  2012-12-31  1_winter  ...               1    2012   2012_12\n",
              "\n",
              "[731 rows x 22 columns]"
            ],
            "text/html": [
              "<div>\n",
              "<style scoped>\n",
              "    .dataframe tbody tr th:only-of-type {\n",
              "        vertical-align: middle;\n",
              "    }\n",
              "\n",
              "    .dataframe tbody tr th {\n",
              "        vertical-align: top;\n",
              "    }\n",
              "\n",
              "    .dataframe thead th {\n",
              "        text-align: right;\n",
              "    }\n",
              "</style>\n",
              "<table border=\"1\" class=\"dataframe\">\n",
              "  <thead>\n",
              "    <tr style=\"text-align: right;\">\n",
              "      <th></th>\n",
              "      <th>instant</th>\n",
              "      <th>dteday</th>\n",
              "      <th>season</th>\n",
              "      <th>yr</th>\n",
              "      <th>mnth</th>\n",
              "      <th>holiday</th>\n",
              "      <th>weekday</th>\n",
              "      <th>workingday</th>\n",
              "      <th>weathersit</th>\n",
              "      <th>temp</th>\n",
              "      <th>atemp</th>\n",
              "      <th>hum</th>\n",
              "      <th>windspeed</th>\n",
              "      <th>casual</th>\n",
              "      <th>registered</th>\n",
              "      <th>cnt</th>\n",
              "      <th>weathersit_num</th>\n",
              "      <th>season_num</th>\n",
              "      <th>weekday_num</th>\n",
              "      <th>workingday_num</th>\n",
              "      <th>yr_str</th>\n",
              "      <th>yr_month</th>\n",
              "    </tr>\n",
              "  </thead>\n",
              "  <tbody>\n",
              "    <tr>\n",
              "      <th>0</th>\n",
              "      <td>1</td>\n",
              "      <td>2011-01-01</td>\n",
              "      <td>1_winter</td>\n",
              "      <td>0</td>\n",
              "      <td>1</td>\n",
              "      <td>0</td>\n",
              "      <td>6_saturday</td>\n",
              "      <td>restday</td>\n",
              "      <td>2 _ Mist</td>\n",
              "      <td>0.344167</td>\n",
              "      <td>0.363625</td>\n",
              "      <td>0.805833</td>\n",
              "      <td>0.160446</td>\n",
              "      <td>331</td>\n",
              "      <td>654</td>\n",
              "      <td>985</td>\n",
              "      <td>2</td>\n",
              "      <td>1</td>\n",
              "      <td>6</td>\n",
              "      <td>0</td>\n",
              "      <td>2011</td>\n",
              "      <td>2011_01</td>\n",
              "    </tr>\n",
              "    <tr>\n",
              "      <th>1</th>\n",
              "      <td>2</td>\n",
              "      <td>2011-01-02</td>\n",
              "      <td>1_winter</td>\n",
              "      <td>0</td>\n",
              "      <td>1</td>\n",
              "      <td>0</td>\n",
              "      <td>0_sunday</td>\n",
              "      <td>restday</td>\n",
              "      <td>2 _ Mist</td>\n",
              "      <td>0.363478</td>\n",
              "      <td>0.353739</td>\n",
              "      <td>0.696087</td>\n",
              "      <td>0.248539</td>\n",
              "      <td>131</td>\n",
              "      <td>670</td>\n",
              "      <td>801</td>\n",
              "      <td>2</td>\n",
              "      <td>1</td>\n",
              "      <td>0</td>\n",
              "      <td>0</td>\n",
              "      <td>2011</td>\n",
              "      <td>2011_01</td>\n",
              "    </tr>\n",
              "    <tr>\n",
              "      <th>2</th>\n",
              "      <td>3</td>\n",
              "      <td>2011-01-03</td>\n",
              "      <td>1_winter</td>\n",
              "      <td>0</td>\n",
              "      <td>1</td>\n",
              "      <td>0</td>\n",
              "      <td>1_monday</td>\n",
              "      <td>workday</td>\n",
              "      <td>1 _ Clear</td>\n",
              "      <td>0.196364</td>\n",
              "      <td>0.189405</td>\n",
              "      <td>0.437273</td>\n",
              "      <td>0.248309</td>\n",
              "      <td>120</td>\n",
              "      <td>1229</td>\n",
              "      <td>1349</td>\n",
              "      <td>1</td>\n",
              "      <td>1</td>\n",
              "      <td>1</td>\n",
              "      <td>1</td>\n",
              "      <td>2011</td>\n",
              "      <td>2011_01</td>\n",
              "    </tr>\n",
              "    <tr>\n",
              "      <th>3</th>\n",
              "      <td>4</td>\n",
              "      <td>2011-01-04</td>\n",
              "      <td>1_winter</td>\n",
              "      <td>0</td>\n",
              "      <td>1</td>\n",
              "      <td>0</td>\n",
              "      <td>2_tuesday</td>\n",
              "      <td>workday</td>\n",
              "      <td>1 _ Clear</td>\n",
              "      <td>0.200000</td>\n",
              "      <td>0.212122</td>\n",
              "      <td>0.590435</td>\n",
              "      <td>0.160296</td>\n",
              "      <td>108</td>\n",
              "      <td>1454</td>\n",
              "      <td>1562</td>\n",
              "      <td>1</td>\n",
              "      <td>1</td>\n",
              "      <td>2</td>\n",
              "      <td>1</td>\n",
              "      <td>2011</td>\n",
              "      <td>2011_01</td>\n",
              "    </tr>\n",
              "    <tr>\n",
              "      <th>4</th>\n",
              "      <td>5</td>\n",
              "      <td>2011-01-05</td>\n",
              "      <td>1_winter</td>\n",
              "      <td>0</td>\n",
              "      <td>1</td>\n",
              "      <td>0</td>\n",
              "      <td>3_wednesday</td>\n",
              "      <td>workday</td>\n",
              "      <td>1 _ Clear</td>\n",
              "      <td>0.226957</td>\n",
              "      <td>0.229270</td>\n",
              "      <td>0.436957</td>\n",
              "      <td>0.186900</td>\n",
              "      <td>82</td>\n",
              "      <td>1518</td>\n",
              "      <td>1600</td>\n",
              "      <td>1</td>\n",
              "      <td>1</td>\n",
              "      <td>3</td>\n",
              "      <td>1</td>\n",
              "      <td>2011</td>\n",
              "      <td>2011_01</td>\n",
              "    </tr>\n",
              "    <tr>\n",
              "      <th>...</th>\n",
              "      <td>...</td>\n",
              "      <td>...</td>\n",
              "      <td>...</td>\n",
              "      <td>...</td>\n",
              "      <td>...</td>\n",
              "      <td>...</td>\n",
              "      <td>...</td>\n",
              "      <td>...</td>\n",
              "      <td>...</td>\n",
              "      <td>...</td>\n",
              "      <td>...</td>\n",
              "      <td>...</td>\n",
              "      <td>...</td>\n",
              "      <td>...</td>\n",
              "      <td>...</td>\n",
              "      <td>...</td>\n",
              "      <td>...</td>\n",
              "      <td>...</td>\n",
              "      <td>...</td>\n",
              "      <td>...</td>\n",
              "      <td>...</td>\n",
              "      <td>...</td>\n",
              "    </tr>\n",
              "    <tr>\n",
              "      <th>726</th>\n",
              "      <td>727</td>\n",
              "      <td>2012-12-27</td>\n",
              "      <td>1_winter</td>\n",
              "      <td>1</td>\n",
              "      <td>12</td>\n",
              "      <td>0</td>\n",
              "      <td>4_thursday</td>\n",
              "      <td>workday</td>\n",
              "      <td>2 _ Mist</td>\n",
              "      <td>0.254167</td>\n",
              "      <td>0.226642</td>\n",
              "      <td>0.652917</td>\n",
              "      <td>0.350133</td>\n",
              "      <td>247</td>\n",
              "      <td>1867</td>\n",
              "      <td>2114</td>\n",
              "      <td>2</td>\n",
              "      <td>1</td>\n",
              "      <td>4</td>\n",
              "      <td>1</td>\n",
              "      <td>2012</td>\n",
              "      <td>2012_12</td>\n",
              "    </tr>\n",
              "    <tr>\n",
              "      <th>727</th>\n",
              "      <td>728</td>\n",
              "      <td>2012-12-28</td>\n",
              "      <td>1_winter</td>\n",
              "      <td>1</td>\n",
              "      <td>12</td>\n",
              "      <td>0</td>\n",
              "      <td>5_friday</td>\n",
              "      <td>workday</td>\n",
              "      <td>2 _ Mist</td>\n",
              "      <td>0.253333</td>\n",
              "      <td>0.255046</td>\n",
              "      <td>0.590000</td>\n",
              "      <td>0.155471</td>\n",
              "      <td>644</td>\n",
              "      <td>2451</td>\n",
              "      <td>3095</td>\n",
              "      <td>2</td>\n",
              "      <td>1</td>\n",
              "      <td>5</td>\n",
              "      <td>1</td>\n",
              "      <td>2012</td>\n",
              "      <td>2012_12</td>\n",
              "    </tr>\n",
              "    <tr>\n",
              "      <th>728</th>\n",
              "      <td>729</td>\n",
              "      <td>2012-12-29</td>\n",
              "      <td>1_winter</td>\n",
              "      <td>1</td>\n",
              "      <td>12</td>\n",
              "      <td>0</td>\n",
              "      <td>6_saturday</td>\n",
              "      <td>restday</td>\n",
              "      <td>2 _ Mist</td>\n",
              "      <td>0.253333</td>\n",
              "      <td>0.242400</td>\n",
              "      <td>0.752917</td>\n",
              "      <td>0.124383</td>\n",
              "      <td>159</td>\n",
              "      <td>1182</td>\n",
              "      <td>1341</td>\n",
              "      <td>2</td>\n",
              "      <td>1</td>\n",
              "      <td>6</td>\n",
              "      <td>0</td>\n",
              "      <td>2012</td>\n",
              "      <td>2012_12</td>\n",
              "    </tr>\n",
              "    <tr>\n",
              "      <th>729</th>\n",
              "      <td>730</td>\n",
              "      <td>2012-12-30</td>\n",
              "      <td>1_winter</td>\n",
              "      <td>1</td>\n",
              "      <td>12</td>\n",
              "      <td>0</td>\n",
              "      <td>0_sunday</td>\n",
              "      <td>restday</td>\n",
              "      <td>1 _ Clear</td>\n",
              "      <td>0.255833</td>\n",
              "      <td>0.231700</td>\n",
              "      <td>0.483333</td>\n",
              "      <td>0.350754</td>\n",
              "      <td>364</td>\n",
              "      <td>1432</td>\n",
              "      <td>1796</td>\n",
              "      <td>1</td>\n",
              "      <td>1</td>\n",
              "      <td>0</td>\n",
              "      <td>0</td>\n",
              "      <td>2012</td>\n",
              "      <td>2012_12</td>\n",
              "    </tr>\n",
              "    <tr>\n",
              "      <th>730</th>\n",
              "      <td>731</td>\n",
              "      <td>2012-12-31</td>\n",
              "      <td>1_winter</td>\n",
              "      <td>1</td>\n",
              "      <td>12</td>\n",
              "      <td>0</td>\n",
              "      <td>1_monday</td>\n",
              "      <td>workday</td>\n",
              "      <td>2 _ Mist</td>\n",
              "      <td>0.215833</td>\n",
              "      <td>0.223487</td>\n",
              "      <td>0.577500</td>\n",
              "      <td>0.154846</td>\n",
              "      <td>439</td>\n",
              "      <td>2290</td>\n",
              "      <td>2729</td>\n",
              "      <td>2</td>\n",
              "      <td>1</td>\n",
              "      <td>1</td>\n",
              "      <td>1</td>\n",
              "      <td>2012</td>\n",
              "      <td>2012_12</td>\n",
              "    </tr>\n",
              "  </tbody>\n",
              "</table>\n",
              "<p>731 rows × 22 columns</p>\n",
              "</div>"
            ]
          },
          "metadata": {},
          "output_type": "display_data"
        }
      ],
      "metadata": {
        "execution": {
          "iopub.status.busy": "2021-11-13T13:46:35.923917Z",
          "iopub.execute_input": "2021-11-13T13:46:35.924611Z",
          "iopub.status.idle": "2021-11-13T13:46:37.164946Z",
          "shell.execute_reply.started": "2021-11-13T13:46:35.924576Z",
          "shell.execute_reply": "2021-11-13T13:46:37.163741Z"
        },
        "trusted": true,
        "colab": {
          "base_uri": "https://localhost:8080/",
          "height": 419
        },
        "id": "7PZPAuFtmX_K",
        "outputId": "a117d055-838f-4ed3-836b-5789f6b7f96d"
      }
    },
    {
      "cell_type": "markdown",
      "source": [
        "# 0.2 Sobre o dataset\n",
        "Este dataset representa métricas sobre um serviço de compartilhamento de bicicletas (bike sharing). Os dados foram coletados em Washington DC, entre 2011 e 2012.\n",
        "\n",
        "As variáveis disponíveis significam:\n",
        "- instant: record index\n",
        "- dteday : data\n",
        "- season : estação (1: inverno, 2:primavera, 3:verão, 4:Outono)\n",
        "\t- yr : ano (0: 2011, 1:2012)\n",
        "\t- mnth : mês ( 1 to 12)\n",
        "- holiday : se o dia é feriado ou não (extracted from http://dchr.dc.gov/page/holiday-schedule)\n",
        "- weekday : dia da semana (começa em 0 - domingo)\n",
        "- workingday : se dia é de trabalho / útil\n",
        "- weathersit: \n",
        "\t- 1: Céu limpo, poucas nuvens\n",
        "\t- 2: Neblina, céu fechado\n",
        "\t- 3: Neve, chuva leve\n",
        "\t- 4: Neve, chuva pesada\n",
        "- temp : Temperatura normalizada em Celsius. Valores divididos por 41 (max)\n",
        "- atemp: Sensação térmica normalizada em Celsius. Valores divididos por 50 (max)\n",
        "- hum: Umidade normalizada. Os valores são divididos por 100 (max)\n",
        "- windspeed: Velocidade do vento normalizada. Os valores são divididos por 67 (max)\n",
        "- casual: Contagem de usuários casuais\n",
        "- registered: Contagem de usuários registrados\n",
        "- cnt: Contagem do total de usuários\n",
        "\t"
      ],
      "metadata": {
        "id": "YdDsib0X4PLo"
      }
    },
    {
      "cell_type": "markdown",
      "source": [
        "#1.Análise exploratória"
      ],
      "metadata": {
        "id": "GczivqSJmX_N"
      }
    },
    {
      "cell_type": "markdown",
      "source": [
        "##1.1 Dia de trabalho vs dia de descanso\n",
        "\n",
        "Ao comparar dia de trabalho vs dia de descanso, é possível ver que eles possuem um número de usuário similar por dia."
      ],
      "metadata": {
        "id": "MZ3g7HwzmX_R"
      }
    },
    {
      "cell_type": "code",
      "execution_count": 4,
      "source": [
        "#@title\r\n",
        "grouped_data = df[['workingday', 'cnt']].groupby(['workingday'])['cnt'].agg([np.sum,\"count\"]).reset_index()\r\n",
        "grouped_data['user/day'] = grouped_data.apply(lambda x : float(\"{:.2f}\".format(x['sum']/x['count'])),axis=1)\r\n",
        "print(grouped_data)\r\n",
        "fig = px.bar(grouped_data, x='workingday', y='user/day', color = 'workingday', text = 'user/day', width=800)\r\n",
        "fig.update_layout(\r\n",
        "    title={\r\n",
        "        'text': \"workingday vs user/day\",\r\n",
        "        'x':0.5,\r\n",
        "        'xanchor': 'center',\r\n",
        "        'yanchor': 'middle'})\r\n",
        "fig.show()"
      ],
      "outputs": [
        {
          "output_type": "stream",
          "name": "stdout",
          "text": [
            "  workingday      sum  count  user/day\n",
            "0    restday  1000269    231   4330.17\n",
            "1    workday  2292410    500   4584.82\n"
          ]
        },
        {
          "data": {
            "text/html": [
              "<html>\n",
              "<head><meta charset=\"utf-8\" /></head>\n",
              "<body>\n",
              "    <div>            <script src=\"https://cdnjs.cloudflare.com/ajax/libs/mathjax/2.7.5/MathJax.js?config=TeX-AMS-MML_SVG\"></script><script type=\"text/javascript\">if (window.MathJax) {MathJax.Hub.Config({SVG: {font: \"STIX-Web\"}});}</script>                <script type=\"text/javascript\">window.PlotlyConfig = {MathJaxConfig: 'local'};</script>\n",
              "        <script src=\"https://cdn.plot.ly/plotly-2.6.3.min.js\"></script>                <div id=\"49738f1a-5c23-4e6d-9f78-db69c8d2c532\" class=\"plotly-graph-div\" style=\"height:525px; width:800px;\"></div>            <script type=\"text/javascript\">                                    window.PLOTLYENV=window.PLOTLYENV || {};                                    if (document.getElementById(\"49738f1a-5c23-4e6d-9f78-db69c8d2c532\")) {                    Plotly.newPlot(                        \"49738f1a-5c23-4e6d-9f78-db69c8d2c532\",                        [{\"alignmentgroup\":\"True\",\"hovertemplate\":\"workingday=%{x}<br>user/day=%{text}<extra></extra>\",\"legendgroup\":\"restday\",\"marker\":{\"color\":\"#636efa\",\"pattern\":{\"shape\":\"\"}},\"name\":\"restday\",\"offsetgroup\":\"restday\",\"orientation\":\"v\",\"showlegend\":true,\"text\":[4330.17],\"textposition\":\"auto\",\"x\":[\"restday\"],\"xaxis\":\"x\",\"y\":[4330.17],\"yaxis\":\"y\",\"type\":\"bar\"},{\"alignmentgroup\":\"True\",\"hovertemplate\":\"workingday=%{x}<br>user/day=%{text}<extra></extra>\",\"legendgroup\":\"workday\",\"marker\":{\"color\":\"#EF553B\",\"pattern\":{\"shape\":\"\"}},\"name\":\"workday\",\"offsetgroup\":\"workday\",\"orientation\":\"v\",\"showlegend\":true,\"text\":[4584.82],\"textposition\":\"auto\",\"x\":[\"workday\"],\"xaxis\":\"x\",\"y\":[4584.82],\"yaxis\":\"y\",\"type\":\"bar\"}],                        {\"template\":{\"data\":{\"bar\":[{\"error_x\":{\"color\":\"#2a3f5f\"},\"error_y\":{\"color\":\"#2a3f5f\"},\"marker\":{\"line\":{\"color\":\"#E5ECF6\",\"width\":0.5},\"pattern\":{\"fillmode\":\"overlay\",\"size\":10,\"solidity\":0.2}},\"type\":\"bar\"}],\"barpolar\":[{\"marker\":{\"line\":{\"color\":\"#E5ECF6\",\"width\":0.5},\"pattern\":{\"fillmode\":\"overlay\",\"size\":10,\"solidity\":0.2}},\"type\":\"barpolar\"}],\"carpet\":[{\"aaxis\":{\"endlinecolor\":\"#2a3f5f\",\"gridcolor\":\"white\",\"linecolor\":\"white\",\"minorgridcolor\":\"white\",\"startlinecolor\":\"#2a3f5f\"},\"baxis\":{\"endlinecolor\":\"#2a3f5f\",\"gridcolor\":\"white\",\"linecolor\":\"white\",\"minorgridcolor\":\"white\",\"startlinecolor\":\"#2a3f5f\"},\"type\":\"carpet\"}],\"choropleth\":[{\"colorbar\":{\"outlinewidth\":0,\"ticks\":\"\"},\"type\":\"choropleth\"}],\"contour\":[{\"colorbar\":{\"outlinewidth\":0,\"ticks\":\"\"},\"colorscale\":[[0.0,\"#0d0887\"],[0.1111111111111111,\"#46039f\"],[0.2222222222222222,\"#7201a8\"],[0.3333333333333333,\"#9c179e\"],[0.4444444444444444,\"#bd3786\"],[0.5555555555555556,\"#d8576b\"],[0.6666666666666666,\"#ed7953\"],[0.7777777777777778,\"#fb9f3a\"],[0.8888888888888888,\"#fdca26\"],[1.0,\"#f0f921\"]],\"type\":\"contour\"}],\"contourcarpet\":[{\"colorbar\":{\"outlinewidth\":0,\"ticks\":\"\"},\"type\":\"contourcarpet\"}],\"heatmap\":[{\"colorbar\":{\"outlinewidth\":0,\"ticks\":\"\"},\"colorscale\":[[0.0,\"#0d0887\"],[0.1111111111111111,\"#46039f\"],[0.2222222222222222,\"#7201a8\"],[0.3333333333333333,\"#9c179e\"],[0.4444444444444444,\"#bd3786\"],[0.5555555555555556,\"#d8576b\"],[0.6666666666666666,\"#ed7953\"],[0.7777777777777778,\"#fb9f3a\"],[0.8888888888888888,\"#fdca26\"],[1.0,\"#f0f921\"]],\"type\":\"heatmap\"}],\"heatmapgl\":[{\"colorbar\":{\"outlinewidth\":0,\"ticks\":\"\"},\"colorscale\":[[0.0,\"#0d0887\"],[0.1111111111111111,\"#46039f\"],[0.2222222222222222,\"#7201a8\"],[0.3333333333333333,\"#9c179e\"],[0.4444444444444444,\"#bd3786\"],[0.5555555555555556,\"#d8576b\"],[0.6666666666666666,\"#ed7953\"],[0.7777777777777778,\"#fb9f3a\"],[0.8888888888888888,\"#fdca26\"],[1.0,\"#f0f921\"]],\"type\":\"heatmapgl\"}],\"histogram\":[{\"marker\":{\"pattern\":{\"fillmode\":\"overlay\",\"size\":10,\"solidity\":0.2}},\"type\":\"histogram\"}],\"histogram2d\":[{\"colorbar\":{\"outlinewidth\":0,\"ticks\":\"\"},\"colorscale\":[[0.0,\"#0d0887\"],[0.1111111111111111,\"#46039f\"],[0.2222222222222222,\"#7201a8\"],[0.3333333333333333,\"#9c179e\"],[0.4444444444444444,\"#bd3786\"],[0.5555555555555556,\"#d8576b\"],[0.6666666666666666,\"#ed7953\"],[0.7777777777777778,\"#fb9f3a\"],[0.8888888888888888,\"#fdca26\"],[1.0,\"#f0f921\"]],\"type\":\"histogram2d\"}],\"histogram2dcontour\":[{\"colorbar\":{\"outlinewidth\":0,\"ticks\":\"\"},\"colorscale\":[[0.0,\"#0d0887\"],[0.1111111111111111,\"#46039f\"],[0.2222222222222222,\"#7201a8\"],[0.3333333333333333,\"#9c179e\"],[0.4444444444444444,\"#bd3786\"],[0.5555555555555556,\"#d8576b\"],[0.6666666666666666,\"#ed7953\"],[0.7777777777777778,\"#fb9f3a\"],[0.8888888888888888,\"#fdca26\"],[1.0,\"#f0f921\"]],\"type\":\"histogram2dcontour\"}],\"mesh3d\":[{\"colorbar\":{\"outlinewidth\":0,\"ticks\":\"\"},\"type\":\"mesh3d\"}],\"parcoords\":[{\"line\":{\"colorbar\":{\"outlinewidth\":0,\"ticks\":\"\"}},\"type\":\"parcoords\"}],\"pie\":[{\"automargin\":true,\"type\":\"pie\"}],\"scatter\":[{\"marker\":{\"colorbar\":{\"outlinewidth\":0,\"ticks\":\"\"}},\"type\":\"scatter\"}],\"scatter3d\":[{\"line\":{\"colorbar\":{\"outlinewidth\":0,\"ticks\":\"\"}},\"marker\":{\"colorbar\":{\"outlinewidth\":0,\"ticks\":\"\"}},\"type\":\"scatter3d\"}],\"scattercarpet\":[{\"marker\":{\"colorbar\":{\"outlinewidth\":0,\"ticks\":\"\"}},\"type\":\"scattercarpet\"}],\"scattergeo\":[{\"marker\":{\"colorbar\":{\"outlinewidth\":0,\"ticks\":\"\"}},\"type\":\"scattergeo\"}],\"scattergl\":[{\"marker\":{\"colorbar\":{\"outlinewidth\":0,\"ticks\":\"\"}},\"type\":\"scattergl\"}],\"scattermapbox\":[{\"marker\":{\"colorbar\":{\"outlinewidth\":0,\"ticks\":\"\"}},\"type\":\"scattermapbox\"}],\"scatterpolar\":[{\"marker\":{\"colorbar\":{\"outlinewidth\":0,\"ticks\":\"\"}},\"type\":\"scatterpolar\"}],\"scatterpolargl\":[{\"marker\":{\"colorbar\":{\"outlinewidth\":0,\"ticks\":\"\"}},\"type\":\"scatterpolargl\"}],\"scatterternary\":[{\"marker\":{\"colorbar\":{\"outlinewidth\":0,\"ticks\":\"\"}},\"type\":\"scatterternary\"}],\"surface\":[{\"colorbar\":{\"outlinewidth\":0,\"ticks\":\"\"},\"colorscale\":[[0.0,\"#0d0887\"],[0.1111111111111111,\"#46039f\"],[0.2222222222222222,\"#7201a8\"],[0.3333333333333333,\"#9c179e\"],[0.4444444444444444,\"#bd3786\"],[0.5555555555555556,\"#d8576b\"],[0.6666666666666666,\"#ed7953\"],[0.7777777777777778,\"#fb9f3a\"],[0.8888888888888888,\"#fdca26\"],[1.0,\"#f0f921\"]],\"type\":\"surface\"}],\"table\":[{\"cells\":{\"fill\":{\"color\":\"#EBF0F8\"},\"line\":{\"color\":\"white\"}},\"header\":{\"fill\":{\"color\":\"#C8D4E3\"},\"line\":{\"color\":\"white\"}},\"type\":\"table\"}]},\"layout\":{\"annotationdefaults\":{\"arrowcolor\":\"#2a3f5f\",\"arrowhead\":0,\"arrowwidth\":1},\"autotypenumbers\":\"strict\",\"coloraxis\":{\"colorbar\":{\"outlinewidth\":0,\"ticks\":\"\"}},\"colorscale\":{\"diverging\":[[0,\"#8e0152\"],[0.1,\"#c51b7d\"],[0.2,\"#de77ae\"],[0.3,\"#f1b6da\"],[0.4,\"#fde0ef\"],[0.5,\"#f7f7f7\"],[0.6,\"#e6f5d0\"],[0.7,\"#b8e186\"],[0.8,\"#7fbc41\"],[0.9,\"#4d9221\"],[1,\"#276419\"]],\"sequential\":[[0.0,\"#0d0887\"],[0.1111111111111111,\"#46039f\"],[0.2222222222222222,\"#7201a8\"],[0.3333333333333333,\"#9c179e\"],[0.4444444444444444,\"#bd3786\"],[0.5555555555555556,\"#d8576b\"],[0.6666666666666666,\"#ed7953\"],[0.7777777777777778,\"#fb9f3a\"],[0.8888888888888888,\"#fdca26\"],[1.0,\"#f0f921\"]],\"sequentialminus\":[[0.0,\"#0d0887\"],[0.1111111111111111,\"#46039f\"],[0.2222222222222222,\"#7201a8\"],[0.3333333333333333,\"#9c179e\"],[0.4444444444444444,\"#bd3786\"],[0.5555555555555556,\"#d8576b\"],[0.6666666666666666,\"#ed7953\"],[0.7777777777777778,\"#fb9f3a\"],[0.8888888888888888,\"#fdca26\"],[1.0,\"#f0f921\"]]},\"colorway\":[\"#636efa\",\"#EF553B\",\"#00cc96\",\"#ab63fa\",\"#FFA15A\",\"#19d3f3\",\"#FF6692\",\"#B6E880\",\"#FF97FF\",\"#FECB52\"],\"font\":{\"color\":\"#2a3f5f\"},\"geo\":{\"bgcolor\":\"white\",\"lakecolor\":\"white\",\"landcolor\":\"#E5ECF6\",\"showlakes\":true,\"showland\":true,\"subunitcolor\":\"white\"},\"hoverlabel\":{\"align\":\"left\"},\"hovermode\":\"closest\",\"mapbox\":{\"style\":\"light\"},\"paper_bgcolor\":\"white\",\"plot_bgcolor\":\"#E5ECF6\",\"polar\":{\"angularaxis\":{\"gridcolor\":\"white\",\"linecolor\":\"white\",\"ticks\":\"\"},\"bgcolor\":\"#E5ECF6\",\"radialaxis\":{\"gridcolor\":\"white\",\"linecolor\":\"white\",\"ticks\":\"\"}},\"scene\":{\"xaxis\":{\"backgroundcolor\":\"#E5ECF6\",\"gridcolor\":\"white\",\"gridwidth\":2,\"linecolor\":\"white\",\"showbackground\":true,\"ticks\":\"\",\"zerolinecolor\":\"white\"},\"yaxis\":{\"backgroundcolor\":\"#E5ECF6\",\"gridcolor\":\"white\",\"gridwidth\":2,\"linecolor\":\"white\",\"showbackground\":true,\"ticks\":\"\",\"zerolinecolor\":\"white\"},\"zaxis\":{\"backgroundcolor\":\"#E5ECF6\",\"gridcolor\":\"white\",\"gridwidth\":2,\"linecolor\":\"white\",\"showbackground\":true,\"ticks\":\"\",\"zerolinecolor\":\"white\"}},\"shapedefaults\":{\"line\":{\"color\":\"#2a3f5f\"}},\"ternary\":{\"aaxis\":{\"gridcolor\":\"white\",\"linecolor\":\"white\",\"ticks\":\"\"},\"baxis\":{\"gridcolor\":\"white\",\"linecolor\":\"white\",\"ticks\":\"\"},\"bgcolor\":\"#E5ECF6\",\"caxis\":{\"gridcolor\":\"white\",\"linecolor\":\"white\",\"ticks\":\"\"}},\"title\":{\"x\":0.05},\"xaxis\":{\"automargin\":true,\"gridcolor\":\"white\",\"linecolor\":\"white\",\"ticks\":\"\",\"title\":{\"standoff\":15},\"zerolinecolor\":\"white\",\"zerolinewidth\":2},\"yaxis\":{\"automargin\":true,\"gridcolor\":\"white\",\"linecolor\":\"white\",\"ticks\":\"\",\"title\":{\"standoff\":15},\"zerolinecolor\":\"white\",\"zerolinewidth\":2}}},\"xaxis\":{\"anchor\":\"y\",\"domain\":[0.0,1.0],\"title\":{\"text\":\"workingday\"},\"categoryorder\":\"array\",\"categoryarray\":[\"restday\",\"workday\"]},\"yaxis\":{\"anchor\":\"x\",\"domain\":[0.0,1.0],\"title\":{\"text\":\"user/day\"}},\"legend\":{\"title\":{\"text\":\"workingday\"},\"tracegroupgap\":0},\"margin\":{\"t\":60},\"barmode\":\"relative\",\"width\":800,\"title\":{\"text\":\"workingday vs user/day\",\"x\":0.5,\"xanchor\":\"center\",\"yanchor\":\"middle\"}},                        {\"responsive\": true}                    ).then(function(){\n",
              "                            \n",
              "var gd = document.getElementById('49738f1a-5c23-4e6d-9f78-db69c8d2c532');\n",
              "var x = new MutationObserver(function (mutations, observer) {{\n",
              "        var display = window.getComputedStyle(gd).display;\n",
              "        if (!display || display === 'none') {{\n",
              "            console.log([gd, 'removed!']);\n",
              "            Plotly.purge(gd);\n",
              "            observer.disconnect();\n",
              "        }}\n",
              "}});\n",
              "\n",
              "// Listen for the removal of the full notebook cells\n",
              "var notebookContainer = gd.closest('#notebook-container');\n",
              "if (notebookContainer) {{\n",
              "    x.observe(notebookContainer, {childList: true});\n",
              "}}\n",
              "\n",
              "// Listen for the clearing of the current output cell\n",
              "var outputEl = gd.closest('.output');\n",
              "if (outputEl) {{\n",
              "    x.observe(outputEl, {childList: true});\n",
              "}}\n",
              "\n",
              "                        })                };                            </script>        </div>\n",
              "</body>\n",
              "</html>"
            ]
          },
          "metadata": {},
          "output_type": "display_data"
        }
      ],
      "metadata": {
        "execution": {
          "iopub.status.busy": "2021-11-10T01:41:35.443299Z",
          "iopub.execute_input": "2021-11-10T01:41:35.443536Z",
          "iopub.status.idle": "2021-11-10T01:41:35.535982Z",
          "shell.execute_reply.started": "2021-11-10T01:41:35.443509Z",
          "shell.execute_reply": "2021-11-10T01:41:35.535206Z"
        },
        "trusted": true,
        "colab": {
          "base_uri": "https://localhost:8080/",
          "height": 593
        },
        "id": "htbyjd2ZmX_T",
        "cellView": "form",
        "outputId": "38de4099-625c-4216-c157-8a1ff932dfe8"
      }
    },
    {
      "cell_type": "markdown",
      "source": [
        "Entrando no detalhe, é possível entender melhor o comportamento de cada tipo de usuário (casual e registrado) dependendo do tipo de dia. Os usuários casuais dão preferência para alugar a bicicleta em dias de descanso, já os usuários registrados acabam usando mais nos dias úteis."
      ],
      "metadata": {
        "id": "fsSsbODImX_T"
      }
    },
    {
      "cell_type": "code",
      "execution_count": 5,
      "source": [
        "#@title\r\n",
        "main_var = 'workingday'\r\n",
        "grouped_data = df[[main_var, 'casual','registered']].groupby([main_var])[['casual','registered']].agg([np.sum,\"count\"])\r\n",
        "grouped_data = grouped_data.stack(0).reset_index().rename(columns={'level_1': 'type'})\r\n",
        "grouped_data['users/day'] = grouped_data.apply(lambda x : float(\"{:.2f}\".format(x['sum']/x['count'])),axis=1)\r\n",
        "fig = px.bar(grouped_data, x='type', y='users/day', color = 'workingday', text = 'users/day', width=800, barmode='group')\r\n",
        "fig.update_layout(\r\n",
        "    title={\r\n",
        "        'text': \"user type vs workingday vs user/day\",\r\n",
        "        'x':0.5,\r\n",
        "        'xanchor': 'center',\r\n",
        "        'yanchor': 'middle'})\r\n",
        "fig.show()"
      ],
      "outputs": [
        {
          "data": {
            "text/html": [
              "<html>\n",
              "<head><meta charset=\"utf-8\" /></head>\n",
              "<body>\n",
              "    <div>            <script src=\"https://cdnjs.cloudflare.com/ajax/libs/mathjax/2.7.5/MathJax.js?config=TeX-AMS-MML_SVG\"></script><script type=\"text/javascript\">if (window.MathJax) {MathJax.Hub.Config({SVG: {font: \"STIX-Web\"}});}</script>                <script type=\"text/javascript\">window.PlotlyConfig = {MathJaxConfig: 'local'};</script>\n",
              "        <script src=\"https://cdn.plot.ly/plotly-2.6.3.min.js\"></script>                <div id=\"834b8c89-93e2-4596-898c-0fb2ee3088e5\" class=\"plotly-graph-div\" style=\"height:525px; width:800px;\"></div>            <script type=\"text/javascript\">                                    window.PLOTLYENV=window.PLOTLYENV || {};                                    if (document.getElementById(\"834b8c89-93e2-4596-898c-0fb2ee3088e5\")) {                    Plotly.newPlot(                        \"834b8c89-93e2-4596-898c-0fb2ee3088e5\",                        [{\"alignmentgroup\":\"True\",\"hovertemplate\":\"workingday=restday<br>type=%{x}<br>users/day=%{text}<extra></extra>\",\"legendgroup\":\"restday\",\"marker\":{\"color\":\"#636efa\",\"pattern\":{\"shape\":\"\"}},\"name\":\"restday\",\"offsetgroup\":\"restday\",\"orientation\":\"v\",\"showlegend\":true,\"text\":[1371.13,2959.03],\"textposition\":\"auto\",\"x\":[\"casual\",\"registered\"],\"xaxis\":\"x\",\"y\":[1371.13,2959.03],\"yaxis\":\"y\",\"type\":\"bar\"},{\"alignmentgroup\":\"True\",\"hovertemplate\":\"workingday=workday<br>type=%{x}<br>users/day=%{text}<extra></extra>\",\"legendgroup\":\"workday\",\"marker\":{\"color\":\"#EF553B\",\"pattern\":{\"shape\":\"\"}},\"name\":\"workday\",\"offsetgroup\":\"workday\",\"orientation\":\"v\",\"showlegend\":true,\"text\":[606.57,3978.25],\"textposition\":\"auto\",\"x\":[\"casual\",\"registered\"],\"xaxis\":\"x\",\"y\":[606.57,3978.25],\"yaxis\":\"y\",\"type\":\"bar\"}],                        {\"template\":{\"data\":{\"bar\":[{\"error_x\":{\"color\":\"#2a3f5f\"},\"error_y\":{\"color\":\"#2a3f5f\"},\"marker\":{\"line\":{\"color\":\"#E5ECF6\",\"width\":0.5},\"pattern\":{\"fillmode\":\"overlay\",\"size\":10,\"solidity\":0.2}},\"type\":\"bar\"}],\"barpolar\":[{\"marker\":{\"line\":{\"color\":\"#E5ECF6\",\"width\":0.5},\"pattern\":{\"fillmode\":\"overlay\",\"size\":10,\"solidity\":0.2}},\"type\":\"barpolar\"}],\"carpet\":[{\"aaxis\":{\"endlinecolor\":\"#2a3f5f\",\"gridcolor\":\"white\",\"linecolor\":\"white\",\"minorgridcolor\":\"white\",\"startlinecolor\":\"#2a3f5f\"},\"baxis\":{\"endlinecolor\":\"#2a3f5f\",\"gridcolor\":\"white\",\"linecolor\":\"white\",\"minorgridcolor\":\"white\",\"startlinecolor\":\"#2a3f5f\"},\"type\":\"carpet\"}],\"choropleth\":[{\"colorbar\":{\"outlinewidth\":0,\"ticks\":\"\"},\"type\":\"choropleth\"}],\"contour\":[{\"colorbar\":{\"outlinewidth\":0,\"ticks\":\"\"},\"colorscale\":[[0.0,\"#0d0887\"],[0.1111111111111111,\"#46039f\"],[0.2222222222222222,\"#7201a8\"],[0.3333333333333333,\"#9c179e\"],[0.4444444444444444,\"#bd3786\"],[0.5555555555555556,\"#d8576b\"],[0.6666666666666666,\"#ed7953\"],[0.7777777777777778,\"#fb9f3a\"],[0.8888888888888888,\"#fdca26\"],[1.0,\"#f0f921\"]],\"type\":\"contour\"}],\"contourcarpet\":[{\"colorbar\":{\"outlinewidth\":0,\"ticks\":\"\"},\"type\":\"contourcarpet\"}],\"heatmap\":[{\"colorbar\":{\"outlinewidth\":0,\"ticks\":\"\"},\"colorscale\":[[0.0,\"#0d0887\"],[0.1111111111111111,\"#46039f\"],[0.2222222222222222,\"#7201a8\"],[0.3333333333333333,\"#9c179e\"],[0.4444444444444444,\"#bd3786\"],[0.5555555555555556,\"#d8576b\"],[0.6666666666666666,\"#ed7953\"],[0.7777777777777778,\"#fb9f3a\"],[0.8888888888888888,\"#fdca26\"],[1.0,\"#f0f921\"]],\"type\":\"heatmap\"}],\"heatmapgl\":[{\"colorbar\":{\"outlinewidth\":0,\"ticks\":\"\"},\"colorscale\":[[0.0,\"#0d0887\"],[0.1111111111111111,\"#46039f\"],[0.2222222222222222,\"#7201a8\"],[0.3333333333333333,\"#9c179e\"],[0.4444444444444444,\"#bd3786\"],[0.5555555555555556,\"#d8576b\"],[0.6666666666666666,\"#ed7953\"],[0.7777777777777778,\"#fb9f3a\"],[0.8888888888888888,\"#fdca26\"],[1.0,\"#f0f921\"]],\"type\":\"heatmapgl\"}],\"histogram\":[{\"marker\":{\"pattern\":{\"fillmode\":\"overlay\",\"size\":10,\"solidity\":0.2}},\"type\":\"histogram\"}],\"histogram2d\":[{\"colorbar\":{\"outlinewidth\":0,\"ticks\":\"\"},\"colorscale\":[[0.0,\"#0d0887\"],[0.1111111111111111,\"#46039f\"],[0.2222222222222222,\"#7201a8\"],[0.3333333333333333,\"#9c179e\"],[0.4444444444444444,\"#bd3786\"],[0.5555555555555556,\"#d8576b\"],[0.6666666666666666,\"#ed7953\"],[0.7777777777777778,\"#fb9f3a\"],[0.8888888888888888,\"#fdca26\"],[1.0,\"#f0f921\"]],\"type\":\"histogram2d\"}],\"histogram2dcontour\":[{\"colorbar\":{\"outlinewidth\":0,\"ticks\":\"\"},\"colorscale\":[[0.0,\"#0d0887\"],[0.1111111111111111,\"#46039f\"],[0.2222222222222222,\"#7201a8\"],[0.3333333333333333,\"#9c179e\"],[0.4444444444444444,\"#bd3786\"],[0.5555555555555556,\"#d8576b\"],[0.6666666666666666,\"#ed7953\"],[0.7777777777777778,\"#fb9f3a\"],[0.8888888888888888,\"#fdca26\"],[1.0,\"#f0f921\"]],\"type\":\"histogram2dcontour\"}],\"mesh3d\":[{\"colorbar\":{\"outlinewidth\":0,\"ticks\":\"\"},\"type\":\"mesh3d\"}],\"parcoords\":[{\"line\":{\"colorbar\":{\"outlinewidth\":0,\"ticks\":\"\"}},\"type\":\"parcoords\"}],\"pie\":[{\"automargin\":true,\"type\":\"pie\"}],\"scatter\":[{\"marker\":{\"colorbar\":{\"outlinewidth\":0,\"ticks\":\"\"}},\"type\":\"scatter\"}],\"scatter3d\":[{\"line\":{\"colorbar\":{\"outlinewidth\":0,\"ticks\":\"\"}},\"marker\":{\"colorbar\":{\"outlinewidth\":0,\"ticks\":\"\"}},\"type\":\"scatter3d\"}],\"scattercarpet\":[{\"marker\":{\"colorbar\":{\"outlinewidth\":0,\"ticks\":\"\"}},\"type\":\"scattercarpet\"}],\"scattergeo\":[{\"marker\":{\"colorbar\":{\"outlinewidth\":0,\"ticks\":\"\"}},\"type\":\"scattergeo\"}],\"scattergl\":[{\"marker\":{\"colorbar\":{\"outlinewidth\":0,\"ticks\":\"\"}},\"type\":\"scattergl\"}],\"scattermapbox\":[{\"marker\":{\"colorbar\":{\"outlinewidth\":0,\"ticks\":\"\"}},\"type\":\"scattermapbox\"}],\"scatterpolar\":[{\"marker\":{\"colorbar\":{\"outlinewidth\":0,\"ticks\":\"\"}},\"type\":\"scatterpolar\"}],\"scatterpolargl\":[{\"marker\":{\"colorbar\":{\"outlinewidth\":0,\"ticks\":\"\"}},\"type\":\"scatterpolargl\"}],\"scatterternary\":[{\"marker\":{\"colorbar\":{\"outlinewidth\":0,\"ticks\":\"\"}},\"type\":\"scatterternary\"}],\"surface\":[{\"colorbar\":{\"outlinewidth\":0,\"ticks\":\"\"},\"colorscale\":[[0.0,\"#0d0887\"],[0.1111111111111111,\"#46039f\"],[0.2222222222222222,\"#7201a8\"],[0.3333333333333333,\"#9c179e\"],[0.4444444444444444,\"#bd3786\"],[0.5555555555555556,\"#d8576b\"],[0.6666666666666666,\"#ed7953\"],[0.7777777777777778,\"#fb9f3a\"],[0.8888888888888888,\"#fdca26\"],[1.0,\"#f0f921\"]],\"type\":\"surface\"}],\"table\":[{\"cells\":{\"fill\":{\"color\":\"#EBF0F8\"},\"line\":{\"color\":\"white\"}},\"header\":{\"fill\":{\"color\":\"#C8D4E3\"},\"line\":{\"color\":\"white\"}},\"type\":\"table\"}]},\"layout\":{\"annotationdefaults\":{\"arrowcolor\":\"#2a3f5f\",\"arrowhead\":0,\"arrowwidth\":1},\"autotypenumbers\":\"strict\",\"coloraxis\":{\"colorbar\":{\"outlinewidth\":0,\"ticks\":\"\"}},\"colorscale\":{\"diverging\":[[0,\"#8e0152\"],[0.1,\"#c51b7d\"],[0.2,\"#de77ae\"],[0.3,\"#f1b6da\"],[0.4,\"#fde0ef\"],[0.5,\"#f7f7f7\"],[0.6,\"#e6f5d0\"],[0.7,\"#b8e186\"],[0.8,\"#7fbc41\"],[0.9,\"#4d9221\"],[1,\"#276419\"]],\"sequential\":[[0.0,\"#0d0887\"],[0.1111111111111111,\"#46039f\"],[0.2222222222222222,\"#7201a8\"],[0.3333333333333333,\"#9c179e\"],[0.4444444444444444,\"#bd3786\"],[0.5555555555555556,\"#d8576b\"],[0.6666666666666666,\"#ed7953\"],[0.7777777777777778,\"#fb9f3a\"],[0.8888888888888888,\"#fdca26\"],[1.0,\"#f0f921\"]],\"sequentialminus\":[[0.0,\"#0d0887\"],[0.1111111111111111,\"#46039f\"],[0.2222222222222222,\"#7201a8\"],[0.3333333333333333,\"#9c179e\"],[0.4444444444444444,\"#bd3786\"],[0.5555555555555556,\"#d8576b\"],[0.6666666666666666,\"#ed7953\"],[0.7777777777777778,\"#fb9f3a\"],[0.8888888888888888,\"#fdca26\"],[1.0,\"#f0f921\"]]},\"colorway\":[\"#636efa\",\"#EF553B\",\"#00cc96\",\"#ab63fa\",\"#FFA15A\",\"#19d3f3\",\"#FF6692\",\"#B6E880\",\"#FF97FF\",\"#FECB52\"],\"font\":{\"color\":\"#2a3f5f\"},\"geo\":{\"bgcolor\":\"white\",\"lakecolor\":\"white\",\"landcolor\":\"#E5ECF6\",\"showlakes\":true,\"showland\":true,\"subunitcolor\":\"white\"},\"hoverlabel\":{\"align\":\"left\"},\"hovermode\":\"closest\",\"mapbox\":{\"style\":\"light\"},\"paper_bgcolor\":\"white\",\"plot_bgcolor\":\"#E5ECF6\",\"polar\":{\"angularaxis\":{\"gridcolor\":\"white\",\"linecolor\":\"white\",\"ticks\":\"\"},\"bgcolor\":\"#E5ECF6\",\"radialaxis\":{\"gridcolor\":\"white\",\"linecolor\":\"white\",\"ticks\":\"\"}},\"scene\":{\"xaxis\":{\"backgroundcolor\":\"#E5ECF6\",\"gridcolor\":\"white\",\"gridwidth\":2,\"linecolor\":\"white\",\"showbackground\":true,\"ticks\":\"\",\"zerolinecolor\":\"white\"},\"yaxis\":{\"backgroundcolor\":\"#E5ECF6\",\"gridcolor\":\"white\",\"gridwidth\":2,\"linecolor\":\"white\",\"showbackground\":true,\"ticks\":\"\",\"zerolinecolor\":\"white\"},\"zaxis\":{\"backgroundcolor\":\"#E5ECF6\",\"gridcolor\":\"white\",\"gridwidth\":2,\"linecolor\":\"white\",\"showbackground\":true,\"ticks\":\"\",\"zerolinecolor\":\"white\"}},\"shapedefaults\":{\"line\":{\"color\":\"#2a3f5f\"}},\"ternary\":{\"aaxis\":{\"gridcolor\":\"white\",\"linecolor\":\"white\",\"ticks\":\"\"},\"baxis\":{\"gridcolor\":\"white\",\"linecolor\":\"white\",\"ticks\":\"\"},\"bgcolor\":\"#E5ECF6\",\"caxis\":{\"gridcolor\":\"white\",\"linecolor\":\"white\",\"ticks\":\"\"}},\"title\":{\"x\":0.05},\"xaxis\":{\"automargin\":true,\"gridcolor\":\"white\",\"linecolor\":\"white\",\"ticks\":\"\",\"title\":{\"standoff\":15},\"zerolinecolor\":\"white\",\"zerolinewidth\":2},\"yaxis\":{\"automargin\":true,\"gridcolor\":\"white\",\"linecolor\":\"white\",\"ticks\":\"\",\"title\":{\"standoff\":15},\"zerolinecolor\":\"white\",\"zerolinewidth\":2}}},\"xaxis\":{\"anchor\":\"y\",\"domain\":[0.0,1.0],\"title\":{\"text\":\"type\"}},\"yaxis\":{\"anchor\":\"x\",\"domain\":[0.0,1.0],\"title\":{\"text\":\"users/day\"}},\"legend\":{\"title\":{\"text\":\"workingday\"},\"tracegroupgap\":0},\"margin\":{\"t\":60},\"barmode\":\"group\",\"width\":800,\"title\":{\"text\":\"user type vs workingday vs user/day\",\"x\":0.5,\"xanchor\":\"center\",\"yanchor\":\"middle\"}},                        {\"responsive\": true}                    ).then(function(){\n",
              "                            \n",
              "var gd = document.getElementById('834b8c89-93e2-4596-898c-0fb2ee3088e5');\n",
              "var x = new MutationObserver(function (mutations, observer) {{\n",
              "        var display = window.getComputedStyle(gd).display;\n",
              "        if (!display || display === 'none') {{\n",
              "            console.log([gd, 'removed!']);\n",
              "            Plotly.purge(gd);\n",
              "            observer.disconnect();\n",
              "        }}\n",
              "}});\n",
              "\n",
              "// Listen for the removal of the full notebook cells\n",
              "var notebookContainer = gd.closest('#notebook-container');\n",
              "if (notebookContainer) {{\n",
              "    x.observe(notebookContainer, {childList: true});\n",
              "}}\n",
              "\n",
              "// Listen for the clearing of the current output cell\n",
              "var outputEl = gd.closest('.output');\n",
              "if (outputEl) {{\n",
              "    x.observe(outputEl, {childList: true});\n",
              "}}\n",
              "\n",
              "                        })                };                            </script>        </div>\n",
              "</body>\n",
              "</html>"
            ]
          },
          "metadata": {},
          "output_type": "display_data"
        }
      ],
      "metadata": {
        "execution": {
          "iopub.status.busy": "2021-11-10T01:41:35.537558Z",
          "iopub.execute_input": "2021-11-10T01:41:35.537864Z",
          "iopub.status.idle": "2021-11-10T01:41:35.62827Z",
          "shell.execute_reply.started": "2021-11-10T01:41:35.53781Z",
          "shell.execute_reply": "2021-11-10T01:41:35.627727Z"
        },
        "jupyter": {
          "source_hidden": true
        },
        "trusted": true,
        "colab": {
          "base_uri": "https://localhost:8080/",
          "height": 542
        },
        "id": "k9PgXgHsmX_U",
        "cellView": "form",
        "outputId": "8feca2f8-482d-494a-9a48-9eacfb4960b6"
      }
    },
    {
      "cell_type": "markdown",
      "source": [
        "##1.2 Dia da semana\n",
        "\n",
        "Ao entrarmos no detalhe do dia da semana, temos um comportamento bem similar ao análise em dia de descanso vs dia de trabalho: na média, os números são similares, e comparando tipos de usuário, o registrado prefere os dias de semana, e os casuais os fim de semana."
      ],
      "metadata": {
        "id": "UzkUM9aBDL09"
      }
    },
    {
      "cell_type": "code",
      "execution_count": 6,
      "source": [
        "#@title\r\n",
        "\r\n",
        "grouped_data = df[['weekday', 'cnt']].groupby(['weekday'])['cnt'].agg([np.sum,\"count\"]).reset_index()\r\n",
        "grouped_data['user/day'] = grouped_data.apply(lambda x : float(\"{:.2f}\".format(x['sum']/x['count'])),axis=1)\r\n",
        "fig = px.bar(grouped_data, x='weekday', y='user/day', color = 'weekday', text = 'user/day', width=800)\r\n",
        "fig.update_layout(\r\n",
        "    title={\r\n",
        "        'text': \"weekday vs user/day\",\r\n",
        "        'x':0.5,\r\n",
        "        'xanchor': 'center',\r\n",
        "        'yanchor': 'middle'})\r\n",
        "fig.show()\r\n"
      ],
      "outputs": [
        {
          "data": {
            "text/html": [
              "<html>\n",
              "<head><meta charset=\"utf-8\" /></head>\n",
              "<body>\n",
              "    <div>            <script src=\"https://cdnjs.cloudflare.com/ajax/libs/mathjax/2.7.5/MathJax.js?config=TeX-AMS-MML_SVG\"></script><script type=\"text/javascript\">if (window.MathJax) {MathJax.Hub.Config({SVG: {font: \"STIX-Web\"}});}</script>                <script type=\"text/javascript\">window.PlotlyConfig = {MathJaxConfig: 'local'};</script>\n",
              "        <script src=\"https://cdn.plot.ly/plotly-2.6.3.min.js\"></script>                <div id=\"3ca672f5-034e-4b1f-8cb5-ef722b33ce03\" class=\"plotly-graph-div\" style=\"height:525px; width:800px;\"></div>            <script type=\"text/javascript\">                                    window.PLOTLYENV=window.PLOTLYENV || {};                                    if (document.getElementById(\"3ca672f5-034e-4b1f-8cb5-ef722b33ce03\")) {                    Plotly.newPlot(                        \"3ca672f5-034e-4b1f-8cb5-ef722b33ce03\",                        [{\"alignmentgroup\":\"True\",\"hovertemplate\":\"weekday=%{x}<br>user/day=%{text}<extra></extra>\",\"legendgroup\":\"0_sunday\",\"marker\":{\"color\":\"#636efa\",\"pattern\":{\"shape\":\"\"}},\"name\":\"0_sunday\",\"offsetgroup\":\"0_sunday\",\"orientation\":\"v\",\"showlegend\":true,\"text\":[4228.83],\"textposition\":\"auto\",\"x\":[\"0_sunday\"],\"xaxis\":\"x\",\"y\":[4228.83],\"yaxis\":\"y\",\"type\":\"bar\"},{\"alignmentgroup\":\"True\",\"hovertemplate\":\"weekday=%{x}<br>user/day=%{text}<extra></extra>\",\"legendgroup\":\"1_monday\",\"marker\":{\"color\":\"#EF553B\",\"pattern\":{\"shape\":\"\"}},\"name\":\"1_monday\",\"offsetgroup\":\"1_monday\",\"orientation\":\"v\",\"showlegend\":true,\"text\":[4338.12],\"textposition\":\"auto\",\"x\":[\"1_monday\"],\"xaxis\":\"x\",\"y\":[4338.12],\"yaxis\":\"y\",\"type\":\"bar\"},{\"alignmentgroup\":\"True\",\"hovertemplate\":\"weekday=%{x}<br>user/day=%{text}<extra></extra>\",\"legendgroup\":\"2_tuesday\",\"marker\":{\"color\":\"#00cc96\",\"pattern\":{\"shape\":\"\"}},\"name\":\"2_tuesday\",\"offsetgroup\":\"2_tuesday\",\"orientation\":\"v\",\"showlegend\":true,\"text\":[4510.66],\"textposition\":\"auto\",\"x\":[\"2_tuesday\"],\"xaxis\":\"x\",\"y\":[4510.66],\"yaxis\":\"y\",\"type\":\"bar\"},{\"alignmentgroup\":\"True\",\"hovertemplate\":\"weekday=%{x}<br>user/day=%{text}<extra></extra>\",\"legendgroup\":\"3_wednesday\",\"marker\":{\"color\":\"#ab63fa\",\"pattern\":{\"shape\":\"\"}},\"name\":\"3_wednesday\",\"offsetgroup\":\"3_wednesday\",\"orientation\":\"v\",\"showlegend\":true,\"text\":[4548.54],\"textposition\":\"auto\",\"x\":[\"3_wednesday\"],\"xaxis\":\"x\",\"y\":[4548.54],\"yaxis\":\"y\",\"type\":\"bar\"},{\"alignmentgroup\":\"True\",\"hovertemplate\":\"weekday=%{x}<br>user/day=%{text}<extra></extra>\",\"legendgroup\":\"4_thursday\",\"marker\":{\"color\":\"#FFA15A\",\"pattern\":{\"shape\":\"\"}},\"name\":\"4_thursday\",\"offsetgroup\":\"4_thursday\",\"orientation\":\"v\",\"showlegend\":true,\"text\":[4667.26],\"textposition\":\"auto\",\"x\":[\"4_thursday\"],\"xaxis\":\"x\",\"y\":[4667.26],\"yaxis\":\"y\",\"type\":\"bar\"},{\"alignmentgroup\":\"True\",\"hovertemplate\":\"weekday=%{x}<br>user/day=%{text}<extra></extra>\",\"legendgroup\":\"5_friday\",\"marker\":{\"color\":\"#19d3f3\",\"pattern\":{\"shape\":\"\"}},\"name\":\"5_friday\",\"offsetgroup\":\"5_friday\",\"orientation\":\"v\",\"showlegend\":true,\"text\":[4690.29],\"textposition\":\"auto\",\"x\":[\"5_friday\"],\"xaxis\":\"x\",\"y\":[4690.29],\"yaxis\":\"y\",\"type\":\"bar\"},{\"alignmentgroup\":\"True\",\"hovertemplate\":\"weekday=%{x}<br>user/day=%{text}<extra></extra>\",\"legendgroup\":\"6_saturday\",\"marker\":{\"color\":\"#FF6692\",\"pattern\":{\"shape\":\"\"}},\"name\":\"6_saturday\",\"offsetgroup\":\"6_saturday\",\"orientation\":\"v\",\"showlegend\":true,\"text\":[4550.54],\"textposition\":\"auto\",\"x\":[\"6_saturday\"],\"xaxis\":\"x\",\"y\":[4550.54],\"yaxis\":\"y\",\"type\":\"bar\"}],                        {\"template\":{\"data\":{\"bar\":[{\"error_x\":{\"color\":\"#2a3f5f\"},\"error_y\":{\"color\":\"#2a3f5f\"},\"marker\":{\"line\":{\"color\":\"#E5ECF6\",\"width\":0.5},\"pattern\":{\"fillmode\":\"overlay\",\"size\":10,\"solidity\":0.2}},\"type\":\"bar\"}],\"barpolar\":[{\"marker\":{\"line\":{\"color\":\"#E5ECF6\",\"width\":0.5},\"pattern\":{\"fillmode\":\"overlay\",\"size\":10,\"solidity\":0.2}},\"type\":\"barpolar\"}],\"carpet\":[{\"aaxis\":{\"endlinecolor\":\"#2a3f5f\",\"gridcolor\":\"white\",\"linecolor\":\"white\",\"minorgridcolor\":\"white\",\"startlinecolor\":\"#2a3f5f\"},\"baxis\":{\"endlinecolor\":\"#2a3f5f\",\"gridcolor\":\"white\",\"linecolor\":\"white\",\"minorgridcolor\":\"white\",\"startlinecolor\":\"#2a3f5f\"},\"type\":\"carpet\"}],\"choropleth\":[{\"colorbar\":{\"outlinewidth\":0,\"ticks\":\"\"},\"type\":\"choropleth\"}],\"contour\":[{\"colorbar\":{\"outlinewidth\":0,\"ticks\":\"\"},\"colorscale\":[[0.0,\"#0d0887\"],[0.1111111111111111,\"#46039f\"],[0.2222222222222222,\"#7201a8\"],[0.3333333333333333,\"#9c179e\"],[0.4444444444444444,\"#bd3786\"],[0.5555555555555556,\"#d8576b\"],[0.6666666666666666,\"#ed7953\"],[0.7777777777777778,\"#fb9f3a\"],[0.8888888888888888,\"#fdca26\"],[1.0,\"#f0f921\"]],\"type\":\"contour\"}],\"contourcarpet\":[{\"colorbar\":{\"outlinewidth\":0,\"ticks\":\"\"},\"type\":\"contourcarpet\"}],\"heatmap\":[{\"colorbar\":{\"outlinewidth\":0,\"ticks\":\"\"},\"colorscale\":[[0.0,\"#0d0887\"],[0.1111111111111111,\"#46039f\"],[0.2222222222222222,\"#7201a8\"],[0.3333333333333333,\"#9c179e\"],[0.4444444444444444,\"#bd3786\"],[0.5555555555555556,\"#d8576b\"],[0.6666666666666666,\"#ed7953\"],[0.7777777777777778,\"#fb9f3a\"],[0.8888888888888888,\"#fdca26\"],[1.0,\"#f0f921\"]],\"type\":\"heatmap\"}],\"heatmapgl\":[{\"colorbar\":{\"outlinewidth\":0,\"ticks\":\"\"},\"colorscale\":[[0.0,\"#0d0887\"],[0.1111111111111111,\"#46039f\"],[0.2222222222222222,\"#7201a8\"],[0.3333333333333333,\"#9c179e\"],[0.4444444444444444,\"#bd3786\"],[0.5555555555555556,\"#d8576b\"],[0.6666666666666666,\"#ed7953\"],[0.7777777777777778,\"#fb9f3a\"],[0.8888888888888888,\"#fdca26\"],[1.0,\"#f0f921\"]],\"type\":\"heatmapgl\"}],\"histogram\":[{\"marker\":{\"pattern\":{\"fillmode\":\"overlay\",\"size\":10,\"solidity\":0.2}},\"type\":\"histogram\"}],\"histogram2d\":[{\"colorbar\":{\"outlinewidth\":0,\"ticks\":\"\"},\"colorscale\":[[0.0,\"#0d0887\"],[0.1111111111111111,\"#46039f\"],[0.2222222222222222,\"#7201a8\"],[0.3333333333333333,\"#9c179e\"],[0.4444444444444444,\"#bd3786\"],[0.5555555555555556,\"#d8576b\"],[0.6666666666666666,\"#ed7953\"],[0.7777777777777778,\"#fb9f3a\"],[0.8888888888888888,\"#fdca26\"],[1.0,\"#f0f921\"]],\"type\":\"histogram2d\"}],\"histogram2dcontour\":[{\"colorbar\":{\"outlinewidth\":0,\"ticks\":\"\"},\"colorscale\":[[0.0,\"#0d0887\"],[0.1111111111111111,\"#46039f\"],[0.2222222222222222,\"#7201a8\"],[0.3333333333333333,\"#9c179e\"],[0.4444444444444444,\"#bd3786\"],[0.5555555555555556,\"#d8576b\"],[0.6666666666666666,\"#ed7953\"],[0.7777777777777778,\"#fb9f3a\"],[0.8888888888888888,\"#fdca26\"],[1.0,\"#f0f921\"]],\"type\":\"histogram2dcontour\"}],\"mesh3d\":[{\"colorbar\":{\"outlinewidth\":0,\"ticks\":\"\"},\"type\":\"mesh3d\"}],\"parcoords\":[{\"line\":{\"colorbar\":{\"outlinewidth\":0,\"ticks\":\"\"}},\"type\":\"parcoords\"}],\"pie\":[{\"automargin\":true,\"type\":\"pie\"}],\"scatter\":[{\"marker\":{\"colorbar\":{\"outlinewidth\":0,\"ticks\":\"\"}},\"type\":\"scatter\"}],\"scatter3d\":[{\"line\":{\"colorbar\":{\"outlinewidth\":0,\"ticks\":\"\"}},\"marker\":{\"colorbar\":{\"outlinewidth\":0,\"ticks\":\"\"}},\"type\":\"scatter3d\"}],\"scattercarpet\":[{\"marker\":{\"colorbar\":{\"outlinewidth\":0,\"ticks\":\"\"}},\"type\":\"scattercarpet\"}],\"scattergeo\":[{\"marker\":{\"colorbar\":{\"outlinewidth\":0,\"ticks\":\"\"}},\"type\":\"scattergeo\"}],\"scattergl\":[{\"marker\":{\"colorbar\":{\"outlinewidth\":0,\"ticks\":\"\"}},\"type\":\"scattergl\"}],\"scattermapbox\":[{\"marker\":{\"colorbar\":{\"outlinewidth\":0,\"ticks\":\"\"}},\"type\":\"scattermapbox\"}],\"scatterpolar\":[{\"marker\":{\"colorbar\":{\"outlinewidth\":0,\"ticks\":\"\"}},\"type\":\"scatterpolar\"}],\"scatterpolargl\":[{\"marker\":{\"colorbar\":{\"outlinewidth\":0,\"ticks\":\"\"}},\"type\":\"scatterpolargl\"}],\"scatterternary\":[{\"marker\":{\"colorbar\":{\"outlinewidth\":0,\"ticks\":\"\"}},\"type\":\"scatterternary\"}],\"surface\":[{\"colorbar\":{\"outlinewidth\":0,\"ticks\":\"\"},\"colorscale\":[[0.0,\"#0d0887\"],[0.1111111111111111,\"#46039f\"],[0.2222222222222222,\"#7201a8\"],[0.3333333333333333,\"#9c179e\"],[0.4444444444444444,\"#bd3786\"],[0.5555555555555556,\"#d8576b\"],[0.6666666666666666,\"#ed7953\"],[0.7777777777777778,\"#fb9f3a\"],[0.8888888888888888,\"#fdca26\"],[1.0,\"#f0f921\"]],\"type\":\"surface\"}],\"table\":[{\"cells\":{\"fill\":{\"color\":\"#EBF0F8\"},\"line\":{\"color\":\"white\"}},\"header\":{\"fill\":{\"color\":\"#C8D4E3\"},\"line\":{\"color\":\"white\"}},\"type\":\"table\"}]},\"layout\":{\"annotationdefaults\":{\"arrowcolor\":\"#2a3f5f\",\"arrowhead\":0,\"arrowwidth\":1},\"autotypenumbers\":\"strict\",\"coloraxis\":{\"colorbar\":{\"outlinewidth\":0,\"ticks\":\"\"}},\"colorscale\":{\"diverging\":[[0,\"#8e0152\"],[0.1,\"#c51b7d\"],[0.2,\"#de77ae\"],[0.3,\"#f1b6da\"],[0.4,\"#fde0ef\"],[0.5,\"#f7f7f7\"],[0.6,\"#e6f5d0\"],[0.7,\"#b8e186\"],[0.8,\"#7fbc41\"],[0.9,\"#4d9221\"],[1,\"#276419\"]],\"sequential\":[[0.0,\"#0d0887\"],[0.1111111111111111,\"#46039f\"],[0.2222222222222222,\"#7201a8\"],[0.3333333333333333,\"#9c179e\"],[0.4444444444444444,\"#bd3786\"],[0.5555555555555556,\"#d8576b\"],[0.6666666666666666,\"#ed7953\"],[0.7777777777777778,\"#fb9f3a\"],[0.8888888888888888,\"#fdca26\"],[1.0,\"#f0f921\"]],\"sequentialminus\":[[0.0,\"#0d0887\"],[0.1111111111111111,\"#46039f\"],[0.2222222222222222,\"#7201a8\"],[0.3333333333333333,\"#9c179e\"],[0.4444444444444444,\"#bd3786\"],[0.5555555555555556,\"#d8576b\"],[0.6666666666666666,\"#ed7953\"],[0.7777777777777778,\"#fb9f3a\"],[0.8888888888888888,\"#fdca26\"],[1.0,\"#f0f921\"]]},\"colorway\":[\"#636efa\",\"#EF553B\",\"#00cc96\",\"#ab63fa\",\"#FFA15A\",\"#19d3f3\",\"#FF6692\",\"#B6E880\",\"#FF97FF\",\"#FECB52\"],\"font\":{\"color\":\"#2a3f5f\"},\"geo\":{\"bgcolor\":\"white\",\"lakecolor\":\"white\",\"landcolor\":\"#E5ECF6\",\"showlakes\":true,\"showland\":true,\"subunitcolor\":\"white\"},\"hoverlabel\":{\"align\":\"left\"},\"hovermode\":\"closest\",\"mapbox\":{\"style\":\"light\"},\"paper_bgcolor\":\"white\",\"plot_bgcolor\":\"#E5ECF6\",\"polar\":{\"angularaxis\":{\"gridcolor\":\"white\",\"linecolor\":\"white\",\"ticks\":\"\"},\"bgcolor\":\"#E5ECF6\",\"radialaxis\":{\"gridcolor\":\"white\",\"linecolor\":\"white\",\"ticks\":\"\"}},\"scene\":{\"xaxis\":{\"backgroundcolor\":\"#E5ECF6\",\"gridcolor\":\"white\",\"gridwidth\":2,\"linecolor\":\"white\",\"showbackground\":true,\"ticks\":\"\",\"zerolinecolor\":\"white\"},\"yaxis\":{\"backgroundcolor\":\"#E5ECF6\",\"gridcolor\":\"white\",\"gridwidth\":2,\"linecolor\":\"white\",\"showbackground\":true,\"ticks\":\"\",\"zerolinecolor\":\"white\"},\"zaxis\":{\"backgroundcolor\":\"#E5ECF6\",\"gridcolor\":\"white\",\"gridwidth\":2,\"linecolor\":\"white\",\"showbackground\":true,\"ticks\":\"\",\"zerolinecolor\":\"white\"}},\"shapedefaults\":{\"line\":{\"color\":\"#2a3f5f\"}},\"ternary\":{\"aaxis\":{\"gridcolor\":\"white\",\"linecolor\":\"white\",\"ticks\":\"\"},\"baxis\":{\"gridcolor\":\"white\",\"linecolor\":\"white\",\"ticks\":\"\"},\"bgcolor\":\"#E5ECF6\",\"caxis\":{\"gridcolor\":\"white\",\"linecolor\":\"white\",\"ticks\":\"\"}},\"title\":{\"x\":0.05},\"xaxis\":{\"automargin\":true,\"gridcolor\":\"white\",\"linecolor\":\"white\",\"ticks\":\"\",\"title\":{\"standoff\":15},\"zerolinecolor\":\"white\",\"zerolinewidth\":2},\"yaxis\":{\"automargin\":true,\"gridcolor\":\"white\",\"linecolor\":\"white\",\"ticks\":\"\",\"title\":{\"standoff\":15},\"zerolinecolor\":\"white\",\"zerolinewidth\":2}}},\"xaxis\":{\"anchor\":\"y\",\"domain\":[0.0,1.0],\"title\":{\"text\":\"weekday\"},\"categoryorder\":\"array\",\"categoryarray\":[\"0_sunday\",\"1_monday\",\"2_tuesday\",\"3_wednesday\",\"4_thursday\",\"5_friday\",\"6_saturday\"]},\"yaxis\":{\"anchor\":\"x\",\"domain\":[0.0,1.0],\"title\":{\"text\":\"user/day\"}},\"legend\":{\"title\":{\"text\":\"weekday\"},\"tracegroupgap\":0},\"margin\":{\"t\":60},\"barmode\":\"relative\",\"width\":800,\"title\":{\"text\":\"weekday vs user/day\",\"x\":0.5,\"xanchor\":\"center\",\"yanchor\":\"middle\"}},                        {\"responsive\": true}                    ).then(function(){\n",
              "                            \n",
              "var gd = document.getElementById('3ca672f5-034e-4b1f-8cb5-ef722b33ce03');\n",
              "var x = new MutationObserver(function (mutations, observer) {{\n",
              "        var display = window.getComputedStyle(gd).display;\n",
              "        if (!display || display === 'none') {{\n",
              "            console.log([gd, 'removed!']);\n",
              "            Plotly.purge(gd);\n",
              "            observer.disconnect();\n",
              "        }}\n",
              "}});\n",
              "\n",
              "// Listen for the removal of the full notebook cells\n",
              "var notebookContainer = gd.closest('#notebook-container');\n",
              "if (notebookContainer) {{\n",
              "    x.observe(notebookContainer, {childList: true});\n",
              "}}\n",
              "\n",
              "// Listen for the clearing of the current output cell\n",
              "var outputEl = gd.closest('.output');\n",
              "if (outputEl) {{\n",
              "    x.observe(outputEl, {childList: true});\n",
              "}}\n",
              "\n",
              "                        })                };                            </script>        </div>\n",
              "</body>\n",
              "</html>"
            ]
          },
          "metadata": {},
          "output_type": "display_data"
        }
      ],
      "metadata": {
        "colab": {
          "base_uri": "https://localhost:8080/",
          "height": 542
        },
        "cellView": "form",
        "id": "Ofmhus9ZDNHC",
        "outputId": "a3c10566-d0a5-4cf0-e418-b653b42b24c0"
      }
    },
    {
      "cell_type": "code",
      "execution_count": 7,
      "source": [
        "#@title\r\n",
        "main_var = 'weekday'\r\n",
        "grouped_data = df[[main_var, 'casual','registered']].groupby([main_var])[['casual','registered']].agg([np.sum,\"count\"])\r\n",
        "grouped_data = grouped_data.stack(0).reset_index().rename(columns={'level_1': 'type'})\r\n",
        "grouped_data['users/day'] = grouped_data.apply(lambda x : float(\"{:.2f}\".format(x['sum']/x['count'])),axis=1)\r\n",
        "fig = px.bar(grouped_data, x='type', y='users/day', color = 'weekday', text = 'users/day', width=800, barmode='group')\r\n",
        "fig.update_layout(\r\n",
        "    title={\r\n",
        "        'text': \"user type vs weekday vs user/day\",\r\n",
        "        'x':0.5,\r\n",
        "        'xanchor': 'center',\r\n",
        "        'yanchor': 'middle'})\r\n",
        "fig.show()"
      ],
      "outputs": [
        {
          "data": {
            "text/html": [
              "<html>\n",
              "<head><meta charset=\"utf-8\" /></head>\n",
              "<body>\n",
              "    <div>            <script src=\"https://cdnjs.cloudflare.com/ajax/libs/mathjax/2.7.5/MathJax.js?config=TeX-AMS-MML_SVG\"></script><script type=\"text/javascript\">if (window.MathJax) {MathJax.Hub.Config({SVG: {font: \"STIX-Web\"}});}</script>                <script type=\"text/javascript\">window.PlotlyConfig = {MathJaxConfig: 'local'};</script>\n",
              "        <script src=\"https://cdn.plot.ly/plotly-2.6.3.min.js\"></script>                <div id=\"6987f128-29ca-4400-a75a-009dbdaa15e6\" class=\"plotly-graph-div\" style=\"height:525px; width:800px;\"></div>            <script type=\"text/javascript\">                                    window.PLOTLYENV=window.PLOTLYENV || {};                                    if (document.getElementById(\"6987f128-29ca-4400-a75a-009dbdaa15e6\")) {                    Plotly.newPlot(                        \"6987f128-29ca-4400-a75a-009dbdaa15e6\",                        [{\"alignmentgroup\":\"True\",\"hovertemplate\":\"weekday=0_sunday<br>type=%{x}<br>users/day=%{text}<extra></extra>\",\"legendgroup\":\"0_sunday\",\"marker\":{\"color\":\"#636efa\",\"pattern\":{\"shape\":\"\"}},\"name\":\"0_sunday\",\"offsetgroup\":\"0_sunday\",\"orientation\":\"v\",\"showlegend\":true,\"text\":[1338.3,2890.53],\"textposition\":\"auto\",\"x\":[\"casual\",\"registered\"],\"xaxis\":\"x\",\"y\":[1338.3,2890.53],\"yaxis\":\"y\",\"type\":\"bar\"},{\"alignmentgroup\":\"True\",\"hovertemplate\":\"weekday=1_monday<br>type=%{x}<br>users/day=%{text}<extra></extra>\",\"legendgroup\":\"1_monday\",\"marker\":{\"color\":\"#EF553B\",\"pattern\":{\"shape\":\"\"}},\"name\":\"1_monday\",\"offsetgroup\":\"1_monday\",\"orientation\":\"v\",\"showlegend\":true,\"text\":[674.13,3663.99],\"textposition\":\"auto\",\"x\":[\"casual\",\"registered\"],\"xaxis\":\"x\",\"y\":[674.13,3663.99],\"yaxis\":\"y\",\"type\":\"bar\"},{\"alignmentgroup\":\"True\",\"hovertemplate\":\"weekday=2_tuesday<br>type=%{x}<br>users/day=%{text}<extra></extra>\",\"legendgroup\":\"2_tuesday\",\"marker\":{\"color\":\"#00cc96\",\"pattern\":{\"shape\":\"\"}},\"name\":\"2_tuesday\",\"offsetgroup\":\"2_tuesday\",\"orientation\":\"v\",\"showlegend\":true,\"text\":[556.18,3954.48],\"textposition\":\"auto\",\"x\":[\"casual\",\"registered\"],\"xaxis\":\"x\",\"y\":[556.18,3954.48],\"yaxis\":\"y\",\"type\":\"bar\"},{\"alignmentgroup\":\"True\",\"hovertemplate\":\"weekday=3_wednesday<br>type=%{x}<br>users/day=%{text}<extra></extra>\",\"legendgroup\":\"3_wednesday\",\"marker\":{\"color\":\"#ab63fa\",\"pattern\":{\"shape\":\"\"}},\"name\":\"3_wednesday\",\"offsetgroup\":\"3_wednesday\",\"orientation\":\"v\",\"showlegend\":true,\"text\":[551.14,3997.39],\"textposition\":\"auto\",\"x\":[\"casual\",\"registered\"],\"xaxis\":\"x\",\"y\":[551.14,3997.39],\"yaxis\":\"y\",\"type\":\"bar\"},{\"alignmentgroup\":\"True\",\"hovertemplate\":\"weekday=4_thursday<br>type=%{x}<br>users/day=%{text}<extra></extra>\",\"legendgroup\":\"4_thursday\",\"marker\":{\"color\":\"#FFA15A\",\"pattern\":{\"shape\":\"\"}},\"name\":\"4_thursday\",\"offsetgroup\":\"4_thursday\",\"orientation\":\"v\",\"showlegend\":true,\"text\":[590.96,4076.3],\"textposition\":\"auto\",\"x\":[\"casual\",\"registered\"],\"xaxis\":\"x\",\"y\":[590.96,4076.3],\"yaxis\":\"y\",\"type\":\"bar\"},{\"alignmentgroup\":\"True\",\"hovertemplate\":\"weekday=5_friday<br>type=%{x}<br>users/day=%{text}<extra></extra>\",\"legendgroup\":\"5_friday\",\"marker\":{\"color\":\"#19d3f3\",\"pattern\":{\"shape\":\"\"}},\"name\":\"5_friday\",\"offsetgroup\":\"5_friday\",\"orientation\":\"v\",\"showlegend\":true,\"text\":[752.29,3938.0],\"textposition\":\"auto\",\"x\":[\"casual\",\"registered\"],\"xaxis\":\"x\",\"y\":[752.29,3938.0],\"yaxis\":\"y\",\"type\":\"bar\"},{\"alignmentgroup\":\"True\",\"hovertemplate\":\"weekday=6_saturday<br>type=%{x}<br>users/day=%{text}<extra></extra>\",\"legendgroup\":\"6_saturday\",\"marker\":{\"color\":\"#FF6692\",\"pattern\":{\"shape\":\"\"}},\"name\":\"6_saturday\",\"offsetgroup\":\"6_saturday\",\"orientation\":\"v\",\"showlegend\":true,\"text\":[1465.26,3085.29],\"textposition\":\"auto\",\"x\":[\"casual\",\"registered\"],\"xaxis\":\"x\",\"y\":[1465.26,3085.29],\"yaxis\":\"y\",\"type\":\"bar\"}],                        {\"template\":{\"data\":{\"bar\":[{\"error_x\":{\"color\":\"#2a3f5f\"},\"error_y\":{\"color\":\"#2a3f5f\"},\"marker\":{\"line\":{\"color\":\"#E5ECF6\",\"width\":0.5},\"pattern\":{\"fillmode\":\"overlay\",\"size\":10,\"solidity\":0.2}},\"type\":\"bar\"}],\"barpolar\":[{\"marker\":{\"line\":{\"color\":\"#E5ECF6\",\"width\":0.5},\"pattern\":{\"fillmode\":\"overlay\",\"size\":10,\"solidity\":0.2}},\"type\":\"barpolar\"}],\"carpet\":[{\"aaxis\":{\"endlinecolor\":\"#2a3f5f\",\"gridcolor\":\"white\",\"linecolor\":\"white\",\"minorgridcolor\":\"white\",\"startlinecolor\":\"#2a3f5f\"},\"baxis\":{\"endlinecolor\":\"#2a3f5f\",\"gridcolor\":\"white\",\"linecolor\":\"white\",\"minorgridcolor\":\"white\",\"startlinecolor\":\"#2a3f5f\"},\"type\":\"carpet\"}],\"choropleth\":[{\"colorbar\":{\"outlinewidth\":0,\"ticks\":\"\"},\"type\":\"choropleth\"}],\"contour\":[{\"colorbar\":{\"outlinewidth\":0,\"ticks\":\"\"},\"colorscale\":[[0.0,\"#0d0887\"],[0.1111111111111111,\"#46039f\"],[0.2222222222222222,\"#7201a8\"],[0.3333333333333333,\"#9c179e\"],[0.4444444444444444,\"#bd3786\"],[0.5555555555555556,\"#d8576b\"],[0.6666666666666666,\"#ed7953\"],[0.7777777777777778,\"#fb9f3a\"],[0.8888888888888888,\"#fdca26\"],[1.0,\"#f0f921\"]],\"type\":\"contour\"}],\"contourcarpet\":[{\"colorbar\":{\"outlinewidth\":0,\"ticks\":\"\"},\"type\":\"contourcarpet\"}],\"heatmap\":[{\"colorbar\":{\"outlinewidth\":0,\"ticks\":\"\"},\"colorscale\":[[0.0,\"#0d0887\"],[0.1111111111111111,\"#46039f\"],[0.2222222222222222,\"#7201a8\"],[0.3333333333333333,\"#9c179e\"],[0.4444444444444444,\"#bd3786\"],[0.5555555555555556,\"#d8576b\"],[0.6666666666666666,\"#ed7953\"],[0.7777777777777778,\"#fb9f3a\"],[0.8888888888888888,\"#fdca26\"],[1.0,\"#f0f921\"]],\"type\":\"heatmap\"}],\"heatmapgl\":[{\"colorbar\":{\"outlinewidth\":0,\"ticks\":\"\"},\"colorscale\":[[0.0,\"#0d0887\"],[0.1111111111111111,\"#46039f\"],[0.2222222222222222,\"#7201a8\"],[0.3333333333333333,\"#9c179e\"],[0.4444444444444444,\"#bd3786\"],[0.5555555555555556,\"#d8576b\"],[0.6666666666666666,\"#ed7953\"],[0.7777777777777778,\"#fb9f3a\"],[0.8888888888888888,\"#fdca26\"],[1.0,\"#f0f921\"]],\"type\":\"heatmapgl\"}],\"histogram\":[{\"marker\":{\"pattern\":{\"fillmode\":\"overlay\",\"size\":10,\"solidity\":0.2}},\"type\":\"histogram\"}],\"histogram2d\":[{\"colorbar\":{\"outlinewidth\":0,\"ticks\":\"\"},\"colorscale\":[[0.0,\"#0d0887\"],[0.1111111111111111,\"#46039f\"],[0.2222222222222222,\"#7201a8\"],[0.3333333333333333,\"#9c179e\"],[0.4444444444444444,\"#bd3786\"],[0.5555555555555556,\"#d8576b\"],[0.6666666666666666,\"#ed7953\"],[0.7777777777777778,\"#fb9f3a\"],[0.8888888888888888,\"#fdca26\"],[1.0,\"#f0f921\"]],\"type\":\"histogram2d\"}],\"histogram2dcontour\":[{\"colorbar\":{\"outlinewidth\":0,\"ticks\":\"\"},\"colorscale\":[[0.0,\"#0d0887\"],[0.1111111111111111,\"#46039f\"],[0.2222222222222222,\"#7201a8\"],[0.3333333333333333,\"#9c179e\"],[0.4444444444444444,\"#bd3786\"],[0.5555555555555556,\"#d8576b\"],[0.6666666666666666,\"#ed7953\"],[0.7777777777777778,\"#fb9f3a\"],[0.8888888888888888,\"#fdca26\"],[1.0,\"#f0f921\"]],\"type\":\"histogram2dcontour\"}],\"mesh3d\":[{\"colorbar\":{\"outlinewidth\":0,\"ticks\":\"\"},\"type\":\"mesh3d\"}],\"parcoords\":[{\"line\":{\"colorbar\":{\"outlinewidth\":0,\"ticks\":\"\"}},\"type\":\"parcoords\"}],\"pie\":[{\"automargin\":true,\"type\":\"pie\"}],\"scatter\":[{\"marker\":{\"colorbar\":{\"outlinewidth\":0,\"ticks\":\"\"}},\"type\":\"scatter\"}],\"scatter3d\":[{\"line\":{\"colorbar\":{\"outlinewidth\":0,\"ticks\":\"\"}},\"marker\":{\"colorbar\":{\"outlinewidth\":0,\"ticks\":\"\"}},\"type\":\"scatter3d\"}],\"scattercarpet\":[{\"marker\":{\"colorbar\":{\"outlinewidth\":0,\"ticks\":\"\"}},\"type\":\"scattercarpet\"}],\"scattergeo\":[{\"marker\":{\"colorbar\":{\"outlinewidth\":0,\"ticks\":\"\"}},\"type\":\"scattergeo\"}],\"scattergl\":[{\"marker\":{\"colorbar\":{\"outlinewidth\":0,\"ticks\":\"\"}},\"type\":\"scattergl\"}],\"scattermapbox\":[{\"marker\":{\"colorbar\":{\"outlinewidth\":0,\"ticks\":\"\"}},\"type\":\"scattermapbox\"}],\"scatterpolar\":[{\"marker\":{\"colorbar\":{\"outlinewidth\":0,\"ticks\":\"\"}},\"type\":\"scatterpolar\"}],\"scatterpolargl\":[{\"marker\":{\"colorbar\":{\"outlinewidth\":0,\"ticks\":\"\"}},\"type\":\"scatterpolargl\"}],\"scatterternary\":[{\"marker\":{\"colorbar\":{\"outlinewidth\":0,\"ticks\":\"\"}},\"type\":\"scatterternary\"}],\"surface\":[{\"colorbar\":{\"outlinewidth\":0,\"ticks\":\"\"},\"colorscale\":[[0.0,\"#0d0887\"],[0.1111111111111111,\"#46039f\"],[0.2222222222222222,\"#7201a8\"],[0.3333333333333333,\"#9c179e\"],[0.4444444444444444,\"#bd3786\"],[0.5555555555555556,\"#d8576b\"],[0.6666666666666666,\"#ed7953\"],[0.7777777777777778,\"#fb9f3a\"],[0.8888888888888888,\"#fdca26\"],[1.0,\"#f0f921\"]],\"type\":\"surface\"}],\"table\":[{\"cells\":{\"fill\":{\"color\":\"#EBF0F8\"},\"line\":{\"color\":\"white\"}},\"header\":{\"fill\":{\"color\":\"#C8D4E3\"},\"line\":{\"color\":\"white\"}},\"type\":\"table\"}]},\"layout\":{\"annotationdefaults\":{\"arrowcolor\":\"#2a3f5f\",\"arrowhead\":0,\"arrowwidth\":1},\"autotypenumbers\":\"strict\",\"coloraxis\":{\"colorbar\":{\"outlinewidth\":0,\"ticks\":\"\"}},\"colorscale\":{\"diverging\":[[0,\"#8e0152\"],[0.1,\"#c51b7d\"],[0.2,\"#de77ae\"],[0.3,\"#f1b6da\"],[0.4,\"#fde0ef\"],[0.5,\"#f7f7f7\"],[0.6,\"#e6f5d0\"],[0.7,\"#b8e186\"],[0.8,\"#7fbc41\"],[0.9,\"#4d9221\"],[1,\"#276419\"]],\"sequential\":[[0.0,\"#0d0887\"],[0.1111111111111111,\"#46039f\"],[0.2222222222222222,\"#7201a8\"],[0.3333333333333333,\"#9c179e\"],[0.4444444444444444,\"#bd3786\"],[0.5555555555555556,\"#d8576b\"],[0.6666666666666666,\"#ed7953\"],[0.7777777777777778,\"#fb9f3a\"],[0.8888888888888888,\"#fdca26\"],[1.0,\"#f0f921\"]],\"sequentialminus\":[[0.0,\"#0d0887\"],[0.1111111111111111,\"#46039f\"],[0.2222222222222222,\"#7201a8\"],[0.3333333333333333,\"#9c179e\"],[0.4444444444444444,\"#bd3786\"],[0.5555555555555556,\"#d8576b\"],[0.6666666666666666,\"#ed7953\"],[0.7777777777777778,\"#fb9f3a\"],[0.8888888888888888,\"#fdca26\"],[1.0,\"#f0f921\"]]},\"colorway\":[\"#636efa\",\"#EF553B\",\"#00cc96\",\"#ab63fa\",\"#FFA15A\",\"#19d3f3\",\"#FF6692\",\"#B6E880\",\"#FF97FF\",\"#FECB52\"],\"font\":{\"color\":\"#2a3f5f\"},\"geo\":{\"bgcolor\":\"white\",\"lakecolor\":\"white\",\"landcolor\":\"#E5ECF6\",\"showlakes\":true,\"showland\":true,\"subunitcolor\":\"white\"},\"hoverlabel\":{\"align\":\"left\"},\"hovermode\":\"closest\",\"mapbox\":{\"style\":\"light\"},\"paper_bgcolor\":\"white\",\"plot_bgcolor\":\"#E5ECF6\",\"polar\":{\"angularaxis\":{\"gridcolor\":\"white\",\"linecolor\":\"white\",\"ticks\":\"\"},\"bgcolor\":\"#E5ECF6\",\"radialaxis\":{\"gridcolor\":\"white\",\"linecolor\":\"white\",\"ticks\":\"\"}},\"scene\":{\"xaxis\":{\"backgroundcolor\":\"#E5ECF6\",\"gridcolor\":\"white\",\"gridwidth\":2,\"linecolor\":\"white\",\"showbackground\":true,\"ticks\":\"\",\"zerolinecolor\":\"white\"},\"yaxis\":{\"backgroundcolor\":\"#E5ECF6\",\"gridcolor\":\"white\",\"gridwidth\":2,\"linecolor\":\"white\",\"showbackground\":true,\"ticks\":\"\",\"zerolinecolor\":\"white\"},\"zaxis\":{\"backgroundcolor\":\"#E5ECF6\",\"gridcolor\":\"white\",\"gridwidth\":2,\"linecolor\":\"white\",\"showbackground\":true,\"ticks\":\"\",\"zerolinecolor\":\"white\"}},\"shapedefaults\":{\"line\":{\"color\":\"#2a3f5f\"}},\"ternary\":{\"aaxis\":{\"gridcolor\":\"white\",\"linecolor\":\"white\",\"ticks\":\"\"},\"baxis\":{\"gridcolor\":\"white\",\"linecolor\":\"white\",\"ticks\":\"\"},\"bgcolor\":\"#E5ECF6\",\"caxis\":{\"gridcolor\":\"white\",\"linecolor\":\"white\",\"ticks\":\"\"}},\"title\":{\"x\":0.05},\"xaxis\":{\"automargin\":true,\"gridcolor\":\"white\",\"linecolor\":\"white\",\"ticks\":\"\",\"title\":{\"standoff\":15},\"zerolinecolor\":\"white\",\"zerolinewidth\":2},\"yaxis\":{\"automargin\":true,\"gridcolor\":\"white\",\"linecolor\":\"white\",\"ticks\":\"\",\"title\":{\"standoff\":15},\"zerolinecolor\":\"white\",\"zerolinewidth\":2}}},\"xaxis\":{\"anchor\":\"y\",\"domain\":[0.0,1.0],\"title\":{\"text\":\"type\"}},\"yaxis\":{\"anchor\":\"x\",\"domain\":[0.0,1.0],\"title\":{\"text\":\"users/day\"}},\"legend\":{\"title\":{\"text\":\"weekday\"},\"tracegroupgap\":0},\"margin\":{\"t\":60},\"barmode\":\"group\",\"width\":800,\"title\":{\"text\":\"user type vs weekday vs user/day\",\"x\":0.5,\"xanchor\":\"center\",\"yanchor\":\"middle\"}},                        {\"responsive\": true}                    ).then(function(){\n",
              "                            \n",
              "var gd = document.getElementById('6987f128-29ca-4400-a75a-009dbdaa15e6');\n",
              "var x = new MutationObserver(function (mutations, observer) {{\n",
              "        var display = window.getComputedStyle(gd).display;\n",
              "        if (!display || display === 'none') {{\n",
              "            console.log([gd, 'removed!']);\n",
              "            Plotly.purge(gd);\n",
              "            observer.disconnect();\n",
              "        }}\n",
              "}});\n",
              "\n",
              "// Listen for the removal of the full notebook cells\n",
              "var notebookContainer = gd.closest('#notebook-container');\n",
              "if (notebookContainer) {{\n",
              "    x.observe(notebookContainer, {childList: true});\n",
              "}}\n",
              "\n",
              "// Listen for the clearing of the current output cell\n",
              "var outputEl = gd.closest('.output');\n",
              "if (outputEl) {{\n",
              "    x.observe(outputEl, {childList: true});\n",
              "}}\n",
              "\n",
              "                        })                };                            </script>        </div>\n",
              "</body>\n",
              "</html>"
            ]
          },
          "metadata": {},
          "output_type": "display_data"
        }
      ],
      "metadata": {
        "colab": {
          "base_uri": "https://localhost:8080/",
          "height": 542
        },
        "cellView": "form",
        "id": "efE5kNFCDhR8",
        "outputId": "81007dbe-6da6-4470-d8cd-38690e529338"
      }
    },
    {
      "cell_type": "markdown",
      "source": [
        "##1.3 Seasons\n",
        "Ao comparar as estações, fica bem claro que o número de usuários cai bastante durante o inverno. É possível que isso se deva ao clima mais extremo que se dá nessa estação, de muito frio."
      ],
      "metadata": {
        "id": "f9_myx4BmX_U"
      }
    },
    {
      "cell_type": "code",
      "execution_count": 8,
      "source": [
        "#@title\r\n",
        "grouped_data = df[['season', 'cnt']].groupby(['season'])['cnt'].agg([np.sum,\"count\"]).reset_index()\r\n",
        "grouped_data['users/day'] = grouped_data.apply(lambda x : float(\"{:.2f}\".format(x['sum']/x['count'])),axis=1)\r\n",
        "fig = px.bar(grouped_data, x='season', y='users/day', color = 'season', text = 'users/day', width=800)\r\n",
        "fig.update_layout(\r\n",
        "    title={\r\n",
        "        'text': \"season vs user/day\",\r\n",
        "        'x':0.5,\r\n",
        "        'xanchor': 'center',\r\n",
        "        'yanchor': 'middle'})\r\n",
        "fig.show()"
      ],
      "outputs": [
        {
          "data": {
            "text/html": [
              "<html>\n",
              "<head><meta charset=\"utf-8\" /></head>\n",
              "<body>\n",
              "    <div>            <script src=\"https://cdnjs.cloudflare.com/ajax/libs/mathjax/2.7.5/MathJax.js?config=TeX-AMS-MML_SVG\"></script><script type=\"text/javascript\">if (window.MathJax) {MathJax.Hub.Config({SVG: {font: \"STIX-Web\"}});}</script>                <script type=\"text/javascript\">window.PlotlyConfig = {MathJaxConfig: 'local'};</script>\n",
              "        <script src=\"https://cdn.plot.ly/plotly-2.6.3.min.js\"></script>                <div id=\"a157ae3f-caf6-419c-bf6f-5957f9146a67\" class=\"plotly-graph-div\" style=\"height:525px; width:800px;\"></div>            <script type=\"text/javascript\">                                    window.PLOTLYENV=window.PLOTLYENV || {};                                    if (document.getElementById(\"a157ae3f-caf6-419c-bf6f-5957f9146a67\")) {                    Plotly.newPlot(                        \"a157ae3f-caf6-419c-bf6f-5957f9146a67\",                        [{\"alignmentgroup\":\"True\",\"hovertemplate\":\"season=%{x}<br>users/day=%{text}<extra></extra>\",\"legendgroup\":\"1_winter\",\"marker\":{\"color\":\"#636efa\",\"pattern\":{\"shape\":\"\"}},\"name\":\"1_winter\",\"offsetgroup\":\"1_winter\",\"orientation\":\"v\",\"showlegend\":true,\"text\":[2604.13],\"textposition\":\"auto\",\"x\":[\"1_winter\"],\"xaxis\":\"x\",\"y\":[2604.13],\"yaxis\":\"y\",\"type\":\"bar\"},{\"alignmentgroup\":\"True\",\"hovertemplate\":\"season=%{x}<br>users/day=%{text}<extra></extra>\",\"legendgroup\":\"2_spring\",\"marker\":{\"color\":\"#EF553B\",\"pattern\":{\"shape\":\"\"}},\"name\":\"2_spring\",\"offsetgroup\":\"2_spring\",\"orientation\":\"v\",\"showlegend\":true,\"text\":[4992.33],\"textposition\":\"auto\",\"x\":[\"2_spring\"],\"xaxis\":\"x\",\"y\":[4992.33],\"yaxis\":\"y\",\"type\":\"bar\"},{\"alignmentgroup\":\"True\",\"hovertemplate\":\"season=%{x}<br>users/day=%{text}<extra></extra>\",\"legendgroup\":\"3_summer\",\"marker\":{\"color\":\"#00cc96\",\"pattern\":{\"shape\":\"\"}},\"name\":\"3_summer\",\"offsetgroup\":\"3_summer\",\"orientation\":\"v\",\"showlegend\":true,\"text\":[5644.3],\"textposition\":\"auto\",\"x\":[\"3_summer\"],\"xaxis\":\"x\",\"y\":[5644.3],\"yaxis\":\"y\",\"type\":\"bar\"},{\"alignmentgroup\":\"True\",\"hovertemplate\":\"season=%{x}<br>users/day=%{text}<extra></extra>\",\"legendgroup\":\"4_autumn\",\"marker\":{\"color\":\"#ab63fa\",\"pattern\":{\"shape\":\"\"}},\"name\":\"4_autumn\",\"offsetgroup\":\"4_autumn\",\"orientation\":\"v\",\"showlegend\":true,\"text\":[4728.16],\"textposition\":\"auto\",\"x\":[\"4_autumn\"],\"xaxis\":\"x\",\"y\":[4728.16],\"yaxis\":\"y\",\"type\":\"bar\"}],                        {\"template\":{\"data\":{\"bar\":[{\"error_x\":{\"color\":\"#2a3f5f\"},\"error_y\":{\"color\":\"#2a3f5f\"},\"marker\":{\"line\":{\"color\":\"#E5ECF6\",\"width\":0.5},\"pattern\":{\"fillmode\":\"overlay\",\"size\":10,\"solidity\":0.2}},\"type\":\"bar\"}],\"barpolar\":[{\"marker\":{\"line\":{\"color\":\"#E5ECF6\",\"width\":0.5},\"pattern\":{\"fillmode\":\"overlay\",\"size\":10,\"solidity\":0.2}},\"type\":\"barpolar\"}],\"carpet\":[{\"aaxis\":{\"endlinecolor\":\"#2a3f5f\",\"gridcolor\":\"white\",\"linecolor\":\"white\",\"minorgridcolor\":\"white\",\"startlinecolor\":\"#2a3f5f\"},\"baxis\":{\"endlinecolor\":\"#2a3f5f\",\"gridcolor\":\"white\",\"linecolor\":\"white\",\"minorgridcolor\":\"white\",\"startlinecolor\":\"#2a3f5f\"},\"type\":\"carpet\"}],\"choropleth\":[{\"colorbar\":{\"outlinewidth\":0,\"ticks\":\"\"},\"type\":\"choropleth\"}],\"contour\":[{\"colorbar\":{\"outlinewidth\":0,\"ticks\":\"\"},\"colorscale\":[[0.0,\"#0d0887\"],[0.1111111111111111,\"#46039f\"],[0.2222222222222222,\"#7201a8\"],[0.3333333333333333,\"#9c179e\"],[0.4444444444444444,\"#bd3786\"],[0.5555555555555556,\"#d8576b\"],[0.6666666666666666,\"#ed7953\"],[0.7777777777777778,\"#fb9f3a\"],[0.8888888888888888,\"#fdca26\"],[1.0,\"#f0f921\"]],\"type\":\"contour\"}],\"contourcarpet\":[{\"colorbar\":{\"outlinewidth\":0,\"ticks\":\"\"},\"type\":\"contourcarpet\"}],\"heatmap\":[{\"colorbar\":{\"outlinewidth\":0,\"ticks\":\"\"},\"colorscale\":[[0.0,\"#0d0887\"],[0.1111111111111111,\"#46039f\"],[0.2222222222222222,\"#7201a8\"],[0.3333333333333333,\"#9c179e\"],[0.4444444444444444,\"#bd3786\"],[0.5555555555555556,\"#d8576b\"],[0.6666666666666666,\"#ed7953\"],[0.7777777777777778,\"#fb9f3a\"],[0.8888888888888888,\"#fdca26\"],[1.0,\"#f0f921\"]],\"type\":\"heatmap\"}],\"heatmapgl\":[{\"colorbar\":{\"outlinewidth\":0,\"ticks\":\"\"},\"colorscale\":[[0.0,\"#0d0887\"],[0.1111111111111111,\"#46039f\"],[0.2222222222222222,\"#7201a8\"],[0.3333333333333333,\"#9c179e\"],[0.4444444444444444,\"#bd3786\"],[0.5555555555555556,\"#d8576b\"],[0.6666666666666666,\"#ed7953\"],[0.7777777777777778,\"#fb9f3a\"],[0.8888888888888888,\"#fdca26\"],[1.0,\"#f0f921\"]],\"type\":\"heatmapgl\"}],\"histogram\":[{\"marker\":{\"pattern\":{\"fillmode\":\"overlay\",\"size\":10,\"solidity\":0.2}},\"type\":\"histogram\"}],\"histogram2d\":[{\"colorbar\":{\"outlinewidth\":0,\"ticks\":\"\"},\"colorscale\":[[0.0,\"#0d0887\"],[0.1111111111111111,\"#46039f\"],[0.2222222222222222,\"#7201a8\"],[0.3333333333333333,\"#9c179e\"],[0.4444444444444444,\"#bd3786\"],[0.5555555555555556,\"#d8576b\"],[0.6666666666666666,\"#ed7953\"],[0.7777777777777778,\"#fb9f3a\"],[0.8888888888888888,\"#fdca26\"],[1.0,\"#f0f921\"]],\"type\":\"histogram2d\"}],\"histogram2dcontour\":[{\"colorbar\":{\"outlinewidth\":0,\"ticks\":\"\"},\"colorscale\":[[0.0,\"#0d0887\"],[0.1111111111111111,\"#46039f\"],[0.2222222222222222,\"#7201a8\"],[0.3333333333333333,\"#9c179e\"],[0.4444444444444444,\"#bd3786\"],[0.5555555555555556,\"#d8576b\"],[0.6666666666666666,\"#ed7953\"],[0.7777777777777778,\"#fb9f3a\"],[0.8888888888888888,\"#fdca26\"],[1.0,\"#f0f921\"]],\"type\":\"histogram2dcontour\"}],\"mesh3d\":[{\"colorbar\":{\"outlinewidth\":0,\"ticks\":\"\"},\"type\":\"mesh3d\"}],\"parcoords\":[{\"line\":{\"colorbar\":{\"outlinewidth\":0,\"ticks\":\"\"}},\"type\":\"parcoords\"}],\"pie\":[{\"automargin\":true,\"type\":\"pie\"}],\"scatter\":[{\"marker\":{\"colorbar\":{\"outlinewidth\":0,\"ticks\":\"\"}},\"type\":\"scatter\"}],\"scatter3d\":[{\"line\":{\"colorbar\":{\"outlinewidth\":0,\"ticks\":\"\"}},\"marker\":{\"colorbar\":{\"outlinewidth\":0,\"ticks\":\"\"}},\"type\":\"scatter3d\"}],\"scattercarpet\":[{\"marker\":{\"colorbar\":{\"outlinewidth\":0,\"ticks\":\"\"}},\"type\":\"scattercarpet\"}],\"scattergeo\":[{\"marker\":{\"colorbar\":{\"outlinewidth\":0,\"ticks\":\"\"}},\"type\":\"scattergeo\"}],\"scattergl\":[{\"marker\":{\"colorbar\":{\"outlinewidth\":0,\"ticks\":\"\"}},\"type\":\"scattergl\"}],\"scattermapbox\":[{\"marker\":{\"colorbar\":{\"outlinewidth\":0,\"ticks\":\"\"}},\"type\":\"scattermapbox\"}],\"scatterpolar\":[{\"marker\":{\"colorbar\":{\"outlinewidth\":0,\"ticks\":\"\"}},\"type\":\"scatterpolar\"}],\"scatterpolargl\":[{\"marker\":{\"colorbar\":{\"outlinewidth\":0,\"ticks\":\"\"}},\"type\":\"scatterpolargl\"}],\"scatterternary\":[{\"marker\":{\"colorbar\":{\"outlinewidth\":0,\"ticks\":\"\"}},\"type\":\"scatterternary\"}],\"surface\":[{\"colorbar\":{\"outlinewidth\":0,\"ticks\":\"\"},\"colorscale\":[[0.0,\"#0d0887\"],[0.1111111111111111,\"#46039f\"],[0.2222222222222222,\"#7201a8\"],[0.3333333333333333,\"#9c179e\"],[0.4444444444444444,\"#bd3786\"],[0.5555555555555556,\"#d8576b\"],[0.6666666666666666,\"#ed7953\"],[0.7777777777777778,\"#fb9f3a\"],[0.8888888888888888,\"#fdca26\"],[1.0,\"#f0f921\"]],\"type\":\"surface\"}],\"table\":[{\"cells\":{\"fill\":{\"color\":\"#EBF0F8\"},\"line\":{\"color\":\"white\"}},\"header\":{\"fill\":{\"color\":\"#C8D4E3\"},\"line\":{\"color\":\"white\"}},\"type\":\"table\"}]},\"layout\":{\"annotationdefaults\":{\"arrowcolor\":\"#2a3f5f\",\"arrowhead\":0,\"arrowwidth\":1},\"autotypenumbers\":\"strict\",\"coloraxis\":{\"colorbar\":{\"outlinewidth\":0,\"ticks\":\"\"}},\"colorscale\":{\"diverging\":[[0,\"#8e0152\"],[0.1,\"#c51b7d\"],[0.2,\"#de77ae\"],[0.3,\"#f1b6da\"],[0.4,\"#fde0ef\"],[0.5,\"#f7f7f7\"],[0.6,\"#e6f5d0\"],[0.7,\"#b8e186\"],[0.8,\"#7fbc41\"],[0.9,\"#4d9221\"],[1,\"#276419\"]],\"sequential\":[[0.0,\"#0d0887\"],[0.1111111111111111,\"#46039f\"],[0.2222222222222222,\"#7201a8\"],[0.3333333333333333,\"#9c179e\"],[0.4444444444444444,\"#bd3786\"],[0.5555555555555556,\"#d8576b\"],[0.6666666666666666,\"#ed7953\"],[0.7777777777777778,\"#fb9f3a\"],[0.8888888888888888,\"#fdca26\"],[1.0,\"#f0f921\"]],\"sequentialminus\":[[0.0,\"#0d0887\"],[0.1111111111111111,\"#46039f\"],[0.2222222222222222,\"#7201a8\"],[0.3333333333333333,\"#9c179e\"],[0.4444444444444444,\"#bd3786\"],[0.5555555555555556,\"#d8576b\"],[0.6666666666666666,\"#ed7953\"],[0.7777777777777778,\"#fb9f3a\"],[0.8888888888888888,\"#fdca26\"],[1.0,\"#f0f921\"]]},\"colorway\":[\"#636efa\",\"#EF553B\",\"#00cc96\",\"#ab63fa\",\"#FFA15A\",\"#19d3f3\",\"#FF6692\",\"#B6E880\",\"#FF97FF\",\"#FECB52\"],\"font\":{\"color\":\"#2a3f5f\"},\"geo\":{\"bgcolor\":\"white\",\"lakecolor\":\"white\",\"landcolor\":\"#E5ECF6\",\"showlakes\":true,\"showland\":true,\"subunitcolor\":\"white\"},\"hoverlabel\":{\"align\":\"left\"},\"hovermode\":\"closest\",\"mapbox\":{\"style\":\"light\"},\"paper_bgcolor\":\"white\",\"plot_bgcolor\":\"#E5ECF6\",\"polar\":{\"angularaxis\":{\"gridcolor\":\"white\",\"linecolor\":\"white\",\"ticks\":\"\"},\"bgcolor\":\"#E5ECF6\",\"radialaxis\":{\"gridcolor\":\"white\",\"linecolor\":\"white\",\"ticks\":\"\"}},\"scene\":{\"xaxis\":{\"backgroundcolor\":\"#E5ECF6\",\"gridcolor\":\"white\",\"gridwidth\":2,\"linecolor\":\"white\",\"showbackground\":true,\"ticks\":\"\",\"zerolinecolor\":\"white\"},\"yaxis\":{\"backgroundcolor\":\"#E5ECF6\",\"gridcolor\":\"white\",\"gridwidth\":2,\"linecolor\":\"white\",\"showbackground\":true,\"ticks\":\"\",\"zerolinecolor\":\"white\"},\"zaxis\":{\"backgroundcolor\":\"#E5ECF6\",\"gridcolor\":\"white\",\"gridwidth\":2,\"linecolor\":\"white\",\"showbackground\":true,\"ticks\":\"\",\"zerolinecolor\":\"white\"}},\"shapedefaults\":{\"line\":{\"color\":\"#2a3f5f\"}},\"ternary\":{\"aaxis\":{\"gridcolor\":\"white\",\"linecolor\":\"white\",\"ticks\":\"\"},\"baxis\":{\"gridcolor\":\"white\",\"linecolor\":\"white\",\"ticks\":\"\"},\"bgcolor\":\"#E5ECF6\",\"caxis\":{\"gridcolor\":\"white\",\"linecolor\":\"white\",\"ticks\":\"\"}},\"title\":{\"x\":0.05},\"xaxis\":{\"automargin\":true,\"gridcolor\":\"white\",\"linecolor\":\"white\",\"ticks\":\"\",\"title\":{\"standoff\":15},\"zerolinecolor\":\"white\",\"zerolinewidth\":2},\"yaxis\":{\"automargin\":true,\"gridcolor\":\"white\",\"linecolor\":\"white\",\"ticks\":\"\",\"title\":{\"standoff\":15},\"zerolinecolor\":\"white\",\"zerolinewidth\":2}}},\"xaxis\":{\"anchor\":\"y\",\"domain\":[0.0,1.0],\"title\":{\"text\":\"season\"},\"categoryorder\":\"array\",\"categoryarray\":[\"1_winter\",\"2_spring\",\"3_summer\",\"4_autumn\"]},\"yaxis\":{\"anchor\":\"x\",\"domain\":[0.0,1.0],\"title\":{\"text\":\"users/day\"}},\"legend\":{\"title\":{\"text\":\"season\"},\"tracegroupgap\":0},\"margin\":{\"t\":60},\"barmode\":\"relative\",\"width\":800,\"title\":{\"text\":\"season vs user/day\",\"x\":0.5,\"xanchor\":\"center\",\"yanchor\":\"middle\"}},                        {\"responsive\": true}                    ).then(function(){\n",
              "                            \n",
              "var gd = document.getElementById('a157ae3f-caf6-419c-bf6f-5957f9146a67');\n",
              "var x = new MutationObserver(function (mutations, observer) {{\n",
              "        var display = window.getComputedStyle(gd).display;\n",
              "        if (!display || display === 'none') {{\n",
              "            console.log([gd, 'removed!']);\n",
              "            Plotly.purge(gd);\n",
              "            observer.disconnect();\n",
              "        }}\n",
              "}});\n",
              "\n",
              "// Listen for the removal of the full notebook cells\n",
              "var notebookContainer = gd.closest('#notebook-container');\n",
              "if (notebookContainer) {{\n",
              "    x.observe(notebookContainer, {childList: true});\n",
              "}}\n",
              "\n",
              "// Listen for the clearing of the current output cell\n",
              "var outputEl = gd.closest('.output');\n",
              "if (outputEl) {{\n",
              "    x.observe(outputEl, {childList: true});\n",
              "}}\n",
              "\n",
              "                        })                };                            </script>        </div>\n",
              "</body>\n",
              "</html>"
            ]
          },
          "metadata": {},
          "output_type": "display_data"
        }
      ],
      "metadata": {
        "execution": {
          "iopub.status.busy": "2021-11-10T01:41:35.62915Z",
          "iopub.execute_input": "2021-11-10T01:41:35.62948Z",
          "iopub.status.idle": "2021-11-10T01:41:35.71461Z",
          "shell.execute_reply.started": "2021-11-10T01:41:35.629454Z",
          "shell.execute_reply": "2021-11-10T01:41:35.713891Z"
        },
        "jupyter": {
          "source_hidden": true
        },
        "trusted": true,
        "colab": {
          "base_uri": "https://localhost:8080/",
          "height": 542
        },
        "cellView": "form",
        "id": "ztFeZjCVmX_V",
        "outputId": "5fa65133-a02d-49b1-d754-e40fa233471c"
      }
    },
    {
      "cell_type": "markdown",
      "source": [
        "Entrando no detalhe, é possível entender melhor o comportamento de cada tipo de usuário (casual e registrado) dependendo da estação. O inverno tem pouco resultado para ambos os casos, mas para os casuais, o número de usuários por dia sofre queda no outono também."
      ],
      "metadata": {
        "id": "JSnriKEomX_V"
      }
    },
    {
      "cell_type": "code",
      "execution_count": 9,
      "source": [
        "#@title\r\n",
        "main_var = 'season'\r\n",
        "grouped_data = df[[main_var, 'casual','registered']].groupby([main_var])[['casual','registered']].agg([np.sum,\"count\"])\r\n",
        "grouped_data = grouped_data.stack(0).reset_index().rename(columns={'level_1': 'type'})\r\n",
        "grouped_data['users/day'] = grouped_data.apply(lambda x : float(\"{:.2f}\".format(x['sum']/x['count'])),axis=1)\r\n",
        "fig = px.bar(grouped_data, x='type', y='users/day', color = main_var, text = 'users/day', width=1000, barmode='group')\r\n",
        "fig.update_layout(\r\n",
        "    title={\r\n",
        "        'text': \"user type vs season vs users/day\",\r\n",
        "        'x':0.5,\r\n",
        "        'xanchor': 'center',\r\n",
        "        'yanchor': 'middle'})\r\n",
        "fig.show()"
      ],
      "outputs": [
        {
          "data": {
            "text/html": [
              "<html>\n",
              "<head><meta charset=\"utf-8\" /></head>\n",
              "<body>\n",
              "    <div>            <script src=\"https://cdnjs.cloudflare.com/ajax/libs/mathjax/2.7.5/MathJax.js?config=TeX-AMS-MML_SVG\"></script><script type=\"text/javascript\">if (window.MathJax) {MathJax.Hub.Config({SVG: {font: \"STIX-Web\"}});}</script>                <script type=\"text/javascript\">window.PlotlyConfig = {MathJaxConfig: 'local'};</script>\n",
              "        <script src=\"https://cdn.plot.ly/plotly-2.6.3.min.js\"></script>                <div id=\"00ebd39a-d2b5-4c5d-91ad-455758012f02\" class=\"plotly-graph-div\" style=\"height:525px; width:1000px;\"></div>            <script type=\"text/javascript\">                                    window.PLOTLYENV=window.PLOTLYENV || {};                                    if (document.getElementById(\"00ebd39a-d2b5-4c5d-91ad-455758012f02\")) {                    Plotly.newPlot(                        \"00ebd39a-d2b5-4c5d-91ad-455758012f02\",                        [{\"alignmentgroup\":\"True\",\"hovertemplate\":\"season=1_winter<br>type=%{x}<br>users/day=%{text}<extra></extra>\",\"legendgroup\":\"1_winter\",\"marker\":{\"color\":\"#636efa\",\"pattern\":{\"shape\":\"\"}},\"name\":\"1_winter\",\"offsetgroup\":\"1_winter\",\"orientation\":\"v\",\"showlegend\":true,\"text\":[334.93,2269.2],\"textposition\":\"auto\",\"x\":[\"casual\",\"registered\"],\"xaxis\":\"x\",\"y\":[334.93,2269.2],\"yaxis\":\"y\",\"type\":\"bar\"},{\"alignmentgroup\":\"True\",\"hovertemplate\":\"season=2_spring<br>type=%{x}<br>users/day=%{text}<extra></extra>\",\"legendgroup\":\"2_spring\",\"marker\":{\"color\":\"#EF553B\",\"pattern\":{\"shape\":\"\"}},\"name\":\"2_spring\",\"offsetgroup\":\"2_spring\",\"orientation\":\"v\",\"showlegend\":true,\"text\":[1106.1,3886.23],\"textposition\":\"auto\",\"x\":[\"casual\",\"registered\"],\"xaxis\":\"x\",\"y\":[1106.1,3886.23],\"yaxis\":\"y\",\"type\":\"bar\"},{\"alignmentgroup\":\"True\",\"hovertemplate\":\"season=3_summer<br>type=%{x}<br>users/day=%{text}<extra></extra>\",\"legendgroup\":\"3_summer\",\"marker\":{\"color\":\"#00cc96\",\"pattern\":{\"shape\":\"\"}},\"name\":\"3_summer\",\"offsetgroup\":\"3_summer\",\"orientation\":\"v\",\"showlegend\":true,\"text\":[1202.61,4441.69],\"textposition\":\"auto\",\"x\":[\"casual\",\"registered\"],\"xaxis\":\"x\",\"y\":[1202.61,4441.69],\"yaxis\":\"y\",\"type\":\"bar\"},{\"alignmentgroup\":\"True\",\"hovertemplate\":\"season=4_autumn<br>type=%{x}<br>users/day=%{text}<extra></extra>\",\"legendgroup\":\"4_autumn\",\"marker\":{\"color\":\"#ab63fa\",\"pattern\":{\"shape\":\"\"}},\"name\":\"4_autumn\",\"offsetgroup\":\"4_autumn\",\"orientation\":\"v\",\"showlegend\":true,\"text\":[729.11,3999.05],\"textposition\":\"auto\",\"x\":[\"casual\",\"registered\"],\"xaxis\":\"x\",\"y\":[729.11,3999.05],\"yaxis\":\"y\",\"type\":\"bar\"}],                        {\"template\":{\"data\":{\"bar\":[{\"error_x\":{\"color\":\"#2a3f5f\"},\"error_y\":{\"color\":\"#2a3f5f\"},\"marker\":{\"line\":{\"color\":\"#E5ECF6\",\"width\":0.5},\"pattern\":{\"fillmode\":\"overlay\",\"size\":10,\"solidity\":0.2}},\"type\":\"bar\"}],\"barpolar\":[{\"marker\":{\"line\":{\"color\":\"#E5ECF6\",\"width\":0.5},\"pattern\":{\"fillmode\":\"overlay\",\"size\":10,\"solidity\":0.2}},\"type\":\"barpolar\"}],\"carpet\":[{\"aaxis\":{\"endlinecolor\":\"#2a3f5f\",\"gridcolor\":\"white\",\"linecolor\":\"white\",\"minorgridcolor\":\"white\",\"startlinecolor\":\"#2a3f5f\"},\"baxis\":{\"endlinecolor\":\"#2a3f5f\",\"gridcolor\":\"white\",\"linecolor\":\"white\",\"minorgridcolor\":\"white\",\"startlinecolor\":\"#2a3f5f\"},\"type\":\"carpet\"}],\"choropleth\":[{\"colorbar\":{\"outlinewidth\":0,\"ticks\":\"\"},\"type\":\"choropleth\"}],\"contour\":[{\"colorbar\":{\"outlinewidth\":0,\"ticks\":\"\"},\"colorscale\":[[0.0,\"#0d0887\"],[0.1111111111111111,\"#46039f\"],[0.2222222222222222,\"#7201a8\"],[0.3333333333333333,\"#9c179e\"],[0.4444444444444444,\"#bd3786\"],[0.5555555555555556,\"#d8576b\"],[0.6666666666666666,\"#ed7953\"],[0.7777777777777778,\"#fb9f3a\"],[0.8888888888888888,\"#fdca26\"],[1.0,\"#f0f921\"]],\"type\":\"contour\"}],\"contourcarpet\":[{\"colorbar\":{\"outlinewidth\":0,\"ticks\":\"\"},\"type\":\"contourcarpet\"}],\"heatmap\":[{\"colorbar\":{\"outlinewidth\":0,\"ticks\":\"\"},\"colorscale\":[[0.0,\"#0d0887\"],[0.1111111111111111,\"#46039f\"],[0.2222222222222222,\"#7201a8\"],[0.3333333333333333,\"#9c179e\"],[0.4444444444444444,\"#bd3786\"],[0.5555555555555556,\"#d8576b\"],[0.6666666666666666,\"#ed7953\"],[0.7777777777777778,\"#fb9f3a\"],[0.8888888888888888,\"#fdca26\"],[1.0,\"#f0f921\"]],\"type\":\"heatmap\"}],\"heatmapgl\":[{\"colorbar\":{\"outlinewidth\":0,\"ticks\":\"\"},\"colorscale\":[[0.0,\"#0d0887\"],[0.1111111111111111,\"#46039f\"],[0.2222222222222222,\"#7201a8\"],[0.3333333333333333,\"#9c179e\"],[0.4444444444444444,\"#bd3786\"],[0.5555555555555556,\"#d8576b\"],[0.6666666666666666,\"#ed7953\"],[0.7777777777777778,\"#fb9f3a\"],[0.8888888888888888,\"#fdca26\"],[1.0,\"#f0f921\"]],\"type\":\"heatmapgl\"}],\"histogram\":[{\"marker\":{\"pattern\":{\"fillmode\":\"overlay\",\"size\":10,\"solidity\":0.2}},\"type\":\"histogram\"}],\"histogram2d\":[{\"colorbar\":{\"outlinewidth\":0,\"ticks\":\"\"},\"colorscale\":[[0.0,\"#0d0887\"],[0.1111111111111111,\"#46039f\"],[0.2222222222222222,\"#7201a8\"],[0.3333333333333333,\"#9c179e\"],[0.4444444444444444,\"#bd3786\"],[0.5555555555555556,\"#d8576b\"],[0.6666666666666666,\"#ed7953\"],[0.7777777777777778,\"#fb9f3a\"],[0.8888888888888888,\"#fdca26\"],[1.0,\"#f0f921\"]],\"type\":\"histogram2d\"}],\"histogram2dcontour\":[{\"colorbar\":{\"outlinewidth\":0,\"ticks\":\"\"},\"colorscale\":[[0.0,\"#0d0887\"],[0.1111111111111111,\"#46039f\"],[0.2222222222222222,\"#7201a8\"],[0.3333333333333333,\"#9c179e\"],[0.4444444444444444,\"#bd3786\"],[0.5555555555555556,\"#d8576b\"],[0.6666666666666666,\"#ed7953\"],[0.7777777777777778,\"#fb9f3a\"],[0.8888888888888888,\"#fdca26\"],[1.0,\"#f0f921\"]],\"type\":\"histogram2dcontour\"}],\"mesh3d\":[{\"colorbar\":{\"outlinewidth\":0,\"ticks\":\"\"},\"type\":\"mesh3d\"}],\"parcoords\":[{\"line\":{\"colorbar\":{\"outlinewidth\":0,\"ticks\":\"\"}},\"type\":\"parcoords\"}],\"pie\":[{\"automargin\":true,\"type\":\"pie\"}],\"scatter\":[{\"marker\":{\"colorbar\":{\"outlinewidth\":0,\"ticks\":\"\"}},\"type\":\"scatter\"}],\"scatter3d\":[{\"line\":{\"colorbar\":{\"outlinewidth\":0,\"ticks\":\"\"}},\"marker\":{\"colorbar\":{\"outlinewidth\":0,\"ticks\":\"\"}},\"type\":\"scatter3d\"}],\"scattercarpet\":[{\"marker\":{\"colorbar\":{\"outlinewidth\":0,\"ticks\":\"\"}},\"type\":\"scattercarpet\"}],\"scattergeo\":[{\"marker\":{\"colorbar\":{\"outlinewidth\":0,\"ticks\":\"\"}},\"type\":\"scattergeo\"}],\"scattergl\":[{\"marker\":{\"colorbar\":{\"outlinewidth\":0,\"ticks\":\"\"}},\"type\":\"scattergl\"}],\"scattermapbox\":[{\"marker\":{\"colorbar\":{\"outlinewidth\":0,\"ticks\":\"\"}},\"type\":\"scattermapbox\"}],\"scatterpolar\":[{\"marker\":{\"colorbar\":{\"outlinewidth\":0,\"ticks\":\"\"}},\"type\":\"scatterpolar\"}],\"scatterpolargl\":[{\"marker\":{\"colorbar\":{\"outlinewidth\":0,\"ticks\":\"\"}},\"type\":\"scatterpolargl\"}],\"scatterternary\":[{\"marker\":{\"colorbar\":{\"outlinewidth\":0,\"ticks\":\"\"}},\"type\":\"scatterternary\"}],\"surface\":[{\"colorbar\":{\"outlinewidth\":0,\"ticks\":\"\"},\"colorscale\":[[0.0,\"#0d0887\"],[0.1111111111111111,\"#46039f\"],[0.2222222222222222,\"#7201a8\"],[0.3333333333333333,\"#9c179e\"],[0.4444444444444444,\"#bd3786\"],[0.5555555555555556,\"#d8576b\"],[0.6666666666666666,\"#ed7953\"],[0.7777777777777778,\"#fb9f3a\"],[0.8888888888888888,\"#fdca26\"],[1.0,\"#f0f921\"]],\"type\":\"surface\"}],\"table\":[{\"cells\":{\"fill\":{\"color\":\"#EBF0F8\"},\"line\":{\"color\":\"white\"}},\"header\":{\"fill\":{\"color\":\"#C8D4E3\"},\"line\":{\"color\":\"white\"}},\"type\":\"table\"}]},\"layout\":{\"annotationdefaults\":{\"arrowcolor\":\"#2a3f5f\",\"arrowhead\":0,\"arrowwidth\":1},\"autotypenumbers\":\"strict\",\"coloraxis\":{\"colorbar\":{\"outlinewidth\":0,\"ticks\":\"\"}},\"colorscale\":{\"diverging\":[[0,\"#8e0152\"],[0.1,\"#c51b7d\"],[0.2,\"#de77ae\"],[0.3,\"#f1b6da\"],[0.4,\"#fde0ef\"],[0.5,\"#f7f7f7\"],[0.6,\"#e6f5d0\"],[0.7,\"#b8e186\"],[0.8,\"#7fbc41\"],[0.9,\"#4d9221\"],[1,\"#276419\"]],\"sequential\":[[0.0,\"#0d0887\"],[0.1111111111111111,\"#46039f\"],[0.2222222222222222,\"#7201a8\"],[0.3333333333333333,\"#9c179e\"],[0.4444444444444444,\"#bd3786\"],[0.5555555555555556,\"#d8576b\"],[0.6666666666666666,\"#ed7953\"],[0.7777777777777778,\"#fb9f3a\"],[0.8888888888888888,\"#fdca26\"],[1.0,\"#f0f921\"]],\"sequentialminus\":[[0.0,\"#0d0887\"],[0.1111111111111111,\"#46039f\"],[0.2222222222222222,\"#7201a8\"],[0.3333333333333333,\"#9c179e\"],[0.4444444444444444,\"#bd3786\"],[0.5555555555555556,\"#d8576b\"],[0.6666666666666666,\"#ed7953\"],[0.7777777777777778,\"#fb9f3a\"],[0.8888888888888888,\"#fdca26\"],[1.0,\"#f0f921\"]]},\"colorway\":[\"#636efa\",\"#EF553B\",\"#00cc96\",\"#ab63fa\",\"#FFA15A\",\"#19d3f3\",\"#FF6692\",\"#B6E880\",\"#FF97FF\",\"#FECB52\"],\"font\":{\"color\":\"#2a3f5f\"},\"geo\":{\"bgcolor\":\"white\",\"lakecolor\":\"white\",\"landcolor\":\"#E5ECF6\",\"showlakes\":true,\"showland\":true,\"subunitcolor\":\"white\"},\"hoverlabel\":{\"align\":\"left\"},\"hovermode\":\"closest\",\"mapbox\":{\"style\":\"light\"},\"paper_bgcolor\":\"white\",\"plot_bgcolor\":\"#E5ECF6\",\"polar\":{\"angularaxis\":{\"gridcolor\":\"white\",\"linecolor\":\"white\",\"ticks\":\"\"},\"bgcolor\":\"#E5ECF6\",\"radialaxis\":{\"gridcolor\":\"white\",\"linecolor\":\"white\",\"ticks\":\"\"}},\"scene\":{\"xaxis\":{\"backgroundcolor\":\"#E5ECF6\",\"gridcolor\":\"white\",\"gridwidth\":2,\"linecolor\":\"white\",\"showbackground\":true,\"ticks\":\"\",\"zerolinecolor\":\"white\"},\"yaxis\":{\"backgroundcolor\":\"#E5ECF6\",\"gridcolor\":\"white\",\"gridwidth\":2,\"linecolor\":\"white\",\"showbackground\":true,\"ticks\":\"\",\"zerolinecolor\":\"white\"},\"zaxis\":{\"backgroundcolor\":\"#E5ECF6\",\"gridcolor\":\"white\",\"gridwidth\":2,\"linecolor\":\"white\",\"showbackground\":true,\"ticks\":\"\",\"zerolinecolor\":\"white\"}},\"shapedefaults\":{\"line\":{\"color\":\"#2a3f5f\"}},\"ternary\":{\"aaxis\":{\"gridcolor\":\"white\",\"linecolor\":\"white\",\"ticks\":\"\"},\"baxis\":{\"gridcolor\":\"white\",\"linecolor\":\"white\",\"ticks\":\"\"},\"bgcolor\":\"#E5ECF6\",\"caxis\":{\"gridcolor\":\"white\",\"linecolor\":\"white\",\"ticks\":\"\"}},\"title\":{\"x\":0.05},\"xaxis\":{\"automargin\":true,\"gridcolor\":\"white\",\"linecolor\":\"white\",\"ticks\":\"\",\"title\":{\"standoff\":15},\"zerolinecolor\":\"white\",\"zerolinewidth\":2},\"yaxis\":{\"automargin\":true,\"gridcolor\":\"white\",\"linecolor\":\"white\",\"ticks\":\"\",\"title\":{\"standoff\":15},\"zerolinecolor\":\"white\",\"zerolinewidth\":2}}},\"xaxis\":{\"anchor\":\"y\",\"domain\":[0.0,1.0],\"title\":{\"text\":\"type\"}},\"yaxis\":{\"anchor\":\"x\",\"domain\":[0.0,1.0],\"title\":{\"text\":\"users/day\"}},\"legend\":{\"title\":{\"text\":\"season\"},\"tracegroupgap\":0},\"margin\":{\"t\":60},\"barmode\":\"group\",\"width\":1000,\"title\":{\"text\":\"user type vs season vs users/day\",\"x\":0.5,\"xanchor\":\"center\",\"yanchor\":\"middle\"}},                        {\"responsive\": true}                    ).then(function(){\n",
              "                            \n",
              "var gd = document.getElementById('00ebd39a-d2b5-4c5d-91ad-455758012f02');\n",
              "var x = new MutationObserver(function (mutations, observer) {{\n",
              "        var display = window.getComputedStyle(gd).display;\n",
              "        if (!display || display === 'none') {{\n",
              "            console.log([gd, 'removed!']);\n",
              "            Plotly.purge(gd);\n",
              "            observer.disconnect();\n",
              "        }}\n",
              "}});\n",
              "\n",
              "// Listen for the removal of the full notebook cells\n",
              "var notebookContainer = gd.closest('#notebook-container');\n",
              "if (notebookContainer) {{\n",
              "    x.observe(notebookContainer, {childList: true});\n",
              "}}\n",
              "\n",
              "// Listen for the clearing of the current output cell\n",
              "var outputEl = gd.closest('.output');\n",
              "if (outputEl) {{\n",
              "    x.observe(outputEl, {childList: true});\n",
              "}}\n",
              "\n",
              "                        })                };                            </script>        </div>\n",
              "</body>\n",
              "</html>"
            ]
          },
          "metadata": {},
          "output_type": "display_data"
        }
      ],
      "metadata": {
        "execution": {
          "iopub.status.busy": "2021-11-10T01:41:35.715777Z",
          "iopub.execute_input": "2021-11-10T01:41:35.716034Z",
          "iopub.status.idle": "2021-11-10T01:41:35.810316Z",
          "shell.execute_reply.started": "2021-11-10T01:41:35.716006Z",
          "shell.execute_reply": "2021-11-10T01:41:35.809424Z"
        },
        "jupyter": {
          "source_hidden": true
        },
        "trusted": true,
        "colab": {
          "base_uri": "https://localhost:8080/",
          "height": 542
        },
        "cellView": "form",
        "id": "Kn7V71hemX_V",
        "outputId": "43bf5a07-4c0a-46c9-96db-a6f0a48967b0"
      }
    },
    {
      "cell_type": "markdown",
      "source": [
        "Outro ângulo para análise possível é entender qual o impacto da estação na variação de usuários/dia entre dias úteis e dias de descanso."
      ],
      "metadata": {
        "id": "rldlDQvgmX_W"
      }
    },
    {
      "cell_type": "code",
      "execution_count": 10,
      "source": [
        "#@title\r\n",
        "grouped_data = df[['season','workingday', 'casual','registered']].groupby(['season','workingday'])[['casual','registered']].agg([np.sum,\"count\"])\r\n",
        "grouped_data = grouped_data.stack(0).reset_index().rename(columns={'level_2': 'type'})\r\n",
        "\r\n",
        "grouped_data['users/day'] = grouped_data.apply(lambda x : float(\"{:.2f}\".format(x['sum']/x['count'])),axis=1)\r\n",
        "grouped_data = grouped_data.pivot(index=['type', 'season'],columns='workingday',values='users/day').reset_index()"
      ],
      "outputs": [],
      "metadata": {
        "execution": {
          "iopub.status.busy": "2021-11-10T01:41:35.811982Z",
          "iopub.execute_input": "2021-11-10T01:41:35.812264Z",
          "iopub.status.idle": "2021-11-10T01:41:35.842824Z",
          "shell.execute_reply.started": "2021-11-10T01:41:35.812226Z",
          "shell.execute_reply": "2021-11-10T01:41:35.842241Z"
        },
        "trusted": true,
        "cellView": "form",
        "id": "znDsPIYpmX_W"
      }
    },
    {
      "cell_type": "markdown",
      "source": [
        "Como anteriormente pontuado, para usuários casuais, há um aumento de usuários/dia do dia útil para o dia de descanso, calculado por \n",
        "> (var_restday-var_workday)/var_workday\n",
        "\n",
        "Como é possível ver abaixo, o menor impacto é no verão, e o maior no outono"
      ],
      "metadata": {
        "id": "ydBCdOWcmX_W"
      }
    },
    {
      "cell_type": "code",
      "execution_count": 11,
      "source": [
        "#@title\r\n",
        "casual_grouped_data = grouped_data[grouped_data['type']=='casual'][['season','workday','restday']]\r\n",
        "casual_grouped_data['restday increase'] = grouped_data.apply(lambda x: \"{:.2%}\".format((x['restday'] - x['workday'])/x['workday']),axis=1)\r\n",
        "\r\n",
        "import plotly.graph_objects as go\r\n",
        "\r\n",
        "fig = go.Figure(data=[go.Table(\r\n",
        "    columnorder = [1,2,3,4],\r\n",
        "    columnwidth = [50]*4,\r\n",
        "    header=dict(values=list(casual_grouped_data.columns),\r\n",
        "                fill_color='paleturquoise',\r\n",
        "                align='left'),\r\n",
        "    cells=dict(values=casual_grouped_data.values.T,\r\n",
        "               fill_color='lavender',\r\n",
        "               align='left'),\r\n",
        ")\r\n",
        "])\r\n",
        "fig.update_layout(width=600, height=120, margin=dict(r=5, l=5, t=5, b=5))\r\n",
        "fig.show()"
      ],
      "outputs": [
        {
          "data": {
            "text/html": [
              "<html>\n",
              "<head><meta charset=\"utf-8\" /></head>\n",
              "<body>\n",
              "    <div>            <script src=\"https://cdnjs.cloudflare.com/ajax/libs/mathjax/2.7.5/MathJax.js?config=TeX-AMS-MML_SVG\"></script><script type=\"text/javascript\">if (window.MathJax) {MathJax.Hub.Config({SVG: {font: \"STIX-Web\"}});}</script>                <script type=\"text/javascript\">window.PlotlyConfig = {MathJaxConfig: 'local'};</script>\n",
              "        <script src=\"https://cdn.plot.ly/plotly-2.6.3.min.js\"></script>                <div id=\"02e422d8-294b-440e-8a36-48229618f4ec\" class=\"plotly-graph-div\" style=\"height:120px; width:600px;\"></div>            <script type=\"text/javascript\">                                    window.PLOTLYENV=window.PLOTLYENV || {};                                    if (document.getElementById(\"02e422d8-294b-440e-8a36-48229618f4ec\")) {                    Plotly.newPlot(                        \"02e422d8-294b-440e-8a36-48229618f4ec\",                        [{\"cells\":{\"align\":\"left\",\"fill\":{\"color\":\"lavender\"},\"values\":[[\"1_winter\",\"2_spring\",\"3_summer\",\"4_autumn\"],[235.18,764.29,906.46,483.37],[531.15,1887.38,1883.25,1250.77],[\"125.85%\",\"146.95%\",\"107.76%\",\"158.76%\"]]},\"columnorder\":[1,2,3,4],\"columnwidth\":[50,50,50,50],\"header\":{\"align\":\"left\",\"fill\":{\"color\":\"paleturquoise\"},\"values\":[\"season\",\"workday\",\"restday\",\"restday increase\"]},\"type\":\"table\"}],                        {\"template\":{\"data\":{\"bar\":[{\"error_x\":{\"color\":\"#2a3f5f\"},\"error_y\":{\"color\":\"#2a3f5f\"},\"marker\":{\"line\":{\"color\":\"#E5ECF6\",\"width\":0.5},\"pattern\":{\"fillmode\":\"overlay\",\"size\":10,\"solidity\":0.2}},\"type\":\"bar\"}],\"barpolar\":[{\"marker\":{\"line\":{\"color\":\"#E5ECF6\",\"width\":0.5},\"pattern\":{\"fillmode\":\"overlay\",\"size\":10,\"solidity\":0.2}},\"type\":\"barpolar\"}],\"carpet\":[{\"aaxis\":{\"endlinecolor\":\"#2a3f5f\",\"gridcolor\":\"white\",\"linecolor\":\"white\",\"minorgridcolor\":\"white\",\"startlinecolor\":\"#2a3f5f\"},\"baxis\":{\"endlinecolor\":\"#2a3f5f\",\"gridcolor\":\"white\",\"linecolor\":\"white\",\"minorgridcolor\":\"white\",\"startlinecolor\":\"#2a3f5f\"},\"type\":\"carpet\"}],\"choropleth\":[{\"colorbar\":{\"outlinewidth\":0,\"ticks\":\"\"},\"type\":\"choropleth\"}],\"contour\":[{\"colorbar\":{\"outlinewidth\":0,\"ticks\":\"\"},\"colorscale\":[[0.0,\"#0d0887\"],[0.1111111111111111,\"#46039f\"],[0.2222222222222222,\"#7201a8\"],[0.3333333333333333,\"#9c179e\"],[0.4444444444444444,\"#bd3786\"],[0.5555555555555556,\"#d8576b\"],[0.6666666666666666,\"#ed7953\"],[0.7777777777777778,\"#fb9f3a\"],[0.8888888888888888,\"#fdca26\"],[1.0,\"#f0f921\"]],\"type\":\"contour\"}],\"contourcarpet\":[{\"colorbar\":{\"outlinewidth\":0,\"ticks\":\"\"},\"type\":\"contourcarpet\"}],\"heatmap\":[{\"colorbar\":{\"outlinewidth\":0,\"ticks\":\"\"},\"colorscale\":[[0.0,\"#0d0887\"],[0.1111111111111111,\"#46039f\"],[0.2222222222222222,\"#7201a8\"],[0.3333333333333333,\"#9c179e\"],[0.4444444444444444,\"#bd3786\"],[0.5555555555555556,\"#d8576b\"],[0.6666666666666666,\"#ed7953\"],[0.7777777777777778,\"#fb9f3a\"],[0.8888888888888888,\"#fdca26\"],[1.0,\"#f0f921\"]],\"type\":\"heatmap\"}],\"heatmapgl\":[{\"colorbar\":{\"outlinewidth\":0,\"ticks\":\"\"},\"colorscale\":[[0.0,\"#0d0887\"],[0.1111111111111111,\"#46039f\"],[0.2222222222222222,\"#7201a8\"],[0.3333333333333333,\"#9c179e\"],[0.4444444444444444,\"#bd3786\"],[0.5555555555555556,\"#d8576b\"],[0.6666666666666666,\"#ed7953\"],[0.7777777777777778,\"#fb9f3a\"],[0.8888888888888888,\"#fdca26\"],[1.0,\"#f0f921\"]],\"type\":\"heatmapgl\"}],\"histogram\":[{\"marker\":{\"pattern\":{\"fillmode\":\"overlay\",\"size\":10,\"solidity\":0.2}},\"type\":\"histogram\"}],\"histogram2d\":[{\"colorbar\":{\"outlinewidth\":0,\"ticks\":\"\"},\"colorscale\":[[0.0,\"#0d0887\"],[0.1111111111111111,\"#46039f\"],[0.2222222222222222,\"#7201a8\"],[0.3333333333333333,\"#9c179e\"],[0.4444444444444444,\"#bd3786\"],[0.5555555555555556,\"#d8576b\"],[0.6666666666666666,\"#ed7953\"],[0.7777777777777778,\"#fb9f3a\"],[0.8888888888888888,\"#fdca26\"],[1.0,\"#f0f921\"]],\"type\":\"histogram2d\"}],\"histogram2dcontour\":[{\"colorbar\":{\"outlinewidth\":0,\"ticks\":\"\"},\"colorscale\":[[0.0,\"#0d0887\"],[0.1111111111111111,\"#46039f\"],[0.2222222222222222,\"#7201a8\"],[0.3333333333333333,\"#9c179e\"],[0.4444444444444444,\"#bd3786\"],[0.5555555555555556,\"#d8576b\"],[0.6666666666666666,\"#ed7953\"],[0.7777777777777778,\"#fb9f3a\"],[0.8888888888888888,\"#fdca26\"],[1.0,\"#f0f921\"]],\"type\":\"histogram2dcontour\"}],\"mesh3d\":[{\"colorbar\":{\"outlinewidth\":0,\"ticks\":\"\"},\"type\":\"mesh3d\"}],\"parcoords\":[{\"line\":{\"colorbar\":{\"outlinewidth\":0,\"ticks\":\"\"}},\"type\":\"parcoords\"}],\"pie\":[{\"automargin\":true,\"type\":\"pie\"}],\"scatter\":[{\"marker\":{\"colorbar\":{\"outlinewidth\":0,\"ticks\":\"\"}},\"type\":\"scatter\"}],\"scatter3d\":[{\"line\":{\"colorbar\":{\"outlinewidth\":0,\"ticks\":\"\"}},\"marker\":{\"colorbar\":{\"outlinewidth\":0,\"ticks\":\"\"}},\"type\":\"scatter3d\"}],\"scattercarpet\":[{\"marker\":{\"colorbar\":{\"outlinewidth\":0,\"ticks\":\"\"}},\"type\":\"scattercarpet\"}],\"scattergeo\":[{\"marker\":{\"colorbar\":{\"outlinewidth\":0,\"ticks\":\"\"}},\"type\":\"scattergeo\"}],\"scattergl\":[{\"marker\":{\"colorbar\":{\"outlinewidth\":0,\"ticks\":\"\"}},\"type\":\"scattergl\"}],\"scattermapbox\":[{\"marker\":{\"colorbar\":{\"outlinewidth\":0,\"ticks\":\"\"}},\"type\":\"scattermapbox\"}],\"scatterpolar\":[{\"marker\":{\"colorbar\":{\"outlinewidth\":0,\"ticks\":\"\"}},\"type\":\"scatterpolar\"}],\"scatterpolargl\":[{\"marker\":{\"colorbar\":{\"outlinewidth\":0,\"ticks\":\"\"}},\"type\":\"scatterpolargl\"}],\"scatterternary\":[{\"marker\":{\"colorbar\":{\"outlinewidth\":0,\"ticks\":\"\"}},\"type\":\"scatterternary\"}],\"surface\":[{\"colorbar\":{\"outlinewidth\":0,\"ticks\":\"\"},\"colorscale\":[[0.0,\"#0d0887\"],[0.1111111111111111,\"#46039f\"],[0.2222222222222222,\"#7201a8\"],[0.3333333333333333,\"#9c179e\"],[0.4444444444444444,\"#bd3786\"],[0.5555555555555556,\"#d8576b\"],[0.6666666666666666,\"#ed7953\"],[0.7777777777777778,\"#fb9f3a\"],[0.8888888888888888,\"#fdca26\"],[1.0,\"#f0f921\"]],\"type\":\"surface\"}],\"table\":[{\"cells\":{\"fill\":{\"color\":\"#EBF0F8\"},\"line\":{\"color\":\"white\"}},\"header\":{\"fill\":{\"color\":\"#C8D4E3\"},\"line\":{\"color\":\"white\"}},\"type\":\"table\"}]},\"layout\":{\"annotationdefaults\":{\"arrowcolor\":\"#2a3f5f\",\"arrowhead\":0,\"arrowwidth\":1},\"autotypenumbers\":\"strict\",\"coloraxis\":{\"colorbar\":{\"outlinewidth\":0,\"ticks\":\"\"}},\"colorscale\":{\"diverging\":[[0,\"#8e0152\"],[0.1,\"#c51b7d\"],[0.2,\"#de77ae\"],[0.3,\"#f1b6da\"],[0.4,\"#fde0ef\"],[0.5,\"#f7f7f7\"],[0.6,\"#e6f5d0\"],[0.7,\"#b8e186\"],[0.8,\"#7fbc41\"],[0.9,\"#4d9221\"],[1,\"#276419\"]],\"sequential\":[[0.0,\"#0d0887\"],[0.1111111111111111,\"#46039f\"],[0.2222222222222222,\"#7201a8\"],[0.3333333333333333,\"#9c179e\"],[0.4444444444444444,\"#bd3786\"],[0.5555555555555556,\"#d8576b\"],[0.6666666666666666,\"#ed7953\"],[0.7777777777777778,\"#fb9f3a\"],[0.8888888888888888,\"#fdca26\"],[1.0,\"#f0f921\"]],\"sequentialminus\":[[0.0,\"#0d0887\"],[0.1111111111111111,\"#46039f\"],[0.2222222222222222,\"#7201a8\"],[0.3333333333333333,\"#9c179e\"],[0.4444444444444444,\"#bd3786\"],[0.5555555555555556,\"#d8576b\"],[0.6666666666666666,\"#ed7953\"],[0.7777777777777778,\"#fb9f3a\"],[0.8888888888888888,\"#fdca26\"],[1.0,\"#f0f921\"]]},\"colorway\":[\"#636efa\",\"#EF553B\",\"#00cc96\",\"#ab63fa\",\"#FFA15A\",\"#19d3f3\",\"#FF6692\",\"#B6E880\",\"#FF97FF\",\"#FECB52\"],\"font\":{\"color\":\"#2a3f5f\"},\"geo\":{\"bgcolor\":\"white\",\"lakecolor\":\"white\",\"landcolor\":\"#E5ECF6\",\"showlakes\":true,\"showland\":true,\"subunitcolor\":\"white\"},\"hoverlabel\":{\"align\":\"left\"},\"hovermode\":\"closest\",\"mapbox\":{\"style\":\"light\"},\"paper_bgcolor\":\"white\",\"plot_bgcolor\":\"#E5ECF6\",\"polar\":{\"angularaxis\":{\"gridcolor\":\"white\",\"linecolor\":\"white\",\"ticks\":\"\"},\"bgcolor\":\"#E5ECF6\",\"radialaxis\":{\"gridcolor\":\"white\",\"linecolor\":\"white\",\"ticks\":\"\"}},\"scene\":{\"xaxis\":{\"backgroundcolor\":\"#E5ECF6\",\"gridcolor\":\"white\",\"gridwidth\":2,\"linecolor\":\"white\",\"showbackground\":true,\"ticks\":\"\",\"zerolinecolor\":\"white\"},\"yaxis\":{\"backgroundcolor\":\"#E5ECF6\",\"gridcolor\":\"white\",\"gridwidth\":2,\"linecolor\":\"white\",\"showbackground\":true,\"ticks\":\"\",\"zerolinecolor\":\"white\"},\"zaxis\":{\"backgroundcolor\":\"#E5ECF6\",\"gridcolor\":\"white\",\"gridwidth\":2,\"linecolor\":\"white\",\"showbackground\":true,\"ticks\":\"\",\"zerolinecolor\":\"white\"}},\"shapedefaults\":{\"line\":{\"color\":\"#2a3f5f\"}},\"ternary\":{\"aaxis\":{\"gridcolor\":\"white\",\"linecolor\":\"white\",\"ticks\":\"\"},\"baxis\":{\"gridcolor\":\"white\",\"linecolor\":\"white\",\"ticks\":\"\"},\"bgcolor\":\"#E5ECF6\",\"caxis\":{\"gridcolor\":\"white\",\"linecolor\":\"white\",\"ticks\":\"\"}},\"title\":{\"x\":0.05},\"xaxis\":{\"automargin\":true,\"gridcolor\":\"white\",\"linecolor\":\"white\",\"ticks\":\"\",\"title\":{\"standoff\":15},\"zerolinecolor\":\"white\",\"zerolinewidth\":2},\"yaxis\":{\"automargin\":true,\"gridcolor\":\"white\",\"linecolor\":\"white\",\"ticks\":\"\",\"title\":{\"standoff\":15},\"zerolinecolor\":\"white\",\"zerolinewidth\":2}}},\"margin\":{\"r\":5,\"l\":5,\"t\":5,\"b\":5},\"width\":600,\"height\":120},                        {\"responsive\": true}                    ).then(function(){\n",
              "                            \n",
              "var gd = document.getElementById('02e422d8-294b-440e-8a36-48229618f4ec');\n",
              "var x = new MutationObserver(function (mutations, observer) {{\n",
              "        var display = window.getComputedStyle(gd).display;\n",
              "        if (!display || display === 'none') {{\n",
              "            console.log([gd, 'removed!']);\n",
              "            Plotly.purge(gd);\n",
              "            observer.disconnect();\n",
              "        }}\n",
              "}});\n",
              "\n",
              "// Listen for the removal of the full notebook cells\n",
              "var notebookContainer = gd.closest('#notebook-container');\n",
              "if (notebookContainer) {{\n",
              "    x.observe(notebookContainer, {childList: true});\n",
              "}}\n",
              "\n",
              "// Listen for the clearing of the current output cell\n",
              "var outputEl = gd.closest('.output');\n",
              "if (outputEl) {{\n",
              "    x.observe(outputEl, {childList: true});\n",
              "}}\n",
              "\n",
              "                        })                };                            </script>        </div>\n",
              "</body>\n",
              "</html>"
            ]
          },
          "metadata": {},
          "output_type": "display_data"
        }
      ],
      "metadata": {
        "execution": {
          "iopub.status.busy": "2021-11-10T01:41:35.844959Z",
          "iopub.execute_input": "2021-11-10T01:41:35.845618Z",
          "iopub.status.idle": "2021-11-10T01:41:35.878476Z",
          "shell.execute_reply.started": "2021-11-10T01:41:35.845573Z",
          "shell.execute_reply": "2021-11-10T01:41:35.877689Z"
        },
        "trusted": true,
        "colab": {
          "base_uri": "https://localhost:8080/",
          "height": 137
        },
        "cellView": "form",
        "id": "oOQwxFVCmX_X",
        "outputId": "5ff903d2-9da0-4e2e-c2c5-3dd1a19f1b23"
      }
    },
    {
      "cell_type": "markdown",
      "source": [
        "Já para usuários registrados, há uma diminuição de usuários/dia do dia útil para o dia de descanso, calculado por \n",
        "> (var_restday-var_workday)/var_workday\n",
        "\n",
        "No caso dos registrados, a diferença entre os dias depende menos da estação"
      ],
      "metadata": {
        "id": "2i4eMDo4mX_X"
      }
    },
    {
      "cell_type": "code",
      "execution_count": 12,
      "source": [
        "#@title\r\n",
        "registered_grouped_data = grouped_data[grouped_data['type']=='registered'][['season','workday','restday']]\r\n",
        "registered_grouped_data['restday decrease'] = grouped_data.apply(lambda x: \"{:.2%}\".format((x['restday'] - x['workday'])/x['workday']),axis=1)\r\n",
        "\r\n",
        "import plotly.graph_objects as go\r\n",
        "\r\n",
        "fig = go.Figure(data=[go.Table(\r\n",
        "    columnorder = [1,2,3,4],\r\n",
        "    columnwidth = [50]*4,\r\n",
        "    header=dict(values=list(registered_grouped_data.columns),\r\n",
        "                fill_color='paleturquoise',\r\n",
        "                align='left'),\r\n",
        "    cells=dict(values=registered_grouped_data.values.T,\r\n",
        "               fill_color='lavender',\r\n",
        "               align='left'),\r\n",
        ")\r\n",
        "])\r\n",
        "fig.update_layout(width=600, height=120, margin=dict(r=5, l=5, t=5, b=5))\r\n",
        "fig.show()"
      ],
      "outputs": [
        {
          "data": {
            "text/html": [
              "<html>\n",
              "<head><meta charset=\"utf-8\" /></head>\n",
              "<body>\n",
              "    <div>            <script src=\"https://cdnjs.cloudflare.com/ajax/libs/mathjax/2.7.5/MathJax.js?config=TeX-AMS-MML_SVG\"></script><script type=\"text/javascript\">if (window.MathJax) {MathJax.Hub.Config({SVG: {font: \"STIX-Web\"}});}</script>                <script type=\"text/javascript\">window.PlotlyConfig = {MathJaxConfig: 'local'};</script>\n",
              "        <script src=\"https://cdn.plot.ly/plotly-2.6.3.min.js\"></script>                <div id=\"a3188ab4-51c1-4f7d-a23a-556c33832571\" class=\"plotly-graph-div\" style=\"height:120px; width:600px;\"></div>            <script type=\"text/javascript\">                                    window.PLOTLYENV=window.PLOTLYENV || {};                                    if (document.getElementById(\"a3188ab4-51c1-4f7d-a23a-556c33832571\")) {                    Plotly.newPlot(                        \"a3188ab4-51c1-4f7d-a23a-556c33832571\",                        [{\"cells\":{\"align\":\"left\",\"fill\":{\"color\":\"lavender\"},\"values\":[[\"1_winter\",\"2_spring\",\"3_summer\",\"4_autumn\"],[2545.36,4162.38,4811.66,4302.24],[1725.95,3255.05,3591.42,3355.44],[\"-32.19%\",\"-21.80%\",\"-25.36%\",\"-22.01%\"]]},\"columnorder\":[1,2,3,4],\"columnwidth\":[50,50,50,50],\"header\":{\"align\":\"left\",\"fill\":{\"color\":\"paleturquoise\"},\"values\":[\"season\",\"workday\",\"restday\",\"restday decrease\"]},\"type\":\"table\"}],                        {\"template\":{\"data\":{\"bar\":[{\"error_x\":{\"color\":\"#2a3f5f\"},\"error_y\":{\"color\":\"#2a3f5f\"},\"marker\":{\"line\":{\"color\":\"#E5ECF6\",\"width\":0.5},\"pattern\":{\"fillmode\":\"overlay\",\"size\":10,\"solidity\":0.2}},\"type\":\"bar\"}],\"barpolar\":[{\"marker\":{\"line\":{\"color\":\"#E5ECF6\",\"width\":0.5},\"pattern\":{\"fillmode\":\"overlay\",\"size\":10,\"solidity\":0.2}},\"type\":\"barpolar\"}],\"carpet\":[{\"aaxis\":{\"endlinecolor\":\"#2a3f5f\",\"gridcolor\":\"white\",\"linecolor\":\"white\",\"minorgridcolor\":\"white\",\"startlinecolor\":\"#2a3f5f\"},\"baxis\":{\"endlinecolor\":\"#2a3f5f\",\"gridcolor\":\"white\",\"linecolor\":\"white\",\"minorgridcolor\":\"white\",\"startlinecolor\":\"#2a3f5f\"},\"type\":\"carpet\"}],\"choropleth\":[{\"colorbar\":{\"outlinewidth\":0,\"ticks\":\"\"},\"type\":\"choropleth\"}],\"contour\":[{\"colorbar\":{\"outlinewidth\":0,\"ticks\":\"\"},\"colorscale\":[[0.0,\"#0d0887\"],[0.1111111111111111,\"#46039f\"],[0.2222222222222222,\"#7201a8\"],[0.3333333333333333,\"#9c179e\"],[0.4444444444444444,\"#bd3786\"],[0.5555555555555556,\"#d8576b\"],[0.6666666666666666,\"#ed7953\"],[0.7777777777777778,\"#fb9f3a\"],[0.8888888888888888,\"#fdca26\"],[1.0,\"#f0f921\"]],\"type\":\"contour\"}],\"contourcarpet\":[{\"colorbar\":{\"outlinewidth\":0,\"ticks\":\"\"},\"type\":\"contourcarpet\"}],\"heatmap\":[{\"colorbar\":{\"outlinewidth\":0,\"ticks\":\"\"},\"colorscale\":[[0.0,\"#0d0887\"],[0.1111111111111111,\"#46039f\"],[0.2222222222222222,\"#7201a8\"],[0.3333333333333333,\"#9c179e\"],[0.4444444444444444,\"#bd3786\"],[0.5555555555555556,\"#d8576b\"],[0.6666666666666666,\"#ed7953\"],[0.7777777777777778,\"#fb9f3a\"],[0.8888888888888888,\"#fdca26\"],[1.0,\"#f0f921\"]],\"type\":\"heatmap\"}],\"heatmapgl\":[{\"colorbar\":{\"outlinewidth\":0,\"ticks\":\"\"},\"colorscale\":[[0.0,\"#0d0887\"],[0.1111111111111111,\"#46039f\"],[0.2222222222222222,\"#7201a8\"],[0.3333333333333333,\"#9c179e\"],[0.4444444444444444,\"#bd3786\"],[0.5555555555555556,\"#d8576b\"],[0.6666666666666666,\"#ed7953\"],[0.7777777777777778,\"#fb9f3a\"],[0.8888888888888888,\"#fdca26\"],[1.0,\"#f0f921\"]],\"type\":\"heatmapgl\"}],\"histogram\":[{\"marker\":{\"pattern\":{\"fillmode\":\"overlay\",\"size\":10,\"solidity\":0.2}},\"type\":\"histogram\"}],\"histogram2d\":[{\"colorbar\":{\"outlinewidth\":0,\"ticks\":\"\"},\"colorscale\":[[0.0,\"#0d0887\"],[0.1111111111111111,\"#46039f\"],[0.2222222222222222,\"#7201a8\"],[0.3333333333333333,\"#9c179e\"],[0.4444444444444444,\"#bd3786\"],[0.5555555555555556,\"#d8576b\"],[0.6666666666666666,\"#ed7953\"],[0.7777777777777778,\"#fb9f3a\"],[0.8888888888888888,\"#fdca26\"],[1.0,\"#f0f921\"]],\"type\":\"histogram2d\"}],\"histogram2dcontour\":[{\"colorbar\":{\"outlinewidth\":0,\"ticks\":\"\"},\"colorscale\":[[0.0,\"#0d0887\"],[0.1111111111111111,\"#46039f\"],[0.2222222222222222,\"#7201a8\"],[0.3333333333333333,\"#9c179e\"],[0.4444444444444444,\"#bd3786\"],[0.5555555555555556,\"#d8576b\"],[0.6666666666666666,\"#ed7953\"],[0.7777777777777778,\"#fb9f3a\"],[0.8888888888888888,\"#fdca26\"],[1.0,\"#f0f921\"]],\"type\":\"histogram2dcontour\"}],\"mesh3d\":[{\"colorbar\":{\"outlinewidth\":0,\"ticks\":\"\"},\"type\":\"mesh3d\"}],\"parcoords\":[{\"line\":{\"colorbar\":{\"outlinewidth\":0,\"ticks\":\"\"}},\"type\":\"parcoords\"}],\"pie\":[{\"automargin\":true,\"type\":\"pie\"}],\"scatter\":[{\"marker\":{\"colorbar\":{\"outlinewidth\":0,\"ticks\":\"\"}},\"type\":\"scatter\"}],\"scatter3d\":[{\"line\":{\"colorbar\":{\"outlinewidth\":0,\"ticks\":\"\"}},\"marker\":{\"colorbar\":{\"outlinewidth\":0,\"ticks\":\"\"}},\"type\":\"scatter3d\"}],\"scattercarpet\":[{\"marker\":{\"colorbar\":{\"outlinewidth\":0,\"ticks\":\"\"}},\"type\":\"scattercarpet\"}],\"scattergeo\":[{\"marker\":{\"colorbar\":{\"outlinewidth\":0,\"ticks\":\"\"}},\"type\":\"scattergeo\"}],\"scattergl\":[{\"marker\":{\"colorbar\":{\"outlinewidth\":0,\"ticks\":\"\"}},\"type\":\"scattergl\"}],\"scattermapbox\":[{\"marker\":{\"colorbar\":{\"outlinewidth\":0,\"ticks\":\"\"}},\"type\":\"scattermapbox\"}],\"scatterpolar\":[{\"marker\":{\"colorbar\":{\"outlinewidth\":0,\"ticks\":\"\"}},\"type\":\"scatterpolar\"}],\"scatterpolargl\":[{\"marker\":{\"colorbar\":{\"outlinewidth\":0,\"ticks\":\"\"}},\"type\":\"scatterpolargl\"}],\"scatterternary\":[{\"marker\":{\"colorbar\":{\"outlinewidth\":0,\"ticks\":\"\"}},\"type\":\"scatterternary\"}],\"surface\":[{\"colorbar\":{\"outlinewidth\":0,\"ticks\":\"\"},\"colorscale\":[[0.0,\"#0d0887\"],[0.1111111111111111,\"#46039f\"],[0.2222222222222222,\"#7201a8\"],[0.3333333333333333,\"#9c179e\"],[0.4444444444444444,\"#bd3786\"],[0.5555555555555556,\"#d8576b\"],[0.6666666666666666,\"#ed7953\"],[0.7777777777777778,\"#fb9f3a\"],[0.8888888888888888,\"#fdca26\"],[1.0,\"#f0f921\"]],\"type\":\"surface\"}],\"table\":[{\"cells\":{\"fill\":{\"color\":\"#EBF0F8\"},\"line\":{\"color\":\"white\"}},\"header\":{\"fill\":{\"color\":\"#C8D4E3\"},\"line\":{\"color\":\"white\"}},\"type\":\"table\"}]},\"layout\":{\"annotationdefaults\":{\"arrowcolor\":\"#2a3f5f\",\"arrowhead\":0,\"arrowwidth\":1},\"autotypenumbers\":\"strict\",\"coloraxis\":{\"colorbar\":{\"outlinewidth\":0,\"ticks\":\"\"}},\"colorscale\":{\"diverging\":[[0,\"#8e0152\"],[0.1,\"#c51b7d\"],[0.2,\"#de77ae\"],[0.3,\"#f1b6da\"],[0.4,\"#fde0ef\"],[0.5,\"#f7f7f7\"],[0.6,\"#e6f5d0\"],[0.7,\"#b8e186\"],[0.8,\"#7fbc41\"],[0.9,\"#4d9221\"],[1,\"#276419\"]],\"sequential\":[[0.0,\"#0d0887\"],[0.1111111111111111,\"#46039f\"],[0.2222222222222222,\"#7201a8\"],[0.3333333333333333,\"#9c179e\"],[0.4444444444444444,\"#bd3786\"],[0.5555555555555556,\"#d8576b\"],[0.6666666666666666,\"#ed7953\"],[0.7777777777777778,\"#fb9f3a\"],[0.8888888888888888,\"#fdca26\"],[1.0,\"#f0f921\"]],\"sequentialminus\":[[0.0,\"#0d0887\"],[0.1111111111111111,\"#46039f\"],[0.2222222222222222,\"#7201a8\"],[0.3333333333333333,\"#9c179e\"],[0.4444444444444444,\"#bd3786\"],[0.5555555555555556,\"#d8576b\"],[0.6666666666666666,\"#ed7953\"],[0.7777777777777778,\"#fb9f3a\"],[0.8888888888888888,\"#fdca26\"],[1.0,\"#f0f921\"]]},\"colorway\":[\"#636efa\",\"#EF553B\",\"#00cc96\",\"#ab63fa\",\"#FFA15A\",\"#19d3f3\",\"#FF6692\",\"#B6E880\",\"#FF97FF\",\"#FECB52\"],\"font\":{\"color\":\"#2a3f5f\"},\"geo\":{\"bgcolor\":\"white\",\"lakecolor\":\"white\",\"landcolor\":\"#E5ECF6\",\"showlakes\":true,\"showland\":true,\"subunitcolor\":\"white\"},\"hoverlabel\":{\"align\":\"left\"},\"hovermode\":\"closest\",\"mapbox\":{\"style\":\"light\"},\"paper_bgcolor\":\"white\",\"plot_bgcolor\":\"#E5ECF6\",\"polar\":{\"angularaxis\":{\"gridcolor\":\"white\",\"linecolor\":\"white\",\"ticks\":\"\"},\"bgcolor\":\"#E5ECF6\",\"radialaxis\":{\"gridcolor\":\"white\",\"linecolor\":\"white\",\"ticks\":\"\"}},\"scene\":{\"xaxis\":{\"backgroundcolor\":\"#E5ECF6\",\"gridcolor\":\"white\",\"gridwidth\":2,\"linecolor\":\"white\",\"showbackground\":true,\"ticks\":\"\",\"zerolinecolor\":\"white\"},\"yaxis\":{\"backgroundcolor\":\"#E5ECF6\",\"gridcolor\":\"white\",\"gridwidth\":2,\"linecolor\":\"white\",\"showbackground\":true,\"ticks\":\"\",\"zerolinecolor\":\"white\"},\"zaxis\":{\"backgroundcolor\":\"#E5ECF6\",\"gridcolor\":\"white\",\"gridwidth\":2,\"linecolor\":\"white\",\"showbackground\":true,\"ticks\":\"\",\"zerolinecolor\":\"white\"}},\"shapedefaults\":{\"line\":{\"color\":\"#2a3f5f\"}},\"ternary\":{\"aaxis\":{\"gridcolor\":\"white\",\"linecolor\":\"white\",\"ticks\":\"\"},\"baxis\":{\"gridcolor\":\"white\",\"linecolor\":\"white\",\"ticks\":\"\"},\"bgcolor\":\"#E5ECF6\",\"caxis\":{\"gridcolor\":\"white\",\"linecolor\":\"white\",\"ticks\":\"\"}},\"title\":{\"x\":0.05},\"xaxis\":{\"automargin\":true,\"gridcolor\":\"white\",\"linecolor\":\"white\",\"ticks\":\"\",\"title\":{\"standoff\":15},\"zerolinecolor\":\"white\",\"zerolinewidth\":2},\"yaxis\":{\"automargin\":true,\"gridcolor\":\"white\",\"linecolor\":\"white\",\"ticks\":\"\",\"title\":{\"standoff\":15},\"zerolinecolor\":\"white\",\"zerolinewidth\":2}}},\"margin\":{\"r\":5,\"l\":5,\"t\":5,\"b\":5},\"width\":600,\"height\":120},                        {\"responsive\": true}                    ).then(function(){\n",
              "                            \n",
              "var gd = document.getElementById('a3188ab4-51c1-4f7d-a23a-556c33832571');\n",
              "var x = new MutationObserver(function (mutations, observer) {{\n",
              "        var display = window.getComputedStyle(gd).display;\n",
              "        if (!display || display === 'none') {{\n",
              "            console.log([gd, 'removed!']);\n",
              "            Plotly.purge(gd);\n",
              "            observer.disconnect();\n",
              "        }}\n",
              "}});\n",
              "\n",
              "// Listen for the removal of the full notebook cells\n",
              "var notebookContainer = gd.closest('#notebook-container');\n",
              "if (notebookContainer) {{\n",
              "    x.observe(notebookContainer, {childList: true});\n",
              "}}\n",
              "\n",
              "// Listen for the clearing of the current output cell\n",
              "var outputEl = gd.closest('.output');\n",
              "if (outputEl) {{\n",
              "    x.observe(outputEl, {childList: true});\n",
              "}}\n",
              "\n",
              "                        })                };                            </script>        </div>\n",
              "</body>\n",
              "</html>"
            ]
          },
          "metadata": {},
          "output_type": "display_data"
        }
      ],
      "metadata": {
        "execution": {
          "iopub.status.busy": "2021-11-10T01:41:35.881478Z",
          "iopub.execute_input": "2021-11-10T01:41:35.882199Z",
          "iopub.status.idle": "2021-11-10T01:41:35.904141Z",
          "shell.execute_reply.started": "2021-11-10T01:41:35.882157Z",
          "shell.execute_reply": "2021-11-10T01:41:35.903306Z"
        },
        "jupyter": {
          "source_hidden": true
        },
        "trusted": true,
        "colab": {
          "base_uri": "https://localhost:8080/",
          "height": 137
        },
        "cellView": "form",
        "id": "NiT-9mJxmX_X",
        "outputId": "2e365fb4-d846-4e19-ffd8-8f89b1222528"
      }
    },
    {
      "cell_type": "markdown",
      "source": [
        "##1.4 Weather Situation\n",
        "A variável weather situation busca representar o clima do dia, classificando em Clear (céu limpo/aberto), Mist (céu com névoa) e Formations (formações no céu, como chuva ou afins), sendo Light (leve) ou Heavy (pesado). Fica claro no gráfico abaixo que tipo de clima atrai mais os usuários."
      ],
      "metadata": {
        "id": "HAupe6timX_X"
      }
    },
    {
      "cell_type": "code",
      "execution_count": 13,
      "source": [
        "#@title\n",
        "grouped_data = df[['weathersit', 'cnt']].groupby(['weathersit'])['cnt'].agg([np.sum,\"count\"]).reset_index()\n",
        "grouped_data['users/day'] = grouped_data.apply(lambda x : float(\"{:.2f}\".format(x['sum']/x['count'])),axis=1)\n",
        "fig = px.bar(grouped_data, x='weathersit', y='users/day', color = 'weathersit', text = 'users/day', width=800)\n",
        "fig.update_layout(\n",
        "    title={\n",
        "        'text': \"Weather situation vs users/day\",\n",
        "        'x':0.5,\n",
        "        'xanchor': 'center',\n",
        "        'yanchor': 'middle'})\n",
        "fig.show()"
      ],
      "outputs": [
        {
          "data": {
            "text/html": [
              "<html>\n",
              "<head><meta charset=\"utf-8\" /></head>\n",
              "<body>\n",
              "    <div>            <script src=\"https://cdnjs.cloudflare.com/ajax/libs/mathjax/2.7.5/MathJax.js?config=TeX-AMS-MML_SVG\"></script><script type=\"text/javascript\">if (window.MathJax) {MathJax.Hub.Config({SVG: {font: \"STIX-Web\"}});}</script>                <script type=\"text/javascript\">window.PlotlyConfig = {MathJaxConfig: 'local'};</script>\n",
              "        <script src=\"https://cdn.plot.ly/plotly-2.6.3.min.js\"></script>                <div id=\"a3296e75-81ff-42ec-a747-539fafafd210\" class=\"plotly-graph-div\" style=\"height:525px; width:800px;\"></div>            <script type=\"text/javascript\">                                    window.PLOTLYENV=window.PLOTLYENV || {};                                    if (document.getElementById(\"a3296e75-81ff-42ec-a747-539fafafd210\")) {                    Plotly.newPlot(                        \"a3296e75-81ff-42ec-a747-539fafafd210\",                        [{\"alignmentgroup\":\"True\",\"hovertemplate\":\"weathersit=%{x}<br>users/day=%{text}<extra></extra>\",\"legendgroup\":\"1 _ Clear\",\"marker\":{\"color\":\"#636efa\",\"pattern\":{\"shape\":\"\"}},\"name\":\"1 _ Clear\",\"offsetgroup\":\"1 _ Clear\",\"orientation\":\"v\",\"showlegend\":true,\"text\":[4876.79],\"textposition\":\"auto\",\"x\":[\"1 _ Clear\"],\"xaxis\":\"x\",\"y\":[4876.79],\"yaxis\":\"y\",\"type\":\"bar\"},{\"alignmentgroup\":\"True\",\"hovertemplate\":\"weathersit=%{x}<br>users/day=%{text}<extra></extra>\",\"legendgroup\":\"2 _ Mist\",\"marker\":{\"color\":\"#EF553B\",\"pattern\":{\"shape\":\"\"}},\"name\":\"2 _ Mist\",\"offsetgroup\":\"2 _ Mist\",\"orientation\":\"v\",\"showlegend\":true,\"text\":[4035.86],\"textposition\":\"auto\",\"x\":[\"2 _ Mist\"],\"xaxis\":\"x\",\"y\":[4035.86],\"yaxis\":\"y\",\"type\":\"bar\"},{\"alignmentgroup\":\"True\",\"hovertemplate\":\"weathersit=%{x}<br>users/day=%{text}<extra></extra>\",\"legendgroup\":\"3 _ Formations - Light\",\"marker\":{\"color\":\"#00cc96\",\"pattern\":{\"shape\":\"\"}},\"name\":\"3 _ Formations - Light\",\"offsetgroup\":\"3 _ Formations - Light\",\"orientation\":\"v\",\"showlegend\":true,\"text\":[1803.29],\"textposition\":\"auto\",\"x\":[\"3 _ Formations - Light\"],\"xaxis\":\"x\",\"y\":[1803.29],\"yaxis\":\"y\",\"type\":\"bar\"}],                        {\"template\":{\"data\":{\"bar\":[{\"error_x\":{\"color\":\"#2a3f5f\"},\"error_y\":{\"color\":\"#2a3f5f\"},\"marker\":{\"line\":{\"color\":\"#E5ECF6\",\"width\":0.5},\"pattern\":{\"fillmode\":\"overlay\",\"size\":10,\"solidity\":0.2}},\"type\":\"bar\"}],\"barpolar\":[{\"marker\":{\"line\":{\"color\":\"#E5ECF6\",\"width\":0.5},\"pattern\":{\"fillmode\":\"overlay\",\"size\":10,\"solidity\":0.2}},\"type\":\"barpolar\"}],\"carpet\":[{\"aaxis\":{\"endlinecolor\":\"#2a3f5f\",\"gridcolor\":\"white\",\"linecolor\":\"white\",\"minorgridcolor\":\"white\",\"startlinecolor\":\"#2a3f5f\"},\"baxis\":{\"endlinecolor\":\"#2a3f5f\",\"gridcolor\":\"white\",\"linecolor\":\"white\",\"minorgridcolor\":\"white\",\"startlinecolor\":\"#2a3f5f\"},\"type\":\"carpet\"}],\"choropleth\":[{\"colorbar\":{\"outlinewidth\":0,\"ticks\":\"\"},\"type\":\"choropleth\"}],\"contour\":[{\"colorbar\":{\"outlinewidth\":0,\"ticks\":\"\"},\"colorscale\":[[0.0,\"#0d0887\"],[0.1111111111111111,\"#46039f\"],[0.2222222222222222,\"#7201a8\"],[0.3333333333333333,\"#9c179e\"],[0.4444444444444444,\"#bd3786\"],[0.5555555555555556,\"#d8576b\"],[0.6666666666666666,\"#ed7953\"],[0.7777777777777778,\"#fb9f3a\"],[0.8888888888888888,\"#fdca26\"],[1.0,\"#f0f921\"]],\"type\":\"contour\"}],\"contourcarpet\":[{\"colorbar\":{\"outlinewidth\":0,\"ticks\":\"\"},\"type\":\"contourcarpet\"}],\"heatmap\":[{\"colorbar\":{\"outlinewidth\":0,\"ticks\":\"\"},\"colorscale\":[[0.0,\"#0d0887\"],[0.1111111111111111,\"#46039f\"],[0.2222222222222222,\"#7201a8\"],[0.3333333333333333,\"#9c179e\"],[0.4444444444444444,\"#bd3786\"],[0.5555555555555556,\"#d8576b\"],[0.6666666666666666,\"#ed7953\"],[0.7777777777777778,\"#fb9f3a\"],[0.8888888888888888,\"#fdca26\"],[1.0,\"#f0f921\"]],\"type\":\"heatmap\"}],\"heatmapgl\":[{\"colorbar\":{\"outlinewidth\":0,\"ticks\":\"\"},\"colorscale\":[[0.0,\"#0d0887\"],[0.1111111111111111,\"#46039f\"],[0.2222222222222222,\"#7201a8\"],[0.3333333333333333,\"#9c179e\"],[0.4444444444444444,\"#bd3786\"],[0.5555555555555556,\"#d8576b\"],[0.6666666666666666,\"#ed7953\"],[0.7777777777777778,\"#fb9f3a\"],[0.8888888888888888,\"#fdca26\"],[1.0,\"#f0f921\"]],\"type\":\"heatmapgl\"}],\"histogram\":[{\"marker\":{\"pattern\":{\"fillmode\":\"overlay\",\"size\":10,\"solidity\":0.2}},\"type\":\"histogram\"}],\"histogram2d\":[{\"colorbar\":{\"outlinewidth\":0,\"ticks\":\"\"},\"colorscale\":[[0.0,\"#0d0887\"],[0.1111111111111111,\"#46039f\"],[0.2222222222222222,\"#7201a8\"],[0.3333333333333333,\"#9c179e\"],[0.4444444444444444,\"#bd3786\"],[0.5555555555555556,\"#d8576b\"],[0.6666666666666666,\"#ed7953\"],[0.7777777777777778,\"#fb9f3a\"],[0.8888888888888888,\"#fdca26\"],[1.0,\"#f0f921\"]],\"type\":\"histogram2d\"}],\"histogram2dcontour\":[{\"colorbar\":{\"outlinewidth\":0,\"ticks\":\"\"},\"colorscale\":[[0.0,\"#0d0887\"],[0.1111111111111111,\"#46039f\"],[0.2222222222222222,\"#7201a8\"],[0.3333333333333333,\"#9c179e\"],[0.4444444444444444,\"#bd3786\"],[0.5555555555555556,\"#d8576b\"],[0.6666666666666666,\"#ed7953\"],[0.7777777777777778,\"#fb9f3a\"],[0.8888888888888888,\"#fdca26\"],[1.0,\"#f0f921\"]],\"type\":\"histogram2dcontour\"}],\"mesh3d\":[{\"colorbar\":{\"outlinewidth\":0,\"ticks\":\"\"},\"type\":\"mesh3d\"}],\"parcoords\":[{\"line\":{\"colorbar\":{\"outlinewidth\":0,\"ticks\":\"\"}},\"type\":\"parcoords\"}],\"pie\":[{\"automargin\":true,\"type\":\"pie\"}],\"scatter\":[{\"marker\":{\"colorbar\":{\"outlinewidth\":0,\"ticks\":\"\"}},\"type\":\"scatter\"}],\"scatter3d\":[{\"line\":{\"colorbar\":{\"outlinewidth\":0,\"ticks\":\"\"}},\"marker\":{\"colorbar\":{\"outlinewidth\":0,\"ticks\":\"\"}},\"type\":\"scatter3d\"}],\"scattercarpet\":[{\"marker\":{\"colorbar\":{\"outlinewidth\":0,\"ticks\":\"\"}},\"type\":\"scattercarpet\"}],\"scattergeo\":[{\"marker\":{\"colorbar\":{\"outlinewidth\":0,\"ticks\":\"\"}},\"type\":\"scattergeo\"}],\"scattergl\":[{\"marker\":{\"colorbar\":{\"outlinewidth\":0,\"ticks\":\"\"}},\"type\":\"scattergl\"}],\"scattermapbox\":[{\"marker\":{\"colorbar\":{\"outlinewidth\":0,\"ticks\":\"\"}},\"type\":\"scattermapbox\"}],\"scatterpolar\":[{\"marker\":{\"colorbar\":{\"outlinewidth\":0,\"ticks\":\"\"}},\"type\":\"scatterpolar\"}],\"scatterpolargl\":[{\"marker\":{\"colorbar\":{\"outlinewidth\":0,\"ticks\":\"\"}},\"type\":\"scatterpolargl\"}],\"scatterternary\":[{\"marker\":{\"colorbar\":{\"outlinewidth\":0,\"ticks\":\"\"}},\"type\":\"scatterternary\"}],\"surface\":[{\"colorbar\":{\"outlinewidth\":0,\"ticks\":\"\"},\"colorscale\":[[0.0,\"#0d0887\"],[0.1111111111111111,\"#46039f\"],[0.2222222222222222,\"#7201a8\"],[0.3333333333333333,\"#9c179e\"],[0.4444444444444444,\"#bd3786\"],[0.5555555555555556,\"#d8576b\"],[0.6666666666666666,\"#ed7953\"],[0.7777777777777778,\"#fb9f3a\"],[0.8888888888888888,\"#fdca26\"],[1.0,\"#f0f921\"]],\"type\":\"surface\"}],\"table\":[{\"cells\":{\"fill\":{\"color\":\"#EBF0F8\"},\"line\":{\"color\":\"white\"}},\"header\":{\"fill\":{\"color\":\"#C8D4E3\"},\"line\":{\"color\":\"white\"}},\"type\":\"table\"}]},\"layout\":{\"annotationdefaults\":{\"arrowcolor\":\"#2a3f5f\",\"arrowhead\":0,\"arrowwidth\":1},\"autotypenumbers\":\"strict\",\"coloraxis\":{\"colorbar\":{\"outlinewidth\":0,\"ticks\":\"\"}},\"colorscale\":{\"diverging\":[[0,\"#8e0152\"],[0.1,\"#c51b7d\"],[0.2,\"#de77ae\"],[0.3,\"#f1b6da\"],[0.4,\"#fde0ef\"],[0.5,\"#f7f7f7\"],[0.6,\"#e6f5d0\"],[0.7,\"#b8e186\"],[0.8,\"#7fbc41\"],[0.9,\"#4d9221\"],[1,\"#276419\"]],\"sequential\":[[0.0,\"#0d0887\"],[0.1111111111111111,\"#46039f\"],[0.2222222222222222,\"#7201a8\"],[0.3333333333333333,\"#9c179e\"],[0.4444444444444444,\"#bd3786\"],[0.5555555555555556,\"#d8576b\"],[0.6666666666666666,\"#ed7953\"],[0.7777777777777778,\"#fb9f3a\"],[0.8888888888888888,\"#fdca26\"],[1.0,\"#f0f921\"]],\"sequentialminus\":[[0.0,\"#0d0887\"],[0.1111111111111111,\"#46039f\"],[0.2222222222222222,\"#7201a8\"],[0.3333333333333333,\"#9c179e\"],[0.4444444444444444,\"#bd3786\"],[0.5555555555555556,\"#d8576b\"],[0.6666666666666666,\"#ed7953\"],[0.7777777777777778,\"#fb9f3a\"],[0.8888888888888888,\"#fdca26\"],[1.0,\"#f0f921\"]]},\"colorway\":[\"#636efa\",\"#EF553B\",\"#00cc96\",\"#ab63fa\",\"#FFA15A\",\"#19d3f3\",\"#FF6692\",\"#B6E880\",\"#FF97FF\",\"#FECB52\"],\"font\":{\"color\":\"#2a3f5f\"},\"geo\":{\"bgcolor\":\"white\",\"lakecolor\":\"white\",\"landcolor\":\"#E5ECF6\",\"showlakes\":true,\"showland\":true,\"subunitcolor\":\"white\"},\"hoverlabel\":{\"align\":\"left\"},\"hovermode\":\"closest\",\"mapbox\":{\"style\":\"light\"},\"paper_bgcolor\":\"white\",\"plot_bgcolor\":\"#E5ECF6\",\"polar\":{\"angularaxis\":{\"gridcolor\":\"white\",\"linecolor\":\"white\",\"ticks\":\"\"},\"bgcolor\":\"#E5ECF6\",\"radialaxis\":{\"gridcolor\":\"white\",\"linecolor\":\"white\",\"ticks\":\"\"}},\"scene\":{\"xaxis\":{\"backgroundcolor\":\"#E5ECF6\",\"gridcolor\":\"white\",\"gridwidth\":2,\"linecolor\":\"white\",\"showbackground\":true,\"ticks\":\"\",\"zerolinecolor\":\"white\"},\"yaxis\":{\"backgroundcolor\":\"#E5ECF6\",\"gridcolor\":\"white\",\"gridwidth\":2,\"linecolor\":\"white\",\"showbackground\":true,\"ticks\":\"\",\"zerolinecolor\":\"white\"},\"zaxis\":{\"backgroundcolor\":\"#E5ECF6\",\"gridcolor\":\"white\",\"gridwidth\":2,\"linecolor\":\"white\",\"showbackground\":true,\"ticks\":\"\",\"zerolinecolor\":\"white\"}},\"shapedefaults\":{\"line\":{\"color\":\"#2a3f5f\"}},\"ternary\":{\"aaxis\":{\"gridcolor\":\"white\",\"linecolor\":\"white\",\"ticks\":\"\"},\"baxis\":{\"gridcolor\":\"white\",\"linecolor\":\"white\",\"ticks\":\"\"},\"bgcolor\":\"#E5ECF6\",\"caxis\":{\"gridcolor\":\"white\",\"linecolor\":\"white\",\"ticks\":\"\"}},\"title\":{\"x\":0.05},\"xaxis\":{\"automargin\":true,\"gridcolor\":\"white\",\"linecolor\":\"white\",\"ticks\":\"\",\"title\":{\"standoff\":15},\"zerolinecolor\":\"white\",\"zerolinewidth\":2},\"yaxis\":{\"automargin\":true,\"gridcolor\":\"white\",\"linecolor\":\"white\",\"ticks\":\"\",\"title\":{\"standoff\":15},\"zerolinecolor\":\"white\",\"zerolinewidth\":2}}},\"xaxis\":{\"anchor\":\"y\",\"domain\":[0.0,1.0],\"title\":{\"text\":\"weathersit\"},\"categoryorder\":\"array\",\"categoryarray\":[\"1 _ Clear\",\"2 _ Mist\",\"3 _ Formations - Light\"]},\"yaxis\":{\"anchor\":\"x\",\"domain\":[0.0,1.0],\"title\":{\"text\":\"users/day\"}},\"legend\":{\"title\":{\"text\":\"weathersit\"},\"tracegroupgap\":0},\"margin\":{\"t\":60},\"barmode\":\"relative\",\"width\":800,\"title\":{\"text\":\"Weather situation vs users/day\",\"x\":0.5,\"xanchor\":\"center\",\"yanchor\":\"middle\"}},                        {\"responsive\": true}                    ).then(function(){\n",
              "                            \n",
              "var gd = document.getElementById('a3296e75-81ff-42ec-a747-539fafafd210');\n",
              "var x = new MutationObserver(function (mutations, observer) {{\n",
              "        var display = window.getComputedStyle(gd).display;\n",
              "        if (!display || display === 'none') {{\n",
              "            console.log([gd, 'removed!']);\n",
              "            Plotly.purge(gd);\n",
              "            observer.disconnect();\n",
              "        }}\n",
              "}});\n",
              "\n",
              "// Listen for the removal of the full notebook cells\n",
              "var notebookContainer = gd.closest('#notebook-container');\n",
              "if (notebookContainer) {{\n",
              "    x.observe(notebookContainer, {childList: true});\n",
              "}}\n",
              "\n",
              "// Listen for the clearing of the current output cell\n",
              "var outputEl = gd.closest('.output');\n",
              "if (outputEl) {{\n",
              "    x.observe(outputEl, {childList: true});\n",
              "}}\n",
              "\n",
              "                        })                };                            </script>        </div>\n",
              "</body>\n",
              "</html>"
            ]
          },
          "metadata": {},
          "output_type": "display_data"
        }
      ],
      "metadata": {
        "execution": {
          "iopub.status.busy": "2021-11-10T01:41:35.905325Z",
          "iopub.execute_input": "2021-11-10T01:41:35.905709Z",
          "iopub.status.idle": "2021-11-10T01:41:35.990193Z",
          "shell.execute_reply.started": "2021-11-10T01:41:35.905678Z",
          "shell.execute_reply": "2021-11-10T01:41:35.989436Z"
        },
        "trusted": true,
        "colab": {
          "base_uri": "https://localhost:8080/",
          "height": 542
        },
        "cellView": "form",
        "id": "LhdW6mYJmX_Y",
        "outputId": "d69e5c99-bdee-4e47-ed1a-280deb50eea3"
      }
    },
    {
      "cell_type": "markdown",
      "source": [
        "Entrando no detalhe, é possível entender melhor o comportamento de cada tipo de usuário (casual e registrado) dependendo da situação do tempo. As diferenças entre as situações são similares para ambos os tipos de usuário."
      ],
      "metadata": {
        "id": "Smq6s7KhmX_Y"
      }
    },
    {
      "cell_type": "code",
      "execution_count": 14,
      "source": [
        "#@title\n",
        "main_var = 'weathersit'\n",
        "grouped_data = df[[main_var, 'casual','registered']].groupby([main_var])[['casual','registered']].agg([np.sum,\"count\"])\n",
        "grouped_data = grouped_data.stack(0).reset_index().rename(columns={'level_1': 'type'})\n",
        "grouped_data['users/day'] = grouped_data.apply(lambda x : float(\"{:.2f}\".format(x['sum']/x['count'])),axis=1)\n",
        "fig = px.bar(grouped_data, x='type', y='users/day', color = main_var, text = 'users/day', width=1000, barmode='group')\n",
        "fig.update_layout(\n",
        "    title={\n",
        "        'text': \"user type vs weather situation vs users/day\",\n",
        "        'x':0.5,\n",
        "        'xanchor': 'center',\n",
        "        'yanchor': 'middle'})\n",
        "fig.show()"
      ],
      "outputs": [
        {
          "data": {
            "text/html": [
              "<html>\n",
              "<head><meta charset=\"utf-8\" /></head>\n",
              "<body>\n",
              "    <div>            <script src=\"https://cdnjs.cloudflare.com/ajax/libs/mathjax/2.7.5/MathJax.js?config=TeX-AMS-MML_SVG\"></script><script type=\"text/javascript\">if (window.MathJax) {MathJax.Hub.Config({SVG: {font: \"STIX-Web\"}});}</script>                <script type=\"text/javascript\">window.PlotlyConfig = {MathJaxConfig: 'local'};</script>\n",
              "        <script src=\"https://cdn.plot.ly/plotly-2.6.3.min.js\"></script>                <div id=\"7f5e9648-7fd5-4630-954e-7e66da445837\" class=\"plotly-graph-div\" style=\"height:525px; width:1000px;\"></div>            <script type=\"text/javascript\">                                    window.PLOTLYENV=window.PLOTLYENV || {};                                    if (document.getElementById(\"7f5e9648-7fd5-4630-954e-7e66da445837\")) {                    Plotly.newPlot(                        \"7f5e9648-7fd5-4630-954e-7e66da445837\",                        [{\"alignmentgroup\":\"True\",\"hovertemplate\":\"weathersit=1 _ Clear<br>type=%{x}<br>users/day=%{text}<extra></extra>\",\"legendgroup\":\"1 _ Clear\",\"marker\":{\"color\":\"#636efa\",\"pattern\":{\"shape\":\"\"}},\"name\":\"1 _ Clear\",\"offsetgroup\":\"1 _ Clear\",\"orientation\":\"v\",\"showlegend\":true,\"text\":[964.03,3912.76],\"textposition\":\"auto\",\"x\":[\"casual\",\"registered\"],\"xaxis\":\"x\",\"y\":[964.03,3912.76],\"yaxis\":\"y\",\"type\":\"bar\"},{\"alignmentgroup\":\"True\",\"hovertemplate\":\"weathersit=2 _ Mist<br>type=%{x}<br>users/day=%{text}<extra></extra>\",\"legendgroup\":\"2 _ Mist\",\"marker\":{\"color\":\"#EF553B\",\"pattern\":{\"shape\":\"\"}},\"name\":\"2 _ Mist\",\"offsetgroup\":\"2 _ Mist\",\"orientation\":\"v\",\"showlegend\":true,\"text\":[687.35,3348.51],\"textposition\":\"auto\",\"x\":[\"casual\",\"registered\"],\"xaxis\":\"x\",\"y\":[687.35,3348.51],\"yaxis\":\"y\",\"type\":\"bar\"},{\"alignmentgroup\":\"True\",\"hovertemplate\":\"weathersit=3 _ Formations - Light<br>type=%{x}<br>users/day=%{text}<extra></extra>\",\"legendgroup\":\"3 _ Formations - Light\",\"marker\":{\"color\":\"#00cc96\",\"pattern\":{\"shape\":\"\"}},\"name\":\"3 _ Formations - Light\",\"offsetgroup\":\"3 _ Formations - Light\",\"orientation\":\"v\",\"showlegend\":true,\"text\":[185.48,1617.81],\"textposition\":\"auto\",\"x\":[\"casual\",\"registered\"],\"xaxis\":\"x\",\"y\":[185.48,1617.81],\"yaxis\":\"y\",\"type\":\"bar\"}],                        {\"template\":{\"data\":{\"bar\":[{\"error_x\":{\"color\":\"#2a3f5f\"},\"error_y\":{\"color\":\"#2a3f5f\"},\"marker\":{\"line\":{\"color\":\"#E5ECF6\",\"width\":0.5},\"pattern\":{\"fillmode\":\"overlay\",\"size\":10,\"solidity\":0.2}},\"type\":\"bar\"}],\"barpolar\":[{\"marker\":{\"line\":{\"color\":\"#E5ECF6\",\"width\":0.5},\"pattern\":{\"fillmode\":\"overlay\",\"size\":10,\"solidity\":0.2}},\"type\":\"barpolar\"}],\"carpet\":[{\"aaxis\":{\"endlinecolor\":\"#2a3f5f\",\"gridcolor\":\"white\",\"linecolor\":\"white\",\"minorgridcolor\":\"white\",\"startlinecolor\":\"#2a3f5f\"},\"baxis\":{\"endlinecolor\":\"#2a3f5f\",\"gridcolor\":\"white\",\"linecolor\":\"white\",\"minorgridcolor\":\"white\",\"startlinecolor\":\"#2a3f5f\"},\"type\":\"carpet\"}],\"choropleth\":[{\"colorbar\":{\"outlinewidth\":0,\"ticks\":\"\"},\"type\":\"choropleth\"}],\"contour\":[{\"colorbar\":{\"outlinewidth\":0,\"ticks\":\"\"},\"colorscale\":[[0.0,\"#0d0887\"],[0.1111111111111111,\"#46039f\"],[0.2222222222222222,\"#7201a8\"],[0.3333333333333333,\"#9c179e\"],[0.4444444444444444,\"#bd3786\"],[0.5555555555555556,\"#d8576b\"],[0.6666666666666666,\"#ed7953\"],[0.7777777777777778,\"#fb9f3a\"],[0.8888888888888888,\"#fdca26\"],[1.0,\"#f0f921\"]],\"type\":\"contour\"}],\"contourcarpet\":[{\"colorbar\":{\"outlinewidth\":0,\"ticks\":\"\"},\"type\":\"contourcarpet\"}],\"heatmap\":[{\"colorbar\":{\"outlinewidth\":0,\"ticks\":\"\"},\"colorscale\":[[0.0,\"#0d0887\"],[0.1111111111111111,\"#46039f\"],[0.2222222222222222,\"#7201a8\"],[0.3333333333333333,\"#9c179e\"],[0.4444444444444444,\"#bd3786\"],[0.5555555555555556,\"#d8576b\"],[0.6666666666666666,\"#ed7953\"],[0.7777777777777778,\"#fb9f3a\"],[0.8888888888888888,\"#fdca26\"],[1.0,\"#f0f921\"]],\"type\":\"heatmap\"}],\"heatmapgl\":[{\"colorbar\":{\"outlinewidth\":0,\"ticks\":\"\"},\"colorscale\":[[0.0,\"#0d0887\"],[0.1111111111111111,\"#46039f\"],[0.2222222222222222,\"#7201a8\"],[0.3333333333333333,\"#9c179e\"],[0.4444444444444444,\"#bd3786\"],[0.5555555555555556,\"#d8576b\"],[0.6666666666666666,\"#ed7953\"],[0.7777777777777778,\"#fb9f3a\"],[0.8888888888888888,\"#fdca26\"],[1.0,\"#f0f921\"]],\"type\":\"heatmapgl\"}],\"histogram\":[{\"marker\":{\"pattern\":{\"fillmode\":\"overlay\",\"size\":10,\"solidity\":0.2}},\"type\":\"histogram\"}],\"histogram2d\":[{\"colorbar\":{\"outlinewidth\":0,\"ticks\":\"\"},\"colorscale\":[[0.0,\"#0d0887\"],[0.1111111111111111,\"#46039f\"],[0.2222222222222222,\"#7201a8\"],[0.3333333333333333,\"#9c179e\"],[0.4444444444444444,\"#bd3786\"],[0.5555555555555556,\"#d8576b\"],[0.6666666666666666,\"#ed7953\"],[0.7777777777777778,\"#fb9f3a\"],[0.8888888888888888,\"#fdca26\"],[1.0,\"#f0f921\"]],\"type\":\"histogram2d\"}],\"histogram2dcontour\":[{\"colorbar\":{\"outlinewidth\":0,\"ticks\":\"\"},\"colorscale\":[[0.0,\"#0d0887\"],[0.1111111111111111,\"#46039f\"],[0.2222222222222222,\"#7201a8\"],[0.3333333333333333,\"#9c179e\"],[0.4444444444444444,\"#bd3786\"],[0.5555555555555556,\"#d8576b\"],[0.6666666666666666,\"#ed7953\"],[0.7777777777777778,\"#fb9f3a\"],[0.8888888888888888,\"#fdca26\"],[1.0,\"#f0f921\"]],\"type\":\"histogram2dcontour\"}],\"mesh3d\":[{\"colorbar\":{\"outlinewidth\":0,\"ticks\":\"\"},\"type\":\"mesh3d\"}],\"parcoords\":[{\"line\":{\"colorbar\":{\"outlinewidth\":0,\"ticks\":\"\"}},\"type\":\"parcoords\"}],\"pie\":[{\"automargin\":true,\"type\":\"pie\"}],\"scatter\":[{\"marker\":{\"colorbar\":{\"outlinewidth\":0,\"ticks\":\"\"}},\"type\":\"scatter\"}],\"scatter3d\":[{\"line\":{\"colorbar\":{\"outlinewidth\":0,\"ticks\":\"\"}},\"marker\":{\"colorbar\":{\"outlinewidth\":0,\"ticks\":\"\"}},\"type\":\"scatter3d\"}],\"scattercarpet\":[{\"marker\":{\"colorbar\":{\"outlinewidth\":0,\"ticks\":\"\"}},\"type\":\"scattercarpet\"}],\"scattergeo\":[{\"marker\":{\"colorbar\":{\"outlinewidth\":0,\"ticks\":\"\"}},\"type\":\"scattergeo\"}],\"scattergl\":[{\"marker\":{\"colorbar\":{\"outlinewidth\":0,\"ticks\":\"\"}},\"type\":\"scattergl\"}],\"scattermapbox\":[{\"marker\":{\"colorbar\":{\"outlinewidth\":0,\"ticks\":\"\"}},\"type\":\"scattermapbox\"}],\"scatterpolar\":[{\"marker\":{\"colorbar\":{\"outlinewidth\":0,\"ticks\":\"\"}},\"type\":\"scatterpolar\"}],\"scatterpolargl\":[{\"marker\":{\"colorbar\":{\"outlinewidth\":0,\"ticks\":\"\"}},\"type\":\"scatterpolargl\"}],\"scatterternary\":[{\"marker\":{\"colorbar\":{\"outlinewidth\":0,\"ticks\":\"\"}},\"type\":\"scatterternary\"}],\"surface\":[{\"colorbar\":{\"outlinewidth\":0,\"ticks\":\"\"},\"colorscale\":[[0.0,\"#0d0887\"],[0.1111111111111111,\"#46039f\"],[0.2222222222222222,\"#7201a8\"],[0.3333333333333333,\"#9c179e\"],[0.4444444444444444,\"#bd3786\"],[0.5555555555555556,\"#d8576b\"],[0.6666666666666666,\"#ed7953\"],[0.7777777777777778,\"#fb9f3a\"],[0.8888888888888888,\"#fdca26\"],[1.0,\"#f0f921\"]],\"type\":\"surface\"}],\"table\":[{\"cells\":{\"fill\":{\"color\":\"#EBF0F8\"},\"line\":{\"color\":\"white\"}},\"header\":{\"fill\":{\"color\":\"#C8D4E3\"},\"line\":{\"color\":\"white\"}},\"type\":\"table\"}]},\"layout\":{\"annotationdefaults\":{\"arrowcolor\":\"#2a3f5f\",\"arrowhead\":0,\"arrowwidth\":1},\"autotypenumbers\":\"strict\",\"coloraxis\":{\"colorbar\":{\"outlinewidth\":0,\"ticks\":\"\"}},\"colorscale\":{\"diverging\":[[0,\"#8e0152\"],[0.1,\"#c51b7d\"],[0.2,\"#de77ae\"],[0.3,\"#f1b6da\"],[0.4,\"#fde0ef\"],[0.5,\"#f7f7f7\"],[0.6,\"#e6f5d0\"],[0.7,\"#b8e186\"],[0.8,\"#7fbc41\"],[0.9,\"#4d9221\"],[1,\"#276419\"]],\"sequential\":[[0.0,\"#0d0887\"],[0.1111111111111111,\"#46039f\"],[0.2222222222222222,\"#7201a8\"],[0.3333333333333333,\"#9c179e\"],[0.4444444444444444,\"#bd3786\"],[0.5555555555555556,\"#d8576b\"],[0.6666666666666666,\"#ed7953\"],[0.7777777777777778,\"#fb9f3a\"],[0.8888888888888888,\"#fdca26\"],[1.0,\"#f0f921\"]],\"sequentialminus\":[[0.0,\"#0d0887\"],[0.1111111111111111,\"#46039f\"],[0.2222222222222222,\"#7201a8\"],[0.3333333333333333,\"#9c179e\"],[0.4444444444444444,\"#bd3786\"],[0.5555555555555556,\"#d8576b\"],[0.6666666666666666,\"#ed7953\"],[0.7777777777777778,\"#fb9f3a\"],[0.8888888888888888,\"#fdca26\"],[1.0,\"#f0f921\"]]},\"colorway\":[\"#636efa\",\"#EF553B\",\"#00cc96\",\"#ab63fa\",\"#FFA15A\",\"#19d3f3\",\"#FF6692\",\"#B6E880\",\"#FF97FF\",\"#FECB52\"],\"font\":{\"color\":\"#2a3f5f\"},\"geo\":{\"bgcolor\":\"white\",\"lakecolor\":\"white\",\"landcolor\":\"#E5ECF6\",\"showlakes\":true,\"showland\":true,\"subunitcolor\":\"white\"},\"hoverlabel\":{\"align\":\"left\"},\"hovermode\":\"closest\",\"mapbox\":{\"style\":\"light\"},\"paper_bgcolor\":\"white\",\"plot_bgcolor\":\"#E5ECF6\",\"polar\":{\"angularaxis\":{\"gridcolor\":\"white\",\"linecolor\":\"white\",\"ticks\":\"\"},\"bgcolor\":\"#E5ECF6\",\"radialaxis\":{\"gridcolor\":\"white\",\"linecolor\":\"white\",\"ticks\":\"\"}},\"scene\":{\"xaxis\":{\"backgroundcolor\":\"#E5ECF6\",\"gridcolor\":\"white\",\"gridwidth\":2,\"linecolor\":\"white\",\"showbackground\":true,\"ticks\":\"\",\"zerolinecolor\":\"white\"},\"yaxis\":{\"backgroundcolor\":\"#E5ECF6\",\"gridcolor\":\"white\",\"gridwidth\":2,\"linecolor\":\"white\",\"showbackground\":true,\"ticks\":\"\",\"zerolinecolor\":\"white\"},\"zaxis\":{\"backgroundcolor\":\"#E5ECF6\",\"gridcolor\":\"white\",\"gridwidth\":2,\"linecolor\":\"white\",\"showbackground\":true,\"ticks\":\"\",\"zerolinecolor\":\"white\"}},\"shapedefaults\":{\"line\":{\"color\":\"#2a3f5f\"}},\"ternary\":{\"aaxis\":{\"gridcolor\":\"white\",\"linecolor\":\"white\",\"ticks\":\"\"},\"baxis\":{\"gridcolor\":\"white\",\"linecolor\":\"white\",\"ticks\":\"\"},\"bgcolor\":\"#E5ECF6\",\"caxis\":{\"gridcolor\":\"white\",\"linecolor\":\"white\",\"ticks\":\"\"}},\"title\":{\"x\":0.05},\"xaxis\":{\"automargin\":true,\"gridcolor\":\"white\",\"linecolor\":\"white\",\"ticks\":\"\",\"title\":{\"standoff\":15},\"zerolinecolor\":\"white\",\"zerolinewidth\":2},\"yaxis\":{\"automargin\":true,\"gridcolor\":\"white\",\"linecolor\":\"white\",\"ticks\":\"\",\"title\":{\"standoff\":15},\"zerolinecolor\":\"white\",\"zerolinewidth\":2}}},\"xaxis\":{\"anchor\":\"y\",\"domain\":[0.0,1.0],\"title\":{\"text\":\"type\"}},\"yaxis\":{\"anchor\":\"x\",\"domain\":[0.0,1.0],\"title\":{\"text\":\"users/day\"}},\"legend\":{\"title\":{\"text\":\"weathersit\"},\"tracegroupgap\":0},\"margin\":{\"t\":60},\"barmode\":\"group\",\"width\":1000,\"title\":{\"text\":\"user type vs weather situation vs users/day\",\"x\":0.5,\"xanchor\":\"center\",\"yanchor\":\"middle\"}},                        {\"responsive\": true}                    ).then(function(){\n",
              "                            \n",
              "var gd = document.getElementById('7f5e9648-7fd5-4630-954e-7e66da445837');\n",
              "var x = new MutationObserver(function (mutations, observer) {{\n",
              "        var display = window.getComputedStyle(gd).display;\n",
              "        if (!display || display === 'none') {{\n",
              "            console.log([gd, 'removed!']);\n",
              "            Plotly.purge(gd);\n",
              "            observer.disconnect();\n",
              "        }}\n",
              "}});\n",
              "\n",
              "// Listen for the removal of the full notebook cells\n",
              "var notebookContainer = gd.closest('#notebook-container');\n",
              "if (notebookContainer) {{\n",
              "    x.observe(notebookContainer, {childList: true});\n",
              "}}\n",
              "\n",
              "// Listen for the clearing of the current output cell\n",
              "var outputEl = gd.closest('.output');\n",
              "if (outputEl) {{\n",
              "    x.observe(outputEl, {childList: true});\n",
              "}}\n",
              "\n",
              "                        })                };                            </script>        </div>\n",
              "</body>\n",
              "</html>"
            ]
          },
          "metadata": {},
          "output_type": "display_data"
        }
      ],
      "metadata": {
        "execution": {
          "iopub.status.busy": "2021-11-10T01:41:35.991301Z",
          "iopub.execute_input": "2021-11-10T01:41:35.991524Z",
          "iopub.status.idle": "2021-11-10T01:41:36.084967Z",
          "shell.execute_reply.started": "2021-11-10T01:41:35.991498Z",
          "shell.execute_reply": "2021-11-10T01:41:36.084394Z"
        },
        "trusted": true,
        "colab": {
          "base_uri": "https://localhost:8080/",
          "height": 542
        },
        "cellView": "form",
        "id": "ES1RcMdOmX_Y",
        "outputId": "f955b571-488e-4260-c3f3-b10d9ec5792a"
      }
    },
    {
      "cell_type": "markdown",
      "source": [
        "##1.5 Crescimento no tempo\n",
        "Quando comparamos o número de usuários/dia, mês a mês, nos dois anos do dataset, é possível perceber um rápido crescimento 2012 vs 2011, tanto para os usuários registrados como os casuais. É interessante notar também que em ambos os anos, para ambos os tipos de usuários, conseguimos ver um número maior nos meses do verão, e menor nos meses de inverno (considerando o hemisfério norte)"
      ],
      "metadata": {
        "id": "J1VhG9pLrLjA"
      }
    },
    {
      "cell_type": "code",
      "execution_count": 15,
      "source": [
        "#@title\n",
        "main_var = 'yr_month'\n",
        "grouped_data = df[[main_var, 'casual','registered']].groupby([main_var])[['casual','registered']].agg([np.sum,\"count\"])\n",
        "grouped_data = grouped_data.stack(0).reset_index().rename(columns={'level_1': 'type'})\n",
        "grouped_data['users/day'] = grouped_data.apply(lambda x : float(\"{:.2f}\".format(x['sum']/x['count'])),axis=1)\n",
        "fig = px.bar(grouped_data, x='yr_month', y='users/day', color = 'type', text = 'users/day', width=1300, height=500, barmode='group')\n",
        "fig.update_layout(\n",
        "    title={\n",
        "        'text': \"yr_month vs user type vs user/day\",\n",
        "        'x':0.5,\n",
        "        'xanchor': 'center',\n",
        "        'yanchor': 'middle'})\n",
        "fig.add_vline(x=11.5)\n",
        "fig.update_traces(texttemplate='%{text:.2s}', textposition='outside',constraintext='none')\n",
        "fig.update_traces(outsidetextfont=dict(size=10))\n",
        "fig.show()"
      ],
      "outputs": [
        {
          "data": {
            "text/html": [
              "<html>\n",
              "<head><meta charset=\"utf-8\" /></head>\n",
              "<body>\n",
              "    <div>            <script src=\"https://cdnjs.cloudflare.com/ajax/libs/mathjax/2.7.5/MathJax.js?config=TeX-AMS-MML_SVG\"></script><script type=\"text/javascript\">if (window.MathJax) {MathJax.Hub.Config({SVG: {font: \"STIX-Web\"}});}</script>                <script type=\"text/javascript\">window.PlotlyConfig = {MathJaxConfig: 'local'};</script>\n",
              "        <script src=\"https://cdn.plot.ly/plotly-2.6.3.min.js\"></script>                <div id=\"367b2c5d-a67b-46bb-9f6b-bd49d84171d2\" class=\"plotly-graph-div\" style=\"height:500px; width:1300px;\"></div>            <script type=\"text/javascript\">                                    window.PLOTLYENV=window.PLOTLYENV || {};                                    if (document.getElementById(\"367b2c5d-a67b-46bb-9f6b-bd49d84171d2\")) {                    Plotly.newPlot(                        \"367b2c5d-a67b-46bb-9f6b-bd49d84171d2\",                        [{\"alignmentgroup\":\"True\",\"hovertemplate\":\"type=casual<br>yr_month=%{x}<br>users/day=%{text}<extra></extra>\",\"legendgroup\":\"casual\",\"marker\":{\"color\":\"#636efa\",\"pattern\":{\"shape\":\"\"}},\"name\":\"casual\",\"offsetgroup\":\"casual\",\"orientation\":\"v\",\"showlegend\":true,\"text\":[99.13,222.93,413.74,744.87,1001.61,1020.4,1175.87,930.39,884.83,813.61,519.8,272.52,289.32,300.72,1019.94,1281.87,1426.94,1443.13,1345.32,1393.45,1459.27,1114.13,700.3,427.26],\"textposition\":\"outside\",\"x\":[\"2011_01\",\"2011_02\",\"2011_03\",\"2011_04\",\"2011_05\",\"2011_06\",\"2011_07\",\"2011_08\",\"2011_09\",\"2011_10\",\"2011_11\",\"2011_12\",\"2012_01\",\"2012_02\",\"2012_03\",\"2012_04\",\"2012_05\",\"2012_06\",\"2012_07\",\"2012_08\",\"2012_09\",\"2012_10\",\"2012_11\",\"2012_12\"],\"xaxis\":\"x\",\"y\":[99.13,222.93,413.74,744.87,1001.61,1020.4,1175.87,930.39,884.83,813.61,519.8,272.52,289.32,300.72,1019.94,1281.87,1426.94,1443.13,1345.32,1393.45,1459.27,1114.13,700.3,427.26],\"yaxis\":\"y\",\"type\":\"bar\",\"constraintext\":\"none\",\"texttemplate\":\"%{text:.2s}\",\"outsidetextfont\":{\"size\":10}},{\"alignmentgroup\":\"True\",\"hovertemplate\":\"type=registered<br>yr_month=%{x}<br>users/day=%{text}<extra></extra>\",\"legendgroup\":\"registered\",\"marker\":{\"color\":\"#EF553B\",\"pattern\":{\"shape\":\"\"}},\"name\":\"registered\",\"offsetgroup\":\"registered\",\"orientation\":\"v\",\"showlegend\":true,\"text\":[1132.77,1499.04,1652.23,2417.47,3379.71,3763.33,3383.52,3479.0,3362.43,3170.61,2885.77,2544.35,2831.45,3255.72,4298.61,4525.6,4891.29,5317.87,5222.65,5526.0,5826.5,5300.1,4388.5,3563.48],\"textposition\":\"outside\",\"x\":[\"2011_01\",\"2011_02\",\"2011_03\",\"2011_04\",\"2011_05\",\"2011_06\",\"2011_07\",\"2011_08\",\"2011_09\",\"2011_10\",\"2011_11\",\"2011_12\",\"2012_01\",\"2012_02\",\"2012_03\",\"2012_04\",\"2012_05\",\"2012_06\",\"2012_07\",\"2012_08\",\"2012_09\",\"2012_10\",\"2012_11\",\"2012_12\"],\"xaxis\":\"x\",\"y\":[1132.77,1499.04,1652.23,2417.47,3379.71,3763.33,3383.52,3479.0,3362.43,3170.61,2885.77,2544.35,2831.45,3255.72,4298.61,4525.6,4891.29,5317.87,5222.65,5526.0,5826.5,5300.1,4388.5,3563.48],\"yaxis\":\"y\",\"type\":\"bar\",\"constraintext\":\"none\",\"texttemplate\":\"%{text:.2s}\",\"outsidetextfont\":{\"size\":10}}],                        {\"template\":{\"data\":{\"bar\":[{\"error_x\":{\"color\":\"#2a3f5f\"},\"error_y\":{\"color\":\"#2a3f5f\"},\"marker\":{\"line\":{\"color\":\"#E5ECF6\",\"width\":0.5},\"pattern\":{\"fillmode\":\"overlay\",\"size\":10,\"solidity\":0.2}},\"type\":\"bar\"}],\"barpolar\":[{\"marker\":{\"line\":{\"color\":\"#E5ECF6\",\"width\":0.5},\"pattern\":{\"fillmode\":\"overlay\",\"size\":10,\"solidity\":0.2}},\"type\":\"barpolar\"}],\"carpet\":[{\"aaxis\":{\"endlinecolor\":\"#2a3f5f\",\"gridcolor\":\"white\",\"linecolor\":\"white\",\"minorgridcolor\":\"white\",\"startlinecolor\":\"#2a3f5f\"},\"baxis\":{\"endlinecolor\":\"#2a3f5f\",\"gridcolor\":\"white\",\"linecolor\":\"white\",\"minorgridcolor\":\"white\",\"startlinecolor\":\"#2a3f5f\"},\"type\":\"carpet\"}],\"choropleth\":[{\"colorbar\":{\"outlinewidth\":0,\"ticks\":\"\"},\"type\":\"choropleth\"}],\"contour\":[{\"colorbar\":{\"outlinewidth\":0,\"ticks\":\"\"},\"colorscale\":[[0.0,\"#0d0887\"],[0.1111111111111111,\"#46039f\"],[0.2222222222222222,\"#7201a8\"],[0.3333333333333333,\"#9c179e\"],[0.4444444444444444,\"#bd3786\"],[0.5555555555555556,\"#d8576b\"],[0.6666666666666666,\"#ed7953\"],[0.7777777777777778,\"#fb9f3a\"],[0.8888888888888888,\"#fdca26\"],[1.0,\"#f0f921\"]],\"type\":\"contour\"}],\"contourcarpet\":[{\"colorbar\":{\"outlinewidth\":0,\"ticks\":\"\"},\"type\":\"contourcarpet\"}],\"heatmap\":[{\"colorbar\":{\"outlinewidth\":0,\"ticks\":\"\"},\"colorscale\":[[0.0,\"#0d0887\"],[0.1111111111111111,\"#46039f\"],[0.2222222222222222,\"#7201a8\"],[0.3333333333333333,\"#9c179e\"],[0.4444444444444444,\"#bd3786\"],[0.5555555555555556,\"#d8576b\"],[0.6666666666666666,\"#ed7953\"],[0.7777777777777778,\"#fb9f3a\"],[0.8888888888888888,\"#fdca26\"],[1.0,\"#f0f921\"]],\"type\":\"heatmap\"}],\"heatmapgl\":[{\"colorbar\":{\"outlinewidth\":0,\"ticks\":\"\"},\"colorscale\":[[0.0,\"#0d0887\"],[0.1111111111111111,\"#46039f\"],[0.2222222222222222,\"#7201a8\"],[0.3333333333333333,\"#9c179e\"],[0.4444444444444444,\"#bd3786\"],[0.5555555555555556,\"#d8576b\"],[0.6666666666666666,\"#ed7953\"],[0.7777777777777778,\"#fb9f3a\"],[0.8888888888888888,\"#fdca26\"],[1.0,\"#f0f921\"]],\"type\":\"heatmapgl\"}],\"histogram\":[{\"marker\":{\"pattern\":{\"fillmode\":\"overlay\",\"size\":10,\"solidity\":0.2}},\"type\":\"histogram\"}],\"histogram2d\":[{\"colorbar\":{\"outlinewidth\":0,\"ticks\":\"\"},\"colorscale\":[[0.0,\"#0d0887\"],[0.1111111111111111,\"#46039f\"],[0.2222222222222222,\"#7201a8\"],[0.3333333333333333,\"#9c179e\"],[0.4444444444444444,\"#bd3786\"],[0.5555555555555556,\"#d8576b\"],[0.6666666666666666,\"#ed7953\"],[0.7777777777777778,\"#fb9f3a\"],[0.8888888888888888,\"#fdca26\"],[1.0,\"#f0f921\"]],\"type\":\"histogram2d\"}],\"histogram2dcontour\":[{\"colorbar\":{\"outlinewidth\":0,\"ticks\":\"\"},\"colorscale\":[[0.0,\"#0d0887\"],[0.1111111111111111,\"#46039f\"],[0.2222222222222222,\"#7201a8\"],[0.3333333333333333,\"#9c179e\"],[0.4444444444444444,\"#bd3786\"],[0.5555555555555556,\"#d8576b\"],[0.6666666666666666,\"#ed7953\"],[0.7777777777777778,\"#fb9f3a\"],[0.8888888888888888,\"#fdca26\"],[1.0,\"#f0f921\"]],\"type\":\"histogram2dcontour\"}],\"mesh3d\":[{\"colorbar\":{\"outlinewidth\":0,\"ticks\":\"\"},\"type\":\"mesh3d\"}],\"parcoords\":[{\"line\":{\"colorbar\":{\"outlinewidth\":0,\"ticks\":\"\"}},\"type\":\"parcoords\"}],\"pie\":[{\"automargin\":true,\"type\":\"pie\"}],\"scatter\":[{\"marker\":{\"colorbar\":{\"outlinewidth\":0,\"ticks\":\"\"}},\"type\":\"scatter\"}],\"scatter3d\":[{\"line\":{\"colorbar\":{\"outlinewidth\":0,\"ticks\":\"\"}},\"marker\":{\"colorbar\":{\"outlinewidth\":0,\"ticks\":\"\"}},\"type\":\"scatter3d\"}],\"scattercarpet\":[{\"marker\":{\"colorbar\":{\"outlinewidth\":0,\"ticks\":\"\"}},\"type\":\"scattercarpet\"}],\"scattergeo\":[{\"marker\":{\"colorbar\":{\"outlinewidth\":0,\"ticks\":\"\"}},\"type\":\"scattergeo\"}],\"scattergl\":[{\"marker\":{\"colorbar\":{\"outlinewidth\":0,\"ticks\":\"\"}},\"type\":\"scattergl\"}],\"scattermapbox\":[{\"marker\":{\"colorbar\":{\"outlinewidth\":0,\"ticks\":\"\"}},\"type\":\"scattermapbox\"}],\"scatterpolar\":[{\"marker\":{\"colorbar\":{\"outlinewidth\":0,\"ticks\":\"\"}},\"type\":\"scatterpolar\"}],\"scatterpolargl\":[{\"marker\":{\"colorbar\":{\"outlinewidth\":0,\"ticks\":\"\"}},\"type\":\"scatterpolargl\"}],\"scatterternary\":[{\"marker\":{\"colorbar\":{\"outlinewidth\":0,\"ticks\":\"\"}},\"type\":\"scatterternary\"}],\"surface\":[{\"colorbar\":{\"outlinewidth\":0,\"ticks\":\"\"},\"colorscale\":[[0.0,\"#0d0887\"],[0.1111111111111111,\"#46039f\"],[0.2222222222222222,\"#7201a8\"],[0.3333333333333333,\"#9c179e\"],[0.4444444444444444,\"#bd3786\"],[0.5555555555555556,\"#d8576b\"],[0.6666666666666666,\"#ed7953\"],[0.7777777777777778,\"#fb9f3a\"],[0.8888888888888888,\"#fdca26\"],[1.0,\"#f0f921\"]],\"type\":\"surface\"}],\"table\":[{\"cells\":{\"fill\":{\"color\":\"#EBF0F8\"},\"line\":{\"color\":\"white\"}},\"header\":{\"fill\":{\"color\":\"#C8D4E3\"},\"line\":{\"color\":\"white\"}},\"type\":\"table\"}]},\"layout\":{\"annotationdefaults\":{\"arrowcolor\":\"#2a3f5f\",\"arrowhead\":0,\"arrowwidth\":1},\"autotypenumbers\":\"strict\",\"coloraxis\":{\"colorbar\":{\"outlinewidth\":0,\"ticks\":\"\"}},\"colorscale\":{\"diverging\":[[0,\"#8e0152\"],[0.1,\"#c51b7d\"],[0.2,\"#de77ae\"],[0.3,\"#f1b6da\"],[0.4,\"#fde0ef\"],[0.5,\"#f7f7f7\"],[0.6,\"#e6f5d0\"],[0.7,\"#b8e186\"],[0.8,\"#7fbc41\"],[0.9,\"#4d9221\"],[1,\"#276419\"]],\"sequential\":[[0.0,\"#0d0887\"],[0.1111111111111111,\"#46039f\"],[0.2222222222222222,\"#7201a8\"],[0.3333333333333333,\"#9c179e\"],[0.4444444444444444,\"#bd3786\"],[0.5555555555555556,\"#d8576b\"],[0.6666666666666666,\"#ed7953\"],[0.7777777777777778,\"#fb9f3a\"],[0.8888888888888888,\"#fdca26\"],[1.0,\"#f0f921\"]],\"sequentialminus\":[[0.0,\"#0d0887\"],[0.1111111111111111,\"#46039f\"],[0.2222222222222222,\"#7201a8\"],[0.3333333333333333,\"#9c179e\"],[0.4444444444444444,\"#bd3786\"],[0.5555555555555556,\"#d8576b\"],[0.6666666666666666,\"#ed7953\"],[0.7777777777777778,\"#fb9f3a\"],[0.8888888888888888,\"#fdca26\"],[1.0,\"#f0f921\"]]},\"colorway\":[\"#636efa\",\"#EF553B\",\"#00cc96\",\"#ab63fa\",\"#FFA15A\",\"#19d3f3\",\"#FF6692\",\"#B6E880\",\"#FF97FF\",\"#FECB52\"],\"font\":{\"color\":\"#2a3f5f\"},\"geo\":{\"bgcolor\":\"white\",\"lakecolor\":\"white\",\"landcolor\":\"#E5ECF6\",\"showlakes\":true,\"showland\":true,\"subunitcolor\":\"white\"},\"hoverlabel\":{\"align\":\"left\"},\"hovermode\":\"closest\",\"mapbox\":{\"style\":\"light\"},\"paper_bgcolor\":\"white\",\"plot_bgcolor\":\"#E5ECF6\",\"polar\":{\"angularaxis\":{\"gridcolor\":\"white\",\"linecolor\":\"white\",\"ticks\":\"\"},\"bgcolor\":\"#E5ECF6\",\"radialaxis\":{\"gridcolor\":\"white\",\"linecolor\":\"white\",\"ticks\":\"\"}},\"scene\":{\"xaxis\":{\"backgroundcolor\":\"#E5ECF6\",\"gridcolor\":\"white\",\"gridwidth\":2,\"linecolor\":\"white\",\"showbackground\":true,\"ticks\":\"\",\"zerolinecolor\":\"white\"},\"yaxis\":{\"backgroundcolor\":\"#E5ECF6\",\"gridcolor\":\"white\",\"gridwidth\":2,\"linecolor\":\"white\",\"showbackground\":true,\"ticks\":\"\",\"zerolinecolor\":\"white\"},\"zaxis\":{\"backgroundcolor\":\"#E5ECF6\",\"gridcolor\":\"white\",\"gridwidth\":2,\"linecolor\":\"white\",\"showbackground\":true,\"ticks\":\"\",\"zerolinecolor\":\"white\"}},\"shapedefaults\":{\"line\":{\"color\":\"#2a3f5f\"}},\"ternary\":{\"aaxis\":{\"gridcolor\":\"white\",\"linecolor\":\"white\",\"ticks\":\"\"},\"baxis\":{\"gridcolor\":\"white\",\"linecolor\":\"white\",\"ticks\":\"\"},\"bgcolor\":\"#E5ECF6\",\"caxis\":{\"gridcolor\":\"white\",\"linecolor\":\"white\",\"ticks\":\"\"}},\"title\":{\"x\":0.05},\"xaxis\":{\"automargin\":true,\"gridcolor\":\"white\",\"linecolor\":\"white\",\"ticks\":\"\",\"title\":{\"standoff\":15},\"zerolinecolor\":\"white\",\"zerolinewidth\":2},\"yaxis\":{\"automargin\":true,\"gridcolor\":\"white\",\"linecolor\":\"white\",\"ticks\":\"\",\"title\":{\"standoff\":15},\"zerolinecolor\":\"white\",\"zerolinewidth\":2}}},\"xaxis\":{\"anchor\":\"y\",\"domain\":[0.0,1.0],\"title\":{\"text\":\"yr_month\"}},\"yaxis\":{\"anchor\":\"x\",\"domain\":[0.0,1.0],\"title\":{\"text\":\"users/day\"}},\"legend\":{\"title\":{\"text\":\"type\"},\"tracegroupgap\":0},\"margin\":{\"t\":60},\"barmode\":\"group\",\"height\":500,\"width\":1300,\"title\":{\"text\":\"yr_month vs user type vs user/day\",\"x\":0.5,\"xanchor\":\"center\",\"yanchor\":\"middle\"},\"shapes\":[{\"type\":\"line\",\"x0\":11.5,\"x1\":11.5,\"xref\":\"x\",\"y0\":0,\"y1\":1,\"yref\":\"y domain\"}]},                        {\"responsive\": true}                    ).then(function(){\n",
              "                            \n",
              "var gd = document.getElementById('367b2c5d-a67b-46bb-9f6b-bd49d84171d2');\n",
              "var x = new MutationObserver(function (mutations, observer) {{\n",
              "        var display = window.getComputedStyle(gd).display;\n",
              "        if (!display || display === 'none') {{\n",
              "            console.log([gd, 'removed!']);\n",
              "            Plotly.purge(gd);\n",
              "            observer.disconnect();\n",
              "        }}\n",
              "}});\n",
              "\n",
              "// Listen for the removal of the full notebook cells\n",
              "var notebookContainer = gd.closest('#notebook-container');\n",
              "if (notebookContainer) {{\n",
              "    x.observe(notebookContainer, {childList: true});\n",
              "}}\n",
              "\n",
              "// Listen for the clearing of the current output cell\n",
              "var outputEl = gd.closest('.output');\n",
              "if (outputEl) {{\n",
              "    x.observe(outputEl, {childList: true});\n",
              "}}\n",
              "\n",
              "                        })                };                            </script>        </div>\n",
              "</body>\n",
              "</html>"
            ]
          },
          "metadata": {},
          "output_type": "display_data"
        }
      ],
      "metadata": {
        "execution": {
          "iopub.status.busy": "2021-11-10T01:41:36.085971Z",
          "iopub.execute_input": "2021-11-10T01:41:36.086262Z",
          "iopub.status.idle": "2021-11-10T01:41:36.180649Z",
          "shell.execute_reply.started": "2021-11-10T01:41:36.086237Z",
          "shell.execute_reply": "2021-11-10T01:41:36.179802Z"
        },
        "trusted": true,
        "colab": {
          "base_uri": "https://localhost:8080/",
          "height": 517
        },
        "id": "W9efLiqUmX_Z",
        "cellView": "form",
        "outputId": "452b237e-9391-44fe-c804-72970712e4b3"
      }
    },
    {
      "cell_type": "markdown",
      "source": [
        "##1.6 Variáveis contínuas\n",
        "No dataset, temos algumas variáveis contínuas, normalizadas:\n",
        "\n",
        "\n",
        "*   <b>temp</b>: temperatura registrada (normalizada com máximo de 41°C)\n",
        "*   <b>atemp</b>: sensação térmica registrada (normalizada com máximo de 50°C)\n",
        "*   <b>hum</b>: nível de umidade registrada (normalizada com máximo de 100%)\n",
        "*   <b>windspeed</b>: velocidade do vento registrada (normalizada com máximo de 67)\n",
        "\n",
        "Abaixo, temos gráficos de dispersão para cada variável, com cada ponto sendo um dia, registrando o valor da variável versus o valor total de usuários. É possível perceber que temp e atemp têm um comportamento quadrático, com valor máximo próximo a 0.6 normalizado (temp 24,6°C e atemp 30°C).\n",
        "\n",
        "\n",
        "\n",
        "\n",
        "\n",
        "\n",
        "\n",
        "\n",
        "\n",
        "\n"
      ],
      "metadata": {
        "id": "0AErn7e7pSBm"
      }
    },
    {
      "cell_type": "code",
      "execution_count": 16,
      "source": [
        "#@title\n",
        "columns = ['temp','atemp','hum','windspeed']\n",
        "new_df_columns = []\n",
        "\n",
        "df[columns + ['cnt']].apply(lambda row: new_df_columns.extend([{'var':column,'value':row[column],'cnt':row['cnt']} for column in columns]), axis =1)\n",
        "\n",
        "new_df = pd.DataFrame(new_df_columns)\n",
        "\n",
        "fig = px.scatter(new_df, x='value', y='cnt', facet_col ='var', facet_col_wrap = 2, color='var', width= 1200)\n",
        "fig.update_layout(\n",
        "    title={\n",
        "        'text': \"climate variables vs user count\",\n",
        "        'x':0.5,\n",
        "        'xanchor': 'center',\n",
        "        'yanchor': 'middle'})\n",
        "fig.show()"
      ],
      "outputs": [
        {
          "data": {
            "text/html": [
              "<html>\n",
              "<head><meta charset=\"utf-8\" /></head>\n",
              "<body>\n",
              "    <div>            <script src=\"https://cdnjs.cloudflare.com/ajax/libs/mathjax/2.7.5/MathJax.js?config=TeX-AMS-MML_SVG\"></script><script type=\"text/javascript\">if (window.MathJax) {MathJax.Hub.Config({SVG: {font: \"STIX-Web\"}});}</script>                <script type=\"text/javascript\">window.PlotlyConfig = {MathJaxConfig: 'local'};</script>\n",
              "        <script src=\"https://cdn.plot.ly/plotly-2.6.3.min.js\"></script>                <div id=\"3012594a-8d9f-46fb-bb56-7bc647082ceb\" class=\"plotly-graph-div\" style=\"height:525px; width:1200px;\"></div>            <script type=\"text/javascript\">                                    window.PLOTLYENV=window.PLOTLYENV || {};                                    if (document.getElementById(\"3012594a-8d9f-46fb-bb56-7bc647082ceb\")) {                    Plotly.newPlot(                        \"3012594a-8d9f-46fb-bb56-7bc647082ceb\",                        [{\"hovertemplate\":\"var=temp<br>value=%{x}<br>cnt=%{y}<extra></extra>\",\"legendgroup\":\"temp\",\"marker\":{\"color\":\"#636efa\",\"symbol\":\"circle\"},\"mode\":\"markers\",\"name\":\"temp\",\"showlegend\":true,\"x\":[0.344167,0.363478,0.196364,0.2,0.22695700000000002,0.204348,0.196522,0.165,0.13833299999999998,0.150833,0.16909100000000002,0.172727,0.165,0.16087,0.23333299999999998,0.231667,0.175833,0.216667,0.292174,0.261667,0.1775,0.0591304,0.0965217,0.0973913,0.223478,0.2175,0.195,0.203478,0.196522,0.216522,0.180833,0.192174,0.26,0.18695699999999998,0.211304,0.23333299999999998,0.285833,0.271667,0.220833,0.134783,0.144348,0.189091,0.2225,0.31652199999999997,0.415,0.26608699999999996,0.318261,0.43583299999999997,0.521667,0.399167,0.285217,0.303333,0.182222,0.221739,0.295652,0.364348,0.2825,0.343478,0.407273,0.266667,0.335,0.19833299999999998,0.261667,0.384167,0.37652199999999997,0.261739,0.2925,0.295833,0.38909099999999996,0.31652199999999997,0.329167,0.384348,0.32521700000000003,0.317391,0.365217,0.415,0.54,0.4725,0.3325,0.430435,0.44166700000000003,0.346957,0.285,0.264167,0.265833,0.25304299999999996,0.264348,0.3025,0.3,0.268333,0.3,0.315,0.378333,0.573333,0.414167,0.390833,0.4375,0.335833,0.3425,0.426667,0.5956520000000001,0.5025,0.4125,0.4675,0.446667,0.43083299999999997,0.456667,0.5125,0.505833,0.595,0.459167,0.336667,0.46,0.581667,0.606667,0.631667,0.62,0.6175,0.51,0.4725,0.451667,0.549167,0.616667,0.414167,0.459167,0.479167,0.52,0.5283329999999999,0.5325,0.5325,0.5425,0.535,0.5125,0.520833,0.5625,0.5775,0.561667,0.55,0.530833,0.536667,0.6025,0.604167,0.631667,0.66,0.660833,0.708333,0.681667,0.655833,0.6675,0.733333,0.775,0.764167,0.715,0.62,0.635,0.648333,0.678333,0.7075,0.775833,0.808333,0.755,0.725,0.6925,0.635,0.604167,0.626667,0.628333,0.649167,0.696667,0.699167,0.635,0.680833,0.733333,0.728333,0.724167,0.695,0.68,0.6825,0.744167,0.728333,0.696667,0.7225,0.738333,0.716667,0.726667,0.746667,0.72,0.75,0.709167,0.733333,0.7475,0.7625,0.794167,0.746667,0.680833,0.663333,0.686667,0.719167,0.746667,0.776667,0.768333,0.815,0.848333,0.849167,0.83,0.743333,0.771667,0.775,0.779167,0.838333,0.804167,0.805833,0.771667,0.783333,0.731667,0.71,0.710833,0.716667,0.7425,0.765,0.775,0.766667,0.7175,0.708333,0.685833,0.676667,0.665833,0.700833,0.723333,0.711667,0.685,0.6975,0.710833,0.691667,0.640833,0.673333,0.684167,0.7,0.68,0.707059,0.636667,0.639167,0.656667,0.655,0.643333,0.669167,0.709167,0.673333,0.54,0.599167,0.6339130000000001,0.65,0.66,0.6533329999999999,0.6443479999999999,0.650833,0.673333,0.5775,0.469167,0.491667,0.5075,0.549167,0.561667,0.595,0.628333,0.609167,0.606667,0.634167,0.649167,0.636667,0.635,0.616667,0.564167,0.41,0.356667,0.384167,0.484167,0.538333,0.494167,0.510833,0.521667,0.540833,0.570833,0.566667,0.543333,0.589167,0.550833,0.506667,0.511667,0.5341670000000001,0.5325,0.5417390000000001,0.475833,0.4275,0.4225,0.421667,0.463333,0.471667,0.484167,0.47,0.330833,0.25416700000000003,0.31916700000000003,0.34,0.400833,0.3775,0.408333,0.403333,0.326667,0.348333,0.395,0.408333,0.4,0.38,0.324167,0.356667,0.440833,0.53,0.53,0.456667,0.341667,0.274167,0.329167,0.463333,0.4475,0.416667,0.440833,0.37333299999999997,0.375,0.375833,0.459167,0.503478,0.458333,0.325,0.3125,0.31416700000000003,0.299167,0.330833,0.385833,0.4625,0.41,0.265833,0.290833,0.275,0.220833,0.238333,0.2825,0.3175,0.4225,0.375,0.258333,0.238333,0.276667,0.385833,0.428333,0.423333,0.37333299999999997,0.3025,0.274783,0.321739,0.325,0.29913,0.248333,0.311667,0.41,0.37,0.273043,0.15,0.1075,0.265833,0.334167,0.393333,0.3375,0.224167,0.308696,0.274167,0.3825,0.274167,0.18,0.166667,0.19,0.37304299999999996,0.303333,0.19,0.2175,0.173333,0.1625,0.218333,0.3425,0.294167,0.341667,0.425,0.315833,0.2825,0.269167,0.39,0.469167,0.399167,0.313333,0.264167,0.265833,0.282609,0.354167,0.25666700000000003,0.265,0.280833,0.224167,0.1275,0.2225,0.31916700000000003,0.348333,0.31666700000000003,0.343333,0.346667,0.28,0.28,0.287826,0.395833,0.454167,0.4075,0.290833,0.279167,0.366667,0.359167,0.344348,0.485833,0.353333,0.414167,0.325833,0.243333,0.258333,0.404167,0.5275,0.410833,0.2875,0.361739,0.466667,0.565,0.5725,0.5575,0.43583299999999997,0.514167,0.4725,0.545,0.560833,0.531667,0.554167,0.601667,0.5025,0.4375,0.445833,0.323333,0.484167,0.494167,0.37,0.424167,0.425833,0.433913,0.466667,0.541667,0.435,0.403333,0.4375,0.5,0.489167,0.446667,0.348696,0.3975,0.4425,0.495,0.606667,0.664167,0.608333,0.463333,0.49833299999999997,0.526667,0.57,0.396667,0.321667,0.413333,0.476667,0.49833299999999997,0.4575,0.37666700000000003,0.458333,0.464167,0.613333,0.564167,0.56,0.6275,0.621667,0.5625,0.5375,0.581667,0.575,0.505833,0.533333,0.564167,0.6125,0.573333,0.611667,0.636667,0.593333,0.564167,0.6,0.620833,0.598333,0.615,0.621667,0.655,0.68,0.6925,0.69,0.7125,0.7225,0.656667,0.68,0.654167,0.583333,0.6025,0.5975,0.540833,0.554167,0.6025,0.649167,0.710833,0.726667,0.720833,0.6533329999999999,0.655833,0.648333,0.639167,0.631667,0.5925,0.568333,0.688333,0.7825,0.805833,0.7775,0.731667,0.743333,0.7158329999999999,0.630833,0.6975,0.749167,0.834167,0.765,0.815833,0.781667,0.780833,0.789167,0.8275,0.828333,0.861667,0.8225,0.710833,0.720833,0.716667,0.7158329999999999,0.731667,0.703333,0.745833,0.763333,0.818333,0.793333,0.77,0.665833,0.595833,0.6675,0.741667,0.750833,0.724167,0.776667,0.781667,0.755833,0.7216670000000001,0.730833,0.713333,0.7175,0.7525,0.765833,0.793333,0.769167,0.7525,0.735833,0.75,0.755833,0.7158329999999999,0.6925,0.700833,0.720833,0.726667,0.706667,0.719167,0.723333,0.678333,0.635833,0.635833,0.649167,0.6675,0.695833,0.7025,0.661667,0.6533329999999999,0.703333,0.728333,0.685,0.706667,0.764167,0.753333,0.696667,0.7075,0.725833,0.736667,0.696667,0.703333,0.6591670000000001,0.61,0.583333,0.5775,0.599167,0.6125,0.633333,0.608333,0.58,0.580833,0.623333,0.5525,0.546667,0.599167,0.65,0.529167,0.514167,0.55,0.635,0.65,0.619167,0.5425,0.526667,0.520833,0.5908329999999999,0.6575,0.6575,0.615,0.554167,0.415833,0.383333,0.446667,0.514167,0.435,0.4375,0.393333,0.521667,0.561667,0.468333,0.455833,0.5225,0.563333,0.484167,0.464167,0.4875,0.544167,0.5875,0.55,0.545833,0.53,0.4775,0.44,0.318182,0.3575,0.365833,0.355,0.343333,0.325833,0.31916700000000003,0.280833,0.295833,0.352174,0.361667,0.389167,0.420833,0.485,0.343333,0.289167,0.321667,0.345,0.325,0.3425,0.380833,0.374167,0.353333,0.34,0.36833299999999997,0.278333,0.245833,0.313333,0.291667,0.296667,0.28087,0.298333,0.298333,0.3475,0.4525,0.475833,0.438333,0.255833,0.320833,0.38166700000000003,0.384167,0.43583299999999997,0.353333,0.2975,0.295833,0.281667,0.324167,0.3625,0.393333,0.410833,0.3325,0.33,0.326667,0.265833,0.245833,0.231304,0.291304,0.243333,0.25416700000000003,0.253333,0.253333,0.255833,0.215833],\"xaxis\":\"x3\",\"y\":[985.0,801.0,1349.0,1562.0,1600.0,1606.0,1510.0,959.0,822.0,1321.0,1263.0,1162.0,1406.0,1421.0,1248.0,1204.0,1000.0,683.0,1650.0,1927.0,1543.0,981.0,986.0,1416.0,1985.0,506.0,431.0,1167.0,1098.0,1096.0,1501.0,1360.0,1526.0,1550.0,1708.0,1005.0,1623.0,1712.0,1530.0,1605.0,1538.0,1746.0,1472.0,1589.0,1913.0,1815.0,2115.0,2475.0,2927.0,1635.0,1812.0,1107.0,1450.0,1917.0,1807.0,1461.0,1969.0,2402.0,1446.0,1851.0,2134.0,1685.0,1944.0,2077.0,605.0,1872.0,2133.0,1891.0,623.0,1977.0,2132.0,2417.0,2046.0,2056.0,2192.0,2744.0,3239.0,3117.0,2471.0,2077.0,2703.0,2121.0,1865.0,2210.0,2496.0,1693.0,2028.0,2425.0,1536.0,1685.0,2227.0,2252.0,3249.0,3115.0,1795.0,2808.0,3141.0,1471.0,2455.0,2895.0,3348.0,2034.0,2162.0,3267.0,3126.0,795.0,3744.0,3429.0,3204.0,3944.0,4189.0,1683.0,4036.0,4191.0,4073.0,4400.0,3872.0,4058.0,4595.0,5312.0,3351.0,4401.0,4451.0,2633.0,4433.0,4608.0,4714.0,4333.0,4362.0,4803.0,4182.0,4864.0,4105.0,3409.0,4553.0,3958.0,4123.0,3855.0,4575.0,4917.0,5805.0,4660.0,4274.0,4492.0,4978.0,4677.0,4679.0,4758.0,4788.0,4098.0,3982.0,3974.0,4968.0,5312.0,5342.0,4906.0,4548.0,4833.0,4401.0,3915.0,4586.0,4966.0,4460.0,5020.0,4891.0,5180.0,3767.0,4844.0,5119.0,4744.0,4010.0,4835.0,4507.0,4790.0,4991.0,5202.0,5305.0,4708.0,4648.0,5225.0,5515.0,5362.0,5119.0,4649.0,6043.0,4665.0,4629.0,4592.0,4040.0,5336.0,4881.0,4086.0,4258.0,4342.0,5084.0,5538.0,5923.0,5302.0,4458.0,4541.0,4332.0,3784.0,3387.0,3285.0,3606.0,3840.0,4590.0,4656.0,4390.0,3846.0,4475.0,4302.0,4266.0,4845.0,3574.0,4576.0,4866.0,4294.0,3785.0,4326.0,4602.0,4780.0,4792.0,4905.0,4150.0,3820.0,4338.0,4725.0,4694.0,3805.0,4153.0,5191.0,3873.0,4758.0,5895.0,5130.0,3542.0,4661.0,1115.0,4334.0,4634.0,5204.0,5058.0,5115.0,4727.0,4484.0,4940.0,3351.0,2710.0,1996.0,1842.0,3544.0,5345.0,5046.0,4713.0,4763.0,4785.0,3659.0,4760.0,4511.0,4274.0,4539.0,3641.0,4352.0,4795.0,2395.0,5423.0,5010.0,4630.0,4120.0,3907.0,4839.0,5202.0,2429.0,2918.0,3570.0,4456.0,4826.0,4765.0,4985.0,5409.0,5511.0,5117.0,4563.0,2416.0,2913.0,3644.0,5217.0,5041.0,4570.0,4748.0,2424.0,4195.0,4304.0,4308.0,4381.0,4187.0,4687.0,3894.0,2659.0,3747.0,627.0,3331.0,3669.0,4068.0,4186.0,3974.0,4046.0,3926.0,3649.0,4035.0,4205.0,4109.0,2933.0,3368.0,4067.0,3717.0,4486.0,4195.0,1817.0,3053.0,3392.0,3663.0,3520.0,2765.0,1607.0,2566.0,1495.0,2792.0,3068.0,3071.0,3867.0,2914.0,3613.0,3727.0,3940.0,3614.0,3485.0,3811.0,2594.0,705.0,3322.0,3620.0,3190.0,2743.0,3310.0,3523.0,3740.0,3709.0,3577.0,2739.0,2431.0,3403.0,3750.0,2660.0,3068.0,2209.0,1011.0,754.0,1317.0,1162.0,2302.0,2423.0,2999.0,2485.0,2294.0,1951.0,2236.0,2368.0,3272.0,4098.0,4521.0,3425.0,2376.0,3598.0,2177.0,4097.0,3214.0,2493.0,2311.0,2298.0,2935.0,3376.0,3292.0,3163.0,1301.0,1977.0,2432.0,4339.0,4270.0,4075.0,3456.0,4023.0,3243.0,3624.0,4509.0,4579.0,3761.0,4151.0,2832.0,2947.0,3784.0,4375.0,2802.0,3830.0,3831.0,2169.0,1529.0,3422.0,3922.0,4169.0,3005.0,4154.0,4318.0,2689.0,3129.0,3777.0,4773.0,5062.0,3487.0,2732.0,3389.0,4322.0,4363.0,1834.0,4990.0,3194.0,4066.0,3423.0,3333.0,3956.0,4916.0,5382.0,4569.0,4118.0,4911.0,5298.0,5847.0,6312.0,6192.0,4378.0,7836.0,5892.0,6153.0,6093.0,6230.0,6871.0,8362.0,3372.0,4996.0,5558.0,5102.0,5698.0,6133.0,5459.0,6235.0,6041.0,5936.0,6772.0,6436.0,6457.0,6460.0,6857.0,5169.0,5585.0,5918.0,4862.0,5409.0,6398.0,7460.0,7132.0,6370.0,6691.0,4367.0,6565.0,7290.0,6624.0,1027.0,3214.0,5633.0,6196.0,5026.0,6233.0,4220.0,6304.0,5572.0,5740.0,6169.0,6421.0,6296.0,6883.0,6359.0,6273.0,5728.0,4717.0,6572.0,7030.0,7429.0,6118.0,2843.0,5115.0,7424.0,7384.0,7639.0,8294.0,7129.0,4359.0,6073.0,5260.0,6770.0,6734.0,6536.0,6591.0,6043.0,5743.0,6855.0,7338.0,4127.0,8120.0,7641.0,6998.0,7001.0,7055.0,7494.0,7736.0,7498.0,6598.0,6664.0,4972.0,7421.0,7363.0,7665.0,7702.0,6978.0,5099.0,6825.0,6211.0,5905.0,5823.0,7458.0,6891.0,6779.0,7442.0,7335.0,6879.0,5463.0,5687.0,5531.0,6227.0,6660.0,7403.0,6241.0,6207.0,4840.0,4672.0,6569.0,6290.0,7264.0,7446.0,7499.0,6969.0,6031.0,6830.0,6786.0,5713.0,6591.0,5870.0,4459.0,7410.0,6966.0,7592.0,8173.0,6861.0,6904.0,6685.0,6597.0,7105.0,7216.0,7580.0,7261.0,7175.0,6824.0,5464.0,7013.0,7273.0,7534.0,7286.0,5786.0,6299.0,6544.0,6883.0,6784.0,7347.0,7605.0,7148.0,7865.0,4549.0,6530.0,7006.0,7375.0,7765.0,7582.0,6053.0,5255.0,6917.0,7040.0,7697.0,7713.0,7350.0,6140.0,5810.0,6034.0,6864.0,7112.0,6203.0,7504.0,5976.0,8227.0,7525.0,7767.0,7870.0,7804.0,8009.0,8714.0,7333.0,6869.0,4073.0,7591.0,7720.0,8167.0,8395.0,7907.0,7436.0,7538.0,7733.0,7393.0,7415.0,8555.0,6889.0,6778.0,4639.0,7572.0,7328.0,8156.0,7965.0,3510.0,5478.0,6392.0,7691.0,7570.0,7282.0,7109.0,6639.0,5875.0,7534.0,7461.0,7509.0,5424.0,8090.0,6824.0,7058.0,7466.0,7693.0,7359.0,7444.0,7852.0,4459.0,22.0,1096.0,5566.0,5986.0,5847.0,5138.0,5107.0,5259.0,5686.0,5035.0,5315.0,5992.0,6536.0,6852.0,6269.0,4094.0,5495.0,5445.0,5698.0,5629.0,4669.0,5499.0,5634.0,5146.0,2425.0,3910.0,2277.0,2424.0,5087.0,3959.0,5260.0,5323.0,5668.0,5191.0,4649.0,6234.0,6606.0,5729.0,5375.0,5008.0,5582.0,3228.0,5170.0,5501.0,5319.0,5532.0,5611.0,5047.0,3786.0,4585.0,5557.0,5267.0,4128.0,3623.0,1749.0,1787.0,920.0,1013.0,441.0,2114.0,3095.0,1341.0,1796.0,2729.0],\"yaxis\":\"y3\",\"type\":\"scattergl\"},{\"hovertemplate\":\"var=atemp<br>value=%{x}<br>cnt=%{y}<extra></extra>\",\"legendgroup\":\"atemp\",\"marker\":{\"color\":\"#EF553B\",\"symbol\":\"circle\"},\"mode\":\"markers\",\"name\":\"atemp\",\"showlegend\":true,\"x\":[0.363625,0.35373899999999997,0.189405,0.21212199999999998,0.22926999999999997,0.23320900000000003,0.208839,0.162254,0.116175,0.15088800000000002,0.19146400000000002,0.160473,0.150883,0.188413,0.248112,0.234217,0.176771,0.23233299999999998,0.29842199999999997,0.25505,0.157833,0.0790696,0.09883910000000001,0.11793,0.234526,0.2036,0.2197,0.22331700000000002,0.212126,0.250322,0.18625,0.23453000000000002,0.254417,0.177878,0.22858699999999998,0.243058,0.291671,0.303658,0.198246,0.144283,0.14954800000000001,0.213509,0.232954,0.324113,0.39835,0.254274,0.3162,0.428658,0.511983,0.391404,0.27733,0.284075,0.186033,0.24571700000000002,0.289191,0.350461,0.282192,0.351109,0.400118,0.263879,0.320071,0.200133,0.255679,0.378779,0.366252,0.238461,0.3024,0.286608,0.385668,0.305,0.32575,0.380091,0.332,0.318178,0.36693000000000003,0.410333,0.5270090000000001,0.466525,0.32575,0.409735,0.44064200000000003,0.337939,0.270833,0.256312,0.257571,0.250339,0.25757399999999997,0.292908,0.29735,0.257575,0.283454,0.315637,0.378767,0.542929,0.39835,0.387608,0.433696,0.324479,0.34152899999999997,0.426737,0.565217,0.493054,0.417283,0.462742,0.441913,0.425492,0.445696,0.503146,0.48925799999999997,0.564392,0.453892,0.321954,0.450121,0.551763,0.5745,0.594083,0.575142,0.578929,0.497463,0.464021,0.448204,0.532833,0.582079,0.40465,0.441917,0.474117,0.512621,0.518933,0.525246,0.522721,0.5284,0.523363,0.4943,0.500629,0.536,0.550512,0.538529,0.527158,0.510742,0.529042,0.571975,0.5745,0.590296,0.604813,0.615542,0.654688,0.637008,0.612379,0.61555,0.671092,0.725383,0.720967,0.643942,0.587133,0.594696,0.616804,0.621858,0.65595,0.727279,0.757579,0.703292,0.678038,0.643325,0.601654,0.591546,0.587754,0.595346,0.600383,0.643954,0.645846,0.595346,0.637646,0.693829,0.693833,0.656583,0.643313,0.637629,0.637004,0.692558,0.654688,0.637008,0.652162,0.667308,0.668575,0.665417,0.696338,0.685633,0.686871,0.6704829999999999,0.664158,0.690025,0.729804,0.739275,0.689404,0.635104,0.624371,0.638263,0.669833,0.703925,0.747479,0.74685,0.826371,0.8408959999999999,0.804287,0.794829,0.720958,0.696979,0.690667,0.7399,0.785967,0.728537,0.729796,0.703292,0.707071,0.679937,0.664788,0.656567,0.676154,0.715292,0.703283,0.724121,0.684983,0.651521,0.654042,0.645858,0.624388,0.616167,0.645837,0.666671,0.662258,0.633221,0.648996,0.675525,0.638254,0.606067,0.630692,0.645854,0.659733,0.635556,0.6479590000000001,0.607958,0.594704,0.611121,0.614921,0.604808,0.633213,0.665429,0.625646,0.5152,0.544229,0.555361,0.578946,0.607962,0.609229,0.60213,0.603554,0.6269,0.553671,0.461475,0.478512,0.490537,0.529675,0.532217,0.5505329999999999,0.554963,0.522125,0.564412,0.572637,0.589042,0.574525,0.575158,0.574512,0.544829,0.41286300000000004,0.345317,0.392046,0.472858,0.527138,0.480425,0.504404,0.513242,0.523983,0.542925,0.546096,0.517717,0.551804,0.529675,0.498725,0.503154,0.510725,0.522721,0.513848,0.466525,0.42359600000000003,0.425492,0.422333,0.457067,0.463375,0.472846,0.457046,0.318812,0.227913,0.321329,0.356063,0.397088,0.390133,0.405921,0.40339200000000003,0.323854,0.362358,0.400871,0.412246,0.40907899999999997,0.373721,0.306817,0.357942,0.43055,0.524612,0.507579,0.451988,0.323221,0.272721,0.32448299999999997,0.457058,0.445062,0.421696,0.430537,0.372471,0.380671,0.385087,0.4558,0.490122,0.451375,0.311221,0.305554,0.331433,0.310604,0.3491,0.393925,0.4564,0.400246,0.256938,0.317542,0.266412,0.253154,0.270196,0.301138,0.338362,0.41223699999999996,0.359825,0.249371,0.245579,0.280933,0.396454,0.428017,0.426121,0.377513,0.299242,0.279961,0.315535,0.327633,0.279974,0.263892,0.318812,0.414121,0.375621,0.252304,0.126275,0.11933699999999998,0.278412,0.340267,0.390779,0.340258,0.247479,0.318826,0.282821,0.381938,0.249362,0.183087,0.161625,0.190663,0.36427800000000005,0.275254,0.190038,0.220958,0.174875,0.16225,0.243058,0.349108,0.294821,0.35605,0.415383,0.326379,0.272721,0.262625,0.381317,0.466538,0.398971,0.309346,0.272725,0.264521,0.296426,0.361104,0.266421,0.261988,0.293558,0.210867,0.101658,0.227913,0.333946,0.35162899999999997,0.330162,0.35162899999999997,0.355425,0.265788,0.273391,0.295113,0.392667,0.444446,0.41097100000000003,0.255675,0.268308,0.357954,0.353525,0.34847,0.475371,0.359842,0.413492,0.303021,0.241171,0.255042,0.3851,0.524604,0.397083,0.277767,0.35967,0.459592,0.542929,0.548617,0.532825,0.436229,0.505046,0.46399999999999997,0.532821,0.538533,0.513258,0.531567,0.570067,0.48673299999999997,0.437488,0.43875,0.315654,0.47095,0.482304,0.375621,0.42170799999999997,0.41728699999999996,0.42751300000000003,0.461483,0.53345,0.431163,0.39076700000000003,0.426129,0.492425,0.476638,0.436233,0.33727399999999996,0.387604,0.43180799999999997,0.487996,0.573875,0.614925,0.598487,0.457038,0.493046,0.515775,0.542921,0.389504,0.301125,0.405283,0.470317,0.483583,0.452637,0.377504,0.450121,0.457696,0.577021,0.537896,0.537242,0.590917,0.584608,0.546737,0.527142,0.557471,0.553025,0.49178299999999997,0.520833,0.544817,0.585238,0.5499,0.576404,0.595975,0.572613,0.551121,0.566908,0.583967,0.565667,0.580825,0.584612,0.6067,0.627529,0.642696,0.641425,0.6793,0.672992,0.611129,0.631329,0.607962,0.566288,0.575133,0.578283,0.525892,0.542292,0.569442,0.597862,0.648367,0.663517,0.659721,0.597875,0.611117,0.624383,0.599754,0.594708,0.571975,0.544842,0.654692,0.720975,0.752542,0.724121,0.652792,0.674254,0.654042,0.594704,0.640792,0.675512,0.786613,0.687508,0.750629,0.702038,0.70265,0.732337,0.761367,0.752533,0.804913,0.790396,0.654054,0.664796,0.650271,0.654683,0.667933,0.666042,0.705196,0.724125,0.755683,0.745583,0.714642,0.613025,0.549912,0.623125,0.690017,0.70645,0.654054,0.739263,0.734217,0.697604,0.667933,0.684987,0.662896,0.667308,0.707088,0.722867,0.751267,0.731079,0.710246,0.697621,0.707717,0.699508,0.667942,0.638267,0.644579,0.662254,0.676779,0.654037,0.654688,0.2424,0.618071,0.603554,0.595967,0.601025,0.621854,0.637008,0.6471,0.618696,0.595996,0.654688,0.66605,0.635733,0.652779,0.6894,0.702654,0.649,0.661629,0.686888,0.708983,0.655329,0.657204,0.611121,0.578925,0.565654,0.554292,0.570075,0.579558,0.594083,0.585867,0.563125,0.55305,0.565067,0.540404,0.532192,0.571971,0.610488,0.518933,0.502513,0.544179,0.5966130000000001,0.607975,0.585863,0.530296,0.517663,0.512,0.542333,0.599133,0.607975,0.580187,0.538521,0.419813,0.387608,0.438112,0.503142,0.431167,0.433071,0.391396,0.508204,0.53915,0.460846,0.450108,0.512625,0.537896,0.472842,0.456429,0.482942,0.530304,0.558721,0.529688,0.52275,0.515133,0.467771,0.4394,0.309909,0.3611,0.369942,0.356042,0.323846,0.329538,0.308075,0.281567,0.274621,0.341891,0.35541300000000003,0.393937,0.421713,0.475383,0.323225,0.281563,0.324492,0.347204,0.326383,0.337746,0.375621,0.38066700000000003,0.364892,0.350371,0.378779,0.24874200000000002,0.257583,0.33900399999999997,0.281558,0.28976199999999996,0.29842199999999997,0.323867,0.316904,0.35920799999999997,0.455796,0.46905399999999997,0.428012,0.258204,0.32195799999999997,0.38950799999999997,0.390146,0.435575,0.338363,0.297338,0.294188,0.294192,0.338383,0.369938,0.4015,0.409708,0.34216199999999997,0.335217,0.301767,0.23611300000000002,0.259471,0.2589,0.29446500000000003,0.220333,0.226642,0.255046,0.2424,0.2317,0.223487],\"xaxis\":\"x4\",\"y\":[985.0,801.0,1349.0,1562.0,1600.0,1606.0,1510.0,959.0,822.0,1321.0,1263.0,1162.0,1406.0,1421.0,1248.0,1204.0,1000.0,683.0,1650.0,1927.0,1543.0,981.0,986.0,1416.0,1985.0,506.0,431.0,1167.0,1098.0,1096.0,1501.0,1360.0,1526.0,1550.0,1708.0,1005.0,1623.0,1712.0,1530.0,1605.0,1538.0,1746.0,1472.0,1589.0,1913.0,1815.0,2115.0,2475.0,2927.0,1635.0,1812.0,1107.0,1450.0,1917.0,1807.0,1461.0,1969.0,2402.0,1446.0,1851.0,2134.0,1685.0,1944.0,2077.0,605.0,1872.0,2133.0,1891.0,623.0,1977.0,2132.0,2417.0,2046.0,2056.0,2192.0,2744.0,3239.0,3117.0,2471.0,2077.0,2703.0,2121.0,1865.0,2210.0,2496.0,1693.0,2028.0,2425.0,1536.0,1685.0,2227.0,2252.0,3249.0,3115.0,1795.0,2808.0,3141.0,1471.0,2455.0,2895.0,3348.0,2034.0,2162.0,3267.0,3126.0,795.0,3744.0,3429.0,3204.0,3944.0,4189.0,1683.0,4036.0,4191.0,4073.0,4400.0,3872.0,4058.0,4595.0,5312.0,3351.0,4401.0,4451.0,2633.0,4433.0,4608.0,4714.0,4333.0,4362.0,4803.0,4182.0,4864.0,4105.0,3409.0,4553.0,3958.0,4123.0,3855.0,4575.0,4917.0,5805.0,4660.0,4274.0,4492.0,4978.0,4677.0,4679.0,4758.0,4788.0,4098.0,3982.0,3974.0,4968.0,5312.0,5342.0,4906.0,4548.0,4833.0,4401.0,3915.0,4586.0,4966.0,4460.0,5020.0,4891.0,5180.0,3767.0,4844.0,5119.0,4744.0,4010.0,4835.0,4507.0,4790.0,4991.0,5202.0,5305.0,4708.0,4648.0,5225.0,5515.0,5362.0,5119.0,4649.0,6043.0,4665.0,4629.0,4592.0,4040.0,5336.0,4881.0,4086.0,4258.0,4342.0,5084.0,5538.0,5923.0,5302.0,4458.0,4541.0,4332.0,3784.0,3387.0,3285.0,3606.0,3840.0,4590.0,4656.0,4390.0,3846.0,4475.0,4302.0,4266.0,4845.0,3574.0,4576.0,4866.0,4294.0,3785.0,4326.0,4602.0,4780.0,4792.0,4905.0,4150.0,3820.0,4338.0,4725.0,4694.0,3805.0,4153.0,5191.0,3873.0,4758.0,5895.0,5130.0,3542.0,4661.0,1115.0,4334.0,4634.0,5204.0,5058.0,5115.0,4727.0,4484.0,4940.0,3351.0,2710.0,1996.0,1842.0,3544.0,5345.0,5046.0,4713.0,4763.0,4785.0,3659.0,4760.0,4511.0,4274.0,4539.0,3641.0,4352.0,4795.0,2395.0,5423.0,5010.0,4630.0,4120.0,3907.0,4839.0,5202.0,2429.0,2918.0,3570.0,4456.0,4826.0,4765.0,4985.0,5409.0,5511.0,5117.0,4563.0,2416.0,2913.0,3644.0,5217.0,5041.0,4570.0,4748.0,2424.0,4195.0,4304.0,4308.0,4381.0,4187.0,4687.0,3894.0,2659.0,3747.0,627.0,3331.0,3669.0,4068.0,4186.0,3974.0,4046.0,3926.0,3649.0,4035.0,4205.0,4109.0,2933.0,3368.0,4067.0,3717.0,4486.0,4195.0,1817.0,3053.0,3392.0,3663.0,3520.0,2765.0,1607.0,2566.0,1495.0,2792.0,3068.0,3071.0,3867.0,2914.0,3613.0,3727.0,3940.0,3614.0,3485.0,3811.0,2594.0,705.0,3322.0,3620.0,3190.0,2743.0,3310.0,3523.0,3740.0,3709.0,3577.0,2739.0,2431.0,3403.0,3750.0,2660.0,3068.0,2209.0,1011.0,754.0,1317.0,1162.0,2302.0,2423.0,2999.0,2485.0,2294.0,1951.0,2236.0,2368.0,3272.0,4098.0,4521.0,3425.0,2376.0,3598.0,2177.0,4097.0,3214.0,2493.0,2311.0,2298.0,2935.0,3376.0,3292.0,3163.0,1301.0,1977.0,2432.0,4339.0,4270.0,4075.0,3456.0,4023.0,3243.0,3624.0,4509.0,4579.0,3761.0,4151.0,2832.0,2947.0,3784.0,4375.0,2802.0,3830.0,3831.0,2169.0,1529.0,3422.0,3922.0,4169.0,3005.0,4154.0,4318.0,2689.0,3129.0,3777.0,4773.0,5062.0,3487.0,2732.0,3389.0,4322.0,4363.0,1834.0,4990.0,3194.0,4066.0,3423.0,3333.0,3956.0,4916.0,5382.0,4569.0,4118.0,4911.0,5298.0,5847.0,6312.0,6192.0,4378.0,7836.0,5892.0,6153.0,6093.0,6230.0,6871.0,8362.0,3372.0,4996.0,5558.0,5102.0,5698.0,6133.0,5459.0,6235.0,6041.0,5936.0,6772.0,6436.0,6457.0,6460.0,6857.0,5169.0,5585.0,5918.0,4862.0,5409.0,6398.0,7460.0,7132.0,6370.0,6691.0,4367.0,6565.0,7290.0,6624.0,1027.0,3214.0,5633.0,6196.0,5026.0,6233.0,4220.0,6304.0,5572.0,5740.0,6169.0,6421.0,6296.0,6883.0,6359.0,6273.0,5728.0,4717.0,6572.0,7030.0,7429.0,6118.0,2843.0,5115.0,7424.0,7384.0,7639.0,8294.0,7129.0,4359.0,6073.0,5260.0,6770.0,6734.0,6536.0,6591.0,6043.0,5743.0,6855.0,7338.0,4127.0,8120.0,7641.0,6998.0,7001.0,7055.0,7494.0,7736.0,7498.0,6598.0,6664.0,4972.0,7421.0,7363.0,7665.0,7702.0,6978.0,5099.0,6825.0,6211.0,5905.0,5823.0,7458.0,6891.0,6779.0,7442.0,7335.0,6879.0,5463.0,5687.0,5531.0,6227.0,6660.0,7403.0,6241.0,6207.0,4840.0,4672.0,6569.0,6290.0,7264.0,7446.0,7499.0,6969.0,6031.0,6830.0,6786.0,5713.0,6591.0,5870.0,4459.0,7410.0,6966.0,7592.0,8173.0,6861.0,6904.0,6685.0,6597.0,7105.0,7216.0,7580.0,7261.0,7175.0,6824.0,5464.0,7013.0,7273.0,7534.0,7286.0,5786.0,6299.0,6544.0,6883.0,6784.0,7347.0,7605.0,7148.0,7865.0,4549.0,6530.0,7006.0,7375.0,7765.0,7582.0,6053.0,5255.0,6917.0,7040.0,7697.0,7713.0,7350.0,6140.0,5810.0,6034.0,6864.0,7112.0,6203.0,7504.0,5976.0,8227.0,7525.0,7767.0,7870.0,7804.0,8009.0,8714.0,7333.0,6869.0,4073.0,7591.0,7720.0,8167.0,8395.0,7907.0,7436.0,7538.0,7733.0,7393.0,7415.0,8555.0,6889.0,6778.0,4639.0,7572.0,7328.0,8156.0,7965.0,3510.0,5478.0,6392.0,7691.0,7570.0,7282.0,7109.0,6639.0,5875.0,7534.0,7461.0,7509.0,5424.0,8090.0,6824.0,7058.0,7466.0,7693.0,7359.0,7444.0,7852.0,4459.0,22.0,1096.0,5566.0,5986.0,5847.0,5138.0,5107.0,5259.0,5686.0,5035.0,5315.0,5992.0,6536.0,6852.0,6269.0,4094.0,5495.0,5445.0,5698.0,5629.0,4669.0,5499.0,5634.0,5146.0,2425.0,3910.0,2277.0,2424.0,5087.0,3959.0,5260.0,5323.0,5668.0,5191.0,4649.0,6234.0,6606.0,5729.0,5375.0,5008.0,5582.0,3228.0,5170.0,5501.0,5319.0,5532.0,5611.0,5047.0,3786.0,4585.0,5557.0,5267.0,4128.0,3623.0,1749.0,1787.0,920.0,1013.0,441.0,2114.0,3095.0,1341.0,1796.0,2729.0],\"yaxis\":\"y4\",\"type\":\"scattergl\"},{\"hovertemplate\":\"var=hum<br>value=%{x}<br>cnt=%{y}<extra></extra>\",\"legendgroup\":\"hum\",\"marker\":{\"color\":\"#00cc96\",\"symbol\":\"circle\"},\"mode\":\"markers\",\"name\":\"hum\",\"showlegend\":true,\"x\":[0.805833,0.696087,0.43727299999999997,0.590435,0.436957,0.518261,0.49869600000000003,0.535833,0.434167,0.482917,0.6863640000000001,0.599545,0.47041700000000003,0.537826,0.49875,0.48375,0.5375,0.861667,0.741739,0.538333,0.457083,0.4,0.436522,0.49173900000000004,0.616957,0.8625,0.6875,0.793043,0.6517390000000001,0.722174,0.60375,0.829565,0.775417,0.43782600000000005,0.585217,0.929167,0.568333,0.738333,0.537917,0.494783,0.437391,0.506364,0.544167,0.457391,0.375833,0.314348,0.42347799999999997,0.505,0.516667,0.187917,0.407826,0.605,0.577778,0.423043,0.697391,0.712174,0.537917,0.68,0.8763639999999999,0.535,0.449583,0.318333,0.610417,0.789167,0.948261,0.551304,0.420833,0.775417,0.0,0.649565,0.594583,0.5273909999999999,0.496957,0.655652,0.776522,0.602917,0.525217,0.37916700000000003,0.47375,0.737391,0.624583,0.839565,0.805833,0.495,0.394167,0.493913,0.302174,0.31416700000000003,0.646667,0.918333,0.68625,0.65375,0.48,0.42625,0.642083,0.470833,0.602917,0.83625,0.8775,0.8575,0.716956,0.739167,0.819167,0.540417,0.67125,0.888333,0.479583,0.5425,0.665833,0.614167,0.407083,0.729583,0.887917,0.810833,0.776667,0.729167,0.835417,0.700833,0.457083,0.503333,0.762083,0.73,0.697083,0.737083,0.44416700000000003,0.59,0.54125,0.631667,0.58875,0.489167,0.632917,0.7475,0.863333,0.9225,0.867083,0.787917,0.837917,0.87,0.829583,0.719583,0.626667,0.749583,0.81,0.740833,0.69625,0.6775,0.65375,0.729583,0.81875,0.685,0.636667,0.677083,0.305,0.354167,0.45625,0.6525,0.6,0.597917,0.6220829999999999,0.568333,0.605,0.654583,0.747917,0.494583,0.507083,0.471667,0.688333,0.735833,0.670417,0.666667,0.74625,0.770417,0.7075,0.703333,0.573333,0.483333,0.513333,0.658333,0.634167,0.497917,0.434167,0.39625,0.444583,0.6825,0.637917,0.590417,0.743333,0.65125,0.757917,0.609167,0.578333,0.635833,0.559167,0.631667,0.47625,0.59125,0.585,0.604167,0.65125,0.650417,0.707083,0.69125,0.580417,0.5,0.550833,0.757083,0.540833,0.402917,0.583333,0.5425,0.465833,0.480833,0.550833,0.49125,0.6575,0.7575,0.630833,0.755,0.7529170000000001,0.592083,0.570417,0.424167,0.42375,0.415,0.729583,0.8175,0.712083,0.578333,0.575417,0.654583,0.722917,0.674167,0.77,0.47,0.455417,0.605,0.771667,0.76125,0.85,0.561765,0.554583,0.548333,0.597917,0.639167,0.727083,0.716667,0.742083,0.790417,0.886957,0.917083,0.939565,0.897917,0.75375,0.71375,0.692174,0.7125,0.697083,0.709167,0.590417,0.718333,0.695,0.69,0.88125,0.9,0.902083,0.9725,0.8625,0.845,0.848333,0.885417,0.84875,0.699167,0.6475,0.75375,0.791667,0.760833,0.71,0.647917,0.620833,0.684167,0.70125,0.7275,0.73375,0.80875,0.90625,0.896667,0.71625,0.483333,0.486667,0.579583,0.701667,0.895217,0.63625,0.574167,0.629167,0.74125,0.772083,0.622917,0.720417,0.812917,0.585833,0.8825,0.62375,0.703333,0.68375,0.71875,0.702083,0.6225,0.519167,0.734583,0.75875,0.7216670000000001,0.758333,0.813333,0.44625,0.552917,0.458333,0.587083,0.68875,0.93,0.575833,0.41,0.502083,0.6845829999999999,0.91,0.9625,0.757917,0.549167,0.64375,0.681667,0.698333,0.743043,0.830833,0.613333,0.524583,0.625833,0.612917,0.775833,0.827083,0.949583,0.970417,0.58,0.695833,0.5075,0.49,0.670833,0.59,0.66375,0.634167,0.500417,0.560833,0.58625,0.6375,0.595417,0.858333,0.7575,0.68625,0.5425,0.681304,0.506957,0.7625,0.503913,0.574167,0.636667,0.615833,0.6925,0.381304,0.44125,0.414583,0.524167,0.542083,0.531667,0.465,0.701667,0.646522,0.8475,0.802917,0.5075,0.4575,0.419167,0.5225,0.716087,0.443333,0.4975,0.45,0.83125,0.79625,0.91125,0.835833,0.64375,0.769583,0.74125,0.543333,0.31125,0.400833,0.416667,0.507917,0.672917,0.526667,0.779583,0.687917,0.622174,0.49625,0.722917,0.562083,0.54,0.73125,0.46458299999999997,0.41125,0.50875,0.53125,0.7529170000000001,0.634583,0.534583,0.515833,0.507826,0.594348,0.567917,0.554583,0.7375,0.395833,0.41,0.490833,0.395833,0.804783,0.615417,0.657083,0.62125,0.403333,0.50625,0.456667,0.513333,0.5675,0.407083,0.35041700000000003,0.47695699999999996,0.489167,0.6175,0.507083,0.579583,0.842083,0.755833,0.81,0.72875,0.807917,0.82125,0.83125,0.694167,0.885417,0.880833,0.477917,0.29,0.48125,0.43916700000000003,0.580833,0.738333,0.67625,0.5043479999999999,0.396667,0.469583,0.374167,0.377083,0.25416700000000003,0.275833,0.3175,0.435,0.46956499999999995,0.46625,0.408333,0.5029170000000001,0.507917,0.561667,0.390417,0.569167,0.6125,0.694583,0.682917,0.835417,0.766667,0.454167,0.427917,0.756667,0.400833,0.489583,0.587083,0.57,0.659583,0.797083,0.768333,0.735417,0.756667,0.74,0.664167,0.685833,0.744167,0.552083,0.360417,0.480417,0.57625,0.789583,0.794583,0.697917,0.52,0.523333,0.45625,0.530417,0.81125,0.765833,0.774583,0.716667,0.7470829999999999,0.7325,0.697083,0.67625,0.6845829999999999,0.67,0.492917,0.755417,0.549167,0.49333299999999997,0.487083,0.613333,0.61125,0.567083,0.467917,0.437083,0.538333,0.587917,0.833333,0.582083,0.569583,0.589583,0.504167,0.59875,0.777917,0.69,0.592083,0.567917,0.57375,0.534583,0.479167,0.504167,0.37333299999999997,0.36,0.4225,0.48875,0.60125,0.51875,0.447083,0.492083,0.53875,0.457917,0.450833,0.492083,0.57375,0.683333,0.6675,0.633333,0.529583,0.485833,0.699167,0.717917,0.645,0.505833,0.577083,0.600417,0.844167,0.865417,0.7625,0.694167,0.655,0.45,0.5966670000000001,0.594583,0.613333,0.62375,0.66875,0.704167,0.6775,0.659583,0.6425,0.613333,0.6525,0.654167,0.70375,0.672917,0.620417,0.7158329999999999,0.732917,0.530417,0.545417,0.686667,0.619583,0.519167,0.570833,0.603333,0.711667,0.734167,0.67375,0.677083,0.635833,0.615,0.712917,0.845833,0.730417,0.62,0.552083,0.590417,0.5875,0.638333,0.815,0.790833,0.755,0.74125,0.810417,0.73625,0.799167,0.5475,0.50375,0.52,0.577083,0.637083,0.6725,0.501667,0.57,0.734583,0.8725,0.536667,0.618333,0.66875,0.646667,0.46708299999999997,0.492917,0.57,0.630833,0.690833,0.69,0.542917,0.583333,0.649167,0.871667,0.79375,0.722917,0.6275,0.664167,0.708333,0.709583,0.761667,0.630833,0.463333,0.539167,0.494583,0.640417,0.7075,0.558333,0.692917,0.728333,0.815,0.572917,0.51,0.568333,0.641667,0.63625,0.800417,0.807083,0.72,0.694583,0.88,0.8254549999999999,0.666667,0.581667,0.522083,0.49125,0.532917,0.494167,0.567083,0.5475,0.333478,0.540833,0.645417,0.6591670000000001,0.741667,0.662917,0.552083,0.620417,0.524583,0.545417,0.692917,0.623333,0.685,0.61375,0.580417,0.56875,0.40458299999999997,0.468333,0.535417,0.786667,0.50625,0.555652,0.649583,0.806667,0.823333,0.7675,0.73375,0.485,0.50875,0.764167,0.91125,0.905417,0.925,0.5966670000000001,0.538333,0.485833,0.642917,0.650417,0.83875,0.907083,0.66625,0.625417,0.667917,0.556667,0.44125,0.515417,0.791304,0.734783,0.823333,0.652917,0.59,0.7529170000000001,0.483333,0.5775],\"xaxis\":\"x\",\"y\":[985.0,801.0,1349.0,1562.0,1600.0,1606.0,1510.0,959.0,822.0,1321.0,1263.0,1162.0,1406.0,1421.0,1248.0,1204.0,1000.0,683.0,1650.0,1927.0,1543.0,981.0,986.0,1416.0,1985.0,506.0,431.0,1167.0,1098.0,1096.0,1501.0,1360.0,1526.0,1550.0,1708.0,1005.0,1623.0,1712.0,1530.0,1605.0,1538.0,1746.0,1472.0,1589.0,1913.0,1815.0,2115.0,2475.0,2927.0,1635.0,1812.0,1107.0,1450.0,1917.0,1807.0,1461.0,1969.0,2402.0,1446.0,1851.0,2134.0,1685.0,1944.0,2077.0,605.0,1872.0,2133.0,1891.0,623.0,1977.0,2132.0,2417.0,2046.0,2056.0,2192.0,2744.0,3239.0,3117.0,2471.0,2077.0,2703.0,2121.0,1865.0,2210.0,2496.0,1693.0,2028.0,2425.0,1536.0,1685.0,2227.0,2252.0,3249.0,3115.0,1795.0,2808.0,3141.0,1471.0,2455.0,2895.0,3348.0,2034.0,2162.0,3267.0,3126.0,795.0,3744.0,3429.0,3204.0,3944.0,4189.0,1683.0,4036.0,4191.0,4073.0,4400.0,3872.0,4058.0,4595.0,5312.0,3351.0,4401.0,4451.0,2633.0,4433.0,4608.0,4714.0,4333.0,4362.0,4803.0,4182.0,4864.0,4105.0,3409.0,4553.0,3958.0,4123.0,3855.0,4575.0,4917.0,5805.0,4660.0,4274.0,4492.0,4978.0,4677.0,4679.0,4758.0,4788.0,4098.0,3982.0,3974.0,4968.0,5312.0,5342.0,4906.0,4548.0,4833.0,4401.0,3915.0,4586.0,4966.0,4460.0,5020.0,4891.0,5180.0,3767.0,4844.0,5119.0,4744.0,4010.0,4835.0,4507.0,4790.0,4991.0,5202.0,5305.0,4708.0,4648.0,5225.0,5515.0,5362.0,5119.0,4649.0,6043.0,4665.0,4629.0,4592.0,4040.0,5336.0,4881.0,4086.0,4258.0,4342.0,5084.0,5538.0,5923.0,5302.0,4458.0,4541.0,4332.0,3784.0,3387.0,3285.0,3606.0,3840.0,4590.0,4656.0,4390.0,3846.0,4475.0,4302.0,4266.0,4845.0,3574.0,4576.0,4866.0,4294.0,3785.0,4326.0,4602.0,4780.0,4792.0,4905.0,4150.0,3820.0,4338.0,4725.0,4694.0,3805.0,4153.0,5191.0,3873.0,4758.0,5895.0,5130.0,3542.0,4661.0,1115.0,4334.0,4634.0,5204.0,5058.0,5115.0,4727.0,4484.0,4940.0,3351.0,2710.0,1996.0,1842.0,3544.0,5345.0,5046.0,4713.0,4763.0,4785.0,3659.0,4760.0,4511.0,4274.0,4539.0,3641.0,4352.0,4795.0,2395.0,5423.0,5010.0,4630.0,4120.0,3907.0,4839.0,5202.0,2429.0,2918.0,3570.0,4456.0,4826.0,4765.0,4985.0,5409.0,5511.0,5117.0,4563.0,2416.0,2913.0,3644.0,5217.0,5041.0,4570.0,4748.0,2424.0,4195.0,4304.0,4308.0,4381.0,4187.0,4687.0,3894.0,2659.0,3747.0,627.0,3331.0,3669.0,4068.0,4186.0,3974.0,4046.0,3926.0,3649.0,4035.0,4205.0,4109.0,2933.0,3368.0,4067.0,3717.0,4486.0,4195.0,1817.0,3053.0,3392.0,3663.0,3520.0,2765.0,1607.0,2566.0,1495.0,2792.0,3068.0,3071.0,3867.0,2914.0,3613.0,3727.0,3940.0,3614.0,3485.0,3811.0,2594.0,705.0,3322.0,3620.0,3190.0,2743.0,3310.0,3523.0,3740.0,3709.0,3577.0,2739.0,2431.0,3403.0,3750.0,2660.0,3068.0,2209.0,1011.0,754.0,1317.0,1162.0,2302.0,2423.0,2999.0,2485.0,2294.0,1951.0,2236.0,2368.0,3272.0,4098.0,4521.0,3425.0,2376.0,3598.0,2177.0,4097.0,3214.0,2493.0,2311.0,2298.0,2935.0,3376.0,3292.0,3163.0,1301.0,1977.0,2432.0,4339.0,4270.0,4075.0,3456.0,4023.0,3243.0,3624.0,4509.0,4579.0,3761.0,4151.0,2832.0,2947.0,3784.0,4375.0,2802.0,3830.0,3831.0,2169.0,1529.0,3422.0,3922.0,4169.0,3005.0,4154.0,4318.0,2689.0,3129.0,3777.0,4773.0,5062.0,3487.0,2732.0,3389.0,4322.0,4363.0,1834.0,4990.0,3194.0,4066.0,3423.0,3333.0,3956.0,4916.0,5382.0,4569.0,4118.0,4911.0,5298.0,5847.0,6312.0,6192.0,4378.0,7836.0,5892.0,6153.0,6093.0,6230.0,6871.0,8362.0,3372.0,4996.0,5558.0,5102.0,5698.0,6133.0,5459.0,6235.0,6041.0,5936.0,6772.0,6436.0,6457.0,6460.0,6857.0,5169.0,5585.0,5918.0,4862.0,5409.0,6398.0,7460.0,7132.0,6370.0,6691.0,4367.0,6565.0,7290.0,6624.0,1027.0,3214.0,5633.0,6196.0,5026.0,6233.0,4220.0,6304.0,5572.0,5740.0,6169.0,6421.0,6296.0,6883.0,6359.0,6273.0,5728.0,4717.0,6572.0,7030.0,7429.0,6118.0,2843.0,5115.0,7424.0,7384.0,7639.0,8294.0,7129.0,4359.0,6073.0,5260.0,6770.0,6734.0,6536.0,6591.0,6043.0,5743.0,6855.0,7338.0,4127.0,8120.0,7641.0,6998.0,7001.0,7055.0,7494.0,7736.0,7498.0,6598.0,6664.0,4972.0,7421.0,7363.0,7665.0,7702.0,6978.0,5099.0,6825.0,6211.0,5905.0,5823.0,7458.0,6891.0,6779.0,7442.0,7335.0,6879.0,5463.0,5687.0,5531.0,6227.0,6660.0,7403.0,6241.0,6207.0,4840.0,4672.0,6569.0,6290.0,7264.0,7446.0,7499.0,6969.0,6031.0,6830.0,6786.0,5713.0,6591.0,5870.0,4459.0,7410.0,6966.0,7592.0,8173.0,6861.0,6904.0,6685.0,6597.0,7105.0,7216.0,7580.0,7261.0,7175.0,6824.0,5464.0,7013.0,7273.0,7534.0,7286.0,5786.0,6299.0,6544.0,6883.0,6784.0,7347.0,7605.0,7148.0,7865.0,4549.0,6530.0,7006.0,7375.0,7765.0,7582.0,6053.0,5255.0,6917.0,7040.0,7697.0,7713.0,7350.0,6140.0,5810.0,6034.0,6864.0,7112.0,6203.0,7504.0,5976.0,8227.0,7525.0,7767.0,7870.0,7804.0,8009.0,8714.0,7333.0,6869.0,4073.0,7591.0,7720.0,8167.0,8395.0,7907.0,7436.0,7538.0,7733.0,7393.0,7415.0,8555.0,6889.0,6778.0,4639.0,7572.0,7328.0,8156.0,7965.0,3510.0,5478.0,6392.0,7691.0,7570.0,7282.0,7109.0,6639.0,5875.0,7534.0,7461.0,7509.0,5424.0,8090.0,6824.0,7058.0,7466.0,7693.0,7359.0,7444.0,7852.0,4459.0,22.0,1096.0,5566.0,5986.0,5847.0,5138.0,5107.0,5259.0,5686.0,5035.0,5315.0,5992.0,6536.0,6852.0,6269.0,4094.0,5495.0,5445.0,5698.0,5629.0,4669.0,5499.0,5634.0,5146.0,2425.0,3910.0,2277.0,2424.0,5087.0,3959.0,5260.0,5323.0,5668.0,5191.0,4649.0,6234.0,6606.0,5729.0,5375.0,5008.0,5582.0,3228.0,5170.0,5501.0,5319.0,5532.0,5611.0,5047.0,3786.0,4585.0,5557.0,5267.0,4128.0,3623.0,1749.0,1787.0,920.0,1013.0,441.0,2114.0,3095.0,1341.0,1796.0,2729.0],\"yaxis\":\"y\",\"type\":\"scattergl\"},{\"hovertemplate\":\"var=windspeed<br>value=%{x}<br>cnt=%{y}<extra></extra>\",\"legendgroup\":\"windspeed\",\"marker\":{\"color\":\"#ab63fa\",\"symbol\":\"circle\"},\"mode\":\"markers\",\"name\":\"windspeed\",\"showlegend\":true,\"x\":[0.160446,0.24853899999999998,0.248309,0.160296,0.1869,0.0895652,0.168726,0.266804,0.36195,0.22326700000000002,0.12213199999999999,0.304627,0.301,0.126548,0.15796300000000002,0.188433,0.194017,0.146775,0.208317,0.195904,0.353242,0.17197,0.2466,0.15833,0.129796,0.29385,0.113837,0.1233,0.14536500000000002,0.0739826,0.187192,0.053212999999999996,0.264308,0.277752,0.127839,0.161079,0.1418,0.045408300000000006,0.36195,0.188839,0.221935,0.10855,0.20336700000000002,0.260883,0.417908,0.29137399999999997,0.251791,0.230104,0.264925,0.507463,0.223235,0.307846,0.195683,0.094113,0.250496,0.346539,0.18657100000000001,0.125248,0.289686,0.216425,0.30783299999999997,0.225754,0.203346,0.251871,0.343287,0.341352,0.12065,0.22015,0.26187699999999997,0.23296999999999998,0.220775,0.270604,0.136926,0.184309,0.20311700000000002,0.209579,0.231017,0.368167,0.20772100000000002,0.288783,0.22575,0.23426100000000002,0.24378699999999998,0.230725,0.209571,0.1843,0.212204,0.226996,0.17288800000000001,0.217646,0.258708,0.19714600000000002,0.182213,0.385571,0.388067,0.263063,0.16231199999999998,0.226992,0.13308299999999998,0.146767,0.324474,0.274879,0.25061700000000003,0.1107,0.226375,0.340808,0.303496,0.16356700000000002,0.157971,0.241925,0.325258,0.219521,0.230725,0.192175,0.185333,0.3265,0.3122,0.32090799999999997,0.240063,0.235075,0.10635399999999999,0.183454,0.342667,0.328996,0.295392,0.228246,0.16045,0.0746375,0.17600000000000002,0.11567100000000001,0.12064200000000001,0.189667,0.179725,0.13495,0.152979,0.126871,0.277354,0.201492,0.10821300000000002,0.125013,0.12065,0.148008,0.233842,0.207092,0.15423299999999998,0.19964200000000001,0.240679,0.23009200000000002,0.21393800000000002,0.131225,0.111329,0.207092,0.29228699999999996,0.253121,0.123142,0.138692,0.121896,0.187808,0.136817,0.149883,0.14055399999999998,0.15485,0.16356700000000002,0.30535,0.269283,0.16791199999999998,0.20647100000000002,0.143029,0.11940799999999999,0.102,0.155475,0.171025,0.172262,0.238804,0.222025,0.209571,0.09453330000000001,0.10758800000000002,0.144283,0.261821,0.18531199999999998,0.10260799999999999,0.11506199999999998,0.228858,0.08147919999999999,0.12625799999999998,0.149883,0.1592,0.225129,0.16791199999999998,0.183471,0.282337,0.200254,0.14613299999999999,0.24066700000000002,0.182833,0.208342,0.245033,0.215804,0.1306,0.113817,0.222021,0.1331,0.131221,0.16917100000000002,0.09080830000000001,0.200258,0.18346300000000001,0.178479,0.17413800000000001,0.168537,0.16481300000000002,0.156717,0.20585,0.13558299999999998,0.19715,0.184696,0.22825,0.201487,0.192175,0.151121,0.200258,0.164796,0.125621,0.211454,0.222633,0.208954,0.23632899999999998,0.14366700000000002,0.233208,0.139308,0.104467,0.248754,0.27675,0.146763,0.253108,0.210833,0.0839625,0.37561700000000003,0.304659,0.159825,0.12500799999999998,0.08333330000000001,0.141796,0.139929,0.185325,0.206467,0.212696,0.343943,0.0970208,0.192748,0.12437899999999999,0.153608,0.11505399999999999,0.088913,0.14180399999999999,0.1673,0.271146,0.164183,0.189675,0.178483,0.15174200000000002,0.134954,0.0964042,0.128125,0.0783667,0.0783833,0.0503792,0.1107,0.118171,0.14862899999999998,0.17288299999999998,0.206475,0.292296,0.22201300000000002,0.08334580000000001,0.205854,0.17725,0.134954,0.0223917,0.0454042,0.06345,0.0423042,0.143042,0.24815,0.141787,0.223883,0.258083,0.281717,0.175379,0.11008699999999999,0.243339,0.422275,0.221396,0.09266669999999999,0.0995125,0.11879200000000001,0.166658,0.148642,0.19776300000000002,0.229479,0.351371,0.176617,0.10635,0.135571,0.08209169999999999,0.136817,0.271779,0.18906199999999998,0.09205419999999999,0.057225,0.0690375,0.06219580000000001,0.189067,0.314675,0.212062,0.281721,0.306596,0.199633,0.136829,0.30536199999999997,0.168533,0.224496,0.18595,0.138054,0.11879200000000001,0.335825,0.167304,0.0988958,0.0684208,0.208954,0.142122,0.258092,0.271158,0.220158,0.100754,0.0957833,0.08395830000000001,0.06220830000000001,0.23258299999999998,0.266175,0.240058,0.08271669999999999,0.233221,0.0665417,0.06345,0.14055,0.06095830000000001,0.268042,0.260575,0.243167,0.16977899999999999,0.172896,0.06157080000000001,0.2214,0.047275,0.274246,0.190304,0.155091,0.239465,0.18845,0.29396100000000003,0.11941199999999999,0.13433699999999998,0.220154,0.192167,0.329665,0.365671,0.1847,0.129987,0.167908,0.174758,0.19154200000000002,0.0989,0.187552,0.131221,0.18096700000000002,0.378108,0.187183,0.251258,0.23135799999999998,0.34913,0.415429,0.220158,0.20275,0.222642,0.199638,0.11070799999999999,0.123767,0.161071,0.07339580000000001,0.342667,0.210829,0.24005,0.215792,0.261817,0.189067,0.187187,0.17849600000000002,0.121896,0.175996,0.1538,0.147379,0.133721,0.194037,0.11692899999999999,0.289796,0.40921199999999996,0.167283,0.141179,0.1816,0.091425,0.205846,0.190929,0.253112,0.22908299999999998,0.205717,0.234471,0.190913,0.237567,0.421642,0.205229,0.26803299999999997,0.193417,0.179117,0.226987,0.144904,0.161079,0.334571,0.228858,0.200875,0.345779,0.441563,0.4148,0.22575,0.22258699999999998,0.207713,0.23695,0.11506199999999998,0.149883,0.113192,0.110704,0.126883,0.16231700000000002,0.121271,0.08955830000000001,0.11756199999999999,0.1163,0.19278299999999998,0.220775,0.386821,0.187192,0.291671,0.31965,0.138067,0.25061700000000003,0.172267,0.312139,0.100133,0.180975,0.219529,0.300388,0.274871,0.232596,0.358196,0.249375,0.295274,0.290429,0.155471,0.190917,0.225129,0.284829,0.273629,0.16791199999999998,0.0659292,0.149871,0.283587,0.344546,0.303496,0.249383,0.11879200000000001,0.176625,0.34763299999999997,0.129975,0.116908,0.171638,0.156096,0.138058,0.133696,0.162938,0.15299200000000002,0.14987899999999998,0.230721,0.296029,0.216412,0.31406300000000004,0.23693699999999998,0.12313299999999999,0.225117,0.21269200000000002,0.147392,0.122512,0.229475,0.136817,0.083975,0.254367,0.233204,0.11816700000000001,0.102,0.172896,0.14055,0.198992,0.215171,0.196521,0.2954,0.134329,0.195279,0.23756300000000002,0.18656199999999998,0.184087,0.284833,0.209575,0.077125,0.15735,0.17538299999999998,0.144287,0.133721,0.207713,0.21454600000000001,0.343279,0.253733,0.176617,0.166667,0.144904,0.174746,0.148017,0.11381199999999998,0.11878699999999999,0.182842,0.179721,0.145525,0.300383,0.347642,0.271775,0.17165,0.165417,0.161071,0.16852899999999998,0.195267,0.126237,0.13495,0.194029,0.146142,0.163554,0.125629,0.180975,0.15173699999999998,0.15173299999999998,0.146775,0.08085,0.143679,0.166667,0.164187,0.114429,0.137442,0.165429,0.208967,0.2133,0.09392080000000001,0.138683,0.211454,0.1648,0.28481300000000004,0.15299200000000002,0.15735,0.170396,0.153617,0.165425,0.141179,0.129354,0.215792,0.257458,0.290421,0.129354,0.116908,0.1107,0.1561,0.238813,0.206479,0.122512,0.136212,0.169158,0.169771,0.141796,0.231354,0.177867,0.08645,0.12997899999999998,0.07277080000000001,0.0702833,0.08459580000000001,0.07214580000000001,0.244408,0.228858,0.128733,0.190925,0.112562,0.0771167,0.168533,0.113187,0.06407080000000001,0.151121,0.236321,0.187808,0.142421,0.171646,0.281104,0.224496,0.258713,0.09205419999999999,0.131846,0.08272080000000001,0.10386300000000001,0.247521,0.09018330000000001,0.15174200000000002,0.357587,0.215175,0.11816700000000001,0.154229,0.283583,0.22325799999999998,0.142404,0.236321,0.2444,0.13434200000000002,0.164179,0.227604,0.134958,0.09080419999999999,0.104475,0.0665458,0.117546,0.10635,0.268025,0.14116199999999998,0.189679,0.1903,0.18782100000000002,0.181596,0.235092,0.146142,0.27861199999999997,0.296037,0.182221,0.101371,0.23693699999999998,0.134954,0.11753699999999999,0.166054,0.08148330000000001,0.09454580000000001,0.07277919999999999,0.124375,0.132467,0.235692,0.398008,0.3582,0.213009,0.166667,0.157346,0.266175,0.270529,0.179108,0.236325,0.173513,0.304108,0.347835,0.214558,0.05784580000000001,0.1275,0.173517,0.342046,0.199625,0.15298699999999998,0.171025,0.179729,0.22761199999999998,0.235067,0.082725,0.103246,0.05287080000000001,0.148021,0.376871,0.1505,0.04665,0.237562,0.210821,0.115522,0.05847080000000001,0.05970419999999999,0.12437899999999999,0.08272080000000001,0.174129,0.324021,0.174754,0.1306,0.101379,0.157975,0.190308,0.296037,0.162937,0.174129,0.13122899999999998,0.10635,0.100742,0.0982583,0.221404,0.184092,0.132463,0.37438299999999997,0.407346,0.13308299999999998,0.07723039999999999,0.168726,0.316546,0.35013299999999997,0.155471,0.124383,0.350754,0.154846],\"xaxis\":\"x2\",\"y\":[985.0,801.0,1349.0,1562.0,1600.0,1606.0,1510.0,959.0,822.0,1321.0,1263.0,1162.0,1406.0,1421.0,1248.0,1204.0,1000.0,683.0,1650.0,1927.0,1543.0,981.0,986.0,1416.0,1985.0,506.0,431.0,1167.0,1098.0,1096.0,1501.0,1360.0,1526.0,1550.0,1708.0,1005.0,1623.0,1712.0,1530.0,1605.0,1538.0,1746.0,1472.0,1589.0,1913.0,1815.0,2115.0,2475.0,2927.0,1635.0,1812.0,1107.0,1450.0,1917.0,1807.0,1461.0,1969.0,2402.0,1446.0,1851.0,2134.0,1685.0,1944.0,2077.0,605.0,1872.0,2133.0,1891.0,623.0,1977.0,2132.0,2417.0,2046.0,2056.0,2192.0,2744.0,3239.0,3117.0,2471.0,2077.0,2703.0,2121.0,1865.0,2210.0,2496.0,1693.0,2028.0,2425.0,1536.0,1685.0,2227.0,2252.0,3249.0,3115.0,1795.0,2808.0,3141.0,1471.0,2455.0,2895.0,3348.0,2034.0,2162.0,3267.0,3126.0,795.0,3744.0,3429.0,3204.0,3944.0,4189.0,1683.0,4036.0,4191.0,4073.0,4400.0,3872.0,4058.0,4595.0,5312.0,3351.0,4401.0,4451.0,2633.0,4433.0,4608.0,4714.0,4333.0,4362.0,4803.0,4182.0,4864.0,4105.0,3409.0,4553.0,3958.0,4123.0,3855.0,4575.0,4917.0,5805.0,4660.0,4274.0,4492.0,4978.0,4677.0,4679.0,4758.0,4788.0,4098.0,3982.0,3974.0,4968.0,5312.0,5342.0,4906.0,4548.0,4833.0,4401.0,3915.0,4586.0,4966.0,4460.0,5020.0,4891.0,5180.0,3767.0,4844.0,5119.0,4744.0,4010.0,4835.0,4507.0,4790.0,4991.0,5202.0,5305.0,4708.0,4648.0,5225.0,5515.0,5362.0,5119.0,4649.0,6043.0,4665.0,4629.0,4592.0,4040.0,5336.0,4881.0,4086.0,4258.0,4342.0,5084.0,5538.0,5923.0,5302.0,4458.0,4541.0,4332.0,3784.0,3387.0,3285.0,3606.0,3840.0,4590.0,4656.0,4390.0,3846.0,4475.0,4302.0,4266.0,4845.0,3574.0,4576.0,4866.0,4294.0,3785.0,4326.0,4602.0,4780.0,4792.0,4905.0,4150.0,3820.0,4338.0,4725.0,4694.0,3805.0,4153.0,5191.0,3873.0,4758.0,5895.0,5130.0,3542.0,4661.0,1115.0,4334.0,4634.0,5204.0,5058.0,5115.0,4727.0,4484.0,4940.0,3351.0,2710.0,1996.0,1842.0,3544.0,5345.0,5046.0,4713.0,4763.0,4785.0,3659.0,4760.0,4511.0,4274.0,4539.0,3641.0,4352.0,4795.0,2395.0,5423.0,5010.0,4630.0,4120.0,3907.0,4839.0,5202.0,2429.0,2918.0,3570.0,4456.0,4826.0,4765.0,4985.0,5409.0,5511.0,5117.0,4563.0,2416.0,2913.0,3644.0,5217.0,5041.0,4570.0,4748.0,2424.0,4195.0,4304.0,4308.0,4381.0,4187.0,4687.0,3894.0,2659.0,3747.0,627.0,3331.0,3669.0,4068.0,4186.0,3974.0,4046.0,3926.0,3649.0,4035.0,4205.0,4109.0,2933.0,3368.0,4067.0,3717.0,4486.0,4195.0,1817.0,3053.0,3392.0,3663.0,3520.0,2765.0,1607.0,2566.0,1495.0,2792.0,3068.0,3071.0,3867.0,2914.0,3613.0,3727.0,3940.0,3614.0,3485.0,3811.0,2594.0,705.0,3322.0,3620.0,3190.0,2743.0,3310.0,3523.0,3740.0,3709.0,3577.0,2739.0,2431.0,3403.0,3750.0,2660.0,3068.0,2209.0,1011.0,754.0,1317.0,1162.0,2302.0,2423.0,2999.0,2485.0,2294.0,1951.0,2236.0,2368.0,3272.0,4098.0,4521.0,3425.0,2376.0,3598.0,2177.0,4097.0,3214.0,2493.0,2311.0,2298.0,2935.0,3376.0,3292.0,3163.0,1301.0,1977.0,2432.0,4339.0,4270.0,4075.0,3456.0,4023.0,3243.0,3624.0,4509.0,4579.0,3761.0,4151.0,2832.0,2947.0,3784.0,4375.0,2802.0,3830.0,3831.0,2169.0,1529.0,3422.0,3922.0,4169.0,3005.0,4154.0,4318.0,2689.0,3129.0,3777.0,4773.0,5062.0,3487.0,2732.0,3389.0,4322.0,4363.0,1834.0,4990.0,3194.0,4066.0,3423.0,3333.0,3956.0,4916.0,5382.0,4569.0,4118.0,4911.0,5298.0,5847.0,6312.0,6192.0,4378.0,7836.0,5892.0,6153.0,6093.0,6230.0,6871.0,8362.0,3372.0,4996.0,5558.0,5102.0,5698.0,6133.0,5459.0,6235.0,6041.0,5936.0,6772.0,6436.0,6457.0,6460.0,6857.0,5169.0,5585.0,5918.0,4862.0,5409.0,6398.0,7460.0,7132.0,6370.0,6691.0,4367.0,6565.0,7290.0,6624.0,1027.0,3214.0,5633.0,6196.0,5026.0,6233.0,4220.0,6304.0,5572.0,5740.0,6169.0,6421.0,6296.0,6883.0,6359.0,6273.0,5728.0,4717.0,6572.0,7030.0,7429.0,6118.0,2843.0,5115.0,7424.0,7384.0,7639.0,8294.0,7129.0,4359.0,6073.0,5260.0,6770.0,6734.0,6536.0,6591.0,6043.0,5743.0,6855.0,7338.0,4127.0,8120.0,7641.0,6998.0,7001.0,7055.0,7494.0,7736.0,7498.0,6598.0,6664.0,4972.0,7421.0,7363.0,7665.0,7702.0,6978.0,5099.0,6825.0,6211.0,5905.0,5823.0,7458.0,6891.0,6779.0,7442.0,7335.0,6879.0,5463.0,5687.0,5531.0,6227.0,6660.0,7403.0,6241.0,6207.0,4840.0,4672.0,6569.0,6290.0,7264.0,7446.0,7499.0,6969.0,6031.0,6830.0,6786.0,5713.0,6591.0,5870.0,4459.0,7410.0,6966.0,7592.0,8173.0,6861.0,6904.0,6685.0,6597.0,7105.0,7216.0,7580.0,7261.0,7175.0,6824.0,5464.0,7013.0,7273.0,7534.0,7286.0,5786.0,6299.0,6544.0,6883.0,6784.0,7347.0,7605.0,7148.0,7865.0,4549.0,6530.0,7006.0,7375.0,7765.0,7582.0,6053.0,5255.0,6917.0,7040.0,7697.0,7713.0,7350.0,6140.0,5810.0,6034.0,6864.0,7112.0,6203.0,7504.0,5976.0,8227.0,7525.0,7767.0,7870.0,7804.0,8009.0,8714.0,7333.0,6869.0,4073.0,7591.0,7720.0,8167.0,8395.0,7907.0,7436.0,7538.0,7733.0,7393.0,7415.0,8555.0,6889.0,6778.0,4639.0,7572.0,7328.0,8156.0,7965.0,3510.0,5478.0,6392.0,7691.0,7570.0,7282.0,7109.0,6639.0,5875.0,7534.0,7461.0,7509.0,5424.0,8090.0,6824.0,7058.0,7466.0,7693.0,7359.0,7444.0,7852.0,4459.0,22.0,1096.0,5566.0,5986.0,5847.0,5138.0,5107.0,5259.0,5686.0,5035.0,5315.0,5992.0,6536.0,6852.0,6269.0,4094.0,5495.0,5445.0,5698.0,5629.0,4669.0,5499.0,5634.0,5146.0,2425.0,3910.0,2277.0,2424.0,5087.0,3959.0,5260.0,5323.0,5668.0,5191.0,4649.0,6234.0,6606.0,5729.0,5375.0,5008.0,5582.0,3228.0,5170.0,5501.0,5319.0,5532.0,5611.0,5047.0,3786.0,4585.0,5557.0,5267.0,4128.0,3623.0,1749.0,1787.0,920.0,1013.0,441.0,2114.0,3095.0,1341.0,1796.0,2729.0],\"yaxis\":\"y2\",\"type\":\"scattergl\"}],                        {\"template\":{\"data\":{\"bar\":[{\"error_x\":{\"color\":\"#2a3f5f\"},\"error_y\":{\"color\":\"#2a3f5f\"},\"marker\":{\"line\":{\"color\":\"#E5ECF6\",\"width\":0.5},\"pattern\":{\"fillmode\":\"overlay\",\"size\":10,\"solidity\":0.2}},\"type\":\"bar\"}],\"barpolar\":[{\"marker\":{\"line\":{\"color\":\"#E5ECF6\",\"width\":0.5},\"pattern\":{\"fillmode\":\"overlay\",\"size\":10,\"solidity\":0.2}},\"type\":\"barpolar\"}],\"carpet\":[{\"aaxis\":{\"endlinecolor\":\"#2a3f5f\",\"gridcolor\":\"white\",\"linecolor\":\"white\",\"minorgridcolor\":\"white\",\"startlinecolor\":\"#2a3f5f\"},\"baxis\":{\"endlinecolor\":\"#2a3f5f\",\"gridcolor\":\"white\",\"linecolor\":\"white\",\"minorgridcolor\":\"white\",\"startlinecolor\":\"#2a3f5f\"},\"type\":\"carpet\"}],\"choropleth\":[{\"colorbar\":{\"outlinewidth\":0,\"ticks\":\"\"},\"type\":\"choropleth\"}],\"contour\":[{\"colorbar\":{\"outlinewidth\":0,\"ticks\":\"\"},\"colorscale\":[[0.0,\"#0d0887\"],[0.1111111111111111,\"#46039f\"],[0.2222222222222222,\"#7201a8\"],[0.3333333333333333,\"#9c179e\"],[0.4444444444444444,\"#bd3786\"],[0.5555555555555556,\"#d8576b\"],[0.6666666666666666,\"#ed7953\"],[0.7777777777777778,\"#fb9f3a\"],[0.8888888888888888,\"#fdca26\"],[1.0,\"#f0f921\"]],\"type\":\"contour\"}],\"contourcarpet\":[{\"colorbar\":{\"outlinewidth\":0,\"ticks\":\"\"},\"type\":\"contourcarpet\"}],\"heatmap\":[{\"colorbar\":{\"outlinewidth\":0,\"ticks\":\"\"},\"colorscale\":[[0.0,\"#0d0887\"],[0.1111111111111111,\"#46039f\"],[0.2222222222222222,\"#7201a8\"],[0.3333333333333333,\"#9c179e\"],[0.4444444444444444,\"#bd3786\"],[0.5555555555555556,\"#d8576b\"],[0.6666666666666666,\"#ed7953\"],[0.7777777777777778,\"#fb9f3a\"],[0.8888888888888888,\"#fdca26\"],[1.0,\"#f0f921\"]],\"type\":\"heatmap\"}],\"heatmapgl\":[{\"colorbar\":{\"outlinewidth\":0,\"ticks\":\"\"},\"colorscale\":[[0.0,\"#0d0887\"],[0.1111111111111111,\"#46039f\"],[0.2222222222222222,\"#7201a8\"],[0.3333333333333333,\"#9c179e\"],[0.4444444444444444,\"#bd3786\"],[0.5555555555555556,\"#d8576b\"],[0.6666666666666666,\"#ed7953\"],[0.7777777777777778,\"#fb9f3a\"],[0.8888888888888888,\"#fdca26\"],[1.0,\"#f0f921\"]],\"type\":\"heatmapgl\"}],\"histogram\":[{\"marker\":{\"pattern\":{\"fillmode\":\"overlay\",\"size\":10,\"solidity\":0.2}},\"type\":\"histogram\"}],\"histogram2d\":[{\"colorbar\":{\"outlinewidth\":0,\"ticks\":\"\"},\"colorscale\":[[0.0,\"#0d0887\"],[0.1111111111111111,\"#46039f\"],[0.2222222222222222,\"#7201a8\"],[0.3333333333333333,\"#9c179e\"],[0.4444444444444444,\"#bd3786\"],[0.5555555555555556,\"#d8576b\"],[0.6666666666666666,\"#ed7953\"],[0.7777777777777778,\"#fb9f3a\"],[0.8888888888888888,\"#fdca26\"],[1.0,\"#f0f921\"]],\"type\":\"histogram2d\"}],\"histogram2dcontour\":[{\"colorbar\":{\"outlinewidth\":0,\"ticks\":\"\"},\"colorscale\":[[0.0,\"#0d0887\"],[0.1111111111111111,\"#46039f\"],[0.2222222222222222,\"#7201a8\"],[0.3333333333333333,\"#9c179e\"],[0.4444444444444444,\"#bd3786\"],[0.5555555555555556,\"#d8576b\"],[0.6666666666666666,\"#ed7953\"],[0.7777777777777778,\"#fb9f3a\"],[0.8888888888888888,\"#fdca26\"],[1.0,\"#f0f921\"]],\"type\":\"histogram2dcontour\"}],\"mesh3d\":[{\"colorbar\":{\"outlinewidth\":0,\"ticks\":\"\"},\"type\":\"mesh3d\"}],\"parcoords\":[{\"line\":{\"colorbar\":{\"outlinewidth\":0,\"ticks\":\"\"}},\"type\":\"parcoords\"}],\"pie\":[{\"automargin\":true,\"type\":\"pie\"}],\"scatter\":[{\"marker\":{\"colorbar\":{\"outlinewidth\":0,\"ticks\":\"\"}},\"type\":\"scatter\"}],\"scatter3d\":[{\"line\":{\"colorbar\":{\"outlinewidth\":0,\"ticks\":\"\"}},\"marker\":{\"colorbar\":{\"outlinewidth\":0,\"ticks\":\"\"}},\"type\":\"scatter3d\"}],\"scattercarpet\":[{\"marker\":{\"colorbar\":{\"outlinewidth\":0,\"ticks\":\"\"}},\"type\":\"scattercarpet\"}],\"scattergeo\":[{\"marker\":{\"colorbar\":{\"outlinewidth\":0,\"ticks\":\"\"}},\"type\":\"scattergeo\"}],\"scattergl\":[{\"marker\":{\"colorbar\":{\"outlinewidth\":0,\"ticks\":\"\"}},\"type\":\"scattergl\"}],\"scattermapbox\":[{\"marker\":{\"colorbar\":{\"outlinewidth\":0,\"ticks\":\"\"}},\"type\":\"scattermapbox\"}],\"scatterpolar\":[{\"marker\":{\"colorbar\":{\"outlinewidth\":0,\"ticks\":\"\"}},\"type\":\"scatterpolar\"}],\"scatterpolargl\":[{\"marker\":{\"colorbar\":{\"outlinewidth\":0,\"ticks\":\"\"}},\"type\":\"scatterpolargl\"}],\"scatterternary\":[{\"marker\":{\"colorbar\":{\"outlinewidth\":0,\"ticks\":\"\"}},\"type\":\"scatterternary\"}],\"surface\":[{\"colorbar\":{\"outlinewidth\":0,\"ticks\":\"\"},\"colorscale\":[[0.0,\"#0d0887\"],[0.1111111111111111,\"#46039f\"],[0.2222222222222222,\"#7201a8\"],[0.3333333333333333,\"#9c179e\"],[0.4444444444444444,\"#bd3786\"],[0.5555555555555556,\"#d8576b\"],[0.6666666666666666,\"#ed7953\"],[0.7777777777777778,\"#fb9f3a\"],[0.8888888888888888,\"#fdca26\"],[1.0,\"#f0f921\"]],\"type\":\"surface\"}],\"table\":[{\"cells\":{\"fill\":{\"color\":\"#EBF0F8\"},\"line\":{\"color\":\"white\"}},\"header\":{\"fill\":{\"color\":\"#C8D4E3\"},\"line\":{\"color\":\"white\"}},\"type\":\"table\"}]},\"layout\":{\"annotationdefaults\":{\"arrowcolor\":\"#2a3f5f\",\"arrowhead\":0,\"arrowwidth\":1},\"autotypenumbers\":\"strict\",\"coloraxis\":{\"colorbar\":{\"outlinewidth\":0,\"ticks\":\"\"}},\"colorscale\":{\"diverging\":[[0,\"#8e0152\"],[0.1,\"#c51b7d\"],[0.2,\"#de77ae\"],[0.3,\"#f1b6da\"],[0.4,\"#fde0ef\"],[0.5,\"#f7f7f7\"],[0.6,\"#e6f5d0\"],[0.7,\"#b8e186\"],[0.8,\"#7fbc41\"],[0.9,\"#4d9221\"],[1,\"#276419\"]],\"sequential\":[[0.0,\"#0d0887\"],[0.1111111111111111,\"#46039f\"],[0.2222222222222222,\"#7201a8\"],[0.3333333333333333,\"#9c179e\"],[0.4444444444444444,\"#bd3786\"],[0.5555555555555556,\"#d8576b\"],[0.6666666666666666,\"#ed7953\"],[0.7777777777777778,\"#fb9f3a\"],[0.8888888888888888,\"#fdca26\"],[1.0,\"#f0f921\"]],\"sequentialminus\":[[0.0,\"#0d0887\"],[0.1111111111111111,\"#46039f\"],[0.2222222222222222,\"#7201a8\"],[0.3333333333333333,\"#9c179e\"],[0.4444444444444444,\"#bd3786\"],[0.5555555555555556,\"#d8576b\"],[0.6666666666666666,\"#ed7953\"],[0.7777777777777778,\"#fb9f3a\"],[0.8888888888888888,\"#fdca26\"],[1.0,\"#f0f921\"]]},\"colorway\":[\"#636efa\",\"#EF553B\",\"#00cc96\",\"#ab63fa\",\"#FFA15A\",\"#19d3f3\",\"#FF6692\",\"#B6E880\",\"#FF97FF\",\"#FECB52\"],\"font\":{\"color\":\"#2a3f5f\"},\"geo\":{\"bgcolor\":\"white\",\"lakecolor\":\"white\",\"landcolor\":\"#E5ECF6\",\"showlakes\":true,\"showland\":true,\"subunitcolor\":\"white\"},\"hoverlabel\":{\"align\":\"left\"},\"hovermode\":\"closest\",\"mapbox\":{\"style\":\"light\"},\"paper_bgcolor\":\"white\",\"plot_bgcolor\":\"#E5ECF6\",\"polar\":{\"angularaxis\":{\"gridcolor\":\"white\",\"linecolor\":\"white\",\"ticks\":\"\"},\"bgcolor\":\"#E5ECF6\",\"radialaxis\":{\"gridcolor\":\"white\",\"linecolor\":\"white\",\"ticks\":\"\"}},\"scene\":{\"xaxis\":{\"backgroundcolor\":\"#E5ECF6\",\"gridcolor\":\"white\",\"gridwidth\":2,\"linecolor\":\"white\",\"showbackground\":true,\"ticks\":\"\",\"zerolinecolor\":\"white\"},\"yaxis\":{\"backgroundcolor\":\"#E5ECF6\",\"gridcolor\":\"white\",\"gridwidth\":2,\"linecolor\":\"white\",\"showbackground\":true,\"ticks\":\"\",\"zerolinecolor\":\"white\"},\"zaxis\":{\"backgroundcolor\":\"#E5ECF6\",\"gridcolor\":\"white\",\"gridwidth\":2,\"linecolor\":\"white\",\"showbackground\":true,\"ticks\":\"\",\"zerolinecolor\":\"white\"}},\"shapedefaults\":{\"line\":{\"color\":\"#2a3f5f\"}},\"ternary\":{\"aaxis\":{\"gridcolor\":\"white\",\"linecolor\":\"white\",\"ticks\":\"\"},\"baxis\":{\"gridcolor\":\"white\",\"linecolor\":\"white\",\"ticks\":\"\"},\"bgcolor\":\"#E5ECF6\",\"caxis\":{\"gridcolor\":\"white\",\"linecolor\":\"white\",\"ticks\":\"\"}},\"title\":{\"x\":0.05},\"xaxis\":{\"automargin\":true,\"gridcolor\":\"white\",\"linecolor\":\"white\",\"ticks\":\"\",\"title\":{\"standoff\":15},\"zerolinecolor\":\"white\",\"zerolinewidth\":2},\"yaxis\":{\"automargin\":true,\"gridcolor\":\"white\",\"linecolor\":\"white\",\"ticks\":\"\",\"title\":{\"standoff\":15},\"zerolinecolor\":\"white\",\"zerolinewidth\":2}}},\"xaxis\":{\"anchor\":\"y\",\"domain\":[0.0,0.49],\"title\":{\"text\":\"value\"}},\"yaxis\":{\"anchor\":\"x\",\"domain\":[0.0,0.46499999999999997],\"title\":{\"text\":\"cnt\"}},\"xaxis2\":{\"anchor\":\"y2\",\"domain\":[0.51,1.0],\"matches\":\"x\",\"title\":{\"text\":\"value\"}},\"yaxis2\":{\"anchor\":\"x2\",\"domain\":[0.0,0.46499999999999997],\"matches\":\"y\",\"showticklabels\":false},\"xaxis3\":{\"anchor\":\"y3\",\"domain\":[0.0,0.49],\"matches\":\"x\",\"showticklabels\":false},\"yaxis3\":{\"anchor\":\"x3\",\"domain\":[0.5349999999999999,0.9999999999999999],\"matches\":\"y\",\"title\":{\"text\":\"cnt\"}},\"xaxis4\":{\"anchor\":\"y4\",\"domain\":[0.51,1.0],\"matches\":\"x\",\"showticklabels\":false},\"yaxis4\":{\"anchor\":\"x4\",\"domain\":[0.5349999999999999,0.9999999999999999],\"matches\":\"y\",\"showticklabels\":false},\"annotations\":[{\"font\":{},\"showarrow\":false,\"text\":\"var=hum\",\"x\":0.245,\"xanchor\":\"center\",\"xref\":\"paper\",\"y\":0.46499999999999997,\"yanchor\":\"bottom\",\"yref\":\"paper\"},{\"font\":{},\"showarrow\":false,\"text\":\"var=windspeed\",\"x\":0.755,\"xanchor\":\"center\",\"xref\":\"paper\",\"y\":0.46499999999999997,\"yanchor\":\"bottom\",\"yref\":\"paper\"},{\"font\":{},\"showarrow\":false,\"text\":\"var=temp\",\"x\":0.245,\"xanchor\":\"center\",\"xref\":\"paper\",\"y\":0.9999999999999999,\"yanchor\":\"bottom\",\"yref\":\"paper\"},{\"font\":{},\"showarrow\":false,\"text\":\"var=atemp\",\"x\":0.755,\"xanchor\":\"center\",\"xref\":\"paper\",\"y\":0.9999999999999999,\"yanchor\":\"bottom\",\"yref\":\"paper\"}],\"legend\":{\"title\":{\"text\":\"var\"},\"tracegroupgap\":0},\"margin\":{\"t\":60},\"width\":1200,\"title\":{\"text\":\"climate variables vs user count\",\"x\":0.5,\"xanchor\":\"center\",\"yanchor\":\"middle\"}},                        {\"responsive\": true}                    ).then(function(){\n",
              "                            \n",
              "var gd = document.getElementById('3012594a-8d9f-46fb-bb56-7bc647082ceb');\n",
              "var x = new MutationObserver(function (mutations, observer) {{\n",
              "        var display = window.getComputedStyle(gd).display;\n",
              "        if (!display || display === 'none') {{\n",
              "            console.log([gd, 'removed!']);\n",
              "            Plotly.purge(gd);\n",
              "            observer.disconnect();\n",
              "        }}\n",
              "}});\n",
              "\n",
              "// Listen for the removal of the full notebook cells\n",
              "var notebookContainer = gd.closest('#notebook-container');\n",
              "if (notebookContainer) {{\n",
              "    x.observe(notebookContainer, {childList: true});\n",
              "}}\n",
              "\n",
              "// Listen for the clearing of the current output cell\n",
              "var outputEl = gd.closest('.output');\n",
              "if (outputEl) {{\n",
              "    x.observe(outputEl, {childList: true});\n",
              "}}\n",
              "\n",
              "                        })                };                            </script>        </div>\n",
              "</body>\n",
              "</html>"
            ]
          },
          "metadata": {},
          "output_type": "display_data"
        }
      ],
      "metadata": {
        "execution": {
          "iopub.status.busy": "2021-11-10T01:41:34.245321Z",
          "iopub.execute_input": "2021-11-10T01:41:34.245542Z",
          "iopub.status.idle": "2021-11-10T01:41:35.311105Z",
          "shell.execute_reply.started": "2021-11-10T01:41:34.245516Z",
          "shell.execute_reply": "2021-11-10T01:41:35.310516Z"
        },
        "trusted": true,
        "colab": {
          "base_uri": "https://localhost:8080/",
          "height": 542
        },
        "cellView": "form",
        "id": "1fNP_a8qmX_O",
        "outputId": "6e95612d-cb72-4efa-eaa5-1f118cef29a9"
      }
    },
    {
      "cell_type": "markdown",
      "source": [
        "Abaixo, as variáveis contínuas foram quebradas em 20 bins, para avaliação. Na parte de cima, temos no eixo y a quantidade de usuários por dia (users/day) e na parte de baixo, um gráfico de histograma, contando o número de pontos/dias que entram em cada bin. \n",
        "\n",
        "Quanto à variável temp, é possível ver números maiores a partir dos 20,5°C, atingindo o máximo entre 25°C e 30°C aproximadamente. Para sensação térmica (atemp), temos um comportamento similar, com números maiores a partir de 27,5°C, atingindo o máximo entre 30°C e 35°C.\n",
        "\n",
        "Em ambas as variáveis, é possível perceber que a partir de 34,8°C (temp) e 42,5°C (atemp), os números voltam a cair, indicando que, nesses intervalos, as temperaturas ficam acima do ideal na concepção dos usuários."
      ],
      "metadata": {
        "id": "Ay8DCmQStBOZ"
      }
    },
    {
      "cell_type": "code",
      "execution_count": 17,
      "source": [
        "#@title\r\n",
        "columns = ['temp','atemp','hum','windspeed']\r\n",
        "multipliers = {'temp':41,'atemp':50,'hum':100,'windspeed':67}\r\n",
        "dfs_for_each_var = {}\r\n",
        "traces = []\r\n",
        "import plotly.graph_objects as go\r\n",
        "from plotly.subplots import make_subplots\r\n",
        "for column in columns:\r\n",
        "    aux_df = df.copy()\r\n",
        "    aux_df[column+'_cut'] = pd.cut(aux_df[column],bins=[i/20 for i in range(0,21)])\r\n",
        "    hist_values = aux_df[column+'_cut'].value_counts().sort_index().values\r\n",
        "    aux_df = aux_df[[column+'_cut', 'cnt']].groupby(column+\"_cut\")['cnt'].agg(['sum','count']).reset_index()\r\n",
        "    aux_df['users/day'] = aux_df.apply(lambda row : float(\"{:.2f}\".format(row['sum']/row['count'])) if row['count']>0 else 0, axis = 1)\r\n",
        "    aux_df[column+'_cut'] = aux_df[column+'_cut'].astype(str)\r\n",
        "    x_labels = aux_df[column+'_cut'].apply(lambda x: x.split(\", \")[-1].replace(\"]\",\"\")).apply(lambda x: float(x)*multipliers[column]).apply(lambda x: \"{:.2f}\".format(x))\r\n",
        "    traces.append(go.Bar(x=x_labels, y=aux_df['users/day'], text = aux_df['users/day'],name=column))#+\" (users/day)\"))\r\n",
        "    traces.append(go.Bar(x=x_labels, y=hist_values, text = hist_values,name=None))#+\" (histogram)\"))\r\n",
        "    \r\n",
        "fig = make_subplots(rows=2,cols=2, subplot_titles = [traces[i]['name'] for i in [0,2,1,3]],vertical_spacing=0.03)\r\n",
        "fig.append_trace(traces[0],1,1)\r\n",
        "fig.append_trace(traces[1],2,1)\r\n",
        "fig.append_trace(traces[2],1,2)\r\n",
        "fig.append_trace(traces[3],2,2)\r\n",
        "fig.update_layout(height=600, width=1200)\r\n",
        "fig.update_layout(\r\n",
        "    title={\r\n",
        "        'text': \"Continuous vars vs user/day\",\r\n",
        "        'x':0.5,\r\n",
        "        'xanchor': 'center',\r\n",
        "        'yanchor': 'middle'},\r\n",
        "    showlegend=False\r\n",
        "        )\r\n",
        "yaxes = [\"users/day\",\"users/day\",\"#days\",\"#days\"]\r\n",
        "for i in range(4):\r\n",
        "  if yaxes[i] == \"users/day\":\r\n",
        "    fig['layout']['xaxis'+str(i+1)]['visible'] = False\r\n",
        "  fig['layout']['yaxis'+str(i+1)]['title'] = yaxes[i]\r\n",
        "\r\n",
        "fig.update_traces(texttemplate='%{text:.2s}')\r\n",
        "fig.show()"
      ],
      "outputs": [
        {
          "data": {
            "text/html": [
              "<html>\n",
              "<head><meta charset=\"utf-8\" /></head>\n",
              "<body>\n",
              "    <div>            <script src=\"https://cdnjs.cloudflare.com/ajax/libs/mathjax/2.7.5/MathJax.js?config=TeX-AMS-MML_SVG\"></script><script type=\"text/javascript\">if (window.MathJax) {MathJax.Hub.Config({SVG: {font: \"STIX-Web\"}});}</script>                <script type=\"text/javascript\">window.PlotlyConfig = {MathJaxConfig: 'local'};</script>\n",
              "        <script src=\"https://cdn.plot.ly/plotly-2.6.3.min.js\"></script>                <div id=\"9973d8c1-9796-4734-bd3e-fdfc12ceb9f0\" class=\"plotly-graph-div\" style=\"height:600px; width:1200px;\"></div>            <script type=\"text/javascript\">                                    window.PLOTLYENV=window.PLOTLYENV || {};                                    if (document.getElementById(\"9973d8c1-9796-4734-bd3e-fdfc12ceb9f0\")) {                    Plotly.newPlot(                        \"9973d8c1-9796-4734-bd3e-fdfc12ceb9f0\",                        [{\"name\":\"temp\",\"text\":[0.0,1127.67,1683.0,1559.56,1890.69,2974.5,3380.84,3846.63,4006.2,5030.46,5347.86,5706.41,5778.33,5505.46,5842.79,5684.19,4760.33,4840.0,0.0,0.0],\"x\":[\"2.05\",\"4.10\",\"6.15\",\"8.20\",\"10.25\",\"12.30\",\"14.35\",\"16.40\",\"18.45\",\"20.50\",\"22.55\",\"24.60\",\"26.65\",\"28.70\",\"30.75\",\"32.80\",\"34.85\",\"36.90\",\"38.95\",\"41.00\"],\"y\":[0.0,1127.67,1683.0,1559.56,1890.69,2974.5,3380.84,3846.63,4006.2,5030.46,5347.86,5706.41,5778.33,5505.46,5842.79,5684.19,4760.33,4840.0,0.0,0.0],\"type\":\"bar\",\"xaxis\":\"x\",\"yaxis\":\"y\",\"texttemplate\":\"%{text:.2s}\"},{\"text\":[0.0,3.0,6.0,25.0,29.0,72.0,69.0,57.0,56.0,50.0,59.0,51.0,64.0,61.0,76.0,37.0,15.0,1.0,0.0,0.0],\"x\":[\"2.05\",\"4.10\",\"6.15\",\"8.20\",\"10.25\",\"12.30\",\"14.35\",\"16.40\",\"18.45\",\"20.50\",\"22.55\",\"24.60\",\"26.65\",\"28.70\",\"30.75\",\"32.80\",\"34.85\",\"36.90\",\"38.95\",\"41.00\"],\"y\":[0,3,6,25,29,72,69,57,56,50,59,51,64,61,76,37,15,1,0,0],\"type\":\"bar\",\"xaxis\":\"x3\",\"yaxis\":\"y3\",\"texttemplate\":\"%{text:.2s}\"},{\"name\":\"atemp\",\"text\":[0.0,983.5,1644.86,1638.26,1917.53,2889.49,3539.37,3746.43,4034.12,4948.6,5467.09,5916.6,5553.99,5852.27,5513.35,5363.27,3824.0,0.0,0.0,0.0],\"x\":[\"2.50\",\"5.00\",\"7.50\",\"10.00\",\"12.50\",\"15.00\",\"17.50\",\"20.00\",\"22.50\",\"25.00\",\"27.50\",\"30.00\",\"32.50\",\"35.00\",\"37.50\",\"40.00\",\"42.50\",\"45.00\",\"47.50\",\"50.00\"],\"y\":[0.0,983.5,1644.86,1638.26,1917.53,2889.49,3539.37,3746.43,4034.12,4948.6,5467.09,5916.6,5553.99,5852.27,5513.35,5363.27,3824.0,0.0,0.0,0.0],\"type\":\"bar\",\"xaxis\":\"x2\",\"yaxis\":\"y2\",\"texttemplate\":\"%{text:.2s}\"},{\"text\":[0.0,2.0,7.0,19.0,38.0,67.0,65.0,67.0,57.0,55.0,79.0,77.0,73.0,73.0,37.0,11.0,4.0,0.0,0.0,0.0],\"x\":[\"2.50\",\"5.00\",\"7.50\",\"10.00\",\"12.50\",\"15.00\",\"17.50\",\"20.00\",\"22.50\",\"25.00\",\"27.50\",\"30.00\",\"32.50\",\"35.00\",\"37.50\",\"40.00\",\"42.50\",\"45.00\",\"47.50\",\"50.00\"],\"y\":[0,2,7,19,38,67,65,67,57,55,79,77,73,73,37,11,4,0,0,0],\"type\":\"bar\",\"xaxis\":\"x4\",\"yaxis\":\"y4\",\"texttemplate\":\"%{text:.2s}\"}],                        {\"template\":{\"data\":{\"bar\":[{\"error_x\":{\"color\":\"#2a3f5f\"},\"error_y\":{\"color\":\"#2a3f5f\"},\"marker\":{\"line\":{\"color\":\"#E5ECF6\",\"width\":0.5},\"pattern\":{\"fillmode\":\"overlay\",\"size\":10,\"solidity\":0.2}},\"type\":\"bar\"}],\"barpolar\":[{\"marker\":{\"line\":{\"color\":\"#E5ECF6\",\"width\":0.5},\"pattern\":{\"fillmode\":\"overlay\",\"size\":10,\"solidity\":0.2}},\"type\":\"barpolar\"}],\"carpet\":[{\"aaxis\":{\"endlinecolor\":\"#2a3f5f\",\"gridcolor\":\"white\",\"linecolor\":\"white\",\"minorgridcolor\":\"white\",\"startlinecolor\":\"#2a3f5f\"},\"baxis\":{\"endlinecolor\":\"#2a3f5f\",\"gridcolor\":\"white\",\"linecolor\":\"white\",\"minorgridcolor\":\"white\",\"startlinecolor\":\"#2a3f5f\"},\"type\":\"carpet\"}],\"choropleth\":[{\"colorbar\":{\"outlinewidth\":0,\"ticks\":\"\"},\"type\":\"choropleth\"}],\"contour\":[{\"colorbar\":{\"outlinewidth\":0,\"ticks\":\"\"},\"colorscale\":[[0.0,\"#0d0887\"],[0.1111111111111111,\"#46039f\"],[0.2222222222222222,\"#7201a8\"],[0.3333333333333333,\"#9c179e\"],[0.4444444444444444,\"#bd3786\"],[0.5555555555555556,\"#d8576b\"],[0.6666666666666666,\"#ed7953\"],[0.7777777777777778,\"#fb9f3a\"],[0.8888888888888888,\"#fdca26\"],[1.0,\"#f0f921\"]],\"type\":\"contour\"}],\"contourcarpet\":[{\"colorbar\":{\"outlinewidth\":0,\"ticks\":\"\"},\"type\":\"contourcarpet\"}],\"heatmap\":[{\"colorbar\":{\"outlinewidth\":0,\"ticks\":\"\"},\"colorscale\":[[0.0,\"#0d0887\"],[0.1111111111111111,\"#46039f\"],[0.2222222222222222,\"#7201a8\"],[0.3333333333333333,\"#9c179e\"],[0.4444444444444444,\"#bd3786\"],[0.5555555555555556,\"#d8576b\"],[0.6666666666666666,\"#ed7953\"],[0.7777777777777778,\"#fb9f3a\"],[0.8888888888888888,\"#fdca26\"],[1.0,\"#f0f921\"]],\"type\":\"heatmap\"}],\"heatmapgl\":[{\"colorbar\":{\"outlinewidth\":0,\"ticks\":\"\"},\"colorscale\":[[0.0,\"#0d0887\"],[0.1111111111111111,\"#46039f\"],[0.2222222222222222,\"#7201a8\"],[0.3333333333333333,\"#9c179e\"],[0.4444444444444444,\"#bd3786\"],[0.5555555555555556,\"#d8576b\"],[0.6666666666666666,\"#ed7953\"],[0.7777777777777778,\"#fb9f3a\"],[0.8888888888888888,\"#fdca26\"],[1.0,\"#f0f921\"]],\"type\":\"heatmapgl\"}],\"histogram\":[{\"marker\":{\"pattern\":{\"fillmode\":\"overlay\",\"size\":10,\"solidity\":0.2}},\"type\":\"histogram\"}],\"histogram2d\":[{\"colorbar\":{\"outlinewidth\":0,\"ticks\":\"\"},\"colorscale\":[[0.0,\"#0d0887\"],[0.1111111111111111,\"#46039f\"],[0.2222222222222222,\"#7201a8\"],[0.3333333333333333,\"#9c179e\"],[0.4444444444444444,\"#bd3786\"],[0.5555555555555556,\"#d8576b\"],[0.6666666666666666,\"#ed7953\"],[0.7777777777777778,\"#fb9f3a\"],[0.8888888888888888,\"#fdca26\"],[1.0,\"#f0f921\"]],\"type\":\"histogram2d\"}],\"histogram2dcontour\":[{\"colorbar\":{\"outlinewidth\":0,\"ticks\":\"\"},\"colorscale\":[[0.0,\"#0d0887\"],[0.1111111111111111,\"#46039f\"],[0.2222222222222222,\"#7201a8\"],[0.3333333333333333,\"#9c179e\"],[0.4444444444444444,\"#bd3786\"],[0.5555555555555556,\"#d8576b\"],[0.6666666666666666,\"#ed7953\"],[0.7777777777777778,\"#fb9f3a\"],[0.8888888888888888,\"#fdca26\"],[1.0,\"#f0f921\"]],\"type\":\"histogram2dcontour\"}],\"mesh3d\":[{\"colorbar\":{\"outlinewidth\":0,\"ticks\":\"\"},\"type\":\"mesh3d\"}],\"parcoords\":[{\"line\":{\"colorbar\":{\"outlinewidth\":0,\"ticks\":\"\"}},\"type\":\"parcoords\"}],\"pie\":[{\"automargin\":true,\"type\":\"pie\"}],\"scatter\":[{\"marker\":{\"colorbar\":{\"outlinewidth\":0,\"ticks\":\"\"}},\"type\":\"scatter\"}],\"scatter3d\":[{\"line\":{\"colorbar\":{\"outlinewidth\":0,\"ticks\":\"\"}},\"marker\":{\"colorbar\":{\"outlinewidth\":0,\"ticks\":\"\"}},\"type\":\"scatter3d\"}],\"scattercarpet\":[{\"marker\":{\"colorbar\":{\"outlinewidth\":0,\"ticks\":\"\"}},\"type\":\"scattercarpet\"}],\"scattergeo\":[{\"marker\":{\"colorbar\":{\"outlinewidth\":0,\"ticks\":\"\"}},\"type\":\"scattergeo\"}],\"scattergl\":[{\"marker\":{\"colorbar\":{\"outlinewidth\":0,\"ticks\":\"\"}},\"type\":\"scattergl\"}],\"scattermapbox\":[{\"marker\":{\"colorbar\":{\"outlinewidth\":0,\"ticks\":\"\"}},\"type\":\"scattermapbox\"}],\"scatterpolar\":[{\"marker\":{\"colorbar\":{\"outlinewidth\":0,\"ticks\":\"\"}},\"type\":\"scatterpolar\"}],\"scatterpolargl\":[{\"marker\":{\"colorbar\":{\"outlinewidth\":0,\"ticks\":\"\"}},\"type\":\"scatterpolargl\"}],\"scatterternary\":[{\"marker\":{\"colorbar\":{\"outlinewidth\":0,\"ticks\":\"\"}},\"type\":\"scatterternary\"}],\"surface\":[{\"colorbar\":{\"outlinewidth\":0,\"ticks\":\"\"},\"colorscale\":[[0.0,\"#0d0887\"],[0.1111111111111111,\"#46039f\"],[0.2222222222222222,\"#7201a8\"],[0.3333333333333333,\"#9c179e\"],[0.4444444444444444,\"#bd3786\"],[0.5555555555555556,\"#d8576b\"],[0.6666666666666666,\"#ed7953\"],[0.7777777777777778,\"#fb9f3a\"],[0.8888888888888888,\"#fdca26\"],[1.0,\"#f0f921\"]],\"type\":\"surface\"}],\"table\":[{\"cells\":{\"fill\":{\"color\":\"#EBF0F8\"},\"line\":{\"color\":\"white\"}},\"header\":{\"fill\":{\"color\":\"#C8D4E3\"},\"line\":{\"color\":\"white\"}},\"type\":\"table\"}]},\"layout\":{\"annotationdefaults\":{\"arrowcolor\":\"#2a3f5f\",\"arrowhead\":0,\"arrowwidth\":1},\"autotypenumbers\":\"strict\",\"coloraxis\":{\"colorbar\":{\"outlinewidth\":0,\"ticks\":\"\"}},\"colorscale\":{\"diverging\":[[0,\"#8e0152\"],[0.1,\"#c51b7d\"],[0.2,\"#de77ae\"],[0.3,\"#f1b6da\"],[0.4,\"#fde0ef\"],[0.5,\"#f7f7f7\"],[0.6,\"#e6f5d0\"],[0.7,\"#b8e186\"],[0.8,\"#7fbc41\"],[0.9,\"#4d9221\"],[1,\"#276419\"]],\"sequential\":[[0.0,\"#0d0887\"],[0.1111111111111111,\"#46039f\"],[0.2222222222222222,\"#7201a8\"],[0.3333333333333333,\"#9c179e\"],[0.4444444444444444,\"#bd3786\"],[0.5555555555555556,\"#d8576b\"],[0.6666666666666666,\"#ed7953\"],[0.7777777777777778,\"#fb9f3a\"],[0.8888888888888888,\"#fdca26\"],[1.0,\"#f0f921\"]],\"sequentialminus\":[[0.0,\"#0d0887\"],[0.1111111111111111,\"#46039f\"],[0.2222222222222222,\"#7201a8\"],[0.3333333333333333,\"#9c179e\"],[0.4444444444444444,\"#bd3786\"],[0.5555555555555556,\"#d8576b\"],[0.6666666666666666,\"#ed7953\"],[0.7777777777777778,\"#fb9f3a\"],[0.8888888888888888,\"#fdca26\"],[1.0,\"#f0f921\"]]},\"colorway\":[\"#636efa\",\"#EF553B\",\"#00cc96\",\"#ab63fa\",\"#FFA15A\",\"#19d3f3\",\"#FF6692\",\"#B6E880\",\"#FF97FF\",\"#FECB52\"],\"font\":{\"color\":\"#2a3f5f\"},\"geo\":{\"bgcolor\":\"white\",\"lakecolor\":\"white\",\"landcolor\":\"#E5ECF6\",\"showlakes\":true,\"showland\":true,\"subunitcolor\":\"white\"},\"hoverlabel\":{\"align\":\"left\"},\"hovermode\":\"closest\",\"mapbox\":{\"style\":\"light\"},\"paper_bgcolor\":\"white\",\"plot_bgcolor\":\"#E5ECF6\",\"polar\":{\"angularaxis\":{\"gridcolor\":\"white\",\"linecolor\":\"white\",\"ticks\":\"\"},\"bgcolor\":\"#E5ECF6\",\"radialaxis\":{\"gridcolor\":\"white\",\"linecolor\":\"white\",\"ticks\":\"\"}},\"scene\":{\"xaxis\":{\"backgroundcolor\":\"#E5ECF6\",\"gridcolor\":\"white\",\"gridwidth\":2,\"linecolor\":\"white\",\"showbackground\":true,\"ticks\":\"\",\"zerolinecolor\":\"white\"},\"yaxis\":{\"backgroundcolor\":\"#E5ECF6\",\"gridcolor\":\"white\",\"gridwidth\":2,\"linecolor\":\"white\",\"showbackground\":true,\"ticks\":\"\",\"zerolinecolor\":\"white\"},\"zaxis\":{\"backgroundcolor\":\"#E5ECF6\",\"gridcolor\":\"white\",\"gridwidth\":2,\"linecolor\":\"white\",\"showbackground\":true,\"ticks\":\"\",\"zerolinecolor\":\"white\"}},\"shapedefaults\":{\"line\":{\"color\":\"#2a3f5f\"}},\"ternary\":{\"aaxis\":{\"gridcolor\":\"white\",\"linecolor\":\"white\",\"ticks\":\"\"},\"baxis\":{\"gridcolor\":\"white\",\"linecolor\":\"white\",\"ticks\":\"\"},\"bgcolor\":\"#E5ECF6\",\"caxis\":{\"gridcolor\":\"white\",\"linecolor\":\"white\",\"ticks\":\"\"}},\"title\":{\"x\":0.05},\"xaxis\":{\"automargin\":true,\"gridcolor\":\"white\",\"linecolor\":\"white\",\"ticks\":\"\",\"title\":{\"standoff\":15},\"zerolinecolor\":\"white\",\"zerolinewidth\":2},\"yaxis\":{\"automargin\":true,\"gridcolor\":\"white\",\"linecolor\":\"white\",\"ticks\":\"\",\"title\":{\"standoff\":15},\"zerolinecolor\":\"white\",\"zerolinewidth\":2}}},\"xaxis\":{\"anchor\":\"y\",\"domain\":[0.0,0.45],\"visible\":false},\"yaxis\":{\"anchor\":\"x\",\"domain\":[0.515,1.0],\"title\":{\"text\":\"users/day\"}},\"xaxis2\":{\"anchor\":\"y2\",\"domain\":[0.55,1.0],\"visible\":false},\"yaxis2\":{\"anchor\":\"x2\",\"domain\":[0.515,1.0],\"title\":{\"text\":\"users/day\"}},\"xaxis3\":{\"anchor\":\"y3\",\"domain\":[0.0,0.45]},\"yaxis3\":{\"anchor\":\"x3\",\"domain\":[0.0,0.485],\"title\":{\"text\":\"#days\"}},\"xaxis4\":{\"anchor\":\"y4\",\"domain\":[0.55,1.0]},\"yaxis4\":{\"anchor\":\"x4\",\"domain\":[0.0,0.485],\"title\":{\"text\":\"#days\"}},\"annotations\":[{\"font\":{\"size\":16},\"showarrow\":false,\"text\":\"temp\",\"x\":0.225,\"xanchor\":\"center\",\"xref\":\"paper\",\"y\":1.0,\"yanchor\":\"bottom\",\"yref\":\"paper\"},{\"font\":{\"size\":16},\"showarrow\":false,\"text\":\"atemp\",\"x\":0.775,\"xanchor\":\"center\",\"xref\":\"paper\",\"y\":1.0,\"yanchor\":\"bottom\",\"yref\":\"paper\"}],\"height\":600,\"width\":1200,\"title\":{\"text\":\"Continuous vars vs user/day\",\"x\":0.5,\"xanchor\":\"center\",\"yanchor\":\"middle\"},\"showlegend\":false},                        {\"responsive\": true}                    ).then(function(){\n",
              "                            \n",
              "var gd = document.getElementById('9973d8c1-9796-4734-bd3e-fdfc12ceb9f0');\n",
              "var x = new MutationObserver(function (mutations, observer) {{\n",
              "        var display = window.getComputedStyle(gd).display;\n",
              "        if (!display || display === 'none') {{\n",
              "            console.log([gd, 'removed!']);\n",
              "            Plotly.purge(gd);\n",
              "            observer.disconnect();\n",
              "        }}\n",
              "}});\n",
              "\n",
              "// Listen for the removal of the full notebook cells\n",
              "var notebookContainer = gd.closest('#notebook-container');\n",
              "if (notebookContainer) {{\n",
              "    x.observe(notebookContainer, {childList: true});\n",
              "}}\n",
              "\n",
              "// Listen for the clearing of the current output cell\n",
              "var outputEl = gd.closest('.output');\n",
              "if (outputEl) {{\n",
              "    x.observe(outputEl, {childList: true});\n",
              "}}\n",
              "\n",
              "                        })                };                            </script>        </div>\n",
              "</body>\n",
              "</html>"
            ]
          },
          "metadata": {},
          "output_type": "display_data"
        }
      ],
      "metadata": {
        "execution": {
          "iopub.status.busy": "2021-11-10T01:41:35.312196Z",
          "iopub.execute_input": "2021-11-10T01:41:35.312527Z",
          "iopub.status.idle": "2021-11-10T01:41:35.441387Z",
          "shell.execute_reply.started": "2021-11-10T01:41:35.312488Z",
          "shell.execute_reply": "2021-11-10T01:41:35.4406Z"
        },
        "trusted": true,
        "colab": {
          "base_uri": "https://localhost:8080/",
          "height": 617
        },
        "cellView": "form",
        "id": "LXxpSsOnmX_Q",
        "outputId": "dfa56e9a-523d-45f2-c32d-0b954f999ae1"
      }
    },
    {
      "cell_type": "markdown",
      "source": [
        "De forma análoga, os usuários preferem a umidade entre 60% e 70%, e a velocidade do vento em torno de 13."
      ],
      "metadata": {
        "id": "1lvtcdQJhdD8"
      }
    },
    {
      "cell_type": "code",
      "execution_count": 18,
      "source": [
        "#@title\r\n",
        "fig = make_subplots(rows=2,cols=2, subplot_titles = [traces[i]['name'] for i in [4,6,5,7]],vertical_spacing=0.03)\r\n",
        "fig.append_trace(traces[4],1,1)\r\n",
        "fig.append_trace(traces[5],2,1)\r\n",
        "fig.append_trace(traces[6],1,2)\r\n",
        "fig.append_trace(traces[7],2,2)\r\n",
        "fig.update_layout(height=600, width=1200)\r\n",
        "fig.update_layout(\r\n",
        "    title={\r\n",
        "        'text': \"Continuous vars vs user/day\",\r\n",
        "        'x':0.5,\r\n",
        "        'xanchor': 'center',\r\n",
        "        'yanchor': 'middle'},\r\n",
        "    showlegend=False\r\n",
        "        )\r\n",
        "yaxes = [\"users/day\",\"users/day\",\"#days\",\"#days\"]\r\n",
        "for i in range(4):\r\n",
        "  if yaxes[i] == \"users/day\":\r\n",
        "    fig['layout']['xaxis'+str(i+1)]['visible'] = False\r\n",
        "  fig['layout']['yaxis'+str(i+1)]['title'] = yaxes[i]\r\n",
        "\r\n",
        "fig.update_traces(texttemplate='%{text:.2s}')\r\n",
        "fig.show()\r\n"
      ],
      "outputs": [
        {
          "data": {
            "text/html": [
              "<html>\n",
              "<head><meta charset=\"utf-8\" /></head>\n",
              "<body>\n",
              "    <div>            <script src=\"https://cdnjs.cloudflare.com/ajax/libs/mathjax/2.7.5/MathJax.js?config=TeX-AMS-MML_SVG\"></script><script type=\"text/javascript\">if (window.MathJax) {MathJax.Hub.Config({SVG: {font: \"STIX-Web\"}});}</script>                <script type=\"text/javascript\">window.PlotlyConfig = {MathJaxConfig: 'local'};</script>\n",
              "        <script src=\"https://cdn.plot.ly/plotly-2.6.3.min.js\"></script>                <div id=\"9c00576a-881a-47db-ac6b-925c73573460\" class=\"plotly-graph-div\" style=\"height:600px; width:1200px;\"></div>            <script type=\"text/javascript\">                                    window.PLOTLYENV=window.PLOTLYENV || {};                                    if (document.getElementById(\"9c00576a-881a-47db-ac6b-925c73573460\")) {                    Plotly.newPlot(                        \"9c00576a-881a-47db-ac6b-925c73573460\",                        [{\"name\":\"hum\",\"text\":[0.0,0.0,0.0,1635.0,0.0,5709.33,3383.0,4737.18,3779.34,4552.68,4700.42,4951.38,5115.52,4891.39,4673.51,4135.2,3898.87,3050.15,2870.38,1569.0],\"x\":[\"5.00\",\"10.00\",\"15.00\",\"20.00\",\"25.00\",\"30.00\",\"35.00\",\"40.00\",\"45.00\",\"50.00\",\"55.00\",\"60.00\",\"65.00\",\"70.00\",\"75.00\",\"80.00\",\"85.00\",\"90.00\",\"95.00\",\"100.00\"],\"y\":[0.0,0.0,0.0,1635.0,0.0,5709.33,3383.0,4737.18,3779.34,4552.68,4700.42,4951.38,5115.52,4891.39,4673.51,4135.2,3898.87,3050.15,2870.38,1569.0],\"type\":\"bar\",\"xaxis\":\"x\",\"yaxis\":\"y\",\"texttemplate\":\"%{text:.2s}\"},{\"text\":[0.0,0.0,0.0,1.0,0.0,3.0,8.0,17.0,44.0,73.0,86.0,89.0,84.0,94.0,83.0,56.0,47.0,26.0,16.0,3.0],\"x\":[\"5.00\",\"10.00\",\"15.00\",\"20.00\",\"25.00\",\"30.00\",\"35.00\",\"40.00\",\"45.00\",\"50.00\",\"55.00\",\"60.00\",\"65.00\",\"70.00\",\"75.00\",\"80.00\",\"85.00\",\"90.00\",\"95.00\",\"100.00\"],\"y\":[0,0,0,1,0,3,8,17,44,73,86,89,84,94,83,56,47,26,16,3],\"type\":\"bar\",\"xaxis\":\"x3\",\"yaxis\":\"y3\",\"texttemplate\":\"%{text:.2s}\"},{\"name\":\"windspeed\",\"text\":[4229.67,4895.04,4970.45,4697.5,4234.51,4250.44,3750.84,2559.0,3180.62,0.0,1635.0,0.0,0.0,0.0,0.0,0.0,0.0,0.0,0.0,0.0],\"x\":[\"3.35\",\"6.70\",\"10.05\",\"13.40\",\"16.75\",\"20.10\",\"23.45\",\"26.80\",\"30.15\",\"33.50\",\"36.85\",\"40.20\",\"43.55\",\"46.90\",\"50.25\",\"53.60\",\"56.95\",\"60.30\",\"63.65\",\"67.00\"],\"y\":[4229.67,4895.04,4970.45,4697.5,4234.51,4250.44,3750.84,2559.0,3180.62,0.0,1635.0,0.0,0.0,0.0,0.0,0.0,0.0,0.0,0.0,0.0],\"type\":\"bar\",\"xaxis\":\"x2\",\"yaxis\":\"y2\",\"texttemplate\":\"%{text:.2s}\"},{\"text\":[6.0,67.0,174.0,189.0,153.0,71.0,43.0,19.0,8.0,0.0,1.0,0.0,0.0,0.0,0.0,0.0,0.0,0.0,0.0,0.0],\"x\":[\"3.35\",\"6.70\",\"10.05\",\"13.40\",\"16.75\",\"20.10\",\"23.45\",\"26.80\",\"30.15\",\"33.50\",\"36.85\",\"40.20\",\"43.55\",\"46.90\",\"50.25\",\"53.60\",\"56.95\",\"60.30\",\"63.65\",\"67.00\"],\"y\":[6,67,174,189,153,71,43,19,8,0,1,0,0,0,0,0,0,0,0,0],\"type\":\"bar\",\"xaxis\":\"x4\",\"yaxis\":\"y4\",\"texttemplate\":\"%{text:.2s}\"}],                        {\"template\":{\"data\":{\"bar\":[{\"error_x\":{\"color\":\"#2a3f5f\"},\"error_y\":{\"color\":\"#2a3f5f\"},\"marker\":{\"line\":{\"color\":\"#E5ECF6\",\"width\":0.5},\"pattern\":{\"fillmode\":\"overlay\",\"size\":10,\"solidity\":0.2}},\"type\":\"bar\"}],\"barpolar\":[{\"marker\":{\"line\":{\"color\":\"#E5ECF6\",\"width\":0.5},\"pattern\":{\"fillmode\":\"overlay\",\"size\":10,\"solidity\":0.2}},\"type\":\"barpolar\"}],\"carpet\":[{\"aaxis\":{\"endlinecolor\":\"#2a3f5f\",\"gridcolor\":\"white\",\"linecolor\":\"white\",\"minorgridcolor\":\"white\",\"startlinecolor\":\"#2a3f5f\"},\"baxis\":{\"endlinecolor\":\"#2a3f5f\",\"gridcolor\":\"white\",\"linecolor\":\"white\",\"minorgridcolor\":\"white\",\"startlinecolor\":\"#2a3f5f\"},\"type\":\"carpet\"}],\"choropleth\":[{\"colorbar\":{\"outlinewidth\":0,\"ticks\":\"\"},\"type\":\"choropleth\"}],\"contour\":[{\"colorbar\":{\"outlinewidth\":0,\"ticks\":\"\"},\"colorscale\":[[0.0,\"#0d0887\"],[0.1111111111111111,\"#46039f\"],[0.2222222222222222,\"#7201a8\"],[0.3333333333333333,\"#9c179e\"],[0.4444444444444444,\"#bd3786\"],[0.5555555555555556,\"#d8576b\"],[0.6666666666666666,\"#ed7953\"],[0.7777777777777778,\"#fb9f3a\"],[0.8888888888888888,\"#fdca26\"],[1.0,\"#f0f921\"]],\"type\":\"contour\"}],\"contourcarpet\":[{\"colorbar\":{\"outlinewidth\":0,\"ticks\":\"\"},\"type\":\"contourcarpet\"}],\"heatmap\":[{\"colorbar\":{\"outlinewidth\":0,\"ticks\":\"\"},\"colorscale\":[[0.0,\"#0d0887\"],[0.1111111111111111,\"#46039f\"],[0.2222222222222222,\"#7201a8\"],[0.3333333333333333,\"#9c179e\"],[0.4444444444444444,\"#bd3786\"],[0.5555555555555556,\"#d8576b\"],[0.6666666666666666,\"#ed7953\"],[0.7777777777777778,\"#fb9f3a\"],[0.8888888888888888,\"#fdca26\"],[1.0,\"#f0f921\"]],\"type\":\"heatmap\"}],\"heatmapgl\":[{\"colorbar\":{\"outlinewidth\":0,\"ticks\":\"\"},\"colorscale\":[[0.0,\"#0d0887\"],[0.1111111111111111,\"#46039f\"],[0.2222222222222222,\"#7201a8\"],[0.3333333333333333,\"#9c179e\"],[0.4444444444444444,\"#bd3786\"],[0.5555555555555556,\"#d8576b\"],[0.6666666666666666,\"#ed7953\"],[0.7777777777777778,\"#fb9f3a\"],[0.8888888888888888,\"#fdca26\"],[1.0,\"#f0f921\"]],\"type\":\"heatmapgl\"}],\"histogram\":[{\"marker\":{\"pattern\":{\"fillmode\":\"overlay\",\"size\":10,\"solidity\":0.2}},\"type\":\"histogram\"}],\"histogram2d\":[{\"colorbar\":{\"outlinewidth\":0,\"ticks\":\"\"},\"colorscale\":[[0.0,\"#0d0887\"],[0.1111111111111111,\"#46039f\"],[0.2222222222222222,\"#7201a8\"],[0.3333333333333333,\"#9c179e\"],[0.4444444444444444,\"#bd3786\"],[0.5555555555555556,\"#d8576b\"],[0.6666666666666666,\"#ed7953\"],[0.7777777777777778,\"#fb9f3a\"],[0.8888888888888888,\"#fdca26\"],[1.0,\"#f0f921\"]],\"type\":\"histogram2d\"}],\"histogram2dcontour\":[{\"colorbar\":{\"outlinewidth\":0,\"ticks\":\"\"},\"colorscale\":[[0.0,\"#0d0887\"],[0.1111111111111111,\"#46039f\"],[0.2222222222222222,\"#7201a8\"],[0.3333333333333333,\"#9c179e\"],[0.4444444444444444,\"#bd3786\"],[0.5555555555555556,\"#d8576b\"],[0.6666666666666666,\"#ed7953\"],[0.7777777777777778,\"#fb9f3a\"],[0.8888888888888888,\"#fdca26\"],[1.0,\"#f0f921\"]],\"type\":\"histogram2dcontour\"}],\"mesh3d\":[{\"colorbar\":{\"outlinewidth\":0,\"ticks\":\"\"},\"type\":\"mesh3d\"}],\"parcoords\":[{\"line\":{\"colorbar\":{\"outlinewidth\":0,\"ticks\":\"\"}},\"type\":\"parcoords\"}],\"pie\":[{\"automargin\":true,\"type\":\"pie\"}],\"scatter\":[{\"marker\":{\"colorbar\":{\"outlinewidth\":0,\"ticks\":\"\"}},\"type\":\"scatter\"}],\"scatter3d\":[{\"line\":{\"colorbar\":{\"outlinewidth\":0,\"ticks\":\"\"}},\"marker\":{\"colorbar\":{\"outlinewidth\":0,\"ticks\":\"\"}},\"type\":\"scatter3d\"}],\"scattercarpet\":[{\"marker\":{\"colorbar\":{\"outlinewidth\":0,\"ticks\":\"\"}},\"type\":\"scattercarpet\"}],\"scattergeo\":[{\"marker\":{\"colorbar\":{\"outlinewidth\":0,\"ticks\":\"\"}},\"type\":\"scattergeo\"}],\"scattergl\":[{\"marker\":{\"colorbar\":{\"outlinewidth\":0,\"ticks\":\"\"}},\"type\":\"scattergl\"}],\"scattermapbox\":[{\"marker\":{\"colorbar\":{\"outlinewidth\":0,\"ticks\":\"\"}},\"type\":\"scattermapbox\"}],\"scatterpolar\":[{\"marker\":{\"colorbar\":{\"outlinewidth\":0,\"ticks\":\"\"}},\"type\":\"scatterpolar\"}],\"scatterpolargl\":[{\"marker\":{\"colorbar\":{\"outlinewidth\":0,\"ticks\":\"\"}},\"type\":\"scatterpolargl\"}],\"scatterternary\":[{\"marker\":{\"colorbar\":{\"outlinewidth\":0,\"ticks\":\"\"}},\"type\":\"scatterternary\"}],\"surface\":[{\"colorbar\":{\"outlinewidth\":0,\"ticks\":\"\"},\"colorscale\":[[0.0,\"#0d0887\"],[0.1111111111111111,\"#46039f\"],[0.2222222222222222,\"#7201a8\"],[0.3333333333333333,\"#9c179e\"],[0.4444444444444444,\"#bd3786\"],[0.5555555555555556,\"#d8576b\"],[0.6666666666666666,\"#ed7953\"],[0.7777777777777778,\"#fb9f3a\"],[0.8888888888888888,\"#fdca26\"],[1.0,\"#f0f921\"]],\"type\":\"surface\"}],\"table\":[{\"cells\":{\"fill\":{\"color\":\"#EBF0F8\"},\"line\":{\"color\":\"white\"}},\"header\":{\"fill\":{\"color\":\"#C8D4E3\"},\"line\":{\"color\":\"white\"}},\"type\":\"table\"}]},\"layout\":{\"annotationdefaults\":{\"arrowcolor\":\"#2a3f5f\",\"arrowhead\":0,\"arrowwidth\":1},\"autotypenumbers\":\"strict\",\"coloraxis\":{\"colorbar\":{\"outlinewidth\":0,\"ticks\":\"\"}},\"colorscale\":{\"diverging\":[[0,\"#8e0152\"],[0.1,\"#c51b7d\"],[0.2,\"#de77ae\"],[0.3,\"#f1b6da\"],[0.4,\"#fde0ef\"],[0.5,\"#f7f7f7\"],[0.6,\"#e6f5d0\"],[0.7,\"#b8e186\"],[0.8,\"#7fbc41\"],[0.9,\"#4d9221\"],[1,\"#276419\"]],\"sequential\":[[0.0,\"#0d0887\"],[0.1111111111111111,\"#46039f\"],[0.2222222222222222,\"#7201a8\"],[0.3333333333333333,\"#9c179e\"],[0.4444444444444444,\"#bd3786\"],[0.5555555555555556,\"#d8576b\"],[0.6666666666666666,\"#ed7953\"],[0.7777777777777778,\"#fb9f3a\"],[0.8888888888888888,\"#fdca26\"],[1.0,\"#f0f921\"]],\"sequentialminus\":[[0.0,\"#0d0887\"],[0.1111111111111111,\"#46039f\"],[0.2222222222222222,\"#7201a8\"],[0.3333333333333333,\"#9c179e\"],[0.4444444444444444,\"#bd3786\"],[0.5555555555555556,\"#d8576b\"],[0.6666666666666666,\"#ed7953\"],[0.7777777777777778,\"#fb9f3a\"],[0.8888888888888888,\"#fdca26\"],[1.0,\"#f0f921\"]]},\"colorway\":[\"#636efa\",\"#EF553B\",\"#00cc96\",\"#ab63fa\",\"#FFA15A\",\"#19d3f3\",\"#FF6692\",\"#B6E880\",\"#FF97FF\",\"#FECB52\"],\"font\":{\"color\":\"#2a3f5f\"},\"geo\":{\"bgcolor\":\"white\",\"lakecolor\":\"white\",\"landcolor\":\"#E5ECF6\",\"showlakes\":true,\"showland\":true,\"subunitcolor\":\"white\"},\"hoverlabel\":{\"align\":\"left\"},\"hovermode\":\"closest\",\"mapbox\":{\"style\":\"light\"},\"paper_bgcolor\":\"white\",\"plot_bgcolor\":\"#E5ECF6\",\"polar\":{\"angularaxis\":{\"gridcolor\":\"white\",\"linecolor\":\"white\",\"ticks\":\"\"},\"bgcolor\":\"#E5ECF6\",\"radialaxis\":{\"gridcolor\":\"white\",\"linecolor\":\"white\",\"ticks\":\"\"}},\"scene\":{\"xaxis\":{\"backgroundcolor\":\"#E5ECF6\",\"gridcolor\":\"white\",\"gridwidth\":2,\"linecolor\":\"white\",\"showbackground\":true,\"ticks\":\"\",\"zerolinecolor\":\"white\"},\"yaxis\":{\"backgroundcolor\":\"#E5ECF6\",\"gridcolor\":\"white\",\"gridwidth\":2,\"linecolor\":\"white\",\"showbackground\":true,\"ticks\":\"\",\"zerolinecolor\":\"white\"},\"zaxis\":{\"backgroundcolor\":\"#E5ECF6\",\"gridcolor\":\"white\",\"gridwidth\":2,\"linecolor\":\"white\",\"showbackground\":true,\"ticks\":\"\",\"zerolinecolor\":\"white\"}},\"shapedefaults\":{\"line\":{\"color\":\"#2a3f5f\"}},\"ternary\":{\"aaxis\":{\"gridcolor\":\"white\",\"linecolor\":\"white\",\"ticks\":\"\"},\"baxis\":{\"gridcolor\":\"white\",\"linecolor\":\"white\",\"ticks\":\"\"},\"bgcolor\":\"#E5ECF6\",\"caxis\":{\"gridcolor\":\"white\",\"linecolor\":\"white\",\"ticks\":\"\"}},\"title\":{\"x\":0.05},\"xaxis\":{\"automargin\":true,\"gridcolor\":\"white\",\"linecolor\":\"white\",\"ticks\":\"\",\"title\":{\"standoff\":15},\"zerolinecolor\":\"white\",\"zerolinewidth\":2},\"yaxis\":{\"automargin\":true,\"gridcolor\":\"white\",\"linecolor\":\"white\",\"ticks\":\"\",\"title\":{\"standoff\":15},\"zerolinecolor\":\"white\",\"zerolinewidth\":2}}},\"xaxis\":{\"anchor\":\"y\",\"domain\":[0.0,0.45],\"visible\":false},\"yaxis\":{\"anchor\":\"x\",\"domain\":[0.515,1.0],\"title\":{\"text\":\"users/day\"}},\"xaxis2\":{\"anchor\":\"y2\",\"domain\":[0.55,1.0],\"visible\":false},\"yaxis2\":{\"anchor\":\"x2\",\"domain\":[0.515,1.0],\"title\":{\"text\":\"users/day\"}},\"xaxis3\":{\"anchor\":\"y3\",\"domain\":[0.0,0.45]},\"yaxis3\":{\"anchor\":\"x3\",\"domain\":[0.0,0.485],\"title\":{\"text\":\"#days\"}},\"xaxis4\":{\"anchor\":\"y4\",\"domain\":[0.55,1.0]},\"yaxis4\":{\"anchor\":\"x4\",\"domain\":[0.0,0.485],\"title\":{\"text\":\"#days\"}},\"annotations\":[{\"font\":{\"size\":16},\"showarrow\":false,\"text\":\"hum\",\"x\":0.225,\"xanchor\":\"center\",\"xref\":\"paper\",\"y\":1.0,\"yanchor\":\"bottom\",\"yref\":\"paper\"},{\"font\":{\"size\":16},\"showarrow\":false,\"text\":\"windspeed\",\"x\":0.775,\"xanchor\":\"center\",\"xref\":\"paper\",\"y\":1.0,\"yanchor\":\"bottom\",\"yref\":\"paper\"}],\"height\":600,\"width\":1200,\"title\":{\"text\":\"Continuous vars vs user/day\",\"x\":0.5,\"xanchor\":\"center\",\"yanchor\":\"middle\"},\"showlegend\":false},                        {\"responsive\": true}                    ).then(function(){\n",
              "                            \n",
              "var gd = document.getElementById('9c00576a-881a-47db-ac6b-925c73573460');\n",
              "var x = new MutationObserver(function (mutations, observer) {{\n",
              "        var display = window.getComputedStyle(gd).display;\n",
              "        if (!display || display === 'none') {{\n",
              "            console.log([gd, 'removed!']);\n",
              "            Plotly.purge(gd);\n",
              "            observer.disconnect();\n",
              "        }}\n",
              "}});\n",
              "\n",
              "// Listen for the removal of the full notebook cells\n",
              "var notebookContainer = gd.closest('#notebook-container');\n",
              "if (notebookContainer) {{\n",
              "    x.observe(notebookContainer, {childList: true});\n",
              "}}\n",
              "\n",
              "// Listen for the clearing of the current output cell\n",
              "var outputEl = gd.closest('.output');\n",
              "if (outputEl) {{\n",
              "    x.observe(outputEl, {childList: true});\n",
              "}}\n",
              "\n",
              "                        })                };                            </script>        </div>\n",
              "</body>\n",
              "</html>"
            ]
          },
          "metadata": {},
          "output_type": "display_data"
        }
      ],
      "metadata": {
        "colab": {
          "base_uri": "https://localhost:8080/",
          "height": 617
        },
        "cellView": "form",
        "id": "B3vPmKEJdsg8",
        "outputId": "e3919c89-cfe6-4b06-b326-dc0ff2d07ed5"
      }
    },
    {
      "cell_type": "markdown",
      "source": [
        "##1.6a Variáveis contínuas (apenas usuários casuais)\n",
        "No dataset, temos algumas variáveis contínuas, normalizadas:\n",
        "\n",
        "\n",
        "*   <b>temp</b>: temperatura registrada (normalizada com máximo de 41°C)\n",
        "*   <b>atemp</b>: sensação térmica registrada (normalizada com máximo de 50°C)\n",
        "*   <b>hum</b>: nível de umidade registrada (normalizada com máximo de 100%)\n",
        "*   <b>windspeed</b>: velocidade do vento registrada (normalizada com máximo de 67)\n",
        "\n",
        "Quando olhamos os dados filtrados apenas para usuários casuais, os gráficos de dispersão ficam mais complexos de se interpretar. Focaremos por enquanto nos gráficos de bins.\n",
        "\n",
        "\n",
        "\n",
        "\n",
        "\n",
        "\n",
        "\n",
        "\n",
        "\n"
      ],
      "metadata": {
        "id": "Vb94rXYRjJS9"
      }
    },
    {
      "cell_type": "code",
      "execution_count": 19,
      "source": [
        "#@title\r\n",
        "columns = ['temp','atemp','hum','windspeed']\r\n",
        "new_df_columns = []\r\n",
        "\r\n",
        "df[columns + ['casual']].apply(lambda row: new_df_columns.extend([{'var':column,'value':row[column],'casual':row['casual']} for column in columns]), axis =1)\r\n",
        "\r\n",
        "new_df = pd.DataFrame(new_df_columns)\r\n",
        "\r\n",
        "fig = px.scatter(new_df, x='value', y='casual', facet_col ='var', facet_col_wrap = 2, color='var', width= 1200)\r\n",
        "fig.update_layout(\r\n",
        "    title={\r\n",
        "        'text': \"climate variables vs user count (casual)\",\r\n",
        "        'x':0.5,\r\n",
        "        'xanchor': 'center',\r\n",
        "        'yanchor': 'middle'})\r\n",
        "fig.show()"
      ],
      "outputs": [
        {
          "data": {
            "text/html": [
              "<html>\n",
              "<head><meta charset=\"utf-8\" /></head>\n",
              "<body>\n",
              "    <div>            <script src=\"https://cdnjs.cloudflare.com/ajax/libs/mathjax/2.7.5/MathJax.js?config=TeX-AMS-MML_SVG\"></script><script type=\"text/javascript\">if (window.MathJax) {MathJax.Hub.Config({SVG: {font: \"STIX-Web\"}});}</script>                <script type=\"text/javascript\">window.PlotlyConfig = {MathJaxConfig: 'local'};</script>\n",
              "        <script src=\"https://cdn.plot.ly/plotly-2.6.3.min.js\"></script>                <div id=\"07f2e7bd-6bd7-4120-8086-8e167869aee6\" class=\"plotly-graph-div\" style=\"height:525px; width:1200px;\"></div>            <script type=\"text/javascript\">                                    window.PLOTLYENV=window.PLOTLYENV || {};                                    if (document.getElementById(\"07f2e7bd-6bd7-4120-8086-8e167869aee6\")) {                    Plotly.newPlot(                        \"07f2e7bd-6bd7-4120-8086-8e167869aee6\",                        [{\"hovertemplate\":\"var=temp<br>value=%{x}<br>casual=%{y}<extra></extra>\",\"legendgroup\":\"temp\",\"marker\":{\"color\":\"#636efa\",\"symbol\":\"circle\"},\"mode\":\"markers\",\"name\":\"temp\",\"showlegend\":true,\"x\":[0.344167,0.363478,0.196364,0.2,0.22695700000000002,0.204348,0.196522,0.165,0.13833299999999998,0.150833,0.16909100000000002,0.172727,0.165,0.16087,0.23333299999999998,0.231667,0.175833,0.216667,0.292174,0.261667,0.1775,0.0591304,0.0965217,0.0973913,0.223478,0.2175,0.195,0.203478,0.196522,0.216522,0.180833,0.192174,0.26,0.18695699999999998,0.211304,0.23333299999999998,0.285833,0.271667,0.220833,0.134783,0.144348,0.189091,0.2225,0.31652199999999997,0.415,0.26608699999999996,0.318261,0.43583299999999997,0.521667,0.399167,0.285217,0.303333,0.182222,0.221739,0.295652,0.364348,0.2825,0.343478,0.407273,0.266667,0.335,0.19833299999999998,0.261667,0.384167,0.37652199999999997,0.261739,0.2925,0.295833,0.38909099999999996,0.31652199999999997,0.329167,0.384348,0.32521700000000003,0.317391,0.365217,0.415,0.54,0.4725,0.3325,0.430435,0.44166700000000003,0.346957,0.285,0.264167,0.265833,0.25304299999999996,0.264348,0.3025,0.3,0.268333,0.3,0.315,0.378333,0.573333,0.414167,0.390833,0.4375,0.335833,0.3425,0.426667,0.5956520000000001,0.5025,0.4125,0.4675,0.446667,0.43083299999999997,0.456667,0.5125,0.505833,0.595,0.459167,0.336667,0.46,0.581667,0.606667,0.631667,0.62,0.6175,0.51,0.4725,0.451667,0.549167,0.616667,0.414167,0.459167,0.479167,0.52,0.5283329999999999,0.5325,0.5325,0.5425,0.535,0.5125,0.520833,0.5625,0.5775,0.561667,0.55,0.530833,0.536667,0.6025,0.604167,0.631667,0.66,0.660833,0.708333,0.681667,0.655833,0.6675,0.733333,0.775,0.764167,0.715,0.62,0.635,0.648333,0.678333,0.7075,0.775833,0.808333,0.755,0.725,0.6925,0.635,0.604167,0.626667,0.628333,0.649167,0.696667,0.699167,0.635,0.680833,0.733333,0.728333,0.724167,0.695,0.68,0.6825,0.744167,0.728333,0.696667,0.7225,0.738333,0.716667,0.726667,0.746667,0.72,0.75,0.709167,0.733333,0.7475,0.7625,0.794167,0.746667,0.680833,0.663333,0.686667,0.719167,0.746667,0.776667,0.768333,0.815,0.848333,0.849167,0.83,0.743333,0.771667,0.775,0.779167,0.838333,0.804167,0.805833,0.771667,0.783333,0.731667,0.71,0.710833,0.716667,0.7425,0.765,0.775,0.766667,0.7175,0.708333,0.685833,0.676667,0.665833,0.700833,0.723333,0.711667,0.685,0.6975,0.710833,0.691667,0.640833,0.673333,0.684167,0.7,0.68,0.707059,0.636667,0.639167,0.656667,0.655,0.643333,0.669167,0.709167,0.673333,0.54,0.599167,0.6339130000000001,0.65,0.66,0.6533329999999999,0.6443479999999999,0.650833,0.673333,0.5775,0.469167,0.491667,0.5075,0.549167,0.561667,0.595,0.628333,0.609167,0.606667,0.634167,0.649167,0.636667,0.635,0.616667,0.564167,0.41,0.356667,0.384167,0.484167,0.538333,0.494167,0.510833,0.521667,0.540833,0.570833,0.566667,0.543333,0.589167,0.550833,0.506667,0.511667,0.5341670000000001,0.5325,0.5417390000000001,0.475833,0.4275,0.4225,0.421667,0.463333,0.471667,0.484167,0.47,0.330833,0.25416700000000003,0.31916700000000003,0.34,0.400833,0.3775,0.408333,0.403333,0.326667,0.348333,0.395,0.408333,0.4,0.38,0.324167,0.356667,0.440833,0.53,0.53,0.456667,0.341667,0.274167,0.329167,0.463333,0.4475,0.416667,0.440833,0.37333299999999997,0.375,0.375833,0.459167,0.503478,0.458333,0.325,0.3125,0.31416700000000003,0.299167,0.330833,0.385833,0.4625,0.41,0.265833,0.290833,0.275,0.220833,0.238333,0.2825,0.3175,0.4225,0.375,0.258333,0.238333,0.276667,0.385833,0.428333,0.423333,0.37333299999999997,0.3025,0.274783,0.321739,0.325,0.29913,0.248333,0.311667,0.41,0.37,0.273043,0.15,0.1075,0.265833,0.334167,0.393333,0.3375,0.224167,0.308696,0.274167,0.3825,0.274167,0.18,0.166667,0.19,0.37304299999999996,0.303333,0.19,0.2175,0.173333,0.1625,0.218333,0.3425,0.294167,0.341667,0.425,0.315833,0.2825,0.269167,0.39,0.469167,0.399167,0.313333,0.264167,0.265833,0.282609,0.354167,0.25666700000000003,0.265,0.280833,0.224167,0.1275,0.2225,0.31916700000000003,0.348333,0.31666700000000003,0.343333,0.346667,0.28,0.28,0.287826,0.395833,0.454167,0.4075,0.290833,0.279167,0.366667,0.359167,0.344348,0.485833,0.353333,0.414167,0.325833,0.243333,0.258333,0.404167,0.5275,0.410833,0.2875,0.361739,0.466667,0.565,0.5725,0.5575,0.43583299999999997,0.514167,0.4725,0.545,0.560833,0.531667,0.554167,0.601667,0.5025,0.4375,0.445833,0.323333,0.484167,0.494167,0.37,0.424167,0.425833,0.433913,0.466667,0.541667,0.435,0.403333,0.4375,0.5,0.489167,0.446667,0.348696,0.3975,0.4425,0.495,0.606667,0.664167,0.608333,0.463333,0.49833299999999997,0.526667,0.57,0.396667,0.321667,0.413333,0.476667,0.49833299999999997,0.4575,0.37666700000000003,0.458333,0.464167,0.613333,0.564167,0.56,0.6275,0.621667,0.5625,0.5375,0.581667,0.575,0.505833,0.533333,0.564167,0.6125,0.573333,0.611667,0.636667,0.593333,0.564167,0.6,0.620833,0.598333,0.615,0.621667,0.655,0.68,0.6925,0.69,0.7125,0.7225,0.656667,0.68,0.654167,0.583333,0.6025,0.5975,0.540833,0.554167,0.6025,0.649167,0.710833,0.726667,0.720833,0.6533329999999999,0.655833,0.648333,0.639167,0.631667,0.5925,0.568333,0.688333,0.7825,0.805833,0.7775,0.731667,0.743333,0.7158329999999999,0.630833,0.6975,0.749167,0.834167,0.765,0.815833,0.781667,0.780833,0.789167,0.8275,0.828333,0.861667,0.8225,0.710833,0.720833,0.716667,0.7158329999999999,0.731667,0.703333,0.745833,0.763333,0.818333,0.793333,0.77,0.665833,0.595833,0.6675,0.741667,0.750833,0.724167,0.776667,0.781667,0.755833,0.7216670000000001,0.730833,0.713333,0.7175,0.7525,0.765833,0.793333,0.769167,0.7525,0.735833,0.75,0.755833,0.7158329999999999,0.6925,0.700833,0.720833,0.726667,0.706667,0.719167,0.723333,0.678333,0.635833,0.635833,0.649167,0.6675,0.695833,0.7025,0.661667,0.6533329999999999,0.703333,0.728333,0.685,0.706667,0.764167,0.753333,0.696667,0.7075,0.725833,0.736667,0.696667,0.703333,0.6591670000000001,0.61,0.583333,0.5775,0.599167,0.6125,0.633333,0.608333,0.58,0.580833,0.623333,0.5525,0.546667,0.599167,0.65,0.529167,0.514167,0.55,0.635,0.65,0.619167,0.5425,0.526667,0.520833,0.5908329999999999,0.6575,0.6575,0.615,0.554167,0.415833,0.383333,0.446667,0.514167,0.435,0.4375,0.393333,0.521667,0.561667,0.468333,0.455833,0.5225,0.563333,0.484167,0.464167,0.4875,0.544167,0.5875,0.55,0.545833,0.53,0.4775,0.44,0.318182,0.3575,0.365833,0.355,0.343333,0.325833,0.31916700000000003,0.280833,0.295833,0.352174,0.361667,0.389167,0.420833,0.485,0.343333,0.289167,0.321667,0.345,0.325,0.3425,0.380833,0.374167,0.353333,0.34,0.36833299999999997,0.278333,0.245833,0.313333,0.291667,0.296667,0.28087,0.298333,0.298333,0.3475,0.4525,0.475833,0.438333,0.255833,0.320833,0.38166700000000003,0.384167,0.43583299999999997,0.353333,0.2975,0.295833,0.281667,0.324167,0.3625,0.393333,0.410833,0.3325,0.33,0.326667,0.265833,0.245833,0.231304,0.291304,0.243333,0.25416700000000003,0.253333,0.253333,0.255833,0.215833],\"xaxis\":\"x3\",\"y\":[331.0,131.0,120.0,108.0,82.0,88.0,148.0,68.0,54.0,41.0,43.0,25.0,38.0,54.0,222.0,251.0,117.0,9.0,78.0,83.0,75.0,93.0,150.0,86.0,186.0,34.0,15.0,38.0,123.0,140.0,42.0,47.0,72.0,61.0,88.0,100.0,354.0,120.0,64.0,53.0,47.0,149.0,288.0,397.0,208.0,140.0,218.0,259.0,579.0,532.0,639.0,195.0,74.0,139.0,100.0,120.0,424.0,694.0,81.0,137.0,231.0,123.0,214.0,640.0,114.0,244.0,316.0,191.0,46.0,247.0,724.0,982.0,359.0,289.0,321.0,424.0,884.0,1424.0,1047.0,401.0,460.0,203.0,166.0,300.0,981.0,472.0,222.0,317.0,168.0,179.0,307.0,898.0,1651.0,734.0,167.0,413.0,571.0,172.0,879.0,1188.0,855.0,257.0,209.0,529.0,642.0,121.0,1558.0,669.0,409.0,613.0,745.0,177.0,1462.0,1710.0,773.0,678.0,547.0,569.0,878.0,1965.0,1138.0,847.0,603.0,255.0,614.0,894.0,1612.0,1401.0,664.0,694.0,550.0,695.0,692.0,902.0,1582.0,773.0,678.0,536.0,735.0,909.0,2258.0,1576.0,836.0,659.0,740.0,758.0,871.0,2001.0,2355.0,1549.0,673.0,513.0,736.0,898.0,1869.0,1685.0,673.0,763.0,676.0,563.0,815.0,1729.0,1467.0,863.0,727.0,769.0,545.0,863.0,1807.0,1639.0,699.0,774.0,661.0,746.0,969.0,1782.0,1920.0,854.0,732.0,848.0,1027.0,1246.0,2204.0,2282.0,3065.0,1031.0,784.0,754.0,692.0,1988.0,1743.0,723.0,662.0,748.0,888.0,1318.0,2418.0,2006.0,841.0,752.0,644.0,632.0,562.0,987.0,1050.0,568.0,750.0,755.0,606.0,670.0,1559.0,1524.0,729.0,801.0,467.0,799.0,1023.0,1521.0,1298.0,846.0,907.0,884.0,812.0,1051.0,1504.0,1338.0,775.0,721.0,668.0,639.0,797.0,1914.0,1249.0,833.0,1281.0,949.0,435.0,768.0,226.0,1415.0,729.0,775.0,688.0,783.0,875.0,1935.0,2521.0,1236.0,204.0,118.0,153.0,417.0,1750.0,1633.0,690.0,701.0,647.0,428.0,742.0,1434.0,1353.0,691.0,438.0,539.0,555.0,258.0,1776.0,1544.0,684.0,477.0,480.0,653.0,830.0,480.0,616.0,330.0,486.0,559.0,639.0,949.0,2235.0,2397.0,1514.0,667.0,217.0,290.0,529.0,1899.0,1748.0,713.0,637.0,254.0,471.0,676.0,1499.0,1619.0,699.0,695.0,404.0,240.0,456.0,57.0,885.0,362.0,410.0,370.0,318.0,470.0,1156.0,952.0,373.0,376.0,305.0,190.0,440.0,1275.0,1004.0,595.0,449.0,145.0,139.0,245.0,943.0,787.0,220.0,69.0,112.0,560.0,1095.0,1249.0,810.0,253.0,96.0,188.0,182.0,268.0,706.0,634.0,233.0,126.0,50.0,150.0,261.0,502.0,377.0,143.0,155.0,178.0,181.0,178.0,275.0,220.0,260.0,216.0,107.0,227.0,163.0,155.0,303.0,430.0,103.0,255.0,254.0,491.0,665.0,686.0,244.0,89.0,95.0,140.0,307.0,1070.0,599.0,106.0,173.0,92.0,269.0,174.0,333.0,284.0,217.0,127.0,109.0,130.0,115.0,67.0,196.0,145.0,439.0,467.0,244.0,269.0,775.0,558.0,126.0,324.0,304.0,190.0,310.0,384.0,318.0,206.0,199.0,109.0,163.0,227.0,192.0,73.0,94.0,135.0,141.0,74.0,349.0,1435.0,618.0,502.0,163.0,394.0,516.0,246.0,317.0,515.0,253.0,229.0,65.0,325.0,246.0,956.0,710.0,203.0,221.0,432.0,486.0,447.0,968.0,1658.0,838.0,762.0,997.0,1005.0,548.0,3155.0,2207.0,982.0,1051.0,1122.0,1334.0,2469.0,1033.0,1532.0,795.0,531.0,674.0,834.0,796.0,2301.0,2347.0,1208.0,1348.0,1058.0,1192.0,1807.0,3252.0,2230.0,905.0,819.0,482.0,663.0,1252.0,2795.0,2846.0,1198.0,989.0,347.0,846.0,1340.0,2541.0,120.0,195.0,518.0,655.0,475.0,1014.0,1120.0,2229.0,665.0,653.0,667.0,764.0,1069.0,2496.0,2135.0,1008.0,738.0,620.0,1026.0,1319.0,2622.0,2172.0,342.0,625.0,991.0,1242.0,1521.0,3410.0,2704.0,630.0,819.0,766.0,1059.0,1417.0,2855.0,3283.0,2557.0,880.0,745.0,1100.0,533.0,2795.0,2494.0,1071.0,968.0,1027.0,1038.0,1488.0,2708.0,2224.0,1017.0,477.0,1173.0,1180.0,1563.0,2963.0,2634.0,653.0,968.0,872.0,778.0,964.0,2657.0,2551.0,1139.0,1077.0,1077.0,921.0,829.0,1455.0,1421.0,904.0,1052.0,2562.0,1405.0,1366.0,1448.0,1203.0,998.0,954.0,975.0,1032.0,1511.0,2355.0,1920.0,1088.0,921.0,799.0,888.0,747.0,1264.0,2544.0,1135.0,1140.0,1383.0,1036.0,1259.0,2234.0,2153.0,1040.0,968.0,1074.0,983.0,1328.0,2345.0,1707.0,1233.0,1278.0,1263.0,1196.0,1065.0,2247.0,2182.0,1207.0,1128.0,1198.0,1338.0,1483.0,2827.0,1208.0,1026.0,1081.0,1094.0,1363.0,1325.0,1829.0,1483.0,989.0,935.0,1177.0,1172.0,1433.0,2352.0,2613.0,1965.0,867.0,832.0,611.0,1045.0,1557.0,2570.0,1118.0,1070.0,1050.0,1054.0,1379.0,3160.0,2166.0,1022.0,371.0,788.0,939.0,1250.0,2512.0,2454.0,1001.0,845.0,787.0,751.0,1045.0,2589.0,2015.0,763.0,315.0,728.0,891.0,1516.0,3031.0,781.0,874.0,601.0,780.0,834.0,1060.0,2252.0,2080.0,760.0,922.0,979.0,1008.0,753.0,2806.0,2132.0,830.0,841.0,795.0,875.0,1182.0,2643.0,998.0,2.0,87.0,419.0,466.0,618.0,1029.0,1201.0,378.0,466.0,326.0,340.0,709.0,2090.0,2290.0,1097.0,327.0,373.0,320.0,484.0,1313.0,922.0,449.0,534.0,615.0,955.0,1603.0,532.0,309.0,337.0,123.0,198.0,243.0,362.0,951.0,892.0,555.0,551.0,331.0,340.0,349.0,1153.0,441.0,329.0,282.0,310.0,425.0,429.0,767.0,538.0,212.0,433.0,333.0,314.0,221.0,205.0,408.0,174.0,440.0,9.0,247.0,644.0,159.0,364.0,439.0],\"yaxis\":\"y3\",\"type\":\"scattergl\"},{\"hovertemplate\":\"var=atemp<br>value=%{x}<br>casual=%{y}<extra></extra>\",\"legendgroup\":\"atemp\",\"marker\":{\"color\":\"#EF553B\",\"symbol\":\"circle\"},\"mode\":\"markers\",\"name\":\"atemp\",\"showlegend\":true,\"x\":[0.363625,0.35373899999999997,0.189405,0.21212199999999998,0.22926999999999997,0.23320900000000003,0.208839,0.162254,0.116175,0.15088800000000002,0.19146400000000002,0.160473,0.150883,0.188413,0.248112,0.234217,0.176771,0.23233299999999998,0.29842199999999997,0.25505,0.157833,0.0790696,0.09883910000000001,0.11793,0.234526,0.2036,0.2197,0.22331700000000002,0.212126,0.250322,0.18625,0.23453000000000002,0.254417,0.177878,0.22858699999999998,0.243058,0.291671,0.303658,0.198246,0.144283,0.14954800000000001,0.213509,0.232954,0.324113,0.39835,0.254274,0.3162,0.428658,0.511983,0.391404,0.27733,0.284075,0.186033,0.24571700000000002,0.289191,0.350461,0.282192,0.351109,0.400118,0.263879,0.320071,0.200133,0.255679,0.378779,0.366252,0.238461,0.3024,0.286608,0.385668,0.305,0.32575,0.380091,0.332,0.318178,0.36693000000000003,0.410333,0.5270090000000001,0.466525,0.32575,0.409735,0.44064200000000003,0.337939,0.270833,0.256312,0.257571,0.250339,0.25757399999999997,0.292908,0.29735,0.257575,0.283454,0.315637,0.378767,0.542929,0.39835,0.387608,0.433696,0.324479,0.34152899999999997,0.426737,0.565217,0.493054,0.417283,0.462742,0.441913,0.425492,0.445696,0.503146,0.48925799999999997,0.564392,0.453892,0.321954,0.450121,0.551763,0.5745,0.594083,0.575142,0.578929,0.497463,0.464021,0.448204,0.532833,0.582079,0.40465,0.441917,0.474117,0.512621,0.518933,0.525246,0.522721,0.5284,0.523363,0.4943,0.500629,0.536,0.550512,0.538529,0.527158,0.510742,0.529042,0.571975,0.5745,0.590296,0.604813,0.615542,0.654688,0.637008,0.612379,0.61555,0.671092,0.725383,0.720967,0.643942,0.587133,0.594696,0.616804,0.621858,0.65595,0.727279,0.757579,0.703292,0.678038,0.643325,0.601654,0.591546,0.587754,0.595346,0.600383,0.643954,0.645846,0.595346,0.637646,0.693829,0.693833,0.656583,0.643313,0.637629,0.637004,0.692558,0.654688,0.637008,0.652162,0.667308,0.668575,0.665417,0.696338,0.685633,0.686871,0.6704829999999999,0.664158,0.690025,0.729804,0.739275,0.689404,0.635104,0.624371,0.638263,0.669833,0.703925,0.747479,0.74685,0.826371,0.8408959999999999,0.804287,0.794829,0.720958,0.696979,0.690667,0.7399,0.785967,0.728537,0.729796,0.703292,0.707071,0.679937,0.664788,0.656567,0.676154,0.715292,0.703283,0.724121,0.684983,0.651521,0.654042,0.645858,0.624388,0.616167,0.645837,0.666671,0.662258,0.633221,0.648996,0.675525,0.638254,0.606067,0.630692,0.645854,0.659733,0.635556,0.6479590000000001,0.607958,0.594704,0.611121,0.614921,0.604808,0.633213,0.665429,0.625646,0.5152,0.544229,0.555361,0.578946,0.607962,0.609229,0.60213,0.603554,0.6269,0.553671,0.461475,0.478512,0.490537,0.529675,0.532217,0.5505329999999999,0.554963,0.522125,0.564412,0.572637,0.589042,0.574525,0.575158,0.574512,0.544829,0.41286300000000004,0.345317,0.392046,0.472858,0.527138,0.480425,0.504404,0.513242,0.523983,0.542925,0.546096,0.517717,0.551804,0.529675,0.498725,0.503154,0.510725,0.522721,0.513848,0.466525,0.42359600000000003,0.425492,0.422333,0.457067,0.463375,0.472846,0.457046,0.318812,0.227913,0.321329,0.356063,0.397088,0.390133,0.405921,0.40339200000000003,0.323854,0.362358,0.400871,0.412246,0.40907899999999997,0.373721,0.306817,0.357942,0.43055,0.524612,0.507579,0.451988,0.323221,0.272721,0.32448299999999997,0.457058,0.445062,0.421696,0.430537,0.372471,0.380671,0.385087,0.4558,0.490122,0.451375,0.311221,0.305554,0.331433,0.310604,0.3491,0.393925,0.4564,0.400246,0.256938,0.317542,0.266412,0.253154,0.270196,0.301138,0.338362,0.41223699999999996,0.359825,0.249371,0.245579,0.280933,0.396454,0.428017,0.426121,0.377513,0.299242,0.279961,0.315535,0.327633,0.279974,0.263892,0.318812,0.414121,0.375621,0.252304,0.126275,0.11933699999999998,0.278412,0.340267,0.390779,0.340258,0.247479,0.318826,0.282821,0.381938,0.249362,0.183087,0.161625,0.190663,0.36427800000000005,0.275254,0.190038,0.220958,0.174875,0.16225,0.243058,0.349108,0.294821,0.35605,0.415383,0.326379,0.272721,0.262625,0.381317,0.466538,0.398971,0.309346,0.272725,0.264521,0.296426,0.361104,0.266421,0.261988,0.293558,0.210867,0.101658,0.227913,0.333946,0.35162899999999997,0.330162,0.35162899999999997,0.355425,0.265788,0.273391,0.295113,0.392667,0.444446,0.41097100000000003,0.255675,0.268308,0.357954,0.353525,0.34847,0.475371,0.359842,0.413492,0.303021,0.241171,0.255042,0.3851,0.524604,0.397083,0.277767,0.35967,0.459592,0.542929,0.548617,0.532825,0.436229,0.505046,0.46399999999999997,0.532821,0.538533,0.513258,0.531567,0.570067,0.48673299999999997,0.437488,0.43875,0.315654,0.47095,0.482304,0.375621,0.42170799999999997,0.41728699999999996,0.42751300000000003,0.461483,0.53345,0.431163,0.39076700000000003,0.426129,0.492425,0.476638,0.436233,0.33727399999999996,0.387604,0.43180799999999997,0.487996,0.573875,0.614925,0.598487,0.457038,0.493046,0.515775,0.542921,0.389504,0.301125,0.405283,0.470317,0.483583,0.452637,0.377504,0.450121,0.457696,0.577021,0.537896,0.537242,0.590917,0.584608,0.546737,0.527142,0.557471,0.553025,0.49178299999999997,0.520833,0.544817,0.585238,0.5499,0.576404,0.595975,0.572613,0.551121,0.566908,0.583967,0.565667,0.580825,0.584612,0.6067,0.627529,0.642696,0.641425,0.6793,0.672992,0.611129,0.631329,0.607962,0.566288,0.575133,0.578283,0.525892,0.542292,0.569442,0.597862,0.648367,0.663517,0.659721,0.597875,0.611117,0.624383,0.599754,0.594708,0.571975,0.544842,0.654692,0.720975,0.752542,0.724121,0.652792,0.674254,0.654042,0.594704,0.640792,0.675512,0.786613,0.687508,0.750629,0.702038,0.70265,0.732337,0.761367,0.752533,0.804913,0.790396,0.654054,0.664796,0.650271,0.654683,0.667933,0.666042,0.705196,0.724125,0.755683,0.745583,0.714642,0.613025,0.549912,0.623125,0.690017,0.70645,0.654054,0.739263,0.734217,0.697604,0.667933,0.684987,0.662896,0.667308,0.707088,0.722867,0.751267,0.731079,0.710246,0.697621,0.707717,0.699508,0.667942,0.638267,0.644579,0.662254,0.676779,0.654037,0.654688,0.2424,0.618071,0.603554,0.595967,0.601025,0.621854,0.637008,0.6471,0.618696,0.595996,0.654688,0.66605,0.635733,0.652779,0.6894,0.702654,0.649,0.661629,0.686888,0.708983,0.655329,0.657204,0.611121,0.578925,0.565654,0.554292,0.570075,0.579558,0.594083,0.585867,0.563125,0.55305,0.565067,0.540404,0.532192,0.571971,0.610488,0.518933,0.502513,0.544179,0.5966130000000001,0.607975,0.585863,0.530296,0.517663,0.512,0.542333,0.599133,0.607975,0.580187,0.538521,0.419813,0.387608,0.438112,0.503142,0.431167,0.433071,0.391396,0.508204,0.53915,0.460846,0.450108,0.512625,0.537896,0.472842,0.456429,0.482942,0.530304,0.558721,0.529688,0.52275,0.515133,0.467771,0.4394,0.309909,0.3611,0.369942,0.356042,0.323846,0.329538,0.308075,0.281567,0.274621,0.341891,0.35541300000000003,0.393937,0.421713,0.475383,0.323225,0.281563,0.324492,0.347204,0.326383,0.337746,0.375621,0.38066700000000003,0.364892,0.350371,0.378779,0.24874200000000002,0.257583,0.33900399999999997,0.281558,0.28976199999999996,0.29842199999999997,0.323867,0.316904,0.35920799999999997,0.455796,0.46905399999999997,0.428012,0.258204,0.32195799999999997,0.38950799999999997,0.390146,0.435575,0.338363,0.297338,0.294188,0.294192,0.338383,0.369938,0.4015,0.409708,0.34216199999999997,0.335217,0.301767,0.23611300000000002,0.259471,0.2589,0.29446500000000003,0.220333,0.226642,0.255046,0.2424,0.2317,0.223487],\"xaxis\":\"x4\",\"y\":[331.0,131.0,120.0,108.0,82.0,88.0,148.0,68.0,54.0,41.0,43.0,25.0,38.0,54.0,222.0,251.0,117.0,9.0,78.0,83.0,75.0,93.0,150.0,86.0,186.0,34.0,15.0,38.0,123.0,140.0,42.0,47.0,72.0,61.0,88.0,100.0,354.0,120.0,64.0,53.0,47.0,149.0,288.0,397.0,208.0,140.0,218.0,259.0,579.0,532.0,639.0,195.0,74.0,139.0,100.0,120.0,424.0,694.0,81.0,137.0,231.0,123.0,214.0,640.0,114.0,244.0,316.0,191.0,46.0,247.0,724.0,982.0,359.0,289.0,321.0,424.0,884.0,1424.0,1047.0,401.0,460.0,203.0,166.0,300.0,981.0,472.0,222.0,317.0,168.0,179.0,307.0,898.0,1651.0,734.0,167.0,413.0,571.0,172.0,879.0,1188.0,855.0,257.0,209.0,529.0,642.0,121.0,1558.0,669.0,409.0,613.0,745.0,177.0,1462.0,1710.0,773.0,678.0,547.0,569.0,878.0,1965.0,1138.0,847.0,603.0,255.0,614.0,894.0,1612.0,1401.0,664.0,694.0,550.0,695.0,692.0,902.0,1582.0,773.0,678.0,536.0,735.0,909.0,2258.0,1576.0,836.0,659.0,740.0,758.0,871.0,2001.0,2355.0,1549.0,673.0,513.0,736.0,898.0,1869.0,1685.0,673.0,763.0,676.0,563.0,815.0,1729.0,1467.0,863.0,727.0,769.0,545.0,863.0,1807.0,1639.0,699.0,774.0,661.0,746.0,969.0,1782.0,1920.0,854.0,732.0,848.0,1027.0,1246.0,2204.0,2282.0,3065.0,1031.0,784.0,754.0,692.0,1988.0,1743.0,723.0,662.0,748.0,888.0,1318.0,2418.0,2006.0,841.0,752.0,644.0,632.0,562.0,987.0,1050.0,568.0,750.0,755.0,606.0,670.0,1559.0,1524.0,729.0,801.0,467.0,799.0,1023.0,1521.0,1298.0,846.0,907.0,884.0,812.0,1051.0,1504.0,1338.0,775.0,721.0,668.0,639.0,797.0,1914.0,1249.0,833.0,1281.0,949.0,435.0,768.0,226.0,1415.0,729.0,775.0,688.0,783.0,875.0,1935.0,2521.0,1236.0,204.0,118.0,153.0,417.0,1750.0,1633.0,690.0,701.0,647.0,428.0,742.0,1434.0,1353.0,691.0,438.0,539.0,555.0,258.0,1776.0,1544.0,684.0,477.0,480.0,653.0,830.0,480.0,616.0,330.0,486.0,559.0,639.0,949.0,2235.0,2397.0,1514.0,667.0,217.0,290.0,529.0,1899.0,1748.0,713.0,637.0,254.0,471.0,676.0,1499.0,1619.0,699.0,695.0,404.0,240.0,456.0,57.0,885.0,362.0,410.0,370.0,318.0,470.0,1156.0,952.0,373.0,376.0,305.0,190.0,440.0,1275.0,1004.0,595.0,449.0,145.0,139.0,245.0,943.0,787.0,220.0,69.0,112.0,560.0,1095.0,1249.0,810.0,253.0,96.0,188.0,182.0,268.0,706.0,634.0,233.0,126.0,50.0,150.0,261.0,502.0,377.0,143.0,155.0,178.0,181.0,178.0,275.0,220.0,260.0,216.0,107.0,227.0,163.0,155.0,303.0,430.0,103.0,255.0,254.0,491.0,665.0,686.0,244.0,89.0,95.0,140.0,307.0,1070.0,599.0,106.0,173.0,92.0,269.0,174.0,333.0,284.0,217.0,127.0,109.0,130.0,115.0,67.0,196.0,145.0,439.0,467.0,244.0,269.0,775.0,558.0,126.0,324.0,304.0,190.0,310.0,384.0,318.0,206.0,199.0,109.0,163.0,227.0,192.0,73.0,94.0,135.0,141.0,74.0,349.0,1435.0,618.0,502.0,163.0,394.0,516.0,246.0,317.0,515.0,253.0,229.0,65.0,325.0,246.0,956.0,710.0,203.0,221.0,432.0,486.0,447.0,968.0,1658.0,838.0,762.0,997.0,1005.0,548.0,3155.0,2207.0,982.0,1051.0,1122.0,1334.0,2469.0,1033.0,1532.0,795.0,531.0,674.0,834.0,796.0,2301.0,2347.0,1208.0,1348.0,1058.0,1192.0,1807.0,3252.0,2230.0,905.0,819.0,482.0,663.0,1252.0,2795.0,2846.0,1198.0,989.0,347.0,846.0,1340.0,2541.0,120.0,195.0,518.0,655.0,475.0,1014.0,1120.0,2229.0,665.0,653.0,667.0,764.0,1069.0,2496.0,2135.0,1008.0,738.0,620.0,1026.0,1319.0,2622.0,2172.0,342.0,625.0,991.0,1242.0,1521.0,3410.0,2704.0,630.0,819.0,766.0,1059.0,1417.0,2855.0,3283.0,2557.0,880.0,745.0,1100.0,533.0,2795.0,2494.0,1071.0,968.0,1027.0,1038.0,1488.0,2708.0,2224.0,1017.0,477.0,1173.0,1180.0,1563.0,2963.0,2634.0,653.0,968.0,872.0,778.0,964.0,2657.0,2551.0,1139.0,1077.0,1077.0,921.0,829.0,1455.0,1421.0,904.0,1052.0,2562.0,1405.0,1366.0,1448.0,1203.0,998.0,954.0,975.0,1032.0,1511.0,2355.0,1920.0,1088.0,921.0,799.0,888.0,747.0,1264.0,2544.0,1135.0,1140.0,1383.0,1036.0,1259.0,2234.0,2153.0,1040.0,968.0,1074.0,983.0,1328.0,2345.0,1707.0,1233.0,1278.0,1263.0,1196.0,1065.0,2247.0,2182.0,1207.0,1128.0,1198.0,1338.0,1483.0,2827.0,1208.0,1026.0,1081.0,1094.0,1363.0,1325.0,1829.0,1483.0,989.0,935.0,1177.0,1172.0,1433.0,2352.0,2613.0,1965.0,867.0,832.0,611.0,1045.0,1557.0,2570.0,1118.0,1070.0,1050.0,1054.0,1379.0,3160.0,2166.0,1022.0,371.0,788.0,939.0,1250.0,2512.0,2454.0,1001.0,845.0,787.0,751.0,1045.0,2589.0,2015.0,763.0,315.0,728.0,891.0,1516.0,3031.0,781.0,874.0,601.0,780.0,834.0,1060.0,2252.0,2080.0,760.0,922.0,979.0,1008.0,753.0,2806.0,2132.0,830.0,841.0,795.0,875.0,1182.0,2643.0,998.0,2.0,87.0,419.0,466.0,618.0,1029.0,1201.0,378.0,466.0,326.0,340.0,709.0,2090.0,2290.0,1097.0,327.0,373.0,320.0,484.0,1313.0,922.0,449.0,534.0,615.0,955.0,1603.0,532.0,309.0,337.0,123.0,198.0,243.0,362.0,951.0,892.0,555.0,551.0,331.0,340.0,349.0,1153.0,441.0,329.0,282.0,310.0,425.0,429.0,767.0,538.0,212.0,433.0,333.0,314.0,221.0,205.0,408.0,174.0,440.0,9.0,247.0,644.0,159.0,364.0,439.0],\"yaxis\":\"y4\",\"type\":\"scattergl\"},{\"hovertemplate\":\"var=hum<br>value=%{x}<br>casual=%{y}<extra></extra>\",\"legendgroup\":\"hum\",\"marker\":{\"color\":\"#00cc96\",\"symbol\":\"circle\"},\"mode\":\"markers\",\"name\":\"hum\",\"showlegend\":true,\"x\":[0.805833,0.696087,0.43727299999999997,0.590435,0.436957,0.518261,0.49869600000000003,0.535833,0.434167,0.482917,0.6863640000000001,0.599545,0.47041700000000003,0.537826,0.49875,0.48375,0.5375,0.861667,0.741739,0.538333,0.457083,0.4,0.436522,0.49173900000000004,0.616957,0.8625,0.6875,0.793043,0.6517390000000001,0.722174,0.60375,0.829565,0.775417,0.43782600000000005,0.585217,0.929167,0.568333,0.738333,0.537917,0.494783,0.437391,0.506364,0.544167,0.457391,0.375833,0.314348,0.42347799999999997,0.505,0.516667,0.187917,0.407826,0.605,0.577778,0.423043,0.697391,0.712174,0.537917,0.68,0.8763639999999999,0.535,0.449583,0.318333,0.610417,0.789167,0.948261,0.551304,0.420833,0.775417,0.0,0.649565,0.594583,0.5273909999999999,0.496957,0.655652,0.776522,0.602917,0.525217,0.37916700000000003,0.47375,0.737391,0.624583,0.839565,0.805833,0.495,0.394167,0.493913,0.302174,0.31416700000000003,0.646667,0.918333,0.68625,0.65375,0.48,0.42625,0.642083,0.470833,0.602917,0.83625,0.8775,0.8575,0.716956,0.739167,0.819167,0.540417,0.67125,0.888333,0.479583,0.5425,0.665833,0.614167,0.407083,0.729583,0.887917,0.810833,0.776667,0.729167,0.835417,0.700833,0.457083,0.503333,0.762083,0.73,0.697083,0.737083,0.44416700000000003,0.59,0.54125,0.631667,0.58875,0.489167,0.632917,0.7475,0.863333,0.9225,0.867083,0.787917,0.837917,0.87,0.829583,0.719583,0.626667,0.749583,0.81,0.740833,0.69625,0.6775,0.65375,0.729583,0.81875,0.685,0.636667,0.677083,0.305,0.354167,0.45625,0.6525,0.6,0.597917,0.6220829999999999,0.568333,0.605,0.654583,0.747917,0.494583,0.507083,0.471667,0.688333,0.735833,0.670417,0.666667,0.74625,0.770417,0.7075,0.703333,0.573333,0.483333,0.513333,0.658333,0.634167,0.497917,0.434167,0.39625,0.444583,0.6825,0.637917,0.590417,0.743333,0.65125,0.757917,0.609167,0.578333,0.635833,0.559167,0.631667,0.47625,0.59125,0.585,0.604167,0.65125,0.650417,0.707083,0.69125,0.580417,0.5,0.550833,0.757083,0.540833,0.402917,0.583333,0.5425,0.465833,0.480833,0.550833,0.49125,0.6575,0.7575,0.630833,0.755,0.7529170000000001,0.592083,0.570417,0.424167,0.42375,0.415,0.729583,0.8175,0.712083,0.578333,0.575417,0.654583,0.722917,0.674167,0.77,0.47,0.455417,0.605,0.771667,0.76125,0.85,0.561765,0.554583,0.548333,0.597917,0.639167,0.727083,0.716667,0.742083,0.790417,0.886957,0.917083,0.939565,0.897917,0.75375,0.71375,0.692174,0.7125,0.697083,0.709167,0.590417,0.718333,0.695,0.69,0.88125,0.9,0.902083,0.9725,0.8625,0.845,0.848333,0.885417,0.84875,0.699167,0.6475,0.75375,0.791667,0.760833,0.71,0.647917,0.620833,0.684167,0.70125,0.7275,0.73375,0.80875,0.90625,0.896667,0.71625,0.483333,0.486667,0.579583,0.701667,0.895217,0.63625,0.574167,0.629167,0.74125,0.772083,0.622917,0.720417,0.812917,0.585833,0.8825,0.62375,0.703333,0.68375,0.71875,0.702083,0.6225,0.519167,0.734583,0.75875,0.7216670000000001,0.758333,0.813333,0.44625,0.552917,0.458333,0.587083,0.68875,0.93,0.575833,0.41,0.502083,0.6845829999999999,0.91,0.9625,0.757917,0.549167,0.64375,0.681667,0.698333,0.743043,0.830833,0.613333,0.524583,0.625833,0.612917,0.775833,0.827083,0.949583,0.970417,0.58,0.695833,0.5075,0.49,0.670833,0.59,0.66375,0.634167,0.500417,0.560833,0.58625,0.6375,0.595417,0.858333,0.7575,0.68625,0.5425,0.681304,0.506957,0.7625,0.503913,0.574167,0.636667,0.615833,0.6925,0.381304,0.44125,0.414583,0.524167,0.542083,0.531667,0.465,0.701667,0.646522,0.8475,0.802917,0.5075,0.4575,0.419167,0.5225,0.716087,0.443333,0.4975,0.45,0.83125,0.79625,0.91125,0.835833,0.64375,0.769583,0.74125,0.543333,0.31125,0.400833,0.416667,0.507917,0.672917,0.526667,0.779583,0.687917,0.622174,0.49625,0.722917,0.562083,0.54,0.73125,0.46458299999999997,0.41125,0.50875,0.53125,0.7529170000000001,0.634583,0.534583,0.515833,0.507826,0.594348,0.567917,0.554583,0.7375,0.395833,0.41,0.490833,0.395833,0.804783,0.615417,0.657083,0.62125,0.403333,0.50625,0.456667,0.513333,0.5675,0.407083,0.35041700000000003,0.47695699999999996,0.489167,0.6175,0.507083,0.579583,0.842083,0.755833,0.81,0.72875,0.807917,0.82125,0.83125,0.694167,0.885417,0.880833,0.477917,0.29,0.48125,0.43916700000000003,0.580833,0.738333,0.67625,0.5043479999999999,0.396667,0.469583,0.374167,0.377083,0.25416700000000003,0.275833,0.3175,0.435,0.46956499999999995,0.46625,0.408333,0.5029170000000001,0.507917,0.561667,0.390417,0.569167,0.6125,0.694583,0.682917,0.835417,0.766667,0.454167,0.427917,0.756667,0.400833,0.489583,0.587083,0.57,0.659583,0.797083,0.768333,0.735417,0.756667,0.74,0.664167,0.685833,0.744167,0.552083,0.360417,0.480417,0.57625,0.789583,0.794583,0.697917,0.52,0.523333,0.45625,0.530417,0.81125,0.765833,0.774583,0.716667,0.7470829999999999,0.7325,0.697083,0.67625,0.6845829999999999,0.67,0.492917,0.755417,0.549167,0.49333299999999997,0.487083,0.613333,0.61125,0.567083,0.467917,0.437083,0.538333,0.587917,0.833333,0.582083,0.569583,0.589583,0.504167,0.59875,0.777917,0.69,0.592083,0.567917,0.57375,0.534583,0.479167,0.504167,0.37333299999999997,0.36,0.4225,0.48875,0.60125,0.51875,0.447083,0.492083,0.53875,0.457917,0.450833,0.492083,0.57375,0.683333,0.6675,0.633333,0.529583,0.485833,0.699167,0.717917,0.645,0.505833,0.577083,0.600417,0.844167,0.865417,0.7625,0.694167,0.655,0.45,0.5966670000000001,0.594583,0.613333,0.62375,0.66875,0.704167,0.6775,0.659583,0.6425,0.613333,0.6525,0.654167,0.70375,0.672917,0.620417,0.7158329999999999,0.732917,0.530417,0.545417,0.686667,0.619583,0.519167,0.570833,0.603333,0.711667,0.734167,0.67375,0.677083,0.635833,0.615,0.712917,0.845833,0.730417,0.62,0.552083,0.590417,0.5875,0.638333,0.815,0.790833,0.755,0.74125,0.810417,0.73625,0.799167,0.5475,0.50375,0.52,0.577083,0.637083,0.6725,0.501667,0.57,0.734583,0.8725,0.536667,0.618333,0.66875,0.646667,0.46708299999999997,0.492917,0.57,0.630833,0.690833,0.69,0.542917,0.583333,0.649167,0.871667,0.79375,0.722917,0.6275,0.664167,0.708333,0.709583,0.761667,0.630833,0.463333,0.539167,0.494583,0.640417,0.7075,0.558333,0.692917,0.728333,0.815,0.572917,0.51,0.568333,0.641667,0.63625,0.800417,0.807083,0.72,0.694583,0.88,0.8254549999999999,0.666667,0.581667,0.522083,0.49125,0.532917,0.494167,0.567083,0.5475,0.333478,0.540833,0.645417,0.6591670000000001,0.741667,0.662917,0.552083,0.620417,0.524583,0.545417,0.692917,0.623333,0.685,0.61375,0.580417,0.56875,0.40458299999999997,0.468333,0.535417,0.786667,0.50625,0.555652,0.649583,0.806667,0.823333,0.7675,0.73375,0.485,0.50875,0.764167,0.91125,0.905417,0.925,0.5966670000000001,0.538333,0.485833,0.642917,0.650417,0.83875,0.907083,0.66625,0.625417,0.667917,0.556667,0.44125,0.515417,0.791304,0.734783,0.823333,0.652917,0.59,0.7529170000000001,0.483333,0.5775],\"xaxis\":\"x\",\"y\":[331.0,131.0,120.0,108.0,82.0,88.0,148.0,68.0,54.0,41.0,43.0,25.0,38.0,54.0,222.0,251.0,117.0,9.0,78.0,83.0,75.0,93.0,150.0,86.0,186.0,34.0,15.0,38.0,123.0,140.0,42.0,47.0,72.0,61.0,88.0,100.0,354.0,120.0,64.0,53.0,47.0,149.0,288.0,397.0,208.0,140.0,218.0,259.0,579.0,532.0,639.0,195.0,74.0,139.0,100.0,120.0,424.0,694.0,81.0,137.0,231.0,123.0,214.0,640.0,114.0,244.0,316.0,191.0,46.0,247.0,724.0,982.0,359.0,289.0,321.0,424.0,884.0,1424.0,1047.0,401.0,460.0,203.0,166.0,300.0,981.0,472.0,222.0,317.0,168.0,179.0,307.0,898.0,1651.0,734.0,167.0,413.0,571.0,172.0,879.0,1188.0,855.0,257.0,209.0,529.0,642.0,121.0,1558.0,669.0,409.0,613.0,745.0,177.0,1462.0,1710.0,773.0,678.0,547.0,569.0,878.0,1965.0,1138.0,847.0,603.0,255.0,614.0,894.0,1612.0,1401.0,664.0,694.0,550.0,695.0,692.0,902.0,1582.0,773.0,678.0,536.0,735.0,909.0,2258.0,1576.0,836.0,659.0,740.0,758.0,871.0,2001.0,2355.0,1549.0,673.0,513.0,736.0,898.0,1869.0,1685.0,673.0,763.0,676.0,563.0,815.0,1729.0,1467.0,863.0,727.0,769.0,545.0,863.0,1807.0,1639.0,699.0,774.0,661.0,746.0,969.0,1782.0,1920.0,854.0,732.0,848.0,1027.0,1246.0,2204.0,2282.0,3065.0,1031.0,784.0,754.0,692.0,1988.0,1743.0,723.0,662.0,748.0,888.0,1318.0,2418.0,2006.0,841.0,752.0,644.0,632.0,562.0,987.0,1050.0,568.0,750.0,755.0,606.0,670.0,1559.0,1524.0,729.0,801.0,467.0,799.0,1023.0,1521.0,1298.0,846.0,907.0,884.0,812.0,1051.0,1504.0,1338.0,775.0,721.0,668.0,639.0,797.0,1914.0,1249.0,833.0,1281.0,949.0,435.0,768.0,226.0,1415.0,729.0,775.0,688.0,783.0,875.0,1935.0,2521.0,1236.0,204.0,118.0,153.0,417.0,1750.0,1633.0,690.0,701.0,647.0,428.0,742.0,1434.0,1353.0,691.0,438.0,539.0,555.0,258.0,1776.0,1544.0,684.0,477.0,480.0,653.0,830.0,480.0,616.0,330.0,486.0,559.0,639.0,949.0,2235.0,2397.0,1514.0,667.0,217.0,290.0,529.0,1899.0,1748.0,713.0,637.0,254.0,471.0,676.0,1499.0,1619.0,699.0,695.0,404.0,240.0,456.0,57.0,885.0,362.0,410.0,370.0,318.0,470.0,1156.0,952.0,373.0,376.0,305.0,190.0,440.0,1275.0,1004.0,595.0,449.0,145.0,139.0,245.0,943.0,787.0,220.0,69.0,112.0,560.0,1095.0,1249.0,810.0,253.0,96.0,188.0,182.0,268.0,706.0,634.0,233.0,126.0,50.0,150.0,261.0,502.0,377.0,143.0,155.0,178.0,181.0,178.0,275.0,220.0,260.0,216.0,107.0,227.0,163.0,155.0,303.0,430.0,103.0,255.0,254.0,491.0,665.0,686.0,244.0,89.0,95.0,140.0,307.0,1070.0,599.0,106.0,173.0,92.0,269.0,174.0,333.0,284.0,217.0,127.0,109.0,130.0,115.0,67.0,196.0,145.0,439.0,467.0,244.0,269.0,775.0,558.0,126.0,324.0,304.0,190.0,310.0,384.0,318.0,206.0,199.0,109.0,163.0,227.0,192.0,73.0,94.0,135.0,141.0,74.0,349.0,1435.0,618.0,502.0,163.0,394.0,516.0,246.0,317.0,515.0,253.0,229.0,65.0,325.0,246.0,956.0,710.0,203.0,221.0,432.0,486.0,447.0,968.0,1658.0,838.0,762.0,997.0,1005.0,548.0,3155.0,2207.0,982.0,1051.0,1122.0,1334.0,2469.0,1033.0,1532.0,795.0,531.0,674.0,834.0,796.0,2301.0,2347.0,1208.0,1348.0,1058.0,1192.0,1807.0,3252.0,2230.0,905.0,819.0,482.0,663.0,1252.0,2795.0,2846.0,1198.0,989.0,347.0,846.0,1340.0,2541.0,120.0,195.0,518.0,655.0,475.0,1014.0,1120.0,2229.0,665.0,653.0,667.0,764.0,1069.0,2496.0,2135.0,1008.0,738.0,620.0,1026.0,1319.0,2622.0,2172.0,342.0,625.0,991.0,1242.0,1521.0,3410.0,2704.0,630.0,819.0,766.0,1059.0,1417.0,2855.0,3283.0,2557.0,880.0,745.0,1100.0,533.0,2795.0,2494.0,1071.0,968.0,1027.0,1038.0,1488.0,2708.0,2224.0,1017.0,477.0,1173.0,1180.0,1563.0,2963.0,2634.0,653.0,968.0,872.0,778.0,964.0,2657.0,2551.0,1139.0,1077.0,1077.0,921.0,829.0,1455.0,1421.0,904.0,1052.0,2562.0,1405.0,1366.0,1448.0,1203.0,998.0,954.0,975.0,1032.0,1511.0,2355.0,1920.0,1088.0,921.0,799.0,888.0,747.0,1264.0,2544.0,1135.0,1140.0,1383.0,1036.0,1259.0,2234.0,2153.0,1040.0,968.0,1074.0,983.0,1328.0,2345.0,1707.0,1233.0,1278.0,1263.0,1196.0,1065.0,2247.0,2182.0,1207.0,1128.0,1198.0,1338.0,1483.0,2827.0,1208.0,1026.0,1081.0,1094.0,1363.0,1325.0,1829.0,1483.0,989.0,935.0,1177.0,1172.0,1433.0,2352.0,2613.0,1965.0,867.0,832.0,611.0,1045.0,1557.0,2570.0,1118.0,1070.0,1050.0,1054.0,1379.0,3160.0,2166.0,1022.0,371.0,788.0,939.0,1250.0,2512.0,2454.0,1001.0,845.0,787.0,751.0,1045.0,2589.0,2015.0,763.0,315.0,728.0,891.0,1516.0,3031.0,781.0,874.0,601.0,780.0,834.0,1060.0,2252.0,2080.0,760.0,922.0,979.0,1008.0,753.0,2806.0,2132.0,830.0,841.0,795.0,875.0,1182.0,2643.0,998.0,2.0,87.0,419.0,466.0,618.0,1029.0,1201.0,378.0,466.0,326.0,340.0,709.0,2090.0,2290.0,1097.0,327.0,373.0,320.0,484.0,1313.0,922.0,449.0,534.0,615.0,955.0,1603.0,532.0,309.0,337.0,123.0,198.0,243.0,362.0,951.0,892.0,555.0,551.0,331.0,340.0,349.0,1153.0,441.0,329.0,282.0,310.0,425.0,429.0,767.0,538.0,212.0,433.0,333.0,314.0,221.0,205.0,408.0,174.0,440.0,9.0,247.0,644.0,159.0,364.0,439.0],\"yaxis\":\"y\",\"type\":\"scattergl\"},{\"hovertemplate\":\"var=windspeed<br>value=%{x}<br>casual=%{y}<extra></extra>\",\"legendgroup\":\"windspeed\",\"marker\":{\"color\":\"#ab63fa\",\"symbol\":\"circle\"},\"mode\":\"markers\",\"name\":\"windspeed\",\"showlegend\":true,\"x\":[0.160446,0.24853899999999998,0.248309,0.160296,0.1869,0.0895652,0.168726,0.266804,0.36195,0.22326700000000002,0.12213199999999999,0.304627,0.301,0.126548,0.15796300000000002,0.188433,0.194017,0.146775,0.208317,0.195904,0.353242,0.17197,0.2466,0.15833,0.129796,0.29385,0.113837,0.1233,0.14536500000000002,0.0739826,0.187192,0.053212999999999996,0.264308,0.277752,0.127839,0.161079,0.1418,0.045408300000000006,0.36195,0.188839,0.221935,0.10855,0.20336700000000002,0.260883,0.417908,0.29137399999999997,0.251791,0.230104,0.264925,0.507463,0.223235,0.307846,0.195683,0.094113,0.250496,0.346539,0.18657100000000001,0.125248,0.289686,0.216425,0.30783299999999997,0.225754,0.203346,0.251871,0.343287,0.341352,0.12065,0.22015,0.26187699999999997,0.23296999999999998,0.220775,0.270604,0.136926,0.184309,0.20311700000000002,0.209579,0.231017,0.368167,0.20772100000000002,0.288783,0.22575,0.23426100000000002,0.24378699999999998,0.230725,0.209571,0.1843,0.212204,0.226996,0.17288800000000001,0.217646,0.258708,0.19714600000000002,0.182213,0.385571,0.388067,0.263063,0.16231199999999998,0.226992,0.13308299999999998,0.146767,0.324474,0.274879,0.25061700000000003,0.1107,0.226375,0.340808,0.303496,0.16356700000000002,0.157971,0.241925,0.325258,0.219521,0.230725,0.192175,0.185333,0.3265,0.3122,0.32090799999999997,0.240063,0.235075,0.10635399999999999,0.183454,0.342667,0.328996,0.295392,0.228246,0.16045,0.0746375,0.17600000000000002,0.11567100000000001,0.12064200000000001,0.189667,0.179725,0.13495,0.152979,0.126871,0.277354,0.201492,0.10821300000000002,0.125013,0.12065,0.148008,0.233842,0.207092,0.15423299999999998,0.19964200000000001,0.240679,0.23009200000000002,0.21393800000000002,0.131225,0.111329,0.207092,0.29228699999999996,0.253121,0.123142,0.138692,0.121896,0.187808,0.136817,0.149883,0.14055399999999998,0.15485,0.16356700000000002,0.30535,0.269283,0.16791199999999998,0.20647100000000002,0.143029,0.11940799999999999,0.102,0.155475,0.171025,0.172262,0.238804,0.222025,0.209571,0.09453330000000001,0.10758800000000002,0.144283,0.261821,0.18531199999999998,0.10260799999999999,0.11506199999999998,0.228858,0.08147919999999999,0.12625799999999998,0.149883,0.1592,0.225129,0.16791199999999998,0.183471,0.282337,0.200254,0.14613299999999999,0.24066700000000002,0.182833,0.208342,0.245033,0.215804,0.1306,0.113817,0.222021,0.1331,0.131221,0.16917100000000002,0.09080830000000001,0.200258,0.18346300000000001,0.178479,0.17413800000000001,0.168537,0.16481300000000002,0.156717,0.20585,0.13558299999999998,0.19715,0.184696,0.22825,0.201487,0.192175,0.151121,0.200258,0.164796,0.125621,0.211454,0.222633,0.208954,0.23632899999999998,0.14366700000000002,0.233208,0.139308,0.104467,0.248754,0.27675,0.146763,0.253108,0.210833,0.0839625,0.37561700000000003,0.304659,0.159825,0.12500799999999998,0.08333330000000001,0.141796,0.139929,0.185325,0.206467,0.212696,0.343943,0.0970208,0.192748,0.12437899999999999,0.153608,0.11505399999999999,0.088913,0.14180399999999999,0.1673,0.271146,0.164183,0.189675,0.178483,0.15174200000000002,0.134954,0.0964042,0.128125,0.0783667,0.0783833,0.0503792,0.1107,0.118171,0.14862899999999998,0.17288299999999998,0.206475,0.292296,0.22201300000000002,0.08334580000000001,0.205854,0.17725,0.134954,0.0223917,0.0454042,0.06345,0.0423042,0.143042,0.24815,0.141787,0.223883,0.258083,0.281717,0.175379,0.11008699999999999,0.243339,0.422275,0.221396,0.09266669999999999,0.0995125,0.11879200000000001,0.166658,0.148642,0.19776300000000002,0.229479,0.351371,0.176617,0.10635,0.135571,0.08209169999999999,0.136817,0.271779,0.18906199999999998,0.09205419999999999,0.057225,0.0690375,0.06219580000000001,0.189067,0.314675,0.212062,0.281721,0.306596,0.199633,0.136829,0.30536199999999997,0.168533,0.224496,0.18595,0.138054,0.11879200000000001,0.335825,0.167304,0.0988958,0.0684208,0.208954,0.142122,0.258092,0.271158,0.220158,0.100754,0.0957833,0.08395830000000001,0.06220830000000001,0.23258299999999998,0.266175,0.240058,0.08271669999999999,0.233221,0.0665417,0.06345,0.14055,0.06095830000000001,0.268042,0.260575,0.243167,0.16977899999999999,0.172896,0.06157080000000001,0.2214,0.047275,0.274246,0.190304,0.155091,0.239465,0.18845,0.29396100000000003,0.11941199999999999,0.13433699999999998,0.220154,0.192167,0.329665,0.365671,0.1847,0.129987,0.167908,0.174758,0.19154200000000002,0.0989,0.187552,0.131221,0.18096700000000002,0.378108,0.187183,0.251258,0.23135799999999998,0.34913,0.415429,0.220158,0.20275,0.222642,0.199638,0.11070799999999999,0.123767,0.161071,0.07339580000000001,0.342667,0.210829,0.24005,0.215792,0.261817,0.189067,0.187187,0.17849600000000002,0.121896,0.175996,0.1538,0.147379,0.133721,0.194037,0.11692899999999999,0.289796,0.40921199999999996,0.167283,0.141179,0.1816,0.091425,0.205846,0.190929,0.253112,0.22908299999999998,0.205717,0.234471,0.190913,0.237567,0.421642,0.205229,0.26803299999999997,0.193417,0.179117,0.226987,0.144904,0.161079,0.334571,0.228858,0.200875,0.345779,0.441563,0.4148,0.22575,0.22258699999999998,0.207713,0.23695,0.11506199999999998,0.149883,0.113192,0.110704,0.126883,0.16231700000000002,0.121271,0.08955830000000001,0.11756199999999999,0.1163,0.19278299999999998,0.220775,0.386821,0.187192,0.291671,0.31965,0.138067,0.25061700000000003,0.172267,0.312139,0.100133,0.180975,0.219529,0.300388,0.274871,0.232596,0.358196,0.249375,0.295274,0.290429,0.155471,0.190917,0.225129,0.284829,0.273629,0.16791199999999998,0.0659292,0.149871,0.283587,0.344546,0.303496,0.249383,0.11879200000000001,0.176625,0.34763299999999997,0.129975,0.116908,0.171638,0.156096,0.138058,0.133696,0.162938,0.15299200000000002,0.14987899999999998,0.230721,0.296029,0.216412,0.31406300000000004,0.23693699999999998,0.12313299999999999,0.225117,0.21269200000000002,0.147392,0.122512,0.229475,0.136817,0.083975,0.254367,0.233204,0.11816700000000001,0.102,0.172896,0.14055,0.198992,0.215171,0.196521,0.2954,0.134329,0.195279,0.23756300000000002,0.18656199999999998,0.184087,0.284833,0.209575,0.077125,0.15735,0.17538299999999998,0.144287,0.133721,0.207713,0.21454600000000001,0.343279,0.253733,0.176617,0.166667,0.144904,0.174746,0.148017,0.11381199999999998,0.11878699999999999,0.182842,0.179721,0.145525,0.300383,0.347642,0.271775,0.17165,0.165417,0.161071,0.16852899999999998,0.195267,0.126237,0.13495,0.194029,0.146142,0.163554,0.125629,0.180975,0.15173699999999998,0.15173299999999998,0.146775,0.08085,0.143679,0.166667,0.164187,0.114429,0.137442,0.165429,0.208967,0.2133,0.09392080000000001,0.138683,0.211454,0.1648,0.28481300000000004,0.15299200000000002,0.15735,0.170396,0.153617,0.165425,0.141179,0.129354,0.215792,0.257458,0.290421,0.129354,0.116908,0.1107,0.1561,0.238813,0.206479,0.122512,0.136212,0.169158,0.169771,0.141796,0.231354,0.177867,0.08645,0.12997899999999998,0.07277080000000001,0.0702833,0.08459580000000001,0.07214580000000001,0.244408,0.228858,0.128733,0.190925,0.112562,0.0771167,0.168533,0.113187,0.06407080000000001,0.151121,0.236321,0.187808,0.142421,0.171646,0.281104,0.224496,0.258713,0.09205419999999999,0.131846,0.08272080000000001,0.10386300000000001,0.247521,0.09018330000000001,0.15174200000000002,0.357587,0.215175,0.11816700000000001,0.154229,0.283583,0.22325799999999998,0.142404,0.236321,0.2444,0.13434200000000002,0.164179,0.227604,0.134958,0.09080419999999999,0.104475,0.0665458,0.117546,0.10635,0.268025,0.14116199999999998,0.189679,0.1903,0.18782100000000002,0.181596,0.235092,0.146142,0.27861199999999997,0.296037,0.182221,0.101371,0.23693699999999998,0.134954,0.11753699999999999,0.166054,0.08148330000000001,0.09454580000000001,0.07277919999999999,0.124375,0.132467,0.235692,0.398008,0.3582,0.213009,0.166667,0.157346,0.266175,0.270529,0.179108,0.236325,0.173513,0.304108,0.347835,0.214558,0.05784580000000001,0.1275,0.173517,0.342046,0.199625,0.15298699999999998,0.171025,0.179729,0.22761199999999998,0.235067,0.082725,0.103246,0.05287080000000001,0.148021,0.376871,0.1505,0.04665,0.237562,0.210821,0.115522,0.05847080000000001,0.05970419999999999,0.12437899999999999,0.08272080000000001,0.174129,0.324021,0.174754,0.1306,0.101379,0.157975,0.190308,0.296037,0.162937,0.174129,0.13122899999999998,0.10635,0.100742,0.0982583,0.221404,0.184092,0.132463,0.37438299999999997,0.407346,0.13308299999999998,0.07723039999999999,0.168726,0.316546,0.35013299999999997,0.155471,0.124383,0.350754,0.154846],\"xaxis\":\"x2\",\"y\":[331.0,131.0,120.0,108.0,82.0,88.0,148.0,68.0,54.0,41.0,43.0,25.0,38.0,54.0,222.0,251.0,117.0,9.0,78.0,83.0,75.0,93.0,150.0,86.0,186.0,34.0,15.0,38.0,123.0,140.0,42.0,47.0,72.0,61.0,88.0,100.0,354.0,120.0,64.0,53.0,47.0,149.0,288.0,397.0,208.0,140.0,218.0,259.0,579.0,532.0,639.0,195.0,74.0,139.0,100.0,120.0,424.0,694.0,81.0,137.0,231.0,123.0,214.0,640.0,114.0,244.0,316.0,191.0,46.0,247.0,724.0,982.0,359.0,289.0,321.0,424.0,884.0,1424.0,1047.0,401.0,460.0,203.0,166.0,300.0,981.0,472.0,222.0,317.0,168.0,179.0,307.0,898.0,1651.0,734.0,167.0,413.0,571.0,172.0,879.0,1188.0,855.0,257.0,209.0,529.0,642.0,121.0,1558.0,669.0,409.0,613.0,745.0,177.0,1462.0,1710.0,773.0,678.0,547.0,569.0,878.0,1965.0,1138.0,847.0,603.0,255.0,614.0,894.0,1612.0,1401.0,664.0,694.0,550.0,695.0,692.0,902.0,1582.0,773.0,678.0,536.0,735.0,909.0,2258.0,1576.0,836.0,659.0,740.0,758.0,871.0,2001.0,2355.0,1549.0,673.0,513.0,736.0,898.0,1869.0,1685.0,673.0,763.0,676.0,563.0,815.0,1729.0,1467.0,863.0,727.0,769.0,545.0,863.0,1807.0,1639.0,699.0,774.0,661.0,746.0,969.0,1782.0,1920.0,854.0,732.0,848.0,1027.0,1246.0,2204.0,2282.0,3065.0,1031.0,784.0,754.0,692.0,1988.0,1743.0,723.0,662.0,748.0,888.0,1318.0,2418.0,2006.0,841.0,752.0,644.0,632.0,562.0,987.0,1050.0,568.0,750.0,755.0,606.0,670.0,1559.0,1524.0,729.0,801.0,467.0,799.0,1023.0,1521.0,1298.0,846.0,907.0,884.0,812.0,1051.0,1504.0,1338.0,775.0,721.0,668.0,639.0,797.0,1914.0,1249.0,833.0,1281.0,949.0,435.0,768.0,226.0,1415.0,729.0,775.0,688.0,783.0,875.0,1935.0,2521.0,1236.0,204.0,118.0,153.0,417.0,1750.0,1633.0,690.0,701.0,647.0,428.0,742.0,1434.0,1353.0,691.0,438.0,539.0,555.0,258.0,1776.0,1544.0,684.0,477.0,480.0,653.0,830.0,480.0,616.0,330.0,486.0,559.0,639.0,949.0,2235.0,2397.0,1514.0,667.0,217.0,290.0,529.0,1899.0,1748.0,713.0,637.0,254.0,471.0,676.0,1499.0,1619.0,699.0,695.0,404.0,240.0,456.0,57.0,885.0,362.0,410.0,370.0,318.0,470.0,1156.0,952.0,373.0,376.0,305.0,190.0,440.0,1275.0,1004.0,595.0,449.0,145.0,139.0,245.0,943.0,787.0,220.0,69.0,112.0,560.0,1095.0,1249.0,810.0,253.0,96.0,188.0,182.0,268.0,706.0,634.0,233.0,126.0,50.0,150.0,261.0,502.0,377.0,143.0,155.0,178.0,181.0,178.0,275.0,220.0,260.0,216.0,107.0,227.0,163.0,155.0,303.0,430.0,103.0,255.0,254.0,491.0,665.0,686.0,244.0,89.0,95.0,140.0,307.0,1070.0,599.0,106.0,173.0,92.0,269.0,174.0,333.0,284.0,217.0,127.0,109.0,130.0,115.0,67.0,196.0,145.0,439.0,467.0,244.0,269.0,775.0,558.0,126.0,324.0,304.0,190.0,310.0,384.0,318.0,206.0,199.0,109.0,163.0,227.0,192.0,73.0,94.0,135.0,141.0,74.0,349.0,1435.0,618.0,502.0,163.0,394.0,516.0,246.0,317.0,515.0,253.0,229.0,65.0,325.0,246.0,956.0,710.0,203.0,221.0,432.0,486.0,447.0,968.0,1658.0,838.0,762.0,997.0,1005.0,548.0,3155.0,2207.0,982.0,1051.0,1122.0,1334.0,2469.0,1033.0,1532.0,795.0,531.0,674.0,834.0,796.0,2301.0,2347.0,1208.0,1348.0,1058.0,1192.0,1807.0,3252.0,2230.0,905.0,819.0,482.0,663.0,1252.0,2795.0,2846.0,1198.0,989.0,347.0,846.0,1340.0,2541.0,120.0,195.0,518.0,655.0,475.0,1014.0,1120.0,2229.0,665.0,653.0,667.0,764.0,1069.0,2496.0,2135.0,1008.0,738.0,620.0,1026.0,1319.0,2622.0,2172.0,342.0,625.0,991.0,1242.0,1521.0,3410.0,2704.0,630.0,819.0,766.0,1059.0,1417.0,2855.0,3283.0,2557.0,880.0,745.0,1100.0,533.0,2795.0,2494.0,1071.0,968.0,1027.0,1038.0,1488.0,2708.0,2224.0,1017.0,477.0,1173.0,1180.0,1563.0,2963.0,2634.0,653.0,968.0,872.0,778.0,964.0,2657.0,2551.0,1139.0,1077.0,1077.0,921.0,829.0,1455.0,1421.0,904.0,1052.0,2562.0,1405.0,1366.0,1448.0,1203.0,998.0,954.0,975.0,1032.0,1511.0,2355.0,1920.0,1088.0,921.0,799.0,888.0,747.0,1264.0,2544.0,1135.0,1140.0,1383.0,1036.0,1259.0,2234.0,2153.0,1040.0,968.0,1074.0,983.0,1328.0,2345.0,1707.0,1233.0,1278.0,1263.0,1196.0,1065.0,2247.0,2182.0,1207.0,1128.0,1198.0,1338.0,1483.0,2827.0,1208.0,1026.0,1081.0,1094.0,1363.0,1325.0,1829.0,1483.0,989.0,935.0,1177.0,1172.0,1433.0,2352.0,2613.0,1965.0,867.0,832.0,611.0,1045.0,1557.0,2570.0,1118.0,1070.0,1050.0,1054.0,1379.0,3160.0,2166.0,1022.0,371.0,788.0,939.0,1250.0,2512.0,2454.0,1001.0,845.0,787.0,751.0,1045.0,2589.0,2015.0,763.0,315.0,728.0,891.0,1516.0,3031.0,781.0,874.0,601.0,780.0,834.0,1060.0,2252.0,2080.0,760.0,922.0,979.0,1008.0,753.0,2806.0,2132.0,830.0,841.0,795.0,875.0,1182.0,2643.0,998.0,2.0,87.0,419.0,466.0,618.0,1029.0,1201.0,378.0,466.0,326.0,340.0,709.0,2090.0,2290.0,1097.0,327.0,373.0,320.0,484.0,1313.0,922.0,449.0,534.0,615.0,955.0,1603.0,532.0,309.0,337.0,123.0,198.0,243.0,362.0,951.0,892.0,555.0,551.0,331.0,340.0,349.0,1153.0,441.0,329.0,282.0,310.0,425.0,429.0,767.0,538.0,212.0,433.0,333.0,314.0,221.0,205.0,408.0,174.0,440.0,9.0,247.0,644.0,159.0,364.0,439.0],\"yaxis\":\"y2\",\"type\":\"scattergl\"}],                        {\"template\":{\"data\":{\"bar\":[{\"error_x\":{\"color\":\"#2a3f5f\"},\"error_y\":{\"color\":\"#2a3f5f\"},\"marker\":{\"line\":{\"color\":\"#E5ECF6\",\"width\":0.5},\"pattern\":{\"fillmode\":\"overlay\",\"size\":10,\"solidity\":0.2}},\"type\":\"bar\"}],\"barpolar\":[{\"marker\":{\"line\":{\"color\":\"#E5ECF6\",\"width\":0.5},\"pattern\":{\"fillmode\":\"overlay\",\"size\":10,\"solidity\":0.2}},\"type\":\"barpolar\"}],\"carpet\":[{\"aaxis\":{\"endlinecolor\":\"#2a3f5f\",\"gridcolor\":\"white\",\"linecolor\":\"white\",\"minorgridcolor\":\"white\",\"startlinecolor\":\"#2a3f5f\"},\"baxis\":{\"endlinecolor\":\"#2a3f5f\",\"gridcolor\":\"white\",\"linecolor\":\"white\",\"minorgridcolor\":\"white\",\"startlinecolor\":\"#2a3f5f\"},\"type\":\"carpet\"}],\"choropleth\":[{\"colorbar\":{\"outlinewidth\":0,\"ticks\":\"\"},\"type\":\"choropleth\"}],\"contour\":[{\"colorbar\":{\"outlinewidth\":0,\"ticks\":\"\"},\"colorscale\":[[0.0,\"#0d0887\"],[0.1111111111111111,\"#46039f\"],[0.2222222222222222,\"#7201a8\"],[0.3333333333333333,\"#9c179e\"],[0.4444444444444444,\"#bd3786\"],[0.5555555555555556,\"#d8576b\"],[0.6666666666666666,\"#ed7953\"],[0.7777777777777778,\"#fb9f3a\"],[0.8888888888888888,\"#fdca26\"],[1.0,\"#f0f921\"]],\"type\":\"contour\"}],\"contourcarpet\":[{\"colorbar\":{\"outlinewidth\":0,\"ticks\":\"\"},\"type\":\"contourcarpet\"}],\"heatmap\":[{\"colorbar\":{\"outlinewidth\":0,\"ticks\":\"\"},\"colorscale\":[[0.0,\"#0d0887\"],[0.1111111111111111,\"#46039f\"],[0.2222222222222222,\"#7201a8\"],[0.3333333333333333,\"#9c179e\"],[0.4444444444444444,\"#bd3786\"],[0.5555555555555556,\"#d8576b\"],[0.6666666666666666,\"#ed7953\"],[0.7777777777777778,\"#fb9f3a\"],[0.8888888888888888,\"#fdca26\"],[1.0,\"#f0f921\"]],\"type\":\"heatmap\"}],\"heatmapgl\":[{\"colorbar\":{\"outlinewidth\":0,\"ticks\":\"\"},\"colorscale\":[[0.0,\"#0d0887\"],[0.1111111111111111,\"#46039f\"],[0.2222222222222222,\"#7201a8\"],[0.3333333333333333,\"#9c179e\"],[0.4444444444444444,\"#bd3786\"],[0.5555555555555556,\"#d8576b\"],[0.6666666666666666,\"#ed7953\"],[0.7777777777777778,\"#fb9f3a\"],[0.8888888888888888,\"#fdca26\"],[1.0,\"#f0f921\"]],\"type\":\"heatmapgl\"}],\"histogram\":[{\"marker\":{\"pattern\":{\"fillmode\":\"overlay\",\"size\":10,\"solidity\":0.2}},\"type\":\"histogram\"}],\"histogram2d\":[{\"colorbar\":{\"outlinewidth\":0,\"ticks\":\"\"},\"colorscale\":[[0.0,\"#0d0887\"],[0.1111111111111111,\"#46039f\"],[0.2222222222222222,\"#7201a8\"],[0.3333333333333333,\"#9c179e\"],[0.4444444444444444,\"#bd3786\"],[0.5555555555555556,\"#d8576b\"],[0.6666666666666666,\"#ed7953\"],[0.7777777777777778,\"#fb9f3a\"],[0.8888888888888888,\"#fdca26\"],[1.0,\"#f0f921\"]],\"type\":\"histogram2d\"}],\"histogram2dcontour\":[{\"colorbar\":{\"outlinewidth\":0,\"ticks\":\"\"},\"colorscale\":[[0.0,\"#0d0887\"],[0.1111111111111111,\"#46039f\"],[0.2222222222222222,\"#7201a8\"],[0.3333333333333333,\"#9c179e\"],[0.4444444444444444,\"#bd3786\"],[0.5555555555555556,\"#d8576b\"],[0.6666666666666666,\"#ed7953\"],[0.7777777777777778,\"#fb9f3a\"],[0.8888888888888888,\"#fdca26\"],[1.0,\"#f0f921\"]],\"type\":\"histogram2dcontour\"}],\"mesh3d\":[{\"colorbar\":{\"outlinewidth\":0,\"ticks\":\"\"},\"type\":\"mesh3d\"}],\"parcoords\":[{\"line\":{\"colorbar\":{\"outlinewidth\":0,\"ticks\":\"\"}},\"type\":\"parcoords\"}],\"pie\":[{\"automargin\":true,\"type\":\"pie\"}],\"scatter\":[{\"marker\":{\"colorbar\":{\"outlinewidth\":0,\"ticks\":\"\"}},\"type\":\"scatter\"}],\"scatter3d\":[{\"line\":{\"colorbar\":{\"outlinewidth\":0,\"ticks\":\"\"}},\"marker\":{\"colorbar\":{\"outlinewidth\":0,\"ticks\":\"\"}},\"type\":\"scatter3d\"}],\"scattercarpet\":[{\"marker\":{\"colorbar\":{\"outlinewidth\":0,\"ticks\":\"\"}},\"type\":\"scattercarpet\"}],\"scattergeo\":[{\"marker\":{\"colorbar\":{\"outlinewidth\":0,\"ticks\":\"\"}},\"type\":\"scattergeo\"}],\"scattergl\":[{\"marker\":{\"colorbar\":{\"outlinewidth\":0,\"ticks\":\"\"}},\"type\":\"scattergl\"}],\"scattermapbox\":[{\"marker\":{\"colorbar\":{\"outlinewidth\":0,\"ticks\":\"\"}},\"type\":\"scattermapbox\"}],\"scatterpolar\":[{\"marker\":{\"colorbar\":{\"outlinewidth\":0,\"ticks\":\"\"}},\"type\":\"scatterpolar\"}],\"scatterpolargl\":[{\"marker\":{\"colorbar\":{\"outlinewidth\":0,\"ticks\":\"\"}},\"type\":\"scatterpolargl\"}],\"scatterternary\":[{\"marker\":{\"colorbar\":{\"outlinewidth\":0,\"ticks\":\"\"}},\"type\":\"scatterternary\"}],\"surface\":[{\"colorbar\":{\"outlinewidth\":0,\"ticks\":\"\"},\"colorscale\":[[0.0,\"#0d0887\"],[0.1111111111111111,\"#46039f\"],[0.2222222222222222,\"#7201a8\"],[0.3333333333333333,\"#9c179e\"],[0.4444444444444444,\"#bd3786\"],[0.5555555555555556,\"#d8576b\"],[0.6666666666666666,\"#ed7953\"],[0.7777777777777778,\"#fb9f3a\"],[0.8888888888888888,\"#fdca26\"],[1.0,\"#f0f921\"]],\"type\":\"surface\"}],\"table\":[{\"cells\":{\"fill\":{\"color\":\"#EBF0F8\"},\"line\":{\"color\":\"white\"}},\"header\":{\"fill\":{\"color\":\"#C8D4E3\"},\"line\":{\"color\":\"white\"}},\"type\":\"table\"}]},\"layout\":{\"annotationdefaults\":{\"arrowcolor\":\"#2a3f5f\",\"arrowhead\":0,\"arrowwidth\":1},\"autotypenumbers\":\"strict\",\"coloraxis\":{\"colorbar\":{\"outlinewidth\":0,\"ticks\":\"\"}},\"colorscale\":{\"diverging\":[[0,\"#8e0152\"],[0.1,\"#c51b7d\"],[0.2,\"#de77ae\"],[0.3,\"#f1b6da\"],[0.4,\"#fde0ef\"],[0.5,\"#f7f7f7\"],[0.6,\"#e6f5d0\"],[0.7,\"#b8e186\"],[0.8,\"#7fbc41\"],[0.9,\"#4d9221\"],[1,\"#276419\"]],\"sequential\":[[0.0,\"#0d0887\"],[0.1111111111111111,\"#46039f\"],[0.2222222222222222,\"#7201a8\"],[0.3333333333333333,\"#9c179e\"],[0.4444444444444444,\"#bd3786\"],[0.5555555555555556,\"#d8576b\"],[0.6666666666666666,\"#ed7953\"],[0.7777777777777778,\"#fb9f3a\"],[0.8888888888888888,\"#fdca26\"],[1.0,\"#f0f921\"]],\"sequentialminus\":[[0.0,\"#0d0887\"],[0.1111111111111111,\"#46039f\"],[0.2222222222222222,\"#7201a8\"],[0.3333333333333333,\"#9c179e\"],[0.4444444444444444,\"#bd3786\"],[0.5555555555555556,\"#d8576b\"],[0.6666666666666666,\"#ed7953\"],[0.7777777777777778,\"#fb9f3a\"],[0.8888888888888888,\"#fdca26\"],[1.0,\"#f0f921\"]]},\"colorway\":[\"#636efa\",\"#EF553B\",\"#00cc96\",\"#ab63fa\",\"#FFA15A\",\"#19d3f3\",\"#FF6692\",\"#B6E880\",\"#FF97FF\",\"#FECB52\"],\"font\":{\"color\":\"#2a3f5f\"},\"geo\":{\"bgcolor\":\"white\",\"lakecolor\":\"white\",\"landcolor\":\"#E5ECF6\",\"showlakes\":true,\"showland\":true,\"subunitcolor\":\"white\"},\"hoverlabel\":{\"align\":\"left\"},\"hovermode\":\"closest\",\"mapbox\":{\"style\":\"light\"},\"paper_bgcolor\":\"white\",\"plot_bgcolor\":\"#E5ECF6\",\"polar\":{\"angularaxis\":{\"gridcolor\":\"white\",\"linecolor\":\"white\",\"ticks\":\"\"},\"bgcolor\":\"#E5ECF6\",\"radialaxis\":{\"gridcolor\":\"white\",\"linecolor\":\"white\",\"ticks\":\"\"}},\"scene\":{\"xaxis\":{\"backgroundcolor\":\"#E5ECF6\",\"gridcolor\":\"white\",\"gridwidth\":2,\"linecolor\":\"white\",\"showbackground\":true,\"ticks\":\"\",\"zerolinecolor\":\"white\"},\"yaxis\":{\"backgroundcolor\":\"#E5ECF6\",\"gridcolor\":\"white\",\"gridwidth\":2,\"linecolor\":\"white\",\"showbackground\":true,\"ticks\":\"\",\"zerolinecolor\":\"white\"},\"zaxis\":{\"backgroundcolor\":\"#E5ECF6\",\"gridcolor\":\"white\",\"gridwidth\":2,\"linecolor\":\"white\",\"showbackground\":true,\"ticks\":\"\",\"zerolinecolor\":\"white\"}},\"shapedefaults\":{\"line\":{\"color\":\"#2a3f5f\"}},\"ternary\":{\"aaxis\":{\"gridcolor\":\"white\",\"linecolor\":\"white\",\"ticks\":\"\"},\"baxis\":{\"gridcolor\":\"white\",\"linecolor\":\"white\",\"ticks\":\"\"},\"bgcolor\":\"#E5ECF6\",\"caxis\":{\"gridcolor\":\"white\",\"linecolor\":\"white\",\"ticks\":\"\"}},\"title\":{\"x\":0.05},\"xaxis\":{\"automargin\":true,\"gridcolor\":\"white\",\"linecolor\":\"white\",\"ticks\":\"\",\"title\":{\"standoff\":15},\"zerolinecolor\":\"white\",\"zerolinewidth\":2},\"yaxis\":{\"automargin\":true,\"gridcolor\":\"white\",\"linecolor\":\"white\",\"ticks\":\"\",\"title\":{\"standoff\":15},\"zerolinecolor\":\"white\",\"zerolinewidth\":2}}},\"xaxis\":{\"anchor\":\"y\",\"domain\":[0.0,0.49],\"title\":{\"text\":\"value\"}},\"yaxis\":{\"anchor\":\"x\",\"domain\":[0.0,0.46499999999999997],\"title\":{\"text\":\"casual\"}},\"xaxis2\":{\"anchor\":\"y2\",\"domain\":[0.51,1.0],\"matches\":\"x\",\"title\":{\"text\":\"value\"}},\"yaxis2\":{\"anchor\":\"x2\",\"domain\":[0.0,0.46499999999999997],\"matches\":\"y\",\"showticklabels\":false},\"xaxis3\":{\"anchor\":\"y3\",\"domain\":[0.0,0.49],\"matches\":\"x\",\"showticklabels\":false},\"yaxis3\":{\"anchor\":\"x3\",\"domain\":[0.5349999999999999,0.9999999999999999],\"matches\":\"y\",\"title\":{\"text\":\"casual\"}},\"xaxis4\":{\"anchor\":\"y4\",\"domain\":[0.51,1.0],\"matches\":\"x\",\"showticklabels\":false},\"yaxis4\":{\"anchor\":\"x4\",\"domain\":[0.5349999999999999,0.9999999999999999],\"matches\":\"y\",\"showticklabels\":false},\"annotations\":[{\"font\":{},\"showarrow\":false,\"text\":\"var=hum\",\"x\":0.245,\"xanchor\":\"center\",\"xref\":\"paper\",\"y\":0.46499999999999997,\"yanchor\":\"bottom\",\"yref\":\"paper\"},{\"font\":{},\"showarrow\":false,\"text\":\"var=windspeed\",\"x\":0.755,\"xanchor\":\"center\",\"xref\":\"paper\",\"y\":0.46499999999999997,\"yanchor\":\"bottom\",\"yref\":\"paper\"},{\"font\":{},\"showarrow\":false,\"text\":\"var=temp\",\"x\":0.245,\"xanchor\":\"center\",\"xref\":\"paper\",\"y\":0.9999999999999999,\"yanchor\":\"bottom\",\"yref\":\"paper\"},{\"font\":{},\"showarrow\":false,\"text\":\"var=atemp\",\"x\":0.755,\"xanchor\":\"center\",\"xref\":\"paper\",\"y\":0.9999999999999999,\"yanchor\":\"bottom\",\"yref\":\"paper\"}],\"legend\":{\"title\":{\"text\":\"var\"},\"tracegroupgap\":0},\"margin\":{\"t\":60},\"width\":1200,\"title\":{\"text\":\"climate variables vs user count (casual)\",\"x\":0.5,\"xanchor\":\"center\",\"yanchor\":\"middle\"}},                        {\"responsive\": true}                    ).then(function(){\n",
              "                            \n",
              "var gd = document.getElementById('07f2e7bd-6bd7-4120-8086-8e167869aee6');\n",
              "var x = new MutationObserver(function (mutations, observer) {{\n",
              "        var display = window.getComputedStyle(gd).display;\n",
              "        if (!display || display === 'none') {{\n",
              "            console.log([gd, 'removed!']);\n",
              "            Plotly.purge(gd);\n",
              "            observer.disconnect();\n",
              "        }}\n",
              "}});\n",
              "\n",
              "// Listen for the removal of the full notebook cells\n",
              "var notebookContainer = gd.closest('#notebook-container');\n",
              "if (notebookContainer) {{\n",
              "    x.observe(notebookContainer, {childList: true});\n",
              "}}\n",
              "\n",
              "// Listen for the clearing of the current output cell\n",
              "var outputEl = gd.closest('.output');\n",
              "if (outputEl) {{\n",
              "    x.observe(outputEl, {childList: true});\n",
              "}}\n",
              "\n",
              "                        })                };                            </script>        </div>\n",
              "</body>\n",
              "</html>"
            ]
          },
          "metadata": {},
          "output_type": "display_data"
        }
      ],
      "metadata": {
        "execution": {
          "iopub.status.busy": "2021-11-10T01:41:34.245321Z",
          "iopub.execute_input": "2021-11-10T01:41:34.245542Z",
          "iopub.status.idle": "2021-11-10T01:41:35.311105Z",
          "shell.execute_reply.started": "2021-11-10T01:41:34.245516Z",
          "shell.execute_reply": "2021-11-10T01:41:35.310516Z"
        },
        "trusted": true,
        "colab": {
          "base_uri": "https://localhost:8080/",
          "height": 542
        },
        "cellView": "form",
        "id": "OdOfe5h9jJTF",
        "outputId": "8be4f00b-6938-4bc5-c580-5c9f00ed39f1"
      }
    },
    {
      "cell_type": "markdown",
      "source": [
        "Em relação aos gráficos quebrados em bins, vemos muitas semelhanças do comportamento dos usuários casuais comparados ao total, inclusive nas faixas de preferência em que o número de usuários cresce significativamente."
      ],
      "metadata": {
        "id": "FhhaJNLRjJTG"
      }
    },
    {
      "cell_type": "code",
      "execution_count": 20,
      "source": [
        "#@title\n",
        "columns = ['temp','atemp','hum','windspeed']\n",
        "multipliers = {'temp':41,'atemp':50,'hum':100,'windspeed':67}\n",
        "dfs_for_each_var = {}\n",
        "traces = []\n",
        "import plotly.graph_objects as go\n",
        "from plotly.subplots import make_subplots\n",
        "for column in columns:\n",
        "    aux_df = df.copy()\n",
        "    aux_df[column+'_cut'] = pd.cut(aux_df[column],bins=[i/20 for i in range(0,21)])\n",
        "    hist_values = aux_df[column+'_cut'].value_counts().sort_index().values\n",
        "    aux_df = aux_df[[column+'_cut', 'casual']].groupby(column+\"_cut\")['casual'].agg(['sum','count']).reset_index()\n",
        "    aux_df['users/day'] = aux_df.apply(lambda row : float(\"{:.2f}\".format(row['sum']/row['count'])) if row['count']>0 else 0, axis = 1)\n",
        "    aux_df[column+'_cut'] = aux_df[column+'_cut'].astype(str)\n",
        "    x_labels = aux_df[column+'_cut'].apply(lambda x: x.split(\", \")[-1].replace(\"]\",\"\")).apply(lambda x: float(x)*multipliers[column]).apply(lambda x: \"{:.2f}\".format(x))\n",
        "    traces.append(go.Bar(x=x_labels, y=aux_df['users/day'], text = aux_df['users/day'],name=column))\n",
        "    traces.append(go.Bar(x=x_labels, y=hist_values, text = hist_values,name=None))\n",
        "    \n",
        "fig = make_subplots(rows=2,cols=2, subplot_titles = [traces[i]['name'] for i in [0,2,1,3]],vertical_spacing=0.03)\n",
        "fig.append_trace(traces[0],1,1)\n",
        "fig.append_trace(traces[1],2,1)\n",
        "fig.append_trace(traces[2],1,2)\n",
        "fig.append_trace(traces[3],2,2)\n",
        "fig.update_layout(height=600, width=1200)\n",
        "fig.update_layout(\n",
        "    title={\n",
        "        'text': \"Continuous vars vs user/day (casual)\",\n",
        "        'x':0.5,\n",
        "        'xanchor': 'center',\n",
        "        'yanchor': 'middle'},\n",
        "    showlegend=False\n",
        "        )\n",
        "yaxes = [\"users/day\",\"users/day\",\"#days\",\"#days\"]\n",
        "for i in range(4):\n",
        "  if yaxes[i] == \"users/day\":\n",
        "    fig['layout']['xaxis'+str(i+1)]['visible'] = False\n",
        "  fig['layout']['yaxis'+str(i+1)]['title'] = yaxes[i]\n",
        "\n",
        "fig.update_traces(texttemplate='%{text:.2s}')\n",
        "fig.show()"
      ],
      "outputs": [
        {
          "data": {
            "text/html": [
              "<html>\n",
              "<head><meta charset=\"utf-8\" /></head>\n",
              "<body>\n",
              "    <div>            <script src=\"https://cdnjs.cloudflare.com/ajax/libs/mathjax/2.7.5/MathJax.js?config=TeX-AMS-MML_SVG\"></script><script type=\"text/javascript\">if (window.MathJax) {MathJax.Hub.Config({SVG: {font: \"STIX-Web\"}});}</script>                <script type=\"text/javascript\">window.PlotlyConfig = {MathJaxConfig: 'local'};</script>\n",
              "        <script src=\"https://cdn.plot.ly/plotly-2.6.3.min.js\"></script>                <div id=\"3b3dd364-448a-4b83-adf9-c57f9e4cb8be\" class=\"plotly-graph-div\" style=\"height:600px; width:1200px;\"></div>            <script type=\"text/javascript\">                                    window.PLOTLYENV=window.PLOTLYENV || {};                                    if (document.getElementById(\"3b3dd364-448a-4b83-adf9-c57f9e4cb8be\")) {                    Plotly.newPlot(                        \"3b3dd364-448a-4b83-adf9-c57f9e4cb8be\",                        [{\"name\":\"temp\",\"text\":[0.0,109.67,68.5,107.92,169.55,315.62,473.07,597.23,715.2,963.6,1060.64,1141.98,1202.61,1306.57,1303.3,1096.38,1031.33,1448.0,0.0,0.0],\"x\":[\"2.05\",\"4.10\",\"6.15\",\"8.20\",\"10.25\",\"12.30\",\"14.35\",\"16.40\",\"18.45\",\"20.50\",\"22.55\",\"24.60\",\"26.65\",\"28.70\",\"30.75\",\"32.80\",\"34.85\",\"36.90\",\"38.95\",\"41.00\"],\"y\":[0.0,109.67,68.5,107.92,169.55,315.62,473.07,597.23,715.2,963.6,1060.64,1141.98,1202.61,1306.57,1303.3,1096.38,1031.33,1448.0,0.0,0.0],\"type\":\"bar\",\"xaxis\":\"x\",\"yaxis\":\"y\",\"texttemplate\":\"%{text:.2s}\"},{\"text\":[0.0,3.0,6.0,25.0,29.0,72.0,69.0,57.0,56.0,50.0,59.0,51.0,64.0,61.0,76.0,37.0,15.0,1.0,0.0,0.0],\"x\":[\"2.05\",\"4.10\",\"6.15\",\"8.20\",\"10.25\",\"12.30\",\"14.35\",\"16.40\",\"18.45\",\"20.50\",\"22.55\",\"24.60\",\"26.65\",\"28.70\",\"30.75\",\"32.80\",\"34.85\",\"36.90\",\"38.95\",\"41.00\"],\"y\":[0,3,6,25,29,72,69,57,56,50,59,51,64,61,76,37,15,1,0,0],\"type\":\"bar\",\"xaxis\":\"x3\",\"yaxis\":\"y3\",\"texttemplate\":\"%{text:.2s}\"},{\"name\":\"atemp\",\"text\":[0.0,121.5,71.0,107.84,197.39,301.16,455.69,622.99,724.49,948.25,1075.15,1221.03,1335.22,1271.41,1062.68,1141.0,907.25,0.0,0.0,0.0],\"x\":[\"2.50\",\"5.00\",\"7.50\",\"10.00\",\"12.50\",\"15.00\",\"17.50\",\"20.00\",\"22.50\",\"25.00\",\"27.50\",\"30.00\",\"32.50\",\"35.00\",\"37.50\",\"40.00\",\"42.50\",\"45.00\",\"47.50\",\"50.00\"],\"y\":[0.0,121.5,71.0,107.84,197.39,301.16,455.69,622.99,724.49,948.25,1075.15,1221.03,1335.22,1271.41,1062.68,1141.0,907.25,0.0,0.0,0.0],\"type\":\"bar\",\"xaxis\":\"x2\",\"yaxis\":\"y2\",\"texttemplate\":\"%{text:.2s}\"},{\"text\":[0.0,2.0,7.0,19.0,38.0,67.0,65.0,67.0,57.0,55.0,79.0,77.0,73.0,73.0,37.0,11.0,4.0,0.0,0.0,0.0],\"x\":[\"2.50\",\"5.00\",\"7.50\",\"10.00\",\"12.50\",\"15.00\",\"17.50\",\"20.00\",\"22.50\",\"25.00\",\"27.50\",\"30.00\",\"32.50\",\"35.00\",\"37.50\",\"40.00\",\"42.50\",\"45.00\",\"47.50\",\"50.00\"],\"y\":[0,2,7,19,38,67,65,67,57,55,79,77,73,73,37,11,4,0,0,0],\"type\":\"bar\",\"xaxis\":\"x4\",\"yaxis\":\"y4\",\"texttemplate\":\"%{text:.2s}\"}],                        {\"template\":{\"data\":{\"bar\":[{\"error_x\":{\"color\":\"#2a3f5f\"},\"error_y\":{\"color\":\"#2a3f5f\"},\"marker\":{\"line\":{\"color\":\"#E5ECF6\",\"width\":0.5},\"pattern\":{\"fillmode\":\"overlay\",\"size\":10,\"solidity\":0.2}},\"type\":\"bar\"}],\"barpolar\":[{\"marker\":{\"line\":{\"color\":\"#E5ECF6\",\"width\":0.5},\"pattern\":{\"fillmode\":\"overlay\",\"size\":10,\"solidity\":0.2}},\"type\":\"barpolar\"}],\"carpet\":[{\"aaxis\":{\"endlinecolor\":\"#2a3f5f\",\"gridcolor\":\"white\",\"linecolor\":\"white\",\"minorgridcolor\":\"white\",\"startlinecolor\":\"#2a3f5f\"},\"baxis\":{\"endlinecolor\":\"#2a3f5f\",\"gridcolor\":\"white\",\"linecolor\":\"white\",\"minorgridcolor\":\"white\",\"startlinecolor\":\"#2a3f5f\"},\"type\":\"carpet\"}],\"choropleth\":[{\"colorbar\":{\"outlinewidth\":0,\"ticks\":\"\"},\"type\":\"choropleth\"}],\"contour\":[{\"colorbar\":{\"outlinewidth\":0,\"ticks\":\"\"},\"colorscale\":[[0.0,\"#0d0887\"],[0.1111111111111111,\"#46039f\"],[0.2222222222222222,\"#7201a8\"],[0.3333333333333333,\"#9c179e\"],[0.4444444444444444,\"#bd3786\"],[0.5555555555555556,\"#d8576b\"],[0.6666666666666666,\"#ed7953\"],[0.7777777777777778,\"#fb9f3a\"],[0.8888888888888888,\"#fdca26\"],[1.0,\"#f0f921\"]],\"type\":\"contour\"}],\"contourcarpet\":[{\"colorbar\":{\"outlinewidth\":0,\"ticks\":\"\"},\"type\":\"contourcarpet\"}],\"heatmap\":[{\"colorbar\":{\"outlinewidth\":0,\"ticks\":\"\"},\"colorscale\":[[0.0,\"#0d0887\"],[0.1111111111111111,\"#46039f\"],[0.2222222222222222,\"#7201a8\"],[0.3333333333333333,\"#9c179e\"],[0.4444444444444444,\"#bd3786\"],[0.5555555555555556,\"#d8576b\"],[0.6666666666666666,\"#ed7953\"],[0.7777777777777778,\"#fb9f3a\"],[0.8888888888888888,\"#fdca26\"],[1.0,\"#f0f921\"]],\"type\":\"heatmap\"}],\"heatmapgl\":[{\"colorbar\":{\"outlinewidth\":0,\"ticks\":\"\"},\"colorscale\":[[0.0,\"#0d0887\"],[0.1111111111111111,\"#46039f\"],[0.2222222222222222,\"#7201a8\"],[0.3333333333333333,\"#9c179e\"],[0.4444444444444444,\"#bd3786\"],[0.5555555555555556,\"#d8576b\"],[0.6666666666666666,\"#ed7953\"],[0.7777777777777778,\"#fb9f3a\"],[0.8888888888888888,\"#fdca26\"],[1.0,\"#f0f921\"]],\"type\":\"heatmapgl\"}],\"histogram\":[{\"marker\":{\"pattern\":{\"fillmode\":\"overlay\",\"size\":10,\"solidity\":0.2}},\"type\":\"histogram\"}],\"histogram2d\":[{\"colorbar\":{\"outlinewidth\":0,\"ticks\":\"\"},\"colorscale\":[[0.0,\"#0d0887\"],[0.1111111111111111,\"#46039f\"],[0.2222222222222222,\"#7201a8\"],[0.3333333333333333,\"#9c179e\"],[0.4444444444444444,\"#bd3786\"],[0.5555555555555556,\"#d8576b\"],[0.6666666666666666,\"#ed7953\"],[0.7777777777777778,\"#fb9f3a\"],[0.8888888888888888,\"#fdca26\"],[1.0,\"#f0f921\"]],\"type\":\"histogram2d\"}],\"histogram2dcontour\":[{\"colorbar\":{\"outlinewidth\":0,\"ticks\":\"\"},\"colorscale\":[[0.0,\"#0d0887\"],[0.1111111111111111,\"#46039f\"],[0.2222222222222222,\"#7201a8\"],[0.3333333333333333,\"#9c179e\"],[0.4444444444444444,\"#bd3786\"],[0.5555555555555556,\"#d8576b\"],[0.6666666666666666,\"#ed7953\"],[0.7777777777777778,\"#fb9f3a\"],[0.8888888888888888,\"#fdca26\"],[1.0,\"#f0f921\"]],\"type\":\"histogram2dcontour\"}],\"mesh3d\":[{\"colorbar\":{\"outlinewidth\":0,\"ticks\":\"\"},\"type\":\"mesh3d\"}],\"parcoords\":[{\"line\":{\"colorbar\":{\"outlinewidth\":0,\"ticks\":\"\"}},\"type\":\"parcoords\"}],\"pie\":[{\"automargin\":true,\"type\":\"pie\"}],\"scatter\":[{\"marker\":{\"colorbar\":{\"outlinewidth\":0,\"ticks\":\"\"}},\"type\":\"scatter\"}],\"scatter3d\":[{\"line\":{\"colorbar\":{\"outlinewidth\":0,\"ticks\":\"\"}},\"marker\":{\"colorbar\":{\"outlinewidth\":0,\"ticks\":\"\"}},\"type\":\"scatter3d\"}],\"scattercarpet\":[{\"marker\":{\"colorbar\":{\"outlinewidth\":0,\"ticks\":\"\"}},\"type\":\"scattercarpet\"}],\"scattergeo\":[{\"marker\":{\"colorbar\":{\"outlinewidth\":0,\"ticks\":\"\"}},\"type\":\"scattergeo\"}],\"scattergl\":[{\"marker\":{\"colorbar\":{\"outlinewidth\":0,\"ticks\":\"\"}},\"type\":\"scattergl\"}],\"scattermapbox\":[{\"marker\":{\"colorbar\":{\"outlinewidth\":0,\"ticks\":\"\"}},\"type\":\"scattermapbox\"}],\"scatterpolar\":[{\"marker\":{\"colorbar\":{\"outlinewidth\":0,\"ticks\":\"\"}},\"type\":\"scatterpolar\"}],\"scatterpolargl\":[{\"marker\":{\"colorbar\":{\"outlinewidth\":0,\"ticks\":\"\"}},\"type\":\"scatterpolargl\"}],\"scatterternary\":[{\"marker\":{\"colorbar\":{\"outlinewidth\":0,\"ticks\":\"\"}},\"type\":\"scatterternary\"}],\"surface\":[{\"colorbar\":{\"outlinewidth\":0,\"ticks\":\"\"},\"colorscale\":[[0.0,\"#0d0887\"],[0.1111111111111111,\"#46039f\"],[0.2222222222222222,\"#7201a8\"],[0.3333333333333333,\"#9c179e\"],[0.4444444444444444,\"#bd3786\"],[0.5555555555555556,\"#d8576b\"],[0.6666666666666666,\"#ed7953\"],[0.7777777777777778,\"#fb9f3a\"],[0.8888888888888888,\"#fdca26\"],[1.0,\"#f0f921\"]],\"type\":\"surface\"}],\"table\":[{\"cells\":{\"fill\":{\"color\":\"#EBF0F8\"},\"line\":{\"color\":\"white\"}},\"header\":{\"fill\":{\"color\":\"#C8D4E3\"},\"line\":{\"color\":\"white\"}},\"type\":\"table\"}]},\"layout\":{\"annotationdefaults\":{\"arrowcolor\":\"#2a3f5f\",\"arrowhead\":0,\"arrowwidth\":1},\"autotypenumbers\":\"strict\",\"coloraxis\":{\"colorbar\":{\"outlinewidth\":0,\"ticks\":\"\"}},\"colorscale\":{\"diverging\":[[0,\"#8e0152\"],[0.1,\"#c51b7d\"],[0.2,\"#de77ae\"],[0.3,\"#f1b6da\"],[0.4,\"#fde0ef\"],[0.5,\"#f7f7f7\"],[0.6,\"#e6f5d0\"],[0.7,\"#b8e186\"],[0.8,\"#7fbc41\"],[0.9,\"#4d9221\"],[1,\"#276419\"]],\"sequential\":[[0.0,\"#0d0887\"],[0.1111111111111111,\"#46039f\"],[0.2222222222222222,\"#7201a8\"],[0.3333333333333333,\"#9c179e\"],[0.4444444444444444,\"#bd3786\"],[0.5555555555555556,\"#d8576b\"],[0.6666666666666666,\"#ed7953\"],[0.7777777777777778,\"#fb9f3a\"],[0.8888888888888888,\"#fdca26\"],[1.0,\"#f0f921\"]],\"sequentialminus\":[[0.0,\"#0d0887\"],[0.1111111111111111,\"#46039f\"],[0.2222222222222222,\"#7201a8\"],[0.3333333333333333,\"#9c179e\"],[0.4444444444444444,\"#bd3786\"],[0.5555555555555556,\"#d8576b\"],[0.6666666666666666,\"#ed7953\"],[0.7777777777777778,\"#fb9f3a\"],[0.8888888888888888,\"#fdca26\"],[1.0,\"#f0f921\"]]},\"colorway\":[\"#636efa\",\"#EF553B\",\"#00cc96\",\"#ab63fa\",\"#FFA15A\",\"#19d3f3\",\"#FF6692\",\"#B6E880\",\"#FF97FF\",\"#FECB52\"],\"font\":{\"color\":\"#2a3f5f\"},\"geo\":{\"bgcolor\":\"white\",\"lakecolor\":\"white\",\"landcolor\":\"#E5ECF6\",\"showlakes\":true,\"showland\":true,\"subunitcolor\":\"white\"},\"hoverlabel\":{\"align\":\"left\"},\"hovermode\":\"closest\",\"mapbox\":{\"style\":\"light\"},\"paper_bgcolor\":\"white\",\"plot_bgcolor\":\"#E5ECF6\",\"polar\":{\"angularaxis\":{\"gridcolor\":\"white\",\"linecolor\":\"white\",\"ticks\":\"\"},\"bgcolor\":\"#E5ECF6\",\"radialaxis\":{\"gridcolor\":\"white\",\"linecolor\":\"white\",\"ticks\":\"\"}},\"scene\":{\"xaxis\":{\"backgroundcolor\":\"#E5ECF6\",\"gridcolor\":\"white\",\"gridwidth\":2,\"linecolor\":\"white\",\"showbackground\":true,\"ticks\":\"\",\"zerolinecolor\":\"white\"},\"yaxis\":{\"backgroundcolor\":\"#E5ECF6\",\"gridcolor\":\"white\",\"gridwidth\":2,\"linecolor\":\"white\",\"showbackground\":true,\"ticks\":\"\",\"zerolinecolor\":\"white\"},\"zaxis\":{\"backgroundcolor\":\"#E5ECF6\",\"gridcolor\":\"white\",\"gridwidth\":2,\"linecolor\":\"white\",\"showbackground\":true,\"ticks\":\"\",\"zerolinecolor\":\"white\"}},\"shapedefaults\":{\"line\":{\"color\":\"#2a3f5f\"}},\"ternary\":{\"aaxis\":{\"gridcolor\":\"white\",\"linecolor\":\"white\",\"ticks\":\"\"},\"baxis\":{\"gridcolor\":\"white\",\"linecolor\":\"white\",\"ticks\":\"\"},\"bgcolor\":\"#E5ECF6\",\"caxis\":{\"gridcolor\":\"white\",\"linecolor\":\"white\",\"ticks\":\"\"}},\"title\":{\"x\":0.05},\"xaxis\":{\"automargin\":true,\"gridcolor\":\"white\",\"linecolor\":\"white\",\"ticks\":\"\",\"title\":{\"standoff\":15},\"zerolinecolor\":\"white\",\"zerolinewidth\":2},\"yaxis\":{\"automargin\":true,\"gridcolor\":\"white\",\"linecolor\":\"white\",\"ticks\":\"\",\"title\":{\"standoff\":15},\"zerolinecolor\":\"white\",\"zerolinewidth\":2}}},\"xaxis\":{\"anchor\":\"y\",\"domain\":[0.0,0.45],\"visible\":false},\"yaxis\":{\"anchor\":\"x\",\"domain\":[0.515,1.0],\"title\":{\"text\":\"users/day\"}},\"xaxis2\":{\"anchor\":\"y2\",\"domain\":[0.55,1.0],\"visible\":false},\"yaxis2\":{\"anchor\":\"x2\",\"domain\":[0.515,1.0],\"title\":{\"text\":\"users/day\"}},\"xaxis3\":{\"anchor\":\"y3\",\"domain\":[0.0,0.45]},\"yaxis3\":{\"anchor\":\"x3\",\"domain\":[0.0,0.485],\"title\":{\"text\":\"#days\"}},\"xaxis4\":{\"anchor\":\"y4\",\"domain\":[0.55,1.0]},\"yaxis4\":{\"anchor\":\"x4\",\"domain\":[0.0,0.485],\"title\":{\"text\":\"#days\"}},\"annotations\":[{\"font\":{\"size\":16},\"showarrow\":false,\"text\":\"temp\",\"x\":0.225,\"xanchor\":\"center\",\"xref\":\"paper\",\"y\":1.0,\"yanchor\":\"bottom\",\"yref\":\"paper\"},{\"font\":{\"size\":16},\"showarrow\":false,\"text\":\"atemp\",\"x\":0.775,\"xanchor\":\"center\",\"xref\":\"paper\",\"y\":1.0,\"yanchor\":\"bottom\",\"yref\":\"paper\"}],\"height\":600,\"width\":1200,\"title\":{\"text\":\"Continuous vars vs user/day (casual)\",\"x\":0.5,\"xanchor\":\"center\",\"yanchor\":\"middle\"},\"showlegend\":false},                        {\"responsive\": true}                    ).then(function(){\n",
              "                            \n",
              "var gd = document.getElementById('3b3dd364-448a-4b83-adf9-c57f9e4cb8be');\n",
              "var x = new MutationObserver(function (mutations, observer) {{\n",
              "        var display = window.getComputedStyle(gd).display;\n",
              "        if (!display || display === 'none') {{\n",
              "            console.log([gd, 'removed!']);\n",
              "            Plotly.purge(gd);\n",
              "            observer.disconnect();\n",
              "        }}\n",
              "}});\n",
              "\n",
              "// Listen for the removal of the full notebook cells\n",
              "var notebookContainer = gd.closest('#notebook-container');\n",
              "if (notebookContainer) {{\n",
              "    x.observe(notebookContainer, {childList: true});\n",
              "}}\n",
              "\n",
              "// Listen for the clearing of the current output cell\n",
              "var outputEl = gd.closest('.output');\n",
              "if (outputEl) {{\n",
              "    x.observe(outputEl, {childList: true});\n",
              "}}\n",
              "\n",
              "                        })                };                            </script>        </div>\n",
              "</body>\n",
              "</html>"
            ]
          },
          "metadata": {},
          "output_type": "display_data"
        }
      ],
      "metadata": {
        "execution": {
          "iopub.status.busy": "2021-11-10T01:41:35.312196Z",
          "iopub.execute_input": "2021-11-10T01:41:35.312527Z",
          "iopub.status.idle": "2021-11-10T01:41:35.441387Z",
          "shell.execute_reply.started": "2021-11-10T01:41:35.312488Z",
          "shell.execute_reply": "2021-11-10T01:41:35.4406Z"
        },
        "trusted": true,
        "colab": {
          "base_uri": "https://localhost:8080/",
          "height": 617
        },
        "cellView": "form",
        "id": "4PE8PjVqjJTG",
        "outputId": "287fcdaf-4c49-4e04-8ad6-ae9ff943d407"
      }
    },
    {
      "cell_type": "code",
      "execution_count": 21,
      "source": [
        "#@title\r\n",
        "fig = make_subplots(rows=2,cols=2, subplot_titles = [traces[i]['name'] for i in [4,6,5,7]],vertical_spacing=0.03)\r\n",
        "fig.append_trace(traces[4],1,1)\r\n",
        "fig.append_trace(traces[5],2,1)\r\n",
        "fig.append_trace(traces[6],1,2)\r\n",
        "fig.append_trace(traces[7],2,2)\r\n",
        "fig.update_layout(height=600, width=1200)\r\n",
        "fig.update_layout(\r\n",
        "    title={\r\n",
        "        'text': \"Continuous vars vs user/day (casual)\",\r\n",
        "        'x':0.5,\r\n",
        "        'xanchor': 'center',\r\n",
        "        'yanchor': 'middle'},\r\n",
        "    showlegend=False\r\n",
        "        )\r\n",
        "yaxes = [\"users/day\",\"users/day\",\"#days\",\"#days\"]\r\n",
        "for i in range(4):\r\n",
        "  if yaxes[i] == \"users/day\":\r\n",
        "    fig['layout']['xaxis'+str(i+1)]['visible'] = False\r\n",
        "  fig['layout']['yaxis'+str(i+1)]['title'] = yaxes[i]\r\n",
        "\r\n",
        "fig.update_traces(texttemplate='%{text:.2s}')\r\n",
        "fig.show()\r\n"
      ],
      "outputs": [
        {
          "data": {
            "text/html": [
              "<html>\n",
              "<head><meta charset=\"utf-8\" /></head>\n",
              "<body>\n",
              "    <div>            <script src=\"https://cdnjs.cloudflare.com/ajax/libs/mathjax/2.7.5/MathJax.js?config=TeX-AMS-MML_SVG\"></script><script type=\"text/javascript\">if (window.MathJax) {MathJax.Hub.Config({SVG: {font: \"STIX-Web\"}});}</script>                <script type=\"text/javascript\">window.PlotlyConfig = {MathJaxConfig: 'local'};</script>\n",
              "        <script src=\"https://cdn.plot.ly/plotly-2.6.3.min.js\"></script>                <div id=\"11f8fa69-672d-4924-8681-e940af3c4900\" class=\"plotly-graph-div\" style=\"height:600px; width:1200px;\"></div>            <script type=\"text/javascript\">                                    window.PLOTLYENV=window.PLOTLYENV || {};                                    if (document.getElementById(\"11f8fa69-672d-4924-8681-e940af3c4900\")) {                    Plotly.newPlot(                        \"11f8fa69-672d-4924-8681-e940af3c4900\",                        [{\"name\":\"hum\",\"text\":[0.0,0.0,0.0,532.0,0.0,2004.33,417.62,906.88,584.16,945.93,949.17,858.08,928.39,955.23,954.42,730.8,698.91,602.31,319.31,125.67],\"x\":[\"5.00\",\"10.00\",\"15.00\",\"20.00\",\"25.00\",\"30.00\",\"35.00\",\"40.00\",\"45.00\",\"50.00\",\"55.00\",\"60.00\",\"65.00\",\"70.00\",\"75.00\",\"80.00\",\"85.00\",\"90.00\",\"95.00\",\"100.00\"],\"y\":[0.0,0.0,0.0,532.0,0.0,2004.33,417.62,906.88,584.16,945.93,949.17,858.08,928.39,955.23,954.42,730.8,698.91,602.31,319.31,125.67],\"type\":\"bar\",\"xaxis\":\"x\",\"yaxis\":\"y\",\"texttemplate\":\"%{text:.2s}\"},{\"text\":[0.0,0.0,0.0,1.0,0.0,3.0,8.0,17.0,44.0,73.0,86.0,89.0,84.0,94.0,83.0,56.0,47.0,26.0,16.0,3.0],\"x\":[\"5.00\",\"10.00\",\"15.00\",\"20.00\",\"25.00\",\"30.00\",\"35.00\",\"40.00\",\"45.00\",\"50.00\",\"55.00\",\"60.00\",\"65.00\",\"70.00\",\"75.00\",\"80.00\",\"85.00\",\"90.00\",\"95.00\",\"100.00\"],\"y\":[0,0,0,1,0,3,8,17,44,73,86,89,84,94,83,56,47,26,16,3],\"type\":\"bar\",\"xaxis\":\"x3\",\"yaxis\":\"y3\",\"texttemplate\":\"%{text:.2s}\"},{\"name\":\"windspeed\",\"text\":[897.0,923.61,946.85,878.13,847.5,826.01,543.58,394.68,289.5,0.0,532.0,0.0,0.0,0.0,0.0,0.0,0.0,0.0,0.0,0.0],\"x\":[\"3.35\",\"6.70\",\"10.05\",\"13.40\",\"16.75\",\"20.10\",\"23.45\",\"26.80\",\"30.15\",\"33.50\",\"36.85\",\"40.20\",\"43.55\",\"46.90\",\"50.25\",\"53.60\",\"56.95\",\"60.30\",\"63.65\",\"67.00\"],\"y\":[897.0,923.61,946.85,878.13,847.5,826.01,543.58,394.68,289.5,0.0,532.0,0.0,0.0,0.0,0.0,0.0,0.0,0.0,0.0,0.0],\"type\":\"bar\",\"xaxis\":\"x2\",\"yaxis\":\"y2\",\"texttemplate\":\"%{text:.2s}\"},{\"text\":[6.0,67.0,174.0,189.0,153.0,71.0,43.0,19.0,8.0,0.0,1.0,0.0,0.0,0.0,0.0,0.0,0.0,0.0,0.0,0.0],\"x\":[\"3.35\",\"6.70\",\"10.05\",\"13.40\",\"16.75\",\"20.10\",\"23.45\",\"26.80\",\"30.15\",\"33.50\",\"36.85\",\"40.20\",\"43.55\",\"46.90\",\"50.25\",\"53.60\",\"56.95\",\"60.30\",\"63.65\",\"67.00\"],\"y\":[6,67,174,189,153,71,43,19,8,0,1,0,0,0,0,0,0,0,0,0],\"type\":\"bar\",\"xaxis\":\"x4\",\"yaxis\":\"y4\",\"texttemplate\":\"%{text:.2s}\"}],                        {\"template\":{\"data\":{\"bar\":[{\"error_x\":{\"color\":\"#2a3f5f\"},\"error_y\":{\"color\":\"#2a3f5f\"},\"marker\":{\"line\":{\"color\":\"#E5ECF6\",\"width\":0.5},\"pattern\":{\"fillmode\":\"overlay\",\"size\":10,\"solidity\":0.2}},\"type\":\"bar\"}],\"barpolar\":[{\"marker\":{\"line\":{\"color\":\"#E5ECF6\",\"width\":0.5},\"pattern\":{\"fillmode\":\"overlay\",\"size\":10,\"solidity\":0.2}},\"type\":\"barpolar\"}],\"carpet\":[{\"aaxis\":{\"endlinecolor\":\"#2a3f5f\",\"gridcolor\":\"white\",\"linecolor\":\"white\",\"minorgridcolor\":\"white\",\"startlinecolor\":\"#2a3f5f\"},\"baxis\":{\"endlinecolor\":\"#2a3f5f\",\"gridcolor\":\"white\",\"linecolor\":\"white\",\"minorgridcolor\":\"white\",\"startlinecolor\":\"#2a3f5f\"},\"type\":\"carpet\"}],\"choropleth\":[{\"colorbar\":{\"outlinewidth\":0,\"ticks\":\"\"},\"type\":\"choropleth\"}],\"contour\":[{\"colorbar\":{\"outlinewidth\":0,\"ticks\":\"\"},\"colorscale\":[[0.0,\"#0d0887\"],[0.1111111111111111,\"#46039f\"],[0.2222222222222222,\"#7201a8\"],[0.3333333333333333,\"#9c179e\"],[0.4444444444444444,\"#bd3786\"],[0.5555555555555556,\"#d8576b\"],[0.6666666666666666,\"#ed7953\"],[0.7777777777777778,\"#fb9f3a\"],[0.8888888888888888,\"#fdca26\"],[1.0,\"#f0f921\"]],\"type\":\"contour\"}],\"contourcarpet\":[{\"colorbar\":{\"outlinewidth\":0,\"ticks\":\"\"},\"type\":\"contourcarpet\"}],\"heatmap\":[{\"colorbar\":{\"outlinewidth\":0,\"ticks\":\"\"},\"colorscale\":[[0.0,\"#0d0887\"],[0.1111111111111111,\"#46039f\"],[0.2222222222222222,\"#7201a8\"],[0.3333333333333333,\"#9c179e\"],[0.4444444444444444,\"#bd3786\"],[0.5555555555555556,\"#d8576b\"],[0.6666666666666666,\"#ed7953\"],[0.7777777777777778,\"#fb9f3a\"],[0.8888888888888888,\"#fdca26\"],[1.0,\"#f0f921\"]],\"type\":\"heatmap\"}],\"heatmapgl\":[{\"colorbar\":{\"outlinewidth\":0,\"ticks\":\"\"},\"colorscale\":[[0.0,\"#0d0887\"],[0.1111111111111111,\"#46039f\"],[0.2222222222222222,\"#7201a8\"],[0.3333333333333333,\"#9c179e\"],[0.4444444444444444,\"#bd3786\"],[0.5555555555555556,\"#d8576b\"],[0.6666666666666666,\"#ed7953\"],[0.7777777777777778,\"#fb9f3a\"],[0.8888888888888888,\"#fdca26\"],[1.0,\"#f0f921\"]],\"type\":\"heatmapgl\"}],\"histogram\":[{\"marker\":{\"pattern\":{\"fillmode\":\"overlay\",\"size\":10,\"solidity\":0.2}},\"type\":\"histogram\"}],\"histogram2d\":[{\"colorbar\":{\"outlinewidth\":0,\"ticks\":\"\"},\"colorscale\":[[0.0,\"#0d0887\"],[0.1111111111111111,\"#46039f\"],[0.2222222222222222,\"#7201a8\"],[0.3333333333333333,\"#9c179e\"],[0.4444444444444444,\"#bd3786\"],[0.5555555555555556,\"#d8576b\"],[0.6666666666666666,\"#ed7953\"],[0.7777777777777778,\"#fb9f3a\"],[0.8888888888888888,\"#fdca26\"],[1.0,\"#f0f921\"]],\"type\":\"histogram2d\"}],\"histogram2dcontour\":[{\"colorbar\":{\"outlinewidth\":0,\"ticks\":\"\"},\"colorscale\":[[0.0,\"#0d0887\"],[0.1111111111111111,\"#46039f\"],[0.2222222222222222,\"#7201a8\"],[0.3333333333333333,\"#9c179e\"],[0.4444444444444444,\"#bd3786\"],[0.5555555555555556,\"#d8576b\"],[0.6666666666666666,\"#ed7953\"],[0.7777777777777778,\"#fb9f3a\"],[0.8888888888888888,\"#fdca26\"],[1.0,\"#f0f921\"]],\"type\":\"histogram2dcontour\"}],\"mesh3d\":[{\"colorbar\":{\"outlinewidth\":0,\"ticks\":\"\"},\"type\":\"mesh3d\"}],\"parcoords\":[{\"line\":{\"colorbar\":{\"outlinewidth\":0,\"ticks\":\"\"}},\"type\":\"parcoords\"}],\"pie\":[{\"automargin\":true,\"type\":\"pie\"}],\"scatter\":[{\"marker\":{\"colorbar\":{\"outlinewidth\":0,\"ticks\":\"\"}},\"type\":\"scatter\"}],\"scatter3d\":[{\"line\":{\"colorbar\":{\"outlinewidth\":0,\"ticks\":\"\"}},\"marker\":{\"colorbar\":{\"outlinewidth\":0,\"ticks\":\"\"}},\"type\":\"scatter3d\"}],\"scattercarpet\":[{\"marker\":{\"colorbar\":{\"outlinewidth\":0,\"ticks\":\"\"}},\"type\":\"scattercarpet\"}],\"scattergeo\":[{\"marker\":{\"colorbar\":{\"outlinewidth\":0,\"ticks\":\"\"}},\"type\":\"scattergeo\"}],\"scattergl\":[{\"marker\":{\"colorbar\":{\"outlinewidth\":0,\"ticks\":\"\"}},\"type\":\"scattergl\"}],\"scattermapbox\":[{\"marker\":{\"colorbar\":{\"outlinewidth\":0,\"ticks\":\"\"}},\"type\":\"scattermapbox\"}],\"scatterpolar\":[{\"marker\":{\"colorbar\":{\"outlinewidth\":0,\"ticks\":\"\"}},\"type\":\"scatterpolar\"}],\"scatterpolargl\":[{\"marker\":{\"colorbar\":{\"outlinewidth\":0,\"ticks\":\"\"}},\"type\":\"scatterpolargl\"}],\"scatterternary\":[{\"marker\":{\"colorbar\":{\"outlinewidth\":0,\"ticks\":\"\"}},\"type\":\"scatterternary\"}],\"surface\":[{\"colorbar\":{\"outlinewidth\":0,\"ticks\":\"\"},\"colorscale\":[[0.0,\"#0d0887\"],[0.1111111111111111,\"#46039f\"],[0.2222222222222222,\"#7201a8\"],[0.3333333333333333,\"#9c179e\"],[0.4444444444444444,\"#bd3786\"],[0.5555555555555556,\"#d8576b\"],[0.6666666666666666,\"#ed7953\"],[0.7777777777777778,\"#fb9f3a\"],[0.8888888888888888,\"#fdca26\"],[1.0,\"#f0f921\"]],\"type\":\"surface\"}],\"table\":[{\"cells\":{\"fill\":{\"color\":\"#EBF0F8\"},\"line\":{\"color\":\"white\"}},\"header\":{\"fill\":{\"color\":\"#C8D4E3\"},\"line\":{\"color\":\"white\"}},\"type\":\"table\"}]},\"layout\":{\"annotationdefaults\":{\"arrowcolor\":\"#2a3f5f\",\"arrowhead\":0,\"arrowwidth\":1},\"autotypenumbers\":\"strict\",\"coloraxis\":{\"colorbar\":{\"outlinewidth\":0,\"ticks\":\"\"}},\"colorscale\":{\"diverging\":[[0,\"#8e0152\"],[0.1,\"#c51b7d\"],[0.2,\"#de77ae\"],[0.3,\"#f1b6da\"],[0.4,\"#fde0ef\"],[0.5,\"#f7f7f7\"],[0.6,\"#e6f5d0\"],[0.7,\"#b8e186\"],[0.8,\"#7fbc41\"],[0.9,\"#4d9221\"],[1,\"#276419\"]],\"sequential\":[[0.0,\"#0d0887\"],[0.1111111111111111,\"#46039f\"],[0.2222222222222222,\"#7201a8\"],[0.3333333333333333,\"#9c179e\"],[0.4444444444444444,\"#bd3786\"],[0.5555555555555556,\"#d8576b\"],[0.6666666666666666,\"#ed7953\"],[0.7777777777777778,\"#fb9f3a\"],[0.8888888888888888,\"#fdca26\"],[1.0,\"#f0f921\"]],\"sequentialminus\":[[0.0,\"#0d0887\"],[0.1111111111111111,\"#46039f\"],[0.2222222222222222,\"#7201a8\"],[0.3333333333333333,\"#9c179e\"],[0.4444444444444444,\"#bd3786\"],[0.5555555555555556,\"#d8576b\"],[0.6666666666666666,\"#ed7953\"],[0.7777777777777778,\"#fb9f3a\"],[0.8888888888888888,\"#fdca26\"],[1.0,\"#f0f921\"]]},\"colorway\":[\"#636efa\",\"#EF553B\",\"#00cc96\",\"#ab63fa\",\"#FFA15A\",\"#19d3f3\",\"#FF6692\",\"#B6E880\",\"#FF97FF\",\"#FECB52\"],\"font\":{\"color\":\"#2a3f5f\"},\"geo\":{\"bgcolor\":\"white\",\"lakecolor\":\"white\",\"landcolor\":\"#E5ECF6\",\"showlakes\":true,\"showland\":true,\"subunitcolor\":\"white\"},\"hoverlabel\":{\"align\":\"left\"},\"hovermode\":\"closest\",\"mapbox\":{\"style\":\"light\"},\"paper_bgcolor\":\"white\",\"plot_bgcolor\":\"#E5ECF6\",\"polar\":{\"angularaxis\":{\"gridcolor\":\"white\",\"linecolor\":\"white\",\"ticks\":\"\"},\"bgcolor\":\"#E5ECF6\",\"radialaxis\":{\"gridcolor\":\"white\",\"linecolor\":\"white\",\"ticks\":\"\"}},\"scene\":{\"xaxis\":{\"backgroundcolor\":\"#E5ECF6\",\"gridcolor\":\"white\",\"gridwidth\":2,\"linecolor\":\"white\",\"showbackground\":true,\"ticks\":\"\",\"zerolinecolor\":\"white\"},\"yaxis\":{\"backgroundcolor\":\"#E5ECF6\",\"gridcolor\":\"white\",\"gridwidth\":2,\"linecolor\":\"white\",\"showbackground\":true,\"ticks\":\"\",\"zerolinecolor\":\"white\"},\"zaxis\":{\"backgroundcolor\":\"#E5ECF6\",\"gridcolor\":\"white\",\"gridwidth\":2,\"linecolor\":\"white\",\"showbackground\":true,\"ticks\":\"\",\"zerolinecolor\":\"white\"}},\"shapedefaults\":{\"line\":{\"color\":\"#2a3f5f\"}},\"ternary\":{\"aaxis\":{\"gridcolor\":\"white\",\"linecolor\":\"white\",\"ticks\":\"\"},\"baxis\":{\"gridcolor\":\"white\",\"linecolor\":\"white\",\"ticks\":\"\"},\"bgcolor\":\"#E5ECF6\",\"caxis\":{\"gridcolor\":\"white\",\"linecolor\":\"white\",\"ticks\":\"\"}},\"title\":{\"x\":0.05},\"xaxis\":{\"automargin\":true,\"gridcolor\":\"white\",\"linecolor\":\"white\",\"ticks\":\"\",\"title\":{\"standoff\":15},\"zerolinecolor\":\"white\",\"zerolinewidth\":2},\"yaxis\":{\"automargin\":true,\"gridcolor\":\"white\",\"linecolor\":\"white\",\"ticks\":\"\",\"title\":{\"standoff\":15},\"zerolinecolor\":\"white\",\"zerolinewidth\":2}}},\"xaxis\":{\"anchor\":\"y\",\"domain\":[0.0,0.45],\"visible\":false},\"yaxis\":{\"anchor\":\"x\",\"domain\":[0.515,1.0],\"title\":{\"text\":\"users/day\"}},\"xaxis2\":{\"anchor\":\"y2\",\"domain\":[0.55,1.0],\"visible\":false},\"yaxis2\":{\"anchor\":\"x2\",\"domain\":[0.515,1.0],\"title\":{\"text\":\"users/day\"}},\"xaxis3\":{\"anchor\":\"y3\",\"domain\":[0.0,0.45]},\"yaxis3\":{\"anchor\":\"x3\",\"domain\":[0.0,0.485],\"title\":{\"text\":\"#days\"}},\"xaxis4\":{\"anchor\":\"y4\",\"domain\":[0.55,1.0]},\"yaxis4\":{\"anchor\":\"x4\",\"domain\":[0.0,0.485],\"title\":{\"text\":\"#days\"}},\"annotations\":[{\"font\":{\"size\":16},\"showarrow\":false,\"text\":\"hum\",\"x\":0.225,\"xanchor\":\"center\",\"xref\":\"paper\",\"y\":1.0,\"yanchor\":\"bottom\",\"yref\":\"paper\"},{\"font\":{\"size\":16},\"showarrow\":false,\"text\":\"windspeed\",\"x\":0.775,\"xanchor\":\"center\",\"xref\":\"paper\",\"y\":1.0,\"yanchor\":\"bottom\",\"yref\":\"paper\"}],\"height\":600,\"width\":1200,\"title\":{\"text\":\"Continuous vars vs user/day (casual)\",\"x\":0.5,\"xanchor\":\"center\",\"yanchor\":\"middle\"},\"showlegend\":false},                        {\"responsive\": true}                    ).then(function(){\n",
              "                            \n",
              "var gd = document.getElementById('11f8fa69-672d-4924-8681-e940af3c4900');\n",
              "var x = new MutationObserver(function (mutations, observer) {{\n",
              "        var display = window.getComputedStyle(gd).display;\n",
              "        if (!display || display === 'none') {{\n",
              "            console.log([gd, 'removed!']);\n",
              "            Plotly.purge(gd);\n",
              "            observer.disconnect();\n",
              "        }}\n",
              "}});\n",
              "\n",
              "// Listen for the removal of the full notebook cells\n",
              "var notebookContainer = gd.closest('#notebook-container');\n",
              "if (notebookContainer) {{\n",
              "    x.observe(notebookContainer, {childList: true});\n",
              "}}\n",
              "\n",
              "// Listen for the clearing of the current output cell\n",
              "var outputEl = gd.closest('.output');\n",
              "if (outputEl) {{\n",
              "    x.observe(outputEl, {childList: true});\n",
              "}}\n",
              "\n",
              "                        })                };                            </script>        </div>\n",
              "</body>\n",
              "</html>"
            ]
          },
          "metadata": {},
          "output_type": "display_data"
        }
      ],
      "metadata": {
        "colab": {
          "base_uri": "https://localhost:8080/",
          "height": 617
        },
        "cellView": "form",
        "id": "M1S3-AP6jJTG",
        "outputId": "23f09aab-dd16-424a-a5a6-880053d8476c"
      }
    },
    {
      "cell_type": "markdown",
      "source": [
        "##1.6a Variáveis contínuas (apenas usuários registrados)\n",
        "No dataset, temos algumas variáveis contínuas, normalizadas:\n",
        "\n",
        "\n",
        "*   <b>temp</b>: temperatura registrada (normalizada com máximo de 41°C)\n",
        "*   <b>atemp</b>: sensação térmica registrada (normalizada com máximo de 50°C)\n",
        "*   <b>hum</b>: nível de umidade registrada (normalizada com máximo de 100%)\n",
        "*   <b>windspeed</b>: velocidade do vento registrada (normalizada com máximo de 67)\n",
        "\n",
        "No caso dos dados filtrados apenas para registrados, encontramos um comportamento muito similar ao total, o que faz sentido, já que os usuários registrados representam a maioria dos dados.\n",
        "\n",
        "\n",
        "\n",
        "\n",
        "\n",
        "\n",
        "\n"
      ],
      "metadata": {
        "id": "3OoAJm4VlMf9"
      }
    },
    {
      "cell_type": "code",
      "execution_count": 22,
      "source": [
        "#@title\r\n",
        "columns = ['temp','atemp','hum','windspeed']\r\n",
        "new_df_columns = []\r\n",
        "\r\n",
        "df[columns + ['registered']].apply(lambda row: new_df_columns.extend([{'var':column,'value':row[column],'registered':row['registered']} for column in columns]), axis =1)\r\n",
        "\r\n",
        "new_df = pd.DataFrame(new_df_columns)\r\n",
        "\r\n",
        "fig = px.scatter(new_df, x='value', y='registered', facet_col ='var', facet_col_wrap = 2, color='var', width= 1200)\r\n",
        "fig.update_layout(\r\n",
        "    title={\r\n",
        "        'text': \"climate variables vs user count (registered)\",\r\n",
        "        'x':0.5,\r\n",
        "        'xanchor': 'center',\r\n",
        "        'yanchor': 'middle'})\r\n",
        "fig.show()"
      ],
      "outputs": [
        {
          "data": {
            "text/html": [
              "<html>\n",
              "<head><meta charset=\"utf-8\" /></head>\n",
              "<body>\n",
              "    <div>            <script src=\"https://cdnjs.cloudflare.com/ajax/libs/mathjax/2.7.5/MathJax.js?config=TeX-AMS-MML_SVG\"></script><script type=\"text/javascript\">if (window.MathJax) {MathJax.Hub.Config({SVG: {font: \"STIX-Web\"}});}</script>                <script type=\"text/javascript\">window.PlotlyConfig = {MathJaxConfig: 'local'};</script>\n",
              "        <script src=\"https://cdn.plot.ly/plotly-2.6.3.min.js\"></script>                <div id=\"17b6d426-472f-4fac-9cde-712c09be08a9\" class=\"plotly-graph-div\" style=\"height:525px; width:1200px;\"></div>            <script type=\"text/javascript\">                                    window.PLOTLYENV=window.PLOTLYENV || {};                                    if (document.getElementById(\"17b6d426-472f-4fac-9cde-712c09be08a9\")) {                    Plotly.newPlot(                        \"17b6d426-472f-4fac-9cde-712c09be08a9\",                        [{\"hovertemplate\":\"var=temp<br>value=%{x}<br>registered=%{y}<extra></extra>\",\"legendgroup\":\"temp\",\"marker\":{\"color\":\"#636efa\",\"symbol\":\"circle\"},\"mode\":\"markers\",\"name\":\"temp\",\"showlegend\":true,\"x\":[0.344167,0.363478,0.196364,0.2,0.22695700000000002,0.204348,0.196522,0.165,0.13833299999999998,0.150833,0.16909100000000002,0.172727,0.165,0.16087,0.23333299999999998,0.231667,0.175833,0.216667,0.292174,0.261667,0.1775,0.0591304,0.0965217,0.0973913,0.223478,0.2175,0.195,0.203478,0.196522,0.216522,0.180833,0.192174,0.26,0.18695699999999998,0.211304,0.23333299999999998,0.285833,0.271667,0.220833,0.134783,0.144348,0.189091,0.2225,0.31652199999999997,0.415,0.26608699999999996,0.318261,0.43583299999999997,0.521667,0.399167,0.285217,0.303333,0.182222,0.221739,0.295652,0.364348,0.2825,0.343478,0.407273,0.266667,0.335,0.19833299999999998,0.261667,0.384167,0.37652199999999997,0.261739,0.2925,0.295833,0.38909099999999996,0.31652199999999997,0.329167,0.384348,0.32521700000000003,0.317391,0.365217,0.415,0.54,0.4725,0.3325,0.430435,0.44166700000000003,0.346957,0.285,0.264167,0.265833,0.25304299999999996,0.264348,0.3025,0.3,0.268333,0.3,0.315,0.378333,0.573333,0.414167,0.390833,0.4375,0.335833,0.3425,0.426667,0.5956520000000001,0.5025,0.4125,0.4675,0.446667,0.43083299999999997,0.456667,0.5125,0.505833,0.595,0.459167,0.336667,0.46,0.581667,0.606667,0.631667,0.62,0.6175,0.51,0.4725,0.451667,0.549167,0.616667,0.414167,0.459167,0.479167,0.52,0.5283329999999999,0.5325,0.5325,0.5425,0.535,0.5125,0.520833,0.5625,0.5775,0.561667,0.55,0.530833,0.536667,0.6025,0.604167,0.631667,0.66,0.660833,0.708333,0.681667,0.655833,0.6675,0.733333,0.775,0.764167,0.715,0.62,0.635,0.648333,0.678333,0.7075,0.775833,0.808333,0.755,0.725,0.6925,0.635,0.604167,0.626667,0.628333,0.649167,0.696667,0.699167,0.635,0.680833,0.733333,0.728333,0.724167,0.695,0.68,0.6825,0.744167,0.728333,0.696667,0.7225,0.738333,0.716667,0.726667,0.746667,0.72,0.75,0.709167,0.733333,0.7475,0.7625,0.794167,0.746667,0.680833,0.663333,0.686667,0.719167,0.746667,0.776667,0.768333,0.815,0.848333,0.849167,0.83,0.743333,0.771667,0.775,0.779167,0.838333,0.804167,0.805833,0.771667,0.783333,0.731667,0.71,0.710833,0.716667,0.7425,0.765,0.775,0.766667,0.7175,0.708333,0.685833,0.676667,0.665833,0.700833,0.723333,0.711667,0.685,0.6975,0.710833,0.691667,0.640833,0.673333,0.684167,0.7,0.68,0.707059,0.636667,0.639167,0.656667,0.655,0.643333,0.669167,0.709167,0.673333,0.54,0.599167,0.6339130000000001,0.65,0.66,0.6533329999999999,0.6443479999999999,0.650833,0.673333,0.5775,0.469167,0.491667,0.5075,0.549167,0.561667,0.595,0.628333,0.609167,0.606667,0.634167,0.649167,0.636667,0.635,0.616667,0.564167,0.41,0.356667,0.384167,0.484167,0.538333,0.494167,0.510833,0.521667,0.540833,0.570833,0.566667,0.543333,0.589167,0.550833,0.506667,0.511667,0.5341670000000001,0.5325,0.5417390000000001,0.475833,0.4275,0.4225,0.421667,0.463333,0.471667,0.484167,0.47,0.330833,0.25416700000000003,0.31916700000000003,0.34,0.400833,0.3775,0.408333,0.403333,0.326667,0.348333,0.395,0.408333,0.4,0.38,0.324167,0.356667,0.440833,0.53,0.53,0.456667,0.341667,0.274167,0.329167,0.463333,0.4475,0.416667,0.440833,0.37333299999999997,0.375,0.375833,0.459167,0.503478,0.458333,0.325,0.3125,0.31416700000000003,0.299167,0.330833,0.385833,0.4625,0.41,0.265833,0.290833,0.275,0.220833,0.238333,0.2825,0.3175,0.4225,0.375,0.258333,0.238333,0.276667,0.385833,0.428333,0.423333,0.37333299999999997,0.3025,0.274783,0.321739,0.325,0.29913,0.248333,0.311667,0.41,0.37,0.273043,0.15,0.1075,0.265833,0.334167,0.393333,0.3375,0.224167,0.308696,0.274167,0.3825,0.274167,0.18,0.166667,0.19,0.37304299999999996,0.303333,0.19,0.2175,0.173333,0.1625,0.218333,0.3425,0.294167,0.341667,0.425,0.315833,0.2825,0.269167,0.39,0.469167,0.399167,0.313333,0.264167,0.265833,0.282609,0.354167,0.25666700000000003,0.265,0.280833,0.224167,0.1275,0.2225,0.31916700000000003,0.348333,0.31666700000000003,0.343333,0.346667,0.28,0.28,0.287826,0.395833,0.454167,0.4075,0.290833,0.279167,0.366667,0.359167,0.344348,0.485833,0.353333,0.414167,0.325833,0.243333,0.258333,0.404167,0.5275,0.410833,0.2875,0.361739,0.466667,0.565,0.5725,0.5575,0.43583299999999997,0.514167,0.4725,0.545,0.560833,0.531667,0.554167,0.601667,0.5025,0.4375,0.445833,0.323333,0.484167,0.494167,0.37,0.424167,0.425833,0.433913,0.466667,0.541667,0.435,0.403333,0.4375,0.5,0.489167,0.446667,0.348696,0.3975,0.4425,0.495,0.606667,0.664167,0.608333,0.463333,0.49833299999999997,0.526667,0.57,0.396667,0.321667,0.413333,0.476667,0.49833299999999997,0.4575,0.37666700000000003,0.458333,0.464167,0.613333,0.564167,0.56,0.6275,0.621667,0.5625,0.5375,0.581667,0.575,0.505833,0.533333,0.564167,0.6125,0.573333,0.611667,0.636667,0.593333,0.564167,0.6,0.620833,0.598333,0.615,0.621667,0.655,0.68,0.6925,0.69,0.7125,0.7225,0.656667,0.68,0.654167,0.583333,0.6025,0.5975,0.540833,0.554167,0.6025,0.649167,0.710833,0.726667,0.720833,0.6533329999999999,0.655833,0.648333,0.639167,0.631667,0.5925,0.568333,0.688333,0.7825,0.805833,0.7775,0.731667,0.743333,0.7158329999999999,0.630833,0.6975,0.749167,0.834167,0.765,0.815833,0.781667,0.780833,0.789167,0.8275,0.828333,0.861667,0.8225,0.710833,0.720833,0.716667,0.7158329999999999,0.731667,0.703333,0.745833,0.763333,0.818333,0.793333,0.77,0.665833,0.595833,0.6675,0.741667,0.750833,0.724167,0.776667,0.781667,0.755833,0.7216670000000001,0.730833,0.713333,0.7175,0.7525,0.765833,0.793333,0.769167,0.7525,0.735833,0.75,0.755833,0.7158329999999999,0.6925,0.700833,0.720833,0.726667,0.706667,0.719167,0.723333,0.678333,0.635833,0.635833,0.649167,0.6675,0.695833,0.7025,0.661667,0.6533329999999999,0.703333,0.728333,0.685,0.706667,0.764167,0.753333,0.696667,0.7075,0.725833,0.736667,0.696667,0.703333,0.6591670000000001,0.61,0.583333,0.5775,0.599167,0.6125,0.633333,0.608333,0.58,0.580833,0.623333,0.5525,0.546667,0.599167,0.65,0.529167,0.514167,0.55,0.635,0.65,0.619167,0.5425,0.526667,0.520833,0.5908329999999999,0.6575,0.6575,0.615,0.554167,0.415833,0.383333,0.446667,0.514167,0.435,0.4375,0.393333,0.521667,0.561667,0.468333,0.455833,0.5225,0.563333,0.484167,0.464167,0.4875,0.544167,0.5875,0.55,0.545833,0.53,0.4775,0.44,0.318182,0.3575,0.365833,0.355,0.343333,0.325833,0.31916700000000003,0.280833,0.295833,0.352174,0.361667,0.389167,0.420833,0.485,0.343333,0.289167,0.321667,0.345,0.325,0.3425,0.380833,0.374167,0.353333,0.34,0.36833299999999997,0.278333,0.245833,0.313333,0.291667,0.296667,0.28087,0.298333,0.298333,0.3475,0.4525,0.475833,0.438333,0.255833,0.320833,0.38166700000000003,0.384167,0.43583299999999997,0.353333,0.2975,0.295833,0.281667,0.324167,0.3625,0.393333,0.410833,0.3325,0.33,0.326667,0.265833,0.245833,0.231304,0.291304,0.243333,0.25416700000000003,0.253333,0.253333,0.255833,0.215833],\"xaxis\":\"x3\",\"y\":[654.0,670.0,1229.0,1454.0,1518.0,1518.0,1362.0,891.0,768.0,1280.0,1220.0,1137.0,1368.0,1367.0,1026.0,953.0,883.0,674.0,1572.0,1844.0,1468.0,888.0,836.0,1330.0,1799.0,472.0,416.0,1129.0,975.0,956.0,1459.0,1313.0,1454.0,1489.0,1620.0,905.0,1269.0,1592.0,1466.0,1552.0,1491.0,1597.0,1184.0,1192.0,1705.0,1675.0,1897.0,2216.0,2348.0,1103.0,1173.0,912.0,1376.0,1778.0,1707.0,1341.0,1545.0,1708.0,1365.0,1714.0,1903.0,1562.0,1730.0,1437.0,491.0,1628.0,1817.0,1700.0,577.0,1730.0,1408.0,1435.0,1687.0,1767.0,1871.0,2320.0,2355.0,1693.0,1424.0,1676.0,2243.0,1918.0,1699.0,1910.0,1515.0,1221.0,1806.0,2108.0,1368.0,1506.0,1920.0,1354.0,1598.0,2381.0,1628.0,2395.0,2570.0,1299.0,1576.0,1707.0,2493.0,1777.0,1953.0,2738.0,2484.0,674.0,2186.0,2760.0,2795.0,3331.0,3444.0,1506.0,2574.0,2481.0,3300.0,3722.0,3325.0,3489.0,3717.0,3347.0,2213.0,3554.0,3848.0,2378.0,3819.0,3714.0,3102.0,2932.0,3698.0,4109.0,3632.0,4169.0,3413.0,2507.0,2971.0,3185.0,3445.0,3319.0,3840.0,4008.0,3547.0,3084.0,3438.0,3833.0,4238.0,3919.0,3808.0,2757.0,2433.0,2549.0,3309.0,3461.0,4232.0,4414.0,3473.0,3221.0,3875.0,4070.0,3725.0,3352.0,3771.0,3237.0,2993.0,4157.0,4164.0,4411.0,3222.0,3981.0,3312.0,3105.0,3311.0,4061.0,3846.0,4044.0,4022.0,3420.0,3385.0,3854.0,3916.0,4377.0,4488.0,4116.0,2915.0,2367.0,2978.0,3634.0,3845.0,3838.0,3348.0,3348.0,3138.0,3363.0,3596.0,3594.0,4196.0,4220.0,3505.0,3296.0,3617.0,3789.0,3688.0,3152.0,2825.0,2298.0,2556.0,3272.0,3840.0,3901.0,3784.0,3176.0,2916.0,2778.0,3537.0,4044.0,3107.0,3777.0,3843.0,2773.0,2487.0,3480.0,3695.0,3896.0,3980.0,3854.0,2646.0,2482.0,3563.0,4004.0,4026.0,3166.0,3356.0,3277.0,2624.0,3925.0,4614.0,4181.0,3107.0,3893.0,889.0,2919.0,3905.0,4429.0,4370.0,4332.0,3852.0,2549.0,2419.0,2115.0,2506.0,1878.0,1689.0,3127.0,3595.0,3413.0,4023.0,4062.0,4138.0,3231.0,4018.0,3077.0,2921.0,3848.0,3203.0,3813.0,4240.0,2137.0,3647.0,3466.0,3946.0,3643.0,3427.0,4186.0,4372.0,1949.0,2302.0,3240.0,3970.0,4267.0,4126.0,4036.0,3174.0,3114.0,3603.0,3896.0,2199.0,2623.0,3115.0,3318.0,3293.0,3857.0,4111.0,2170.0,3724.0,3628.0,2809.0,2762.0,3488.0,3992.0,3490.0,2419.0,3291.0,570.0,2446.0,3307.0,3658.0,3816.0,3656.0,3576.0,2770.0,2697.0,3662.0,3829.0,3804.0,2743.0,2928.0,2792.0,2713.0,3891.0,3746.0,1672.0,2914.0,3147.0,2720.0,2733.0,2545.0,1538.0,2454.0,935.0,1697.0,1819.0,2261.0,3614.0,2818.0,3425.0,3545.0,3672.0,2908.0,2851.0,3578.0,2468.0,655.0,3172.0,3359.0,2688.0,2366.0,3167.0,3368.0,3562.0,3528.0,3399.0,2464.0,2211.0,3143.0,3534.0,2553.0,2841.0,2046.0,856.0,451.0,887.0,1059.0,2047.0,2169.0,2508.0,1820.0,1608.0,1707.0,2147.0,2273.0,3132.0,3791.0,3451.0,2826.0,2270.0,3425.0,2085.0,3828.0,3040.0,2160.0,2027.0,2081.0,2808.0,3267.0,3162.0,3048.0,1234.0,1781.0,2287.0,3900.0,3803.0,3831.0,3187.0,3248.0,2685.0,3498.0,4185.0,4275.0,3571.0,3841.0,2448.0,2629.0,3578.0,4176.0,2693.0,3667.0,3604.0,1977.0,1456.0,3328.0,3787.0,4028.0,2931.0,3805.0,2883.0,2071.0,2627.0,3614.0,4379.0,4546.0,3241.0,2415.0,2874.0,4069.0,4134.0,1769.0,4665.0,2948.0,3110.0,2713.0,3130.0,3735.0,4484.0,4896.0,4122.0,3150.0,3253.0,4460.0,5085.0,5315.0,5187.0,3830.0,4681.0,3685.0,5171.0,5042.0,5108.0,5537.0,5893.0,2339.0,3464.0,4763.0,4571.0,5024.0,5299.0,4663.0,3934.0,3694.0,4728.0,5424.0,5378.0,5265.0,4653.0,3605.0,2939.0,4680.0,5099.0,4380.0,4746.0,5146.0,4665.0,4286.0,5172.0,5702.0,4020.0,5719.0,5950.0,4083.0,907.0,3019.0,5115.0,5541.0,4551.0,5219.0,3100.0,4075.0,4907.0,5087.0,5502.0,5657.0,5227.0,4387.0,4224.0,5265.0,4990.0,4097.0,5546.0,5711.0,4807.0,3946.0,2501.0,4490.0,6433.0,6142.0,6118.0,4884.0,4425.0,3729.0,5254.0,4494.0,5711.0,5317.0,3681.0,3308.0,3486.0,4863.0,6110.0,6238.0,3594.0,5325.0,5147.0,5927.0,6033.0,6028.0,6456.0,6248.0,4790.0,4374.0,5647.0,4495.0,6248.0,6183.0,6102.0,4739.0,4344.0,4446.0,5857.0,5339.0,5127.0,4859.0,4801.0,4340.0,5640.0,6365.0,6258.0,5958.0,4634.0,4232.0,4110.0,5323.0,5608.0,4841.0,4836.0,4841.0,3392.0,3469.0,5571.0,5336.0,6289.0,6414.0,5988.0,4614.0,4111.0,5742.0,5865.0,4914.0,5703.0,5123.0,3195.0,4866.0,5831.0,6452.0,6790.0,5825.0,5645.0,4451.0,4444.0,6065.0,6248.0,6506.0,6278.0,5847.0,4479.0,3757.0,5780.0,5995.0,6271.0,6090.0,4721.0,4052.0,4362.0,5676.0,5656.0,6149.0,6267.0,5665.0,5038.0,3341.0,5504.0,5925.0,6281.0,6402.0,6257.0,4224.0,3772.0,5928.0,6105.0,6520.0,6541.0,5917.0,3788.0,3197.0,4069.0,5997.0,6280.0,5592.0,6459.0,4419.0,5657.0,6407.0,6697.0,6820.0,6750.0,6630.0,5554.0,5167.0,5847.0,3702.0,6803.0,6781.0,6917.0,5883.0,5453.0,6435.0,6693.0,6946.0,6642.0,6370.0,5966.0,4874.0,6015.0,4324.0,6844.0,6437.0,6640.0,4934.0,2729.0,4604.0,5791.0,6911.0,6736.0,6222.0,4857.0,4559.0,5115.0,6612.0,6482.0,6501.0,4671.0,5284.0,4692.0,6228.0,6625.0,6898.0,6484.0,6262.0,5209.0,3461.0,20.0,1009.0,5147.0,5520.0,5229.0,4109.0,3906.0,4881.0,5220.0,4709.0,4975.0,5283.0,4446.0,4562.0,5172.0,3767.0,5122.0,5125.0,5214.0,4316.0,3747.0,5050.0,5100.0,4531.0,1470.0,2307.0,1745.0,2115.0,4750.0,3836.0,5062.0,5080.0,5306.0,4240.0,3757.0,5679.0,6055.0,5398.0,5035.0,4659.0,4429.0,2787.0,4841.0,5219.0,5009.0,5107.0,5182.0,4280.0,3248.0,4373.0,5124.0,4934.0,3814.0,3402.0,1544.0,1379.0,746.0,573.0,432.0,1867.0,2451.0,1182.0,1432.0,2290.0],\"yaxis\":\"y3\",\"type\":\"scattergl\"},{\"hovertemplate\":\"var=atemp<br>value=%{x}<br>registered=%{y}<extra></extra>\",\"legendgroup\":\"atemp\",\"marker\":{\"color\":\"#EF553B\",\"symbol\":\"circle\"},\"mode\":\"markers\",\"name\":\"atemp\",\"showlegend\":true,\"x\":[0.363625,0.35373899999999997,0.189405,0.21212199999999998,0.22926999999999997,0.23320900000000003,0.208839,0.162254,0.116175,0.15088800000000002,0.19146400000000002,0.160473,0.150883,0.188413,0.248112,0.234217,0.176771,0.23233299999999998,0.29842199999999997,0.25505,0.157833,0.0790696,0.09883910000000001,0.11793,0.234526,0.2036,0.2197,0.22331700000000002,0.212126,0.250322,0.18625,0.23453000000000002,0.254417,0.177878,0.22858699999999998,0.243058,0.291671,0.303658,0.198246,0.144283,0.14954800000000001,0.213509,0.232954,0.324113,0.39835,0.254274,0.3162,0.428658,0.511983,0.391404,0.27733,0.284075,0.186033,0.24571700000000002,0.289191,0.350461,0.282192,0.351109,0.400118,0.263879,0.320071,0.200133,0.255679,0.378779,0.366252,0.238461,0.3024,0.286608,0.385668,0.305,0.32575,0.380091,0.332,0.318178,0.36693000000000003,0.410333,0.5270090000000001,0.466525,0.32575,0.409735,0.44064200000000003,0.337939,0.270833,0.256312,0.257571,0.250339,0.25757399999999997,0.292908,0.29735,0.257575,0.283454,0.315637,0.378767,0.542929,0.39835,0.387608,0.433696,0.324479,0.34152899999999997,0.426737,0.565217,0.493054,0.417283,0.462742,0.441913,0.425492,0.445696,0.503146,0.48925799999999997,0.564392,0.453892,0.321954,0.450121,0.551763,0.5745,0.594083,0.575142,0.578929,0.497463,0.464021,0.448204,0.532833,0.582079,0.40465,0.441917,0.474117,0.512621,0.518933,0.525246,0.522721,0.5284,0.523363,0.4943,0.500629,0.536,0.550512,0.538529,0.527158,0.510742,0.529042,0.571975,0.5745,0.590296,0.604813,0.615542,0.654688,0.637008,0.612379,0.61555,0.671092,0.725383,0.720967,0.643942,0.587133,0.594696,0.616804,0.621858,0.65595,0.727279,0.757579,0.703292,0.678038,0.643325,0.601654,0.591546,0.587754,0.595346,0.600383,0.643954,0.645846,0.595346,0.637646,0.693829,0.693833,0.656583,0.643313,0.637629,0.637004,0.692558,0.654688,0.637008,0.652162,0.667308,0.668575,0.665417,0.696338,0.685633,0.686871,0.6704829999999999,0.664158,0.690025,0.729804,0.739275,0.689404,0.635104,0.624371,0.638263,0.669833,0.703925,0.747479,0.74685,0.826371,0.8408959999999999,0.804287,0.794829,0.720958,0.696979,0.690667,0.7399,0.785967,0.728537,0.729796,0.703292,0.707071,0.679937,0.664788,0.656567,0.676154,0.715292,0.703283,0.724121,0.684983,0.651521,0.654042,0.645858,0.624388,0.616167,0.645837,0.666671,0.662258,0.633221,0.648996,0.675525,0.638254,0.606067,0.630692,0.645854,0.659733,0.635556,0.6479590000000001,0.607958,0.594704,0.611121,0.614921,0.604808,0.633213,0.665429,0.625646,0.5152,0.544229,0.555361,0.578946,0.607962,0.609229,0.60213,0.603554,0.6269,0.553671,0.461475,0.478512,0.490537,0.529675,0.532217,0.5505329999999999,0.554963,0.522125,0.564412,0.572637,0.589042,0.574525,0.575158,0.574512,0.544829,0.41286300000000004,0.345317,0.392046,0.472858,0.527138,0.480425,0.504404,0.513242,0.523983,0.542925,0.546096,0.517717,0.551804,0.529675,0.498725,0.503154,0.510725,0.522721,0.513848,0.466525,0.42359600000000003,0.425492,0.422333,0.457067,0.463375,0.472846,0.457046,0.318812,0.227913,0.321329,0.356063,0.397088,0.390133,0.405921,0.40339200000000003,0.323854,0.362358,0.400871,0.412246,0.40907899999999997,0.373721,0.306817,0.357942,0.43055,0.524612,0.507579,0.451988,0.323221,0.272721,0.32448299999999997,0.457058,0.445062,0.421696,0.430537,0.372471,0.380671,0.385087,0.4558,0.490122,0.451375,0.311221,0.305554,0.331433,0.310604,0.3491,0.393925,0.4564,0.400246,0.256938,0.317542,0.266412,0.253154,0.270196,0.301138,0.338362,0.41223699999999996,0.359825,0.249371,0.245579,0.280933,0.396454,0.428017,0.426121,0.377513,0.299242,0.279961,0.315535,0.327633,0.279974,0.263892,0.318812,0.414121,0.375621,0.252304,0.126275,0.11933699999999998,0.278412,0.340267,0.390779,0.340258,0.247479,0.318826,0.282821,0.381938,0.249362,0.183087,0.161625,0.190663,0.36427800000000005,0.275254,0.190038,0.220958,0.174875,0.16225,0.243058,0.349108,0.294821,0.35605,0.415383,0.326379,0.272721,0.262625,0.381317,0.466538,0.398971,0.309346,0.272725,0.264521,0.296426,0.361104,0.266421,0.261988,0.293558,0.210867,0.101658,0.227913,0.333946,0.35162899999999997,0.330162,0.35162899999999997,0.355425,0.265788,0.273391,0.295113,0.392667,0.444446,0.41097100000000003,0.255675,0.268308,0.357954,0.353525,0.34847,0.475371,0.359842,0.413492,0.303021,0.241171,0.255042,0.3851,0.524604,0.397083,0.277767,0.35967,0.459592,0.542929,0.548617,0.532825,0.436229,0.505046,0.46399999999999997,0.532821,0.538533,0.513258,0.531567,0.570067,0.48673299999999997,0.437488,0.43875,0.315654,0.47095,0.482304,0.375621,0.42170799999999997,0.41728699999999996,0.42751300000000003,0.461483,0.53345,0.431163,0.39076700000000003,0.426129,0.492425,0.476638,0.436233,0.33727399999999996,0.387604,0.43180799999999997,0.487996,0.573875,0.614925,0.598487,0.457038,0.493046,0.515775,0.542921,0.389504,0.301125,0.405283,0.470317,0.483583,0.452637,0.377504,0.450121,0.457696,0.577021,0.537896,0.537242,0.590917,0.584608,0.546737,0.527142,0.557471,0.553025,0.49178299999999997,0.520833,0.544817,0.585238,0.5499,0.576404,0.595975,0.572613,0.551121,0.566908,0.583967,0.565667,0.580825,0.584612,0.6067,0.627529,0.642696,0.641425,0.6793,0.672992,0.611129,0.631329,0.607962,0.566288,0.575133,0.578283,0.525892,0.542292,0.569442,0.597862,0.648367,0.663517,0.659721,0.597875,0.611117,0.624383,0.599754,0.594708,0.571975,0.544842,0.654692,0.720975,0.752542,0.724121,0.652792,0.674254,0.654042,0.594704,0.640792,0.675512,0.786613,0.687508,0.750629,0.702038,0.70265,0.732337,0.761367,0.752533,0.804913,0.790396,0.654054,0.664796,0.650271,0.654683,0.667933,0.666042,0.705196,0.724125,0.755683,0.745583,0.714642,0.613025,0.549912,0.623125,0.690017,0.70645,0.654054,0.739263,0.734217,0.697604,0.667933,0.684987,0.662896,0.667308,0.707088,0.722867,0.751267,0.731079,0.710246,0.697621,0.707717,0.699508,0.667942,0.638267,0.644579,0.662254,0.676779,0.654037,0.654688,0.2424,0.618071,0.603554,0.595967,0.601025,0.621854,0.637008,0.6471,0.618696,0.595996,0.654688,0.66605,0.635733,0.652779,0.6894,0.702654,0.649,0.661629,0.686888,0.708983,0.655329,0.657204,0.611121,0.578925,0.565654,0.554292,0.570075,0.579558,0.594083,0.585867,0.563125,0.55305,0.565067,0.540404,0.532192,0.571971,0.610488,0.518933,0.502513,0.544179,0.5966130000000001,0.607975,0.585863,0.530296,0.517663,0.512,0.542333,0.599133,0.607975,0.580187,0.538521,0.419813,0.387608,0.438112,0.503142,0.431167,0.433071,0.391396,0.508204,0.53915,0.460846,0.450108,0.512625,0.537896,0.472842,0.456429,0.482942,0.530304,0.558721,0.529688,0.52275,0.515133,0.467771,0.4394,0.309909,0.3611,0.369942,0.356042,0.323846,0.329538,0.308075,0.281567,0.274621,0.341891,0.35541300000000003,0.393937,0.421713,0.475383,0.323225,0.281563,0.324492,0.347204,0.326383,0.337746,0.375621,0.38066700000000003,0.364892,0.350371,0.378779,0.24874200000000002,0.257583,0.33900399999999997,0.281558,0.28976199999999996,0.29842199999999997,0.323867,0.316904,0.35920799999999997,0.455796,0.46905399999999997,0.428012,0.258204,0.32195799999999997,0.38950799999999997,0.390146,0.435575,0.338363,0.297338,0.294188,0.294192,0.338383,0.369938,0.4015,0.409708,0.34216199999999997,0.335217,0.301767,0.23611300000000002,0.259471,0.2589,0.29446500000000003,0.220333,0.226642,0.255046,0.2424,0.2317,0.223487],\"xaxis\":\"x4\",\"y\":[654.0,670.0,1229.0,1454.0,1518.0,1518.0,1362.0,891.0,768.0,1280.0,1220.0,1137.0,1368.0,1367.0,1026.0,953.0,883.0,674.0,1572.0,1844.0,1468.0,888.0,836.0,1330.0,1799.0,472.0,416.0,1129.0,975.0,956.0,1459.0,1313.0,1454.0,1489.0,1620.0,905.0,1269.0,1592.0,1466.0,1552.0,1491.0,1597.0,1184.0,1192.0,1705.0,1675.0,1897.0,2216.0,2348.0,1103.0,1173.0,912.0,1376.0,1778.0,1707.0,1341.0,1545.0,1708.0,1365.0,1714.0,1903.0,1562.0,1730.0,1437.0,491.0,1628.0,1817.0,1700.0,577.0,1730.0,1408.0,1435.0,1687.0,1767.0,1871.0,2320.0,2355.0,1693.0,1424.0,1676.0,2243.0,1918.0,1699.0,1910.0,1515.0,1221.0,1806.0,2108.0,1368.0,1506.0,1920.0,1354.0,1598.0,2381.0,1628.0,2395.0,2570.0,1299.0,1576.0,1707.0,2493.0,1777.0,1953.0,2738.0,2484.0,674.0,2186.0,2760.0,2795.0,3331.0,3444.0,1506.0,2574.0,2481.0,3300.0,3722.0,3325.0,3489.0,3717.0,3347.0,2213.0,3554.0,3848.0,2378.0,3819.0,3714.0,3102.0,2932.0,3698.0,4109.0,3632.0,4169.0,3413.0,2507.0,2971.0,3185.0,3445.0,3319.0,3840.0,4008.0,3547.0,3084.0,3438.0,3833.0,4238.0,3919.0,3808.0,2757.0,2433.0,2549.0,3309.0,3461.0,4232.0,4414.0,3473.0,3221.0,3875.0,4070.0,3725.0,3352.0,3771.0,3237.0,2993.0,4157.0,4164.0,4411.0,3222.0,3981.0,3312.0,3105.0,3311.0,4061.0,3846.0,4044.0,4022.0,3420.0,3385.0,3854.0,3916.0,4377.0,4488.0,4116.0,2915.0,2367.0,2978.0,3634.0,3845.0,3838.0,3348.0,3348.0,3138.0,3363.0,3596.0,3594.0,4196.0,4220.0,3505.0,3296.0,3617.0,3789.0,3688.0,3152.0,2825.0,2298.0,2556.0,3272.0,3840.0,3901.0,3784.0,3176.0,2916.0,2778.0,3537.0,4044.0,3107.0,3777.0,3843.0,2773.0,2487.0,3480.0,3695.0,3896.0,3980.0,3854.0,2646.0,2482.0,3563.0,4004.0,4026.0,3166.0,3356.0,3277.0,2624.0,3925.0,4614.0,4181.0,3107.0,3893.0,889.0,2919.0,3905.0,4429.0,4370.0,4332.0,3852.0,2549.0,2419.0,2115.0,2506.0,1878.0,1689.0,3127.0,3595.0,3413.0,4023.0,4062.0,4138.0,3231.0,4018.0,3077.0,2921.0,3848.0,3203.0,3813.0,4240.0,2137.0,3647.0,3466.0,3946.0,3643.0,3427.0,4186.0,4372.0,1949.0,2302.0,3240.0,3970.0,4267.0,4126.0,4036.0,3174.0,3114.0,3603.0,3896.0,2199.0,2623.0,3115.0,3318.0,3293.0,3857.0,4111.0,2170.0,3724.0,3628.0,2809.0,2762.0,3488.0,3992.0,3490.0,2419.0,3291.0,570.0,2446.0,3307.0,3658.0,3816.0,3656.0,3576.0,2770.0,2697.0,3662.0,3829.0,3804.0,2743.0,2928.0,2792.0,2713.0,3891.0,3746.0,1672.0,2914.0,3147.0,2720.0,2733.0,2545.0,1538.0,2454.0,935.0,1697.0,1819.0,2261.0,3614.0,2818.0,3425.0,3545.0,3672.0,2908.0,2851.0,3578.0,2468.0,655.0,3172.0,3359.0,2688.0,2366.0,3167.0,3368.0,3562.0,3528.0,3399.0,2464.0,2211.0,3143.0,3534.0,2553.0,2841.0,2046.0,856.0,451.0,887.0,1059.0,2047.0,2169.0,2508.0,1820.0,1608.0,1707.0,2147.0,2273.0,3132.0,3791.0,3451.0,2826.0,2270.0,3425.0,2085.0,3828.0,3040.0,2160.0,2027.0,2081.0,2808.0,3267.0,3162.0,3048.0,1234.0,1781.0,2287.0,3900.0,3803.0,3831.0,3187.0,3248.0,2685.0,3498.0,4185.0,4275.0,3571.0,3841.0,2448.0,2629.0,3578.0,4176.0,2693.0,3667.0,3604.0,1977.0,1456.0,3328.0,3787.0,4028.0,2931.0,3805.0,2883.0,2071.0,2627.0,3614.0,4379.0,4546.0,3241.0,2415.0,2874.0,4069.0,4134.0,1769.0,4665.0,2948.0,3110.0,2713.0,3130.0,3735.0,4484.0,4896.0,4122.0,3150.0,3253.0,4460.0,5085.0,5315.0,5187.0,3830.0,4681.0,3685.0,5171.0,5042.0,5108.0,5537.0,5893.0,2339.0,3464.0,4763.0,4571.0,5024.0,5299.0,4663.0,3934.0,3694.0,4728.0,5424.0,5378.0,5265.0,4653.0,3605.0,2939.0,4680.0,5099.0,4380.0,4746.0,5146.0,4665.0,4286.0,5172.0,5702.0,4020.0,5719.0,5950.0,4083.0,907.0,3019.0,5115.0,5541.0,4551.0,5219.0,3100.0,4075.0,4907.0,5087.0,5502.0,5657.0,5227.0,4387.0,4224.0,5265.0,4990.0,4097.0,5546.0,5711.0,4807.0,3946.0,2501.0,4490.0,6433.0,6142.0,6118.0,4884.0,4425.0,3729.0,5254.0,4494.0,5711.0,5317.0,3681.0,3308.0,3486.0,4863.0,6110.0,6238.0,3594.0,5325.0,5147.0,5927.0,6033.0,6028.0,6456.0,6248.0,4790.0,4374.0,5647.0,4495.0,6248.0,6183.0,6102.0,4739.0,4344.0,4446.0,5857.0,5339.0,5127.0,4859.0,4801.0,4340.0,5640.0,6365.0,6258.0,5958.0,4634.0,4232.0,4110.0,5323.0,5608.0,4841.0,4836.0,4841.0,3392.0,3469.0,5571.0,5336.0,6289.0,6414.0,5988.0,4614.0,4111.0,5742.0,5865.0,4914.0,5703.0,5123.0,3195.0,4866.0,5831.0,6452.0,6790.0,5825.0,5645.0,4451.0,4444.0,6065.0,6248.0,6506.0,6278.0,5847.0,4479.0,3757.0,5780.0,5995.0,6271.0,6090.0,4721.0,4052.0,4362.0,5676.0,5656.0,6149.0,6267.0,5665.0,5038.0,3341.0,5504.0,5925.0,6281.0,6402.0,6257.0,4224.0,3772.0,5928.0,6105.0,6520.0,6541.0,5917.0,3788.0,3197.0,4069.0,5997.0,6280.0,5592.0,6459.0,4419.0,5657.0,6407.0,6697.0,6820.0,6750.0,6630.0,5554.0,5167.0,5847.0,3702.0,6803.0,6781.0,6917.0,5883.0,5453.0,6435.0,6693.0,6946.0,6642.0,6370.0,5966.0,4874.0,6015.0,4324.0,6844.0,6437.0,6640.0,4934.0,2729.0,4604.0,5791.0,6911.0,6736.0,6222.0,4857.0,4559.0,5115.0,6612.0,6482.0,6501.0,4671.0,5284.0,4692.0,6228.0,6625.0,6898.0,6484.0,6262.0,5209.0,3461.0,20.0,1009.0,5147.0,5520.0,5229.0,4109.0,3906.0,4881.0,5220.0,4709.0,4975.0,5283.0,4446.0,4562.0,5172.0,3767.0,5122.0,5125.0,5214.0,4316.0,3747.0,5050.0,5100.0,4531.0,1470.0,2307.0,1745.0,2115.0,4750.0,3836.0,5062.0,5080.0,5306.0,4240.0,3757.0,5679.0,6055.0,5398.0,5035.0,4659.0,4429.0,2787.0,4841.0,5219.0,5009.0,5107.0,5182.0,4280.0,3248.0,4373.0,5124.0,4934.0,3814.0,3402.0,1544.0,1379.0,746.0,573.0,432.0,1867.0,2451.0,1182.0,1432.0,2290.0],\"yaxis\":\"y4\",\"type\":\"scattergl\"},{\"hovertemplate\":\"var=hum<br>value=%{x}<br>registered=%{y}<extra></extra>\",\"legendgroup\":\"hum\",\"marker\":{\"color\":\"#00cc96\",\"symbol\":\"circle\"},\"mode\":\"markers\",\"name\":\"hum\",\"showlegend\":true,\"x\":[0.805833,0.696087,0.43727299999999997,0.590435,0.436957,0.518261,0.49869600000000003,0.535833,0.434167,0.482917,0.6863640000000001,0.599545,0.47041700000000003,0.537826,0.49875,0.48375,0.5375,0.861667,0.741739,0.538333,0.457083,0.4,0.436522,0.49173900000000004,0.616957,0.8625,0.6875,0.793043,0.6517390000000001,0.722174,0.60375,0.829565,0.775417,0.43782600000000005,0.585217,0.929167,0.568333,0.738333,0.537917,0.494783,0.437391,0.506364,0.544167,0.457391,0.375833,0.314348,0.42347799999999997,0.505,0.516667,0.187917,0.407826,0.605,0.577778,0.423043,0.697391,0.712174,0.537917,0.68,0.8763639999999999,0.535,0.449583,0.318333,0.610417,0.789167,0.948261,0.551304,0.420833,0.775417,0.0,0.649565,0.594583,0.5273909999999999,0.496957,0.655652,0.776522,0.602917,0.525217,0.37916700000000003,0.47375,0.737391,0.624583,0.839565,0.805833,0.495,0.394167,0.493913,0.302174,0.31416700000000003,0.646667,0.918333,0.68625,0.65375,0.48,0.42625,0.642083,0.470833,0.602917,0.83625,0.8775,0.8575,0.716956,0.739167,0.819167,0.540417,0.67125,0.888333,0.479583,0.5425,0.665833,0.614167,0.407083,0.729583,0.887917,0.810833,0.776667,0.729167,0.835417,0.700833,0.457083,0.503333,0.762083,0.73,0.697083,0.737083,0.44416700000000003,0.59,0.54125,0.631667,0.58875,0.489167,0.632917,0.7475,0.863333,0.9225,0.867083,0.787917,0.837917,0.87,0.829583,0.719583,0.626667,0.749583,0.81,0.740833,0.69625,0.6775,0.65375,0.729583,0.81875,0.685,0.636667,0.677083,0.305,0.354167,0.45625,0.6525,0.6,0.597917,0.6220829999999999,0.568333,0.605,0.654583,0.747917,0.494583,0.507083,0.471667,0.688333,0.735833,0.670417,0.666667,0.74625,0.770417,0.7075,0.703333,0.573333,0.483333,0.513333,0.658333,0.634167,0.497917,0.434167,0.39625,0.444583,0.6825,0.637917,0.590417,0.743333,0.65125,0.757917,0.609167,0.578333,0.635833,0.559167,0.631667,0.47625,0.59125,0.585,0.604167,0.65125,0.650417,0.707083,0.69125,0.580417,0.5,0.550833,0.757083,0.540833,0.402917,0.583333,0.5425,0.465833,0.480833,0.550833,0.49125,0.6575,0.7575,0.630833,0.755,0.7529170000000001,0.592083,0.570417,0.424167,0.42375,0.415,0.729583,0.8175,0.712083,0.578333,0.575417,0.654583,0.722917,0.674167,0.77,0.47,0.455417,0.605,0.771667,0.76125,0.85,0.561765,0.554583,0.548333,0.597917,0.639167,0.727083,0.716667,0.742083,0.790417,0.886957,0.917083,0.939565,0.897917,0.75375,0.71375,0.692174,0.7125,0.697083,0.709167,0.590417,0.718333,0.695,0.69,0.88125,0.9,0.902083,0.9725,0.8625,0.845,0.848333,0.885417,0.84875,0.699167,0.6475,0.75375,0.791667,0.760833,0.71,0.647917,0.620833,0.684167,0.70125,0.7275,0.73375,0.80875,0.90625,0.896667,0.71625,0.483333,0.486667,0.579583,0.701667,0.895217,0.63625,0.574167,0.629167,0.74125,0.772083,0.622917,0.720417,0.812917,0.585833,0.8825,0.62375,0.703333,0.68375,0.71875,0.702083,0.6225,0.519167,0.734583,0.75875,0.7216670000000001,0.758333,0.813333,0.44625,0.552917,0.458333,0.587083,0.68875,0.93,0.575833,0.41,0.502083,0.6845829999999999,0.91,0.9625,0.757917,0.549167,0.64375,0.681667,0.698333,0.743043,0.830833,0.613333,0.524583,0.625833,0.612917,0.775833,0.827083,0.949583,0.970417,0.58,0.695833,0.5075,0.49,0.670833,0.59,0.66375,0.634167,0.500417,0.560833,0.58625,0.6375,0.595417,0.858333,0.7575,0.68625,0.5425,0.681304,0.506957,0.7625,0.503913,0.574167,0.636667,0.615833,0.6925,0.381304,0.44125,0.414583,0.524167,0.542083,0.531667,0.465,0.701667,0.646522,0.8475,0.802917,0.5075,0.4575,0.419167,0.5225,0.716087,0.443333,0.4975,0.45,0.83125,0.79625,0.91125,0.835833,0.64375,0.769583,0.74125,0.543333,0.31125,0.400833,0.416667,0.507917,0.672917,0.526667,0.779583,0.687917,0.622174,0.49625,0.722917,0.562083,0.54,0.73125,0.46458299999999997,0.41125,0.50875,0.53125,0.7529170000000001,0.634583,0.534583,0.515833,0.507826,0.594348,0.567917,0.554583,0.7375,0.395833,0.41,0.490833,0.395833,0.804783,0.615417,0.657083,0.62125,0.403333,0.50625,0.456667,0.513333,0.5675,0.407083,0.35041700000000003,0.47695699999999996,0.489167,0.6175,0.507083,0.579583,0.842083,0.755833,0.81,0.72875,0.807917,0.82125,0.83125,0.694167,0.885417,0.880833,0.477917,0.29,0.48125,0.43916700000000003,0.580833,0.738333,0.67625,0.5043479999999999,0.396667,0.469583,0.374167,0.377083,0.25416700000000003,0.275833,0.3175,0.435,0.46956499999999995,0.46625,0.408333,0.5029170000000001,0.507917,0.561667,0.390417,0.569167,0.6125,0.694583,0.682917,0.835417,0.766667,0.454167,0.427917,0.756667,0.400833,0.489583,0.587083,0.57,0.659583,0.797083,0.768333,0.735417,0.756667,0.74,0.664167,0.685833,0.744167,0.552083,0.360417,0.480417,0.57625,0.789583,0.794583,0.697917,0.52,0.523333,0.45625,0.530417,0.81125,0.765833,0.774583,0.716667,0.7470829999999999,0.7325,0.697083,0.67625,0.6845829999999999,0.67,0.492917,0.755417,0.549167,0.49333299999999997,0.487083,0.613333,0.61125,0.567083,0.467917,0.437083,0.538333,0.587917,0.833333,0.582083,0.569583,0.589583,0.504167,0.59875,0.777917,0.69,0.592083,0.567917,0.57375,0.534583,0.479167,0.504167,0.37333299999999997,0.36,0.4225,0.48875,0.60125,0.51875,0.447083,0.492083,0.53875,0.457917,0.450833,0.492083,0.57375,0.683333,0.6675,0.633333,0.529583,0.485833,0.699167,0.717917,0.645,0.505833,0.577083,0.600417,0.844167,0.865417,0.7625,0.694167,0.655,0.45,0.5966670000000001,0.594583,0.613333,0.62375,0.66875,0.704167,0.6775,0.659583,0.6425,0.613333,0.6525,0.654167,0.70375,0.672917,0.620417,0.7158329999999999,0.732917,0.530417,0.545417,0.686667,0.619583,0.519167,0.570833,0.603333,0.711667,0.734167,0.67375,0.677083,0.635833,0.615,0.712917,0.845833,0.730417,0.62,0.552083,0.590417,0.5875,0.638333,0.815,0.790833,0.755,0.74125,0.810417,0.73625,0.799167,0.5475,0.50375,0.52,0.577083,0.637083,0.6725,0.501667,0.57,0.734583,0.8725,0.536667,0.618333,0.66875,0.646667,0.46708299999999997,0.492917,0.57,0.630833,0.690833,0.69,0.542917,0.583333,0.649167,0.871667,0.79375,0.722917,0.6275,0.664167,0.708333,0.709583,0.761667,0.630833,0.463333,0.539167,0.494583,0.640417,0.7075,0.558333,0.692917,0.728333,0.815,0.572917,0.51,0.568333,0.641667,0.63625,0.800417,0.807083,0.72,0.694583,0.88,0.8254549999999999,0.666667,0.581667,0.522083,0.49125,0.532917,0.494167,0.567083,0.5475,0.333478,0.540833,0.645417,0.6591670000000001,0.741667,0.662917,0.552083,0.620417,0.524583,0.545417,0.692917,0.623333,0.685,0.61375,0.580417,0.56875,0.40458299999999997,0.468333,0.535417,0.786667,0.50625,0.555652,0.649583,0.806667,0.823333,0.7675,0.73375,0.485,0.50875,0.764167,0.91125,0.905417,0.925,0.5966670000000001,0.538333,0.485833,0.642917,0.650417,0.83875,0.907083,0.66625,0.625417,0.667917,0.556667,0.44125,0.515417,0.791304,0.734783,0.823333,0.652917,0.59,0.7529170000000001,0.483333,0.5775],\"xaxis\":\"x\",\"y\":[654.0,670.0,1229.0,1454.0,1518.0,1518.0,1362.0,891.0,768.0,1280.0,1220.0,1137.0,1368.0,1367.0,1026.0,953.0,883.0,674.0,1572.0,1844.0,1468.0,888.0,836.0,1330.0,1799.0,472.0,416.0,1129.0,975.0,956.0,1459.0,1313.0,1454.0,1489.0,1620.0,905.0,1269.0,1592.0,1466.0,1552.0,1491.0,1597.0,1184.0,1192.0,1705.0,1675.0,1897.0,2216.0,2348.0,1103.0,1173.0,912.0,1376.0,1778.0,1707.0,1341.0,1545.0,1708.0,1365.0,1714.0,1903.0,1562.0,1730.0,1437.0,491.0,1628.0,1817.0,1700.0,577.0,1730.0,1408.0,1435.0,1687.0,1767.0,1871.0,2320.0,2355.0,1693.0,1424.0,1676.0,2243.0,1918.0,1699.0,1910.0,1515.0,1221.0,1806.0,2108.0,1368.0,1506.0,1920.0,1354.0,1598.0,2381.0,1628.0,2395.0,2570.0,1299.0,1576.0,1707.0,2493.0,1777.0,1953.0,2738.0,2484.0,674.0,2186.0,2760.0,2795.0,3331.0,3444.0,1506.0,2574.0,2481.0,3300.0,3722.0,3325.0,3489.0,3717.0,3347.0,2213.0,3554.0,3848.0,2378.0,3819.0,3714.0,3102.0,2932.0,3698.0,4109.0,3632.0,4169.0,3413.0,2507.0,2971.0,3185.0,3445.0,3319.0,3840.0,4008.0,3547.0,3084.0,3438.0,3833.0,4238.0,3919.0,3808.0,2757.0,2433.0,2549.0,3309.0,3461.0,4232.0,4414.0,3473.0,3221.0,3875.0,4070.0,3725.0,3352.0,3771.0,3237.0,2993.0,4157.0,4164.0,4411.0,3222.0,3981.0,3312.0,3105.0,3311.0,4061.0,3846.0,4044.0,4022.0,3420.0,3385.0,3854.0,3916.0,4377.0,4488.0,4116.0,2915.0,2367.0,2978.0,3634.0,3845.0,3838.0,3348.0,3348.0,3138.0,3363.0,3596.0,3594.0,4196.0,4220.0,3505.0,3296.0,3617.0,3789.0,3688.0,3152.0,2825.0,2298.0,2556.0,3272.0,3840.0,3901.0,3784.0,3176.0,2916.0,2778.0,3537.0,4044.0,3107.0,3777.0,3843.0,2773.0,2487.0,3480.0,3695.0,3896.0,3980.0,3854.0,2646.0,2482.0,3563.0,4004.0,4026.0,3166.0,3356.0,3277.0,2624.0,3925.0,4614.0,4181.0,3107.0,3893.0,889.0,2919.0,3905.0,4429.0,4370.0,4332.0,3852.0,2549.0,2419.0,2115.0,2506.0,1878.0,1689.0,3127.0,3595.0,3413.0,4023.0,4062.0,4138.0,3231.0,4018.0,3077.0,2921.0,3848.0,3203.0,3813.0,4240.0,2137.0,3647.0,3466.0,3946.0,3643.0,3427.0,4186.0,4372.0,1949.0,2302.0,3240.0,3970.0,4267.0,4126.0,4036.0,3174.0,3114.0,3603.0,3896.0,2199.0,2623.0,3115.0,3318.0,3293.0,3857.0,4111.0,2170.0,3724.0,3628.0,2809.0,2762.0,3488.0,3992.0,3490.0,2419.0,3291.0,570.0,2446.0,3307.0,3658.0,3816.0,3656.0,3576.0,2770.0,2697.0,3662.0,3829.0,3804.0,2743.0,2928.0,2792.0,2713.0,3891.0,3746.0,1672.0,2914.0,3147.0,2720.0,2733.0,2545.0,1538.0,2454.0,935.0,1697.0,1819.0,2261.0,3614.0,2818.0,3425.0,3545.0,3672.0,2908.0,2851.0,3578.0,2468.0,655.0,3172.0,3359.0,2688.0,2366.0,3167.0,3368.0,3562.0,3528.0,3399.0,2464.0,2211.0,3143.0,3534.0,2553.0,2841.0,2046.0,856.0,451.0,887.0,1059.0,2047.0,2169.0,2508.0,1820.0,1608.0,1707.0,2147.0,2273.0,3132.0,3791.0,3451.0,2826.0,2270.0,3425.0,2085.0,3828.0,3040.0,2160.0,2027.0,2081.0,2808.0,3267.0,3162.0,3048.0,1234.0,1781.0,2287.0,3900.0,3803.0,3831.0,3187.0,3248.0,2685.0,3498.0,4185.0,4275.0,3571.0,3841.0,2448.0,2629.0,3578.0,4176.0,2693.0,3667.0,3604.0,1977.0,1456.0,3328.0,3787.0,4028.0,2931.0,3805.0,2883.0,2071.0,2627.0,3614.0,4379.0,4546.0,3241.0,2415.0,2874.0,4069.0,4134.0,1769.0,4665.0,2948.0,3110.0,2713.0,3130.0,3735.0,4484.0,4896.0,4122.0,3150.0,3253.0,4460.0,5085.0,5315.0,5187.0,3830.0,4681.0,3685.0,5171.0,5042.0,5108.0,5537.0,5893.0,2339.0,3464.0,4763.0,4571.0,5024.0,5299.0,4663.0,3934.0,3694.0,4728.0,5424.0,5378.0,5265.0,4653.0,3605.0,2939.0,4680.0,5099.0,4380.0,4746.0,5146.0,4665.0,4286.0,5172.0,5702.0,4020.0,5719.0,5950.0,4083.0,907.0,3019.0,5115.0,5541.0,4551.0,5219.0,3100.0,4075.0,4907.0,5087.0,5502.0,5657.0,5227.0,4387.0,4224.0,5265.0,4990.0,4097.0,5546.0,5711.0,4807.0,3946.0,2501.0,4490.0,6433.0,6142.0,6118.0,4884.0,4425.0,3729.0,5254.0,4494.0,5711.0,5317.0,3681.0,3308.0,3486.0,4863.0,6110.0,6238.0,3594.0,5325.0,5147.0,5927.0,6033.0,6028.0,6456.0,6248.0,4790.0,4374.0,5647.0,4495.0,6248.0,6183.0,6102.0,4739.0,4344.0,4446.0,5857.0,5339.0,5127.0,4859.0,4801.0,4340.0,5640.0,6365.0,6258.0,5958.0,4634.0,4232.0,4110.0,5323.0,5608.0,4841.0,4836.0,4841.0,3392.0,3469.0,5571.0,5336.0,6289.0,6414.0,5988.0,4614.0,4111.0,5742.0,5865.0,4914.0,5703.0,5123.0,3195.0,4866.0,5831.0,6452.0,6790.0,5825.0,5645.0,4451.0,4444.0,6065.0,6248.0,6506.0,6278.0,5847.0,4479.0,3757.0,5780.0,5995.0,6271.0,6090.0,4721.0,4052.0,4362.0,5676.0,5656.0,6149.0,6267.0,5665.0,5038.0,3341.0,5504.0,5925.0,6281.0,6402.0,6257.0,4224.0,3772.0,5928.0,6105.0,6520.0,6541.0,5917.0,3788.0,3197.0,4069.0,5997.0,6280.0,5592.0,6459.0,4419.0,5657.0,6407.0,6697.0,6820.0,6750.0,6630.0,5554.0,5167.0,5847.0,3702.0,6803.0,6781.0,6917.0,5883.0,5453.0,6435.0,6693.0,6946.0,6642.0,6370.0,5966.0,4874.0,6015.0,4324.0,6844.0,6437.0,6640.0,4934.0,2729.0,4604.0,5791.0,6911.0,6736.0,6222.0,4857.0,4559.0,5115.0,6612.0,6482.0,6501.0,4671.0,5284.0,4692.0,6228.0,6625.0,6898.0,6484.0,6262.0,5209.0,3461.0,20.0,1009.0,5147.0,5520.0,5229.0,4109.0,3906.0,4881.0,5220.0,4709.0,4975.0,5283.0,4446.0,4562.0,5172.0,3767.0,5122.0,5125.0,5214.0,4316.0,3747.0,5050.0,5100.0,4531.0,1470.0,2307.0,1745.0,2115.0,4750.0,3836.0,5062.0,5080.0,5306.0,4240.0,3757.0,5679.0,6055.0,5398.0,5035.0,4659.0,4429.0,2787.0,4841.0,5219.0,5009.0,5107.0,5182.0,4280.0,3248.0,4373.0,5124.0,4934.0,3814.0,3402.0,1544.0,1379.0,746.0,573.0,432.0,1867.0,2451.0,1182.0,1432.0,2290.0],\"yaxis\":\"y\",\"type\":\"scattergl\"},{\"hovertemplate\":\"var=windspeed<br>value=%{x}<br>registered=%{y}<extra></extra>\",\"legendgroup\":\"windspeed\",\"marker\":{\"color\":\"#ab63fa\",\"symbol\":\"circle\"},\"mode\":\"markers\",\"name\":\"windspeed\",\"showlegend\":true,\"x\":[0.160446,0.24853899999999998,0.248309,0.160296,0.1869,0.0895652,0.168726,0.266804,0.36195,0.22326700000000002,0.12213199999999999,0.304627,0.301,0.126548,0.15796300000000002,0.188433,0.194017,0.146775,0.208317,0.195904,0.353242,0.17197,0.2466,0.15833,0.129796,0.29385,0.113837,0.1233,0.14536500000000002,0.0739826,0.187192,0.053212999999999996,0.264308,0.277752,0.127839,0.161079,0.1418,0.045408300000000006,0.36195,0.188839,0.221935,0.10855,0.20336700000000002,0.260883,0.417908,0.29137399999999997,0.251791,0.230104,0.264925,0.507463,0.223235,0.307846,0.195683,0.094113,0.250496,0.346539,0.18657100000000001,0.125248,0.289686,0.216425,0.30783299999999997,0.225754,0.203346,0.251871,0.343287,0.341352,0.12065,0.22015,0.26187699999999997,0.23296999999999998,0.220775,0.270604,0.136926,0.184309,0.20311700000000002,0.209579,0.231017,0.368167,0.20772100000000002,0.288783,0.22575,0.23426100000000002,0.24378699999999998,0.230725,0.209571,0.1843,0.212204,0.226996,0.17288800000000001,0.217646,0.258708,0.19714600000000002,0.182213,0.385571,0.388067,0.263063,0.16231199999999998,0.226992,0.13308299999999998,0.146767,0.324474,0.274879,0.25061700000000003,0.1107,0.226375,0.340808,0.303496,0.16356700000000002,0.157971,0.241925,0.325258,0.219521,0.230725,0.192175,0.185333,0.3265,0.3122,0.32090799999999997,0.240063,0.235075,0.10635399999999999,0.183454,0.342667,0.328996,0.295392,0.228246,0.16045,0.0746375,0.17600000000000002,0.11567100000000001,0.12064200000000001,0.189667,0.179725,0.13495,0.152979,0.126871,0.277354,0.201492,0.10821300000000002,0.125013,0.12065,0.148008,0.233842,0.207092,0.15423299999999998,0.19964200000000001,0.240679,0.23009200000000002,0.21393800000000002,0.131225,0.111329,0.207092,0.29228699999999996,0.253121,0.123142,0.138692,0.121896,0.187808,0.136817,0.149883,0.14055399999999998,0.15485,0.16356700000000002,0.30535,0.269283,0.16791199999999998,0.20647100000000002,0.143029,0.11940799999999999,0.102,0.155475,0.171025,0.172262,0.238804,0.222025,0.209571,0.09453330000000001,0.10758800000000002,0.144283,0.261821,0.18531199999999998,0.10260799999999999,0.11506199999999998,0.228858,0.08147919999999999,0.12625799999999998,0.149883,0.1592,0.225129,0.16791199999999998,0.183471,0.282337,0.200254,0.14613299999999999,0.24066700000000002,0.182833,0.208342,0.245033,0.215804,0.1306,0.113817,0.222021,0.1331,0.131221,0.16917100000000002,0.09080830000000001,0.200258,0.18346300000000001,0.178479,0.17413800000000001,0.168537,0.16481300000000002,0.156717,0.20585,0.13558299999999998,0.19715,0.184696,0.22825,0.201487,0.192175,0.151121,0.200258,0.164796,0.125621,0.211454,0.222633,0.208954,0.23632899999999998,0.14366700000000002,0.233208,0.139308,0.104467,0.248754,0.27675,0.146763,0.253108,0.210833,0.0839625,0.37561700000000003,0.304659,0.159825,0.12500799999999998,0.08333330000000001,0.141796,0.139929,0.185325,0.206467,0.212696,0.343943,0.0970208,0.192748,0.12437899999999999,0.153608,0.11505399999999999,0.088913,0.14180399999999999,0.1673,0.271146,0.164183,0.189675,0.178483,0.15174200000000002,0.134954,0.0964042,0.128125,0.0783667,0.0783833,0.0503792,0.1107,0.118171,0.14862899999999998,0.17288299999999998,0.206475,0.292296,0.22201300000000002,0.08334580000000001,0.205854,0.17725,0.134954,0.0223917,0.0454042,0.06345,0.0423042,0.143042,0.24815,0.141787,0.223883,0.258083,0.281717,0.175379,0.11008699999999999,0.243339,0.422275,0.221396,0.09266669999999999,0.0995125,0.11879200000000001,0.166658,0.148642,0.19776300000000002,0.229479,0.351371,0.176617,0.10635,0.135571,0.08209169999999999,0.136817,0.271779,0.18906199999999998,0.09205419999999999,0.057225,0.0690375,0.06219580000000001,0.189067,0.314675,0.212062,0.281721,0.306596,0.199633,0.136829,0.30536199999999997,0.168533,0.224496,0.18595,0.138054,0.11879200000000001,0.335825,0.167304,0.0988958,0.0684208,0.208954,0.142122,0.258092,0.271158,0.220158,0.100754,0.0957833,0.08395830000000001,0.06220830000000001,0.23258299999999998,0.266175,0.240058,0.08271669999999999,0.233221,0.0665417,0.06345,0.14055,0.06095830000000001,0.268042,0.260575,0.243167,0.16977899999999999,0.172896,0.06157080000000001,0.2214,0.047275,0.274246,0.190304,0.155091,0.239465,0.18845,0.29396100000000003,0.11941199999999999,0.13433699999999998,0.220154,0.192167,0.329665,0.365671,0.1847,0.129987,0.167908,0.174758,0.19154200000000002,0.0989,0.187552,0.131221,0.18096700000000002,0.378108,0.187183,0.251258,0.23135799999999998,0.34913,0.415429,0.220158,0.20275,0.222642,0.199638,0.11070799999999999,0.123767,0.161071,0.07339580000000001,0.342667,0.210829,0.24005,0.215792,0.261817,0.189067,0.187187,0.17849600000000002,0.121896,0.175996,0.1538,0.147379,0.133721,0.194037,0.11692899999999999,0.289796,0.40921199999999996,0.167283,0.141179,0.1816,0.091425,0.205846,0.190929,0.253112,0.22908299999999998,0.205717,0.234471,0.190913,0.237567,0.421642,0.205229,0.26803299999999997,0.193417,0.179117,0.226987,0.144904,0.161079,0.334571,0.228858,0.200875,0.345779,0.441563,0.4148,0.22575,0.22258699999999998,0.207713,0.23695,0.11506199999999998,0.149883,0.113192,0.110704,0.126883,0.16231700000000002,0.121271,0.08955830000000001,0.11756199999999999,0.1163,0.19278299999999998,0.220775,0.386821,0.187192,0.291671,0.31965,0.138067,0.25061700000000003,0.172267,0.312139,0.100133,0.180975,0.219529,0.300388,0.274871,0.232596,0.358196,0.249375,0.295274,0.290429,0.155471,0.190917,0.225129,0.284829,0.273629,0.16791199999999998,0.0659292,0.149871,0.283587,0.344546,0.303496,0.249383,0.11879200000000001,0.176625,0.34763299999999997,0.129975,0.116908,0.171638,0.156096,0.138058,0.133696,0.162938,0.15299200000000002,0.14987899999999998,0.230721,0.296029,0.216412,0.31406300000000004,0.23693699999999998,0.12313299999999999,0.225117,0.21269200000000002,0.147392,0.122512,0.229475,0.136817,0.083975,0.254367,0.233204,0.11816700000000001,0.102,0.172896,0.14055,0.198992,0.215171,0.196521,0.2954,0.134329,0.195279,0.23756300000000002,0.18656199999999998,0.184087,0.284833,0.209575,0.077125,0.15735,0.17538299999999998,0.144287,0.133721,0.207713,0.21454600000000001,0.343279,0.253733,0.176617,0.166667,0.144904,0.174746,0.148017,0.11381199999999998,0.11878699999999999,0.182842,0.179721,0.145525,0.300383,0.347642,0.271775,0.17165,0.165417,0.161071,0.16852899999999998,0.195267,0.126237,0.13495,0.194029,0.146142,0.163554,0.125629,0.180975,0.15173699999999998,0.15173299999999998,0.146775,0.08085,0.143679,0.166667,0.164187,0.114429,0.137442,0.165429,0.208967,0.2133,0.09392080000000001,0.138683,0.211454,0.1648,0.28481300000000004,0.15299200000000002,0.15735,0.170396,0.153617,0.165425,0.141179,0.129354,0.215792,0.257458,0.290421,0.129354,0.116908,0.1107,0.1561,0.238813,0.206479,0.122512,0.136212,0.169158,0.169771,0.141796,0.231354,0.177867,0.08645,0.12997899999999998,0.07277080000000001,0.0702833,0.08459580000000001,0.07214580000000001,0.244408,0.228858,0.128733,0.190925,0.112562,0.0771167,0.168533,0.113187,0.06407080000000001,0.151121,0.236321,0.187808,0.142421,0.171646,0.281104,0.224496,0.258713,0.09205419999999999,0.131846,0.08272080000000001,0.10386300000000001,0.247521,0.09018330000000001,0.15174200000000002,0.357587,0.215175,0.11816700000000001,0.154229,0.283583,0.22325799999999998,0.142404,0.236321,0.2444,0.13434200000000002,0.164179,0.227604,0.134958,0.09080419999999999,0.104475,0.0665458,0.117546,0.10635,0.268025,0.14116199999999998,0.189679,0.1903,0.18782100000000002,0.181596,0.235092,0.146142,0.27861199999999997,0.296037,0.182221,0.101371,0.23693699999999998,0.134954,0.11753699999999999,0.166054,0.08148330000000001,0.09454580000000001,0.07277919999999999,0.124375,0.132467,0.235692,0.398008,0.3582,0.213009,0.166667,0.157346,0.266175,0.270529,0.179108,0.236325,0.173513,0.304108,0.347835,0.214558,0.05784580000000001,0.1275,0.173517,0.342046,0.199625,0.15298699999999998,0.171025,0.179729,0.22761199999999998,0.235067,0.082725,0.103246,0.05287080000000001,0.148021,0.376871,0.1505,0.04665,0.237562,0.210821,0.115522,0.05847080000000001,0.05970419999999999,0.12437899999999999,0.08272080000000001,0.174129,0.324021,0.174754,0.1306,0.101379,0.157975,0.190308,0.296037,0.162937,0.174129,0.13122899999999998,0.10635,0.100742,0.0982583,0.221404,0.184092,0.132463,0.37438299999999997,0.407346,0.13308299999999998,0.07723039999999999,0.168726,0.316546,0.35013299999999997,0.155471,0.124383,0.350754,0.154846],\"xaxis\":\"x2\",\"y\":[654.0,670.0,1229.0,1454.0,1518.0,1518.0,1362.0,891.0,768.0,1280.0,1220.0,1137.0,1368.0,1367.0,1026.0,953.0,883.0,674.0,1572.0,1844.0,1468.0,888.0,836.0,1330.0,1799.0,472.0,416.0,1129.0,975.0,956.0,1459.0,1313.0,1454.0,1489.0,1620.0,905.0,1269.0,1592.0,1466.0,1552.0,1491.0,1597.0,1184.0,1192.0,1705.0,1675.0,1897.0,2216.0,2348.0,1103.0,1173.0,912.0,1376.0,1778.0,1707.0,1341.0,1545.0,1708.0,1365.0,1714.0,1903.0,1562.0,1730.0,1437.0,491.0,1628.0,1817.0,1700.0,577.0,1730.0,1408.0,1435.0,1687.0,1767.0,1871.0,2320.0,2355.0,1693.0,1424.0,1676.0,2243.0,1918.0,1699.0,1910.0,1515.0,1221.0,1806.0,2108.0,1368.0,1506.0,1920.0,1354.0,1598.0,2381.0,1628.0,2395.0,2570.0,1299.0,1576.0,1707.0,2493.0,1777.0,1953.0,2738.0,2484.0,674.0,2186.0,2760.0,2795.0,3331.0,3444.0,1506.0,2574.0,2481.0,3300.0,3722.0,3325.0,3489.0,3717.0,3347.0,2213.0,3554.0,3848.0,2378.0,3819.0,3714.0,3102.0,2932.0,3698.0,4109.0,3632.0,4169.0,3413.0,2507.0,2971.0,3185.0,3445.0,3319.0,3840.0,4008.0,3547.0,3084.0,3438.0,3833.0,4238.0,3919.0,3808.0,2757.0,2433.0,2549.0,3309.0,3461.0,4232.0,4414.0,3473.0,3221.0,3875.0,4070.0,3725.0,3352.0,3771.0,3237.0,2993.0,4157.0,4164.0,4411.0,3222.0,3981.0,3312.0,3105.0,3311.0,4061.0,3846.0,4044.0,4022.0,3420.0,3385.0,3854.0,3916.0,4377.0,4488.0,4116.0,2915.0,2367.0,2978.0,3634.0,3845.0,3838.0,3348.0,3348.0,3138.0,3363.0,3596.0,3594.0,4196.0,4220.0,3505.0,3296.0,3617.0,3789.0,3688.0,3152.0,2825.0,2298.0,2556.0,3272.0,3840.0,3901.0,3784.0,3176.0,2916.0,2778.0,3537.0,4044.0,3107.0,3777.0,3843.0,2773.0,2487.0,3480.0,3695.0,3896.0,3980.0,3854.0,2646.0,2482.0,3563.0,4004.0,4026.0,3166.0,3356.0,3277.0,2624.0,3925.0,4614.0,4181.0,3107.0,3893.0,889.0,2919.0,3905.0,4429.0,4370.0,4332.0,3852.0,2549.0,2419.0,2115.0,2506.0,1878.0,1689.0,3127.0,3595.0,3413.0,4023.0,4062.0,4138.0,3231.0,4018.0,3077.0,2921.0,3848.0,3203.0,3813.0,4240.0,2137.0,3647.0,3466.0,3946.0,3643.0,3427.0,4186.0,4372.0,1949.0,2302.0,3240.0,3970.0,4267.0,4126.0,4036.0,3174.0,3114.0,3603.0,3896.0,2199.0,2623.0,3115.0,3318.0,3293.0,3857.0,4111.0,2170.0,3724.0,3628.0,2809.0,2762.0,3488.0,3992.0,3490.0,2419.0,3291.0,570.0,2446.0,3307.0,3658.0,3816.0,3656.0,3576.0,2770.0,2697.0,3662.0,3829.0,3804.0,2743.0,2928.0,2792.0,2713.0,3891.0,3746.0,1672.0,2914.0,3147.0,2720.0,2733.0,2545.0,1538.0,2454.0,935.0,1697.0,1819.0,2261.0,3614.0,2818.0,3425.0,3545.0,3672.0,2908.0,2851.0,3578.0,2468.0,655.0,3172.0,3359.0,2688.0,2366.0,3167.0,3368.0,3562.0,3528.0,3399.0,2464.0,2211.0,3143.0,3534.0,2553.0,2841.0,2046.0,856.0,451.0,887.0,1059.0,2047.0,2169.0,2508.0,1820.0,1608.0,1707.0,2147.0,2273.0,3132.0,3791.0,3451.0,2826.0,2270.0,3425.0,2085.0,3828.0,3040.0,2160.0,2027.0,2081.0,2808.0,3267.0,3162.0,3048.0,1234.0,1781.0,2287.0,3900.0,3803.0,3831.0,3187.0,3248.0,2685.0,3498.0,4185.0,4275.0,3571.0,3841.0,2448.0,2629.0,3578.0,4176.0,2693.0,3667.0,3604.0,1977.0,1456.0,3328.0,3787.0,4028.0,2931.0,3805.0,2883.0,2071.0,2627.0,3614.0,4379.0,4546.0,3241.0,2415.0,2874.0,4069.0,4134.0,1769.0,4665.0,2948.0,3110.0,2713.0,3130.0,3735.0,4484.0,4896.0,4122.0,3150.0,3253.0,4460.0,5085.0,5315.0,5187.0,3830.0,4681.0,3685.0,5171.0,5042.0,5108.0,5537.0,5893.0,2339.0,3464.0,4763.0,4571.0,5024.0,5299.0,4663.0,3934.0,3694.0,4728.0,5424.0,5378.0,5265.0,4653.0,3605.0,2939.0,4680.0,5099.0,4380.0,4746.0,5146.0,4665.0,4286.0,5172.0,5702.0,4020.0,5719.0,5950.0,4083.0,907.0,3019.0,5115.0,5541.0,4551.0,5219.0,3100.0,4075.0,4907.0,5087.0,5502.0,5657.0,5227.0,4387.0,4224.0,5265.0,4990.0,4097.0,5546.0,5711.0,4807.0,3946.0,2501.0,4490.0,6433.0,6142.0,6118.0,4884.0,4425.0,3729.0,5254.0,4494.0,5711.0,5317.0,3681.0,3308.0,3486.0,4863.0,6110.0,6238.0,3594.0,5325.0,5147.0,5927.0,6033.0,6028.0,6456.0,6248.0,4790.0,4374.0,5647.0,4495.0,6248.0,6183.0,6102.0,4739.0,4344.0,4446.0,5857.0,5339.0,5127.0,4859.0,4801.0,4340.0,5640.0,6365.0,6258.0,5958.0,4634.0,4232.0,4110.0,5323.0,5608.0,4841.0,4836.0,4841.0,3392.0,3469.0,5571.0,5336.0,6289.0,6414.0,5988.0,4614.0,4111.0,5742.0,5865.0,4914.0,5703.0,5123.0,3195.0,4866.0,5831.0,6452.0,6790.0,5825.0,5645.0,4451.0,4444.0,6065.0,6248.0,6506.0,6278.0,5847.0,4479.0,3757.0,5780.0,5995.0,6271.0,6090.0,4721.0,4052.0,4362.0,5676.0,5656.0,6149.0,6267.0,5665.0,5038.0,3341.0,5504.0,5925.0,6281.0,6402.0,6257.0,4224.0,3772.0,5928.0,6105.0,6520.0,6541.0,5917.0,3788.0,3197.0,4069.0,5997.0,6280.0,5592.0,6459.0,4419.0,5657.0,6407.0,6697.0,6820.0,6750.0,6630.0,5554.0,5167.0,5847.0,3702.0,6803.0,6781.0,6917.0,5883.0,5453.0,6435.0,6693.0,6946.0,6642.0,6370.0,5966.0,4874.0,6015.0,4324.0,6844.0,6437.0,6640.0,4934.0,2729.0,4604.0,5791.0,6911.0,6736.0,6222.0,4857.0,4559.0,5115.0,6612.0,6482.0,6501.0,4671.0,5284.0,4692.0,6228.0,6625.0,6898.0,6484.0,6262.0,5209.0,3461.0,20.0,1009.0,5147.0,5520.0,5229.0,4109.0,3906.0,4881.0,5220.0,4709.0,4975.0,5283.0,4446.0,4562.0,5172.0,3767.0,5122.0,5125.0,5214.0,4316.0,3747.0,5050.0,5100.0,4531.0,1470.0,2307.0,1745.0,2115.0,4750.0,3836.0,5062.0,5080.0,5306.0,4240.0,3757.0,5679.0,6055.0,5398.0,5035.0,4659.0,4429.0,2787.0,4841.0,5219.0,5009.0,5107.0,5182.0,4280.0,3248.0,4373.0,5124.0,4934.0,3814.0,3402.0,1544.0,1379.0,746.0,573.0,432.0,1867.0,2451.0,1182.0,1432.0,2290.0],\"yaxis\":\"y2\",\"type\":\"scattergl\"}],                        {\"template\":{\"data\":{\"bar\":[{\"error_x\":{\"color\":\"#2a3f5f\"},\"error_y\":{\"color\":\"#2a3f5f\"},\"marker\":{\"line\":{\"color\":\"#E5ECF6\",\"width\":0.5},\"pattern\":{\"fillmode\":\"overlay\",\"size\":10,\"solidity\":0.2}},\"type\":\"bar\"}],\"barpolar\":[{\"marker\":{\"line\":{\"color\":\"#E5ECF6\",\"width\":0.5},\"pattern\":{\"fillmode\":\"overlay\",\"size\":10,\"solidity\":0.2}},\"type\":\"barpolar\"}],\"carpet\":[{\"aaxis\":{\"endlinecolor\":\"#2a3f5f\",\"gridcolor\":\"white\",\"linecolor\":\"white\",\"minorgridcolor\":\"white\",\"startlinecolor\":\"#2a3f5f\"},\"baxis\":{\"endlinecolor\":\"#2a3f5f\",\"gridcolor\":\"white\",\"linecolor\":\"white\",\"minorgridcolor\":\"white\",\"startlinecolor\":\"#2a3f5f\"},\"type\":\"carpet\"}],\"choropleth\":[{\"colorbar\":{\"outlinewidth\":0,\"ticks\":\"\"},\"type\":\"choropleth\"}],\"contour\":[{\"colorbar\":{\"outlinewidth\":0,\"ticks\":\"\"},\"colorscale\":[[0.0,\"#0d0887\"],[0.1111111111111111,\"#46039f\"],[0.2222222222222222,\"#7201a8\"],[0.3333333333333333,\"#9c179e\"],[0.4444444444444444,\"#bd3786\"],[0.5555555555555556,\"#d8576b\"],[0.6666666666666666,\"#ed7953\"],[0.7777777777777778,\"#fb9f3a\"],[0.8888888888888888,\"#fdca26\"],[1.0,\"#f0f921\"]],\"type\":\"contour\"}],\"contourcarpet\":[{\"colorbar\":{\"outlinewidth\":0,\"ticks\":\"\"},\"type\":\"contourcarpet\"}],\"heatmap\":[{\"colorbar\":{\"outlinewidth\":0,\"ticks\":\"\"},\"colorscale\":[[0.0,\"#0d0887\"],[0.1111111111111111,\"#46039f\"],[0.2222222222222222,\"#7201a8\"],[0.3333333333333333,\"#9c179e\"],[0.4444444444444444,\"#bd3786\"],[0.5555555555555556,\"#d8576b\"],[0.6666666666666666,\"#ed7953\"],[0.7777777777777778,\"#fb9f3a\"],[0.8888888888888888,\"#fdca26\"],[1.0,\"#f0f921\"]],\"type\":\"heatmap\"}],\"heatmapgl\":[{\"colorbar\":{\"outlinewidth\":0,\"ticks\":\"\"},\"colorscale\":[[0.0,\"#0d0887\"],[0.1111111111111111,\"#46039f\"],[0.2222222222222222,\"#7201a8\"],[0.3333333333333333,\"#9c179e\"],[0.4444444444444444,\"#bd3786\"],[0.5555555555555556,\"#d8576b\"],[0.6666666666666666,\"#ed7953\"],[0.7777777777777778,\"#fb9f3a\"],[0.8888888888888888,\"#fdca26\"],[1.0,\"#f0f921\"]],\"type\":\"heatmapgl\"}],\"histogram\":[{\"marker\":{\"pattern\":{\"fillmode\":\"overlay\",\"size\":10,\"solidity\":0.2}},\"type\":\"histogram\"}],\"histogram2d\":[{\"colorbar\":{\"outlinewidth\":0,\"ticks\":\"\"},\"colorscale\":[[0.0,\"#0d0887\"],[0.1111111111111111,\"#46039f\"],[0.2222222222222222,\"#7201a8\"],[0.3333333333333333,\"#9c179e\"],[0.4444444444444444,\"#bd3786\"],[0.5555555555555556,\"#d8576b\"],[0.6666666666666666,\"#ed7953\"],[0.7777777777777778,\"#fb9f3a\"],[0.8888888888888888,\"#fdca26\"],[1.0,\"#f0f921\"]],\"type\":\"histogram2d\"}],\"histogram2dcontour\":[{\"colorbar\":{\"outlinewidth\":0,\"ticks\":\"\"},\"colorscale\":[[0.0,\"#0d0887\"],[0.1111111111111111,\"#46039f\"],[0.2222222222222222,\"#7201a8\"],[0.3333333333333333,\"#9c179e\"],[0.4444444444444444,\"#bd3786\"],[0.5555555555555556,\"#d8576b\"],[0.6666666666666666,\"#ed7953\"],[0.7777777777777778,\"#fb9f3a\"],[0.8888888888888888,\"#fdca26\"],[1.0,\"#f0f921\"]],\"type\":\"histogram2dcontour\"}],\"mesh3d\":[{\"colorbar\":{\"outlinewidth\":0,\"ticks\":\"\"},\"type\":\"mesh3d\"}],\"parcoords\":[{\"line\":{\"colorbar\":{\"outlinewidth\":0,\"ticks\":\"\"}},\"type\":\"parcoords\"}],\"pie\":[{\"automargin\":true,\"type\":\"pie\"}],\"scatter\":[{\"marker\":{\"colorbar\":{\"outlinewidth\":0,\"ticks\":\"\"}},\"type\":\"scatter\"}],\"scatter3d\":[{\"line\":{\"colorbar\":{\"outlinewidth\":0,\"ticks\":\"\"}},\"marker\":{\"colorbar\":{\"outlinewidth\":0,\"ticks\":\"\"}},\"type\":\"scatter3d\"}],\"scattercarpet\":[{\"marker\":{\"colorbar\":{\"outlinewidth\":0,\"ticks\":\"\"}},\"type\":\"scattercarpet\"}],\"scattergeo\":[{\"marker\":{\"colorbar\":{\"outlinewidth\":0,\"ticks\":\"\"}},\"type\":\"scattergeo\"}],\"scattergl\":[{\"marker\":{\"colorbar\":{\"outlinewidth\":0,\"ticks\":\"\"}},\"type\":\"scattergl\"}],\"scattermapbox\":[{\"marker\":{\"colorbar\":{\"outlinewidth\":0,\"ticks\":\"\"}},\"type\":\"scattermapbox\"}],\"scatterpolar\":[{\"marker\":{\"colorbar\":{\"outlinewidth\":0,\"ticks\":\"\"}},\"type\":\"scatterpolar\"}],\"scatterpolargl\":[{\"marker\":{\"colorbar\":{\"outlinewidth\":0,\"ticks\":\"\"}},\"type\":\"scatterpolargl\"}],\"scatterternary\":[{\"marker\":{\"colorbar\":{\"outlinewidth\":0,\"ticks\":\"\"}},\"type\":\"scatterternary\"}],\"surface\":[{\"colorbar\":{\"outlinewidth\":0,\"ticks\":\"\"},\"colorscale\":[[0.0,\"#0d0887\"],[0.1111111111111111,\"#46039f\"],[0.2222222222222222,\"#7201a8\"],[0.3333333333333333,\"#9c179e\"],[0.4444444444444444,\"#bd3786\"],[0.5555555555555556,\"#d8576b\"],[0.6666666666666666,\"#ed7953\"],[0.7777777777777778,\"#fb9f3a\"],[0.8888888888888888,\"#fdca26\"],[1.0,\"#f0f921\"]],\"type\":\"surface\"}],\"table\":[{\"cells\":{\"fill\":{\"color\":\"#EBF0F8\"},\"line\":{\"color\":\"white\"}},\"header\":{\"fill\":{\"color\":\"#C8D4E3\"},\"line\":{\"color\":\"white\"}},\"type\":\"table\"}]},\"layout\":{\"annotationdefaults\":{\"arrowcolor\":\"#2a3f5f\",\"arrowhead\":0,\"arrowwidth\":1},\"autotypenumbers\":\"strict\",\"coloraxis\":{\"colorbar\":{\"outlinewidth\":0,\"ticks\":\"\"}},\"colorscale\":{\"diverging\":[[0,\"#8e0152\"],[0.1,\"#c51b7d\"],[0.2,\"#de77ae\"],[0.3,\"#f1b6da\"],[0.4,\"#fde0ef\"],[0.5,\"#f7f7f7\"],[0.6,\"#e6f5d0\"],[0.7,\"#b8e186\"],[0.8,\"#7fbc41\"],[0.9,\"#4d9221\"],[1,\"#276419\"]],\"sequential\":[[0.0,\"#0d0887\"],[0.1111111111111111,\"#46039f\"],[0.2222222222222222,\"#7201a8\"],[0.3333333333333333,\"#9c179e\"],[0.4444444444444444,\"#bd3786\"],[0.5555555555555556,\"#d8576b\"],[0.6666666666666666,\"#ed7953\"],[0.7777777777777778,\"#fb9f3a\"],[0.8888888888888888,\"#fdca26\"],[1.0,\"#f0f921\"]],\"sequentialminus\":[[0.0,\"#0d0887\"],[0.1111111111111111,\"#46039f\"],[0.2222222222222222,\"#7201a8\"],[0.3333333333333333,\"#9c179e\"],[0.4444444444444444,\"#bd3786\"],[0.5555555555555556,\"#d8576b\"],[0.6666666666666666,\"#ed7953\"],[0.7777777777777778,\"#fb9f3a\"],[0.8888888888888888,\"#fdca26\"],[1.0,\"#f0f921\"]]},\"colorway\":[\"#636efa\",\"#EF553B\",\"#00cc96\",\"#ab63fa\",\"#FFA15A\",\"#19d3f3\",\"#FF6692\",\"#B6E880\",\"#FF97FF\",\"#FECB52\"],\"font\":{\"color\":\"#2a3f5f\"},\"geo\":{\"bgcolor\":\"white\",\"lakecolor\":\"white\",\"landcolor\":\"#E5ECF6\",\"showlakes\":true,\"showland\":true,\"subunitcolor\":\"white\"},\"hoverlabel\":{\"align\":\"left\"},\"hovermode\":\"closest\",\"mapbox\":{\"style\":\"light\"},\"paper_bgcolor\":\"white\",\"plot_bgcolor\":\"#E5ECF6\",\"polar\":{\"angularaxis\":{\"gridcolor\":\"white\",\"linecolor\":\"white\",\"ticks\":\"\"},\"bgcolor\":\"#E5ECF6\",\"radialaxis\":{\"gridcolor\":\"white\",\"linecolor\":\"white\",\"ticks\":\"\"}},\"scene\":{\"xaxis\":{\"backgroundcolor\":\"#E5ECF6\",\"gridcolor\":\"white\",\"gridwidth\":2,\"linecolor\":\"white\",\"showbackground\":true,\"ticks\":\"\",\"zerolinecolor\":\"white\"},\"yaxis\":{\"backgroundcolor\":\"#E5ECF6\",\"gridcolor\":\"white\",\"gridwidth\":2,\"linecolor\":\"white\",\"showbackground\":true,\"ticks\":\"\",\"zerolinecolor\":\"white\"},\"zaxis\":{\"backgroundcolor\":\"#E5ECF6\",\"gridcolor\":\"white\",\"gridwidth\":2,\"linecolor\":\"white\",\"showbackground\":true,\"ticks\":\"\",\"zerolinecolor\":\"white\"}},\"shapedefaults\":{\"line\":{\"color\":\"#2a3f5f\"}},\"ternary\":{\"aaxis\":{\"gridcolor\":\"white\",\"linecolor\":\"white\",\"ticks\":\"\"},\"baxis\":{\"gridcolor\":\"white\",\"linecolor\":\"white\",\"ticks\":\"\"},\"bgcolor\":\"#E5ECF6\",\"caxis\":{\"gridcolor\":\"white\",\"linecolor\":\"white\",\"ticks\":\"\"}},\"title\":{\"x\":0.05},\"xaxis\":{\"automargin\":true,\"gridcolor\":\"white\",\"linecolor\":\"white\",\"ticks\":\"\",\"title\":{\"standoff\":15},\"zerolinecolor\":\"white\",\"zerolinewidth\":2},\"yaxis\":{\"automargin\":true,\"gridcolor\":\"white\",\"linecolor\":\"white\",\"ticks\":\"\",\"title\":{\"standoff\":15},\"zerolinecolor\":\"white\",\"zerolinewidth\":2}}},\"xaxis\":{\"anchor\":\"y\",\"domain\":[0.0,0.49],\"title\":{\"text\":\"value\"}},\"yaxis\":{\"anchor\":\"x\",\"domain\":[0.0,0.46499999999999997],\"title\":{\"text\":\"registered\"}},\"xaxis2\":{\"anchor\":\"y2\",\"domain\":[0.51,1.0],\"matches\":\"x\",\"title\":{\"text\":\"value\"}},\"yaxis2\":{\"anchor\":\"x2\",\"domain\":[0.0,0.46499999999999997],\"matches\":\"y\",\"showticklabels\":false},\"xaxis3\":{\"anchor\":\"y3\",\"domain\":[0.0,0.49],\"matches\":\"x\",\"showticklabels\":false},\"yaxis3\":{\"anchor\":\"x3\",\"domain\":[0.5349999999999999,0.9999999999999999],\"matches\":\"y\",\"title\":{\"text\":\"registered\"}},\"xaxis4\":{\"anchor\":\"y4\",\"domain\":[0.51,1.0],\"matches\":\"x\",\"showticklabels\":false},\"yaxis4\":{\"anchor\":\"x4\",\"domain\":[0.5349999999999999,0.9999999999999999],\"matches\":\"y\",\"showticklabels\":false},\"annotations\":[{\"font\":{},\"showarrow\":false,\"text\":\"var=hum\",\"x\":0.245,\"xanchor\":\"center\",\"xref\":\"paper\",\"y\":0.46499999999999997,\"yanchor\":\"bottom\",\"yref\":\"paper\"},{\"font\":{},\"showarrow\":false,\"text\":\"var=windspeed\",\"x\":0.755,\"xanchor\":\"center\",\"xref\":\"paper\",\"y\":0.46499999999999997,\"yanchor\":\"bottom\",\"yref\":\"paper\"},{\"font\":{},\"showarrow\":false,\"text\":\"var=temp\",\"x\":0.245,\"xanchor\":\"center\",\"xref\":\"paper\",\"y\":0.9999999999999999,\"yanchor\":\"bottom\",\"yref\":\"paper\"},{\"font\":{},\"showarrow\":false,\"text\":\"var=atemp\",\"x\":0.755,\"xanchor\":\"center\",\"xref\":\"paper\",\"y\":0.9999999999999999,\"yanchor\":\"bottom\",\"yref\":\"paper\"}],\"legend\":{\"title\":{\"text\":\"var\"},\"tracegroupgap\":0},\"margin\":{\"t\":60},\"width\":1200,\"title\":{\"text\":\"climate variables vs user count (registered)\",\"x\":0.5,\"xanchor\":\"center\",\"yanchor\":\"middle\"}},                        {\"responsive\": true}                    ).then(function(){\n",
              "                            \n",
              "var gd = document.getElementById('17b6d426-472f-4fac-9cde-712c09be08a9');\n",
              "var x = new MutationObserver(function (mutations, observer) {{\n",
              "        var display = window.getComputedStyle(gd).display;\n",
              "        if (!display || display === 'none') {{\n",
              "            console.log([gd, 'removed!']);\n",
              "            Plotly.purge(gd);\n",
              "            observer.disconnect();\n",
              "        }}\n",
              "}});\n",
              "\n",
              "// Listen for the removal of the full notebook cells\n",
              "var notebookContainer = gd.closest('#notebook-container');\n",
              "if (notebookContainer) {{\n",
              "    x.observe(notebookContainer, {childList: true});\n",
              "}}\n",
              "\n",
              "// Listen for the clearing of the current output cell\n",
              "var outputEl = gd.closest('.output');\n",
              "if (outputEl) {{\n",
              "    x.observe(outputEl, {childList: true});\n",
              "}}\n",
              "\n",
              "                        })                };                            </script>        </div>\n",
              "</body>\n",
              "</html>"
            ]
          },
          "metadata": {},
          "output_type": "display_data"
        }
      ],
      "metadata": {
        "execution": {
          "iopub.status.busy": "2021-11-10T01:41:34.245321Z",
          "iopub.execute_input": "2021-11-10T01:41:34.245542Z",
          "iopub.status.idle": "2021-11-10T01:41:35.311105Z",
          "shell.execute_reply.started": "2021-11-10T01:41:34.245516Z",
          "shell.execute_reply": "2021-11-10T01:41:35.310516Z"
        },
        "trusted": true,
        "colab": {
          "base_uri": "https://localhost:8080/",
          "height": 542
        },
        "id": "_I9N-b-vlMgR",
        "cellView": "form",
        "outputId": "a5cc7e95-b28f-426c-fe87-60798f1f2f8d"
      }
    },
    {
      "cell_type": "markdown",
      "source": [
        "Em relação aos gráficos quebrados em bins, é possível perceber que os números altos de usuários/dia vão de 25°C a 35°C para temp (versus um intervalo de 25°C a 30°C, do total), indicando ser possível que o usuário registrado se imoprte menos com temperaturas maiores."
      ],
      "metadata": {
        "id": "RvZWOigDlMgR"
      }
    },
    {
      "cell_type": "code",
      "execution_count": 23,
      "source": [
        "#@title\r\n",
        "columns = ['temp','atemp','hum','windspeed']\r\n",
        "multipliers = {'temp':41,'atemp':50,'hum':100,'windspeed':67}\r\n",
        "dfs_for_each_var = {}\r\n",
        "traces = []\r\n",
        "import plotly.graph_objects as go\r\n",
        "from plotly.subplots import make_subplots\r\n",
        "for column in columns:\r\n",
        "    aux_df = df.copy()\r\n",
        "    aux_df[column+'_cut'] = pd.cut(aux_df[column],bins=[i/20 for i in range(0,21)])\r\n",
        "    hist_values = aux_df[column+'_cut'].value_counts().sort_index().values\r\n",
        "    aux_df = aux_df[[column+'_cut', 'registered']].groupby(column+\"_cut\")['registered'].agg(['sum','count']).reset_index()\r\n",
        "    aux_df['users/day'] = aux_df.apply(lambda row : float(\"{:.2f}\".format(row['sum']/row['count'])) if row['count']>0 else 0, axis = 1)\r\n",
        "    aux_df[column+'_cut'] = aux_df[column+'_cut'].astype(str)\r\n",
        "    x_labels = aux_df[column+'_cut'].apply(lambda x: x.split(\", \")[-1].replace(\"]\",\"\")).apply(lambda x: float(x)*multipliers[column]).apply(lambda x: \"{:.2f}\".format(x))\r\n",
        "    traces.append(go.Bar(x=x_labels, y=aux_df['users/day'], text = aux_df['users/day'],name=column))\r\n",
        "    traces.append(go.Bar(x=x_labels, y=hist_values, text = hist_values,name=None))\r\n",
        "    \r\n",
        "fig = make_subplots(rows=2,cols=2, subplot_titles = [traces[i]['name'] for i in [0,2,1,3]],vertical_spacing=0.03)\r\n",
        "fig.append_trace(traces[0],1,1)\r\n",
        "fig.append_trace(traces[1],2,1)\r\n",
        "fig.append_trace(traces[2],1,2)\r\n",
        "fig.append_trace(traces[3],2,2)\r\n",
        "fig.update_layout(height=600, width=1200)\r\n",
        "fig.update_layout(\r\n",
        "    title={\r\n",
        "        'text': \"Continuous vars vs user/day (registered)\",\r\n",
        "        'x':0.5,\r\n",
        "        'xanchor': 'center',\r\n",
        "        'yanchor': 'middle'},\r\n",
        "    showlegend=False\r\n",
        "        )\r\n",
        "yaxes = [\"users/day\",\"users/day\",\"#days\",\"#days\"]\r\n",
        "for i in range(4):\r\n",
        "  if yaxes[i] == \"users/day\":\r\n",
        "    fig['layout']['xaxis'+str(i+1)]['visible'] = False\r\n",
        "  fig['layout']['yaxis'+str(i+1)]['title'] = yaxes[i]\r\n",
        "\r\n",
        "fig.update_traces(texttemplate='%{text:.2s}')\r\n",
        "fig.show()"
      ],
      "outputs": [
        {
          "data": {
            "text/html": [
              "<html>\n",
              "<head><meta charset=\"utf-8\" /></head>\n",
              "<body>\n",
              "    <div>            <script src=\"https://cdnjs.cloudflare.com/ajax/libs/mathjax/2.7.5/MathJax.js?config=TeX-AMS-MML_SVG\"></script><script type=\"text/javascript\">if (window.MathJax) {MathJax.Hub.Config({SVG: {font: \"STIX-Web\"}});}</script>                <script type=\"text/javascript\">window.PlotlyConfig = {MathJaxConfig: 'local'};</script>\n",
              "        <script src=\"https://cdn.plot.ly/plotly-2.6.3.min.js\"></script>                <div id=\"75071d6a-19df-43da-8ae7-ef2f12d9f85f\" class=\"plotly-graph-div\" style=\"height:600px; width:1200px;\"></div>            <script type=\"text/javascript\">                                    window.PLOTLYENV=window.PLOTLYENV || {};                                    if (document.getElementById(\"75071d6a-19df-43da-8ae7-ef2f12d9f85f\")) {                    Plotly.newPlot(                        \"75071d6a-19df-43da-8ae7-ef2f12d9f85f\",                        [{\"name\":\"temp\",\"text\":[0.0,1018.0,1614.5,1451.64,1721.14,2658.88,2907.77,3249.4,3291.0,4066.86,4287.22,4564.43,4575.72,4198.89,4539.49,4587.81,3729.0,3392.0,0.0,0.0],\"x\":[\"2.05\",\"4.10\",\"6.15\",\"8.20\",\"10.25\",\"12.30\",\"14.35\",\"16.40\",\"18.45\",\"20.50\",\"22.55\",\"24.60\",\"26.65\",\"28.70\",\"30.75\",\"32.80\",\"34.85\",\"36.90\",\"38.95\",\"41.00\"],\"y\":[0.0,1018.0,1614.5,1451.64,1721.14,2658.88,2907.77,3249.4,3291.0,4066.86,4287.22,4564.43,4575.72,4198.89,4539.49,4587.81,3729.0,3392.0,0.0,0.0],\"type\":\"bar\",\"xaxis\":\"x\",\"yaxis\":\"y\",\"texttemplate\":\"%{text:.2s}\"},{\"text\":[0.0,3.0,6.0,25.0,29.0,72.0,69.0,57.0,56.0,50.0,59.0,51.0,64.0,61.0,76.0,37.0,15.0,1.0,0.0,0.0],\"x\":[\"2.05\",\"4.10\",\"6.15\",\"8.20\",\"10.25\",\"12.30\",\"14.35\",\"16.40\",\"18.45\",\"20.50\",\"22.55\",\"24.60\",\"26.65\",\"28.70\",\"30.75\",\"32.80\",\"34.85\",\"36.90\",\"38.95\",\"41.00\"],\"y\":[0,3,6,25,29,72,69,57,56,50,59,51,64,61,76,37,15,1,0,0],\"type\":\"bar\",\"xaxis\":\"x3\",\"yaxis\":\"y3\",\"texttemplate\":\"%{text:.2s}\"},{\"name\":\"atemp\",\"text\":[0.0,862.0,1573.86,1530.42,1720.13,2588.33,3083.68,3123.45,3309.63,4000.35,4391.94,4695.57,4218.77,4580.86,4450.68,4222.27,2916.75,0.0,0.0,0.0],\"x\":[\"2.50\",\"5.00\",\"7.50\",\"10.00\",\"12.50\",\"15.00\",\"17.50\",\"20.00\",\"22.50\",\"25.00\",\"27.50\",\"30.00\",\"32.50\",\"35.00\",\"37.50\",\"40.00\",\"42.50\",\"45.00\",\"47.50\",\"50.00\"],\"y\":[0.0,862.0,1573.86,1530.42,1720.13,2588.33,3083.68,3123.45,3309.63,4000.35,4391.94,4695.57,4218.77,4580.86,4450.68,4222.27,2916.75,0.0,0.0,0.0],\"type\":\"bar\",\"xaxis\":\"x2\",\"yaxis\":\"y2\",\"texttemplate\":\"%{text:.2s}\"},{\"text\":[0.0,2.0,7.0,19.0,38.0,67.0,65.0,67.0,57.0,55.0,79.0,77.0,73.0,73.0,37.0,11.0,4.0,0.0,0.0,0.0],\"x\":[\"2.50\",\"5.00\",\"7.50\",\"10.00\",\"12.50\",\"15.00\",\"17.50\",\"20.00\",\"22.50\",\"25.00\",\"27.50\",\"30.00\",\"32.50\",\"35.00\",\"37.50\",\"40.00\",\"42.50\",\"45.00\",\"47.50\",\"50.00\"],\"y\":[0,2,7,19,38,67,65,67,57,55,79,77,73,73,37,11,4,0,0,0],\"type\":\"bar\",\"xaxis\":\"x4\",\"yaxis\":\"y4\",\"texttemplate\":\"%{text:.2s}\"}],                        {\"template\":{\"data\":{\"bar\":[{\"error_x\":{\"color\":\"#2a3f5f\"},\"error_y\":{\"color\":\"#2a3f5f\"},\"marker\":{\"line\":{\"color\":\"#E5ECF6\",\"width\":0.5},\"pattern\":{\"fillmode\":\"overlay\",\"size\":10,\"solidity\":0.2}},\"type\":\"bar\"}],\"barpolar\":[{\"marker\":{\"line\":{\"color\":\"#E5ECF6\",\"width\":0.5},\"pattern\":{\"fillmode\":\"overlay\",\"size\":10,\"solidity\":0.2}},\"type\":\"barpolar\"}],\"carpet\":[{\"aaxis\":{\"endlinecolor\":\"#2a3f5f\",\"gridcolor\":\"white\",\"linecolor\":\"white\",\"minorgridcolor\":\"white\",\"startlinecolor\":\"#2a3f5f\"},\"baxis\":{\"endlinecolor\":\"#2a3f5f\",\"gridcolor\":\"white\",\"linecolor\":\"white\",\"minorgridcolor\":\"white\",\"startlinecolor\":\"#2a3f5f\"},\"type\":\"carpet\"}],\"choropleth\":[{\"colorbar\":{\"outlinewidth\":0,\"ticks\":\"\"},\"type\":\"choropleth\"}],\"contour\":[{\"colorbar\":{\"outlinewidth\":0,\"ticks\":\"\"},\"colorscale\":[[0.0,\"#0d0887\"],[0.1111111111111111,\"#46039f\"],[0.2222222222222222,\"#7201a8\"],[0.3333333333333333,\"#9c179e\"],[0.4444444444444444,\"#bd3786\"],[0.5555555555555556,\"#d8576b\"],[0.6666666666666666,\"#ed7953\"],[0.7777777777777778,\"#fb9f3a\"],[0.8888888888888888,\"#fdca26\"],[1.0,\"#f0f921\"]],\"type\":\"contour\"}],\"contourcarpet\":[{\"colorbar\":{\"outlinewidth\":0,\"ticks\":\"\"},\"type\":\"contourcarpet\"}],\"heatmap\":[{\"colorbar\":{\"outlinewidth\":0,\"ticks\":\"\"},\"colorscale\":[[0.0,\"#0d0887\"],[0.1111111111111111,\"#46039f\"],[0.2222222222222222,\"#7201a8\"],[0.3333333333333333,\"#9c179e\"],[0.4444444444444444,\"#bd3786\"],[0.5555555555555556,\"#d8576b\"],[0.6666666666666666,\"#ed7953\"],[0.7777777777777778,\"#fb9f3a\"],[0.8888888888888888,\"#fdca26\"],[1.0,\"#f0f921\"]],\"type\":\"heatmap\"}],\"heatmapgl\":[{\"colorbar\":{\"outlinewidth\":0,\"ticks\":\"\"},\"colorscale\":[[0.0,\"#0d0887\"],[0.1111111111111111,\"#46039f\"],[0.2222222222222222,\"#7201a8\"],[0.3333333333333333,\"#9c179e\"],[0.4444444444444444,\"#bd3786\"],[0.5555555555555556,\"#d8576b\"],[0.6666666666666666,\"#ed7953\"],[0.7777777777777778,\"#fb9f3a\"],[0.8888888888888888,\"#fdca26\"],[1.0,\"#f0f921\"]],\"type\":\"heatmapgl\"}],\"histogram\":[{\"marker\":{\"pattern\":{\"fillmode\":\"overlay\",\"size\":10,\"solidity\":0.2}},\"type\":\"histogram\"}],\"histogram2d\":[{\"colorbar\":{\"outlinewidth\":0,\"ticks\":\"\"},\"colorscale\":[[0.0,\"#0d0887\"],[0.1111111111111111,\"#46039f\"],[0.2222222222222222,\"#7201a8\"],[0.3333333333333333,\"#9c179e\"],[0.4444444444444444,\"#bd3786\"],[0.5555555555555556,\"#d8576b\"],[0.6666666666666666,\"#ed7953\"],[0.7777777777777778,\"#fb9f3a\"],[0.8888888888888888,\"#fdca26\"],[1.0,\"#f0f921\"]],\"type\":\"histogram2d\"}],\"histogram2dcontour\":[{\"colorbar\":{\"outlinewidth\":0,\"ticks\":\"\"},\"colorscale\":[[0.0,\"#0d0887\"],[0.1111111111111111,\"#46039f\"],[0.2222222222222222,\"#7201a8\"],[0.3333333333333333,\"#9c179e\"],[0.4444444444444444,\"#bd3786\"],[0.5555555555555556,\"#d8576b\"],[0.6666666666666666,\"#ed7953\"],[0.7777777777777778,\"#fb9f3a\"],[0.8888888888888888,\"#fdca26\"],[1.0,\"#f0f921\"]],\"type\":\"histogram2dcontour\"}],\"mesh3d\":[{\"colorbar\":{\"outlinewidth\":0,\"ticks\":\"\"},\"type\":\"mesh3d\"}],\"parcoords\":[{\"line\":{\"colorbar\":{\"outlinewidth\":0,\"ticks\":\"\"}},\"type\":\"parcoords\"}],\"pie\":[{\"automargin\":true,\"type\":\"pie\"}],\"scatter\":[{\"marker\":{\"colorbar\":{\"outlinewidth\":0,\"ticks\":\"\"}},\"type\":\"scatter\"}],\"scatter3d\":[{\"line\":{\"colorbar\":{\"outlinewidth\":0,\"ticks\":\"\"}},\"marker\":{\"colorbar\":{\"outlinewidth\":0,\"ticks\":\"\"}},\"type\":\"scatter3d\"}],\"scattercarpet\":[{\"marker\":{\"colorbar\":{\"outlinewidth\":0,\"ticks\":\"\"}},\"type\":\"scattercarpet\"}],\"scattergeo\":[{\"marker\":{\"colorbar\":{\"outlinewidth\":0,\"ticks\":\"\"}},\"type\":\"scattergeo\"}],\"scattergl\":[{\"marker\":{\"colorbar\":{\"outlinewidth\":0,\"ticks\":\"\"}},\"type\":\"scattergl\"}],\"scattermapbox\":[{\"marker\":{\"colorbar\":{\"outlinewidth\":0,\"ticks\":\"\"}},\"type\":\"scattermapbox\"}],\"scatterpolar\":[{\"marker\":{\"colorbar\":{\"outlinewidth\":0,\"ticks\":\"\"}},\"type\":\"scatterpolar\"}],\"scatterpolargl\":[{\"marker\":{\"colorbar\":{\"outlinewidth\":0,\"ticks\":\"\"}},\"type\":\"scatterpolargl\"}],\"scatterternary\":[{\"marker\":{\"colorbar\":{\"outlinewidth\":0,\"ticks\":\"\"}},\"type\":\"scatterternary\"}],\"surface\":[{\"colorbar\":{\"outlinewidth\":0,\"ticks\":\"\"},\"colorscale\":[[0.0,\"#0d0887\"],[0.1111111111111111,\"#46039f\"],[0.2222222222222222,\"#7201a8\"],[0.3333333333333333,\"#9c179e\"],[0.4444444444444444,\"#bd3786\"],[0.5555555555555556,\"#d8576b\"],[0.6666666666666666,\"#ed7953\"],[0.7777777777777778,\"#fb9f3a\"],[0.8888888888888888,\"#fdca26\"],[1.0,\"#f0f921\"]],\"type\":\"surface\"}],\"table\":[{\"cells\":{\"fill\":{\"color\":\"#EBF0F8\"},\"line\":{\"color\":\"white\"}},\"header\":{\"fill\":{\"color\":\"#C8D4E3\"},\"line\":{\"color\":\"white\"}},\"type\":\"table\"}]},\"layout\":{\"annotationdefaults\":{\"arrowcolor\":\"#2a3f5f\",\"arrowhead\":0,\"arrowwidth\":1},\"autotypenumbers\":\"strict\",\"coloraxis\":{\"colorbar\":{\"outlinewidth\":0,\"ticks\":\"\"}},\"colorscale\":{\"diverging\":[[0,\"#8e0152\"],[0.1,\"#c51b7d\"],[0.2,\"#de77ae\"],[0.3,\"#f1b6da\"],[0.4,\"#fde0ef\"],[0.5,\"#f7f7f7\"],[0.6,\"#e6f5d0\"],[0.7,\"#b8e186\"],[0.8,\"#7fbc41\"],[0.9,\"#4d9221\"],[1,\"#276419\"]],\"sequential\":[[0.0,\"#0d0887\"],[0.1111111111111111,\"#46039f\"],[0.2222222222222222,\"#7201a8\"],[0.3333333333333333,\"#9c179e\"],[0.4444444444444444,\"#bd3786\"],[0.5555555555555556,\"#d8576b\"],[0.6666666666666666,\"#ed7953\"],[0.7777777777777778,\"#fb9f3a\"],[0.8888888888888888,\"#fdca26\"],[1.0,\"#f0f921\"]],\"sequentialminus\":[[0.0,\"#0d0887\"],[0.1111111111111111,\"#46039f\"],[0.2222222222222222,\"#7201a8\"],[0.3333333333333333,\"#9c179e\"],[0.4444444444444444,\"#bd3786\"],[0.5555555555555556,\"#d8576b\"],[0.6666666666666666,\"#ed7953\"],[0.7777777777777778,\"#fb9f3a\"],[0.8888888888888888,\"#fdca26\"],[1.0,\"#f0f921\"]]},\"colorway\":[\"#636efa\",\"#EF553B\",\"#00cc96\",\"#ab63fa\",\"#FFA15A\",\"#19d3f3\",\"#FF6692\",\"#B6E880\",\"#FF97FF\",\"#FECB52\"],\"font\":{\"color\":\"#2a3f5f\"},\"geo\":{\"bgcolor\":\"white\",\"lakecolor\":\"white\",\"landcolor\":\"#E5ECF6\",\"showlakes\":true,\"showland\":true,\"subunitcolor\":\"white\"},\"hoverlabel\":{\"align\":\"left\"},\"hovermode\":\"closest\",\"mapbox\":{\"style\":\"light\"},\"paper_bgcolor\":\"white\",\"plot_bgcolor\":\"#E5ECF6\",\"polar\":{\"angularaxis\":{\"gridcolor\":\"white\",\"linecolor\":\"white\",\"ticks\":\"\"},\"bgcolor\":\"#E5ECF6\",\"radialaxis\":{\"gridcolor\":\"white\",\"linecolor\":\"white\",\"ticks\":\"\"}},\"scene\":{\"xaxis\":{\"backgroundcolor\":\"#E5ECF6\",\"gridcolor\":\"white\",\"gridwidth\":2,\"linecolor\":\"white\",\"showbackground\":true,\"ticks\":\"\",\"zerolinecolor\":\"white\"},\"yaxis\":{\"backgroundcolor\":\"#E5ECF6\",\"gridcolor\":\"white\",\"gridwidth\":2,\"linecolor\":\"white\",\"showbackground\":true,\"ticks\":\"\",\"zerolinecolor\":\"white\"},\"zaxis\":{\"backgroundcolor\":\"#E5ECF6\",\"gridcolor\":\"white\",\"gridwidth\":2,\"linecolor\":\"white\",\"showbackground\":true,\"ticks\":\"\",\"zerolinecolor\":\"white\"}},\"shapedefaults\":{\"line\":{\"color\":\"#2a3f5f\"}},\"ternary\":{\"aaxis\":{\"gridcolor\":\"white\",\"linecolor\":\"white\",\"ticks\":\"\"},\"baxis\":{\"gridcolor\":\"white\",\"linecolor\":\"white\",\"ticks\":\"\"},\"bgcolor\":\"#E5ECF6\",\"caxis\":{\"gridcolor\":\"white\",\"linecolor\":\"white\",\"ticks\":\"\"}},\"title\":{\"x\":0.05},\"xaxis\":{\"automargin\":true,\"gridcolor\":\"white\",\"linecolor\":\"white\",\"ticks\":\"\",\"title\":{\"standoff\":15},\"zerolinecolor\":\"white\",\"zerolinewidth\":2},\"yaxis\":{\"automargin\":true,\"gridcolor\":\"white\",\"linecolor\":\"white\",\"ticks\":\"\",\"title\":{\"standoff\":15},\"zerolinecolor\":\"white\",\"zerolinewidth\":2}}},\"xaxis\":{\"anchor\":\"y\",\"domain\":[0.0,0.45],\"visible\":false},\"yaxis\":{\"anchor\":\"x\",\"domain\":[0.515,1.0],\"title\":{\"text\":\"users/day\"}},\"xaxis2\":{\"anchor\":\"y2\",\"domain\":[0.55,1.0],\"visible\":false},\"yaxis2\":{\"anchor\":\"x2\",\"domain\":[0.515,1.0],\"title\":{\"text\":\"users/day\"}},\"xaxis3\":{\"anchor\":\"y3\",\"domain\":[0.0,0.45]},\"yaxis3\":{\"anchor\":\"x3\",\"domain\":[0.0,0.485],\"title\":{\"text\":\"#days\"}},\"xaxis4\":{\"anchor\":\"y4\",\"domain\":[0.55,1.0]},\"yaxis4\":{\"anchor\":\"x4\",\"domain\":[0.0,0.485],\"title\":{\"text\":\"#days\"}},\"annotations\":[{\"font\":{\"size\":16},\"showarrow\":false,\"text\":\"temp\",\"x\":0.225,\"xanchor\":\"center\",\"xref\":\"paper\",\"y\":1.0,\"yanchor\":\"bottom\",\"yref\":\"paper\"},{\"font\":{\"size\":16},\"showarrow\":false,\"text\":\"atemp\",\"x\":0.775,\"xanchor\":\"center\",\"xref\":\"paper\",\"y\":1.0,\"yanchor\":\"bottom\",\"yref\":\"paper\"}],\"height\":600,\"width\":1200,\"title\":{\"text\":\"Continuous vars vs user/day (registered)\",\"x\":0.5,\"xanchor\":\"center\",\"yanchor\":\"middle\"},\"showlegend\":false},                        {\"responsive\": true}                    ).then(function(){\n",
              "                            \n",
              "var gd = document.getElementById('75071d6a-19df-43da-8ae7-ef2f12d9f85f');\n",
              "var x = new MutationObserver(function (mutations, observer) {{\n",
              "        var display = window.getComputedStyle(gd).display;\n",
              "        if (!display || display === 'none') {{\n",
              "            console.log([gd, 'removed!']);\n",
              "            Plotly.purge(gd);\n",
              "            observer.disconnect();\n",
              "        }}\n",
              "}});\n",
              "\n",
              "// Listen for the removal of the full notebook cells\n",
              "var notebookContainer = gd.closest('#notebook-container');\n",
              "if (notebookContainer) {{\n",
              "    x.observe(notebookContainer, {childList: true});\n",
              "}}\n",
              "\n",
              "// Listen for the clearing of the current output cell\n",
              "var outputEl = gd.closest('.output');\n",
              "if (outputEl) {{\n",
              "    x.observe(outputEl, {childList: true});\n",
              "}}\n",
              "\n",
              "                        })                };                            </script>        </div>\n",
              "</body>\n",
              "</html>"
            ]
          },
          "metadata": {},
          "output_type": "display_data"
        }
      ],
      "metadata": {
        "execution": {
          "iopub.status.busy": "2021-11-10T01:41:35.312196Z",
          "iopub.execute_input": "2021-11-10T01:41:35.312527Z",
          "iopub.status.idle": "2021-11-10T01:41:35.441387Z",
          "shell.execute_reply.started": "2021-11-10T01:41:35.312488Z",
          "shell.execute_reply": "2021-11-10T01:41:35.4406Z"
        },
        "trusted": true,
        "colab": {
          "base_uri": "https://localhost:8080/",
          "height": 617
        },
        "id": "YAiqH5dAlMgS",
        "cellView": "form",
        "outputId": "6dd65b64-0601-4a34-e079-3852e5854ec7"
      }
    },
    {
      "cell_type": "code",
      "execution_count": 24,
      "source": [
        "#@title\r\n",
        "fig = make_subplots(rows=2,cols=2, subplot_titles = [traces[i]['name'] for i in [4,6,5,7]],vertical_spacing=0.03)\r\n",
        "fig.append_trace(traces[4],1,1)\r\n",
        "fig.append_trace(traces[5],2,1)\r\n",
        "fig.append_trace(traces[6],1,2)\r\n",
        "fig.append_trace(traces[7],2,2)\r\n",
        "fig.update_layout(height=600, width=1200)\r\n",
        "fig.update_layout(\r\n",
        "    title={\r\n",
        "        'text': \"Continuous vars vs user/day (registered)\",\r\n",
        "        'x':0.5,\r\n",
        "        'xanchor': 'center',\r\n",
        "        'yanchor': 'middle'},\r\n",
        "    showlegend=False\r\n",
        "        )\r\n",
        "yaxes = [\"users/day\",\"users/day\",\"#days\",\"#days\"]\r\n",
        "for i in range(4):\r\n",
        "  if yaxes[i] == \"users/day\":\r\n",
        "    fig['layout']['xaxis'+str(i+1)]['visible'] = False\r\n",
        "  fig['layout']['yaxis'+str(i+1)]['title'] = yaxes[i]\r\n",
        "\r\n",
        "fig.update_traces(texttemplate='%{text:.2s}')\r\n",
        "fig.show()\r\n"
      ],
      "outputs": [
        {
          "data": {
            "text/html": [
              "<html>\n",
              "<head><meta charset=\"utf-8\" /></head>\n",
              "<body>\n",
              "    <div>            <script src=\"https://cdnjs.cloudflare.com/ajax/libs/mathjax/2.7.5/MathJax.js?config=TeX-AMS-MML_SVG\"></script><script type=\"text/javascript\">if (window.MathJax) {MathJax.Hub.Config({SVG: {font: \"STIX-Web\"}});}</script>                <script type=\"text/javascript\">window.PlotlyConfig = {MathJaxConfig: 'local'};</script>\n",
              "        <script src=\"https://cdn.plot.ly/plotly-2.6.3.min.js\"></script>                <div id=\"b75cbe5d-c73f-41ce-8a3b-948663f1ca95\" class=\"plotly-graph-div\" style=\"height:600px; width:1200px;\"></div>            <script type=\"text/javascript\">                                    window.PLOTLYENV=window.PLOTLYENV || {};                                    if (document.getElementById(\"b75cbe5d-c73f-41ce-8a3b-948663f1ca95\")) {                    Plotly.newPlot(                        \"b75cbe5d-c73f-41ce-8a3b-948663f1ca95\",                        [{\"name\":\"hum\",\"text\":[0.0,0.0,0.0,1103.0,0.0,3705.0,2965.38,3830.29,3195.18,3606.75,3751.24,4093.3,4187.13,3936.16,3719.08,3404.39,3199.96,2447.85,2551.06,1443.33],\"x\":[\"5.00\",\"10.00\",\"15.00\",\"20.00\",\"25.00\",\"30.00\",\"35.00\",\"40.00\",\"45.00\",\"50.00\",\"55.00\",\"60.00\",\"65.00\",\"70.00\",\"75.00\",\"80.00\",\"85.00\",\"90.00\",\"95.00\",\"100.00\"],\"y\":[0.0,0.0,0.0,1103.0,0.0,3705.0,2965.38,3830.29,3195.18,3606.75,3751.24,4093.3,4187.13,3936.16,3719.08,3404.39,3199.96,2447.85,2551.06,1443.33],\"type\":\"bar\",\"xaxis\":\"x\",\"yaxis\":\"y\",\"texttemplate\":\"%{text:.2s}\"},{\"text\":[0.0,0.0,0.0,1.0,0.0,3.0,8.0,17.0,44.0,73.0,86.0,89.0,84.0,94.0,83.0,56.0,47.0,26.0,16.0,3.0],\"x\":[\"5.00\",\"10.00\",\"15.00\",\"20.00\",\"25.00\",\"30.00\",\"35.00\",\"40.00\",\"45.00\",\"50.00\",\"55.00\",\"60.00\",\"65.00\",\"70.00\",\"75.00\",\"80.00\",\"85.00\",\"90.00\",\"95.00\",\"100.00\"],\"y\":[0,0,0,1,0,3,8,17,44,73,86,89,84,94,83,56,47,26,16,3],\"type\":\"bar\",\"xaxis\":\"x3\",\"yaxis\":\"y3\",\"texttemplate\":\"%{text:.2s}\"},{\"name\":\"windspeed\",\"text\":[3332.67,3971.43,4023.6,3819.37,3387.01,3424.42,3207.26,2164.32,2891.12,0.0,1103.0,0.0,0.0,0.0,0.0,0.0,0.0,0.0,0.0,0.0],\"x\":[\"3.35\",\"6.70\",\"10.05\",\"13.40\",\"16.75\",\"20.10\",\"23.45\",\"26.80\",\"30.15\",\"33.50\",\"36.85\",\"40.20\",\"43.55\",\"46.90\",\"50.25\",\"53.60\",\"56.95\",\"60.30\",\"63.65\",\"67.00\"],\"y\":[3332.67,3971.43,4023.6,3819.37,3387.01,3424.42,3207.26,2164.32,2891.12,0.0,1103.0,0.0,0.0,0.0,0.0,0.0,0.0,0.0,0.0,0.0],\"type\":\"bar\",\"xaxis\":\"x2\",\"yaxis\":\"y2\",\"texttemplate\":\"%{text:.2s}\"},{\"text\":[6.0,67.0,174.0,189.0,153.0,71.0,43.0,19.0,8.0,0.0,1.0,0.0,0.0,0.0,0.0,0.0,0.0,0.0,0.0,0.0],\"x\":[\"3.35\",\"6.70\",\"10.05\",\"13.40\",\"16.75\",\"20.10\",\"23.45\",\"26.80\",\"30.15\",\"33.50\",\"36.85\",\"40.20\",\"43.55\",\"46.90\",\"50.25\",\"53.60\",\"56.95\",\"60.30\",\"63.65\",\"67.00\"],\"y\":[6,67,174,189,153,71,43,19,8,0,1,0,0,0,0,0,0,0,0,0],\"type\":\"bar\",\"xaxis\":\"x4\",\"yaxis\":\"y4\",\"texttemplate\":\"%{text:.2s}\"}],                        {\"template\":{\"data\":{\"bar\":[{\"error_x\":{\"color\":\"#2a3f5f\"},\"error_y\":{\"color\":\"#2a3f5f\"},\"marker\":{\"line\":{\"color\":\"#E5ECF6\",\"width\":0.5},\"pattern\":{\"fillmode\":\"overlay\",\"size\":10,\"solidity\":0.2}},\"type\":\"bar\"}],\"barpolar\":[{\"marker\":{\"line\":{\"color\":\"#E5ECF6\",\"width\":0.5},\"pattern\":{\"fillmode\":\"overlay\",\"size\":10,\"solidity\":0.2}},\"type\":\"barpolar\"}],\"carpet\":[{\"aaxis\":{\"endlinecolor\":\"#2a3f5f\",\"gridcolor\":\"white\",\"linecolor\":\"white\",\"minorgridcolor\":\"white\",\"startlinecolor\":\"#2a3f5f\"},\"baxis\":{\"endlinecolor\":\"#2a3f5f\",\"gridcolor\":\"white\",\"linecolor\":\"white\",\"minorgridcolor\":\"white\",\"startlinecolor\":\"#2a3f5f\"},\"type\":\"carpet\"}],\"choropleth\":[{\"colorbar\":{\"outlinewidth\":0,\"ticks\":\"\"},\"type\":\"choropleth\"}],\"contour\":[{\"colorbar\":{\"outlinewidth\":0,\"ticks\":\"\"},\"colorscale\":[[0.0,\"#0d0887\"],[0.1111111111111111,\"#46039f\"],[0.2222222222222222,\"#7201a8\"],[0.3333333333333333,\"#9c179e\"],[0.4444444444444444,\"#bd3786\"],[0.5555555555555556,\"#d8576b\"],[0.6666666666666666,\"#ed7953\"],[0.7777777777777778,\"#fb9f3a\"],[0.8888888888888888,\"#fdca26\"],[1.0,\"#f0f921\"]],\"type\":\"contour\"}],\"contourcarpet\":[{\"colorbar\":{\"outlinewidth\":0,\"ticks\":\"\"},\"type\":\"contourcarpet\"}],\"heatmap\":[{\"colorbar\":{\"outlinewidth\":0,\"ticks\":\"\"},\"colorscale\":[[0.0,\"#0d0887\"],[0.1111111111111111,\"#46039f\"],[0.2222222222222222,\"#7201a8\"],[0.3333333333333333,\"#9c179e\"],[0.4444444444444444,\"#bd3786\"],[0.5555555555555556,\"#d8576b\"],[0.6666666666666666,\"#ed7953\"],[0.7777777777777778,\"#fb9f3a\"],[0.8888888888888888,\"#fdca26\"],[1.0,\"#f0f921\"]],\"type\":\"heatmap\"}],\"heatmapgl\":[{\"colorbar\":{\"outlinewidth\":0,\"ticks\":\"\"},\"colorscale\":[[0.0,\"#0d0887\"],[0.1111111111111111,\"#46039f\"],[0.2222222222222222,\"#7201a8\"],[0.3333333333333333,\"#9c179e\"],[0.4444444444444444,\"#bd3786\"],[0.5555555555555556,\"#d8576b\"],[0.6666666666666666,\"#ed7953\"],[0.7777777777777778,\"#fb9f3a\"],[0.8888888888888888,\"#fdca26\"],[1.0,\"#f0f921\"]],\"type\":\"heatmapgl\"}],\"histogram\":[{\"marker\":{\"pattern\":{\"fillmode\":\"overlay\",\"size\":10,\"solidity\":0.2}},\"type\":\"histogram\"}],\"histogram2d\":[{\"colorbar\":{\"outlinewidth\":0,\"ticks\":\"\"},\"colorscale\":[[0.0,\"#0d0887\"],[0.1111111111111111,\"#46039f\"],[0.2222222222222222,\"#7201a8\"],[0.3333333333333333,\"#9c179e\"],[0.4444444444444444,\"#bd3786\"],[0.5555555555555556,\"#d8576b\"],[0.6666666666666666,\"#ed7953\"],[0.7777777777777778,\"#fb9f3a\"],[0.8888888888888888,\"#fdca26\"],[1.0,\"#f0f921\"]],\"type\":\"histogram2d\"}],\"histogram2dcontour\":[{\"colorbar\":{\"outlinewidth\":0,\"ticks\":\"\"},\"colorscale\":[[0.0,\"#0d0887\"],[0.1111111111111111,\"#46039f\"],[0.2222222222222222,\"#7201a8\"],[0.3333333333333333,\"#9c179e\"],[0.4444444444444444,\"#bd3786\"],[0.5555555555555556,\"#d8576b\"],[0.6666666666666666,\"#ed7953\"],[0.7777777777777778,\"#fb9f3a\"],[0.8888888888888888,\"#fdca26\"],[1.0,\"#f0f921\"]],\"type\":\"histogram2dcontour\"}],\"mesh3d\":[{\"colorbar\":{\"outlinewidth\":0,\"ticks\":\"\"},\"type\":\"mesh3d\"}],\"parcoords\":[{\"line\":{\"colorbar\":{\"outlinewidth\":0,\"ticks\":\"\"}},\"type\":\"parcoords\"}],\"pie\":[{\"automargin\":true,\"type\":\"pie\"}],\"scatter\":[{\"marker\":{\"colorbar\":{\"outlinewidth\":0,\"ticks\":\"\"}},\"type\":\"scatter\"}],\"scatter3d\":[{\"line\":{\"colorbar\":{\"outlinewidth\":0,\"ticks\":\"\"}},\"marker\":{\"colorbar\":{\"outlinewidth\":0,\"ticks\":\"\"}},\"type\":\"scatter3d\"}],\"scattercarpet\":[{\"marker\":{\"colorbar\":{\"outlinewidth\":0,\"ticks\":\"\"}},\"type\":\"scattercarpet\"}],\"scattergeo\":[{\"marker\":{\"colorbar\":{\"outlinewidth\":0,\"ticks\":\"\"}},\"type\":\"scattergeo\"}],\"scattergl\":[{\"marker\":{\"colorbar\":{\"outlinewidth\":0,\"ticks\":\"\"}},\"type\":\"scattergl\"}],\"scattermapbox\":[{\"marker\":{\"colorbar\":{\"outlinewidth\":0,\"ticks\":\"\"}},\"type\":\"scattermapbox\"}],\"scatterpolar\":[{\"marker\":{\"colorbar\":{\"outlinewidth\":0,\"ticks\":\"\"}},\"type\":\"scatterpolar\"}],\"scatterpolargl\":[{\"marker\":{\"colorbar\":{\"outlinewidth\":0,\"ticks\":\"\"}},\"type\":\"scatterpolargl\"}],\"scatterternary\":[{\"marker\":{\"colorbar\":{\"outlinewidth\":0,\"ticks\":\"\"}},\"type\":\"scatterternary\"}],\"surface\":[{\"colorbar\":{\"outlinewidth\":0,\"ticks\":\"\"},\"colorscale\":[[0.0,\"#0d0887\"],[0.1111111111111111,\"#46039f\"],[0.2222222222222222,\"#7201a8\"],[0.3333333333333333,\"#9c179e\"],[0.4444444444444444,\"#bd3786\"],[0.5555555555555556,\"#d8576b\"],[0.6666666666666666,\"#ed7953\"],[0.7777777777777778,\"#fb9f3a\"],[0.8888888888888888,\"#fdca26\"],[1.0,\"#f0f921\"]],\"type\":\"surface\"}],\"table\":[{\"cells\":{\"fill\":{\"color\":\"#EBF0F8\"},\"line\":{\"color\":\"white\"}},\"header\":{\"fill\":{\"color\":\"#C8D4E3\"},\"line\":{\"color\":\"white\"}},\"type\":\"table\"}]},\"layout\":{\"annotationdefaults\":{\"arrowcolor\":\"#2a3f5f\",\"arrowhead\":0,\"arrowwidth\":1},\"autotypenumbers\":\"strict\",\"coloraxis\":{\"colorbar\":{\"outlinewidth\":0,\"ticks\":\"\"}},\"colorscale\":{\"diverging\":[[0,\"#8e0152\"],[0.1,\"#c51b7d\"],[0.2,\"#de77ae\"],[0.3,\"#f1b6da\"],[0.4,\"#fde0ef\"],[0.5,\"#f7f7f7\"],[0.6,\"#e6f5d0\"],[0.7,\"#b8e186\"],[0.8,\"#7fbc41\"],[0.9,\"#4d9221\"],[1,\"#276419\"]],\"sequential\":[[0.0,\"#0d0887\"],[0.1111111111111111,\"#46039f\"],[0.2222222222222222,\"#7201a8\"],[0.3333333333333333,\"#9c179e\"],[0.4444444444444444,\"#bd3786\"],[0.5555555555555556,\"#d8576b\"],[0.6666666666666666,\"#ed7953\"],[0.7777777777777778,\"#fb9f3a\"],[0.8888888888888888,\"#fdca26\"],[1.0,\"#f0f921\"]],\"sequentialminus\":[[0.0,\"#0d0887\"],[0.1111111111111111,\"#46039f\"],[0.2222222222222222,\"#7201a8\"],[0.3333333333333333,\"#9c179e\"],[0.4444444444444444,\"#bd3786\"],[0.5555555555555556,\"#d8576b\"],[0.6666666666666666,\"#ed7953\"],[0.7777777777777778,\"#fb9f3a\"],[0.8888888888888888,\"#fdca26\"],[1.0,\"#f0f921\"]]},\"colorway\":[\"#636efa\",\"#EF553B\",\"#00cc96\",\"#ab63fa\",\"#FFA15A\",\"#19d3f3\",\"#FF6692\",\"#B6E880\",\"#FF97FF\",\"#FECB52\"],\"font\":{\"color\":\"#2a3f5f\"},\"geo\":{\"bgcolor\":\"white\",\"lakecolor\":\"white\",\"landcolor\":\"#E5ECF6\",\"showlakes\":true,\"showland\":true,\"subunitcolor\":\"white\"},\"hoverlabel\":{\"align\":\"left\"},\"hovermode\":\"closest\",\"mapbox\":{\"style\":\"light\"},\"paper_bgcolor\":\"white\",\"plot_bgcolor\":\"#E5ECF6\",\"polar\":{\"angularaxis\":{\"gridcolor\":\"white\",\"linecolor\":\"white\",\"ticks\":\"\"},\"bgcolor\":\"#E5ECF6\",\"radialaxis\":{\"gridcolor\":\"white\",\"linecolor\":\"white\",\"ticks\":\"\"}},\"scene\":{\"xaxis\":{\"backgroundcolor\":\"#E5ECF6\",\"gridcolor\":\"white\",\"gridwidth\":2,\"linecolor\":\"white\",\"showbackground\":true,\"ticks\":\"\",\"zerolinecolor\":\"white\"},\"yaxis\":{\"backgroundcolor\":\"#E5ECF6\",\"gridcolor\":\"white\",\"gridwidth\":2,\"linecolor\":\"white\",\"showbackground\":true,\"ticks\":\"\",\"zerolinecolor\":\"white\"},\"zaxis\":{\"backgroundcolor\":\"#E5ECF6\",\"gridcolor\":\"white\",\"gridwidth\":2,\"linecolor\":\"white\",\"showbackground\":true,\"ticks\":\"\",\"zerolinecolor\":\"white\"}},\"shapedefaults\":{\"line\":{\"color\":\"#2a3f5f\"}},\"ternary\":{\"aaxis\":{\"gridcolor\":\"white\",\"linecolor\":\"white\",\"ticks\":\"\"},\"baxis\":{\"gridcolor\":\"white\",\"linecolor\":\"white\",\"ticks\":\"\"},\"bgcolor\":\"#E5ECF6\",\"caxis\":{\"gridcolor\":\"white\",\"linecolor\":\"white\",\"ticks\":\"\"}},\"title\":{\"x\":0.05},\"xaxis\":{\"automargin\":true,\"gridcolor\":\"white\",\"linecolor\":\"white\",\"ticks\":\"\",\"title\":{\"standoff\":15},\"zerolinecolor\":\"white\",\"zerolinewidth\":2},\"yaxis\":{\"automargin\":true,\"gridcolor\":\"white\",\"linecolor\":\"white\",\"ticks\":\"\",\"title\":{\"standoff\":15},\"zerolinecolor\":\"white\",\"zerolinewidth\":2}}},\"xaxis\":{\"anchor\":\"y\",\"domain\":[0.0,0.45],\"visible\":false},\"yaxis\":{\"anchor\":\"x\",\"domain\":[0.515,1.0],\"title\":{\"text\":\"users/day\"}},\"xaxis2\":{\"anchor\":\"y2\",\"domain\":[0.55,1.0],\"visible\":false},\"yaxis2\":{\"anchor\":\"x2\",\"domain\":[0.515,1.0],\"title\":{\"text\":\"users/day\"}},\"xaxis3\":{\"anchor\":\"y3\",\"domain\":[0.0,0.45]},\"yaxis3\":{\"anchor\":\"x3\",\"domain\":[0.0,0.485],\"title\":{\"text\":\"#days\"}},\"xaxis4\":{\"anchor\":\"y4\",\"domain\":[0.55,1.0]},\"yaxis4\":{\"anchor\":\"x4\",\"domain\":[0.0,0.485],\"title\":{\"text\":\"#days\"}},\"annotations\":[{\"font\":{\"size\":16},\"showarrow\":false,\"text\":\"hum\",\"x\":0.225,\"xanchor\":\"center\",\"xref\":\"paper\",\"y\":1.0,\"yanchor\":\"bottom\",\"yref\":\"paper\"},{\"font\":{\"size\":16},\"showarrow\":false,\"text\":\"windspeed\",\"x\":0.775,\"xanchor\":\"center\",\"xref\":\"paper\",\"y\":1.0,\"yanchor\":\"bottom\",\"yref\":\"paper\"}],\"height\":600,\"width\":1200,\"title\":{\"text\":\"Continuous vars vs user/day (registered)\",\"x\":0.5,\"xanchor\":\"center\",\"yanchor\":\"middle\"},\"showlegend\":false},                        {\"responsive\": true}                    ).then(function(){\n",
              "                            \n",
              "var gd = document.getElementById('b75cbe5d-c73f-41ce-8a3b-948663f1ca95');\n",
              "var x = new MutationObserver(function (mutations, observer) {{\n",
              "        var display = window.getComputedStyle(gd).display;\n",
              "        if (!display || display === 'none') {{\n",
              "            console.log([gd, 'removed!']);\n",
              "            Plotly.purge(gd);\n",
              "            observer.disconnect();\n",
              "        }}\n",
              "}});\n",
              "\n",
              "// Listen for the removal of the full notebook cells\n",
              "var notebookContainer = gd.closest('#notebook-container');\n",
              "if (notebookContainer) {{\n",
              "    x.observe(notebookContainer, {childList: true});\n",
              "}}\n",
              "\n",
              "// Listen for the clearing of the current output cell\n",
              "var outputEl = gd.closest('.output');\n",
              "if (outputEl) {{\n",
              "    x.observe(outputEl, {childList: true});\n",
              "}}\n",
              "\n",
              "                        })                };                            </script>        </div>\n",
              "</body>\n",
              "</html>"
            ]
          },
          "metadata": {},
          "output_type": "display_data"
        }
      ],
      "metadata": {
        "colab": {
          "base_uri": "https://localhost:8080/",
          "height": 617
        },
        "id": "5RNQMCARlMgS",
        "cellView": "form",
        "outputId": "b661d534-2fe3-45b0-8a40-bad2f3ae0cbf"
      }
    },
    {
      "cell_type": "markdown",
      "source": [
        "##1.7 Boxplot casual vs registered\n",
        "Neste gráfico, é possível perceber como os valores dos quartis de usuários registrados são muito maiores que os de usuários casuais, mas ao mesmo tempo, os casuais possuem uma distribuição menos dispersa. Isso poderia indicar, em outras situações, que seus números são previsíveis, mas a quantidade de \"outliers\" acima da upper fence indica na verdade o oposto."
      ],
      "metadata": {
        "id": "PgCenMQIoufw"
      }
    },
    {
      "cell_type": "code",
      "execution_count": 25,
      "source": [
        "#@title\r\n",
        "import plotly.express as px\r\n",
        "\r\n",
        "boxplot_df = df[['casual','registered']].unstack().reset_index().rename({'level_0':'type',0:'users'},axis=1)[['type','users']]\r\n",
        "\r\n",
        "fig = px.box(boxplot_df, x = \"type\", y=\"users\", color = 'type')\r\n",
        "fig.update_layout(height=600, width=800)\r\n",
        "fig.update_layout(\r\n",
        "    title={\r\n",
        "        'text': \"Boxplot - casual vs registered\",\r\n",
        "        'x':0.5,\r\n",
        "        'xanchor': 'center',\r\n",
        "        'yanchor': 'middle'}\r\n",
        ")\r\n",
        "fig.show()"
      ],
      "outputs": [
        {
          "data": {
            "text/html": [
              "<html>\n",
              "<head><meta charset=\"utf-8\" /></head>\n",
              "<body>\n",
              "    <div>            <script src=\"https://cdnjs.cloudflare.com/ajax/libs/mathjax/2.7.5/MathJax.js?config=TeX-AMS-MML_SVG\"></script><script type=\"text/javascript\">if (window.MathJax) {MathJax.Hub.Config({SVG: {font: \"STIX-Web\"}});}</script>                <script type=\"text/javascript\">window.PlotlyConfig = {MathJaxConfig: 'local'};</script>\n",
              "        <script src=\"https://cdn.plot.ly/plotly-2.6.3.min.js\"></script>                <div id=\"2ef8af27-bc8a-4125-98fa-9f57b0af3331\" class=\"plotly-graph-div\" style=\"height:600px; width:800px;\"></div>            <script type=\"text/javascript\">                                    window.PLOTLYENV=window.PLOTLYENV || {};                                    if (document.getElementById(\"2ef8af27-bc8a-4125-98fa-9f57b0af3331\")) {                    Plotly.newPlot(                        \"2ef8af27-bc8a-4125-98fa-9f57b0af3331\",                        [{\"alignmentgroup\":\"True\",\"hovertemplate\":\"type=%{x}<br>users=%{y}<extra></extra>\",\"legendgroup\":\"casual\",\"marker\":{\"color\":\"#636efa\"},\"name\":\"casual\",\"notched\":false,\"offsetgroup\":\"casual\",\"orientation\":\"v\",\"showlegend\":true,\"x\":[\"casual\",\"casual\",\"casual\",\"casual\",\"casual\",\"casual\",\"casual\",\"casual\",\"casual\",\"casual\",\"casual\",\"casual\",\"casual\",\"casual\",\"casual\",\"casual\",\"casual\",\"casual\",\"casual\",\"casual\",\"casual\",\"casual\",\"casual\",\"casual\",\"casual\",\"casual\",\"casual\",\"casual\",\"casual\",\"casual\",\"casual\",\"casual\",\"casual\",\"casual\",\"casual\",\"casual\",\"casual\",\"casual\",\"casual\",\"casual\",\"casual\",\"casual\",\"casual\",\"casual\",\"casual\",\"casual\",\"casual\",\"casual\",\"casual\",\"casual\",\"casual\",\"casual\",\"casual\",\"casual\",\"casual\",\"casual\",\"casual\",\"casual\",\"casual\",\"casual\",\"casual\",\"casual\",\"casual\",\"casual\",\"casual\",\"casual\",\"casual\",\"casual\",\"casual\",\"casual\",\"casual\",\"casual\",\"casual\",\"casual\",\"casual\",\"casual\",\"casual\",\"casual\",\"casual\",\"casual\",\"casual\",\"casual\",\"casual\",\"casual\",\"casual\",\"casual\",\"casual\",\"casual\",\"casual\",\"casual\",\"casual\",\"casual\",\"casual\",\"casual\",\"casual\",\"casual\",\"casual\",\"casual\",\"casual\",\"casual\",\"casual\",\"casual\",\"casual\",\"casual\",\"casual\",\"casual\",\"casual\",\"casual\",\"casual\",\"casual\",\"casual\",\"casual\",\"casual\",\"casual\",\"casual\",\"casual\",\"casual\",\"casual\",\"casual\",\"casual\",\"casual\",\"casual\",\"casual\",\"casual\",\"casual\",\"casual\",\"casual\",\"casual\",\"casual\",\"casual\",\"casual\",\"casual\",\"casual\",\"casual\",\"casual\",\"casual\",\"casual\",\"casual\",\"casual\",\"casual\",\"casual\",\"casual\",\"casual\",\"casual\",\"casual\",\"casual\",\"casual\",\"casual\",\"casual\",\"casual\",\"casual\",\"casual\",\"casual\",\"casual\",\"casual\",\"casual\",\"casual\",\"casual\",\"casual\",\"casual\",\"casual\",\"casual\",\"casual\",\"casual\",\"casual\",\"casual\",\"casual\",\"casual\",\"casual\",\"casual\",\"casual\",\"casual\",\"casual\",\"casual\",\"casual\",\"casual\",\"casual\",\"casual\",\"casual\",\"casual\",\"casual\",\"casual\",\"casual\",\"casual\",\"casual\",\"casual\",\"casual\",\"casual\",\"casual\",\"casual\",\"casual\",\"casual\",\"casual\",\"casual\",\"casual\",\"casual\",\"casual\",\"casual\",\"casual\",\"casual\",\"casual\",\"casual\",\"casual\",\"casual\",\"casual\",\"casual\",\"casual\",\"casual\",\"casual\",\"casual\",\"casual\",\"casual\",\"casual\",\"casual\",\"casual\",\"casual\",\"casual\",\"casual\",\"casual\",\"casual\",\"casual\",\"casual\",\"casual\",\"casual\",\"casual\",\"casual\",\"casual\",\"casual\",\"casual\",\"casual\",\"casual\",\"casual\",\"casual\",\"casual\",\"casual\",\"casual\",\"casual\",\"casual\",\"casual\",\"casual\",\"casual\",\"casual\",\"casual\",\"casual\",\"casual\",\"casual\",\"casual\",\"casual\",\"casual\",\"casual\",\"casual\",\"casual\",\"casual\",\"casual\",\"casual\",\"casual\",\"casual\",\"casual\",\"casual\",\"casual\",\"casual\",\"casual\",\"casual\",\"casual\",\"casual\",\"casual\",\"casual\",\"casual\",\"casual\",\"casual\",\"casual\",\"casual\",\"casual\",\"casual\",\"casual\",\"casual\",\"casual\",\"casual\",\"casual\",\"casual\",\"casual\",\"casual\",\"casual\",\"casual\",\"casual\",\"casual\",\"casual\",\"casual\",\"casual\",\"casual\",\"casual\",\"casual\",\"casual\",\"casual\",\"casual\",\"casual\",\"casual\",\"casual\",\"casual\",\"casual\",\"casual\",\"casual\",\"casual\",\"casual\",\"casual\",\"casual\",\"casual\",\"casual\",\"casual\",\"casual\",\"casual\",\"casual\",\"casual\",\"casual\",\"casual\",\"casual\",\"casual\",\"casual\",\"casual\",\"casual\",\"casual\",\"casual\",\"casual\",\"casual\",\"casual\",\"casual\",\"casual\",\"casual\",\"casual\",\"casual\",\"casual\",\"casual\",\"casual\",\"casual\",\"casual\",\"casual\",\"casual\",\"casual\",\"casual\",\"casual\",\"casual\",\"casual\",\"casual\",\"casual\",\"casual\",\"casual\",\"casual\",\"casual\",\"casual\",\"casual\",\"casual\",\"casual\",\"casual\",\"casual\",\"casual\",\"casual\",\"casual\",\"casual\",\"casual\",\"casual\",\"casual\",\"casual\",\"casual\",\"casual\",\"casual\",\"casual\",\"casual\",\"casual\",\"casual\",\"casual\",\"casual\",\"casual\",\"casual\",\"casual\",\"casual\",\"casual\",\"casual\",\"casual\",\"casual\",\"casual\",\"casual\",\"casual\",\"casual\",\"casual\",\"casual\",\"casual\",\"casual\",\"casual\",\"casual\",\"casual\",\"casual\",\"casual\",\"casual\",\"casual\",\"casual\",\"casual\",\"casual\",\"casual\",\"casual\",\"casual\",\"casual\",\"casual\",\"casual\",\"casual\",\"casual\",\"casual\",\"casual\",\"casual\",\"casual\",\"casual\",\"casual\",\"casual\",\"casual\",\"casual\",\"casual\",\"casual\",\"casual\",\"casual\",\"casual\",\"casual\",\"casual\",\"casual\",\"casual\",\"casual\",\"casual\",\"casual\",\"casual\",\"casual\",\"casual\",\"casual\",\"casual\",\"casual\",\"casual\",\"casual\",\"casual\",\"casual\",\"casual\",\"casual\",\"casual\",\"casual\",\"casual\",\"casual\",\"casual\",\"casual\",\"casual\",\"casual\",\"casual\",\"casual\",\"casual\",\"casual\",\"casual\",\"casual\",\"casual\",\"casual\",\"casual\",\"casual\",\"casual\",\"casual\",\"casual\",\"casual\",\"casual\",\"casual\",\"casual\",\"casual\",\"casual\",\"casual\",\"casual\",\"casual\",\"casual\",\"casual\",\"casual\",\"casual\",\"casual\",\"casual\",\"casual\",\"casual\",\"casual\",\"casual\",\"casual\",\"casual\",\"casual\",\"casual\",\"casual\",\"casual\",\"casual\",\"casual\",\"casual\",\"casual\",\"casual\",\"casual\",\"casual\",\"casual\",\"casual\",\"casual\",\"casual\",\"casual\",\"casual\",\"casual\",\"casual\",\"casual\",\"casual\",\"casual\",\"casual\",\"casual\",\"casual\",\"casual\",\"casual\",\"casual\",\"casual\",\"casual\",\"casual\",\"casual\",\"casual\",\"casual\",\"casual\",\"casual\",\"casual\",\"casual\",\"casual\",\"casual\",\"casual\",\"casual\",\"casual\",\"casual\",\"casual\",\"casual\",\"casual\",\"casual\",\"casual\",\"casual\",\"casual\",\"casual\",\"casual\",\"casual\",\"casual\",\"casual\",\"casual\",\"casual\",\"casual\",\"casual\",\"casual\",\"casual\",\"casual\",\"casual\",\"casual\",\"casual\",\"casual\",\"casual\",\"casual\",\"casual\",\"casual\",\"casual\",\"casual\",\"casual\",\"casual\",\"casual\",\"casual\",\"casual\",\"casual\",\"casual\",\"casual\",\"casual\",\"casual\",\"casual\",\"casual\",\"casual\",\"casual\",\"casual\",\"casual\",\"casual\",\"casual\",\"casual\",\"casual\",\"casual\",\"casual\",\"casual\",\"casual\",\"casual\",\"casual\",\"casual\",\"casual\",\"casual\",\"casual\",\"casual\",\"casual\",\"casual\",\"casual\",\"casual\",\"casual\",\"casual\",\"casual\",\"casual\",\"casual\",\"casual\",\"casual\",\"casual\",\"casual\",\"casual\",\"casual\",\"casual\",\"casual\",\"casual\",\"casual\",\"casual\",\"casual\",\"casual\",\"casual\",\"casual\",\"casual\",\"casual\",\"casual\",\"casual\",\"casual\",\"casual\",\"casual\",\"casual\",\"casual\",\"casual\",\"casual\",\"casual\",\"casual\",\"casual\",\"casual\",\"casual\",\"casual\",\"casual\",\"casual\",\"casual\",\"casual\",\"casual\",\"casual\",\"casual\",\"casual\",\"casual\",\"casual\",\"casual\",\"casual\",\"casual\",\"casual\",\"casual\",\"casual\",\"casual\",\"casual\",\"casual\",\"casual\",\"casual\",\"casual\",\"casual\",\"casual\",\"casual\",\"casual\",\"casual\",\"casual\",\"casual\",\"casual\",\"casual\",\"casual\",\"casual\",\"casual\",\"casual\",\"casual\",\"casual\",\"casual\",\"casual\",\"casual\",\"casual\",\"casual\",\"casual\",\"casual\",\"casual\",\"casual\",\"casual\",\"casual\",\"casual\",\"casual\",\"casual\",\"casual\",\"casual\",\"casual\",\"casual\",\"casual\",\"casual\",\"casual\",\"casual\",\"casual\",\"casual\",\"casual\",\"casual\",\"casual\",\"casual\",\"casual\",\"casual\",\"casual\",\"casual\",\"casual\",\"casual\",\"casual\",\"casual\",\"casual\",\"casual\",\"casual\",\"casual\",\"casual\",\"casual\",\"casual\",\"casual\",\"casual\",\"casual\",\"casual\",\"casual\",\"casual\",\"casual\",\"casual\",\"casual\",\"casual\",\"casual\",\"casual\",\"casual\",\"casual\",\"casual\",\"casual\",\"casual\",\"casual\",\"casual\",\"casual\",\"casual\",\"casual\",\"casual\",\"casual\",\"casual\",\"casual\"],\"x0\":\" \",\"xaxis\":\"x\",\"y\":[331,131,120,108,82,88,148,68,54,41,43,25,38,54,222,251,117,9,78,83,75,93,150,86,186,34,15,38,123,140,42,47,72,61,88,100,354,120,64,53,47,149,288,397,208,140,218,259,579,532,639,195,74,139,100,120,424,694,81,137,231,123,214,640,114,244,316,191,46,247,724,982,359,289,321,424,884,1424,1047,401,460,203,166,300,981,472,222,317,168,179,307,898,1651,734,167,413,571,172,879,1188,855,257,209,529,642,121,1558,669,409,613,745,177,1462,1710,773,678,547,569,878,1965,1138,847,603,255,614,894,1612,1401,664,694,550,695,692,902,1582,773,678,536,735,909,2258,1576,836,659,740,758,871,2001,2355,1549,673,513,736,898,1869,1685,673,763,676,563,815,1729,1467,863,727,769,545,863,1807,1639,699,774,661,746,969,1782,1920,854,732,848,1027,1246,2204,2282,3065,1031,784,754,692,1988,1743,723,662,748,888,1318,2418,2006,841,752,644,632,562,987,1050,568,750,755,606,670,1559,1524,729,801,467,799,1023,1521,1298,846,907,884,812,1051,1504,1338,775,721,668,639,797,1914,1249,833,1281,949,435,768,226,1415,729,775,688,783,875,1935,2521,1236,204,118,153,417,1750,1633,690,701,647,428,742,1434,1353,691,438,539,555,258,1776,1544,684,477,480,653,830,480,616,330,486,559,639,949,2235,2397,1514,667,217,290,529,1899,1748,713,637,254,471,676,1499,1619,699,695,404,240,456,57,885,362,410,370,318,470,1156,952,373,376,305,190,440,1275,1004,595,449,145,139,245,943,787,220,69,112,560,1095,1249,810,253,96,188,182,268,706,634,233,126,50,150,261,502,377,143,155,178,181,178,275,220,260,216,107,227,163,155,303,430,103,255,254,491,665,686,244,89,95,140,307,1070,599,106,173,92,269,174,333,284,217,127,109,130,115,67,196,145,439,467,244,269,775,558,126,324,304,190,310,384,318,206,199,109,163,227,192,73,94,135,141,74,349,1435,618,502,163,394,516,246,317,515,253,229,65,325,246,956,710,203,221,432,486,447,968,1658,838,762,997,1005,548,3155,2207,982,1051,1122,1334,2469,1033,1532,795,531,674,834,796,2301,2347,1208,1348,1058,1192,1807,3252,2230,905,819,482,663,1252,2795,2846,1198,989,347,846,1340,2541,120,195,518,655,475,1014,1120,2229,665,653,667,764,1069,2496,2135,1008,738,620,1026,1319,2622,2172,342,625,991,1242,1521,3410,2704,630,819,766,1059,1417,2855,3283,2557,880,745,1100,533,2795,2494,1071,968,1027,1038,1488,2708,2224,1017,477,1173,1180,1563,2963,2634,653,968,872,778,964,2657,2551,1139,1077,1077,921,829,1455,1421,904,1052,2562,1405,1366,1448,1203,998,954,975,1032,1511,2355,1920,1088,921,799,888,747,1264,2544,1135,1140,1383,1036,1259,2234,2153,1040,968,1074,983,1328,2345,1707,1233,1278,1263,1196,1065,2247,2182,1207,1128,1198,1338,1483,2827,1208,1026,1081,1094,1363,1325,1829,1483,989,935,1177,1172,1433,2352,2613,1965,867,832,611,1045,1557,2570,1118,1070,1050,1054,1379,3160,2166,1022,371,788,939,1250,2512,2454,1001,845,787,751,1045,2589,2015,763,315,728,891,1516,3031,781,874,601,780,834,1060,2252,2080,760,922,979,1008,753,2806,2132,830,841,795,875,1182,2643,998,2,87,419,466,618,1029,1201,378,466,326,340,709,2090,2290,1097,327,373,320,484,1313,922,449,534,615,955,1603,532,309,337,123,198,243,362,951,892,555,551,331,340,349,1153,441,329,282,310,425,429,767,538,212,433,333,314,221,205,408,174,440,9,247,644,159,364,439],\"y0\":\" \",\"yaxis\":\"y\",\"type\":\"box\"},{\"alignmentgroup\":\"True\",\"hovertemplate\":\"type=%{x}<br>users=%{y}<extra></extra>\",\"legendgroup\":\"registered\",\"marker\":{\"color\":\"#EF553B\"},\"name\":\"registered\",\"notched\":false,\"offsetgroup\":\"registered\",\"orientation\":\"v\",\"showlegend\":true,\"x\":[\"registered\",\"registered\",\"registered\",\"registered\",\"registered\",\"registered\",\"registered\",\"registered\",\"registered\",\"registered\",\"registered\",\"registered\",\"registered\",\"registered\",\"registered\",\"registered\",\"registered\",\"registered\",\"registered\",\"registered\",\"registered\",\"registered\",\"registered\",\"registered\",\"registered\",\"registered\",\"registered\",\"registered\",\"registered\",\"registered\",\"registered\",\"registered\",\"registered\",\"registered\",\"registered\",\"registered\",\"registered\",\"registered\",\"registered\",\"registered\",\"registered\",\"registered\",\"registered\",\"registered\",\"registered\",\"registered\",\"registered\",\"registered\",\"registered\",\"registered\",\"registered\",\"registered\",\"registered\",\"registered\",\"registered\",\"registered\",\"registered\",\"registered\",\"registered\",\"registered\",\"registered\",\"registered\",\"registered\",\"registered\",\"registered\",\"registered\",\"registered\",\"registered\",\"registered\",\"registered\",\"registered\",\"registered\",\"registered\",\"registered\",\"registered\",\"registered\",\"registered\",\"registered\",\"registered\",\"registered\",\"registered\",\"registered\",\"registered\",\"registered\",\"registered\",\"registered\",\"registered\",\"registered\",\"registered\",\"registered\",\"registered\",\"registered\",\"registered\",\"registered\",\"registered\",\"registered\",\"registered\",\"registered\",\"registered\",\"registered\",\"registered\",\"registered\",\"registered\",\"registered\",\"registered\",\"registered\",\"registered\",\"registered\",\"registered\",\"registered\",\"registered\",\"registered\",\"registered\",\"registered\",\"registered\",\"registered\",\"registered\",\"registered\",\"registered\",\"registered\",\"registered\",\"registered\",\"registered\",\"registered\",\"registered\",\"registered\",\"registered\",\"registered\",\"registered\",\"registered\",\"registered\",\"registered\",\"registered\",\"registered\",\"registered\",\"registered\",\"registered\",\"registered\",\"registered\",\"registered\",\"registered\",\"registered\",\"registered\",\"registered\",\"registered\",\"registered\",\"registered\",\"registered\",\"registered\",\"registered\",\"registered\",\"registered\",\"registered\",\"registered\",\"registered\",\"registered\",\"registered\",\"registered\",\"registered\",\"registered\",\"registered\",\"registered\",\"registered\",\"registered\",\"registered\",\"registered\",\"registered\",\"registered\",\"registered\",\"registered\",\"registered\",\"registered\",\"registered\",\"registered\",\"registered\",\"registered\",\"registered\",\"registered\",\"registered\",\"registered\",\"registered\",\"registered\",\"registered\",\"registered\",\"registered\",\"registered\",\"registered\",\"registered\",\"registered\",\"registered\",\"registered\",\"registered\",\"registered\",\"registered\",\"registered\",\"registered\",\"registered\",\"registered\",\"registered\",\"registered\",\"registered\",\"registered\",\"registered\",\"registered\",\"registered\",\"registered\",\"registered\",\"registered\",\"registered\",\"registered\",\"registered\",\"registered\",\"registered\",\"registered\",\"registered\",\"registered\",\"registered\",\"registered\",\"registered\",\"registered\",\"registered\",\"registered\",\"registered\",\"registered\",\"registered\",\"registered\",\"registered\",\"registered\",\"registered\",\"registered\",\"registered\",\"registered\",\"registered\",\"registered\",\"registered\",\"registered\",\"registered\",\"registered\",\"registered\",\"registered\",\"registered\",\"registered\",\"registered\",\"registered\",\"registered\",\"registered\",\"registered\",\"registered\",\"registered\",\"registered\",\"registered\",\"registered\",\"registered\",\"registered\",\"registered\",\"registered\",\"registered\",\"registered\",\"registered\",\"registered\",\"registered\",\"registered\",\"registered\",\"registered\",\"registered\",\"registered\",\"registered\",\"registered\",\"registered\",\"registered\",\"registered\",\"registered\",\"registered\",\"registered\",\"registered\",\"registered\",\"registered\",\"registered\",\"registered\",\"registered\",\"registered\",\"registered\",\"registered\",\"registered\",\"registered\",\"registered\",\"registered\",\"registered\",\"registered\",\"registered\",\"registered\",\"registered\",\"registered\",\"registered\",\"registered\",\"registered\",\"registered\",\"registered\",\"registered\",\"registered\",\"registered\",\"registered\",\"registered\",\"registered\",\"registered\",\"registered\",\"registered\",\"registered\",\"registered\",\"registered\",\"registered\",\"registered\",\"registered\",\"registered\",\"registered\",\"registered\",\"registered\",\"registered\",\"registered\",\"registered\",\"registered\",\"registered\",\"registered\",\"registered\",\"registered\",\"registered\",\"registered\",\"registered\",\"registered\",\"registered\",\"registered\",\"registered\",\"registered\",\"registered\",\"registered\",\"registered\",\"registered\",\"registered\",\"registered\",\"registered\",\"registered\",\"registered\",\"registered\",\"registered\",\"registered\",\"registered\",\"registered\",\"registered\",\"registered\",\"registered\",\"registered\",\"registered\",\"registered\",\"registered\",\"registered\",\"registered\",\"registered\",\"registered\",\"registered\",\"registered\",\"registered\",\"registered\",\"registered\",\"registered\",\"registered\",\"registered\",\"registered\",\"registered\",\"registered\",\"registered\",\"registered\",\"registered\",\"registered\",\"registered\",\"registered\",\"registered\",\"registered\",\"registered\",\"registered\",\"registered\",\"registered\",\"registered\",\"registered\",\"registered\",\"registered\",\"registered\",\"registered\",\"registered\",\"registered\",\"registered\",\"registered\",\"registered\",\"registered\",\"registered\",\"registered\",\"registered\",\"registered\",\"registered\",\"registered\",\"registered\",\"registered\",\"registered\",\"registered\",\"registered\",\"registered\",\"registered\",\"registered\",\"registered\",\"registered\",\"registered\",\"registered\",\"registered\",\"registered\",\"registered\",\"registered\",\"registered\",\"registered\",\"registered\",\"registered\",\"registered\",\"registered\",\"registered\",\"registered\",\"registered\",\"registered\",\"registered\",\"registered\",\"registered\",\"registered\",\"registered\",\"registered\",\"registered\",\"registered\",\"registered\",\"registered\",\"registered\",\"registered\",\"registered\",\"registered\",\"registered\",\"registered\",\"registered\",\"registered\",\"registered\",\"registered\",\"registered\",\"registered\",\"registered\",\"registered\",\"registered\",\"registered\",\"registered\",\"registered\",\"registered\",\"registered\",\"registered\",\"registered\",\"registered\",\"registered\",\"registered\",\"registered\",\"registered\",\"registered\",\"registered\",\"registered\",\"registered\",\"registered\",\"registered\",\"registered\",\"registered\",\"registered\",\"registered\",\"registered\",\"registered\",\"registered\",\"registered\",\"registered\",\"registered\",\"registered\",\"registered\",\"registered\",\"registered\",\"registered\",\"registered\",\"registered\",\"registered\",\"registered\",\"registered\",\"registered\",\"registered\",\"registered\",\"registered\",\"registered\",\"registered\",\"registered\",\"registered\",\"registered\",\"registered\",\"registered\",\"registered\",\"registered\",\"registered\",\"registered\",\"registered\",\"registered\",\"registered\",\"registered\",\"registered\",\"registered\",\"registered\",\"registered\",\"registered\",\"registered\",\"registered\",\"registered\",\"registered\",\"registered\",\"registered\",\"registered\",\"registered\",\"registered\",\"registered\",\"registered\",\"registered\",\"registered\",\"registered\",\"registered\",\"registered\",\"registered\",\"registered\",\"registered\",\"registered\",\"registered\",\"registered\",\"registered\",\"registered\",\"registered\",\"registered\",\"registered\",\"registered\",\"registered\",\"registered\",\"registered\",\"registered\",\"registered\",\"registered\",\"registered\",\"registered\",\"registered\",\"registered\",\"registered\",\"registered\",\"registered\",\"registered\",\"registered\",\"registered\",\"registered\",\"registered\",\"registered\",\"registered\",\"registered\",\"registered\",\"registered\",\"registered\",\"registered\",\"registered\",\"registered\",\"registered\",\"registered\",\"registered\",\"registered\",\"registered\",\"registered\",\"registered\",\"registered\",\"registered\",\"registered\",\"registered\",\"registered\",\"registered\",\"registered\",\"registered\",\"registered\",\"registered\",\"registered\",\"registered\",\"registered\",\"registered\",\"registered\",\"registered\",\"registered\",\"registered\",\"registered\",\"registered\",\"registered\",\"registered\",\"registered\",\"registered\",\"registered\",\"registered\",\"registered\",\"registered\",\"registered\",\"registered\",\"registered\",\"registered\",\"registered\",\"registered\",\"registered\",\"registered\",\"registered\",\"registered\",\"registered\",\"registered\",\"registered\",\"registered\",\"registered\",\"registered\",\"registered\",\"registered\",\"registered\",\"registered\",\"registered\",\"registered\",\"registered\",\"registered\",\"registered\",\"registered\",\"registered\",\"registered\",\"registered\",\"registered\",\"registered\",\"registered\",\"registered\",\"registered\",\"registered\",\"registered\",\"registered\",\"registered\",\"registered\",\"registered\",\"registered\",\"registered\",\"registered\",\"registered\",\"registered\",\"registered\",\"registered\",\"registered\",\"registered\",\"registered\",\"registered\",\"registered\",\"registered\",\"registered\",\"registered\",\"registered\",\"registered\",\"registered\",\"registered\",\"registered\",\"registered\",\"registered\",\"registered\",\"registered\",\"registered\",\"registered\",\"registered\",\"registered\",\"registered\",\"registered\",\"registered\",\"registered\",\"registered\",\"registered\",\"registered\",\"registered\",\"registered\",\"registered\",\"registered\",\"registered\",\"registered\",\"registered\",\"registered\",\"registered\",\"registered\",\"registered\",\"registered\",\"registered\",\"registered\",\"registered\",\"registered\",\"registered\",\"registered\",\"registered\",\"registered\",\"registered\",\"registered\",\"registered\",\"registered\",\"registered\",\"registered\",\"registered\",\"registered\",\"registered\",\"registered\",\"registered\",\"registered\",\"registered\",\"registered\",\"registered\",\"registered\",\"registered\",\"registered\",\"registered\",\"registered\",\"registered\",\"registered\",\"registered\",\"registered\",\"registered\",\"registered\",\"registered\",\"registered\",\"registered\",\"registered\",\"registered\",\"registered\",\"registered\",\"registered\"],\"x0\":\" \",\"xaxis\":\"x\",\"y\":[654,670,1229,1454,1518,1518,1362,891,768,1280,1220,1137,1368,1367,1026,953,883,674,1572,1844,1468,888,836,1330,1799,472,416,1129,975,956,1459,1313,1454,1489,1620,905,1269,1592,1466,1552,1491,1597,1184,1192,1705,1675,1897,2216,2348,1103,1173,912,1376,1778,1707,1341,1545,1708,1365,1714,1903,1562,1730,1437,491,1628,1817,1700,577,1730,1408,1435,1687,1767,1871,2320,2355,1693,1424,1676,2243,1918,1699,1910,1515,1221,1806,2108,1368,1506,1920,1354,1598,2381,1628,2395,2570,1299,1576,1707,2493,1777,1953,2738,2484,674,2186,2760,2795,3331,3444,1506,2574,2481,3300,3722,3325,3489,3717,3347,2213,3554,3848,2378,3819,3714,3102,2932,3698,4109,3632,4169,3413,2507,2971,3185,3445,3319,3840,4008,3547,3084,3438,3833,4238,3919,3808,2757,2433,2549,3309,3461,4232,4414,3473,3221,3875,4070,3725,3352,3771,3237,2993,4157,4164,4411,3222,3981,3312,3105,3311,4061,3846,4044,4022,3420,3385,3854,3916,4377,4488,4116,2915,2367,2978,3634,3845,3838,3348,3348,3138,3363,3596,3594,4196,4220,3505,3296,3617,3789,3688,3152,2825,2298,2556,3272,3840,3901,3784,3176,2916,2778,3537,4044,3107,3777,3843,2773,2487,3480,3695,3896,3980,3854,2646,2482,3563,4004,4026,3166,3356,3277,2624,3925,4614,4181,3107,3893,889,2919,3905,4429,4370,4332,3852,2549,2419,2115,2506,1878,1689,3127,3595,3413,4023,4062,4138,3231,4018,3077,2921,3848,3203,3813,4240,2137,3647,3466,3946,3643,3427,4186,4372,1949,2302,3240,3970,4267,4126,4036,3174,3114,3603,3896,2199,2623,3115,3318,3293,3857,4111,2170,3724,3628,2809,2762,3488,3992,3490,2419,3291,570,2446,3307,3658,3816,3656,3576,2770,2697,3662,3829,3804,2743,2928,2792,2713,3891,3746,1672,2914,3147,2720,2733,2545,1538,2454,935,1697,1819,2261,3614,2818,3425,3545,3672,2908,2851,3578,2468,655,3172,3359,2688,2366,3167,3368,3562,3528,3399,2464,2211,3143,3534,2553,2841,2046,856,451,887,1059,2047,2169,2508,1820,1608,1707,2147,2273,3132,3791,3451,2826,2270,3425,2085,3828,3040,2160,2027,2081,2808,3267,3162,3048,1234,1781,2287,3900,3803,3831,3187,3248,2685,3498,4185,4275,3571,3841,2448,2629,3578,4176,2693,3667,3604,1977,1456,3328,3787,4028,2931,3805,2883,2071,2627,3614,4379,4546,3241,2415,2874,4069,4134,1769,4665,2948,3110,2713,3130,3735,4484,4896,4122,3150,3253,4460,5085,5315,5187,3830,4681,3685,5171,5042,5108,5537,5893,2339,3464,4763,4571,5024,5299,4663,3934,3694,4728,5424,5378,5265,4653,3605,2939,4680,5099,4380,4746,5146,4665,4286,5172,5702,4020,5719,5950,4083,907,3019,5115,5541,4551,5219,3100,4075,4907,5087,5502,5657,5227,4387,4224,5265,4990,4097,5546,5711,4807,3946,2501,4490,6433,6142,6118,4884,4425,3729,5254,4494,5711,5317,3681,3308,3486,4863,6110,6238,3594,5325,5147,5927,6033,6028,6456,6248,4790,4374,5647,4495,6248,6183,6102,4739,4344,4446,5857,5339,5127,4859,4801,4340,5640,6365,6258,5958,4634,4232,4110,5323,5608,4841,4836,4841,3392,3469,5571,5336,6289,6414,5988,4614,4111,5742,5865,4914,5703,5123,3195,4866,5831,6452,6790,5825,5645,4451,4444,6065,6248,6506,6278,5847,4479,3757,5780,5995,6271,6090,4721,4052,4362,5676,5656,6149,6267,5665,5038,3341,5504,5925,6281,6402,6257,4224,3772,5928,6105,6520,6541,5917,3788,3197,4069,5997,6280,5592,6459,4419,5657,6407,6697,6820,6750,6630,5554,5167,5847,3702,6803,6781,6917,5883,5453,6435,6693,6946,6642,6370,5966,4874,6015,4324,6844,6437,6640,4934,2729,4604,5791,6911,6736,6222,4857,4559,5115,6612,6482,6501,4671,5284,4692,6228,6625,6898,6484,6262,5209,3461,20,1009,5147,5520,5229,4109,3906,4881,5220,4709,4975,5283,4446,4562,5172,3767,5122,5125,5214,4316,3747,5050,5100,4531,1470,2307,1745,2115,4750,3836,5062,5080,5306,4240,3757,5679,6055,5398,5035,4659,4429,2787,4841,5219,5009,5107,5182,4280,3248,4373,5124,4934,3814,3402,1544,1379,746,573,432,1867,2451,1182,1432,2290],\"y0\":\" \",\"yaxis\":\"y\",\"type\":\"box\"}],                        {\"template\":{\"data\":{\"bar\":[{\"error_x\":{\"color\":\"#2a3f5f\"},\"error_y\":{\"color\":\"#2a3f5f\"},\"marker\":{\"line\":{\"color\":\"#E5ECF6\",\"width\":0.5},\"pattern\":{\"fillmode\":\"overlay\",\"size\":10,\"solidity\":0.2}},\"type\":\"bar\"}],\"barpolar\":[{\"marker\":{\"line\":{\"color\":\"#E5ECF6\",\"width\":0.5},\"pattern\":{\"fillmode\":\"overlay\",\"size\":10,\"solidity\":0.2}},\"type\":\"barpolar\"}],\"carpet\":[{\"aaxis\":{\"endlinecolor\":\"#2a3f5f\",\"gridcolor\":\"white\",\"linecolor\":\"white\",\"minorgridcolor\":\"white\",\"startlinecolor\":\"#2a3f5f\"},\"baxis\":{\"endlinecolor\":\"#2a3f5f\",\"gridcolor\":\"white\",\"linecolor\":\"white\",\"minorgridcolor\":\"white\",\"startlinecolor\":\"#2a3f5f\"},\"type\":\"carpet\"}],\"choropleth\":[{\"colorbar\":{\"outlinewidth\":0,\"ticks\":\"\"},\"type\":\"choropleth\"}],\"contour\":[{\"colorbar\":{\"outlinewidth\":0,\"ticks\":\"\"},\"colorscale\":[[0.0,\"#0d0887\"],[0.1111111111111111,\"#46039f\"],[0.2222222222222222,\"#7201a8\"],[0.3333333333333333,\"#9c179e\"],[0.4444444444444444,\"#bd3786\"],[0.5555555555555556,\"#d8576b\"],[0.6666666666666666,\"#ed7953\"],[0.7777777777777778,\"#fb9f3a\"],[0.8888888888888888,\"#fdca26\"],[1.0,\"#f0f921\"]],\"type\":\"contour\"}],\"contourcarpet\":[{\"colorbar\":{\"outlinewidth\":0,\"ticks\":\"\"},\"type\":\"contourcarpet\"}],\"heatmap\":[{\"colorbar\":{\"outlinewidth\":0,\"ticks\":\"\"},\"colorscale\":[[0.0,\"#0d0887\"],[0.1111111111111111,\"#46039f\"],[0.2222222222222222,\"#7201a8\"],[0.3333333333333333,\"#9c179e\"],[0.4444444444444444,\"#bd3786\"],[0.5555555555555556,\"#d8576b\"],[0.6666666666666666,\"#ed7953\"],[0.7777777777777778,\"#fb9f3a\"],[0.8888888888888888,\"#fdca26\"],[1.0,\"#f0f921\"]],\"type\":\"heatmap\"}],\"heatmapgl\":[{\"colorbar\":{\"outlinewidth\":0,\"ticks\":\"\"},\"colorscale\":[[0.0,\"#0d0887\"],[0.1111111111111111,\"#46039f\"],[0.2222222222222222,\"#7201a8\"],[0.3333333333333333,\"#9c179e\"],[0.4444444444444444,\"#bd3786\"],[0.5555555555555556,\"#d8576b\"],[0.6666666666666666,\"#ed7953\"],[0.7777777777777778,\"#fb9f3a\"],[0.8888888888888888,\"#fdca26\"],[1.0,\"#f0f921\"]],\"type\":\"heatmapgl\"}],\"histogram\":[{\"marker\":{\"pattern\":{\"fillmode\":\"overlay\",\"size\":10,\"solidity\":0.2}},\"type\":\"histogram\"}],\"histogram2d\":[{\"colorbar\":{\"outlinewidth\":0,\"ticks\":\"\"},\"colorscale\":[[0.0,\"#0d0887\"],[0.1111111111111111,\"#46039f\"],[0.2222222222222222,\"#7201a8\"],[0.3333333333333333,\"#9c179e\"],[0.4444444444444444,\"#bd3786\"],[0.5555555555555556,\"#d8576b\"],[0.6666666666666666,\"#ed7953\"],[0.7777777777777778,\"#fb9f3a\"],[0.8888888888888888,\"#fdca26\"],[1.0,\"#f0f921\"]],\"type\":\"histogram2d\"}],\"histogram2dcontour\":[{\"colorbar\":{\"outlinewidth\":0,\"ticks\":\"\"},\"colorscale\":[[0.0,\"#0d0887\"],[0.1111111111111111,\"#46039f\"],[0.2222222222222222,\"#7201a8\"],[0.3333333333333333,\"#9c179e\"],[0.4444444444444444,\"#bd3786\"],[0.5555555555555556,\"#d8576b\"],[0.6666666666666666,\"#ed7953\"],[0.7777777777777778,\"#fb9f3a\"],[0.8888888888888888,\"#fdca26\"],[1.0,\"#f0f921\"]],\"type\":\"histogram2dcontour\"}],\"mesh3d\":[{\"colorbar\":{\"outlinewidth\":0,\"ticks\":\"\"},\"type\":\"mesh3d\"}],\"parcoords\":[{\"line\":{\"colorbar\":{\"outlinewidth\":0,\"ticks\":\"\"}},\"type\":\"parcoords\"}],\"pie\":[{\"automargin\":true,\"type\":\"pie\"}],\"scatter\":[{\"marker\":{\"colorbar\":{\"outlinewidth\":0,\"ticks\":\"\"}},\"type\":\"scatter\"}],\"scatter3d\":[{\"line\":{\"colorbar\":{\"outlinewidth\":0,\"ticks\":\"\"}},\"marker\":{\"colorbar\":{\"outlinewidth\":0,\"ticks\":\"\"}},\"type\":\"scatter3d\"}],\"scattercarpet\":[{\"marker\":{\"colorbar\":{\"outlinewidth\":0,\"ticks\":\"\"}},\"type\":\"scattercarpet\"}],\"scattergeo\":[{\"marker\":{\"colorbar\":{\"outlinewidth\":0,\"ticks\":\"\"}},\"type\":\"scattergeo\"}],\"scattergl\":[{\"marker\":{\"colorbar\":{\"outlinewidth\":0,\"ticks\":\"\"}},\"type\":\"scattergl\"}],\"scattermapbox\":[{\"marker\":{\"colorbar\":{\"outlinewidth\":0,\"ticks\":\"\"}},\"type\":\"scattermapbox\"}],\"scatterpolar\":[{\"marker\":{\"colorbar\":{\"outlinewidth\":0,\"ticks\":\"\"}},\"type\":\"scatterpolar\"}],\"scatterpolargl\":[{\"marker\":{\"colorbar\":{\"outlinewidth\":0,\"ticks\":\"\"}},\"type\":\"scatterpolargl\"}],\"scatterternary\":[{\"marker\":{\"colorbar\":{\"outlinewidth\":0,\"ticks\":\"\"}},\"type\":\"scatterternary\"}],\"surface\":[{\"colorbar\":{\"outlinewidth\":0,\"ticks\":\"\"},\"colorscale\":[[0.0,\"#0d0887\"],[0.1111111111111111,\"#46039f\"],[0.2222222222222222,\"#7201a8\"],[0.3333333333333333,\"#9c179e\"],[0.4444444444444444,\"#bd3786\"],[0.5555555555555556,\"#d8576b\"],[0.6666666666666666,\"#ed7953\"],[0.7777777777777778,\"#fb9f3a\"],[0.8888888888888888,\"#fdca26\"],[1.0,\"#f0f921\"]],\"type\":\"surface\"}],\"table\":[{\"cells\":{\"fill\":{\"color\":\"#EBF0F8\"},\"line\":{\"color\":\"white\"}},\"header\":{\"fill\":{\"color\":\"#C8D4E3\"},\"line\":{\"color\":\"white\"}},\"type\":\"table\"}]},\"layout\":{\"annotationdefaults\":{\"arrowcolor\":\"#2a3f5f\",\"arrowhead\":0,\"arrowwidth\":1},\"autotypenumbers\":\"strict\",\"coloraxis\":{\"colorbar\":{\"outlinewidth\":0,\"ticks\":\"\"}},\"colorscale\":{\"diverging\":[[0,\"#8e0152\"],[0.1,\"#c51b7d\"],[0.2,\"#de77ae\"],[0.3,\"#f1b6da\"],[0.4,\"#fde0ef\"],[0.5,\"#f7f7f7\"],[0.6,\"#e6f5d0\"],[0.7,\"#b8e186\"],[0.8,\"#7fbc41\"],[0.9,\"#4d9221\"],[1,\"#276419\"]],\"sequential\":[[0.0,\"#0d0887\"],[0.1111111111111111,\"#46039f\"],[0.2222222222222222,\"#7201a8\"],[0.3333333333333333,\"#9c179e\"],[0.4444444444444444,\"#bd3786\"],[0.5555555555555556,\"#d8576b\"],[0.6666666666666666,\"#ed7953\"],[0.7777777777777778,\"#fb9f3a\"],[0.8888888888888888,\"#fdca26\"],[1.0,\"#f0f921\"]],\"sequentialminus\":[[0.0,\"#0d0887\"],[0.1111111111111111,\"#46039f\"],[0.2222222222222222,\"#7201a8\"],[0.3333333333333333,\"#9c179e\"],[0.4444444444444444,\"#bd3786\"],[0.5555555555555556,\"#d8576b\"],[0.6666666666666666,\"#ed7953\"],[0.7777777777777778,\"#fb9f3a\"],[0.8888888888888888,\"#fdca26\"],[1.0,\"#f0f921\"]]},\"colorway\":[\"#636efa\",\"#EF553B\",\"#00cc96\",\"#ab63fa\",\"#FFA15A\",\"#19d3f3\",\"#FF6692\",\"#B6E880\",\"#FF97FF\",\"#FECB52\"],\"font\":{\"color\":\"#2a3f5f\"},\"geo\":{\"bgcolor\":\"white\",\"lakecolor\":\"white\",\"landcolor\":\"#E5ECF6\",\"showlakes\":true,\"showland\":true,\"subunitcolor\":\"white\"},\"hoverlabel\":{\"align\":\"left\"},\"hovermode\":\"closest\",\"mapbox\":{\"style\":\"light\"},\"paper_bgcolor\":\"white\",\"plot_bgcolor\":\"#E5ECF6\",\"polar\":{\"angularaxis\":{\"gridcolor\":\"white\",\"linecolor\":\"white\",\"ticks\":\"\"},\"bgcolor\":\"#E5ECF6\",\"radialaxis\":{\"gridcolor\":\"white\",\"linecolor\":\"white\",\"ticks\":\"\"}},\"scene\":{\"xaxis\":{\"backgroundcolor\":\"#E5ECF6\",\"gridcolor\":\"white\",\"gridwidth\":2,\"linecolor\":\"white\",\"showbackground\":true,\"ticks\":\"\",\"zerolinecolor\":\"white\"},\"yaxis\":{\"backgroundcolor\":\"#E5ECF6\",\"gridcolor\":\"white\",\"gridwidth\":2,\"linecolor\":\"white\",\"showbackground\":true,\"ticks\":\"\",\"zerolinecolor\":\"white\"},\"zaxis\":{\"backgroundcolor\":\"#E5ECF6\",\"gridcolor\":\"white\",\"gridwidth\":2,\"linecolor\":\"white\",\"showbackground\":true,\"ticks\":\"\",\"zerolinecolor\":\"white\"}},\"shapedefaults\":{\"line\":{\"color\":\"#2a3f5f\"}},\"ternary\":{\"aaxis\":{\"gridcolor\":\"white\",\"linecolor\":\"white\",\"ticks\":\"\"},\"baxis\":{\"gridcolor\":\"white\",\"linecolor\":\"white\",\"ticks\":\"\"},\"bgcolor\":\"#E5ECF6\",\"caxis\":{\"gridcolor\":\"white\",\"linecolor\":\"white\",\"ticks\":\"\"}},\"title\":{\"x\":0.05},\"xaxis\":{\"automargin\":true,\"gridcolor\":\"white\",\"linecolor\":\"white\",\"ticks\":\"\",\"title\":{\"standoff\":15},\"zerolinecolor\":\"white\",\"zerolinewidth\":2},\"yaxis\":{\"automargin\":true,\"gridcolor\":\"white\",\"linecolor\":\"white\",\"ticks\":\"\",\"title\":{\"standoff\":15},\"zerolinecolor\":\"white\",\"zerolinewidth\":2}}},\"xaxis\":{\"anchor\":\"y\",\"domain\":[0.0,1.0],\"title\":{\"text\":\"type\"},\"categoryorder\":\"array\",\"categoryarray\":[\"casual\",\"registered\"]},\"yaxis\":{\"anchor\":\"x\",\"domain\":[0.0,1.0],\"title\":{\"text\":\"users\"}},\"legend\":{\"title\":{\"text\":\"type\"},\"tracegroupgap\":0},\"margin\":{\"t\":60},\"boxmode\":\"overlay\",\"height\":600,\"width\":800,\"title\":{\"text\":\"Boxplot - casual vs registered\",\"x\":0.5,\"xanchor\":\"center\",\"yanchor\":\"middle\"}},                        {\"responsive\": true}                    ).then(function(){\n",
              "                            \n",
              "var gd = document.getElementById('2ef8af27-bc8a-4125-98fa-9f57b0af3331');\n",
              "var x = new MutationObserver(function (mutations, observer) {{\n",
              "        var display = window.getComputedStyle(gd).display;\n",
              "        if (!display || display === 'none') {{\n",
              "            console.log([gd, 'removed!']);\n",
              "            Plotly.purge(gd);\n",
              "            observer.disconnect();\n",
              "        }}\n",
              "}});\n",
              "\n",
              "// Listen for the removal of the full notebook cells\n",
              "var notebookContainer = gd.closest('#notebook-container');\n",
              "if (notebookContainer) {{\n",
              "    x.observe(notebookContainer, {childList: true});\n",
              "}}\n",
              "\n",
              "// Listen for the clearing of the current output cell\n",
              "var outputEl = gd.closest('.output');\n",
              "if (outputEl) {{\n",
              "    x.observe(outputEl, {childList: true});\n",
              "}}\n",
              "\n",
              "                        })                };                            </script>        </div>\n",
              "</body>\n",
              "</html>"
            ]
          },
          "metadata": {},
          "output_type": "display_data"
        }
      ],
      "metadata": {
        "colab": {
          "base_uri": "https://localhost:8080/",
          "height": 617
        },
        "id": "lIxEYF1LnBv3",
        "cellView": "form",
        "outputId": "4002f1e1-0af7-4836-98d9-f091f4cd8034"
      }
    },
    {
      "cell_type": "markdown",
      "source": [
        "##1.8 Conclusões e premissas\n",
        "\n",
        "Na análise exploratória, foi possível entender que características climáticas afetam o número de usuários (registrados e/ou casuais), permitindo identificar o que configura um dia \"ideal\", com alto número de usuários, e um dia \"insatisfatório\", com baixo número de usuários.\n",
        "\n",
        "Dependendo da premissa e do objetivo de negócio, é possível traçar planos de ação e estratégias afim de maximizar resultados ou predizê-los. Abaixo, alguns exemplos:"
      ],
      "metadata": {
        "id": "QXVu7O4AAfr5"
      }
    },
    {
      "cell_type": "markdown",
      "source": [
        "###1.8.1 Exemplo: Planejamento de manutenção\n",
        "\n",
        "Considerando que as bicicletas precisam passar por manutenção, é ideal planejar a manutenção para que esta ocorra nos momentos com menor quantidade de usuários. Como foi apontado na análise exploratória, domingos têm o menor volume de usuários, assim como dias com céu fechado (formação de chuva, por exemplo). É também possível observar isso em dias com temperatura baixa e dias de umidade/velocidade do vento extremas. Dias com essas características podem ser ótimas opções para um dia de manutenção."
      ],
      "metadata": {
        "id": "0p6CFfO2BDMb"
      }
    },
    {
      "cell_type": "markdown",
      "source": [
        "###1.8.2 Exemplo: Campanha para incentivar o registro de usuários\n",
        "\n",
        "Considerando, como uma premissa de negócio, que o usuário registrado é mais valioso, uma estratégia boa pode ser criar campanhas para convencer usuários a se registrarem, deixando de ser apenas casuais. Nesse caso, o ideal seria escolhermos dias com a maior quantidade possível de usuários casuais utilizando o serviço. Como apontado na análise exploratória, esse tipo de usuário aparece em maior quantidade nos dias de descanso, como feriados e finais de semana, especialmente nos sábados, durante a temporada de verão. "
      ],
      "metadata": {
        "id": "gV8HX_H-FFX1"
      }
    },
    {
      "cell_type": "markdown",
      "source": [
        "#2.Regressão linear\n",
        "Partindo do princípio de que a previsibilidade pode ajudar na tomada de decisão, um modelo de regressão linear que tente prever o número de usuários pode ser útil.\n",
        "\n",
        "Para este caso, será avaliado o modelo de regressão linear como possível solução para este problema.\n",
        "\n",
        "A variável dependente será a 'cnt', que corresponde ao número total de usuários registrados no dia.\n",
        "\n",
        "As variáveis independentes são:\n",
        "- yr: ano do dia registrado\n",
        "- mnth: mês do dia registrado\n",
        "- holiday: indicativo se o dia registrado é ou não um feriado\n",
        "- season_num: indicativo numérico de qual estação do ano é o dia\n",
        "- working_day_num: indicativo se o dia é de trabalho\n",
        "- weathersit_num: indicativo da situação do tempo do dia (vai de 1, céu limpo, a 3, formações no céu como chuva ou neblina)\n",
        "- weekday_num: número do dia da semana, iniciando em 0 (domingo)\n",
        "- temp: temperatura registrada\n",
        "- atemp: sensaão térmica registrada\n",
        "- hum: nível % de umidade registrada\n",
        "- windspeed: velocidade do vento registrada"
      ],
      "metadata": {
        "id": "G5JrFv-fsS4m"
      }
    },
    {
      "cell_type": "markdown",
      "source": [
        "##2.1 Considerações e premissas"
      ],
      "metadata": {
        "id": "4nhBkof2sS4n"
      }
    },
    {
      "cell_type": "markdown",
      "source": [
        "###2.1.1 Independência entre os pontos de dado observados\n",
        "\n",
        "Como visto no item 1.5 Crescimento no tempo, temos uma tendência de crescimento de um ano para o outro (2011 para 2012), o que afeta o princípio de independência entre as observações. Ao considerar o ano como uma variável independente do modelo, indiretamente ensinaremos a ele que quanto maior o valor do ano, maior o resultado esperado. Isso pode ser problemático no futuro, já que não há garantia de que os valores de fato cresçam ano a ano."
      ],
      "metadata": {
        "id": "NKdpu17rsS4o"
      }
    },
    {
      "cell_type": "markdown",
      "source": [
        "###2.1.2 Colinearidade\n",
        "\n",
        "Avaliaremos possíveis colinearidades através de uma matriz de correlação. Como é possível observar, os pares (temp, atemp) e (mnth, season_num) tem alta correlação."
      ],
      "metadata": {
        "id": "uGvT3iwmsS4o"
      }
    },
    {
      "cell_type": "code",
      "execution_count": 26,
      "source": [
        "#@title\n",
        "corr = df[['yr', 'mnth','holiday','season_num','workingday_num','weathersit_num', 'weekday_num', 'temp', 'atemp','hum','windspeed']].corr()\n",
        "\n",
        "from IPython.display import display\n",
        "display(corr.style.background_gradient(cmap='coolwarm').set_precision(2))"
      ],
      "outputs": [
        {
          "data": {
            "text/plain": [
              "<pandas.io.formats.style.Styler at 0x7fa54f664310>"
            ],
            "text/html": [
              "<style  type=\"text/css\" >\n",
              "#T_51586b3e_4bf0_11ec_95ff_0242ac1c0002row0_col0,#T_51586b3e_4bf0_11ec_95ff_0242ac1c0002row1_col1,#T_51586b3e_4bf0_11ec_95ff_0242ac1c0002row2_col2,#T_51586b3e_4bf0_11ec_95ff_0242ac1c0002row3_col3,#T_51586b3e_4bf0_11ec_95ff_0242ac1c0002row4_col4,#T_51586b3e_4bf0_11ec_95ff_0242ac1c0002row5_col5,#T_51586b3e_4bf0_11ec_95ff_0242ac1c0002row6_col6,#T_51586b3e_4bf0_11ec_95ff_0242ac1c0002row7_col7,#T_51586b3e_4bf0_11ec_95ff_0242ac1c0002row8_col8,#T_51586b3e_4bf0_11ec_95ff_0242ac1c0002row9_col9,#T_51586b3e_4bf0_11ec_95ff_0242ac1c0002row10_col10{\n",
              "            background-color:  #b40426;\n",
              "            color:  #f1f1f1;\n",
              "        }#T_51586b3e_4bf0_11ec_95ff_0242ac1c0002row0_col1{\n",
              "            background-color:  #7093f3;\n",
              "            color:  #000000;\n",
              "        }#T_51586b3e_4bf0_11ec_95ff_0242ac1c0002row0_col2,#T_51586b3e_4bf0_11ec_95ff_0242ac1c0002row5_col1,#T_51586b3e_4bf0_11ec_95ff_0242ac1c0002row6_col10{\n",
              "            background-color:  #7ea1fa;\n",
              "            color:  #000000;\n",
              "        }#T_51586b3e_4bf0_11ec_95ff_0242ac1c0002row0_col3,#T_51586b3e_4bf0_11ec_95ff_0242ac1c0002row2_col9,#T_51586b3e_4bf0_11ec_95ff_0242ac1c0002row4_col10,#T_51586b3e_4bf0_11ec_95ff_0242ac1c0002row6_col3,#T_51586b3e_4bf0_11ec_95ff_0242ac1c0002row10_col4{\n",
              "            background-color:  #7699f6;\n",
              "            color:  #000000;\n",
              "        }#T_51586b3e_4bf0_11ec_95ff_0242ac1c0002row0_col4,#T_51586b3e_4bf0_11ec_95ff_0242ac1c0002row4_col8,#T_51586b3e_4bf0_11ec_95ff_0242ac1c0002row5_col3{\n",
              "            background-color:  #7b9ff9;\n",
              "            color:  #000000;\n",
              "        }#T_51586b3e_4bf0_11ec_95ff_0242ac1c0002row0_col5{\n",
              "            background-color:  #4e68d8;\n",
              "            color:  #000000;\n",
              "        }#T_51586b3e_4bf0_11ec_95ff_0242ac1c0002row0_col6,#T_51586b3e_4bf0_11ec_95ff_0242ac1c0002row3_col6,#T_51586b3e_4bf0_11ec_95ff_0242ac1c0002row10_col0{\n",
              "            background-color:  #5572df;\n",
              "            color:  #000000;\n",
              "        }#T_51586b3e_4bf0_11ec_95ff_0242ac1c0002row0_col7,#T_51586b3e_4bf0_11ec_95ff_0242ac1c0002row2_col3,#T_51586b3e_4bf0_11ec_95ff_0242ac1c0002row7_col2,#T_51586b3e_4bf0_11ec_95ff_0242ac1c0002row8_col2{\n",
              "            background-color:  #7396f5;\n",
              "            color:  #000000;\n",
              "        }#T_51586b3e_4bf0_11ec_95ff_0242ac1c0002row0_col8,#T_51586b3e_4bf0_11ec_95ff_0242ac1c0002row3_col2{\n",
              "            background-color:  #799cf8;\n",
              "            color:  #000000;\n",
              "        }#T_51586b3e_4bf0_11ec_95ff_0242ac1c0002row0_col9,#T_51586b3e_4bf0_11ec_95ff_0242ac1c0002row2_col7{\n",
              "            background-color:  #5d7ce6;\n",
              "            color:  #000000;\n",
              "        }#T_51586b3e_4bf0_11ec_95ff_0242ac1c0002row0_col10,#T_51586b3e_4bf0_11ec_95ff_0242ac1c0002row2_col1,#T_51586b3e_4bf0_11ec_95ff_0242ac1c0002row9_col2{\n",
              "            background-color:  #779af7;\n",
              "            color:  #000000;\n",
              "        }#T_51586b3e_4bf0_11ec_95ff_0242ac1c0002row1_col0,#T_51586b3e_4bf0_11ec_95ff_0242ac1c0002row1_col6,#T_51586b3e_4bf0_11ec_95ff_0242ac1c0002row3_col0,#T_51586b3e_4bf0_11ec_95ff_0242ac1c0002row4_col0{\n",
              "            background-color:  #5977e3;\n",
              "            color:  #000000;\n",
              "        }#T_51586b3e_4bf0_11ec_95ff_0242ac1c0002row1_col2,#T_51586b3e_4bf0_11ec_95ff_0242ac1c0002row4_col9{\n",
              "            background-color:  #81a4fb;\n",
              "            color:  #000000;\n",
              "        }#T_51586b3e_4bf0_11ec_95ff_0242ac1c0002row1_col3,#T_51586b3e_4bf0_11ec_95ff_0242ac1c0002row3_col1{\n",
              "            background-color:  #e16751;\n",
              "            color:  #000000;\n",
              "        }#T_51586b3e_4bf0_11ec_95ff_0242ac1c0002row1_col4,#T_51586b3e_4bf0_11ec_95ff_0242ac1c0002row4_col3{\n",
              "            background-color:  #7a9df8;\n",
              "            color:  #000000;\n",
              "        }#T_51586b3e_4bf0_11ec_95ff_0242ac1c0002row1_col5{\n",
              "            background-color:  #688aef;\n",
              "            color:  #000000;\n",
              "        }#T_51586b3e_4bf0_11ec_95ff_0242ac1c0002row1_col7{\n",
              "            background-color:  #a7c5fe;\n",
              "            color:  #000000;\n",
              "        }#T_51586b3e_4bf0_11ec_95ff_0242ac1c0002row1_col8{\n",
              "            background-color:  #aec9fc;\n",
              "            color:  #000000;\n",
              "        }#T_51586b3e_4bf0_11ec_95ff_0242ac1c0002row1_col9{\n",
              "            background-color:  #b9d0f9;\n",
              "            color:  #000000;\n",
              "        }#T_51586b3e_4bf0_11ec_95ff_0242ac1c0002row1_col10,#T_51586b3e_4bf0_11ec_95ff_0242ac1c0002row5_col7{\n",
              "            background-color:  #445acc;\n",
              "            color:  #f1f1f1;\n",
              "        }#T_51586b3e_4bf0_11ec_95ff_0242ac1c0002row2_col0,#T_51586b3e_4bf0_11ec_95ff_0242ac1c0002row10_col6{\n",
              "            background-color:  #5b7ae5;\n",
              "            color:  #000000;\n",
              "        }#T_51586b3e_4bf0_11ec_95ff_0242ac1c0002row2_col4,#T_51586b3e_4bf0_11ec_95ff_0242ac1c0002row2_col6,#T_51586b3e_4bf0_11ec_95ff_0242ac1c0002row4_col2,#T_51586b3e_4bf0_11ec_95ff_0242ac1c0002row7_col5,#T_51586b3e_4bf0_11ec_95ff_0242ac1c0002row8_col5,#T_51586b3e_4bf0_11ec_95ff_0242ac1c0002row9_col0,#T_51586b3e_4bf0_11ec_95ff_0242ac1c0002row9_col10,#T_51586b3e_4bf0_11ec_95ff_0242ac1c0002row10_col1,#T_51586b3e_4bf0_11ec_95ff_0242ac1c0002row10_col3,#T_51586b3e_4bf0_11ec_95ff_0242ac1c0002row10_col7,#T_51586b3e_4bf0_11ec_95ff_0242ac1c0002row10_col8,#T_51586b3e_4bf0_11ec_95ff_0242ac1c0002row10_col9{\n",
              "            background-color:  #3b4cc0;\n",
              "            color:  #f1f1f1;\n",
              "        }#T_51586b3e_4bf0_11ec_95ff_0242ac1c0002row2_col5{\n",
              "            background-color:  #516ddb;\n",
              "            color:  #000000;\n",
              "        }#T_51586b3e_4bf0_11ec_95ff_0242ac1c0002row2_col8,#T_51586b3e_4bf0_11ec_95ff_0242ac1c0002row3_col5,#T_51586b3e_4bf0_11ec_95ff_0242ac1c0002row4_col6{\n",
              "            background-color:  #6282ea;\n",
              "            color:  #000000;\n",
              "        }#T_51586b3e_4bf0_11ec_95ff_0242ac1c0002row2_col10,#T_51586b3e_4bf0_11ec_95ff_0242ac1c0002row10_col2{\n",
              "            background-color:  #7da0f9;\n",
              "            color:  #000000;\n",
              "        }#T_51586b3e_4bf0_11ec_95ff_0242ac1c0002row3_col4{\n",
              "            background-color:  #80a3fa;\n",
              "            color:  #000000;\n",
              "        }#T_51586b3e_4bf0_11ec_95ff_0242ac1c0002row3_col7{\n",
              "            background-color:  #c7d7f0;\n",
              "            color:  #000000;\n",
              "        }#T_51586b3e_4bf0_11ec_95ff_0242ac1c0002row3_col8{\n",
              "            background-color:  #cdd9ec;\n",
              "            color:  #000000;\n",
              "        }#T_51586b3e_4bf0_11ec_95ff_0242ac1c0002row3_col9{\n",
              "            background-color:  #b5cdfa;\n",
              "            color:  #000000;\n",
              "        }#T_51586b3e_4bf0_11ec_95ff_0242ac1c0002row3_col10{\n",
              "            background-color:  #3e51c5;\n",
              "            color:  #f1f1f1;\n",
              "        }#T_51586b3e_4bf0_11ec_95ff_0242ac1c0002row4_col1{\n",
              "            background-color:  #6f92f3;\n",
              "            color:  #000000;\n",
              "        }#T_51586b3e_4bf0_11ec_95ff_0242ac1c0002row4_col5{\n",
              "            background-color:  #6e90f2;\n",
              "            color:  #000000;\n",
              "        }#T_51586b3e_4bf0_11ec_95ff_0242ac1c0002row4_col7,#T_51586b3e_4bf0_11ec_95ff_0242ac1c0002row6_col1{\n",
              "            background-color:  #7597f6;\n",
              "            color:  #000000;\n",
              "        }#T_51586b3e_4bf0_11ec_95ff_0242ac1c0002row5_col0{\n",
              "            background-color:  #4b64d5;\n",
              "            color:  #f1f1f1;\n",
              "        }#T_51586b3e_4bf0_11ec_95ff_0242ac1c0002row5_col2{\n",
              "            background-color:  #7295f4;\n",
              "            color:  #000000;\n",
              "        }#T_51586b3e_4bf0_11ec_95ff_0242ac1c0002row5_col4{\n",
              "            background-color:  #8db0fe;\n",
              "            color:  #000000;\n",
              "        }#T_51586b3e_4bf0_11ec_95ff_0242ac1c0002row5_col6,#T_51586b3e_4bf0_11ec_95ff_0242ac1c0002row6_col2{\n",
              "            background-color:  #5f7fe8;\n",
              "            color:  #000000;\n",
              "        }#T_51586b3e_4bf0_11ec_95ff_0242ac1c0002row5_col8,#T_51586b3e_4bf0_11ec_95ff_0242ac1c0002row8_col10{\n",
              "            background-color:  #4a63d3;\n",
              "            color:  #f1f1f1;\n",
              "        }#T_51586b3e_4bf0_11ec_95ff_0242ac1c0002row5_col9{\n",
              "            background-color:  #f7b599;\n",
              "            color:  #000000;\n",
              "        }#T_51586b3e_4bf0_11ec_95ff_0242ac1c0002row5_col10,#T_51586b3e_4bf0_11ec_95ff_0242ac1c0002row6_col4{\n",
              "            background-color:  #86a9fc;\n",
              "            color:  #000000;\n",
              "        }#T_51586b3e_4bf0_11ec_95ff_0242ac1c0002row6_col0{\n",
              "            background-color:  #5875e1;\n",
              "            color:  #000000;\n",
              "        }#T_51586b3e_4bf0_11ec_95ff_0242ac1c0002row6_col5,#T_51586b3e_4bf0_11ec_95ff_0242ac1c0002row6_col7{\n",
              "            background-color:  #6485ec;\n",
              "            color:  #000000;\n",
              "        }#T_51586b3e_4bf0_11ec_95ff_0242ac1c0002row6_col8{\n",
              "            background-color:  #6a8bef;\n",
              "            color:  #000000;\n",
              "        }#T_51586b3e_4bf0_11ec_95ff_0242ac1c0002row6_col9{\n",
              "            background-color:  #6c8ff1;\n",
              "            color:  #000000;\n",
              "        }#T_51586b3e_4bf0_11ec_95ff_0242ac1c0002row7_col0,#T_51586b3e_4bf0_11ec_95ff_0242ac1c0002row8_col0,#T_51586b3e_4bf0_11ec_95ff_0242ac1c0002row10_col5{\n",
              "            background-color:  #6788ee;\n",
              "            color:  #000000;\n",
              "        }#T_51586b3e_4bf0_11ec_95ff_0242ac1c0002row7_col1,#T_51586b3e_4bf0_11ec_95ff_0242ac1c0002row9_col3{\n",
              "            background-color:  #b1cbfc;\n",
              "            color:  #000000;\n",
              "        }#T_51586b3e_4bf0_11ec_95ff_0242ac1c0002row7_col3{\n",
              "            background-color:  #d2dbe8;\n",
              "            color:  #000000;\n",
              "        }#T_51586b3e_4bf0_11ec_95ff_0242ac1c0002row7_col4,#T_51586b3e_4bf0_11ec_95ff_0242ac1c0002row8_col4,#T_51586b3e_4bf0_11ec_95ff_0242ac1c0002row9_col7{\n",
              "            background-color:  #8badfd;\n",
              "            color:  #000000;\n",
              "        }#T_51586b3e_4bf0_11ec_95ff_0242ac1c0002row7_col6{\n",
              "            background-color:  #5673e0;\n",
              "            color:  #000000;\n",
              "        }#T_51586b3e_4bf0_11ec_95ff_0242ac1c0002row7_col8,#T_51586b3e_4bf0_11ec_95ff_0242ac1c0002row8_col7{\n",
              "            background-color:  #b50927;\n",
              "            color:  #f1f1f1;\n",
              "        }#T_51586b3e_4bf0_11ec_95ff_0242ac1c0002row7_col9{\n",
              "            background-color:  #9ebeff;\n",
              "            color:  #000000;\n",
              "        }#T_51586b3e_4bf0_11ec_95ff_0242ac1c0002row7_col10{\n",
              "            background-color:  #506bda;\n",
              "            color:  #000000;\n",
              "        }#T_51586b3e_4bf0_11ec_95ff_0242ac1c0002row8_col1{\n",
              "            background-color:  #b3cdfb;\n",
              "            color:  #000000;\n",
              "        }#T_51586b3e_4bf0_11ec_95ff_0242ac1c0002row8_col3{\n",
              "            background-color:  #d4dbe6;\n",
              "            color:  #000000;\n",
              "        }#T_51586b3e_4bf0_11ec_95ff_0242ac1c0002row8_col6{\n",
              "            background-color:  #5470de;\n",
              "            color:  #000000;\n",
              "        }#T_51586b3e_4bf0_11ec_95ff_0242ac1c0002row8_col9{\n",
              "            background-color:  #a2c1ff;\n",
              "            color:  #000000;\n",
              "        }#T_51586b3e_4bf0_11ec_95ff_0242ac1c0002row9_col1{\n",
              "            background-color:  #b2ccfb;\n",
              "            color:  #000000;\n",
              "        }#T_51586b3e_4bf0_11ec_95ff_0242ac1c0002row9_col4{\n",
              "            background-color:  #82a6fb;\n",
              "            color:  #000000;\n",
              "        }#T_51586b3e_4bf0_11ec_95ff_0242ac1c0002row9_col5{\n",
              "            background-color:  #f5c1a9;\n",
              "            color:  #000000;\n",
              "        }#T_51586b3e_4bf0_11ec_95ff_0242ac1c0002row9_col6{\n",
              "            background-color:  #485fd1;\n",
              "            color:  #f1f1f1;\n",
              "        }#T_51586b3e_4bf0_11ec_95ff_0242ac1c0002row9_col8{\n",
              "            background-color:  #94b6ff;\n",
              "            color:  #000000;\n",
              "        }</style><table id=\"T_51586b3e_4bf0_11ec_95ff_0242ac1c0002\" class=\"dataframe\"><thead>    <tr>        <th class=\"blank level0\" ></th>        <th class=\"col_heading level0 col0\" >yr</th>        <th class=\"col_heading level0 col1\" >mnth</th>        <th class=\"col_heading level0 col2\" >holiday</th>        <th class=\"col_heading level0 col3\" >season_num</th>        <th class=\"col_heading level0 col4\" >workingday_num</th>        <th class=\"col_heading level0 col5\" >weathersit_num</th>        <th class=\"col_heading level0 col6\" >weekday_num</th>        <th class=\"col_heading level0 col7\" >temp</th>        <th class=\"col_heading level0 col8\" >atemp</th>        <th class=\"col_heading level0 col9\" >hum</th>        <th class=\"col_heading level0 col10\" >windspeed</th>    </tr></thead><tbody>\n",
              "                <tr>\n",
              "                        <th id=\"T_51586b3e_4bf0_11ec_95ff_0242ac1c0002level0_row0\" class=\"row_heading level0 row0\" >yr</th>\n",
              "                        <td id=\"T_51586b3e_4bf0_11ec_95ff_0242ac1c0002row0_col0\" class=\"data row0 col0\" >1.00</td>\n",
              "                        <td id=\"T_51586b3e_4bf0_11ec_95ff_0242ac1c0002row0_col1\" class=\"data row0 col1\" >-0.00</td>\n",
              "                        <td id=\"T_51586b3e_4bf0_11ec_95ff_0242ac1c0002row0_col2\" class=\"data row0 col2\" >0.01</td>\n",
              "                        <td id=\"T_51586b3e_4bf0_11ec_95ff_0242ac1c0002row0_col3\" class=\"data row0 col3\" >-0.00</td>\n",
              "                        <td id=\"T_51586b3e_4bf0_11ec_95ff_0242ac1c0002row0_col4\" class=\"data row0 col4\" >-0.00</td>\n",
              "                        <td id=\"T_51586b3e_4bf0_11ec_95ff_0242ac1c0002row0_col5\" class=\"data row0 col5\" >-0.05</td>\n",
              "                        <td id=\"T_51586b3e_4bf0_11ec_95ff_0242ac1c0002row0_col6\" class=\"data row0 col6\" >-0.01</td>\n",
              "                        <td id=\"T_51586b3e_4bf0_11ec_95ff_0242ac1c0002row0_col7\" class=\"data row0 col7\" >0.05</td>\n",
              "                        <td id=\"T_51586b3e_4bf0_11ec_95ff_0242ac1c0002row0_col8\" class=\"data row0 col8\" >0.05</td>\n",
              "                        <td id=\"T_51586b3e_4bf0_11ec_95ff_0242ac1c0002row0_col9\" class=\"data row0 col9\" >-0.11</td>\n",
              "                        <td id=\"T_51586b3e_4bf0_11ec_95ff_0242ac1c0002row0_col10\" class=\"data row0 col10\" >-0.01</td>\n",
              "            </tr>\n",
              "            <tr>\n",
              "                        <th id=\"T_51586b3e_4bf0_11ec_95ff_0242ac1c0002level0_row1\" class=\"row_heading level0 row1\" >mnth</th>\n",
              "                        <td id=\"T_51586b3e_4bf0_11ec_95ff_0242ac1c0002row1_col0\" class=\"data row1 col0\" >-0.00</td>\n",
              "                        <td id=\"T_51586b3e_4bf0_11ec_95ff_0242ac1c0002row1_col1\" class=\"data row1 col1\" >1.00</td>\n",
              "                        <td id=\"T_51586b3e_4bf0_11ec_95ff_0242ac1c0002row1_col2\" class=\"data row1 col2\" >0.02</td>\n",
              "                        <td id=\"T_51586b3e_4bf0_11ec_95ff_0242ac1c0002row1_col3\" class=\"data row1 col3\" >0.83</td>\n",
              "                        <td id=\"T_51586b3e_4bf0_11ec_95ff_0242ac1c0002row1_col4\" class=\"data row1 col4\" >-0.01</td>\n",
              "                        <td id=\"T_51586b3e_4bf0_11ec_95ff_0242ac1c0002row1_col5\" class=\"data row1 col5\" >0.04</td>\n",
              "                        <td id=\"T_51586b3e_4bf0_11ec_95ff_0242ac1c0002row1_col6\" class=\"data row1 col6\" >0.01</td>\n",
              "                        <td id=\"T_51586b3e_4bf0_11ec_95ff_0242ac1c0002row1_col7\" class=\"data row1 col7\" >0.22</td>\n",
              "                        <td id=\"T_51586b3e_4bf0_11ec_95ff_0242ac1c0002row1_col8\" class=\"data row1 col8\" >0.23</td>\n",
              "                        <td id=\"T_51586b3e_4bf0_11ec_95ff_0242ac1c0002row1_col9\" class=\"data row1 col9\" >0.22</td>\n",
              "                        <td id=\"T_51586b3e_4bf0_11ec_95ff_0242ac1c0002row1_col10\" class=\"data row1 col10\" >-0.21</td>\n",
              "            </tr>\n",
              "            <tr>\n",
              "                        <th id=\"T_51586b3e_4bf0_11ec_95ff_0242ac1c0002level0_row2\" class=\"row_heading level0 row2\" >holiday</th>\n",
              "                        <td id=\"T_51586b3e_4bf0_11ec_95ff_0242ac1c0002row2_col0\" class=\"data row2 col0\" >0.01</td>\n",
              "                        <td id=\"T_51586b3e_4bf0_11ec_95ff_0242ac1c0002row2_col1\" class=\"data row2 col1\" >0.02</td>\n",
              "                        <td id=\"T_51586b3e_4bf0_11ec_95ff_0242ac1c0002row2_col2\" class=\"data row2 col2\" >1.00</td>\n",
              "                        <td id=\"T_51586b3e_4bf0_11ec_95ff_0242ac1c0002row2_col3\" class=\"data row2 col3\" >-0.01</td>\n",
              "                        <td id=\"T_51586b3e_4bf0_11ec_95ff_0242ac1c0002row2_col4\" class=\"data row2 col4\" >-0.25</td>\n",
              "                        <td id=\"T_51586b3e_4bf0_11ec_95ff_0242ac1c0002row2_col5\" class=\"data row2 col5\" >-0.03</td>\n",
              "                        <td id=\"T_51586b3e_4bf0_11ec_95ff_0242ac1c0002row2_col6\" class=\"data row2 col6\" >-0.10</td>\n",
              "                        <td id=\"T_51586b3e_4bf0_11ec_95ff_0242ac1c0002row2_col7\" class=\"data row2 col7\" >-0.03</td>\n",
              "                        <td id=\"T_51586b3e_4bf0_11ec_95ff_0242ac1c0002row2_col8\" class=\"data row2 col8\" >-0.03</td>\n",
              "                        <td id=\"T_51586b3e_4bf0_11ec_95ff_0242ac1c0002row2_col9\" class=\"data row2 col9\" >-0.02</td>\n",
              "                        <td id=\"T_51586b3e_4bf0_11ec_95ff_0242ac1c0002row2_col10\" class=\"data row2 col10\" >0.01</td>\n",
              "            </tr>\n",
              "            <tr>\n",
              "                        <th id=\"T_51586b3e_4bf0_11ec_95ff_0242ac1c0002level0_row3\" class=\"row_heading level0 row3\" >season_num</th>\n",
              "                        <td id=\"T_51586b3e_4bf0_11ec_95ff_0242ac1c0002row3_col0\" class=\"data row3 col0\" >-0.00</td>\n",
              "                        <td id=\"T_51586b3e_4bf0_11ec_95ff_0242ac1c0002row3_col1\" class=\"data row3 col1\" >0.83</td>\n",
              "                        <td id=\"T_51586b3e_4bf0_11ec_95ff_0242ac1c0002row3_col2\" class=\"data row3 col2\" >-0.01</td>\n",
              "                        <td id=\"T_51586b3e_4bf0_11ec_95ff_0242ac1c0002row3_col3\" class=\"data row3 col3\" >1.00</td>\n",
              "                        <td id=\"T_51586b3e_4bf0_11ec_95ff_0242ac1c0002row3_col4\" class=\"data row3 col4\" >0.01</td>\n",
              "                        <td id=\"T_51586b3e_4bf0_11ec_95ff_0242ac1c0002row3_col5\" class=\"data row3 col5\" >0.02</td>\n",
              "                        <td id=\"T_51586b3e_4bf0_11ec_95ff_0242ac1c0002row3_col6\" class=\"data row3 col6\" >-0.00</td>\n",
              "                        <td id=\"T_51586b3e_4bf0_11ec_95ff_0242ac1c0002row3_col7\" class=\"data row3 col7\" >0.33</td>\n",
              "                        <td id=\"T_51586b3e_4bf0_11ec_95ff_0242ac1c0002row3_col8\" class=\"data row3 col8\" >0.34</td>\n",
              "                        <td id=\"T_51586b3e_4bf0_11ec_95ff_0242ac1c0002row3_col9\" class=\"data row3 col9\" >0.21</td>\n",
              "                        <td id=\"T_51586b3e_4bf0_11ec_95ff_0242ac1c0002row3_col10\" class=\"data row3 col10\" >-0.23</td>\n",
              "            </tr>\n",
              "            <tr>\n",
              "                        <th id=\"T_51586b3e_4bf0_11ec_95ff_0242ac1c0002level0_row4\" class=\"row_heading level0 row4\" >workingday_num</th>\n",
              "                        <td id=\"T_51586b3e_4bf0_11ec_95ff_0242ac1c0002row4_col0\" class=\"data row4 col0\" >-0.00</td>\n",
              "                        <td id=\"T_51586b3e_4bf0_11ec_95ff_0242ac1c0002row4_col1\" class=\"data row4 col1\" >-0.01</td>\n",
              "                        <td id=\"T_51586b3e_4bf0_11ec_95ff_0242ac1c0002row4_col2\" class=\"data row4 col2\" >-0.25</td>\n",
              "                        <td id=\"T_51586b3e_4bf0_11ec_95ff_0242ac1c0002row4_col3\" class=\"data row4 col3\" >0.01</td>\n",
              "                        <td id=\"T_51586b3e_4bf0_11ec_95ff_0242ac1c0002row4_col4\" class=\"data row4 col4\" >1.00</td>\n",
              "                        <td id=\"T_51586b3e_4bf0_11ec_95ff_0242ac1c0002row4_col5\" class=\"data row4 col5\" >0.06</td>\n",
              "                        <td id=\"T_51586b3e_4bf0_11ec_95ff_0242ac1c0002row4_col6\" class=\"data row4 col6\" >0.04</td>\n",
              "                        <td id=\"T_51586b3e_4bf0_11ec_95ff_0242ac1c0002row4_col7\" class=\"data row4 col7\" >0.05</td>\n",
              "                        <td id=\"T_51586b3e_4bf0_11ec_95ff_0242ac1c0002row4_col8\" class=\"data row4 col8\" >0.05</td>\n",
              "                        <td id=\"T_51586b3e_4bf0_11ec_95ff_0242ac1c0002row4_col9\" class=\"data row4 col9\" >0.02</td>\n",
              "                        <td id=\"T_51586b3e_4bf0_11ec_95ff_0242ac1c0002row4_col10\" class=\"data row4 col10\" >-0.02</td>\n",
              "            </tr>\n",
              "            <tr>\n",
              "                        <th id=\"T_51586b3e_4bf0_11ec_95ff_0242ac1c0002level0_row5\" class=\"row_heading level0 row5\" >weathersit_num</th>\n",
              "                        <td id=\"T_51586b3e_4bf0_11ec_95ff_0242ac1c0002row5_col0\" class=\"data row5 col0\" >-0.05</td>\n",
              "                        <td id=\"T_51586b3e_4bf0_11ec_95ff_0242ac1c0002row5_col1\" class=\"data row5 col1\" >0.04</td>\n",
              "                        <td id=\"T_51586b3e_4bf0_11ec_95ff_0242ac1c0002row5_col2\" class=\"data row5 col2\" >-0.03</td>\n",
              "                        <td id=\"T_51586b3e_4bf0_11ec_95ff_0242ac1c0002row5_col3\" class=\"data row5 col3\" >0.02</td>\n",
              "                        <td id=\"T_51586b3e_4bf0_11ec_95ff_0242ac1c0002row5_col4\" class=\"data row5 col4\" >0.06</td>\n",
              "                        <td id=\"T_51586b3e_4bf0_11ec_95ff_0242ac1c0002row5_col5\" class=\"data row5 col5\" >1.00</td>\n",
              "                        <td id=\"T_51586b3e_4bf0_11ec_95ff_0242ac1c0002row5_col6\" class=\"data row5 col6\" >0.03</td>\n",
              "                        <td id=\"T_51586b3e_4bf0_11ec_95ff_0242ac1c0002row5_col7\" class=\"data row5 col7\" >-0.12</td>\n",
              "                        <td id=\"T_51586b3e_4bf0_11ec_95ff_0242ac1c0002row5_col8\" class=\"data row5 col8\" >-0.12</td>\n",
              "                        <td id=\"T_51586b3e_4bf0_11ec_95ff_0242ac1c0002row5_col9\" class=\"data row5 col9\" >0.59</td>\n",
              "                        <td id=\"T_51586b3e_4bf0_11ec_95ff_0242ac1c0002row5_col10\" class=\"data row5 col10\" >0.04</td>\n",
              "            </tr>\n",
              "            <tr>\n",
              "                        <th id=\"T_51586b3e_4bf0_11ec_95ff_0242ac1c0002level0_row6\" class=\"row_heading level0 row6\" >weekday_num</th>\n",
              "                        <td id=\"T_51586b3e_4bf0_11ec_95ff_0242ac1c0002row6_col0\" class=\"data row6 col0\" >-0.01</td>\n",
              "                        <td id=\"T_51586b3e_4bf0_11ec_95ff_0242ac1c0002row6_col1\" class=\"data row6 col1\" >0.01</td>\n",
              "                        <td id=\"T_51586b3e_4bf0_11ec_95ff_0242ac1c0002row6_col2\" class=\"data row6 col2\" >-0.10</td>\n",
              "                        <td id=\"T_51586b3e_4bf0_11ec_95ff_0242ac1c0002row6_col3\" class=\"data row6 col3\" >-0.00</td>\n",
              "                        <td id=\"T_51586b3e_4bf0_11ec_95ff_0242ac1c0002row6_col4\" class=\"data row6 col4\" >0.04</td>\n",
              "                        <td id=\"T_51586b3e_4bf0_11ec_95ff_0242ac1c0002row6_col5\" class=\"data row6 col5\" >0.03</td>\n",
              "                        <td id=\"T_51586b3e_4bf0_11ec_95ff_0242ac1c0002row6_col6\" class=\"data row6 col6\" >1.00</td>\n",
              "                        <td id=\"T_51586b3e_4bf0_11ec_95ff_0242ac1c0002row6_col7\" class=\"data row6 col7\" >-0.00</td>\n",
              "                        <td id=\"T_51586b3e_4bf0_11ec_95ff_0242ac1c0002row6_col8\" class=\"data row6 col8\" >-0.01</td>\n",
              "                        <td id=\"T_51586b3e_4bf0_11ec_95ff_0242ac1c0002row6_col9\" class=\"data row6 col9\" >-0.05</td>\n",
              "                        <td id=\"T_51586b3e_4bf0_11ec_95ff_0242ac1c0002row6_col10\" class=\"data row6 col10\" >0.01</td>\n",
              "            </tr>\n",
              "            <tr>\n",
              "                        <th id=\"T_51586b3e_4bf0_11ec_95ff_0242ac1c0002level0_row7\" class=\"row_heading level0 row7\" >temp</th>\n",
              "                        <td id=\"T_51586b3e_4bf0_11ec_95ff_0242ac1c0002row7_col0\" class=\"data row7 col0\" >0.05</td>\n",
              "                        <td id=\"T_51586b3e_4bf0_11ec_95ff_0242ac1c0002row7_col1\" class=\"data row7 col1\" >0.22</td>\n",
              "                        <td id=\"T_51586b3e_4bf0_11ec_95ff_0242ac1c0002row7_col2\" class=\"data row7 col2\" >-0.03</td>\n",
              "                        <td id=\"T_51586b3e_4bf0_11ec_95ff_0242ac1c0002row7_col3\" class=\"data row7 col3\" >0.33</td>\n",
              "                        <td id=\"T_51586b3e_4bf0_11ec_95ff_0242ac1c0002row7_col4\" class=\"data row7 col4\" >0.05</td>\n",
              "                        <td id=\"T_51586b3e_4bf0_11ec_95ff_0242ac1c0002row7_col5\" class=\"data row7 col5\" >-0.12</td>\n",
              "                        <td id=\"T_51586b3e_4bf0_11ec_95ff_0242ac1c0002row7_col6\" class=\"data row7 col6\" >-0.00</td>\n",
              "                        <td id=\"T_51586b3e_4bf0_11ec_95ff_0242ac1c0002row7_col7\" class=\"data row7 col7\" >1.00</td>\n",
              "                        <td id=\"T_51586b3e_4bf0_11ec_95ff_0242ac1c0002row7_col8\" class=\"data row7 col8\" >0.99</td>\n",
              "                        <td id=\"T_51586b3e_4bf0_11ec_95ff_0242ac1c0002row7_col9\" class=\"data row7 col9\" >0.13</td>\n",
              "                        <td id=\"T_51586b3e_4bf0_11ec_95ff_0242ac1c0002row7_col10\" class=\"data row7 col10\" >-0.16</td>\n",
              "            </tr>\n",
              "            <tr>\n",
              "                        <th id=\"T_51586b3e_4bf0_11ec_95ff_0242ac1c0002level0_row8\" class=\"row_heading level0 row8\" >atemp</th>\n",
              "                        <td id=\"T_51586b3e_4bf0_11ec_95ff_0242ac1c0002row8_col0\" class=\"data row8 col0\" >0.05</td>\n",
              "                        <td id=\"T_51586b3e_4bf0_11ec_95ff_0242ac1c0002row8_col1\" class=\"data row8 col1\" >0.23</td>\n",
              "                        <td id=\"T_51586b3e_4bf0_11ec_95ff_0242ac1c0002row8_col2\" class=\"data row8 col2\" >-0.03</td>\n",
              "                        <td id=\"T_51586b3e_4bf0_11ec_95ff_0242ac1c0002row8_col3\" class=\"data row8 col3\" >0.34</td>\n",
              "                        <td id=\"T_51586b3e_4bf0_11ec_95ff_0242ac1c0002row8_col4\" class=\"data row8 col4\" >0.05</td>\n",
              "                        <td id=\"T_51586b3e_4bf0_11ec_95ff_0242ac1c0002row8_col5\" class=\"data row8 col5\" >-0.12</td>\n",
              "                        <td id=\"T_51586b3e_4bf0_11ec_95ff_0242ac1c0002row8_col6\" class=\"data row8 col6\" >-0.01</td>\n",
              "                        <td id=\"T_51586b3e_4bf0_11ec_95ff_0242ac1c0002row8_col7\" class=\"data row8 col7\" >0.99</td>\n",
              "                        <td id=\"T_51586b3e_4bf0_11ec_95ff_0242ac1c0002row8_col8\" class=\"data row8 col8\" >1.00</td>\n",
              "                        <td id=\"T_51586b3e_4bf0_11ec_95ff_0242ac1c0002row8_col9\" class=\"data row8 col9\" >0.14</td>\n",
              "                        <td id=\"T_51586b3e_4bf0_11ec_95ff_0242ac1c0002row8_col10\" class=\"data row8 col10\" >-0.18</td>\n",
              "            </tr>\n",
              "            <tr>\n",
              "                        <th id=\"T_51586b3e_4bf0_11ec_95ff_0242ac1c0002level0_row9\" class=\"row_heading level0 row9\" >hum</th>\n",
              "                        <td id=\"T_51586b3e_4bf0_11ec_95ff_0242ac1c0002row9_col0\" class=\"data row9 col0\" >-0.11</td>\n",
              "                        <td id=\"T_51586b3e_4bf0_11ec_95ff_0242ac1c0002row9_col1\" class=\"data row9 col1\" >0.22</td>\n",
              "                        <td id=\"T_51586b3e_4bf0_11ec_95ff_0242ac1c0002row9_col2\" class=\"data row9 col2\" >-0.02</td>\n",
              "                        <td id=\"T_51586b3e_4bf0_11ec_95ff_0242ac1c0002row9_col3\" class=\"data row9 col3\" >0.21</td>\n",
              "                        <td id=\"T_51586b3e_4bf0_11ec_95ff_0242ac1c0002row9_col4\" class=\"data row9 col4\" >0.02</td>\n",
              "                        <td id=\"T_51586b3e_4bf0_11ec_95ff_0242ac1c0002row9_col5\" class=\"data row9 col5\" >0.59</td>\n",
              "                        <td id=\"T_51586b3e_4bf0_11ec_95ff_0242ac1c0002row9_col6\" class=\"data row9 col6\" >-0.05</td>\n",
              "                        <td id=\"T_51586b3e_4bf0_11ec_95ff_0242ac1c0002row9_col7\" class=\"data row9 col7\" >0.13</td>\n",
              "                        <td id=\"T_51586b3e_4bf0_11ec_95ff_0242ac1c0002row9_col8\" class=\"data row9 col8\" >0.14</td>\n",
              "                        <td id=\"T_51586b3e_4bf0_11ec_95ff_0242ac1c0002row9_col9\" class=\"data row9 col9\" >1.00</td>\n",
              "                        <td id=\"T_51586b3e_4bf0_11ec_95ff_0242ac1c0002row9_col10\" class=\"data row9 col10\" >-0.25</td>\n",
              "            </tr>\n",
              "            <tr>\n",
              "                        <th id=\"T_51586b3e_4bf0_11ec_95ff_0242ac1c0002level0_row10\" class=\"row_heading level0 row10\" >windspeed</th>\n",
              "                        <td id=\"T_51586b3e_4bf0_11ec_95ff_0242ac1c0002row10_col0\" class=\"data row10 col0\" >-0.01</td>\n",
              "                        <td id=\"T_51586b3e_4bf0_11ec_95ff_0242ac1c0002row10_col1\" class=\"data row10 col1\" >-0.21</td>\n",
              "                        <td id=\"T_51586b3e_4bf0_11ec_95ff_0242ac1c0002row10_col2\" class=\"data row10 col2\" >0.01</td>\n",
              "                        <td id=\"T_51586b3e_4bf0_11ec_95ff_0242ac1c0002row10_col3\" class=\"data row10 col3\" >-0.23</td>\n",
              "                        <td id=\"T_51586b3e_4bf0_11ec_95ff_0242ac1c0002row10_col4\" class=\"data row10 col4\" >-0.02</td>\n",
              "                        <td id=\"T_51586b3e_4bf0_11ec_95ff_0242ac1c0002row10_col5\" class=\"data row10 col5\" >0.04</td>\n",
              "                        <td id=\"T_51586b3e_4bf0_11ec_95ff_0242ac1c0002row10_col6\" class=\"data row10 col6\" >0.01</td>\n",
              "                        <td id=\"T_51586b3e_4bf0_11ec_95ff_0242ac1c0002row10_col7\" class=\"data row10 col7\" >-0.16</td>\n",
              "                        <td id=\"T_51586b3e_4bf0_11ec_95ff_0242ac1c0002row10_col8\" class=\"data row10 col8\" >-0.18</td>\n",
              "                        <td id=\"T_51586b3e_4bf0_11ec_95ff_0242ac1c0002row10_col9\" class=\"data row10 col9\" >-0.25</td>\n",
              "                        <td id=\"T_51586b3e_4bf0_11ec_95ff_0242ac1c0002row10_col10\" class=\"data row10 col10\" >1.00</td>\n",
              "            </tr>\n",
              "    </tbody></table>"
            ]
          },
          "metadata": {},
          "output_type": "display_data"
        }
      ],
      "metadata": {
        "colab": {
          "base_uri": "https://localhost:8080/",
          "height": 390
        },
        "cellView": "form",
        "id": "wv1X_pgLsS4o",
        "outputId": "a253fd16-1a10-477c-924a-5328c0b70ce4"
      }
    },
    {
      "cell_type": "markdown",
      "source": [
        "Olhando esses pares em gráficos de dispersão, é possível observar que há de fato colinearidade. As variáveis atemp e season_num serão excluídas da regressão."
      ],
      "metadata": {
        "id": "n5prnhVJsS4p"
      }
    },
    {
      "cell_type": "code",
      "execution_count": 27,
      "source": [
        "#@title\r\n",
        "fig = px.scatter(df, x = 'temp', y = 'atemp', width=300, height= 300)\r\n",
        "fig.update_layout(\r\n",
        "    margin = dict(t=75,r=0,l=0,b=0),\r\n",
        "    title={\r\n",
        "        'text': \"temp vs atemp\",\r\n",
        "        'x':0.5,\r\n",
        "        'xanchor': 'center',\r\n",
        "        'yanchor': 'middle'}\r\n",
        ")\r\n",
        "fig.show()\r\n",
        "\r\n",
        "fig = px.scatter(df, x = 'mnth', y = 'season_num', width=300, height= 300)\r\n",
        "fig.update_layout(\r\n",
        "    margin = dict(t=75,r=0,l=0,b=0),\r\n",
        "    title={\r\n",
        "        'text': \"mnth vs season_num\",\r\n",
        "        'x':0.5,\r\n",
        "        'xanchor': 'center',\r\n",
        "        'yanchor': 'middle'}\r\n",
        ")\r\n",
        "fig.show()"
      ],
      "outputs": [
        {
          "data": {
            "text/html": [
              "<html>\n",
              "<head><meta charset=\"utf-8\" /></head>\n",
              "<body>\n",
              "    <div>            <script src=\"https://cdnjs.cloudflare.com/ajax/libs/mathjax/2.7.5/MathJax.js?config=TeX-AMS-MML_SVG\"></script><script type=\"text/javascript\">if (window.MathJax) {MathJax.Hub.Config({SVG: {font: \"STIX-Web\"}});}</script>                <script type=\"text/javascript\">window.PlotlyConfig = {MathJaxConfig: 'local'};</script>\n",
              "        <script src=\"https://cdn.plot.ly/plotly-2.6.3.min.js\"></script>                <div id=\"4ef28059-3c1e-44c3-9c68-9c62576c38f8\" class=\"plotly-graph-div\" style=\"height:300px; width:300px;\"></div>            <script type=\"text/javascript\">                                    window.PLOTLYENV=window.PLOTLYENV || {};                                    if (document.getElementById(\"4ef28059-3c1e-44c3-9c68-9c62576c38f8\")) {                    Plotly.newPlot(                        \"4ef28059-3c1e-44c3-9c68-9c62576c38f8\",                        [{\"hovertemplate\":\"temp=%{x}<br>atemp=%{y}<extra></extra>\",\"legendgroup\":\"\",\"marker\":{\"color\":\"#636efa\",\"symbol\":\"circle\"},\"mode\":\"markers\",\"name\":\"\",\"orientation\":\"v\",\"showlegend\":false,\"x\":[0.344167,0.363478,0.196364,0.2,0.22695700000000002,0.204348,0.196522,0.165,0.13833299999999998,0.150833,0.16909100000000002,0.172727,0.165,0.16087,0.23333299999999998,0.231667,0.175833,0.216667,0.292174,0.261667,0.1775,0.0591304,0.0965217,0.0973913,0.223478,0.2175,0.195,0.203478,0.196522,0.216522,0.180833,0.192174,0.26,0.18695699999999998,0.211304,0.23333299999999998,0.285833,0.271667,0.220833,0.134783,0.144348,0.189091,0.2225,0.31652199999999997,0.415,0.26608699999999996,0.318261,0.43583299999999997,0.521667,0.399167,0.285217,0.303333,0.182222,0.221739,0.295652,0.364348,0.2825,0.343478,0.407273,0.266667,0.335,0.19833299999999998,0.261667,0.384167,0.37652199999999997,0.261739,0.2925,0.295833,0.38909099999999996,0.31652199999999997,0.329167,0.384348,0.32521700000000003,0.317391,0.365217,0.415,0.54,0.4725,0.3325,0.430435,0.44166700000000003,0.346957,0.285,0.264167,0.265833,0.25304299999999996,0.264348,0.3025,0.3,0.268333,0.3,0.315,0.378333,0.573333,0.414167,0.390833,0.4375,0.335833,0.3425,0.426667,0.5956520000000001,0.5025,0.4125,0.4675,0.446667,0.43083299999999997,0.456667,0.5125,0.505833,0.595,0.459167,0.336667,0.46,0.581667,0.606667,0.631667,0.62,0.6175,0.51,0.4725,0.451667,0.549167,0.616667,0.414167,0.459167,0.479167,0.52,0.5283329999999999,0.5325,0.5325,0.5425,0.535,0.5125,0.520833,0.5625,0.5775,0.561667,0.55,0.530833,0.536667,0.6025,0.604167,0.631667,0.66,0.660833,0.708333,0.681667,0.655833,0.6675,0.733333,0.775,0.764167,0.715,0.62,0.635,0.648333,0.678333,0.7075,0.775833,0.808333,0.755,0.725,0.6925,0.635,0.604167,0.626667,0.628333,0.649167,0.696667,0.699167,0.635,0.680833,0.733333,0.728333,0.724167,0.695,0.68,0.6825,0.744167,0.728333,0.696667,0.7225,0.738333,0.716667,0.726667,0.746667,0.72,0.75,0.709167,0.733333,0.7475,0.7625,0.794167,0.746667,0.680833,0.663333,0.686667,0.719167,0.746667,0.776667,0.768333,0.815,0.848333,0.849167,0.83,0.743333,0.771667,0.775,0.779167,0.838333,0.804167,0.805833,0.771667,0.783333,0.731667,0.71,0.710833,0.716667,0.7425,0.765,0.775,0.766667,0.7175,0.708333,0.685833,0.676667,0.665833,0.700833,0.723333,0.711667,0.685,0.6975,0.710833,0.691667,0.640833,0.673333,0.684167,0.7,0.68,0.707059,0.636667,0.639167,0.656667,0.655,0.643333,0.669167,0.709167,0.673333,0.54,0.599167,0.6339130000000001,0.65,0.66,0.6533329999999999,0.6443479999999999,0.650833,0.673333,0.5775,0.469167,0.491667,0.5075,0.549167,0.561667,0.595,0.628333,0.609167,0.606667,0.634167,0.649167,0.636667,0.635,0.616667,0.564167,0.41,0.356667,0.384167,0.484167,0.538333,0.494167,0.510833,0.521667,0.540833,0.570833,0.566667,0.543333,0.589167,0.550833,0.506667,0.511667,0.5341670000000001,0.5325,0.5417390000000001,0.475833,0.4275,0.4225,0.421667,0.463333,0.471667,0.484167,0.47,0.330833,0.25416700000000003,0.31916700000000003,0.34,0.400833,0.3775,0.408333,0.403333,0.326667,0.348333,0.395,0.408333,0.4,0.38,0.324167,0.356667,0.440833,0.53,0.53,0.456667,0.341667,0.274167,0.329167,0.463333,0.4475,0.416667,0.440833,0.37333299999999997,0.375,0.375833,0.459167,0.503478,0.458333,0.325,0.3125,0.31416700000000003,0.299167,0.330833,0.385833,0.4625,0.41,0.265833,0.290833,0.275,0.220833,0.238333,0.2825,0.3175,0.4225,0.375,0.258333,0.238333,0.276667,0.385833,0.428333,0.423333,0.37333299999999997,0.3025,0.274783,0.321739,0.325,0.29913,0.248333,0.311667,0.41,0.37,0.273043,0.15,0.1075,0.265833,0.334167,0.393333,0.3375,0.224167,0.308696,0.274167,0.3825,0.274167,0.18,0.166667,0.19,0.37304299999999996,0.303333,0.19,0.2175,0.173333,0.1625,0.218333,0.3425,0.294167,0.341667,0.425,0.315833,0.2825,0.269167,0.39,0.469167,0.399167,0.313333,0.264167,0.265833,0.282609,0.354167,0.25666700000000003,0.265,0.280833,0.224167,0.1275,0.2225,0.31916700000000003,0.348333,0.31666700000000003,0.343333,0.346667,0.28,0.28,0.287826,0.395833,0.454167,0.4075,0.290833,0.279167,0.366667,0.359167,0.344348,0.485833,0.353333,0.414167,0.325833,0.243333,0.258333,0.404167,0.5275,0.410833,0.2875,0.361739,0.466667,0.565,0.5725,0.5575,0.43583299999999997,0.514167,0.4725,0.545,0.560833,0.531667,0.554167,0.601667,0.5025,0.4375,0.445833,0.323333,0.484167,0.494167,0.37,0.424167,0.425833,0.433913,0.466667,0.541667,0.435,0.403333,0.4375,0.5,0.489167,0.446667,0.348696,0.3975,0.4425,0.495,0.606667,0.664167,0.608333,0.463333,0.49833299999999997,0.526667,0.57,0.396667,0.321667,0.413333,0.476667,0.49833299999999997,0.4575,0.37666700000000003,0.458333,0.464167,0.613333,0.564167,0.56,0.6275,0.621667,0.5625,0.5375,0.581667,0.575,0.505833,0.533333,0.564167,0.6125,0.573333,0.611667,0.636667,0.593333,0.564167,0.6,0.620833,0.598333,0.615,0.621667,0.655,0.68,0.6925,0.69,0.7125,0.7225,0.656667,0.68,0.654167,0.583333,0.6025,0.5975,0.540833,0.554167,0.6025,0.649167,0.710833,0.726667,0.720833,0.6533329999999999,0.655833,0.648333,0.639167,0.631667,0.5925,0.568333,0.688333,0.7825,0.805833,0.7775,0.731667,0.743333,0.7158329999999999,0.630833,0.6975,0.749167,0.834167,0.765,0.815833,0.781667,0.780833,0.789167,0.8275,0.828333,0.861667,0.8225,0.710833,0.720833,0.716667,0.7158329999999999,0.731667,0.703333,0.745833,0.763333,0.818333,0.793333,0.77,0.665833,0.595833,0.6675,0.741667,0.750833,0.724167,0.776667,0.781667,0.755833,0.7216670000000001,0.730833,0.713333,0.7175,0.7525,0.765833,0.793333,0.769167,0.7525,0.735833,0.75,0.755833,0.7158329999999999,0.6925,0.700833,0.720833,0.726667,0.706667,0.719167,0.723333,0.678333,0.635833,0.635833,0.649167,0.6675,0.695833,0.7025,0.661667,0.6533329999999999,0.703333,0.728333,0.685,0.706667,0.764167,0.753333,0.696667,0.7075,0.725833,0.736667,0.696667,0.703333,0.6591670000000001,0.61,0.583333,0.5775,0.599167,0.6125,0.633333,0.608333,0.58,0.580833,0.623333,0.5525,0.546667,0.599167,0.65,0.529167,0.514167,0.55,0.635,0.65,0.619167,0.5425,0.526667,0.520833,0.5908329999999999,0.6575,0.6575,0.615,0.554167,0.415833,0.383333,0.446667,0.514167,0.435,0.4375,0.393333,0.521667,0.561667,0.468333,0.455833,0.5225,0.563333,0.484167,0.464167,0.4875,0.544167,0.5875,0.55,0.545833,0.53,0.4775,0.44,0.318182,0.3575,0.365833,0.355,0.343333,0.325833,0.31916700000000003,0.280833,0.295833,0.352174,0.361667,0.389167,0.420833,0.485,0.343333,0.289167,0.321667,0.345,0.325,0.3425,0.380833,0.374167,0.353333,0.34,0.36833299999999997,0.278333,0.245833,0.313333,0.291667,0.296667,0.28087,0.298333,0.298333,0.3475,0.4525,0.475833,0.438333,0.255833,0.320833,0.38166700000000003,0.384167,0.43583299999999997,0.353333,0.2975,0.295833,0.281667,0.324167,0.3625,0.393333,0.410833,0.3325,0.33,0.326667,0.265833,0.245833,0.231304,0.291304,0.243333,0.25416700000000003,0.253333,0.253333,0.255833,0.215833],\"xaxis\":\"x\",\"y\":[0.363625,0.35373899999999997,0.189405,0.21212199999999998,0.22926999999999997,0.23320900000000003,0.208839,0.162254,0.116175,0.15088800000000002,0.19146400000000002,0.160473,0.150883,0.188413,0.248112,0.234217,0.176771,0.23233299999999998,0.29842199999999997,0.25505,0.157833,0.0790696,0.09883910000000001,0.11793,0.234526,0.2036,0.2197,0.22331700000000002,0.212126,0.250322,0.18625,0.23453000000000002,0.254417,0.177878,0.22858699999999998,0.243058,0.291671,0.303658,0.198246,0.144283,0.14954800000000001,0.213509,0.232954,0.324113,0.39835,0.254274,0.3162,0.428658,0.511983,0.391404,0.27733,0.284075,0.186033,0.24571700000000002,0.289191,0.350461,0.282192,0.351109,0.400118,0.263879,0.320071,0.200133,0.255679,0.378779,0.366252,0.238461,0.3024,0.286608,0.385668,0.305,0.32575,0.380091,0.332,0.318178,0.36693000000000003,0.410333,0.5270090000000001,0.466525,0.32575,0.409735,0.44064200000000003,0.337939,0.270833,0.256312,0.257571,0.250339,0.25757399999999997,0.292908,0.29735,0.257575,0.283454,0.315637,0.378767,0.542929,0.39835,0.387608,0.433696,0.324479,0.34152899999999997,0.426737,0.565217,0.493054,0.417283,0.462742,0.441913,0.425492,0.445696,0.503146,0.48925799999999997,0.564392,0.453892,0.321954,0.450121,0.551763,0.5745,0.594083,0.575142,0.578929,0.497463,0.464021,0.448204,0.532833,0.582079,0.40465,0.441917,0.474117,0.512621,0.518933,0.525246,0.522721,0.5284,0.523363,0.4943,0.500629,0.536,0.550512,0.538529,0.527158,0.510742,0.529042,0.571975,0.5745,0.590296,0.604813,0.615542,0.654688,0.637008,0.612379,0.61555,0.671092,0.725383,0.720967,0.643942,0.587133,0.594696,0.616804,0.621858,0.65595,0.727279,0.757579,0.703292,0.678038,0.643325,0.601654,0.591546,0.587754,0.595346,0.600383,0.643954,0.645846,0.595346,0.637646,0.693829,0.693833,0.656583,0.643313,0.637629,0.637004,0.692558,0.654688,0.637008,0.652162,0.667308,0.668575,0.665417,0.696338,0.685633,0.686871,0.6704829999999999,0.664158,0.690025,0.729804,0.739275,0.689404,0.635104,0.624371,0.638263,0.669833,0.703925,0.747479,0.74685,0.826371,0.8408959999999999,0.804287,0.794829,0.720958,0.696979,0.690667,0.7399,0.785967,0.728537,0.729796,0.703292,0.707071,0.679937,0.664788,0.656567,0.676154,0.715292,0.703283,0.724121,0.684983,0.651521,0.654042,0.645858,0.624388,0.616167,0.645837,0.666671,0.662258,0.633221,0.648996,0.675525,0.638254,0.606067,0.630692,0.645854,0.659733,0.635556,0.6479590000000001,0.607958,0.594704,0.611121,0.614921,0.604808,0.633213,0.665429,0.625646,0.5152,0.544229,0.555361,0.578946,0.607962,0.609229,0.60213,0.603554,0.6269,0.553671,0.461475,0.478512,0.490537,0.529675,0.532217,0.5505329999999999,0.554963,0.522125,0.564412,0.572637,0.589042,0.574525,0.575158,0.574512,0.544829,0.41286300000000004,0.345317,0.392046,0.472858,0.527138,0.480425,0.504404,0.513242,0.523983,0.542925,0.546096,0.517717,0.551804,0.529675,0.498725,0.503154,0.510725,0.522721,0.513848,0.466525,0.42359600000000003,0.425492,0.422333,0.457067,0.463375,0.472846,0.457046,0.318812,0.227913,0.321329,0.356063,0.397088,0.390133,0.405921,0.40339200000000003,0.323854,0.362358,0.400871,0.412246,0.40907899999999997,0.373721,0.306817,0.357942,0.43055,0.524612,0.507579,0.451988,0.323221,0.272721,0.32448299999999997,0.457058,0.445062,0.421696,0.430537,0.372471,0.380671,0.385087,0.4558,0.490122,0.451375,0.311221,0.305554,0.331433,0.310604,0.3491,0.393925,0.4564,0.400246,0.256938,0.317542,0.266412,0.253154,0.270196,0.301138,0.338362,0.41223699999999996,0.359825,0.249371,0.245579,0.280933,0.396454,0.428017,0.426121,0.377513,0.299242,0.279961,0.315535,0.327633,0.279974,0.263892,0.318812,0.414121,0.375621,0.252304,0.126275,0.11933699999999998,0.278412,0.340267,0.390779,0.340258,0.247479,0.318826,0.282821,0.381938,0.249362,0.183087,0.161625,0.190663,0.36427800000000005,0.275254,0.190038,0.220958,0.174875,0.16225,0.243058,0.349108,0.294821,0.35605,0.415383,0.326379,0.272721,0.262625,0.381317,0.466538,0.398971,0.309346,0.272725,0.264521,0.296426,0.361104,0.266421,0.261988,0.293558,0.210867,0.101658,0.227913,0.333946,0.35162899999999997,0.330162,0.35162899999999997,0.355425,0.265788,0.273391,0.295113,0.392667,0.444446,0.41097100000000003,0.255675,0.268308,0.357954,0.353525,0.34847,0.475371,0.359842,0.413492,0.303021,0.241171,0.255042,0.3851,0.524604,0.397083,0.277767,0.35967,0.459592,0.542929,0.548617,0.532825,0.436229,0.505046,0.46399999999999997,0.532821,0.538533,0.513258,0.531567,0.570067,0.48673299999999997,0.437488,0.43875,0.315654,0.47095,0.482304,0.375621,0.42170799999999997,0.41728699999999996,0.42751300000000003,0.461483,0.53345,0.431163,0.39076700000000003,0.426129,0.492425,0.476638,0.436233,0.33727399999999996,0.387604,0.43180799999999997,0.487996,0.573875,0.614925,0.598487,0.457038,0.493046,0.515775,0.542921,0.389504,0.301125,0.405283,0.470317,0.483583,0.452637,0.377504,0.450121,0.457696,0.577021,0.537896,0.537242,0.590917,0.584608,0.546737,0.527142,0.557471,0.553025,0.49178299999999997,0.520833,0.544817,0.585238,0.5499,0.576404,0.595975,0.572613,0.551121,0.566908,0.583967,0.565667,0.580825,0.584612,0.6067,0.627529,0.642696,0.641425,0.6793,0.672992,0.611129,0.631329,0.607962,0.566288,0.575133,0.578283,0.525892,0.542292,0.569442,0.597862,0.648367,0.663517,0.659721,0.597875,0.611117,0.624383,0.599754,0.594708,0.571975,0.544842,0.654692,0.720975,0.752542,0.724121,0.652792,0.674254,0.654042,0.594704,0.640792,0.675512,0.786613,0.687508,0.750629,0.702038,0.70265,0.732337,0.761367,0.752533,0.804913,0.790396,0.654054,0.664796,0.650271,0.654683,0.667933,0.666042,0.705196,0.724125,0.755683,0.745583,0.714642,0.613025,0.549912,0.623125,0.690017,0.70645,0.654054,0.739263,0.734217,0.697604,0.667933,0.684987,0.662896,0.667308,0.707088,0.722867,0.751267,0.731079,0.710246,0.697621,0.707717,0.699508,0.667942,0.638267,0.644579,0.662254,0.676779,0.654037,0.654688,0.2424,0.618071,0.603554,0.595967,0.601025,0.621854,0.637008,0.6471,0.618696,0.595996,0.654688,0.66605,0.635733,0.652779,0.6894,0.702654,0.649,0.661629,0.686888,0.708983,0.655329,0.657204,0.611121,0.578925,0.565654,0.554292,0.570075,0.579558,0.594083,0.585867,0.563125,0.55305,0.565067,0.540404,0.532192,0.571971,0.610488,0.518933,0.502513,0.544179,0.5966130000000001,0.607975,0.585863,0.530296,0.517663,0.512,0.542333,0.599133,0.607975,0.580187,0.538521,0.419813,0.387608,0.438112,0.503142,0.431167,0.433071,0.391396,0.508204,0.53915,0.460846,0.450108,0.512625,0.537896,0.472842,0.456429,0.482942,0.530304,0.558721,0.529688,0.52275,0.515133,0.467771,0.4394,0.309909,0.3611,0.369942,0.356042,0.323846,0.329538,0.308075,0.281567,0.274621,0.341891,0.35541300000000003,0.393937,0.421713,0.475383,0.323225,0.281563,0.324492,0.347204,0.326383,0.337746,0.375621,0.38066700000000003,0.364892,0.350371,0.378779,0.24874200000000002,0.257583,0.33900399999999997,0.281558,0.28976199999999996,0.29842199999999997,0.323867,0.316904,0.35920799999999997,0.455796,0.46905399999999997,0.428012,0.258204,0.32195799999999997,0.38950799999999997,0.390146,0.435575,0.338363,0.297338,0.294188,0.294192,0.338383,0.369938,0.4015,0.409708,0.34216199999999997,0.335217,0.301767,0.23611300000000002,0.259471,0.2589,0.29446500000000003,0.220333,0.226642,0.255046,0.2424,0.2317,0.223487],\"yaxis\":\"y\",\"type\":\"scatter\"}],                        {\"template\":{\"data\":{\"bar\":[{\"error_x\":{\"color\":\"#2a3f5f\"},\"error_y\":{\"color\":\"#2a3f5f\"},\"marker\":{\"line\":{\"color\":\"#E5ECF6\",\"width\":0.5},\"pattern\":{\"fillmode\":\"overlay\",\"size\":10,\"solidity\":0.2}},\"type\":\"bar\"}],\"barpolar\":[{\"marker\":{\"line\":{\"color\":\"#E5ECF6\",\"width\":0.5},\"pattern\":{\"fillmode\":\"overlay\",\"size\":10,\"solidity\":0.2}},\"type\":\"barpolar\"}],\"carpet\":[{\"aaxis\":{\"endlinecolor\":\"#2a3f5f\",\"gridcolor\":\"white\",\"linecolor\":\"white\",\"minorgridcolor\":\"white\",\"startlinecolor\":\"#2a3f5f\"},\"baxis\":{\"endlinecolor\":\"#2a3f5f\",\"gridcolor\":\"white\",\"linecolor\":\"white\",\"minorgridcolor\":\"white\",\"startlinecolor\":\"#2a3f5f\"},\"type\":\"carpet\"}],\"choropleth\":[{\"colorbar\":{\"outlinewidth\":0,\"ticks\":\"\"},\"type\":\"choropleth\"}],\"contour\":[{\"colorbar\":{\"outlinewidth\":0,\"ticks\":\"\"},\"colorscale\":[[0.0,\"#0d0887\"],[0.1111111111111111,\"#46039f\"],[0.2222222222222222,\"#7201a8\"],[0.3333333333333333,\"#9c179e\"],[0.4444444444444444,\"#bd3786\"],[0.5555555555555556,\"#d8576b\"],[0.6666666666666666,\"#ed7953\"],[0.7777777777777778,\"#fb9f3a\"],[0.8888888888888888,\"#fdca26\"],[1.0,\"#f0f921\"]],\"type\":\"contour\"}],\"contourcarpet\":[{\"colorbar\":{\"outlinewidth\":0,\"ticks\":\"\"},\"type\":\"contourcarpet\"}],\"heatmap\":[{\"colorbar\":{\"outlinewidth\":0,\"ticks\":\"\"},\"colorscale\":[[0.0,\"#0d0887\"],[0.1111111111111111,\"#46039f\"],[0.2222222222222222,\"#7201a8\"],[0.3333333333333333,\"#9c179e\"],[0.4444444444444444,\"#bd3786\"],[0.5555555555555556,\"#d8576b\"],[0.6666666666666666,\"#ed7953\"],[0.7777777777777778,\"#fb9f3a\"],[0.8888888888888888,\"#fdca26\"],[1.0,\"#f0f921\"]],\"type\":\"heatmap\"}],\"heatmapgl\":[{\"colorbar\":{\"outlinewidth\":0,\"ticks\":\"\"},\"colorscale\":[[0.0,\"#0d0887\"],[0.1111111111111111,\"#46039f\"],[0.2222222222222222,\"#7201a8\"],[0.3333333333333333,\"#9c179e\"],[0.4444444444444444,\"#bd3786\"],[0.5555555555555556,\"#d8576b\"],[0.6666666666666666,\"#ed7953\"],[0.7777777777777778,\"#fb9f3a\"],[0.8888888888888888,\"#fdca26\"],[1.0,\"#f0f921\"]],\"type\":\"heatmapgl\"}],\"histogram\":[{\"marker\":{\"pattern\":{\"fillmode\":\"overlay\",\"size\":10,\"solidity\":0.2}},\"type\":\"histogram\"}],\"histogram2d\":[{\"colorbar\":{\"outlinewidth\":0,\"ticks\":\"\"},\"colorscale\":[[0.0,\"#0d0887\"],[0.1111111111111111,\"#46039f\"],[0.2222222222222222,\"#7201a8\"],[0.3333333333333333,\"#9c179e\"],[0.4444444444444444,\"#bd3786\"],[0.5555555555555556,\"#d8576b\"],[0.6666666666666666,\"#ed7953\"],[0.7777777777777778,\"#fb9f3a\"],[0.8888888888888888,\"#fdca26\"],[1.0,\"#f0f921\"]],\"type\":\"histogram2d\"}],\"histogram2dcontour\":[{\"colorbar\":{\"outlinewidth\":0,\"ticks\":\"\"},\"colorscale\":[[0.0,\"#0d0887\"],[0.1111111111111111,\"#46039f\"],[0.2222222222222222,\"#7201a8\"],[0.3333333333333333,\"#9c179e\"],[0.4444444444444444,\"#bd3786\"],[0.5555555555555556,\"#d8576b\"],[0.6666666666666666,\"#ed7953\"],[0.7777777777777778,\"#fb9f3a\"],[0.8888888888888888,\"#fdca26\"],[1.0,\"#f0f921\"]],\"type\":\"histogram2dcontour\"}],\"mesh3d\":[{\"colorbar\":{\"outlinewidth\":0,\"ticks\":\"\"},\"type\":\"mesh3d\"}],\"parcoords\":[{\"line\":{\"colorbar\":{\"outlinewidth\":0,\"ticks\":\"\"}},\"type\":\"parcoords\"}],\"pie\":[{\"automargin\":true,\"type\":\"pie\"}],\"scatter\":[{\"marker\":{\"colorbar\":{\"outlinewidth\":0,\"ticks\":\"\"}},\"type\":\"scatter\"}],\"scatter3d\":[{\"line\":{\"colorbar\":{\"outlinewidth\":0,\"ticks\":\"\"}},\"marker\":{\"colorbar\":{\"outlinewidth\":0,\"ticks\":\"\"}},\"type\":\"scatter3d\"}],\"scattercarpet\":[{\"marker\":{\"colorbar\":{\"outlinewidth\":0,\"ticks\":\"\"}},\"type\":\"scattercarpet\"}],\"scattergeo\":[{\"marker\":{\"colorbar\":{\"outlinewidth\":0,\"ticks\":\"\"}},\"type\":\"scattergeo\"}],\"scattergl\":[{\"marker\":{\"colorbar\":{\"outlinewidth\":0,\"ticks\":\"\"}},\"type\":\"scattergl\"}],\"scattermapbox\":[{\"marker\":{\"colorbar\":{\"outlinewidth\":0,\"ticks\":\"\"}},\"type\":\"scattermapbox\"}],\"scatterpolar\":[{\"marker\":{\"colorbar\":{\"outlinewidth\":0,\"ticks\":\"\"}},\"type\":\"scatterpolar\"}],\"scatterpolargl\":[{\"marker\":{\"colorbar\":{\"outlinewidth\":0,\"ticks\":\"\"}},\"type\":\"scatterpolargl\"}],\"scatterternary\":[{\"marker\":{\"colorbar\":{\"outlinewidth\":0,\"ticks\":\"\"}},\"type\":\"scatterternary\"}],\"surface\":[{\"colorbar\":{\"outlinewidth\":0,\"ticks\":\"\"},\"colorscale\":[[0.0,\"#0d0887\"],[0.1111111111111111,\"#46039f\"],[0.2222222222222222,\"#7201a8\"],[0.3333333333333333,\"#9c179e\"],[0.4444444444444444,\"#bd3786\"],[0.5555555555555556,\"#d8576b\"],[0.6666666666666666,\"#ed7953\"],[0.7777777777777778,\"#fb9f3a\"],[0.8888888888888888,\"#fdca26\"],[1.0,\"#f0f921\"]],\"type\":\"surface\"}],\"table\":[{\"cells\":{\"fill\":{\"color\":\"#EBF0F8\"},\"line\":{\"color\":\"white\"}},\"header\":{\"fill\":{\"color\":\"#C8D4E3\"},\"line\":{\"color\":\"white\"}},\"type\":\"table\"}]},\"layout\":{\"annotationdefaults\":{\"arrowcolor\":\"#2a3f5f\",\"arrowhead\":0,\"arrowwidth\":1},\"autotypenumbers\":\"strict\",\"coloraxis\":{\"colorbar\":{\"outlinewidth\":0,\"ticks\":\"\"}},\"colorscale\":{\"diverging\":[[0,\"#8e0152\"],[0.1,\"#c51b7d\"],[0.2,\"#de77ae\"],[0.3,\"#f1b6da\"],[0.4,\"#fde0ef\"],[0.5,\"#f7f7f7\"],[0.6,\"#e6f5d0\"],[0.7,\"#b8e186\"],[0.8,\"#7fbc41\"],[0.9,\"#4d9221\"],[1,\"#276419\"]],\"sequential\":[[0.0,\"#0d0887\"],[0.1111111111111111,\"#46039f\"],[0.2222222222222222,\"#7201a8\"],[0.3333333333333333,\"#9c179e\"],[0.4444444444444444,\"#bd3786\"],[0.5555555555555556,\"#d8576b\"],[0.6666666666666666,\"#ed7953\"],[0.7777777777777778,\"#fb9f3a\"],[0.8888888888888888,\"#fdca26\"],[1.0,\"#f0f921\"]],\"sequentialminus\":[[0.0,\"#0d0887\"],[0.1111111111111111,\"#46039f\"],[0.2222222222222222,\"#7201a8\"],[0.3333333333333333,\"#9c179e\"],[0.4444444444444444,\"#bd3786\"],[0.5555555555555556,\"#d8576b\"],[0.6666666666666666,\"#ed7953\"],[0.7777777777777778,\"#fb9f3a\"],[0.8888888888888888,\"#fdca26\"],[1.0,\"#f0f921\"]]},\"colorway\":[\"#636efa\",\"#EF553B\",\"#00cc96\",\"#ab63fa\",\"#FFA15A\",\"#19d3f3\",\"#FF6692\",\"#B6E880\",\"#FF97FF\",\"#FECB52\"],\"font\":{\"color\":\"#2a3f5f\"},\"geo\":{\"bgcolor\":\"white\",\"lakecolor\":\"white\",\"landcolor\":\"#E5ECF6\",\"showlakes\":true,\"showland\":true,\"subunitcolor\":\"white\"},\"hoverlabel\":{\"align\":\"left\"},\"hovermode\":\"closest\",\"mapbox\":{\"style\":\"light\"},\"paper_bgcolor\":\"white\",\"plot_bgcolor\":\"#E5ECF6\",\"polar\":{\"angularaxis\":{\"gridcolor\":\"white\",\"linecolor\":\"white\",\"ticks\":\"\"},\"bgcolor\":\"#E5ECF6\",\"radialaxis\":{\"gridcolor\":\"white\",\"linecolor\":\"white\",\"ticks\":\"\"}},\"scene\":{\"xaxis\":{\"backgroundcolor\":\"#E5ECF6\",\"gridcolor\":\"white\",\"gridwidth\":2,\"linecolor\":\"white\",\"showbackground\":true,\"ticks\":\"\",\"zerolinecolor\":\"white\"},\"yaxis\":{\"backgroundcolor\":\"#E5ECF6\",\"gridcolor\":\"white\",\"gridwidth\":2,\"linecolor\":\"white\",\"showbackground\":true,\"ticks\":\"\",\"zerolinecolor\":\"white\"},\"zaxis\":{\"backgroundcolor\":\"#E5ECF6\",\"gridcolor\":\"white\",\"gridwidth\":2,\"linecolor\":\"white\",\"showbackground\":true,\"ticks\":\"\",\"zerolinecolor\":\"white\"}},\"shapedefaults\":{\"line\":{\"color\":\"#2a3f5f\"}},\"ternary\":{\"aaxis\":{\"gridcolor\":\"white\",\"linecolor\":\"white\",\"ticks\":\"\"},\"baxis\":{\"gridcolor\":\"white\",\"linecolor\":\"white\",\"ticks\":\"\"},\"bgcolor\":\"#E5ECF6\",\"caxis\":{\"gridcolor\":\"white\",\"linecolor\":\"white\",\"ticks\":\"\"}},\"title\":{\"x\":0.05},\"xaxis\":{\"automargin\":true,\"gridcolor\":\"white\",\"linecolor\":\"white\",\"ticks\":\"\",\"title\":{\"standoff\":15},\"zerolinecolor\":\"white\",\"zerolinewidth\":2},\"yaxis\":{\"automargin\":true,\"gridcolor\":\"white\",\"linecolor\":\"white\",\"ticks\":\"\",\"title\":{\"standoff\":15},\"zerolinecolor\":\"white\",\"zerolinewidth\":2}}},\"xaxis\":{\"anchor\":\"y\",\"domain\":[0.0,1.0],\"title\":{\"text\":\"temp\"}},\"yaxis\":{\"anchor\":\"x\",\"domain\":[0.0,1.0],\"title\":{\"text\":\"atemp\"}},\"legend\":{\"tracegroupgap\":0},\"margin\":{\"t\":75,\"r\":0,\"l\":0,\"b\":0},\"height\":300,\"width\":300,\"title\":{\"text\":\"temp vs atemp\",\"x\":0.5,\"xanchor\":\"center\",\"yanchor\":\"middle\"}},                        {\"responsive\": true}                    ).then(function(){\n",
              "                            \n",
              "var gd = document.getElementById('4ef28059-3c1e-44c3-9c68-9c62576c38f8');\n",
              "var x = new MutationObserver(function (mutations, observer) {{\n",
              "        var display = window.getComputedStyle(gd).display;\n",
              "        if (!display || display === 'none') {{\n",
              "            console.log([gd, 'removed!']);\n",
              "            Plotly.purge(gd);\n",
              "            observer.disconnect();\n",
              "        }}\n",
              "}});\n",
              "\n",
              "// Listen for the removal of the full notebook cells\n",
              "var notebookContainer = gd.closest('#notebook-container');\n",
              "if (notebookContainer) {{\n",
              "    x.observe(notebookContainer, {childList: true});\n",
              "}}\n",
              "\n",
              "// Listen for the clearing of the current output cell\n",
              "var outputEl = gd.closest('.output');\n",
              "if (outputEl) {{\n",
              "    x.observe(outputEl, {childList: true});\n",
              "}}\n",
              "\n",
              "                        })                };                            </script>        </div>\n",
              "</body>\n",
              "</html>"
            ]
          },
          "metadata": {},
          "output_type": "display_data"
        },
        {
          "data": {
            "text/html": [
              "<html>\n",
              "<head><meta charset=\"utf-8\" /></head>\n",
              "<body>\n",
              "    <div>            <script src=\"https://cdnjs.cloudflare.com/ajax/libs/mathjax/2.7.5/MathJax.js?config=TeX-AMS-MML_SVG\"></script><script type=\"text/javascript\">if (window.MathJax) {MathJax.Hub.Config({SVG: {font: \"STIX-Web\"}});}</script>                <script type=\"text/javascript\">window.PlotlyConfig = {MathJaxConfig: 'local'};</script>\n",
              "        <script src=\"https://cdn.plot.ly/plotly-2.6.3.min.js\"></script>                <div id=\"8b8158fd-b153-42f0-b47b-835cbafa106c\" class=\"plotly-graph-div\" style=\"height:300px; width:300px;\"></div>            <script type=\"text/javascript\">                                    window.PLOTLYENV=window.PLOTLYENV || {};                                    if (document.getElementById(\"8b8158fd-b153-42f0-b47b-835cbafa106c\")) {                    Plotly.newPlot(                        \"8b8158fd-b153-42f0-b47b-835cbafa106c\",                        [{\"hovertemplate\":\"mnth=%{x}<br>season_num=%{y}<extra></extra>\",\"legendgroup\":\"\",\"marker\":{\"color\":\"#636efa\",\"symbol\":\"circle\"},\"mode\":\"markers\",\"name\":\"\",\"orientation\":\"v\",\"showlegend\":false,\"x\":[1,1,1,1,1,1,1,1,1,1,1,1,1,1,1,1,1,1,1,1,1,1,1,1,1,1,1,1,1,1,1,2,2,2,2,2,2,2,2,2,2,2,2,2,2,2,2,2,2,2,2,2,2,2,2,2,2,2,2,3,3,3,3,3,3,3,3,3,3,3,3,3,3,3,3,3,3,3,3,3,3,3,3,3,3,3,3,3,3,3,4,4,4,4,4,4,4,4,4,4,4,4,4,4,4,4,4,4,4,4,4,4,4,4,4,4,4,4,4,4,5,5,5,5,5,5,5,5,5,5,5,5,5,5,5,5,5,5,5,5,5,5,5,5,5,5,5,5,5,5,5,6,6,6,6,6,6,6,6,6,6,6,6,6,6,6,6,6,6,6,6,6,6,6,6,6,6,6,6,6,6,7,7,7,7,7,7,7,7,7,7,7,7,7,7,7,7,7,7,7,7,7,7,7,7,7,7,7,7,7,7,7,8,8,8,8,8,8,8,8,8,8,8,8,8,8,8,8,8,8,8,8,8,8,8,8,8,8,8,8,8,8,8,9,9,9,9,9,9,9,9,9,9,9,9,9,9,9,9,9,9,9,9,9,9,9,9,9,9,9,9,9,9,10,10,10,10,10,10,10,10,10,10,10,10,10,10,10,10,10,10,10,10,10,10,10,10,10,10,10,10,10,10,10,11,11,11,11,11,11,11,11,11,11,11,11,11,11,11,11,11,11,11,11,11,11,11,11,11,11,11,11,11,11,12,12,12,12,12,12,12,12,12,12,12,12,12,12,12,12,12,12,12,12,12,12,12,12,12,12,12,12,12,12,12,1,1,1,1,1,1,1,1,1,1,1,1,1,1,1,1,1,1,1,1,1,1,1,1,1,1,1,1,1,1,1,2,2,2,2,2,2,2,2,2,2,2,2,2,2,2,2,2,2,2,2,2,2,2,2,2,2,2,2,2,3,3,3,3,3,3,3,3,3,3,3,3,3,3,3,3,3,3,3,3,3,3,3,3,3,3,3,3,3,3,3,4,4,4,4,4,4,4,4,4,4,4,4,4,4,4,4,4,4,4,4,4,4,4,4,4,4,4,4,4,4,5,5,5,5,5,5,5,5,5,5,5,5,5,5,5,5,5,5,5,5,5,5,5,5,5,5,5,5,5,5,5,6,6,6,6,6,6,6,6,6,6,6,6,6,6,6,6,6,6,6,6,6,6,6,6,6,6,6,6,6,6,7,7,7,7,7,7,7,7,7,7,7,7,7,7,7,7,7,7,7,7,7,7,7,7,7,7,7,7,7,7,7,8,8,8,8,8,8,8,8,8,8,8,8,8,8,8,8,8,8,8,8,8,8,8,8,8,8,8,8,8,8,8,9,9,9,9,9,9,9,9,9,9,9,9,9,9,9,9,9,9,9,9,9,9,9,9,9,9,9,9,9,9,10,10,10,10,10,10,10,10,10,10,10,10,10,10,10,10,10,10,10,10,10,10,10,10,10,10,10,10,10,10,10,11,11,11,11,11,11,11,11,11,11,11,11,11,11,11,11,11,11,11,11,11,11,11,11,11,11,11,11,11,11,12,12,12,12,12,12,12,12,12,12,12,12,12,12,12,12,12,12,12,12,12,12,12,12,12,12,12,12,12,12,12],\"xaxis\":\"x\",\"y\":[1,1,1,1,1,1,1,1,1,1,1,1,1,1,1,1,1,1,1,1,1,1,1,1,1,1,1,1,1,1,1,1,1,1,1,1,1,1,1,1,1,1,1,1,1,1,1,1,1,1,1,1,1,1,1,1,1,1,1,1,1,1,1,1,1,1,1,1,1,1,1,1,1,1,1,1,1,1,1,2,2,2,2,2,2,2,2,2,2,2,2,2,2,2,2,2,2,2,2,2,2,2,2,2,2,2,2,2,2,2,2,2,2,2,2,2,2,2,2,2,2,2,2,2,2,2,2,2,2,2,2,2,2,2,2,2,2,2,2,2,2,2,2,2,2,2,2,2,2,2,2,2,2,2,2,2,2,2,2,2,2,2,2,2,2,2,2,2,2,2,2,3,3,3,3,3,3,3,3,3,3,3,3,3,3,3,3,3,3,3,3,3,3,3,3,3,3,3,3,3,3,3,3,3,3,3,3,3,3,3,3,3,3,3,3,3,3,3,3,3,3,3,3,3,3,3,3,3,3,3,3,3,3,3,3,3,3,3,3,3,3,3,3,3,3,3,3,3,3,3,3,3,3,3,3,3,3,3,3,3,3,3,3,3,3,4,4,4,4,4,4,4,4,4,4,4,4,4,4,4,4,4,4,4,4,4,4,4,4,4,4,4,4,4,4,4,4,4,4,4,4,4,4,4,4,4,4,4,4,4,4,4,4,4,4,4,4,4,4,4,4,4,4,4,4,4,4,4,4,4,4,4,4,4,4,4,4,4,4,4,4,4,4,4,4,4,4,4,4,4,4,4,4,4,1,1,1,1,1,1,1,1,1,1,1,1,1,1,1,1,1,1,1,1,1,1,1,1,1,1,1,1,1,1,1,1,1,1,1,1,1,1,1,1,1,1,1,1,1,1,1,1,1,1,1,1,1,1,1,1,1,1,1,1,1,1,1,1,1,1,1,1,1,1,1,1,1,1,1,1,1,1,1,1,1,1,1,1,1,1,1,1,1,1,1,2,2,2,2,2,2,2,2,2,2,2,2,2,2,2,2,2,2,2,2,2,2,2,2,2,2,2,2,2,2,2,2,2,2,2,2,2,2,2,2,2,2,2,2,2,2,2,2,2,2,2,2,2,2,2,2,2,2,2,2,2,2,2,2,2,2,2,2,2,2,2,2,2,2,2,2,2,2,2,2,2,2,2,2,2,2,2,2,2,2,2,2,3,3,3,3,3,3,3,3,3,3,3,3,3,3,3,3,3,3,3,3,3,3,3,3,3,3,3,3,3,3,3,3,3,3,3,3,3,3,3,3,3,3,3,3,3,3,3,3,3,3,3,3,3,3,3,3,3,3,3,3,3,3,3,3,3,3,3,3,3,3,3,3,3,3,3,3,3,3,3,3,3,3,3,3,3,3,3,3,3,3,3,3,3,3,4,4,4,4,4,4,4,4,4,4,4,4,4,4,4,4,4,4,4,4,4,4,4,4,4,4,4,4,4,4,4,4,4,4,4,4,4,4,4,4,4,4,4,4,4,4,4,4,4,4,4,4,4,4,4,4,4,4,4,4,4,4,4,4,4,4,4,4,4,4,4,4,4,4,4,4,4,4,4,4,4,4,4,4,4,4,4,4,4,1,1,1,1,1,1,1,1,1,1,1],\"yaxis\":\"y\",\"type\":\"scatter\"}],                        {\"template\":{\"data\":{\"bar\":[{\"error_x\":{\"color\":\"#2a3f5f\"},\"error_y\":{\"color\":\"#2a3f5f\"},\"marker\":{\"line\":{\"color\":\"#E5ECF6\",\"width\":0.5},\"pattern\":{\"fillmode\":\"overlay\",\"size\":10,\"solidity\":0.2}},\"type\":\"bar\"}],\"barpolar\":[{\"marker\":{\"line\":{\"color\":\"#E5ECF6\",\"width\":0.5},\"pattern\":{\"fillmode\":\"overlay\",\"size\":10,\"solidity\":0.2}},\"type\":\"barpolar\"}],\"carpet\":[{\"aaxis\":{\"endlinecolor\":\"#2a3f5f\",\"gridcolor\":\"white\",\"linecolor\":\"white\",\"minorgridcolor\":\"white\",\"startlinecolor\":\"#2a3f5f\"},\"baxis\":{\"endlinecolor\":\"#2a3f5f\",\"gridcolor\":\"white\",\"linecolor\":\"white\",\"minorgridcolor\":\"white\",\"startlinecolor\":\"#2a3f5f\"},\"type\":\"carpet\"}],\"choropleth\":[{\"colorbar\":{\"outlinewidth\":0,\"ticks\":\"\"},\"type\":\"choropleth\"}],\"contour\":[{\"colorbar\":{\"outlinewidth\":0,\"ticks\":\"\"},\"colorscale\":[[0.0,\"#0d0887\"],[0.1111111111111111,\"#46039f\"],[0.2222222222222222,\"#7201a8\"],[0.3333333333333333,\"#9c179e\"],[0.4444444444444444,\"#bd3786\"],[0.5555555555555556,\"#d8576b\"],[0.6666666666666666,\"#ed7953\"],[0.7777777777777778,\"#fb9f3a\"],[0.8888888888888888,\"#fdca26\"],[1.0,\"#f0f921\"]],\"type\":\"contour\"}],\"contourcarpet\":[{\"colorbar\":{\"outlinewidth\":0,\"ticks\":\"\"},\"type\":\"contourcarpet\"}],\"heatmap\":[{\"colorbar\":{\"outlinewidth\":0,\"ticks\":\"\"},\"colorscale\":[[0.0,\"#0d0887\"],[0.1111111111111111,\"#46039f\"],[0.2222222222222222,\"#7201a8\"],[0.3333333333333333,\"#9c179e\"],[0.4444444444444444,\"#bd3786\"],[0.5555555555555556,\"#d8576b\"],[0.6666666666666666,\"#ed7953\"],[0.7777777777777778,\"#fb9f3a\"],[0.8888888888888888,\"#fdca26\"],[1.0,\"#f0f921\"]],\"type\":\"heatmap\"}],\"heatmapgl\":[{\"colorbar\":{\"outlinewidth\":0,\"ticks\":\"\"},\"colorscale\":[[0.0,\"#0d0887\"],[0.1111111111111111,\"#46039f\"],[0.2222222222222222,\"#7201a8\"],[0.3333333333333333,\"#9c179e\"],[0.4444444444444444,\"#bd3786\"],[0.5555555555555556,\"#d8576b\"],[0.6666666666666666,\"#ed7953\"],[0.7777777777777778,\"#fb9f3a\"],[0.8888888888888888,\"#fdca26\"],[1.0,\"#f0f921\"]],\"type\":\"heatmapgl\"}],\"histogram\":[{\"marker\":{\"pattern\":{\"fillmode\":\"overlay\",\"size\":10,\"solidity\":0.2}},\"type\":\"histogram\"}],\"histogram2d\":[{\"colorbar\":{\"outlinewidth\":0,\"ticks\":\"\"},\"colorscale\":[[0.0,\"#0d0887\"],[0.1111111111111111,\"#46039f\"],[0.2222222222222222,\"#7201a8\"],[0.3333333333333333,\"#9c179e\"],[0.4444444444444444,\"#bd3786\"],[0.5555555555555556,\"#d8576b\"],[0.6666666666666666,\"#ed7953\"],[0.7777777777777778,\"#fb9f3a\"],[0.8888888888888888,\"#fdca26\"],[1.0,\"#f0f921\"]],\"type\":\"histogram2d\"}],\"histogram2dcontour\":[{\"colorbar\":{\"outlinewidth\":0,\"ticks\":\"\"},\"colorscale\":[[0.0,\"#0d0887\"],[0.1111111111111111,\"#46039f\"],[0.2222222222222222,\"#7201a8\"],[0.3333333333333333,\"#9c179e\"],[0.4444444444444444,\"#bd3786\"],[0.5555555555555556,\"#d8576b\"],[0.6666666666666666,\"#ed7953\"],[0.7777777777777778,\"#fb9f3a\"],[0.8888888888888888,\"#fdca26\"],[1.0,\"#f0f921\"]],\"type\":\"histogram2dcontour\"}],\"mesh3d\":[{\"colorbar\":{\"outlinewidth\":0,\"ticks\":\"\"},\"type\":\"mesh3d\"}],\"parcoords\":[{\"line\":{\"colorbar\":{\"outlinewidth\":0,\"ticks\":\"\"}},\"type\":\"parcoords\"}],\"pie\":[{\"automargin\":true,\"type\":\"pie\"}],\"scatter\":[{\"marker\":{\"colorbar\":{\"outlinewidth\":0,\"ticks\":\"\"}},\"type\":\"scatter\"}],\"scatter3d\":[{\"line\":{\"colorbar\":{\"outlinewidth\":0,\"ticks\":\"\"}},\"marker\":{\"colorbar\":{\"outlinewidth\":0,\"ticks\":\"\"}},\"type\":\"scatter3d\"}],\"scattercarpet\":[{\"marker\":{\"colorbar\":{\"outlinewidth\":0,\"ticks\":\"\"}},\"type\":\"scattercarpet\"}],\"scattergeo\":[{\"marker\":{\"colorbar\":{\"outlinewidth\":0,\"ticks\":\"\"}},\"type\":\"scattergeo\"}],\"scattergl\":[{\"marker\":{\"colorbar\":{\"outlinewidth\":0,\"ticks\":\"\"}},\"type\":\"scattergl\"}],\"scattermapbox\":[{\"marker\":{\"colorbar\":{\"outlinewidth\":0,\"ticks\":\"\"}},\"type\":\"scattermapbox\"}],\"scatterpolar\":[{\"marker\":{\"colorbar\":{\"outlinewidth\":0,\"ticks\":\"\"}},\"type\":\"scatterpolar\"}],\"scatterpolargl\":[{\"marker\":{\"colorbar\":{\"outlinewidth\":0,\"ticks\":\"\"}},\"type\":\"scatterpolargl\"}],\"scatterternary\":[{\"marker\":{\"colorbar\":{\"outlinewidth\":0,\"ticks\":\"\"}},\"type\":\"scatterternary\"}],\"surface\":[{\"colorbar\":{\"outlinewidth\":0,\"ticks\":\"\"},\"colorscale\":[[0.0,\"#0d0887\"],[0.1111111111111111,\"#46039f\"],[0.2222222222222222,\"#7201a8\"],[0.3333333333333333,\"#9c179e\"],[0.4444444444444444,\"#bd3786\"],[0.5555555555555556,\"#d8576b\"],[0.6666666666666666,\"#ed7953\"],[0.7777777777777778,\"#fb9f3a\"],[0.8888888888888888,\"#fdca26\"],[1.0,\"#f0f921\"]],\"type\":\"surface\"}],\"table\":[{\"cells\":{\"fill\":{\"color\":\"#EBF0F8\"},\"line\":{\"color\":\"white\"}},\"header\":{\"fill\":{\"color\":\"#C8D4E3\"},\"line\":{\"color\":\"white\"}},\"type\":\"table\"}]},\"layout\":{\"annotationdefaults\":{\"arrowcolor\":\"#2a3f5f\",\"arrowhead\":0,\"arrowwidth\":1},\"autotypenumbers\":\"strict\",\"coloraxis\":{\"colorbar\":{\"outlinewidth\":0,\"ticks\":\"\"}},\"colorscale\":{\"diverging\":[[0,\"#8e0152\"],[0.1,\"#c51b7d\"],[0.2,\"#de77ae\"],[0.3,\"#f1b6da\"],[0.4,\"#fde0ef\"],[0.5,\"#f7f7f7\"],[0.6,\"#e6f5d0\"],[0.7,\"#b8e186\"],[0.8,\"#7fbc41\"],[0.9,\"#4d9221\"],[1,\"#276419\"]],\"sequential\":[[0.0,\"#0d0887\"],[0.1111111111111111,\"#46039f\"],[0.2222222222222222,\"#7201a8\"],[0.3333333333333333,\"#9c179e\"],[0.4444444444444444,\"#bd3786\"],[0.5555555555555556,\"#d8576b\"],[0.6666666666666666,\"#ed7953\"],[0.7777777777777778,\"#fb9f3a\"],[0.8888888888888888,\"#fdca26\"],[1.0,\"#f0f921\"]],\"sequentialminus\":[[0.0,\"#0d0887\"],[0.1111111111111111,\"#46039f\"],[0.2222222222222222,\"#7201a8\"],[0.3333333333333333,\"#9c179e\"],[0.4444444444444444,\"#bd3786\"],[0.5555555555555556,\"#d8576b\"],[0.6666666666666666,\"#ed7953\"],[0.7777777777777778,\"#fb9f3a\"],[0.8888888888888888,\"#fdca26\"],[1.0,\"#f0f921\"]]},\"colorway\":[\"#636efa\",\"#EF553B\",\"#00cc96\",\"#ab63fa\",\"#FFA15A\",\"#19d3f3\",\"#FF6692\",\"#B6E880\",\"#FF97FF\",\"#FECB52\"],\"font\":{\"color\":\"#2a3f5f\"},\"geo\":{\"bgcolor\":\"white\",\"lakecolor\":\"white\",\"landcolor\":\"#E5ECF6\",\"showlakes\":true,\"showland\":true,\"subunitcolor\":\"white\"},\"hoverlabel\":{\"align\":\"left\"},\"hovermode\":\"closest\",\"mapbox\":{\"style\":\"light\"},\"paper_bgcolor\":\"white\",\"plot_bgcolor\":\"#E5ECF6\",\"polar\":{\"angularaxis\":{\"gridcolor\":\"white\",\"linecolor\":\"white\",\"ticks\":\"\"},\"bgcolor\":\"#E5ECF6\",\"radialaxis\":{\"gridcolor\":\"white\",\"linecolor\":\"white\",\"ticks\":\"\"}},\"scene\":{\"xaxis\":{\"backgroundcolor\":\"#E5ECF6\",\"gridcolor\":\"white\",\"gridwidth\":2,\"linecolor\":\"white\",\"showbackground\":true,\"ticks\":\"\",\"zerolinecolor\":\"white\"},\"yaxis\":{\"backgroundcolor\":\"#E5ECF6\",\"gridcolor\":\"white\",\"gridwidth\":2,\"linecolor\":\"white\",\"showbackground\":true,\"ticks\":\"\",\"zerolinecolor\":\"white\"},\"zaxis\":{\"backgroundcolor\":\"#E5ECF6\",\"gridcolor\":\"white\",\"gridwidth\":2,\"linecolor\":\"white\",\"showbackground\":true,\"ticks\":\"\",\"zerolinecolor\":\"white\"}},\"shapedefaults\":{\"line\":{\"color\":\"#2a3f5f\"}},\"ternary\":{\"aaxis\":{\"gridcolor\":\"white\",\"linecolor\":\"white\",\"ticks\":\"\"},\"baxis\":{\"gridcolor\":\"white\",\"linecolor\":\"white\",\"ticks\":\"\"},\"bgcolor\":\"#E5ECF6\",\"caxis\":{\"gridcolor\":\"white\",\"linecolor\":\"white\",\"ticks\":\"\"}},\"title\":{\"x\":0.05},\"xaxis\":{\"automargin\":true,\"gridcolor\":\"white\",\"linecolor\":\"white\",\"ticks\":\"\",\"title\":{\"standoff\":15},\"zerolinecolor\":\"white\",\"zerolinewidth\":2},\"yaxis\":{\"automargin\":true,\"gridcolor\":\"white\",\"linecolor\":\"white\",\"ticks\":\"\",\"title\":{\"standoff\":15},\"zerolinecolor\":\"white\",\"zerolinewidth\":2}}},\"xaxis\":{\"anchor\":\"y\",\"domain\":[0.0,1.0],\"title\":{\"text\":\"mnth\"}},\"yaxis\":{\"anchor\":\"x\",\"domain\":[0.0,1.0],\"title\":{\"text\":\"season_num\"}},\"legend\":{\"tracegroupgap\":0},\"margin\":{\"t\":75,\"r\":0,\"l\":0,\"b\":0},\"height\":300,\"width\":300,\"title\":{\"text\":\"mnth vs season_num\",\"x\":0.5,\"xanchor\":\"center\",\"yanchor\":\"middle\"}},                        {\"responsive\": true}                    ).then(function(){\n",
              "                            \n",
              "var gd = document.getElementById('8b8158fd-b153-42f0-b47b-835cbafa106c');\n",
              "var x = new MutationObserver(function (mutations, observer) {{\n",
              "        var display = window.getComputedStyle(gd).display;\n",
              "        if (!display || display === 'none') {{\n",
              "            console.log([gd, 'removed!']);\n",
              "            Plotly.purge(gd);\n",
              "            observer.disconnect();\n",
              "        }}\n",
              "}});\n",
              "\n",
              "// Listen for the removal of the full notebook cells\n",
              "var notebookContainer = gd.closest('#notebook-container');\n",
              "if (notebookContainer) {{\n",
              "    x.observe(notebookContainer, {childList: true});\n",
              "}}\n",
              "\n",
              "// Listen for the clearing of the current output cell\n",
              "var outputEl = gd.closest('.output');\n",
              "if (outputEl) {{\n",
              "    x.observe(outputEl, {childList: true});\n",
              "}}\n",
              "\n",
              "                        })                };                            </script>        </div>\n",
              "</body>\n",
              "</html>"
            ]
          },
          "metadata": {},
          "output_type": "display_data"
        }
      ],
      "metadata": {
        "colab": {
          "base_uri": "https://localhost:8080/",
          "height": 617
        },
        "cellView": "form",
        "id": "UFuVyAKPsS4p",
        "outputId": "0cd1ab59-75e0-457b-cfc2-cf363d9493da"
      }
    },
    {
      "cell_type": "markdown",
      "source": [
        "###2.1.3 Relação linear entre variáveis independentes e dependente"
      ],
      "metadata": {
        "id": "e8Y3gO5QsS4p"
      }
    },
    {
      "cell_type": "markdown",
      "source": [
        "O bom ajuste e performance do modelo de regressão linear dependem de relações lineares entre as variáveis independentes e a dependente. Como é possível ver no gráfico abaixo, não temos clareza desse comportamento, e em alguns casos o oposto, com comportamentos quadráticos, como no caso da variável temp."
      ],
      "metadata": {
        "id": "JodLquZHsS4q"
      }
    },
    {
      "cell_type": "code",
      "execution_count": 28,
      "source": [
        "#@title\r\n",
        "\r\n",
        "independent_vars = ['yr','mnth','holiday','workingday_num', 'weekday_num', 'weathersit_num', 'temp','hum','windspeed']\r\n",
        "X = df[independent_vars]\r\n",
        "y = df['cnt']\r\n",
        "\r\n",
        "traces = []\r\n",
        "for var in independent_vars:\r\n",
        "  traces.append(go.Scatter(x=X[var], y=y, text = y, mode='markers'))\r\n",
        "\r\n",
        "fig = make_subplots(rows=3,cols=3, subplot_titles = [var+' vs cnt' for var in independent_vars])#,vertical_spacing=0.03)\r\n",
        "\r\n",
        "fig.append_trace(traces[0],1,1)\r\n",
        "fig.append_trace(traces[1],1,2)\r\n",
        "fig.append_trace(traces[2],1,3)\r\n",
        "fig.append_trace(traces[3],2,1)\r\n",
        "fig.append_trace(traces[4],2,2)\r\n",
        "fig.append_trace(traces[5],2,3)\r\n",
        "fig.append_trace(traces[6],3,1)\r\n",
        "fig.append_trace(traces[7],3,2)\r\n",
        "fig.append_trace(traces[8],3,3)\r\n",
        "fig.update_layout(height=600, width=1200)\r\n",
        "fig.update_layout(\r\n",
        "    title={\r\n",
        "        'text': \"independent variables vs dependent variable\",\r\n",
        "        'x':0.5,\r\n",
        "        'xanchor': 'center',\r\n",
        "        'yanchor': 'middle'},\r\n",
        "    showlegend=False\r\n",
        "        )\r\n",
        "fig.update_traces(texttemplate='%{text:.2s}')\r\n",
        "fig.show()\r\n",
        "\r\n"
      ],
      "outputs": [
        {
          "data": {
            "text/html": [
              "<html>\n",
              "<head><meta charset=\"utf-8\" /></head>\n",
              "<body>\n",
              "    <div>            <script src=\"https://cdnjs.cloudflare.com/ajax/libs/mathjax/2.7.5/MathJax.js?config=TeX-AMS-MML_SVG\"></script><script type=\"text/javascript\">if (window.MathJax) {MathJax.Hub.Config({SVG: {font: \"STIX-Web\"}});}</script>                <script type=\"text/javascript\">window.PlotlyConfig = {MathJaxConfig: 'local'};</script>\n",
              "        <script src=\"https://cdn.plot.ly/plotly-2.6.3.min.js\"></script>                <div id=\"37a1a494-546e-4997-971d-bc26f343748e\" class=\"plotly-graph-div\" style=\"height:600px; width:1200px;\"></div>            <script type=\"text/javascript\">                                    window.PLOTLYENV=window.PLOTLYENV || {};                                    if (document.getElementById(\"37a1a494-546e-4997-971d-bc26f343748e\")) {                    Plotly.newPlot(                        \"37a1a494-546e-4997-971d-bc26f343748e\",                        [{\"mode\":\"markers\",\"text\":[985.0,801.0,1349.0,1562.0,1600.0,1606.0,1510.0,959.0,822.0,1321.0,1263.0,1162.0,1406.0,1421.0,1248.0,1204.0,1000.0,683.0,1650.0,1927.0,1543.0,981.0,986.0,1416.0,1985.0,506.0,431.0,1167.0,1098.0,1096.0,1501.0,1360.0,1526.0,1550.0,1708.0,1005.0,1623.0,1712.0,1530.0,1605.0,1538.0,1746.0,1472.0,1589.0,1913.0,1815.0,2115.0,2475.0,2927.0,1635.0,1812.0,1107.0,1450.0,1917.0,1807.0,1461.0,1969.0,2402.0,1446.0,1851.0,2134.0,1685.0,1944.0,2077.0,605.0,1872.0,2133.0,1891.0,623.0,1977.0,2132.0,2417.0,2046.0,2056.0,2192.0,2744.0,3239.0,3117.0,2471.0,2077.0,2703.0,2121.0,1865.0,2210.0,2496.0,1693.0,2028.0,2425.0,1536.0,1685.0,2227.0,2252.0,3249.0,3115.0,1795.0,2808.0,3141.0,1471.0,2455.0,2895.0,3348.0,2034.0,2162.0,3267.0,3126.0,795.0,3744.0,3429.0,3204.0,3944.0,4189.0,1683.0,4036.0,4191.0,4073.0,4400.0,3872.0,4058.0,4595.0,5312.0,3351.0,4401.0,4451.0,2633.0,4433.0,4608.0,4714.0,4333.0,4362.0,4803.0,4182.0,4864.0,4105.0,3409.0,4553.0,3958.0,4123.0,3855.0,4575.0,4917.0,5805.0,4660.0,4274.0,4492.0,4978.0,4677.0,4679.0,4758.0,4788.0,4098.0,3982.0,3974.0,4968.0,5312.0,5342.0,4906.0,4548.0,4833.0,4401.0,3915.0,4586.0,4966.0,4460.0,5020.0,4891.0,5180.0,3767.0,4844.0,5119.0,4744.0,4010.0,4835.0,4507.0,4790.0,4991.0,5202.0,5305.0,4708.0,4648.0,5225.0,5515.0,5362.0,5119.0,4649.0,6043.0,4665.0,4629.0,4592.0,4040.0,5336.0,4881.0,4086.0,4258.0,4342.0,5084.0,5538.0,5923.0,5302.0,4458.0,4541.0,4332.0,3784.0,3387.0,3285.0,3606.0,3840.0,4590.0,4656.0,4390.0,3846.0,4475.0,4302.0,4266.0,4845.0,3574.0,4576.0,4866.0,4294.0,3785.0,4326.0,4602.0,4780.0,4792.0,4905.0,4150.0,3820.0,4338.0,4725.0,4694.0,3805.0,4153.0,5191.0,3873.0,4758.0,5895.0,5130.0,3542.0,4661.0,1115.0,4334.0,4634.0,5204.0,5058.0,5115.0,4727.0,4484.0,4940.0,3351.0,2710.0,1996.0,1842.0,3544.0,5345.0,5046.0,4713.0,4763.0,4785.0,3659.0,4760.0,4511.0,4274.0,4539.0,3641.0,4352.0,4795.0,2395.0,5423.0,5010.0,4630.0,4120.0,3907.0,4839.0,5202.0,2429.0,2918.0,3570.0,4456.0,4826.0,4765.0,4985.0,5409.0,5511.0,5117.0,4563.0,2416.0,2913.0,3644.0,5217.0,5041.0,4570.0,4748.0,2424.0,4195.0,4304.0,4308.0,4381.0,4187.0,4687.0,3894.0,2659.0,3747.0,627.0,3331.0,3669.0,4068.0,4186.0,3974.0,4046.0,3926.0,3649.0,4035.0,4205.0,4109.0,2933.0,3368.0,4067.0,3717.0,4486.0,4195.0,1817.0,3053.0,3392.0,3663.0,3520.0,2765.0,1607.0,2566.0,1495.0,2792.0,3068.0,3071.0,3867.0,2914.0,3613.0,3727.0,3940.0,3614.0,3485.0,3811.0,2594.0,705.0,3322.0,3620.0,3190.0,2743.0,3310.0,3523.0,3740.0,3709.0,3577.0,2739.0,2431.0,3403.0,3750.0,2660.0,3068.0,2209.0,1011.0,754.0,1317.0,1162.0,2302.0,2423.0,2999.0,2485.0,2294.0,1951.0,2236.0,2368.0,3272.0,4098.0,4521.0,3425.0,2376.0,3598.0,2177.0,4097.0,3214.0,2493.0,2311.0,2298.0,2935.0,3376.0,3292.0,3163.0,1301.0,1977.0,2432.0,4339.0,4270.0,4075.0,3456.0,4023.0,3243.0,3624.0,4509.0,4579.0,3761.0,4151.0,2832.0,2947.0,3784.0,4375.0,2802.0,3830.0,3831.0,2169.0,1529.0,3422.0,3922.0,4169.0,3005.0,4154.0,4318.0,2689.0,3129.0,3777.0,4773.0,5062.0,3487.0,2732.0,3389.0,4322.0,4363.0,1834.0,4990.0,3194.0,4066.0,3423.0,3333.0,3956.0,4916.0,5382.0,4569.0,4118.0,4911.0,5298.0,5847.0,6312.0,6192.0,4378.0,7836.0,5892.0,6153.0,6093.0,6230.0,6871.0,8362.0,3372.0,4996.0,5558.0,5102.0,5698.0,6133.0,5459.0,6235.0,6041.0,5936.0,6772.0,6436.0,6457.0,6460.0,6857.0,5169.0,5585.0,5918.0,4862.0,5409.0,6398.0,7460.0,7132.0,6370.0,6691.0,4367.0,6565.0,7290.0,6624.0,1027.0,3214.0,5633.0,6196.0,5026.0,6233.0,4220.0,6304.0,5572.0,5740.0,6169.0,6421.0,6296.0,6883.0,6359.0,6273.0,5728.0,4717.0,6572.0,7030.0,7429.0,6118.0,2843.0,5115.0,7424.0,7384.0,7639.0,8294.0,7129.0,4359.0,6073.0,5260.0,6770.0,6734.0,6536.0,6591.0,6043.0,5743.0,6855.0,7338.0,4127.0,8120.0,7641.0,6998.0,7001.0,7055.0,7494.0,7736.0,7498.0,6598.0,6664.0,4972.0,7421.0,7363.0,7665.0,7702.0,6978.0,5099.0,6825.0,6211.0,5905.0,5823.0,7458.0,6891.0,6779.0,7442.0,7335.0,6879.0,5463.0,5687.0,5531.0,6227.0,6660.0,7403.0,6241.0,6207.0,4840.0,4672.0,6569.0,6290.0,7264.0,7446.0,7499.0,6969.0,6031.0,6830.0,6786.0,5713.0,6591.0,5870.0,4459.0,7410.0,6966.0,7592.0,8173.0,6861.0,6904.0,6685.0,6597.0,7105.0,7216.0,7580.0,7261.0,7175.0,6824.0,5464.0,7013.0,7273.0,7534.0,7286.0,5786.0,6299.0,6544.0,6883.0,6784.0,7347.0,7605.0,7148.0,7865.0,4549.0,6530.0,7006.0,7375.0,7765.0,7582.0,6053.0,5255.0,6917.0,7040.0,7697.0,7713.0,7350.0,6140.0,5810.0,6034.0,6864.0,7112.0,6203.0,7504.0,5976.0,8227.0,7525.0,7767.0,7870.0,7804.0,8009.0,8714.0,7333.0,6869.0,4073.0,7591.0,7720.0,8167.0,8395.0,7907.0,7436.0,7538.0,7733.0,7393.0,7415.0,8555.0,6889.0,6778.0,4639.0,7572.0,7328.0,8156.0,7965.0,3510.0,5478.0,6392.0,7691.0,7570.0,7282.0,7109.0,6639.0,5875.0,7534.0,7461.0,7509.0,5424.0,8090.0,6824.0,7058.0,7466.0,7693.0,7359.0,7444.0,7852.0,4459.0,22.0,1096.0,5566.0,5986.0,5847.0,5138.0,5107.0,5259.0,5686.0,5035.0,5315.0,5992.0,6536.0,6852.0,6269.0,4094.0,5495.0,5445.0,5698.0,5629.0,4669.0,5499.0,5634.0,5146.0,2425.0,3910.0,2277.0,2424.0,5087.0,3959.0,5260.0,5323.0,5668.0,5191.0,4649.0,6234.0,6606.0,5729.0,5375.0,5008.0,5582.0,3228.0,5170.0,5501.0,5319.0,5532.0,5611.0,5047.0,3786.0,4585.0,5557.0,5267.0,4128.0,3623.0,1749.0,1787.0,920.0,1013.0,441.0,2114.0,3095.0,1341.0,1796.0,2729.0],\"x\":[0,0,0,0,0,0,0,0,0,0,0,0,0,0,0,0,0,0,0,0,0,0,0,0,0,0,0,0,0,0,0,0,0,0,0,0,0,0,0,0,0,0,0,0,0,0,0,0,0,0,0,0,0,0,0,0,0,0,0,0,0,0,0,0,0,0,0,0,0,0,0,0,0,0,0,0,0,0,0,0,0,0,0,0,0,0,0,0,0,0,0,0,0,0,0,0,0,0,0,0,0,0,0,0,0,0,0,0,0,0,0,0,0,0,0,0,0,0,0,0,0,0,0,0,0,0,0,0,0,0,0,0,0,0,0,0,0,0,0,0,0,0,0,0,0,0,0,0,0,0,0,0,0,0,0,0,0,0,0,0,0,0,0,0,0,0,0,0,0,0,0,0,0,0,0,0,0,0,0,0,0,0,0,0,0,0,0,0,0,0,0,0,0,0,0,0,0,0,0,0,0,0,0,0,0,0,0,0,0,0,0,0,0,0,0,0,0,0,0,0,0,0,0,0,0,0,0,0,0,0,0,0,0,0,0,0,0,0,0,0,0,0,0,0,0,0,0,0,0,0,0,0,0,0,0,0,0,0,0,0,0,0,0,0,0,0,0,0,0,0,0,0,0,0,0,0,0,0,0,0,0,0,0,0,0,0,0,0,0,0,0,0,0,0,0,0,0,0,0,0,0,0,0,0,0,0,0,0,0,0,0,0,0,0,0,0,0,0,0,0,0,0,0,0,0,0,0,0,0,0,0,0,0,0,0,0,0,0,0,0,0,0,0,0,0,0,0,0,0,0,0,0,0,0,0,0,0,0,0,0,0,0,0,0,0,1,1,1,1,1,1,1,1,1,1,1,1,1,1,1,1,1,1,1,1,1,1,1,1,1,1,1,1,1,1,1,1,1,1,1,1,1,1,1,1,1,1,1,1,1,1,1,1,1,1,1,1,1,1,1,1,1,1,1,1,1,1,1,1,1,1,1,1,1,1,1,1,1,1,1,1,1,1,1,1,1,1,1,1,1,1,1,1,1,1,1,1,1,1,1,1,1,1,1,1,1,1,1,1,1,1,1,1,1,1,1,1,1,1,1,1,1,1,1,1,1,1,1,1,1,1,1,1,1,1,1,1,1,1,1,1,1,1,1,1,1,1,1,1,1,1,1,1,1,1,1,1,1,1,1,1,1,1,1,1,1,1,1,1,1,1,1,1,1,1,1,1,1,1,1,1,1,1,1,1,1,1,1,1,1,1,1,1,1,1,1,1,1,1,1,1,1,1,1,1,1,1,1,1,1,1,1,1,1,1,1,1,1,1,1,1,1,1,1,1,1,1,1,1,1,1,1,1,1,1,1,1,1,1,1,1,1,1,1,1,1,1,1,1,1,1,1,1,1,1,1,1,1,1,1,1,1,1,1,1,1,1,1,1,1,1,1,1,1,1,1,1,1,1,1,1,1,1,1,1,1,1,1,1,1,1,1,1,1,1,1,1,1,1,1,1,1,1,1,1,1,1,1,1,1,1,1,1,1,1,1,1,1,1,1,1,1,1,1,1,1,1,1,1,1,1,1,1,1,1,1,1,1,1,1,1,1,1,1,1,1,1,1,1,1,1,1,1,1,1,1,1,1,1,1,1,1,1,1,1,1,1,1,1,1,1],\"y\":[985,801,1349,1562,1600,1606,1510,959,822,1321,1263,1162,1406,1421,1248,1204,1000,683,1650,1927,1543,981,986,1416,1985,506,431,1167,1098,1096,1501,1360,1526,1550,1708,1005,1623,1712,1530,1605,1538,1746,1472,1589,1913,1815,2115,2475,2927,1635,1812,1107,1450,1917,1807,1461,1969,2402,1446,1851,2134,1685,1944,2077,605,1872,2133,1891,623,1977,2132,2417,2046,2056,2192,2744,3239,3117,2471,2077,2703,2121,1865,2210,2496,1693,2028,2425,1536,1685,2227,2252,3249,3115,1795,2808,3141,1471,2455,2895,3348,2034,2162,3267,3126,795,3744,3429,3204,3944,4189,1683,4036,4191,4073,4400,3872,4058,4595,5312,3351,4401,4451,2633,4433,4608,4714,4333,4362,4803,4182,4864,4105,3409,4553,3958,4123,3855,4575,4917,5805,4660,4274,4492,4978,4677,4679,4758,4788,4098,3982,3974,4968,5312,5342,4906,4548,4833,4401,3915,4586,4966,4460,5020,4891,5180,3767,4844,5119,4744,4010,4835,4507,4790,4991,5202,5305,4708,4648,5225,5515,5362,5119,4649,6043,4665,4629,4592,4040,5336,4881,4086,4258,4342,5084,5538,5923,5302,4458,4541,4332,3784,3387,3285,3606,3840,4590,4656,4390,3846,4475,4302,4266,4845,3574,4576,4866,4294,3785,4326,4602,4780,4792,4905,4150,3820,4338,4725,4694,3805,4153,5191,3873,4758,5895,5130,3542,4661,1115,4334,4634,5204,5058,5115,4727,4484,4940,3351,2710,1996,1842,3544,5345,5046,4713,4763,4785,3659,4760,4511,4274,4539,3641,4352,4795,2395,5423,5010,4630,4120,3907,4839,5202,2429,2918,3570,4456,4826,4765,4985,5409,5511,5117,4563,2416,2913,3644,5217,5041,4570,4748,2424,4195,4304,4308,4381,4187,4687,3894,2659,3747,627,3331,3669,4068,4186,3974,4046,3926,3649,4035,4205,4109,2933,3368,4067,3717,4486,4195,1817,3053,3392,3663,3520,2765,1607,2566,1495,2792,3068,3071,3867,2914,3613,3727,3940,3614,3485,3811,2594,705,3322,3620,3190,2743,3310,3523,3740,3709,3577,2739,2431,3403,3750,2660,3068,2209,1011,754,1317,1162,2302,2423,2999,2485,2294,1951,2236,2368,3272,4098,4521,3425,2376,3598,2177,4097,3214,2493,2311,2298,2935,3376,3292,3163,1301,1977,2432,4339,4270,4075,3456,4023,3243,3624,4509,4579,3761,4151,2832,2947,3784,4375,2802,3830,3831,2169,1529,3422,3922,4169,3005,4154,4318,2689,3129,3777,4773,5062,3487,2732,3389,4322,4363,1834,4990,3194,4066,3423,3333,3956,4916,5382,4569,4118,4911,5298,5847,6312,6192,4378,7836,5892,6153,6093,6230,6871,8362,3372,4996,5558,5102,5698,6133,5459,6235,6041,5936,6772,6436,6457,6460,6857,5169,5585,5918,4862,5409,6398,7460,7132,6370,6691,4367,6565,7290,6624,1027,3214,5633,6196,5026,6233,4220,6304,5572,5740,6169,6421,6296,6883,6359,6273,5728,4717,6572,7030,7429,6118,2843,5115,7424,7384,7639,8294,7129,4359,6073,5260,6770,6734,6536,6591,6043,5743,6855,7338,4127,8120,7641,6998,7001,7055,7494,7736,7498,6598,6664,4972,7421,7363,7665,7702,6978,5099,6825,6211,5905,5823,7458,6891,6779,7442,7335,6879,5463,5687,5531,6227,6660,7403,6241,6207,4840,4672,6569,6290,7264,7446,7499,6969,6031,6830,6786,5713,6591,5870,4459,7410,6966,7592,8173,6861,6904,6685,6597,7105,7216,7580,7261,7175,6824,5464,7013,7273,7534,7286,5786,6299,6544,6883,6784,7347,7605,7148,7865,4549,6530,7006,7375,7765,7582,6053,5255,6917,7040,7697,7713,7350,6140,5810,6034,6864,7112,6203,7504,5976,8227,7525,7767,7870,7804,8009,8714,7333,6869,4073,7591,7720,8167,8395,7907,7436,7538,7733,7393,7415,8555,6889,6778,4639,7572,7328,8156,7965,3510,5478,6392,7691,7570,7282,7109,6639,5875,7534,7461,7509,5424,8090,6824,7058,7466,7693,7359,7444,7852,4459,22,1096,5566,5986,5847,5138,5107,5259,5686,5035,5315,5992,6536,6852,6269,4094,5495,5445,5698,5629,4669,5499,5634,5146,2425,3910,2277,2424,5087,3959,5260,5323,5668,5191,4649,6234,6606,5729,5375,5008,5582,3228,5170,5501,5319,5532,5611,5047,3786,4585,5557,5267,4128,3623,1749,1787,920,1013,441,2114,3095,1341,1796,2729],\"type\":\"scatter\",\"xaxis\":\"x\",\"yaxis\":\"y\",\"texttemplate\":\"%{text:.2s}\"},{\"mode\":\"markers\",\"text\":[985.0,801.0,1349.0,1562.0,1600.0,1606.0,1510.0,959.0,822.0,1321.0,1263.0,1162.0,1406.0,1421.0,1248.0,1204.0,1000.0,683.0,1650.0,1927.0,1543.0,981.0,986.0,1416.0,1985.0,506.0,431.0,1167.0,1098.0,1096.0,1501.0,1360.0,1526.0,1550.0,1708.0,1005.0,1623.0,1712.0,1530.0,1605.0,1538.0,1746.0,1472.0,1589.0,1913.0,1815.0,2115.0,2475.0,2927.0,1635.0,1812.0,1107.0,1450.0,1917.0,1807.0,1461.0,1969.0,2402.0,1446.0,1851.0,2134.0,1685.0,1944.0,2077.0,605.0,1872.0,2133.0,1891.0,623.0,1977.0,2132.0,2417.0,2046.0,2056.0,2192.0,2744.0,3239.0,3117.0,2471.0,2077.0,2703.0,2121.0,1865.0,2210.0,2496.0,1693.0,2028.0,2425.0,1536.0,1685.0,2227.0,2252.0,3249.0,3115.0,1795.0,2808.0,3141.0,1471.0,2455.0,2895.0,3348.0,2034.0,2162.0,3267.0,3126.0,795.0,3744.0,3429.0,3204.0,3944.0,4189.0,1683.0,4036.0,4191.0,4073.0,4400.0,3872.0,4058.0,4595.0,5312.0,3351.0,4401.0,4451.0,2633.0,4433.0,4608.0,4714.0,4333.0,4362.0,4803.0,4182.0,4864.0,4105.0,3409.0,4553.0,3958.0,4123.0,3855.0,4575.0,4917.0,5805.0,4660.0,4274.0,4492.0,4978.0,4677.0,4679.0,4758.0,4788.0,4098.0,3982.0,3974.0,4968.0,5312.0,5342.0,4906.0,4548.0,4833.0,4401.0,3915.0,4586.0,4966.0,4460.0,5020.0,4891.0,5180.0,3767.0,4844.0,5119.0,4744.0,4010.0,4835.0,4507.0,4790.0,4991.0,5202.0,5305.0,4708.0,4648.0,5225.0,5515.0,5362.0,5119.0,4649.0,6043.0,4665.0,4629.0,4592.0,4040.0,5336.0,4881.0,4086.0,4258.0,4342.0,5084.0,5538.0,5923.0,5302.0,4458.0,4541.0,4332.0,3784.0,3387.0,3285.0,3606.0,3840.0,4590.0,4656.0,4390.0,3846.0,4475.0,4302.0,4266.0,4845.0,3574.0,4576.0,4866.0,4294.0,3785.0,4326.0,4602.0,4780.0,4792.0,4905.0,4150.0,3820.0,4338.0,4725.0,4694.0,3805.0,4153.0,5191.0,3873.0,4758.0,5895.0,5130.0,3542.0,4661.0,1115.0,4334.0,4634.0,5204.0,5058.0,5115.0,4727.0,4484.0,4940.0,3351.0,2710.0,1996.0,1842.0,3544.0,5345.0,5046.0,4713.0,4763.0,4785.0,3659.0,4760.0,4511.0,4274.0,4539.0,3641.0,4352.0,4795.0,2395.0,5423.0,5010.0,4630.0,4120.0,3907.0,4839.0,5202.0,2429.0,2918.0,3570.0,4456.0,4826.0,4765.0,4985.0,5409.0,5511.0,5117.0,4563.0,2416.0,2913.0,3644.0,5217.0,5041.0,4570.0,4748.0,2424.0,4195.0,4304.0,4308.0,4381.0,4187.0,4687.0,3894.0,2659.0,3747.0,627.0,3331.0,3669.0,4068.0,4186.0,3974.0,4046.0,3926.0,3649.0,4035.0,4205.0,4109.0,2933.0,3368.0,4067.0,3717.0,4486.0,4195.0,1817.0,3053.0,3392.0,3663.0,3520.0,2765.0,1607.0,2566.0,1495.0,2792.0,3068.0,3071.0,3867.0,2914.0,3613.0,3727.0,3940.0,3614.0,3485.0,3811.0,2594.0,705.0,3322.0,3620.0,3190.0,2743.0,3310.0,3523.0,3740.0,3709.0,3577.0,2739.0,2431.0,3403.0,3750.0,2660.0,3068.0,2209.0,1011.0,754.0,1317.0,1162.0,2302.0,2423.0,2999.0,2485.0,2294.0,1951.0,2236.0,2368.0,3272.0,4098.0,4521.0,3425.0,2376.0,3598.0,2177.0,4097.0,3214.0,2493.0,2311.0,2298.0,2935.0,3376.0,3292.0,3163.0,1301.0,1977.0,2432.0,4339.0,4270.0,4075.0,3456.0,4023.0,3243.0,3624.0,4509.0,4579.0,3761.0,4151.0,2832.0,2947.0,3784.0,4375.0,2802.0,3830.0,3831.0,2169.0,1529.0,3422.0,3922.0,4169.0,3005.0,4154.0,4318.0,2689.0,3129.0,3777.0,4773.0,5062.0,3487.0,2732.0,3389.0,4322.0,4363.0,1834.0,4990.0,3194.0,4066.0,3423.0,3333.0,3956.0,4916.0,5382.0,4569.0,4118.0,4911.0,5298.0,5847.0,6312.0,6192.0,4378.0,7836.0,5892.0,6153.0,6093.0,6230.0,6871.0,8362.0,3372.0,4996.0,5558.0,5102.0,5698.0,6133.0,5459.0,6235.0,6041.0,5936.0,6772.0,6436.0,6457.0,6460.0,6857.0,5169.0,5585.0,5918.0,4862.0,5409.0,6398.0,7460.0,7132.0,6370.0,6691.0,4367.0,6565.0,7290.0,6624.0,1027.0,3214.0,5633.0,6196.0,5026.0,6233.0,4220.0,6304.0,5572.0,5740.0,6169.0,6421.0,6296.0,6883.0,6359.0,6273.0,5728.0,4717.0,6572.0,7030.0,7429.0,6118.0,2843.0,5115.0,7424.0,7384.0,7639.0,8294.0,7129.0,4359.0,6073.0,5260.0,6770.0,6734.0,6536.0,6591.0,6043.0,5743.0,6855.0,7338.0,4127.0,8120.0,7641.0,6998.0,7001.0,7055.0,7494.0,7736.0,7498.0,6598.0,6664.0,4972.0,7421.0,7363.0,7665.0,7702.0,6978.0,5099.0,6825.0,6211.0,5905.0,5823.0,7458.0,6891.0,6779.0,7442.0,7335.0,6879.0,5463.0,5687.0,5531.0,6227.0,6660.0,7403.0,6241.0,6207.0,4840.0,4672.0,6569.0,6290.0,7264.0,7446.0,7499.0,6969.0,6031.0,6830.0,6786.0,5713.0,6591.0,5870.0,4459.0,7410.0,6966.0,7592.0,8173.0,6861.0,6904.0,6685.0,6597.0,7105.0,7216.0,7580.0,7261.0,7175.0,6824.0,5464.0,7013.0,7273.0,7534.0,7286.0,5786.0,6299.0,6544.0,6883.0,6784.0,7347.0,7605.0,7148.0,7865.0,4549.0,6530.0,7006.0,7375.0,7765.0,7582.0,6053.0,5255.0,6917.0,7040.0,7697.0,7713.0,7350.0,6140.0,5810.0,6034.0,6864.0,7112.0,6203.0,7504.0,5976.0,8227.0,7525.0,7767.0,7870.0,7804.0,8009.0,8714.0,7333.0,6869.0,4073.0,7591.0,7720.0,8167.0,8395.0,7907.0,7436.0,7538.0,7733.0,7393.0,7415.0,8555.0,6889.0,6778.0,4639.0,7572.0,7328.0,8156.0,7965.0,3510.0,5478.0,6392.0,7691.0,7570.0,7282.0,7109.0,6639.0,5875.0,7534.0,7461.0,7509.0,5424.0,8090.0,6824.0,7058.0,7466.0,7693.0,7359.0,7444.0,7852.0,4459.0,22.0,1096.0,5566.0,5986.0,5847.0,5138.0,5107.0,5259.0,5686.0,5035.0,5315.0,5992.0,6536.0,6852.0,6269.0,4094.0,5495.0,5445.0,5698.0,5629.0,4669.0,5499.0,5634.0,5146.0,2425.0,3910.0,2277.0,2424.0,5087.0,3959.0,5260.0,5323.0,5668.0,5191.0,4649.0,6234.0,6606.0,5729.0,5375.0,5008.0,5582.0,3228.0,5170.0,5501.0,5319.0,5532.0,5611.0,5047.0,3786.0,4585.0,5557.0,5267.0,4128.0,3623.0,1749.0,1787.0,920.0,1013.0,441.0,2114.0,3095.0,1341.0,1796.0,2729.0],\"x\":[1,1,1,1,1,1,1,1,1,1,1,1,1,1,1,1,1,1,1,1,1,1,1,1,1,1,1,1,1,1,1,2,2,2,2,2,2,2,2,2,2,2,2,2,2,2,2,2,2,2,2,2,2,2,2,2,2,2,2,3,3,3,3,3,3,3,3,3,3,3,3,3,3,3,3,3,3,3,3,3,3,3,3,3,3,3,3,3,3,3,4,4,4,4,4,4,4,4,4,4,4,4,4,4,4,4,4,4,4,4,4,4,4,4,4,4,4,4,4,4,5,5,5,5,5,5,5,5,5,5,5,5,5,5,5,5,5,5,5,5,5,5,5,5,5,5,5,5,5,5,5,6,6,6,6,6,6,6,6,6,6,6,6,6,6,6,6,6,6,6,6,6,6,6,6,6,6,6,6,6,6,7,7,7,7,7,7,7,7,7,7,7,7,7,7,7,7,7,7,7,7,7,7,7,7,7,7,7,7,7,7,7,8,8,8,8,8,8,8,8,8,8,8,8,8,8,8,8,8,8,8,8,8,8,8,8,8,8,8,8,8,8,8,9,9,9,9,9,9,9,9,9,9,9,9,9,9,9,9,9,9,9,9,9,9,9,9,9,9,9,9,9,9,10,10,10,10,10,10,10,10,10,10,10,10,10,10,10,10,10,10,10,10,10,10,10,10,10,10,10,10,10,10,10,11,11,11,11,11,11,11,11,11,11,11,11,11,11,11,11,11,11,11,11,11,11,11,11,11,11,11,11,11,11,12,12,12,12,12,12,12,12,12,12,12,12,12,12,12,12,12,12,12,12,12,12,12,12,12,12,12,12,12,12,12,1,1,1,1,1,1,1,1,1,1,1,1,1,1,1,1,1,1,1,1,1,1,1,1,1,1,1,1,1,1,1,2,2,2,2,2,2,2,2,2,2,2,2,2,2,2,2,2,2,2,2,2,2,2,2,2,2,2,2,2,3,3,3,3,3,3,3,3,3,3,3,3,3,3,3,3,3,3,3,3,3,3,3,3,3,3,3,3,3,3,3,4,4,4,4,4,4,4,4,4,4,4,4,4,4,4,4,4,4,4,4,4,4,4,4,4,4,4,4,4,4,5,5,5,5,5,5,5,5,5,5,5,5,5,5,5,5,5,5,5,5,5,5,5,5,5,5,5,5,5,5,5,6,6,6,6,6,6,6,6,6,6,6,6,6,6,6,6,6,6,6,6,6,6,6,6,6,6,6,6,6,6,7,7,7,7,7,7,7,7,7,7,7,7,7,7,7,7,7,7,7,7,7,7,7,7,7,7,7,7,7,7,7,8,8,8,8,8,8,8,8,8,8,8,8,8,8,8,8,8,8,8,8,8,8,8,8,8,8,8,8,8,8,8,9,9,9,9,9,9,9,9,9,9,9,9,9,9,9,9,9,9,9,9,9,9,9,9,9,9,9,9,9,9,10,10,10,10,10,10,10,10,10,10,10,10,10,10,10,10,10,10,10,10,10,10,10,10,10,10,10,10,10,10,10,11,11,11,11,11,11,11,11,11,11,11,11,11,11,11,11,11,11,11,11,11,11,11,11,11,11,11,11,11,11,12,12,12,12,12,12,12,12,12,12,12,12,12,12,12,12,12,12,12,12,12,12,12,12,12,12,12,12,12,12,12],\"y\":[985,801,1349,1562,1600,1606,1510,959,822,1321,1263,1162,1406,1421,1248,1204,1000,683,1650,1927,1543,981,986,1416,1985,506,431,1167,1098,1096,1501,1360,1526,1550,1708,1005,1623,1712,1530,1605,1538,1746,1472,1589,1913,1815,2115,2475,2927,1635,1812,1107,1450,1917,1807,1461,1969,2402,1446,1851,2134,1685,1944,2077,605,1872,2133,1891,623,1977,2132,2417,2046,2056,2192,2744,3239,3117,2471,2077,2703,2121,1865,2210,2496,1693,2028,2425,1536,1685,2227,2252,3249,3115,1795,2808,3141,1471,2455,2895,3348,2034,2162,3267,3126,795,3744,3429,3204,3944,4189,1683,4036,4191,4073,4400,3872,4058,4595,5312,3351,4401,4451,2633,4433,4608,4714,4333,4362,4803,4182,4864,4105,3409,4553,3958,4123,3855,4575,4917,5805,4660,4274,4492,4978,4677,4679,4758,4788,4098,3982,3974,4968,5312,5342,4906,4548,4833,4401,3915,4586,4966,4460,5020,4891,5180,3767,4844,5119,4744,4010,4835,4507,4790,4991,5202,5305,4708,4648,5225,5515,5362,5119,4649,6043,4665,4629,4592,4040,5336,4881,4086,4258,4342,5084,5538,5923,5302,4458,4541,4332,3784,3387,3285,3606,3840,4590,4656,4390,3846,4475,4302,4266,4845,3574,4576,4866,4294,3785,4326,4602,4780,4792,4905,4150,3820,4338,4725,4694,3805,4153,5191,3873,4758,5895,5130,3542,4661,1115,4334,4634,5204,5058,5115,4727,4484,4940,3351,2710,1996,1842,3544,5345,5046,4713,4763,4785,3659,4760,4511,4274,4539,3641,4352,4795,2395,5423,5010,4630,4120,3907,4839,5202,2429,2918,3570,4456,4826,4765,4985,5409,5511,5117,4563,2416,2913,3644,5217,5041,4570,4748,2424,4195,4304,4308,4381,4187,4687,3894,2659,3747,627,3331,3669,4068,4186,3974,4046,3926,3649,4035,4205,4109,2933,3368,4067,3717,4486,4195,1817,3053,3392,3663,3520,2765,1607,2566,1495,2792,3068,3071,3867,2914,3613,3727,3940,3614,3485,3811,2594,705,3322,3620,3190,2743,3310,3523,3740,3709,3577,2739,2431,3403,3750,2660,3068,2209,1011,754,1317,1162,2302,2423,2999,2485,2294,1951,2236,2368,3272,4098,4521,3425,2376,3598,2177,4097,3214,2493,2311,2298,2935,3376,3292,3163,1301,1977,2432,4339,4270,4075,3456,4023,3243,3624,4509,4579,3761,4151,2832,2947,3784,4375,2802,3830,3831,2169,1529,3422,3922,4169,3005,4154,4318,2689,3129,3777,4773,5062,3487,2732,3389,4322,4363,1834,4990,3194,4066,3423,3333,3956,4916,5382,4569,4118,4911,5298,5847,6312,6192,4378,7836,5892,6153,6093,6230,6871,8362,3372,4996,5558,5102,5698,6133,5459,6235,6041,5936,6772,6436,6457,6460,6857,5169,5585,5918,4862,5409,6398,7460,7132,6370,6691,4367,6565,7290,6624,1027,3214,5633,6196,5026,6233,4220,6304,5572,5740,6169,6421,6296,6883,6359,6273,5728,4717,6572,7030,7429,6118,2843,5115,7424,7384,7639,8294,7129,4359,6073,5260,6770,6734,6536,6591,6043,5743,6855,7338,4127,8120,7641,6998,7001,7055,7494,7736,7498,6598,6664,4972,7421,7363,7665,7702,6978,5099,6825,6211,5905,5823,7458,6891,6779,7442,7335,6879,5463,5687,5531,6227,6660,7403,6241,6207,4840,4672,6569,6290,7264,7446,7499,6969,6031,6830,6786,5713,6591,5870,4459,7410,6966,7592,8173,6861,6904,6685,6597,7105,7216,7580,7261,7175,6824,5464,7013,7273,7534,7286,5786,6299,6544,6883,6784,7347,7605,7148,7865,4549,6530,7006,7375,7765,7582,6053,5255,6917,7040,7697,7713,7350,6140,5810,6034,6864,7112,6203,7504,5976,8227,7525,7767,7870,7804,8009,8714,7333,6869,4073,7591,7720,8167,8395,7907,7436,7538,7733,7393,7415,8555,6889,6778,4639,7572,7328,8156,7965,3510,5478,6392,7691,7570,7282,7109,6639,5875,7534,7461,7509,5424,8090,6824,7058,7466,7693,7359,7444,7852,4459,22,1096,5566,5986,5847,5138,5107,5259,5686,5035,5315,5992,6536,6852,6269,4094,5495,5445,5698,5629,4669,5499,5634,5146,2425,3910,2277,2424,5087,3959,5260,5323,5668,5191,4649,6234,6606,5729,5375,5008,5582,3228,5170,5501,5319,5532,5611,5047,3786,4585,5557,5267,4128,3623,1749,1787,920,1013,441,2114,3095,1341,1796,2729],\"type\":\"scatter\",\"xaxis\":\"x2\",\"yaxis\":\"y2\",\"texttemplate\":\"%{text:.2s}\"},{\"mode\":\"markers\",\"text\":[985.0,801.0,1349.0,1562.0,1600.0,1606.0,1510.0,959.0,822.0,1321.0,1263.0,1162.0,1406.0,1421.0,1248.0,1204.0,1000.0,683.0,1650.0,1927.0,1543.0,981.0,986.0,1416.0,1985.0,506.0,431.0,1167.0,1098.0,1096.0,1501.0,1360.0,1526.0,1550.0,1708.0,1005.0,1623.0,1712.0,1530.0,1605.0,1538.0,1746.0,1472.0,1589.0,1913.0,1815.0,2115.0,2475.0,2927.0,1635.0,1812.0,1107.0,1450.0,1917.0,1807.0,1461.0,1969.0,2402.0,1446.0,1851.0,2134.0,1685.0,1944.0,2077.0,605.0,1872.0,2133.0,1891.0,623.0,1977.0,2132.0,2417.0,2046.0,2056.0,2192.0,2744.0,3239.0,3117.0,2471.0,2077.0,2703.0,2121.0,1865.0,2210.0,2496.0,1693.0,2028.0,2425.0,1536.0,1685.0,2227.0,2252.0,3249.0,3115.0,1795.0,2808.0,3141.0,1471.0,2455.0,2895.0,3348.0,2034.0,2162.0,3267.0,3126.0,795.0,3744.0,3429.0,3204.0,3944.0,4189.0,1683.0,4036.0,4191.0,4073.0,4400.0,3872.0,4058.0,4595.0,5312.0,3351.0,4401.0,4451.0,2633.0,4433.0,4608.0,4714.0,4333.0,4362.0,4803.0,4182.0,4864.0,4105.0,3409.0,4553.0,3958.0,4123.0,3855.0,4575.0,4917.0,5805.0,4660.0,4274.0,4492.0,4978.0,4677.0,4679.0,4758.0,4788.0,4098.0,3982.0,3974.0,4968.0,5312.0,5342.0,4906.0,4548.0,4833.0,4401.0,3915.0,4586.0,4966.0,4460.0,5020.0,4891.0,5180.0,3767.0,4844.0,5119.0,4744.0,4010.0,4835.0,4507.0,4790.0,4991.0,5202.0,5305.0,4708.0,4648.0,5225.0,5515.0,5362.0,5119.0,4649.0,6043.0,4665.0,4629.0,4592.0,4040.0,5336.0,4881.0,4086.0,4258.0,4342.0,5084.0,5538.0,5923.0,5302.0,4458.0,4541.0,4332.0,3784.0,3387.0,3285.0,3606.0,3840.0,4590.0,4656.0,4390.0,3846.0,4475.0,4302.0,4266.0,4845.0,3574.0,4576.0,4866.0,4294.0,3785.0,4326.0,4602.0,4780.0,4792.0,4905.0,4150.0,3820.0,4338.0,4725.0,4694.0,3805.0,4153.0,5191.0,3873.0,4758.0,5895.0,5130.0,3542.0,4661.0,1115.0,4334.0,4634.0,5204.0,5058.0,5115.0,4727.0,4484.0,4940.0,3351.0,2710.0,1996.0,1842.0,3544.0,5345.0,5046.0,4713.0,4763.0,4785.0,3659.0,4760.0,4511.0,4274.0,4539.0,3641.0,4352.0,4795.0,2395.0,5423.0,5010.0,4630.0,4120.0,3907.0,4839.0,5202.0,2429.0,2918.0,3570.0,4456.0,4826.0,4765.0,4985.0,5409.0,5511.0,5117.0,4563.0,2416.0,2913.0,3644.0,5217.0,5041.0,4570.0,4748.0,2424.0,4195.0,4304.0,4308.0,4381.0,4187.0,4687.0,3894.0,2659.0,3747.0,627.0,3331.0,3669.0,4068.0,4186.0,3974.0,4046.0,3926.0,3649.0,4035.0,4205.0,4109.0,2933.0,3368.0,4067.0,3717.0,4486.0,4195.0,1817.0,3053.0,3392.0,3663.0,3520.0,2765.0,1607.0,2566.0,1495.0,2792.0,3068.0,3071.0,3867.0,2914.0,3613.0,3727.0,3940.0,3614.0,3485.0,3811.0,2594.0,705.0,3322.0,3620.0,3190.0,2743.0,3310.0,3523.0,3740.0,3709.0,3577.0,2739.0,2431.0,3403.0,3750.0,2660.0,3068.0,2209.0,1011.0,754.0,1317.0,1162.0,2302.0,2423.0,2999.0,2485.0,2294.0,1951.0,2236.0,2368.0,3272.0,4098.0,4521.0,3425.0,2376.0,3598.0,2177.0,4097.0,3214.0,2493.0,2311.0,2298.0,2935.0,3376.0,3292.0,3163.0,1301.0,1977.0,2432.0,4339.0,4270.0,4075.0,3456.0,4023.0,3243.0,3624.0,4509.0,4579.0,3761.0,4151.0,2832.0,2947.0,3784.0,4375.0,2802.0,3830.0,3831.0,2169.0,1529.0,3422.0,3922.0,4169.0,3005.0,4154.0,4318.0,2689.0,3129.0,3777.0,4773.0,5062.0,3487.0,2732.0,3389.0,4322.0,4363.0,1834.0,4990.0,3194.0,4066.0,3423.0,3333.0,3956.0,4916.0,5382.0,4569.0,4118.0,4911.0,5298.0,5847.0,6312.0,6192.0,4378.0,7836.0,5892.0,6153.0,6093.0,6230.0,6871.0,8362.0,3372.0,4996.0,5558.0,5102.0,5698.0,6133.0,5459.0,6235.0,6041.0,5936.0,6772.0,6436.0,6457.0,6460.0,6857.0,5169.0,5585.0,5918.0,4862.0,5409.0,6398.0,7460.0,7132.0,6370.0,6691.0,4367.0,6565.0,7290.0,6624.0,1027.0,3214.0,5633.0,6196.0,5026.0,6233.0,4220.0,6304.0,5572.0,5740.0,6169.0,6421.0,6296.0,6883.0,6359.0,6273.0,5728.0,4717.0,6572.0,7030.0,7429.0,6118.0,2843.0,5115.0,7424.0,7384.0,7639.0,8294.0,7129.0,4359.0,6073.0,5260.0,6770.0,6734.0,6536.0,6591.0,6043.0,5743.0,6855.0,7338.0,4127.0,8120.0,7641.0,6998.0,7001.0,7055.0,7494.0,7736.0,7498.0,6598.0,6664.0,4972.0,7421.0,7363.0,7665.0,7702.0,6978.0,5099.0,6825.0,6211.0,5905.0,5823.0,7458.0,6891.0,6779.0,7442.0,7335.0,6879.0,5463.0,5687.0,5531.0,6227.0,6660.0,7403.0,6241.0,6207.0,4840.0,4672.0,6569.0,6290.0,7264.0,7446.0,7499.0,6969.0,6031.0,6830.0,6786.0,5713.0,6591.0,5870.0,4459.0,7410.0,6966.0,7592.0,8173.0,6861.0,6904.0,6685.0,6597.0,7105.0,7216.0,7580.0,7261.0,7175.0,6824.0,5464.0,7013.0,7273.0,7534.0,7286.0,5786.0,6299.0,6544.0,6883.0,6784.0,7347.0,7605.0,7148.0,7865.0,4549.0,6530.0,7006.0,7375.0,7765.0,7582.0,6053.0,5255.0,6917.0,7040.0,7697.0,7713.0,7350.0,6140.0,5810.0,6034.0,6864.0,7112.0,6203.0,7504.0,5976.0,8227.0,7525.0,7767.0,7870.0,7804.0,8009.0,8714.0,7333.0,6869.0,4073.0,7591.0,7720.0,8167.0,8395.0,7907.0,7436.0,7538.0,7733.0,7393.0,7415.0,8555.0,6889.0,6778.0,4639.0,7572.0,7328.0,8156.0,7965.0,3510.0,5478.0,6392.0,7691.0,7570.0,7282.0,7109.0,6639.0,5875.0,7534.0,7461.0,7509.0,5424.0,8090.0,6824.0,7058.0,7466.0,7693.0,7359.0,7444.0,7852.0,4459.0,22.0,1096.0,5566.0,5986.0,5847.0,5138.0,5107.0,5259.0,5686.0,5035.0,5315.0,5992.0,6536.0,6852.0,6269.0,4094.0,5495.0,5445.0,5698.0,5629.0,4669.0,5499.0,5634.0,5146.0,2425.0,3910.0,2277.0,2424.0,5087.0,3959.0,5260.0,5323.0,5668.0,5191.0,4649.0,6234.0,6606.0,5729.0,5375.0,5008.0,5582.0,3228.0,5170.0,5501.0,5319.0,5532.0,5611.0,5047.0,3786.0,4585.0,5557.0,5267.0,4128.0,3623.0,1749.0,1787.0,920.0,1013.0,441.0,2114.0,3095.0,1341.0,1796.0,2729.0],\"x\":[0,0,0,0,0,0,0,0,0,0,0,0,0,0,0,0,1,0,0,0,0,0,0,0,0,0,0,0,0,0,0,0,0,0,0,0,0,0,0,0,0,0,0,0,0,0,0,0,0,0,0,1,0,0,0,0,0,0,0,0,0,0,0,0,0,0,0,0,0,0,0,0,0,0,0,0,0,0,0,0,0,0,0,0,0,0,0,0,0,0,0,0,0,0,0,0,0,0,0,0,0,0,0,0,1,0,0,0,0,0,0,0,0,0,0,0,0,0,0,0,0,0,0,0,0,0,0,0,0,0,0,0,0,0,0,0,0,0,0,0,0,0,0,0,0,0,0,0,0,1,0,0,0,0,0,0,0,0,0,0,0,0,0,0,0,0,0,0,0,0,0,0,0,0,0,0,0,0,0,0,0,0,0,0,1,0,0,0,0,0,0,0,0,0,0,0,0,0,0,0,0,0,0,0,0,0,0,0,0,0,0,0,0,0,0,0,0,0,0,0,0,0,0,0,0,0,0,0,0,0,0,0,0,0,0,0,0,0,0,0,0,0,0,0,0,0,0,1,0,0,0,0,0,0,0,0,0,0,0,0,0,0,0,0,0,0,0,0,0,0,0,0,0,0,0,0,0,0,0,0,0,0,1,0,0,0,0,0,0,0,0,0,0,0,0,0,0,0,0,0,0,0,0,0,0,0,0,0,0,0,0,0,0,0,1,0,0,0,0,0,0,0,0,0,0,0,0,1,0,0,0,0,0,0,0,0,0,0,0,0,0,0,0,0,0,0,0,0,0,0,0,0,0,0,0,0,0,0,0,1,0,0,0,0,0,0,1,0,0,0,0,0,0,0,0,0,0,0,0,0,1,0,0,0,0,0,0,0,0,0,0,0,0,0,0,0,0,0,0,0,0,0,0,0,0,0,0,0,0,0,0,0,0,0,0,1,0,0,0,0,0,0,0,0,0,0,0,0,0,0,0,0,0,0,0,0,0,0,0,0,0,0,0,0,0,0,0,0,0,0,0,0,0,0,0,0,0,0,0,0,0,0,0,0,0,0,0,0,0,0,0,1,0,0,0,0,0,0,0,0,0,0,0,0,0,0,0,0,0,0,0,0,0,0,0,0,0,0,0,0,0,0,0,0,0,0,0,0,0,0,0,0,0,1,0,0,0,0,0,0,0,0,0,0,0,0,0,0,0,0,0,0,0,0,0,0,0,0,0,0,0,0,0,0,0,0,0,0,0,0,1,0,0,0,0,0,0,0,0,0,0,0,0,0,0,0,0,0,0,0,0,0,0,0,0,0,0,0,0,0,0,0,0,0,0,0,0,0,0,0,0,0,0,0,0,0,0,0,0,0,0,0,0,0,0,0,0,0,0,0,0,1,0,0,0,0,0,0,0,0,0,0,0,0,0,0,0,0,0,0,0,0,0,0,0,0,0,0,0,0,0,0,0,0,0,0,1,0,0,0,0,0,0,0,0,0,0,0,0,0,0,0,0,0,0,0,0,0,0,0,0,0,0,0,0,0,0,0,0,0,0,1,0,0,0,0,0,0,0,0,0,1,0,0,0,0,0,0,0,0,0,0,0,0,0,0,0,0,0,0,0,0,0,0,0,0,0,0,0,0,0,0,0,0,1,0,0,0,0,0,0],\"y\":[985,801,1349,1562,1600,1606,1510,959,822,1321,1263,1162,1406,1421,1248,1204,1000,683,1650,1927,1543,981,986,1416,1985,506,431,1167,1098,1096,1501,1360,1526,1550,1708,1005,1623,1712,1530,1605,1538,1746,1472,1589,1913,1815,2115,2475,2927,1635,1812,1107,1450,1917,1807,1461,1969,2402,1446,1851,2134,1685,1944,2077,605,1872,2133,1891,623,1977,2132,2417,2046,2056,2192,2744,3239,3117,2471,2077,2703,2121,1865,2210,2496,1693,2028,2425,1536,1685,2227,2252,3249,3115,1795,2808,3141,1471,2455,2895,3348,2034,2162,3267,3126,795,3744,3429,3204,3944,4189,1683,4036,4191,4073,4400,3872,4058,4595,5312,3351,4401,4451,2633,4433,4608,4714,4333,4362,4803,4182,4864,4105,3409,4553,3958,4123,3855,4575,4917,5805,4660,4274,4492,4978,4677,4679,4758,4788,4098,3982,3974,4968,5312,5342,4906,4548,4833,4401,3915,4586,4966,4460,5020,4891,5180,3767,4844,5119,4744,4010,4835,4507,4790,4991,5202,5305,4708,4648,5225,5515,5362,5119,4649,6043,4665,4629,4592,4040,5336,4881,4086,4258,4342,5084,5538,5923,5302,4458,4541,4332,3784,3387,3285,3606,3840,4590,4656,4390,3846,4475,4302,4266,4845,3574,4576,4866,4294,3785,4326,4602,4780,4792,4905,4150,3820,4338,4725,4694,3805,4153,5191,3873,4758,5895,5130,3542,4661,1115,4334,4634,5204,5058,5115,4727,4484,4940,3351,2710,1996,1842,3544,5345,5046,4713,4763,4785,3659,4760,4511,4274,4539,3641,4352,4795,2395,5423,5010,4630,4120,3907,4839,5202,2429,2918,3570,4456,4826,4765,4985,5409,5511,5117,4563,2416,2913,3644,5217,5041,4570,4748,2424,4195,4304,4308,4381,4187,4687,3894,2659,3747,627,3331,3669,4068,4186,3974,4046,3926,3649,4035,4205,4109,2933,3368,4067,3717,4486,4195,1817,3053,3392,3663,3520,2765,1607,2566,1495,2792,3068,3071,3867,2914,3613,3727,3940,3614,3485,3811,2594,705,3322,3620,3190,2743,3310,3523,3740,3709,3577,2739,2431,3403,3750,2660,3068,2209,1011,754,1317,1162,2302,2423,2999,2485,2294,1951,2236,2368,3272,4098,4521,3425,2376,3598,2177,4097,3214,2493,2311,2298,2935,3376,3292,3163,1301,1977,2432,4339,4270,4075,3456,4023,3243,3624,4509,4579,3761,4151,2832,2947,3784,4375,2802,3830,3831,2169,1529,3422,3922,4169,3005,4154,4318,2689,3129,3777,4773,5062,3487,2732,3389,4322,4363,1834,4990,3194,4066,3423,3333,3956,4916,5382,4569,4118,4911,5298,5847,6312,6192,4378,7836,5892,6153,6093,6230,6871,8362,3372,4996,5558,5102,5698,6133,5459,6235,6041,5936,6772,6436,6457,6460,6857,5169,5585,5918,4862,5409,6398,7460,7132,6370,6691,4367,6565,7290,6624,1027,3214,5633,6196,5026,6233,4220,6304,5572,5740,6169,6421,6296,6883,6359,6273,5728,4717,6572,7030,7429,6118,2843,5115,7424,7384,7639,8294,7129,4359,6073,5260,6770,6734,6536,6591,6043,5743,6855,7338,4127,8120,7641,6998,7001,7055,7494,7736,7498,6598,6664,4972,7421,7363,7665,7702,6978,5099,6825,6211,5905,5823,7458,6891,6779,7442,7335,6879,5463,5687,5531,6227,6660,7403,6241,6207,4840,4672,6569,6290,7264,7446,7499,6969,6031,6830,6786,5713,6591,5870,4459,7410,6966,7592,8173,6861,6904,6685,6597,7105,7216,7580,7261,7175,6824,5464,7013,7273,7534,7286,5786,6299,6544,6883,6784,7347,7605,7148,7865,4549,6530,7006,7375,7765,7582,6053,5255,6917,7040,7697,7713,7350,6140,5810,6034,6864,7112,6203,7504,5976,8227,7525,7767,7870,7804,8009,8714,7333,6869,4073,7591,7720,8167,8395,7907,7436,7538,7733,7393,7415,8555,6889,6778,4639,7572,7328,8156,7965,3510,5478,6392,7691,7570,7282,7109,6639,5875,7534,7461,7509,5424,8090,6824,7058,7466,7693,7359,7444,7852,4459,22,1096,5566,5986,5847,5138,5107,5259,5686,5035,5315,5992,6536,6852,6269,4094,5495,5445,5698,5629,4669,5499,5634,5146,2425,3910,2277,2424,5087,3959,5260,5323,5668,5191,4649,6234,6606,5729,5375,5008,5582,3228,5170,5501,5319,5532,5611,5047,3786,4585,5557,5267,4128,3623,1749,1787,920,1013,441,2114,3095,1341,1796,2729],\"type\":\"scatter\",\"xaxis\":\"x3\",\"yaxis\":\"y3\",\"texttemplate\":\"%{text:.2s}\"},{\"mode\":\"markers\",\"text\":[985.0,801.0,1349.0,1562.0,1600.0,1606.0,1510.0,959.0,822.0,1321.0,1263.0,1162.0,1406.0,1421.0,1248.0,1204.0,1000.0,683.0,1650.0,1927.0,1543.0,981.0,986.0,1416.0,1985.0,506.0,431.0,1167.0,1098.0,1096.0,1501.0,1360.0,1526.0,1550.0,1708.0,1005.0,1623.0,1712.0,1530.0,1605.0,1538.0,1746.0,1472.0,1589.0,1913.0,1815.0,2115.0,2475.0,2927.0,1635.0,1812.0,1107.0,1450.0,1917.0,1807.0,1461.0,1969.0,2402.0,1446.0,1851.0,2134.0,1685.0,1944.0,2077.0,605.0,1872.0,2133.0,1891.0,623.0,1977.0,2132.0,2417.0,2046.0,2056.0,2192.0,2744.0,3239.0,3117.0,2471.0,2077.0,2703.0,2121.0,1865.0,2210.0,2496.0,1693.0,2028.0,2425.0,1536.0,1685.0,2227.0,2252.0,3249.0,3115.0,1795.0,2808.0,3141.0,1471.0,2455.0,2895.0,3348.0,2034.0,2162.0,3267.0,3126.0,795.0,3744.0,3429.0,3204.0,3944.0,4189.0,1683.0,4036.0,4191.0,4073.0,4400.0,3872.0,4058.0,4595.0,5312.0,3351.0,4401.0,4451.0,2633.0,4433.0,4608.0,4714.0,4333.0,4362.0,4803.0,4182.0,4864.0,4105.0,3409.0,4553.0,3958.0,4123.0,3855.0,4575.0,4917.0,5805.0,4660.0,4274.0,4492.0,4978.0,4677.0,4679.0,4758.0,4788.0,4098.0,3982.0,3974.0,4968.0,5312.0,5342.0,4906.0,4548.0,4833.0,4401.0,3915.0,4586.0,4966.0,4460.0,5020.0,4891.0,5180.0,3767.0,4844.0,5119.0,4744.0,4010.0,4835.0,4507.0,4790.0,4991.0,5202.0,5305.0,4708.0,4648.0,5225.0,5515.0,5362.0,5119.0,4649.0,6043.0,4665.0,4629.0,4592.0,4040.0,5336.0,4881.0,4086.0,4258.0,4342.0,5084.0,5538.0,5923.0,5302.0,4458.0,4541.0,4332.0,3784.0,3387.0,3285.0,3606.0,3840.0,4590.0,4656.0,4390.0,3846.0,4475.0,4302.0,4266.0,4845.0,3574.0,4576.0,4866.0,4294.0,3785.0,4326.0,4602.0,4780.0,4792.0,4905.0,4150.0,3820.0,4338.0,4725.0,4694.0,3805.0,4153.0,5191.0,3873.0,4758.0,5895.0,5130.0,3542.0,4661.0,1115.0,4334.0,4634.0,5204.0,5058.0,5115.0,4727.0,4484.0,4940.0,3351.0,2710.0,1996.0,1842.0,3544.0,5345.0,5046.0,4713.0,4763.0,4785.0,3659.0,4760.0,4511.0,4274.0,4539.0,3641.0,4352.0,4795.0,2395.0,5423.0,5010.0,4630.0,4120.0,3907.0,4839.0,5202.0,2429.0,2918.0,3570.0,4456.0,4826.0,4765.0,4985.0,5409.0,5511.0,5117.0,4563.0,2416.0,2913.0,3644.0,5217.0,5041.0,4570.0,4748.0,2424.0,4195.0,4304.0,4308.0,4381.0,4187.0,4687.0,3894.0,2659.0,3747.0,627.0,3331.0,3669.0,4068.0,4186.0,3974.0,4046.0,3926.0,3649.0,4035.0,4205.0,4109.0,2933.0,3368.0,4067.0,3717.0,4486.0,4195.0,1817.0,3053.0,3392.0,3663.0,3520.0,2765.0,1607.0,2566.0,1495.0,2792.0,3068.0,3071.0,3867.0,2914.0,3613.0,3727.0,3940.0,3614.0,3485.0,3811.0,2594.0,705.0,3322.0,3620.0,3190.0,2743.0,3310.0,3523.0,3740.0,3709.0,3577.0,2739.0,2431.0,3403.0,3750.0,2660.0,3068.0,2209.0,1011.0,754.0,1317.0,1162.0,2302.0,2423.0,2999.0,2485.0,2294.0,1951.0,2236.0,2368.0,3272.0,4098.0,4521.0,3425.0,2376.0,3598.0,2177.0,4097.0,3214.0,2493.0,2311.0,2298.0,2935.0,3376.0,3292.0,3163.0,1301.0,1977.0,2432.0,4339.0,4270.0,4075.0,3456.0,4023.0,3243.0,3624.0,4509.0,4579.0,3761.0,4151.0,2832.0,2947.0,3784.0,4375.0,2802.0,3830.0,3831.0,2169.0,1529.0,3422.0,3922.0,4169.0,3005.0,4154.0,4318.0,2689.0,3129.0,3777.0,4773.0,5062.0,3487.0,2732.0,3389.0,4322.0,4363.0,1834.0,4990.0,3194.0,4066.0,3423.0,3333.0,3956.0,4916.0,5382.0,4569.0,4118.0,4911.0,5298.0,5847.0,6312.0,6192.0,4378.0,7836.0,5892.0,6153.0,6093.0,6230.0,6871.0,8362.0,3372.0,4996.0,5558.0,5102.0,5698.0,6133.0,5459.0,6235.0,6041.0,5936.0,6772.0,6436.0,6457.0,6460.0,6857.0,5169.0,5585.0,5918.0,4862.0,5409.0,6398.0,7460.0,7132.0,6370.0,6691.0,4367.0,6565.0,7290.0,6624.0,1027.0,3214.0,5633.0,6196.0,5026.0,6233.0,4220.0,6304.0,5572.0,5740.0,6169.0,6421.0,6296.0,6883.0,6359.0,6273.0,5728.0,4717.0,6572.0,7030.0,7429.0,6118.0,2843.0,5115.0,7424.0,7384.0,7639.0,8294.0,7129.0,4359.0,6073.0,5260.0,6770.0,6734.0,6536.0,6591.0,6043.0,5743.0,6855.0,7338.0,4127.0,8120.0,7641.0,6998.0,7001.0,7055.0,7494.0,7736.0,7498.0,6598.0,6664.0,4972.0,7421.0,7363.0,7665.0,7702.0,6978.0,5099.0,6825.0,6211.0,5905.0,5823.0,7458.0,6891.0,6779.0,7442.0,7335.0,6879.0,5463.0,5687.0,5531.0,6227.0,6660.0,7403.0,6241.0,6207.0,4840.0,4672.0,6569.0,6290.0,7264.0,7446.0,7499.0,6969.0,6031.0,6830.0,6786.0,5713.0,6591.0,5870.0,4459.0,7410.0,6966.0,7592.0,8173.0,6861.0,6904.0,6685.0,6597.0,7105.0,7216.0,7580.0,7261.0,7175.0,6824.0,5464.0,7013.0,7273.0,7534.0,7286.0,5786.0,6299.0,6544.0,6883.0,6784.0,7347.0,7605.0,7148.0,7865.0,4549.0,6530.0,7006.0,7375.0,7765.0,7582.0,6053.0,5255.0,6917.0,7040.0,7697.0,7713.0,7350.0,6140.0,5810.0,6034.0,6864.0,7112.0,6203.0,7504.0,5976.0,8227.0,7525.0,7767.0,7870.0,7804.0,8009.0,8714.0,7333.0,6869.0,4073.0,7591.0,7720.0,8167.0,8395.0,7907.0,7436.0,7538.0,7733.0,7393.0,7415.0,8555.0,6889.0,6778.0,4639.0,7572.0,7328.0,8156.0,7965.0,3510.0,5478.0,6392.0,7691.0,7570.0,7282.0,7109.0,6639.0,5875.0,7534.0,7461.0,7509.0,5424.0,8090.0,6824.0,7058.0,7466.0,7693.0,7359.0,7444.0,7852.0,4459.0,22.0,1096.0,5566.0,5986.0,5847.0,5138.0,5107.0,5259.0,5686.0,5035.0,5315.0,5992.0,6536.0,6852.0,6269.0,4094.0,5495.0,5445.0,5698.0,5629.0,4669.0,5499.0,5634.0,5146.0,2425.0,3910.0,2277.0,2424.0,5087.0,3959.0,5260.0,5323.0,5668.0,5191.0,4649.0,6234.0,6606.0,5729.0,5375.0,5008.0,5582.0,3228.0,5170.0,5501.0,5319.0,5532.0,5611.0,5047.0,3786.0,4585.0,5557.0,5267.0,4128.0,3623.0,1749.0,1787.0,920.0,1013.0,441.0,2114.0,3095.0,1341.0,1796.0,2729.0],\"x\":[0,0,1,1,1,1,1,0,0,1,1,1,1,1,0,0,0,1,1,1,1,0,0,1,1,1,1,1,0,0,1,1,1,1,1,0,0,1,1,1,1,1,0,0,1,1,1,1,1,0,0,0,1,1,1,1,0,0,1,1,1,1,1,0,0,1,1,1,1,1,0,0,1,1,1,1,1,0,0,1,1,1,1,1,0,0,1,1,1,1,1,0,0,1,1,1,1,1,0,0,1,1,1,1,0,0,0,1,1,1,1,1,0,0,1,1,1,1,1,0,0,1,1,1,1,1,0,0,1,1,1,1,1,0,0,1,1,1,1,1,0,0,1,1,1,1,1,0,0,0,1,1,1,1,0,0,1,1,1,1,1,0,0,1,1,1,1,1,0,0,1,1,1,1,1,0,0,1,1,1,1,1,0,0,0,1,1,1,1,0,0,1,1,1,1,1,0,0,1,1,1,1,1,0,0,1,1,1,1,1,0,0,1,1,1,1,1,0,0,1,1,1,1,1,0,0,1,1,1,1,1,0,0,1,1,1,1,1,0,0,1,1,1,1,1,0,0,0,1,1,1,1,0,0,1,1,1,1,1,0,0,1,1,1,1,1,0,0,1,1,1,1,1,0,0,1,1,1,1,1,0,0,0,1,1,1,1,0,0,1,1,1,1,1,0,0,1,1,1,1,1,0,0,1,1,1,1,1,0,0,1,1,1,1,0,0,0,1,1,1,1,1,0,0,1,1,1,0,1,0,0,1,1,1,1,1,0,0,1,1,1,1,1,0,0,1,1,1,1,1,0,0,1,1,1,1,1,0,0,0,1,1,1,1,0,0,0,1,1,1,1,0,0,1,1,1,1,1,0,0,0,1,1,1,1,0,0,1,1,1,1,1,0,0,1,1,1,1,1,0,0,1,1,1,1,1,0,0,1,1,1,1,1,0,0,0,1,1,1,1,0,0,1,1,1,1,1,0,0,1,1,1,1,1,0,0,1,1,1,1,1,0,0,1,1,1,1,1,0,0,1,1,1,1,1,0,0,1,1,1,1,1,0,0,1,1,1,1,1,0,0,0,1,1,1,1,0,0,1,1,1,1,1,0,0,1,1,1,1,1,0,0,1,1,1,1,1,0,0,1,1,1,1,1,0,0,1,1,1,1,1,0,0,0,1,1,1,1,0,0,1,1,1,1,1,0,0,1,1,1,1,1,0,0,1,1,1,1,1,0,0,1,1,1,1,1,0,0,1,1,0,1,1,0,0,1,1,1,1,1,0,0,1,1,1,1,1,0,0,1,1,1,1,1,0,0,1,1,1,1,1,0,0,1,1,1,1,1,0,0,1,1,1,1,1,0,0,1,1,1,1,1,0,0,1,1,1,1,1,0,0,0,1,1,1,1,0,0,1,1,1,1,1,0,0,1,1,1,1,1,0,0,1,1,1,1,1,0,0,1,1,1,1,1,0,0,0,1,1,1,1,0,0,1,1,1,1,1,0,0,1,1,1,1,1,0,0,1,1,1,1,1,0,0,1,1,1,1,1,0,0,0,1,1,1,1,0,0,1,1,1,0,1,0,0,1,1,1,1,1,0,0,1,1,1,1,1,0,0,1,1,1,1,1,0,0,1,1,1,1,1,0,0,1,0,1,1,1,0,0,1],\"y\":[985,801,1349,1562,1600,1606,1510,959,822,1321,1263,1162,1406,1421,1248,1204,1000,683,1650,1927,1543,981,986,1416,1985,506,431,1167,1098,1096,1501,1360,1526,1550,1708,1005,1623,1712,1530,1605,1538,1746,1472,1589,1913,1815,2115,2475,2927,1635,1812,1107,1450,1917,1807,1461,1969,2402,1446,1851,2134,1685,1944,2077,605,1872,2133,1891,623,1977,2132,2417,2046,2056,2192,2744,3239,3117,2471,2077,2703,2121,1865,2210,2496,1693,2028,2425,1536,1685,2227,2252,3249,3115,1795,2808,3141,1471,2455,2895,3348,2034,2162,3267,3126,795,3744,3429,3204,3944,4189,1683,4036,4191,4073,4400,3872,4058,4595,5312,3351,4401,4451,2633,4433,4608,4714,4333,4362,4803,4182,4864,4105,3409,4553,3958,4123,3855,4575,4917,5805,4660,4274,4492,4978,4677,4679,4758,4788,4098,3982,3974,4968,5312,5342,4906,4548,4833,4401,3915,4586,4966,4460,5020,4891,5180,3767,4844,5119,4744,4010,4835,4507,4790,4991,5202,5305,4708,4648,5225,5515,5362,5119,4649,6043,4665,4629,4592,4040,5336,4881,4086,4258,4342,5084,5538,5923,5302,4458,4541,4332,3784,3387,3285,3606,3840,4590,4656,4390,3846,4475,4302,4266,4845,3574,4576,4866,4294,3785,4326,4602,4780,4792,4905,4150,3820,4338,4725,4694,3805,4153,5191,3873,4758,5895,5130,3542,4661,1115,4334,4634,5204,5058,5115,4727,4484,4940,3351,2710,1996,1842,3544,5345,5046,4713,4763,4785,3659,4760,4511,4274,4539,3641,4352,4795,2395,5423,5010,4630,4120,3907,4839,5202,2429,2918,3570,4456,4826,4765,4985,5409,5511,5117,4563,2416,2913,3644,5217,5041,4570,4748,2424,4195,4304,4308,4381,4187,4687,3894,2659,3747,627,3331,3669,4068,4186,3974,4046,3926,3649,4035,4205,4109,2933,3368,4067,3717,4486,4195,1817,3053,3392,3663,3520,2765,1607,2566,1495,2792,3068,3071,3867,2914,3613,3727,3940,3614,3485,3811,2594,705,3322,3620,3190,2743,3310,3523,3740,3709,3577,2739,2431,3403,3750,2660,3068,2209,1011,754,1317,1162,2302,2423,2999,2485,2294,1951,2236,2368,3272,4098,4521,3425,2376,3598,2177,4097,3214,2493,2311,2298,2935,3376,3292,3163,1301,1977,2432,4339,4270,4075,3456,4023,3243,3624,4509,4579,3761,4151,2832,2947,3784,4375,2802,3830,3831,2169,1529,3422,3922,4169,3005,4154,4318,2689,3129,3777,4773,5062,3487,2732,3389,4322,4363,1834,4990,3194,4066,3423,3333,3956,4916,5382,4569,4118,4911,5298,5847,6312,6192,4378,7836,5892,6153,6093,6230,6871,8362,3372,4996,5558,5102,5698,6133,5459,6235,6041,5936,6772,6436,6457,6460,6857,5169,5585,5918,4862,5409,6398,7460,7132,6370,6691,4367,6565,7290,6624,1027,3214,5633,6196,5026,6233,4220,6304,5572,5740,6169,6421,6296,6883,6359,6273,5728,4717,6572,7030,7429,6118,2843,5115,7424,7384,7639,8294,7129,4359,6073,5260,6770,6734,6536,6591,6043,5743,6855,7338,4127,8120,7641,6998,7001,7055,7494,7736,7498,6598,6664,4972,7421,7363,7665,7702,6978,5099,6825,6211,5905,5823,7458,6891,6779,7442,7335,6879,5463,5687,5531,6227,6660,7403,6241,6207,4840,4672,6569,6290,7264,7446,7499,6969,6031,6830,6786,5713,6591,5870,4459,7410,6966,7592,8173,6861,6904,6685,6597,7105,7216,7580,7261,7175,6824,5464,7013,7273,7534,7286,5786,6299,6544,6883,6784,7347,7605,7148,7865,4549,6530,7006,7375,7765,7582,6053,5255,6917,7040,7697,7713,7350,6140,5810,6034,6864,7112,6203,7504,5976,8227,7525,7767,7870,7804,8009,8714,7333,6869,4073,7591,7720,8167,8395,7907,7436,7538,7733,7393,7415,8555,6889,6778,4639,7572,7328,8156,7965,3510,5478,6392,7691,7570,7282,7109,6639,5875,7534,7461,7509,5424,8090,6824,7058,7466,7693,7359,7444,7852,4459,22,1096,5566,5986,5847,5138,5107,5259,5686,5035,5315,5992,6536,6852,6269,4094,5495,5445,5698,5629,4669,5499,5634,5146,2425,3910,2277,2424,5087,3959,5260,5323,5668,5191,4649,6234,6606,5729,5375,5008,5582,3228,5170,5501,5319,5532,5611,5047,3786,4585,5557,5267,4128,3623,1749,1787,920,1013,441,2114,3095,1341,1796,2729],\"type\":\"scatter\",\"xaxis\":\"x4\",\"yaxis\":\"y4\",\"texttemplate\":\"%{text:.2s}\"},{\"mode\":\"markers\",\"text\":[985.0,801.0,1349.0,1562.0,1600.0,1606.0,1510.0,959.0,822.0,1321.0,1263.0,1162.0,1406.0,1421.0,1248.0,1204.0,1000.0,683.0,1650.0,1927.0,1543.0,981.0,986.0,1416.0,1985.0,506.0,431.0,1167.0,1098.0,1096.0,1501.0,1360.0,1526.0,1550.0,1708.0,1005.0,1623.0,1712.0,1530.0,1605.0,1538.0,1746.0,1472.0,1589.0,1913.0,1815.0,2115.0,2475.0,2927.0,1635.0,1812.0,1107.0,1450.0,1917.0,1807.0,1461.0,1969.0,2402.0,1446.0,1851.0,2134.0,1685.0,1944.0,2077.0,605.0,1872.0,2133.0,1891.0,623.0,1977.0,2132.0,2417.0,2046.0,2056.0,2192.0,2744.0,3239.0,3117.0,2471.0,2077.0,2703.0,2121.0,1865.0,2210.0,2496.0,1693.0,2028.0,2425.0,1536.0,1685.0,2227.0,2252.0,3249.0,3115.0,1795.0,2808.0,3141.0,1471.0,2455.0,2895.0,3348.0,2034.0,2162.0,3267.0,3126.0,795.0,3744.0,3429.0,3204.0,3944.0,4189.0,1683.0,4036.0,4191.0,4073.0,4400.0,3872.0,4058.0,4595.0,5312.0,3351.0,4401.0,4451.0,2633.0,4433.0,4608.0,4714.0,4333.0,4362.0,4803.0,4182.0,4864.0,4105.0,3409.0,4553.0,3958.0,4123.0,3855.0,4575.0,4917.0,5805.0,4660.0,4274.0,4492.0,4978.0,4677.0,4679.0,4758.0,4788.0,4098.0,3982.0,3974.0,4968.0,5312.0,5342.0,4906.0,4548.0,4833.0,4401.0,3915.0,4586.0,4966.0,4460.0,5020.0,4891.0,5180.0,3767.0,4844.0,5119.0,4744.0,4010.0,4835.0,4507.0,4790.0,4991.0,5202.0,5305.0,4708.0,4648.0,5225.0,5515.0,5362.0,5119.0,4649.0,6043.0,4665.0,4629.0,4592.0,4040.0,5336.0,4881.0,4086.0,4258.0,4342.0,5084.0,5538.0,5923.0,5302.0,4458.0,4541.0,4332.0,3784.0,3387.0,3285.0,3606.0,3840.0,4590.0,4656.0,4390.0,3846.0,4475.0,4302.0,4266.0,4845.0,3574.0,4576.0,4866.0,4294.0,3785.0,4326.0,4602.0,4780.0,4792.0,4905.0,4150.0,3820.0,4338.0,4725.0,4694.0,3805.0,4153.0,5191.0,3873.0,4758.0,5895.0,5130.0,3542.0,4661.0,1115.0,4334.0,4634.0,5204.0,5058.0,5115.0,4727.0,4484.0,4940.0,3351.0,2710.0,1996.0,1842.0,3544.0,5345.0,5046.0,4713.0,4763.0,4785.0,3659.0,4760.0,4511.0,4274.0,4539.0,3641.0,4352.0,4795.0,2395.0,5423.0,5010.0,4630.0,4120.0,3907.0,4839.0,5202.0,2429.0,2918.0,3570.0,4456.0,4826.0,4765.0,4985.0,5409.0,5511.0,5117.0,4563.0,2416.0,2913.0,3644.0,5217.0,5041.0,4570.0,4748.0,2424.0,4195.0,4304.0,4308.0,4381.0,4187.0,4687.0,3894.0,2659.0,3747.0,627.0,3331.0,3669.0,4068.0,4186.0,3974.0,4046.0,3926.0,3649.0,4035.0,4205.0,4109.0,2933.0,3368.0,4067.0,3717.0,4486.0,4195.0,1817.0,3053.0,3392.0,3663.0,3520.0,2765.0,1607.0,2566.0,1495.0,2792.0,3068.0,3071.0,3867.0,2914.0,3613.0,3727.0,3940.0,3614.0,3485.0,3811.0,2594.0,705.0,3322.0,3620.0,3190.0,2743.0,3310.0,3523.0,3740.0,3709.0,3577.0,2739.0,2431.0,3403.0,3750.0,2660.0,3068.0,2209.0,1011.0,754.0,1317.0,1162.0,2302.0,2423.0,2999.0,2485.0,2294.0,1951.0,2236.0,2368.0,3272.0,4098.0,4521.0,3425.0,2376.0,3598.0,2177.0,4097.0,3214.0,2493.0,2311.0,2298.0,2935.0,3376.0,3292.0,3163.0,1301.0,1977.0,2432.0,4339.0,4270.0,4075.0,3456.0,4023.0,3243.0,3624.0,4509.0,4579.0,3761.0,4151.0,2832.0,2947.0,3784.0,4375.0,2802.0,3830.0,3831.0,2169.0,1529.0,3422.0,3922.0,4169.0,3005.0,4154.0,4318.0,2689.0,3129.0,3777.0,4773.0,5062.0,3487.0,2732.0,3389.0,4322.0,4363.0,1834.0,4990.0,3194.0,4066.0,3423.0,3333.0,3956.0,4916.0,5382.0,4569.0,4118.0,4911.0,5298.0,5847.0,6312.0,6192.0,4378.0,7836.0,5892.0,6153.0,6093.0,6230.0,6871.0,8362.0,3372.0,4996.0,5558.0,5102.0,5698.0,6133.0,5459.0,6235.0,6041.0,5936.0,6772.0,6436.0,6457.0,6460.0,6857.0,5169.0,5585.0,5918.0,4862.0,5409.0,6398.0,7460.0,7132.0,6370.0,6691.0,4367.0,6565.0,7290.0,6624.0,1027.0,3214.0,5633.0,6196.0,5026.0,6233.0,4220.0,6304.0,5572.0,5740.0,6169.0,6421.0,6296.0,6883.0,6359.0,6273.0,5728.0,4717.0,6572.0,7030.0,7429.0,6118.0,2843.0,5115.0,7424.0,7384.0,7639.0,8294.0,7129.0,4359.0,6073.0,5260.0,6770.0,6734.0,6536.0,6591.0,6043.0,5743.0,6855.0,7338.0,4127.0,8120.0,7641.0,6998.0,7001.0,7055.0,7494.0,7736.0,7498.0,6598.0,6664.0,4972.0,7421.0,7363.0,7665.0,7702.0,6978.0,5099.0,6825.0,6211.0,5905.0,5823.0,7458.0,6891.0,6779.0,7442.0,7335.0,6879.0,5463.0,5687.0,5531.0,6227.0,6660.0,7403.0,6241.0,6207.0,4840.0,4672.0,6569.0,6290.0,7264.0,7446.0,7499.0,6969.0,6031.0,6830.0,6786.0,5713.0,6591.0,5870.0,4459.0,7410.0,6966.0,7592.0,8173.0,6861.0,6904.0,6685.0,6597.0,7105.0,7216.0,7580.0,7261.0,7175.0,6824.0,5464.0,7013.0,7273.0,7534.0,7286.0,5786.0,6299.0,6544.0,6883.0,6784.0,7347.0,7605.0,7148.0,7865.0,4549.0,6530.0,7006.0,7375.0,7765.0,7582.0,6053.0,5255.0,6917.0,7040.0,7697.0,7713.0,7350.0,6140.0,5810.0,6034.0,6864.0,7112.0,6203.0,7504.0,5976.0,8227.0,7525.0,7767.0,7870.0,7804.0,8009.0,8714.0,7333.0,6869.0,4073.0,7591.0,7720.0,8167.0,8395.0,7907.0,7436.0,7538.0,7733.0,7393.0,7415.0,8555.0,6889.0,6778.0,4639.0,7572.0,7328.0,8156.0,7965.0,3510.0,5478.0,6392.0,7691.0,7570.0,7282.0,7109.0,6639.0,5875.0,7534.0,7461.0,7509.0,5424.0,8090.0,6824.0,7058.0,7466.0,7693.0,7359.0,7444.0,7852.0,4459.0,22.0,1096.0,5566.0,5986.0,5847.0,5138.0,5107.0,5259.0,5686.0,5035.0,5315.0,5992.0,6536.0,6852.0,6269.0,4094.0,5495.0,5445.0,5698.0,5629.0,4669.0,5499.0,5634.0,5146.0,2425.0,3910.0,2277.0,2424.0,5087.0,3959.0,5260.0,5323.0,5668.0,5191.0,4649.0,6234.0,6606.0,5729.0,5375.0,5008.0,5582.0,3228.0,5170.0,5501.0,5319.0,5532.0,5611.0,5047.0,3786.0,4585.0,5557.0,5267.0,4128.0,3623.0,1749.0,1787.0,920.0,1013.0,441.0,2114.0,3095.0,1341.0,1796.0,2729.0],\"x\":[6,0,1,2,3,4,5,6,0,1,2,3,4,5,6,0,1,2,3,4,5,6,0,1,2,3,4,5,6,0,1,2,3,4,5,6,0,1,2,3,4,5,6,0,1,2,3,4,5,6,0,1,2,3,4,5,6,0,1,2,3,4,5,6,0,1,2,3,4,5,6,0,1,2,3,4,5,6,0,1,2,3,4,5,6,0,1,2,3,4,5,6,0,1,2,3,4,5,6,0,1,2,3,4,5,6,0,1,2,3,4,5,6,0,1,2,3,4,5,6,0,1,2,3,4,5,6,0,1,2,3,4,5,6,0,1,2,3,4,5,6,0,1,2,3,4,5,6,0,1,2,3,4,5,6,0,1,2,3,4,5,6,0,1,2,3,4,5,6,0,1,2,3,4,5,6,0,1,2,3,4,5,6,0,1,2,3,4,5,6,0,1,2,3,4,5,6,0,1,2,3,4,5,6,0,1,2,3,4,5,6,0,1,2,3,4,5,6,0,1,2,3,4,5,6,0,1,2,3,4,5,6,0,1,2,3,4,5,6,0,1,2,3,4,5,6,0,1,2,3,4,5,6,0,1,2,3,4,5,6,0,1,2,3,4,5,6,0,1,2,3,4,5,6,0,1,2,3,4,5,6,0,1,2,3,4,5,6,0,1,2,3,4,5,6,0,1,2,3,4,5,6,0,1,2,3,4,5,6,0,1,2,3,4,5,6,0,1,2,3,4,5,6,0,1,2,3,4,5,6,0,1,2,3,4,5,6,0,1,2,3,4,5,6,0,1,2,3,4,5,6,0,1,2,3,4,5,6,0,1,2,3,4,5,6,0,1,2,3,4,5,6,0,1,2,3,4,5,6,0,1,2,3,4,5,6,0,1,2,3,4,5,6,0,1,2,3,4,5,6,0,1,2,3,4,5,6,0,1,2,3,4,5,6,0,1,2,3,4,5,6,0,1,2,3,4,5,6,0,1,2,3,4,5,6,0,1,2,3,4,5,6,0,1,2,3,4,5,6,0,1,2,3,4,5,6,0,1,2,3,4,5,6,0,1,2,3,4,5,6,0,1,2,3,4,5,6,0,1,2,3,4,5,6,0,1,2,3,4,5,6,0,1,2,3,4,5,6,0,1,2,3,4,5,6,0,1,2,3,4,5,6,0,1,2,3,4,5,6,0,1,2,3,4,5,6,0,1,2,3,4,5,6,0,1,2,3,4,5,6,0,1,2,3,4,5,6,0,1,2,3,4,5,6,0,1,2,3,4,5,6,0,1,2,3,4,5,6,0,1,2,3,4,5,6,0,1,2,3,4,5,6,0,1,2,3,4,5,6,0,1,2,3,4,5,6,0,1,2,3,4,5,6,0,1,2,3,4,5,6,0,1,2,3,4,5,6,0,1,2,3,4,5,6,0,1,2,3,4,5,6,0,1,2,3,4,5,6,0,1,2,3,4,5,6,0,1,2,3,4,5,6,0,1,2,3,4,5,6,0,1,2,3,4,5,6,0,1,2,3,4,5,6,0,1,2,3,4,5,6,0,1,2,3,4,5,6,0,1,2,3,4,5,6,0,1,2,3,4,5,6,0,1,2,3,4,5,6,0,1,2,3,4,5,6,0,1,2,3,4,5,6,0,1,2,3,4,5,6,0,1],\"y\":[985,801,1349,1562,1600,1606,1510,959,822,1321,1263,1162,1406,1421,1248,1204,1000,683,1650,1927,1543,981,986,1416,1985,506,431,1167,1098,1096,1501,1360,1526,1550,1708,1005,1623,1712,1530,1605,1538,1746,1472,1589,1913,1815,2115,2475,2927,1635,1812,1107,1450,1917,1807,1461,1969,2402,1446,1851,2134,1685,1944,2077,605,1872,2133,1891,623,1977,2132,2417,2046,2056,2192,2744,3239,3117,2471,2077,2703,2121,1865,2210,2496,1693,2028,2425,1536,1685,2227,2252,3249,3115,1795,2808,3141,1471,2455,2895,3348,2034,2162,3267,3126,795,3744,3429,3204,3944,4189,1683,4036,4191,4073,4400,3872,4058,4595,5312,3351,4401,4451,2633,4433,4608,4714,4333,4362,4803,4182,4864,4105,3409,4553,3958,4123,3855,4575,4917,5805,4660,4274,4492,4978,4677,4679,4758,4788,4098,3982,3974,4968,5312,5342,4906,4548,4833,4401,3915,4586,4966,4460,5020,4891,5180,3767,4844,5119,4744,4010,4835,4507,4790,4991,5202,5305,4708,4648,5225,5515,5362,5119,4649,6043,4665,4629,4592,4040,5336,4881,4086,4258,4342,5084,5538,5923,5302,4458,4541,4332,3784,3387,3285,3606,3840,4590,4656,4390,3846,4475,4302,4266,4845,3574,4576,4866,4294,3785,4326,4602,4780,4792,4905,4150,3820,4338,4725,4694,3805,4153,5191,3873,4758,5895,5130,3542,4661,1115,4334,4634,5204,5058,5115,4727,4484,4940,3351,2710,1996,1842,3544,5345,5046,4713,4763,4785,3659,4760,4511,4274,4539,3641,4352,4795,2395,5423,5010,4630,4120,3907,4839,5202,2429,2918,3570,4456,4826,4765,4985,5409,5511,5117,4563,2416,2913,3644,5217,5041,4570,4748,2424,4195,4304,4308,4381,4187,4687,3894,2659,3747,627,3331,3669,4068,4186,3974,4046,3926,3649,4035,4205,4109,2933,3368,4067,3717,4486,4195,1817,3053,3392,3663,3520,2765,1607,2566,1495,2792,3068,3071,3867,2914,3613,3727,3940,3614,3485,3811,2594,705,3322,3620,3190,2743,3310,3523,3740,3709,3577,2739,2431,3403,3750,2660,3068,2209,1011,754,1317,1162,2302,2423,2999,2485,2294,1951,2236,2368,3272,4098,4521,3425,2376,3598,2177,4097,3214,2493,2311,2298,2935,3376,3292,3163,1301,1977,2432,4339,4270,4075,3456,4023,3243,3624,4509,4579,3761,4151,2832,2947,3784,4375,2802,3830,3831,2169,1529,3422,3922,4169,3005,4154,4318,2689,3129,3777,4773,5062,3487,2732,3389,4322,4363,1834,4990,3194,4066,3423,3333,3956,4916,5382,4569,4118,4911,5298,5847,6312,6192,4378,7836,5892,6153,6093,6230,6871,8362,3372,4996,5558,5102,5698,6133,5459,6235,6041,5936,6772,6436,6457,6460,6857,5169,5585,5918,4862,5409,6398,7460,7132,6370,6691,4367,6565,7290,6624,1027,3214,5633,6196,5026,6233,4220,6304,5572,5740,6169,6421,6296,6883,6359,6273,5728,4717,6572,7030,7429,6118,2843,5115,7424,7384,7639,8294,7129,4359,6073,5260,6770,6734,6536,6591,6043,5743,6855,7338,4127,8120,7641,6998,7001,7055,7494,7736,7498,6598,6664,4972,7421,7363,7665,7702,6978,5099,6825,6211,5905,5823,7458,6891,6779,7442,7335,6879,5463,5687,5531,6227,6660,7403,6241,6207,4840,4672,6569,6290,7264,7446,7499,6969,6031,6830,6786,5713,6591,5870,4459,7410,6966,7592,8173,6861,6904,6685,6597,7105,7216,7580,7261,7175,6824,5464,7013,7273,7534,7286,5786,6299,6544,6883,6784,7347,7605,7148,7865,4549,6530,7006,7375,7765,7582,6053,5255,6917,7040,7697,7713,7350,6140,5810,6034,6864,7112,6203,7504,5976,8227,7525,7767,7870,7804,8009,8714,7333,6869,4073,7591,7720,8167,8395,7907,7436,7538,7733,7393,7415,8555,6889,6778,4639,7572,7328,8156,7965,3510,5478,6392,7691,7570,7282,7109,6639,5875,7534,7461,7509,5424,8090,6824,7058,7466,7693,7359,7444,7852,4459,22,1096,5566,5986,5847,5138,5107,5259,5686,5035,5315,5992,6536,6852,6269,4094,5495,5445,5698,5629,4669,5499,5634,5146,2425,3910,2277,2424,5087,3959,5260,5323,5668,5191,4649,6234,6606,5729,5375,5008,5582,3228,5170,5501,5319,5532,5611,5047,3786,4585,5557,5267,4128,3623,1749,1787,920,1013,441,2114,3095,1341,1796,2729],\"type\":\"scatter\",\"xaxis\":\"x5\",\"yaxis\":\"y5\",\"texttemplate\":\"%{text:.2s}\"},{\"mode\":\"markers\",\"text\":[985.0,801.0,1349.0,1562.0,1600.0,1606.0,1510.0,959.0,822.0,1321.0,1263.0,1162.0,1406.0,1421.0,1248.0,1204.0,1000.0,683.0,1650.0,1927.0,1543.0,981.0,986.0,1416.0,1985.0,506.0,431.0,1167.0,1098.0,1096.0,1501.0,1360.0,1526.0,1550.0,1708.0,1005.0,1623.0,1712.0,1530.0,1605.0,1538.0,1746.0,1472.0,1589.0,1913.0,1815.0,2115.0,2475.0,2927.0,1635.0,1812.0,1107.0,1450.0,1917.0,1807.0,1461.0,1969.0,2402.0,1446.0,1851.0,2134.0,1685.0,1944.0,2077.0,605.0,1872.0,2133.0,1891.0,623.0,1977.0,2132.0,2417.0,2046.0,2056.0,2192.0,2744.0,3239.0,3117.0,2471.0,2077.0,2703.0,2121.0,1865.0,2210.0,2496.0,1693.0,2028.0,2425.0,1536.0,1685.0,2227.0,2252.0,3249.0,3115.0,1795.0,2808.0,3141.0,1471.0,2455.0,2895.0,3348.0,2034.0,2162.0,3267.0,3126.0,795.0,3744.0,3429.0,3204.0,3944.0,4189.0,1683.0,4036.0,4191.0,4073.0,4400.0,3872.0,4058.0,4595.0,5312.0,3351.0,4401.0,4451.0,2633.0,4433.0,4608.0,4714.0,4333.0,4362.0,4803.0,4182.0,4864.0,4105.0,3409.0,4553.0,3958.0,4123.0,3855.0,4575.0,4917.0,5805.0,4660.0,4274.0,4492.0,4978.0,4677.0,4679.0,4758.0,4788.0,4098.0,3982.0,3974.0,4968.0,5312.0,5342.0,4906.0,4548.0,4833.0,4401.0,3915.0,4586.0,4966.0,4460.0,5020.0,4891.0,5180.0,3767.0,4844.0,5119.0,4744.0,4010.0,4835.0,4507.0,4790.0,4991.0,5202.0,5305.0,4708.0,4648.0,5225.0,5515.0,5362.0,5119.0,4649.0,6043.0,4665.0,4629.0,4592.0,4040.0,5336.0,4881.0,4086.0,4258.0,4342.0,5084.0,5538.0,5923.0,5302.0,4458.0,4541.0,4332.0,3784.0,3387.0,3285.0,3606.0,3840.0,4590.0,4656.0,4390.0,3846.0,4475.0,4302.0,4266.0,4845.0,3574.0,4576.0,4866.0,4294.0,3785.0,4326.0,4602.0,4780.0,4792.0,4905.0,4150.0,3820.0,4338.0,4725.0,4694.0,3805.0,4153.0,5191.0,3873.0,4758.0,5895.0,5130.0,3542.0,4661.0,1115.0,4334.0,4634.0,5204.0,5058.0,5115.0,4727.0,4484.0,4940.0,3351.0,2710.0,1996.0,1842.0,3544.0,5345.0,5046.0,4713.0,4763.0,4785.0,3659.0,4760.0,4511.0,4274.0,4539.0,3641.0,4352.0,4795.0,2395.0,5423.0,5010.0,4630.0,4120.0,3907.0,4839.0,5202.0,2429.0,2918.0,3570.0,4456.0,4826.0,4765.0,4985.0,5409.0,5511.0,5117.0,4563.0,2416.0,2913.0,3644.0,5217.0,5041.0,4570.0,4748.0,2424.0,4195.0,4304.0,4308.0,4381.0,4187.0,4687.0,3894.0,2659.0,3747.0,627.0,3331.0,3669.0,4068.0,4186.0,3974.0,4046.0,3926.0,3649.0,4035.0,4205.0,4109.0,2933.0,3368.0,4067.0,3717.0,4486.0,4195.0,1817.0,3053.0,3392.0,3663.0,3520.0,2765.0,1607.0,2566.0,1495.0,2792.0,3068.0,3071.0,3867.0,2914.0,3613.0,3727.0,3940.0,3614.0,3485.0,3811.0,2594.0,705.0,3322.0,3620.0,3190.0,2743.0,3310.0,3523.0,3740.0,3709.0,3577.0,2739.0,2431.0,3403.0,3750.0,2660.0,3068.0,2209.0,1011.0,754.0,1317.0,1162.0,2302.0,2423.0,2999.0,2485.0,2294.0,1951.0,2236.0,2368.0,3272.0,4098.0,4521.0,3425.0,2376.0,3598.0,2177.0,4097.0,3214.0,2493.0,2311.0,2298.0,2935.0,3376.0,3292.0,3163.0,1301.0,1977.0,2432.0,4339.0,4270.0,4075.0,3456.0,4023.0,3243.0,3624.0,4509.0,4579.0,3761.0,4151.0,2832.0,2947.0,3784.0,4375.0,2802.0,3830.0,3831.0,2169.0,1529.0,3422.0,3922.0,4169.0,3005.0,4154.0,4318.0,2689.0,3129.0,3777.0,4773.0,5062.0,3487.0,2732.0,3389.0,4322.0,4363.0,1834.0,4990.0,3194.0,4066.0,3423.0,3333.0,3956.0,4916.0,5382.0,4569.0,4118.0,4911.0,5298.0,5847.0,6312.0,6192.0,4378.0,7836.0,5892.0,6153.0,6093.0,6230.0,6871.0,8362.0,3372.0,4996.0,5558.0,5102.0,5698.0,6133.0,5459.0,6235.0,6041.0,5936.0,6772.0,6436.0,6457.0,6460.0,6857.0,5169.0,5585.0,5918.0,4862.0,5409.0,6398.0,7460.0,7132.0,6370.0,6691.0,4367.0,6565.0,7290.0,6624.0,1027.0,3214.0,5633.0,6196.0,5026.0,6233.0,4220.0,6304.0,5572.0,5740.0,6169.0,6421.0,6296.0,6883.0,6359.0,6273.0,5728.0,4717.0,6572.0,7030.0,7429.0,6118.0,2843.0,5115.0,7424.0,7384.0,7639.0,8294.0,7129.0,4359.0,6073.0,5260.0,6770.0,6734.0,6536.0,6591.0,6043.0,5743.0,6855.0,7338.0,4127.0,8120.0,7641.0,6998.0,7001.0,7055.0,7494.0,7736.0,7498.0,6598.0,6664.0,4972.0,7421.0,7363.0,7665.0,7702.0,6978.0,5099.0,6825.0,6211.0,5905.0,5823.0,7458.0,6891.0,6779.0,7442.0,7335.0,6879.0,5463.0,5687.0,5531.0,6227.0,6660.0,7403.0,6241.0,6207.0,4840.0,4672.0,6569.0,6290.0,7264.0,7446.0,7499.0,6969.0,6031.0,6830.0,6786.0,5713.0,6591.0,5870.0,4459.0,7410.0,6966.0,7592.0,8173.0,6861.0,6904.0,6685.0,6597.0,7105.0,7216.0,7580.0,7261.0,7175.0,6824.0,5464.0,7013.0,7273.0,7534.0,7286.0,5786.0,6299.0,6544.0,6883.0,6784.0,7347.0,7605.0,7148.0,7865.0,4549.0,6530.0,7006.0,7375.0,7765.0,7582.0,6053.0,5255.0,6917.0,7040.0,7697.0,7713.0,7350.0,6140.0,5810.0,6034.0,6864.0,7112.0,6203.0,7504.0,5976.0,8227.0,7525.0,7767.0,7870.0,7804.0,8009.0,8714.0,7333.0,6869.0,4073.0,7591.0,7720.0,8167.0,8395.0,7907.0,7436.0,7538.0,7733.0,7393.0,7415.0,8555.0,6889.0,6778.0,4639.0,7572.0,7328.0,8156.0,7965.0,3510.0,5478.0,6392.0,7691.0,7570.0,7282.0,7109.0,6639.0,5875.0,7534.0,7461.0,7509.0,5424.0,8090.0,6824.0,7058.0,7466.0,7693.0,7359.0,7444.0,7852.0,4459.0,22.0,1096.0,5566.0,5986.0,5847.0,5138.0,5107.0,5259.0,5686.0,5035.0,5315.0,5992.0,6536.0,6852.0,6269.0,4094.0,5495.0,5445.0,5698.0,5629.0,4669.0,5499.0,5634.0,5146.0,2425.0,3910.0,2277.0,2424.0,5087.0,3959.0,5260.0,5323.0,5668.0,5191.0,4649.0,6234.0,6606.0,5729.0,5375.0,5008.0,5582.0,3228.0,5170.0,5501.0,5319.0,5532.0,5611.0,5047.0,3786.0,4585.0,5557.0,5267.0,4128.0,3623.0,1749.0,1787.0,920.0,1013.0,441.0,2114.0,3095.0,1341.0,1796.0,2729.0],\"x\":[2,2,1,1,1,1,2,2,1,1,2,1,1,1,2,1,2,2,2,2,1,1,1,1,2,3,1,2,1,1,2,2,2,1,2,2,1,1,1,2,1,1,1,1,1,1,1,1,1,1,1,2,1,1,2,2,1,1,2,1,1,1,2,2,2,1,1,2,3,2,1,1,1,2,2,1,1,1,1,2,1,2,2,1,1,2,1,1,2,3,2,2,1,1,2,1,1,2,2,2,2,2,2,1,1,3,1,1,2,1,1,2,2,2,1,1,2,2,1,1,2,2,2,2,1,1,1,1,1,1,1,1,2,2,2,1,2,2,2,1,1,1,2,2,1,1,1,1,1,1,1,2,1,1,1,2,1,1,1,2,1,1,1,1,1,1,2,1,1,2,2,2,1,2,1,1,1,2,1,1,1,1,1,2,2,1,1,1,2,1,1,1,1,1,1,1,1,1,1,1,1,2,1,1,1,1,1,1,1,1,1,1,1,1,2,2,1,2,1,1,1,1,1,1,2,2,1,1,1,1,2,1,1,1,1,1,2,1,2,1,1,1,1,1,2,1,1,2,3,3,3,2,1,1,1,1,1,2,2,2,1,2,2,2,2,2,2,2,2,2,2,1,1,2,2,2,1,1,1,1,1,1,1,2,3,2,2,1,1,1,2,3,1,1,1,1,1,1,2,2,2,3,1,1,1,1,1,2,1,1,1,1,1,2,1,1,1,1,2,3,2,1,1,2,3,3,2,1,1,1,1,1,2,1,1,1,1,1,2,3,3,1,1,1,1,1,1,2,2,2,2,1,1,2,2,2,1,1,1,1,2,1,1,1,1,1,1,1,2,1,1,1,1,2,1,2,2,1,1,1,1,2,1,1,2,2,2,2,1,1,2,2,1,1,1,1,1,2,1,2,2,1,1,2,1,2,3,1,1,2,1,2,1,1,2,1,1,1,1,2,1,1,1,1,2,1,2,2,1,1,1,1,1,2,1,1,1,1,1,1,2,2,2,1,1,2,1,2,2,2,1,1,1,1,2,2,2,1,1,1,1,1,1,1,1,1,1,1,1,1,1,1,1,2,1,1,1,3,2,1,1,2,1,2,1,2,2,1,2,1,2,2,2,2,2,1,1,1,1,2,2,1,1,1,1,1,2,2,2,1,1,1,1,1,1,2,1,2,1,1,1,2,1,1,1,1,1,2,2,1,1,1,1,1,2,1,1,1,1,1,1,1,1,1,1,1,1,1,1,1,1,1,1,1,1,2,2,1,1,2,2,1,1,1,1,1,2,3,2,1,1,1,1,1,1,1,1,1,1,1,2,1,1,2,2,2,1,2,2,1,1,1,1,1,1,1,2,2,1,1,1,2,2,2,1,1,1,1,1,2,2,1,1,1,2,1,2,1,1,1,1,1,1,1,1,2,2,1,1,1,1,1,1,1,1,2,2,1,1,2,3,2,2,1,1,2,2,2,1,1,1,1,1,2,1,1,2,2,1,1,1,1,1,2,2,2,2,3,2,2,2,1,2,1,1,1,2,1,1,1,1,1,2,1,2,1,1,1,2,2,1,1,1,1,1,1,2,1,1,1,2,2,1,1,1,1,2,2,2,2,2,2,1,1,1,2,2,1,1,2,2,1,1,2,2,3,2,2,2,1,2],\"y\":[985,801,1349,1562,1600,1606,1510,959,822,1321,1263,1162,1406,1421,1248,1204,1000,683,1650,1927,1543,981,986,1416,1985,506,431,1167,1098,1096,1501,1360,1526,1550,1708,1005,1623,1712,1530,1605,1538,1746,1472,1589,1913,1815,2115,2475,2927,1635,1812,1107,1450,1917,1807,1461,1969,2402,1446,1851,2134,1685,1944,2077,605,1872,2133,1891,623,1977,2132,2417,2046,2056,2192,2744,3239,3117,2471,2077,2703,2121,1865,2210,2496,1693,2028,2425,1536,1685,2227,2252,3249,3115,1795,2808,3141,1471,2455,2895,3348,2034,2162,3267,3126,795,3744,3429,3204,3944,4189,1683,4036,4191,4073,4400,3872,4058,4595,5312,3351,4401,4451,2633,4433,4608,4714,4333,4362,4803,4182,4864,4105,3409,4553,3958,4123,3855,4575,4917,5805,4660,4274,4492,4978,4677,4679,4758,4788,4098,3982,3974,4968,5312,5342,4906,4548,4833,4401,3915,4586,4966,4460,5020,4891,5180,3767,4844,5119,4744,4010,4835,4507,4790,4991,5202,5305,4708,4648,5225,5515,5362,5119,4649,6043,4665,4629,4592,4040,5336,4881,4086,4258,4342,5084,5538,5923,5302,4458,4541,4332,3784,3387,3285,3606,3840,4590,4656,4390,3846,4475,4302,4266,4845,3574,4576,4866,4294,3785,4326,4602,4780,4792,4905,4150,3820,4338,4725,4694,3805,4153,5191,3873,4758,5895,5130,3542,4661,1115,4334,4634,5204,5058,5115,4727,4484,4940,3351,2710,1996,1842,3544,5345,5046,4713,4763,4785,3659,4760,4511,4274,4539,3641,4352,4795,2395,5423,5010,4630,4120,3907,4839,5202,2429,2918,3570,4456,4826,4765,4985,5409,5511,5117,4563,2416,2913,3644,5217,5041,4570,4748,2424,4195,4304,4308,4381,4187,4687,3894,2659,3747,627,3331,3669,4068,4186,3974,4046,3926,3649,4035,4205,4109,2933,3368,4067,3717,4486,4195,1817,3053,3392,3663,3520,2765,1607,2566,1495,2792,3068,3071,3867,2914,3613,3727,3940,3614,3485,3811,2594,705,3322,3620,3190,2743,3310,3523,3740,3709,3577,2739,2431,3403,3750,2660,3068,2209,1011,754,1317,1162,2302,2423,2999,2485,2294,1951,2236,2368,3272,4098,4521,3425,2376,3598,2177,4097,3214,2493,2311,2298,2935,3376,3292,3163,1301,1977,2432,4339,4270,4075,3456,4023,3243,3624,4509,4579,3761,4151,2832,2947,3784,4375,2802,3830,3831,2169,1529,3422,3922,4169,3005,4154,4318,2689,3129,3777,4773,5062,3487,2732,3389,4322,4363,1834,4990,3194,4066,3423,3333,3956,4916,5382,4569,4118,4911,5298,5847,6312,6192,4378,7836,5892,6153,6093,6230,6871,8362,3372,4996,5558,5102,5698,6133,5459,6235,6041,5936,6772,6436,6457,6460,6857,5169,5585,5918,4862,5409,6398,7460,7132,6370,6691,4367,6565,7290,6624,1027,3214,5633,6196,5026,6233,4220,6304,5572,5740,6169,6421,6296,6883,6359,6273,5728,4717,6572,7030,7429,6118,2843,5115,7424,7384,7639,8294,7129,4359,6073,5260,6770,6734,6536,6591,6043,5743,6855,7338,4127,8120,7641,6998,7001,7055,7494,7736,7498,6598,6664,4972,7421,7363,7665,7702,6978,5099,6825,6211,5905,5823,7458,6891,6779,7442,7335,6879,5463,5687,5531,6227,6660,7403,6241,6207,4840,4672,6569,6290,7264,7446,7499,6969,6031,6830,6786,5713,6591,5870,4459,7410,6966,7592,8173,6861,6904,6685,6597,7105,7216,7580,7261,7175,6824,5464,7013,7273,7534,7286,5786,6299,6544,6883,6784,7347,7605,7148,7865,4549,6530,7006,7375,7765,7582,6053,5255,6917,7040,7697,7713,7350,6140,5810,6034,6864,7112,6203,7504,5976,8227,7525,7767,7870,7804,8009,8714,7333,6869,4073,7591,7720,8167,8395,7907,7436,7538,7733,7393,7415,8555,6889,6778,4639,7572,7328,8156,7965,3510,5478,6392,7691,7570,7282,7109,6639,5875,7534,7461,7509,5424,8090,6824,7058,7466,7693,7359,7444,7852,4459,22,1096,5566,5986,5847,5138,5107,5259,5686,5035,5315,5992,6536,6852,6269,4094,5495,5445,5698,5629,4669,5499,5634,5146,2425,3910,2277,2424,5087,3959,5260,5323,5668,5191,4649,6234,6606,5729,5375,5008,5582,3228,5170,5501,5319,5532,5611,5047,3786,4585,5557,5267,4128,3623,1749,1787,920,1013,441,2114,3095,1341,1796,2729],\"type\":\"scatter\",\"xaxis\":\"x6\",\"yaxis\":\"y6\",\"texttemplate\":\"%{text:.2s}\"},{\"mode\":\"markers\",\"text\":[985.0,801.0,1349.0,1562.0,1600.0,1606.0,1510.0,959.0,822.0,1321.0,1263.0,1162.0,1406.0,1421.0,1248.0,1204.0,1000.0,683.0,1650.0,1927.0,1543.0,981.0,986.0,1416.0,1985.0,506.0,431.0,1167.0,1098.0,1096.0,1501.0,1360.0,1526.0,1550.0,1708.0,1005.0,1623.0,1712.0,1530.0,1605.0,1538.0,1746.0,1472.0,1589.0,1913.0,1815.0,2115.0,2475.0,2927.0,1635.0,1812.0,1107.0,1450.0,1917.0,1807.0,1461.0,1969.0,2402.0,1446.0,1851.0,2134.0,1685.0,1944.0,2077.0,605.0,1872.0,2133.0,1891.0,623.0,1977.0,2132.0,2417.0,2046.0,2056.0,2192.0,2744.0,3239.0,3117.0,2471.0,2077.0,2703.0,2121.0,1865.0,2210.0,2496.0,1693.0,2028.0,2425.0,1536.0,1685.0,2227.0,2252.0,3249.0,3115.0,1795.0,2808.0,3141.0,1471.0,2455.0,2895.0,3348.0,2034.0,2162.0,3267.0,3126.0,795.0,3744.0,3429.0,3204.0,3944.0,4189.0,1683.0,4036.0,4191.0,4073.0,4400.0,3872.0,4058.0,4595.0,5312.0,3351.0,4401.0,4451.0,2633.0,4433.0,4608.0,4714.0,4333.0,4362.0,4803.0,4182.0,4864.0,4105.0,3409.0,4553.0,3958.0,4123.0,3855.0,4575.0,4917.0,5805.0,4660.0,4274.0,4492.0,4978.0,4677.0,4679.0,4758.0,4788.0,4098.0,3982.0,3974.0,4968.0,5312.0,5342.0,4906.0,4548.0,4833.0,4401.0,3915.0,4586.0,4966.0,4460.0,5020.0,4891.0,5180.0,3767.0,4844.0,5119.0,4744.0,4010.0,4835.0,4507.0,4790.0,4991.0,5202.0,5305.0,4708.0,4648.0,5225.0,5515.0,5362.0,5119.0,4649.0,6043.0,4665.0,4629.0,4592.0,4040.0,5336.0,4881.0,4086.0,4258.0,4342.0,5084.0,5538.0,5923.0,5302.0,4458.0,4541.0,4332.0,3784.0,3387.0,3285.0,3606.0,3840.0,4590.0,4656.0,4390.0,3846.0,4475.0,4302.0,4266.0,4845.0,3574.0,4576.0,4866.0,4294.0,3785.0,4326.0,4602.0,4780.0,4792.0,4905.0,4150.0,3820.0,4338.0,4725.0,4694.0,3805.0,4153.0,5191.0,3873.0,4758.0,5895.0,5130.0,3542.0,4661.0,1115.0,4334.0,4634.0,5204.0,5058.0,5115.0,4727.0,4484.0,4940.0,3351.0,2710.0,1996.0,1842.0,3544.0,5345.0,5046.0,4713.0,4763.0,4785.0,3659.0,4760.0,4511.0,4274.0,4539.0,3641.0,4352.0,4795.0,2395.0,5423.0,5010.0,4630.0,4120.0,3907.0,4839.0,5202.0,2429.0,2918.0,3570.0,4456.0,4826.0,4765.0,4985.0,5409.0,5511.0,5117.0,4563.0,2416.0,2913.0,3644.0,5217.0,5041.0,4570.0,4748.0,2424.0,4195.0,4304.0,4308.0,4381.0,4187.0,4687.0,3894.0,2659.0,3747.0,627.0,3331.0,3669.0,4068.0,4186.0,3974.0,4046.0,3926.0,3649.0,4035.0,4205.0,4109.0,2933.0,3368.0,4067.0,3717.0,4486.0,4195.0,1817.0,3053.0,3392.0,3663.0,3520.0,2765.0,1607.0,2566.0,1495.0,2792.0,3068.0,3071.0,3867.0,2914.0,3613.0,3727.0,3940.0,3614.0,3485.0,3811.0,2594.0,705.0,3322.0,3620.0,3190.0,2743.0,3310.0,3523.0,3740.0,3709.0,3577.0,2739.0,2431.0,3403.0,3750.0,2660.0,3068.0,2209.0,1011.0,754.0,1317.0,1162.0,2302.0,2423.0,2999.0,2485.0,2294.0,1951.0,2236.0,2368.0,3272.0,4098.0,4521.0,3425.0,2376.0,3598.0,2177.0,4097.0,3214.0,2493.0,2311.0,2298.0,2935.0,3376.0,3292.0,3163.0,1301.0,1977.0,2432.0,4339.0,4270.0,4075.0,3456.0,4023.0,3243.0,3624.0,4509.0,4579.0,3761.0,4151.0,2832.0,2947.0,3784.0,4375.0,2802.0,3830.0,3831.0,2169.0,1529.0,3422.0,3922.0,4169.0,3005.0,4154.0,4318.0,2689.0,3129.0,3777.0,4773.0,5062.0,3487.0,2732.0,3389.0,4322.0,4363.0,1834.0,4990.0,3194.0,4066.0,3423.0,3333.0,3956.0,4916.0,5382.0,4569.0,4118.0,4911.0,5298.0,5847.0,6312.0,6192.0,4378.0,7836.0,5892.0,6153.0,6093.0,6230.0,6871.0,8362.0,3372.0,4996.0,5558.0,5102.0,5698.0,6133.0,5459.0,6235.0,6041.0,5936.0,6772.0,6436.0,6457.0,6460.0,6857.0,5169.0,5585.0,5918.0,4862.0,5409.0,6398.0,7460.0,7132.0,6370.0,6691.0,4367.0,6565.0,7290.0,6624.0,1027.0,3214.0,5633.0,6196.0,5026.0,6233.0,4220.0,6304.0,5572.0,5740.0,6169.0,6421.0,6296.0,6883.0,6359.0,6273.0,5728.0,4717.0,6572.0,7030.0,7429.0,6118.0,2843.0,5115.0,7424.0,7384.0,7639.0,8294.0,7129.0,4359.0,6073.0,5260.0,6770.0,6734.0,6536.0,6591.0,6043.0,5743.0,6855.0,7338.0,4127.0,8120.0,7641.0,6998.0,7001.0,7055.0,7494.0,7736.0,7498.0,6598.0,6664.0,4972.0,7421.0,7363.0,7665.0,7702.0,6978.0,5099.0,6825.0,6211.0,5905.0,5823.0,7458.0,6891.0,6779.0,7442.0,7335.0,6879.0,5463.0,5687.0,5531.0,6227.0,6660.0,7403.0,6241.0,6207.0,4840.0,4672.0,6569.0,6290.0,7264.0,7446.0,7499.0,6969.0,6031.0,6830.0,6786.0,5713.0,6591.0,5870.0,4459.0,7410.0,6966.0,7592.0,8173.0,6861.0,6904.0,6685.0,6597.0,7105.0,7216.0,7580.0,7261.0,7175.0,6824.0,5464.0,7013.0,7273.0,7534.0,7286.0,5786.0,6299.0,6544.0,6883.0,6784.0,7347.0,7605.0,7148.0,7865.0,4549.0,6530.0,7006.0,7375.0,7765.0,7582.0,6053.0,5255.0,6917.0,7040.0,7697.0,7713.0,7350.0,6140.0,5810.0,6034.0,6864.0,7112.0,6203.0,7504.0,5976.0,8227.0,7525.0,7767.0,7870.0,7804.0,8009.0,8714.0,7333.0,6869.0,4073.0,7591.0,7720.0,8167.0,8395.0,7907.0,7436.0,7538.0,7733.0,7393.0,7415.0,8555.0,6889.0,6778.0,4639.0,7572.0,7328.0,8156.0,7965.0,3510.0,5478.0,6392.0,7691.0,7570.0,7282.0,7109.0,6639.0,5875.0,7534.0,7461.0,7509.0,5424.0,8090.0,6824.0,7058.0,7466.0,7693.0,7359.0,7444.0,7852.0,4459.0,22.0,1096.0,5566.0,5986.0,5847.0,5138.0,5107.0,5259.0,5686.0,5035.0,5315.0,5992.0,6536.0,6852.0,6269.0,4094.0,5495.0,5445.0,5698.0,5629.0,4669.0,5499.0,5634.0,5146.0,2425.0,3910.0,2277.0,2424.0,5087.0,3959.0,5260.0,5323.0,5668.0,5191.0,4649.0,6234.0,6606.0,5729.0,5375.0,5008.0,5582.0,3228.0,5170.0,5501.0,5319.0,5532.0,5611.0,5047.0,3786.0,4585.0,5557.0,5267.0,4128.0,3623.0,1749.0,1787.0,920.0,1013.0,441.0,2114.0,3095.0,1341.0,1796.0,2729.0],\"x\":[0.344167,0.363478,0.196364,0.2,0.22695700000000002,0.204348,0.196522,0.165,0.13833299999999998,0.150833,0.16909100000000002,0.172727,0.165,0.16087,0.23333299999999998,0.231667,0.175833,0.216667,0.292174,0.261667,0.1775,0.0591304,0.0965217,0.0973913,0.223478,0.2175,0.195,0.203478,0.196522,0.216522,0.180833,0.192174,0.26,0.18695699999999998,0.211304,0.23333299999999998,0.285833,0.271667,0.220833,0.134783,0.144348,0.189091,0.2225,0.31652199999999997,0.415,0.26608699999999996,0.318261,0.43583299999999997,0.521667,0.399167,0.285217,0.303333,0.182222,0.221739,0.295652,0.364348,0.2825,0.343478,0.407273,0.266667,0.335,0.19833299999999998,0.261667,0.384167,0.37652199999999997,0.261739,0.2925,0.295833,0.38909099999999996,0.31652199999999997,0.329167,0.384348,0.32521700000000003,0.317391,0.365217,0.415,0.54,0.4725,0.3325,0.430435,0.44166700000000003,0.346957,0.285,0.264167,0.265833,0.25304299999999996,0.264348,0.3025,0.3,0.268333,0.3,0.315,0.378333,0.573333,0.414167,0.390833,0.4375,0.335833,0.3425,0.426667,0.5956520000000001,0.5025,0.4125,0.4675,0.446667,0.43083299999999997,0.456667,0.5125,0.505833,0.595,0.459167,0.336667,0.46,0.581667,0.606667,0.631667,0.62,0.6175,0.51,0.4725,0.451667,0.549167,0.616667,0.414167,0.459167,0.479167,0.52,0.5283329999999999,0.5325,0.5325,0.5425,0.535,0.5125,0.520833,0.5625,0.5775,0.561667,0.55,0.530833,0.536667,0.6025,0.604167,0.631667,0.66,0.660833,0.708333,0.681667,0.655833,0.6675,0.733333,0.775,0.764167,0.715,0.62,0.635,0.648333,0.678333,0.7075,0.775833,0.808333,0.755,0.725,0.6925,0.635,0.604167,0.626667,0.628333,0.649167,0.696667,0.699167,0.635,0.680833,0.733333,0.728333,0.724167,0.695,0.68,0.6825,0.744167,0.728333,0.696667,0.7225,0.738333,0.716667,0.726667,0.746667,0.72,0.75,0.709167,0.733333,0.7475,0.7625,0.794167,0.746667,0.680833,0.663333,0.686667,0.719167,0.746667,0.776667,0.768333,0.815,0.848333,0.849167,0.83,0.743333,0.771667,0.775,0.779167,0.838333,0.804167,0.805833,0.771667,0.783333,0.731667,0.71,0.710833,0.716667,0.7425,0.765,0.775,0.766667,0.7175,0.708333,0.685833,0.676667,0.665833,0.700833,0.723333,0.711667,0.685,0.6975,0.710833,0.691667,0.640833,0.673333,0.684167,0.7,0.68,0.707059,0.636667,0.639167,0.656667,0.655,0.643333,0.669167,0.709167,0.673333,0.54,0.599167,0.6339130000000001,0.65,0.66,0.6533329999999999,0.6443479999999999,0.650833,0.673333,0.5775,0.469167,0.491667,0.5075,0.549167,0.561667,0.595,0.628333,0.609167,0.606667,0.634167,0.649167,0.636667,0.635,0.616667,0.564167,0.41,0.356667,0.384167,0.484167,0.538333,0.494167,0.510833,0.521667,0.540833,0.570833,0.566667,0.543333,0.589167,0.550833,0.506667,0.511667,0.5341670000000001,0.5325,0.5417390000000001,0.475833,0.4275,0.4225,0.421667,0.463333,0.471667,0.484167,0.47,0.330833,0.25416700000000003,0.31916700000000003,0.34,0.400833,0.3775,0.408333,0.403333,0.326667,0.348333,0.395,0.408333,0.4,0.38,0.324167,0.356667,0.440833,0.53,0.53,0.456667,0.341667,0.274167,0.329167,0.463333,0.4475,0.416667,0.440833,0.37333299999999997,0.375,0.375833,0.459167,0.503478,0.458333,0.325,0.3125,0.31416700000000003,0.299167,0.330833,0.385833,0.4625,0.41,0.265833,0.290833,0.275,0.220833,0.238333,0.2825,0.3175,0.4225,0.375,0.258333,0.238333,0.276667,0.385833,0.428333,0.423333,0.37333299999999997,0.3025,0.274783,0.321739,0.325,0.29913,0.248333,0.311667,0.41,0.37,0.273043,0.15,0.1075,0.265833,0.334167,0.393333,0.3375,0.224167,0.308696,0.274167,0.3825,0.274167,0.18,0.166667,0.19,0.37304299999999996,0.303333,0.19,0.2175,0.173333,0.1625,0.218333,0.3425,0.294167,0.341667,0.425,0.315833,0.2825,0.269167,0.39,0.469167,0.399167,0.313333,0.264167,0.265833,0.282609,0.354167,0.25666700000000003,0.265,0.280833,0.224167,0.1275,0.2225,0.31916700000000003,0.348333,0.31666700000000003,0.343333,0.346667,0.28,0.28,0.287826,0.395833,0.454167,0.4075,0.290833,0.279167,0.366667,0.359167,0.344348,0.485833,0.353333,0.414167,0.325833,0.243333,0.258333,0.404167,0.5275,0.410833,0.2875,0.361739,0.466667,0.565,0.5725,0.5575,0.43583299999999997,0.514167,0.4725,0.545,0.560833,0.531667,0.554167,0.601667,0.5025,0.4375,0.445833,0.323333,0.484167,0.494167,0.37,0.424167,0.425833,0.433913,0.466667,0.541667,0.435,0.403333,0.4375,0.5,0.489167,0.446667,0.348696,0.3975,0.4425,0.495,0.606667,0.664167,0.608333,0.463333,0.49833299999999997,0.526667,0.57,0.396667,0.321667,0.413333,0.476667,0.49833299999999997,0.4575,0.37666700000000003,0.458333,0.464167,0.613333,0.564167,0.56,0.6275,0.621667,0.5625,0.5375,0.581667,0.575,0.505833,0.533333,0.564167,0.6125,0.573333,0.611667,0.636667,0.593333,0.564167,0.6,0.620833,0.598333,0.615,0.621667,0.655,0.68,0.6925,0.69,0.7125,0.7225,0.656667,0.68,0.654167,0.583333,0.6025,0.5975,0.540833,0.554167,0.6025,0.649167,0.710833,0.726667,0.720833,0.6533329999999999,0.655833,0.648333,0.639167,0.631667,0.5925,0.568333,0.688333,0.7825,0.805833,0.7775,0.731667,0.743333,0.7158329999999999,0.630833,0.6975,0.749167,0.834167,0.765,0.815833,0.781667,0.780833,0.789167,0.8275,0.828333,0.861667,0.8225,0.710833,0.720833,0.716667,0.7158329999999999,0.731667,0.703333,0.745833,0.763333,0.818333,0.793333,0.77,0.665833,0.595833,0.6675,0.741667,0.750833,0.724167,0.776667,0.781667,0.755833,0.7216670000000001,0.730833,0.713333,0.7175,0.7525,0.765833,0.793333,0.769167,0.7525,0.735833,0.75,0.755833,0.7158329999999999,0.6925,0.700833,0.720833,0.726667,0.706667,0.719167,0.723333,0.678333,0.635833,0.635833,0.649167,0.6675,0.695833,0.7025,0.661667,0.6533329999999999,0.703333,0.728333,0.685,0.706667,0.764167,0.753333,0.696667,0.7075,0.725833,0.736667,0.696667,0.703333,0.6591670000000001,0.61,0.583333,0.5775,0.599167,0.6125,0.633333,0.608333,0.58,0.580833,0.623333,0.5525,0.546667,0.599167,0.65,0.529167,0.514167,0.55,0.635,0.65,0.619167,0.5425,0.526667,0.520833,0.5908329999999999,0.6575,0.6575,0.615,0.554167,0.415833,0.383333,0.446667,0.514167,0.435,0.4375,0.393333,0.521667,0.561667,0.468333,0.455833,0.5225,0.563333,0.484167,0.464167,0.4875,0.544167,0.5875,0.55,0.545833,0.53,0.4775,0.44,0.318182,0.3575,0.365833,0.355,0.343333,0.325833,0.31916700000000003,0.280833,0.295833,0.352174,0.361667,0.389167,0.420833,0.485,0.343333,0.289167,0.321667,0.345,0.325,0.3425,0.380833,0.374167,0.353333,0.34,0.36833299999999997,0.278333,0.245833,0.313333,0.291667,0.296667,0.28087,0.298333,0.298333,0.3475,0.4525,0.475833,0.438333,0.255833,0.320833,0.38166700000000003,0.384167,0.43583299999999997,0.353333,0.2975,0.295833,0.281667,0.324167,0.3625,0.393333,0.410833,0.3325,0.33,0.326667,0.265833,0.245833,0.231304,0.291304,0.243333,0.25416700000000003,0.253333,0.253333,0.255833,0.215833],\"y\":[985,801,1349,1562,1600,1606,1510,959,822,1321,1263,1162,1406,1421,1248,1204,1000,683,1650,1927,1543,981,986,1416,1985,506,431,1167,1098,1096,1501,1360,1526,1550,1708,1005,1623,1712,1530,1605,1538,1746,1472,1589,1913,1815,2115,2475,2927,1635,1812,1107,1450,1917,1807,1461,1969,2402,1446,1851,2134,1685,1944,2077,605,1872,2133,1891,623,1977,2132,2417,2046,2056,2192,2744,3239,3117,2471,2077,2703,2121,1865,2210,2496,1693,2028,2425,1536,1685,2227,2252,3249,3115,1795,2808,3141,1471,2455,2895,3348,2034,2162,3267,3126,795,3744,3429,3204,3944,4189,1683,4036,4191,4073,4400,3872,4058,4595,5312,3351,4401,4451,2633,4433,4608,4714,4333,4362,4803,4182,4864,4105,3409,4553,3958,4123,3855,4575,4917,5805,4660,4274,4492,4978,4677,4679,4758,4788,4098,3982,3974,4968,5312,5342,4906,4548,4833,4401,3915,4586,4966,4460,5020,4891,5180,3767,4844,5119,4744,4010,4835,4507,4790,4991,5202,5305,4708,4648,5225,5515,5362,5119,4649,6043,4665,4629,4592,4040,5336,4881,4086,4258,4342,5084,5538,5923,5302,4458,4541,4332,3784,3387,3285,3606,3840,4590,4656,4390,3846,4475,4302,4266,4845,3574,4576,4866,4294,3785,4326,4602,4780,4792,4905,4150,3820,4338,4725,4694,3805,4153,5191,3873,4758,5895,5130,3542,4661,1115,4334,4634,5204,5058,5115,4727,4484,4940,3351,2710,1996,1842,3544,5345,5046,4713,4763,4785,3659,4760,4511,4274,4539,3641,4352,4795,2395,5423,5010,4630,4120,3907,4839,5202,2429,2918,3570,4456,4826,4765,4985,5409,5511,5117,4563,2416,2913,3644,5217,5041,4570,4748,2424,4195,4304,4308,4381,4187,4687,3894,2659,3747,627,3331,3669,4068,4186,3974,4046,3926,3649,4035,4205,4109,2933,3368,4067,3717,4486,4195,1817,3053,3392,3663,3520,2765,1607,2566,1495,2792,3068,3071,3867,2914,3613,3727,3940,3614,3485,3811,2594,705,3322,3620,3190,2743,3310,3523,3740,3709,3577,2739,2431,3403,3750,2660,3068,2209,1011,754,1317,1162,2302,2423,2999,2485,2294,1951,2236,2368,3272,4098,4521,3425,2376,3598,2177,4097,3214,2493,2311,2298,2935,3376,3292,3163,1301,1977,2432,4339,4270,4075,3456,4023,3243,3624,4509,4579,3761,4151,2832,2947,3784,4375,2802,3830,3831,2169,1529,3422,3922,4169,3005,4154,4318,2689,3129,3777,4773,5062,3487,2732,3389,4322,4363,1834,4990,3194,4066,3423,3333,3956,4916,5382,4569,4118,4911,5298,5847,6312,6192,4378,7836,5892,6153,6093,6230,6871,8362,3372,4996,5558,5102,5698,6133,5459,6235,6041,5936,6772,6436,6457,6460,6857,5169,5585,5918,4862,5409,6398,7460,7132,6370,6691,4367,6565,7290,6624,1027,3214,5633,6196,5026,6233,4220,6304,5572,5740,6169,6421,6296,6883,6359,6273,5728,4717,6572,7030,7429,6118,2843,5115,7424,7384,7639,8294,7129,4359,6073,5260,6770,6734,6536,6591,6043,5743,6855,7338,4127,8120,7641,6998,7001,7055,7494,7736,7498,6598,6664,4972,7421,7363,7665,7702,6978,5099,6825,6211,5905,5823,7458,6891,6779,7442,7335,6879,5463,5687,5531,6227,6660,7403,6241,6207,4840,4672,6569,6290,7264,7446,7499,6969,6031,6830,6786,5713,6591,5870,4459,7410,6966,7592,8173,6861,6904,6685,6597,7105,7216,7580,7261,7175,6824,5464,7013,7273,7534,7286,5786,6299,6544,6883,6784,7347,7605,7148,7865,4549,6530,7006,7375,7765,7582,6053,5255,6917,7040,7697,7713,7350,6140,5810,6034,6864,7112,6203,7504,5976,8227,7525,7767,7870,7804,8009,8714,7333,6869,4073,7591,7720,8167,8395,7907,7436,7538,7733,7393,7415,8555,6889,6778,4639,7572,7328,8156,7965,3510,5478,6392,7691,7570,7282,7109,6639,5875,7534,7461,7509,5424,8090,6824,7058,7466,7693,7359,7444,7852,4459,22,1096,5566,5986,5847,5138,5107,5259,5686,5035,5315,5992,6536,6852,6269,4094,5495,5445,5698,5629,4669,5499,5634,5146,2425,3910,2277,2424,5087,3959,5260,5323,5668,5191,4649,6234,6606,5729,5375,5008,5582,3228,5170,5501,5319,5532,5611,5047,3786,4585,5557,5267,4128,3623,1749,1787,920,1013,441,2114,3095,1341,1796,2729],\"type\":\"scatter\",\"xaxis\":\"x7\",\"yaxis\":\"y7\",\"texttemplate\":\"%{text:.2s}\"},{\"mode\":\"markers\",\"text\":[985.0,801.0,1349.0,1562.0,1600.0,1606.0,1510.0,959.0,822.0,1321.0,1263.0,1162.0,1406.0,1421.0,1248.0,1204.0,1000.0,683.0,1650.0,1927.0,1543.0,981.0,986.0,1416.0,1985.0,506.0,431.0,1167.0,1098.0,1096.0,1501.0,1360.0,1526.0,1550.0,1708.0,1005.0,1623.0,1712.0,1530.0,1605.0,1538.0,1746.0,1472.0,1589.0,1913.0,1815.0,2115.0,2475.0,2927.0,1635.0,1812.0,1107.0,1450.0,1917.0,1807.0,1461.0,1969.0,2402.0,1446.0,1851.0,2134.0,1685.0,1944.0,2077.0,605.0,1872.0,2133.0,1891.0,623.0,1977.0,2132.0,2417.0,2046.0,2056.0,2192.0,2744.0,3239.0,3117.0,2471.0,2077.0,2703.0,2121.0,1865.0,2210.0,2496.0,1693.0,2028.0,2425.0,1536.0,1685.0,2227.0,2252.0,3249.0,3115.0,1795.0,2808.0,3141.0,1471.0,2455.0,2895.0,3348.0,2034.0,2162.0,3267.0,3126.0,795.0,3744.0,3429.0,3204.0,3944.0,4189.0,1683.0,4036.0,4191.0,4073.0,4400.0,3872.0,4058.0,4595.0,5312.0,3351.0,4401.0,4451.0,2633.0,4433.0,4608.0,4714.0,4333.0,4362.0,4803.0,4182.0,4864.0,4105.0,3409.0,4553.0,3958.0,4123.0,3855.0,4575.0,4917.0,5805.0,4660.0,4274.0,4492.0,4978.0,4677.0,4679.0,4758.0,4788.0,4098.0,3982.0,3974.0,4968.0,5312.0,5342.0,4906.0,4548.0,4833.0,4401.0,3915.0,4586.0,4966.0,4460.0,5020.0,4891.0,5180.0,3767.0,4844.0,5119.0,4744.0,4010.0,4835.0,4507.0,4790.0,4991.0,5202.0,5305.0,4708.0,4648.0,5225.0,5515.0,5362.0,5119.0,4649.0,6043.0,4665.0,4629.0,4592.0,4040.0,5336.0,4881.0,4086.0,4258.0,4342.0,5084.0,5538.0,5923.0,5302.0,4458.0,4541.0,4332.0,3784.0,3387.0,3285.0,3606.0,3840.0,4590.0,4656.0,4390.0,3846.0,4475.0,4302.0,4266.0,4845.0,3574.0,4576.0,4866.0,4294.0,3785.0,4326.0,4602.0,4780.0,4792.0,4905.0,4150.0,3820.0,4338.0,4725.0,4694.0,3805.0,4153.0,5191.0,3873.0,4758.0,5895.0,5130.0,3542.0,4661.0,1115.0,4334.0,4634.0,5204.0,5058.0,5115.0,4727.0,4484.0,4940.0,3351.0,2710.0,1996.0,1842.0,3544.0,5345.0,5046.0,4713.0,4763.0,4785.0,3659.0,4760.0,4511.0,4274.0,4539.0,3641.0,4352.0,4795.0,2395.0,5423.0,5010.0,4630.0,4120.0,3907.0,4839.0,5202.0,2429.0,2918.0,3570.0,4456.0,4826.0,4765.0,4985.0,5409.0,5511.0,5117.0,4563.0,2416.0,2913.0,3644.0,5217.0,5041.0,4570.0,4748.0,2424.0,4195.0,4304.0,4308.0,4381.0,4187.0,4687.0,3894.0,2659.0,3747.0,627.0,3331.0,3669.0,4068.0,4186.0,3974.0,4046.0,3926.0,3649.0,4035.0,4205.0,4109.0,2933.0,3368.0,4067.0,3717.0,4486.0,4195.0,1817.0,3053.0,3392.0,3663.0,3520.0,2765.0,1607.0,2566.0,1495.0,2792.0,3068.0,3071.0,3867.0,2914.0,3613.0,3727.0,3940.0,3614.0,3485.0,3811.0,2594.0,705.0,3322.0,3620.0,3190.0,2743.0,3310.0,3523.0,3740.0,3709.0,3577.0,2739.0,2431.0,3403.0,3750.0,2660.0,3068.0,2209.0,1011.0,754.0,1317.0,1162.0,2302.0,2423.0,2999.0,2485.0,2294.0,1951.0,2236.0,2368.0,3272.0,4098.0,4521.0,3425.0,2376.0,3598.0,2177.0,4097.0,3214.0,2493.0,2311.0,2298.0,2935.0,3376.0,3292.0,3163.0,1301.0,1977.0,2432.0,4339.0,4270.0,4075.0,3456.0,4023.0,3243.0,3624.0,4509.0,4579.0,3761.0,4151.0,2832.0,2947.0,3784.0,4375.0,2802.0,3830.0,3831.0,2169.0,1529.0,3422.0,3922.0,4169.0,3005.0,4154.0,4318.0,2689.0,3129.0,3777.0,4773.0,5062.0,3487.0,2732.0,3389.0,4322.0,4363.0,1834.0,4990.0,3194.0,4066.0,3423.0,3333.0,3956.0,4916.0,5382.0,4569.0,4118.0,4911.0,5298.0,5847.0,6312.0,6192.0,4378.0,7836.0,5892.0,6153.0,6093.0,6230.0,6871.0,8362.0,3372.0,4996.0,5558.0,5102.0,5698.0,6133.0,5459.0,6235.0,6041.0,5936.0,6772.0,6436.0,6457.0,6460.0,6857.0,5169.0,5585.0,5918.0,4862.0,5409.0,6398.0,7460.0,7132.0,6370.0,6691.0,4367.0,6565.0,7290.0,6624.0,1027.0,3214.0,5633.0,6196.0,5026.0,6233.0,4220.0,6304.0,5572.0,5740.0,6169.0,6421.0,6296.0,6883.0,6359.0,6273.0,5728.0,4717.0,6572.0,7030.0,7429.0,6118.0,2843.0,5115.0,7424.0,7384.0,7639.0,8294.0,7129.0,4359.0,6073.0,5260.0,6770.0,6734.0,6536.0,6591.0,6043.0,5743.0,6855.0,7338.0,4127.0,8120.0,7641.0,6998.0,7001.0,7055.0,7494.0,7736.0,7498.0,6598.0,6664.0,4972.0,7421.0,7363.0,7665.0,7702.0,6978.0,5099.0,6825.0,6211.0,5905.0,5823.0,7458.0,6891.0,6779.0,7442.0,7335.0,6879.0,5463.0,5687.0,5531.0,6227.0,6660.0,7403.0,6241.0,6207.0,4840.0,4672.0,6569.0,6290.0,7264.0,7446.0,7499.0,6969.0,6031.0,6830.0,6786.0,5713.0,6591.0,5870.0,4459.0,7410.0,6966.0,7592.0,8173.0,6861.0,6904.0,6685.0,6597.0,7105.0,7216.0,7580.0,7261.0,7175.0,6824.0,5464.0,7013.0,7273.0,7534.0,7286.0,5786.0,6299.0,6544.0,6883.0,6784.0,7347.0,7605.0,7148.0,7865.0,4549.0,6530.0,7006.0,7375.0,7765.0,7582.0,6053.0,5255.0,6917.0,7040.0,7697.0,7713.0,7350.0,6140.0,5810.0,6034.0,6864.0,7112.0,6203.0,7504.0,5976.0,8227.0,7525.0,7767.0,7870.0,7804.0,8009.0,8714.0,7333.0,6869.0,4073.0,7591.0,7720.0,8167.0,8395.0,7907.0,7436.0,7538.0,7733.0,7393.0,7415.0,8555.0,6889.0,6778.0,4639.0,7572.0,7328.0,8156.0,7965.0,3510.0,5478.0,6392.0,7691.0,7570.0,7282.0,7109.0,6639.0,5875.0,7534.0,7461.0,7509.0,5424.0,8090.0,6824.0,7058.0,7466.0,7693.0,7359.0,7444.0,7852.0,4459.0,22.0,1096.0,5566.0,5986.0,5847.0,5138.0,5107.0,5259.0,5686.0,5035.0,5315.0,5992.0,6536.0,6852.0,6269.0,4094.0,5495.0,5445.0,5698.0,5629.0,4669.0,5499.0,5634.0,5146.0,2425.0,3910.0,2277.0,2424.0,5087.0,3959.0,5260.0,5323.0,5668.0,5191.0,4649.0,6234.0,6606.0,5729.0,5375.0,5008.0,5582.0,3228.0,5170.0,5501.0,5319.0,5532.0,5611.0,5047.0,3786.0,4585.0,5557.0,5267.0,4128.0,3623.0,1749.0,1787.0,920.0,1013.0,441.0,2114.0,3095.0,1341.0,1796.0,2729.0],\"x\":[0.805833,0.696087,0.43727299999999997,0.590435,0.436957,0.518261,0.49869600000000003,0.535833,0.434167,0.482917,0.6863640000000001,0.599545,0.47041700000000003,0.537826,0.49875,0.48375,0.5375,0.861667,0.741739,0.538333,0.457083,0.4,0.436522,0.49173900000000004,0.616957,0.8625,0.6875,0.793043,0.6517390000000001,0.722174,0.60375,0.829565,0.775417,0.43782600000000005,0.585217,0.929167,0.568333,0.738333,0.537917,0.494783,0.437391,0.506364,0.544167,0.457391,0.375833,0.314348,0.42347799999999997,0.505,0.516667,0.187917,0.407826,0.605,0.577778,0.423043,0.697391,0.712174,0.537917,0.68,0.8763639999999999,0.535,0.449583,0.318333,0.610417,0.789167,0.948261,0.551304,0.420833,0.775417,0.0,0.649565,0.594583,0.5273909999999999,0.496957,0.655652,0.776522,0.602917,0.525217,0.37916700000000003,0.47375,0.737391,0.624583,0.839565,0.805833,0.495,0.394167,0.493913,0.302174,0.31416700000000003,0.646667,0.918333,0.68625,0.65375,0.48,0.42625,0.642083,0.470833,0.602917,0.83625,0.8775,0.8575,0.716956,0.739167,0.819167,0.540417,0.67125,0.888333,0.479583,0.5425,0.665833,0.614167,0.407083,0.729583,0.887917,0.810833,0.776667,0.729167,0.835417,0.700833,0.457083,0.503333,0.762083,0.73,0.697083,0.737083,0.44416700000000003,0.59,0.54125,0.631667,0.58875,0.489167,0.632917,0.7475,0.863333,0.9225,0.867083,0.787917,0.837917,0.87,0.829583,0.719583,0.626667,0.749583,0.81,0.740833,0.69625,0.6775,0.65375,0.729583,0.81875,0.685,0.636667,0.677083,0.305,0.354167,0.45625,0.6525,0.6,0.597917,0.6220829999999999,0.568333,0.605,0.654583,0.747917,0.494583,0.507083,0.471667,0.688333,0.735833,0.670417,0.666667,0.74625,0.770417,0.7075,0.703333,0.573333,0.483333,0.513333,0.658333,0.634167,0.497917,0.434167,0.39625,0.444583,0.6825,0.637917,0.590417,0.743333,0.65125,0.757917,0.609167,0.578333,0.635833,0.559167,0.631667,0.47625,0.59125,0.585,0.604167,0.65125,0.650417,0.707083,0.69125,0.580417,0.5,0.550833,0.757083,0.540833,0.402917,0.583333,0.5425,0.465833,0.480833,0.550833,0.49125,0.6575,0.7575,0.630833,0.755,0.7529170000000001,0.592083,0.570417,0.424167,0.42375,0.415,0.729583,0.8175,0.712083,0.578333,0.575417,0.654583,0.722917,0.674167,0.77,0.47,0.455417,0.605,0.771667,0.76125,0.85,0.561765,0.554583,0.548333,0.597917,0.639167,0.727083,0.716667,0.742083,0.790417,0.886957,0.917083,0.939565,0.897917,0.75375,0.71375,0.692174,0.7125,0.697083,0.709167,0.590417,0.718333,0.695,0.69,0.88125,0.9,0.902083,0.9725,0.8625,0.845,0.848333,0.885417,0.84875,0.699167,0.6475,0.75375,0.791667,0.760833,0.71,0.647917,0.620833,0.684167,0.70125,0.7275,0.73375,0.80875,0.90625,0.896667,0.71625,0.483333,0.486667,0.579583,0.701667,0.895217,0.63625,0.574167,0.629167,0.74125,0.772083,0.622917,0.720417,0.812917,0.585833,0.8825,0.62375,0.703333,0.68375,0.71875,0.702083,0.6225,0.519167,0.734583,0.75875,0.7216670000000001,0.758333,0.813333,0.44625,0.552917,0.458333,0.587083,0.68875,0.93,0.575833,0.41,0.502083,0.6845829999999999,0.91,0.9625,0.757917,0.549167,0.64375,0.681667,0.698333,0.743043,0.830833,0.613333,0.524583,0.625833,0.612917,0.775833,0.827083,0.949583,0.970417,0.58,0.695833,0.5075,0.49,0.670833,0.59,0.66375,0.634167,0.500417,0.560833,0.58625,0.6375,0.595417,0.858333,0.7575,0.68625,0.5425,0.681304,0.506957,0.7625,0.503913,0.574167,0.636667,0.615833,0.6925,0.381304,0.44125,0.414583,0.524167,0.542083,0.531667,0.465,0.701667,0.646522,0.8475,0.802917,0.5075,0.4575,0.419167,0.5225,0.716087,0.443333,0.4975,0.45,0.83125,0.79625,0.91125,0.835833,0.64375,0.769583,0.74125,0.543333,0.31125,0.400833,0.416667,0.507917,0.672917,0.526667,0.779583,0.687917,0.622174,0.49625,0.722917,0.562083,0.54,0.73125,0.46458299999999997,0.41125,0.50875,0.53125,0.7529170000000001,0.634583,0.534583,0.515833,0.507826,0.594348,0.567917,0.554583,0.7375,0.395833,0.41,0.490833,0.395833,0.804783,0.615417,0.657083,0.62125,0.403333,0.50625,0.456667,0.513333,0.5675,0.407083,0.35041700000000003,0.47695699999999996,0.489167,0.6175,0.507083,0.579583,0.842083,0.755833,0.81,0.72875,0.807917,0.82125,0.83125,0.694167,0.885417,0.880833,0.477917,0.29,0.48125,0.43916700000000003,0.580833,0.738333,0.67625,0.5043479999999999,0.396667,0.469583,0.374167,0.377083,0.25416700000000003,0.275833,0.3175,0.435,0.46956499999999995,0.46625,0.408333,0.5029170000000001,0.507917,0.561667,0.390417,0.569167,0.6125,0.694583,0.682917,0.835417,0.766667,0.454167,0.427917,0.756667,0.400833,0.489583,0.587083,0.57,0.659583,0.797083,0.768333,0.735417,0.756667,0.74,0.664167,0.685833,0.744167,0.552083,0.360417,0.480417,0.57625,0.789583,0.794583,0.697917,0.52,0.523333,0.45625,0.530417,0.81125,0.765833,0.774583,0.716667,0.7470829999999999,0.7325,0.697083,0.67625,0.6845829999999999,0.67,0.492917,0.755417,0.549167,0.49333299999999997,0.487083,0.613333,0.61125,0.567083,0.467917,0.437083,0.538333,0.587917,0.833333,0.582083,0.569583,0.589583,0.504167,0.59875,0.777917,0.69,0.592083,0.567917,0.57375,0.534583,0.479167,0.504167,0.37333299999999997,0.36,0.4225,0.48875,0.60125,0.51875,0.447083,0.492083,0.53875,0.457917,0.450833,0.492083,0.57375,0.683333,0.6675,0.633333,0.529583,0.485833,0.699167,0.717917,0.645,0.505833,0.577083,0.600417,0.844167,0.865417,0.7625,0.694167,0.655,0.45,0.5966670000000001,0.594583,0.613333,0.62375,0.66875,0.704167,0.6775,0.659583,0.6425,0.613333,0.6525,0.654167,0.70375,0.672917,0.620417,0.7158329999999999,0.732917,0.530417,0.545417,0.686667,0.619583,0.519167,0.570833,0.603333,0.711667,0.734167,0.67375,0.677083,0.635833,0.615,0.712917,0.845833,0.730417,0.62,0.552083,0.590417,0.5875,0.638333,0.815,0.790833,0.755,0.74125,0.810417,0.73625,0.799167,0.5475,0.50375,0.52,0.577083,0.637083,0.6725,0.501667,0.57,0.734583,0.8725,0.536667,0.618333,0.66875,0.646667,0.46708299999999997,0.492917,0.57,0.630833,0.690833,0.69,0.542917,0.583333,0.649167,0.871667,0.79375,0.722917,0.6275,0.664167,0.708333,0.709583,0.761667,0.630833,0.463333,0.539167,0.494583,0.640417,0.7075,0.558333,0.692917,0.728333,0.815,0.572917,0.51,0.568333,0.641667,0.63625,0.800417,0.807083,0.72,0.694583,0.88,0.8254549999999999,0.666667,0.581667,0.522083,0.49125,0.532917,0.494167,0.567083,0.5475,0.333478,0.540833,0.645417,0.6591670000000001,0.741667,0.662917,0.552083,0.620417,0.524583,0.545417,0.692917,0.623333,0.685,0.61375,0.580417,0.56875,0.40458299999999997,0.468333,0.535417,0.786667,0.50625,0.555652,0.649583,0.806667,0.823333,0.7675,0.73375,0.485,0.50875,0.764167,0.91125,0.905417,0.925,0.5966670000000001,0.538333,0.485833,0.642917,0.650417,0.83875,0.907083,0.66625,0.625417,0.667917,0.556667,0.44125,0.515417,0.791304,0.734783,0.823333,0.652917,0.59,0.7529170000000001,0.483333,0.5775],\"y\":[985,801,1349,1562,1600,1606,1510,959,822,1321,1263,1162,1406,1421,1248,1204,1000,683,1650,1927,1543,981,986,1416,1985,506,431,1167,1098,1096,1501,1360,1526,1550,1708,1005,1623,1712,1530,1605,1538,1746,1472,1589,1913,1815,2115,2475,2927,1635,1812,1107,1450,1917,1807,1461,1969,2402,1446,1851,2134,1685,1944,2077,605,1872,2133,1891,623,1977,2132,2417,2046,2056,2192,2744,3239,3117,2471,2077,2703,2121,1865,2210,2496,1693,2028,2425,1536,1685,2227,2252,3249,3115,1795,2808,3141,1471,2455,2895,3348,2034,2162,3267,3126,795,3744,3429,3204,3944,4189,1683,4036,4191,4073,4400,3872,4058,4595,5312,3351,4401,4451,2633,4433,4608,4714,4333,4362,4803,4182,4864,4105,3409,4553,3958,4123,3855,4575,4917,5805,4660,4274,4492,4978,4677,4679,4758,4788,4098,3982,3974,4968,5312,5342,4906,4548,4833,4401,3915,4586,4966,4460,5020,4891,5180,3767,4844,5119,4744,4010,4835,4507,4790,4991,5202,5305,4708,4648,5225,5515,5362,5119,4649,6043,4665,4629,4592,4040,5336,4881,4086,4258,4342,5084,5538,5923,5302,4458,4541,4332,3784,3387,3285,3606,3840,4590,4656,4390,3846,4475,4302,4266,4845,3574,4576,4866,4294,3785,4326,4602,4780,4792,4905,4150,3820,4338,4725,4694,3805,4153,5191,3873,4758,5895,5130,3542,4661,1115,4334,4634,5204,5058,5115,4727,4484,4940,3351,2710,1996,1842,3544,5345,5046,4713,4763,4785,3659,4760,4511,4274,4539,3641,4352,4795,2395,5423,5010,4630,4120,3907,4839,5202,2429,2918,3570,4456,4826,4765,4985,5409,5511,5117,4563,2416,2913,3644,5217,5041,4570,4748,2424,4195,4304,4308,4381,4187,4687,3894,2659,3747,627,3331,3669,4068,4186,3974,4046,3926,3649,4035,4205,4109,2933,3368,4067,3717,4486,4195,1817,3053,3392,3663,3520,2765,1607,2566,1495,2792,3068,3071,3867,2914,3613,3727,3940,3614,3485,3811,2594,705,3322,3620,3190,2743,3310,3523,3740,3709,3577,2739,2431,3403,3750,2660,3068,2209,1011,754,1317,1162,2302,2423,2999,2485,2294,1951,2236,2368,3272,4098,4521,3425,2376,3598,2177,4097,3214,2493,2311,2298,2935,3376,3292,3163,1301,1977,2432,4339,4270,4075,3456,4023,3243,3624,4509,4579,3761,4151,2832,2947,3784,4375,2802,3830,3831,2169,1529,3422,3922,4169,3005,4154,4318,2689,3129,3777,4773,5062,3487,2732,3389,4322,4363,1834,4990,3194,4066,3423,3333,3956,4916,5382,4569,4118,4911,5298,5847,6312,6192,4378,7836,5892,6153,6093,6230,6871,8362,3372,4996,5558,5102,5698,6133,5459,6235,6041,5936,6772,6436,6457,6460,6857,5169,5585,5918,4862,5409,6398,7460,7132,6370,6691,4367,6565,7290,6624,1027,3214,5633,6196,5026,6233,4220,6304,5572,5740,6169,6421,6296,6883,6359,6273,5728,4717,6572,7030,7429,6118,2843,5115,7424,7384,7639,8294,7129,4359,6073,5260,6770,6734,6536,6591,6043,5743,6855,7338,4127,8120,7641,6998,7001,7055,7494,7736,7498,6598,6664,4972,7421,7363,7665,7702,6978,5099,6825,6211,5905,5823,7458,6891,6779,7442,7335,6879,5463,5687,5531,6227,6660,7403,6241,6207,4840,4672,6569,6290,7264,7446,7499,6969,6031,6830,6786,5713,6591,5870,4459,7410,6966,7592,8173,6861,6904,6685,6597,7105,7216,7580,7261,7175,6824,5464,7013,7273,7534,7286,5786,6299,6544,6883,6784,7347,7605,7148,7865,4549,6530,7006,7375,7765,7582,6053,5255,6917,7040,7697,7713,7350,6140,5810,6034,6864,7112,6203,7504,5976,8227,7525,7767,7870,7804,8009,8714,7333,6869,4073,7591,7720,8167,8395,7907,7436,7538,7733,7393,7415,8555,6889,6778,4639,7572,7328,8156,7965,3510,5478,6392,7691,7570,7282,7109,6639,5875,7534,7461,7509,5424,8090,6824,7058,7466,7693,7359,7444,7852,4459,22,1096,5566,5986,5847,5138,5107,5259,5686,5035,5315,5992,6536,6852,6269,4094,5495,5445,5698,5629,4669,5499,5634,5146,2425,3910,2277,2424,5087,3959,5260,5323,5668,5191,4649,6234,6606,5729,5375,5008,5582,3228,5170,5501,5319,5532,5611,5047,3786,4585,5557,5267,4128,3623,1749,1787,920,1013,441,2114,3095,1341,1796,2729],\"type\":\"scatter\",\"xaxis\":\"x8\",\"yaxis\":\"y8\",\"texttemplate\":\"%{text:.2s}\"},{\"mode\":\"markers\",\"text\":[985.0,801.0,1349.0,1562.0,1600.0,1606.0,1510.0,959.0,822.0,1321.0,1263.0,1162.0,1406.0,1421.0,1248.0,1204.0,1000.0,683.0,1650.0,1927.0,1543.0,981.0,986.0,1416.0,1985.0,506.0,431.0,1167.0,1098.0,1096.0,1501.0,1360.0,1526.0,1550.0,1708.0,1005.0,1623.0,1712.0,1530.0,1605.0,1538.0,1746.0,1472.0,1589.0,1913.0,1815.0,2115.0,2475.0,2927.0,1635.0,1812.0,1107.0,1450.0,1917.0,1807.0,1461.0,1969.0,2402.0,1446.0,1851.0,2134.0,1685.0,1944.0,2077.0,605.0,1872.0,2133.0,1891.0,623.0,1977.0,2132.0,2417.0,2046.0,2056.0,2192.0,2744.0,3239.0,3117.0,2471.0,2077.0,2703.0,2121.0,1865.0,2210.0,2496.0,1693.0,2028.0,2425.0,1536.0,1685.0,2227.0,2252.0,3249.0,3115.0,1795.0,2808.0,3141.0,1471.0,2455.0,2895.0,3348.0,2034.0,2162.0,3267.0,3126.0,795.0,3744.0,3429.0,3204.0,3944.0,4189.0,1683.0,4036.0,4191.0,4073.0,4400.0,3872.0,4058.0,4595.0,5312.0,3351.0,4401.0,4451.0,2633.0,4433.0,4608.0,4714.0,4333.0,4362.0,4803.0,4182.0,4864.0,4105.0,3409.0,4553.0,3958.0,4123.0,3855.0,4575.0,4917.0,5805.0,4660.0,4274.0,4492.0,4978.0,4677.0,4679.0,4758.0,4788.0,4098.0,3982.0,3974.0,4968.0,5312.0,5342.0,4906.0,4548.0,4833.0,4401.0,3915.0,4586.0,4966.0,4460.0,5020.0,4891.0,5180.0,3767.0,4844.0,5119.0,4744.0,4010.0,4835.0,4507.0,4790.0,4991.0,5202.0,5305.0,4708.0,4648.0,5225.0,5515.0,5362.0,5119.0,4649.0,6043.0,4665.0,4629.0,4592.0,4040.0,5336.0,4881.0,4086.0,4258.0,4342.0,5084.0,5538.0,5923.0,5302.0,4458.0,4541.0,4332.0,3784.0,3387.0,3285.0,3606.0,3840.0,4590.0,4656.0,4390.0,3846.0,4475.0,4302.0,4266.0,4845.0,3574.0,4576.0,4866.0,4294.0,3785.0,4326.0,4602.0,4780.0,4792.0,4905.0,4150.0,3820.0,4338.0,4725.0,4694.0,3805.0,4153.0,5191.0,3873.0,4758.0,5895.0,5130.0,3542.0,4661.0,1115.0,4334.0,4634.0,5204.0,5058.0,5115.0,4727.0,4484.0,4940.0,3351.0,2710.0,1996.0,1842.0,3544.0,5345.0,5046.0,4713.0,4763.0,4785.0,3659.0,4760.0,4511.0,4274.0,4539.0,3641.0,4352.0,4795.0,2395.0,5423.0,5010.0,4630.0,4120.0,3907.0,4839.0,5202.0,2429.0,2918.0,3570.0,4456.0,4826.0,4765.0,4985.0,5409.0,5511.0,5117.0,4563.0,2416.0,2913.0,3644.0,5217.0,5041.0,4570.0,4748.0,2424.0,4195.0,4304.0,4308.0,4381.0,4187.0,4687.0,3894.0,2659.0,3747.0,627.0,3331.0,3669.0,4068.0,4186.0,3974.0,4046.0,3926.0,3649.0,4035.0,4205.0,4109.0,2933.0,3368.0,4067.0,3717.0,4486.0,4195.0,1817.0,3053.0,3392.0,3663.0,3520.0,2765.0,1607.0,2566.0,1495.0,2792.0,3068.0,3071.0,3867.0,2914.0,3613.0,3727.0,3940.0,3614.0,3485.0,3811.0,2594.0,705.0,3322.0,3620.0,3190.0,2743.0,3310.0,3523.0,3740.0,3709.0,3577.0,2739.0,2431.0,3403.0,3750.0,2660.0,3068.0,2209.0,1011.0,754.0,1317.0,1162.0,2302.0,2423.0,2999.0,2485.0,2294.0,1951.0,2236.0,2368.0,3272.0,4098.0,4521.0,3425.0,2376.0,3598.0,2177.0,4097.0,3214.0,2493.0,2311.0,2298.0,2935.0,3376.0,3292.0,3163.0,1301.0,1977.0,2432.0,4339.0,4270.0,4075.0,3456.0,4023.0,3243.0,3624.0,4509.0,4579.0,3761.0,4151.0,2832.0,2947.0,3784.0,4375.0,2802.0,3830.0,3831.0,2169.0,1529.0,3422.0,3922.0,4169.0,3005.0,4154.0,4318.0,2689.0,3129.0,3777.0,4773.0,5062.0,3487.0,2732.0,3389.0,4322.0,4363.0,1834.0,4990.0,3194.0,4066.0,3423.0,3333.0,3956.0,4916.0,5382.0,4569.0,4118.0,4911.0,5298.0,5847.0,6312.0,6192.0,4378.0,7836.0,5892.0,6153.0,6093.0,6230.0,6871.0,8362.0,3372.0,4996.0,5558.0,5102.0,5698.0,6133.0,5459.0,6235.0,6041.0,5936.0,6772.0,6436.0,6457.0,6460.0,6857.0,5169.0,5585.0,5918.0,4862.0,5409.0,6398.0,7460.0,7132.0,6370.0,6691.0,4367.0,6565.0,7290.0,6624.0,1027.0,3214.0,5633.0,6196.0,5026.0,6233.0,4220.0,6304.0,5572.0,5740.0,6169.0,6421.0,6296.0,6883.0,6359.0,6273.0,5728.0,4717.0,6572.0,7030.0,7429.0,6118.0,2843.0,5115.0,7424.0,7384.0,7639.0,8294.0,7129.0,4359.0,6073.0,5260.0,6770.0,6734.0,6536.0,6591.0,6043.0,5743.0,6855.0,7338.0,4127.0,8120.0,7641.0,6998.0,7001.0,7055.0,7494.0,7736.0,7498.0,6598.0,6664.0,4972.0,7421.0,7363.0,7665.0,7702.0,6978.0,5099.0,6825.0,6211.0,5905.0,5823.0,7458.0,6891.0,6779.0,7442.0,7335.0,6879.0,5463.0,5687.0,5531.0,6227.0,6660.0,7403.0,6241.0,6207.0,4840.0,4672.0,6569.0,6290.0,7264.0,7446.0,7499.0,6969.0,6031.0,6830.0,6786.0,5713.0,6591.0,5870.0,4459.0,7410.0,6966.0,7592.0,8173.0,6861.0,6904.0,6685.0,6597.0,7105.0,7216.0,7580.0,7261.0,7175.0,6824.0,5464.0,7013.0,7273.0,7534.0,7286.0,5786.0,6299.0,6544.0,6883.0,6784.0,7347.0,7605.0,7148.0,7865.0,4549.0,6530.0,7006.0,7375.0,7765.0,7582.0,6053.0,5255.0,6917.0,7040.0,7697.0,7713.0,7350.0,6140.0,5810.0,6034.0,6864.0,7112.0,6203.0,7504.0,5976.0,8227.0,7525.0,7767.0,7870.0,7804.0,8009.0,8714.0,7333.0,6869.0,4073.0,7591.0,7720.0,8167.0,8395.0,7907.0,7436.0,7538.0,7733.0,7393.0,7415.0,8555.0,6889.0,6778.0,4639.0,7572.0,7328.0,8156.0,7965.0,3510.0,5478.0,6392.0,7691.0,7570.0,7282.0,7109.0,6639.0,5875.0,7534.0,7461.0,7509.0,5424.0,8090.0,6824.0,7058.0,7466.0,7693.0,7359.0,7444.0,7852.0,4459.0,22.0,1096.0,5566.0,5986.0,5847.0,5138.0,5107.0,5259.0,5686.0,5035.0,5315.0,5992.0,6536.0,6852.0,6269.0,4094.0,5495.0,5445.0,5698.0,5629.0,4669.0,5499.0,5634.0,5146.0,2425.0,3910.0,2277.0,2424.0,5087.0,3959.0,5260.0,5323.0,5668.0,5191.0,4649.0,6234.0,6606.0,5729.0,5375.0,5008.0,5582.0,3228.0,5170.0,5501.0,5319.0,5532.0,5611.0,5047.0,3786.0,4585.0,5557.0,5267.0,4128.0,3623.0,1749.0,1787.0,920.0,1013.0,441.0,2114.0,3095.0,1341.0,1796.0,2729.0],\"x\":[0.160446,0.24853899999999998,0.248309,0.160296,0.1869,0.0895652,0.168726,0.266804,0.36195,0.22326700000000002,0.12213199999999999,0.304627,0.301,0.126548,0.15796300000000002,0.188433,0.194017,0.146775,0.208317,0.195904,0.353242,0.17197,0.2466,0.15833,0.129796,0.29385,0.113837,0.1233,0.14536500000000002,0.0739826,0.187192,0.053212999999999996,0.264308,0.277752,0.127839,0.161079,0.1418,0.045408300000000006,0.36195,0.188839,0.221935,0.10855,0.20336700000000002,0.260883,0.417908,0.29137399999999997,0.251791,0.230104,0.264925,0.507463,0.223235,0.307846,0.195683,0.094113,0.250496,0.346539,0.18657100000000001,0.125248,0.289686,0.216425,0.30783299999999997,0.225754,0.203346,0.251871,0.343287,0.341352,0.12065,0.22015,0.26187699999999997,0.23296999999999998,0.220775,0.270604,0.136926,0.184309,0.20311700000000002,0.209579,0.231017,0.368167,0.20772100000000002,0.288783,0.22575,0.23426100000000002,0.24378699999999998,0.230725,0.209571,0.1843,0.212204,0.226996,0.17288800000000001,0.217646,0.258708,0.19714600000000002,0.182213,0.385571,0.388067,0.263063,0.16231199999999998,0.226992,0.13308299999999998,0.146767,0.324474,0.274879,0.25061700000000003,0.1107,0.226375,0.340808,0.303496,0.16356700000000002,0.157971,0.241925,0.325258,0.219521,0.230725,0.192175,0.185333,0.3265,0.3122,0.32090799999999997,0.240063,0.235075,0.10635399999999999,0.183454,0.342667,0.328996,0.295392,0.228246,0.16045,0.0746375,0.17600000000000002,0.11567100000000001,0.12064200000000001,0.189667,0.179725,0.13495,0.152979,0.126871,0.277354,0.201492,0.10821300000000002,0.125013,0.12065,0.148008,0.233842,0.207092,0.15423299999999998,0.19964200000000001,0.240679,0.23009200000000002,0.21393800000000002,0.131225,0.111329,0.207092,0.29228699999999996,0.253121,0.123142,0.138692,0.121896,0.187808,0.136817,0.149883,0.14055399999999998,0.15485,0.16356700000000002,0.30535,0.269283,0.16791199999999998,0.20647100000000002,0.143029,0.11940799999999999,0.102,0.155475,0.171025,0.172262,0.238804,0.222025,0.209571,0.09453330000000001,0.10758800000000002,0.144283,0.261821,0.18531199999999998,0.10260799999999999,0.11506199999999998,0.228858,0.08147919999999999,0.12625799999999998,0.149883,0.1592,0.225129,0.16791199999999998,0.183471,0.282337,0.200254,0.14613299999999999,0.24066700000000002,0.182833,0.208342,0.245033,0.215804,0.1306,0.113817,0.222021,0.1331,0.131221,0.16917100000000002,0.09080830000000001,0.200258,0.18346300000000001,0.178479,0.17413800000000001,0.168537,0.16481300000000002,0.156717,0.20585,0.13558299999999998,0.19715,0.184696,0.22825,0.201487,0.192175,0.151121,0.200258,0.164796,0.125621,0.211454,0.222633,0.208954,0.23632899999999998,0.14366700000000002,0.233208,0.139308,0.104467,0.248754,0.27675,0.146763,0.253108,0.210833,0.0839625,0.37561700000000003,0.304659,0.159825,0.12500799999999998,0.08333330000000001,0.141796,0.139929,0.185325,0.206467,0.212696,0.343943,0.0970208,0.192748,0.12437899999999999,0.153608,0.11505399999999999,0.088913,0.14180399999999999,0.1673,0.271146,0.164183,0.189675,0.178483,0.15174200000000002,0.134954,0.0964042,0.128125,0.0783667,0.0783833,0.0503792,0.1107,0.118171,0.14862899999999998,0.17288299999999998,0.206475,0.292296,0.22201300000000002,0.08334580000000001,0.205854,0.17725,0.134954,0.0223917,0.0454042,0.06345,0.0423042,0.143042,0.24815,0.141787,0.223883,0.258083,0.281717,0.175379,0.11008699999999999,0.243339,0.422275,0.221396,0.09266669999999999,0.0995125,0.11879200000000001,0.166658,0.148642,0.19776300000000002,0.229479,0.351371,0.176617,0.10635,0.135571,0.08209169999999999,0.136817,0.271779,0.18906199999999998,0.09205419999999999,0.057225,0.0690375,0.06219580000000001,0.189067,0.314675,0.212062,0.281721,0.306596,0.199633,0.136829,0.30536199999999997,0.168533,0.224496,0.18595,0.138054,0.11879200000000001,0.335825,0.167304,0.0988958,0.0684208,0.208954,0.142122,0.258092,0.271158,0.220158,0.100754,0.0957833,0.08395830000000001,0.06220830000000001,0.23258299999999998,0.266175,0.240058,0.08271669999999999,0.233221,0.0665417,0.06345,0.14055,0.06095830000000001,0.268042,0.260575,0.243167,0.16977899999999999,0.172896,0.06157080000000001,0.2214,0.047275,0.274246,0.190304,0.155091,0.239465,0.18845,0.29396100000000003,0.11941199999999999,0.13433699999999998,0.220154,0.192167,0.329665,0.365671,0.1847,0.129987,0.167908,0.174758,0.19154200000000002,0.0989,0.187552,0.131221,0.18096700000000002,0.378108,0.187183,0.251258,0.23135799999999998,0.34913,0.415429,0.220158,0.20275,0.222642,0.199638,0.11070799999999999,0.123767,0.161071,0.07339580000000001,0.342667,0.210829,0.24005,0.215792,0.261817,0.189067,0.187187,0.17849600000000002,0.121896,0.175996,0.1538,0.147379,0.133721,0.194037,0.11692899999999999,0.289796,0.40921199999999996,0.167283,0.141179,0.1816,0.091425,0.205846,0.190929,0.253112,0.22908299999999998,0.205717,0.234471,0.190913,0.237567,0.421642,0.205229,0.26803299999999997,0.193417,0.179117,0.226987,0.144904,0.161079,0.334571,0.228858,0.200875,0.345779,0.441563,0.4148,0.22575,0.22258699999999998,0.207713,0.23695,0.11506199999999998,0.149883,0.113192,0.110704,0.126883,0.16231700000000002,0.121271,0.08955830000000001,0.11756199999999999,0.1163,0.19278299999999998,0.220775,0.386821,0.187192,0.291671,0.31965,0.138067,0.25061700000000003,0.172267,0.312139,0.100133,0.180975,0.219529,0.300388,0.274871,0.232596,0.358196,0.249375,0.295274,0.290429,0.155471,0.190917,0.225129,0.284829,0.273629,0.16791199999999998,0.0659292,0.149871,0.283587,0.344546,0.303496,0.249383,0.11879200000000001,0.176625,0.34763299999999997,0.129975,0.116908,0.171638,0.156096,0.138058,0.133696,0.162938,0.15299200000000002,0.14987899999999998,0.230721,0.296029,0.216412,0.31406300000000004,0.23693699999999998,0.12313299999999999,0.225117,0.21269200000000002,0.147392,0.122512,0.229475,0.136817,0.083975,0.254367,0.233204,0.11816700000000001,0.102,0.172896,0.14055,0.198992,0.215171,0.196521,0.2954,0.134329,0.195279,0.23756300000000002,0.18656199999999998,0.184087,0.284833,0.209575,0.077125,0.15735,0.17538299999999998,0.144287,0.133721,0.207713,0.21454600000000001,0.343279,0.253733,0.176617,0.166667,0.144904,0.174746,0.148017,0.11381199999999998,0.11878699999999999,0.182842,0.179721,0.145525,0.300383,0.347642,0.271775,0.17165,0.165417,0.161071,0.16852899999999998,0.195267,0.126237,0.13495,0.194029,0.146142,0.163554,0.125629,0.180975,0.15173699999999998,0.15173299999999998,0.146775,0.08085,0.143679,0.166667,0.164187,0.114429,0.137442,0.165429,0.208967,0.2133,0.09392080000000001,0.138683,0.211454,0.1648,0.28481300000000004,0.15299200000000002,0.15735,0.170396,0.153617,0.165425,0.141179,0.129354,0.215792,0.257458,0.290421,0.129354,0.116908,0.1107,0.1561,0.238813,0.206479,0.122512,0.136212,0.169158,0.169771,0.141796,0.231354,0.177867,0.08645,0.12997899999999998,0.07277080000000001,0.0702833,0.08459580000000001,0.07214580000000001,0.244408,0.228858,0.128733,0.190925,0.112562,0.0771167,0.168533,0.113187,0.06407080000000001,0.151121,0.236321,0.187808,0.142421,0.171646,0.281104,0.224496,0.258713,0.09205419999999999,0.131846,0.08272080000000001,0.10386300000000001,0.247521,0.09018330000000001,0.15174200000000002,0.357587,0.215175,0.11816700000000001,0.154229,0.283583,0.22325799999999998,0.142404,0.236321,0.2444,0.13434200000000002,0.164179,0.227604,0.134958,0.09080419999999999,0.104475,0.0665458,0.117546,0.10635,0.268025,0.14116199999999998,0.189679,0.1903,0.18782100000000002,0.181596,0.235092,0.146142,0.27861199999999997,0.296037,0.182221,0.101371,0.23693699999999998,0.134954,0.11753699999999999,0.166054,0.08148330000000001,0.09454580000000001,0.07277919999999999,0.124375,0.132467,0.235692,0.398008,0.3582,0.213009,0.166667,0.157346,0.266175,0.270529,0.179108,0.236325,0.173513,0.304108,0.347835,0.214558,0.05784580000000001,0.1275,0.173517,0.342046,0.199625,0.15298699999999998,0.171025,0.179729,0.22761199999999998,0.235067,0.082725,0.103246,0.05287080000000001,0.148021,0.376871,0.1505,0.04665,0.237562,0.210821,0.115522,0.05847080000000001,0.05970419999999999,0.12437899999999999,0.08272080000000001,0.174129,0.324021,0.174754,0.1306,0.101379,0.157975,0.190308,0.296037,0.162937,0.174129,0.13122899999999998,0.10635,0.100742,0.0982583,0.221404,0.184092,0.132463,0.37438299999999997,0.407346,0.13308299999999998,0.07723039999999999,0.168726,0.316546,0.35013299999999997,0.155471,0.124383,0.350754,0.154846],\"y\":[985,801,1349,1562,1600,1606,1510,959,822,1321,1263,1162,1406,1421,1248,1204,1000,683,1650,1927,1543,981,986,1416,1985,506,431,1167,1098,1096,1501,1360,1526,1550,1708,1005,1623,1712,1530,1605,1538,1746,1472,1589,1913,1815,2115,2475,2927,1635,1812,1107,1450,1917,1807,1461,1969,2402,1446,1851,2134,1685,1944,2077,605,1872,2133,1891,623,1977,2132,2417,2046,2056,2192,2744,3239,3117,2471,2077,2703,2121,1865,2210,2496,1693,2028,2425,1536,1685,2227,2252,3249,3115,1795,2808,3141,1471,2455,2895,3348,2034,2162,3267,3126,795,3744,3429,3204,3944,4189,1683,4036,4191,4073,4400,3872,4058,4595,5312,3351,4401,4451,2633,4433,4608,4714,4333,4362,4803,4182,4864,4105,3409,4553,3958,4123,3855,4575,4917,5805,4660,4274,4492,4978,4677,4679,4758,4788,4098,3982,3974,4968,5312,5342,4906,4548,4833,4401,3915,4586,4966,4460,5020,4891,5180,3767,4844,5119,4744,4010,4835,4507,4790,4991,5202,5305,4708,4648,5225,5515,5362,5119,4649,6043,4665,4629,4592,4040,5336,4881,4086,4258,4342,5084,5538,5923,5302,4458,4541,4332,3784,3387,3285,3606,3840,4590,4656,4390,3846,4475,4302,4266,4845,3574,4576,4866,4294,3785,4326,4602,4780,4792,4905,4150,3820,4338,4725,4694,3805,4153,5191,3873,4758,5895,5130,3542,4661,1115,4334,4634,5204,5058,5115,4727,4484,4940,3351,2710,1996,1842,3544,5345,5046,4713,4763,4785,3659,4760,4511,4274,4539,3641,4352,4795,2395,5423,5010,4630,4120,3907,4839,5202,2429,2918,3570,4456,4826,4765,4985,5409,5511,5117,4563,2416,2913,3644,5217,5041,4570,4748,2424,4195,4304,4308,4381,4187,4687,3894,2659,3747,627,3331,3669,4068,4186,3974,4046,3926,3649,4035,4205,4109,2933,3368,4067,3717,4486,4195,1817,3053,3392,3663,3520,2765,1607,2566,1495,2792,3068,3071,3867,2914,3613,3727,3940,3614,3485,3811,2594,705,3322,3620,3190,2743,3310,3523,3740,3709,3577,2739,2431,3403,3750,2660,3068,2209,1011,754,1317,1162,2302,2423,2999,2485,2294,1951,2236,2368,3272,4098,4521,3425,2376,3598,2177,4097,3214,2493,2311,2298,2935,3376,3292,3163,1301,1977,2432,4339,4270,4075,3456,4023,3243,3624,4509,4579,3761,4151,2832,2947,3784,4375,2802,3830,3831,2169,1529,3422,3922,4169,3005,4154,4318,2689,3129,3777,4773,5062,3487,2732,3389,4322,4363,1834,4990,3194,4066,3423,3333,3956,4916,5382,4569,4118,4911,5298,5847,6312,6192,4378,7836,5892,6153,6093,6230,6871,8362,3372,4996,5558,5102,5698,6133,5459,6235,6041,5936,6772,6436,6457,6460,6857,5169,5585,5918,4862,5409,6398,7460,7132,6370,6691,4367,6565,7290,6624,1027,3214,5633,6196,5026,6233,4220,6304,5572,5740,6169,6421,6296,6883,6359,6273,5728,4717,6572,7030,7429,6118,2843,5115,7424,7384,7639,8294,7129,4359,6073,5260,6770,6734,6536,6591,6043,5743,6855,7338,4127,8120,7641,6998,7001,7055,7494,7736,7498,6598,6664,4972,7421,7363,7665,7702,6978,5099,6825,6211,5905,5823,7458,6891,6779,7442,7335,6879,5463,5687,5531,6227,6660,7403,6241,6207,4840,4672,6569,6290,7264,7446,7499,6969,6031,6830,6786,5713,6591,5870,4459,7410,6966,7592,8173,6861,6904,6685,6597,7105,7216,7580,7261,7175,6824,5464,7013,7273,7534,7286,5786,6299,6544,6883,6784,7347,7605,7148,7865,4549,6530,7006,7375,7765,7582,6053,5255,6917,7040,7697,7713,7350,6140,5810,6034,6864,7112,6203,7504,5976,8227,7525,7767,7870,7804,8009,8714,7333,6869,4073,7591,7720,8167,8395,7907,7436,7538,7733,7393,7415,8555,6889,6778,4639,7572,7328,8156,7965,3510,5478,6392,7691,7570,7282,7109,6639,5875,7534,7461,7509,5424,8090,6824,7058,7466,7693,7359,7444,7852,4459,22,1096,5566,5986,5847,5138,5107,5259,5686,5035,5315,5992,6536,6852,6269,4094,5495,5445,5698,5629,4669,5499,5634,5146,2425,3910,2277,2424,5087,3959,5260,5323,5668,5191,4649,6234,6606,5729,5375,5008,5582,3228,5170,5501,5319,5532,5611,5047,3786,4585,5557,5267,4128,3623,1749,1787,920,1013,441,2114,3095,1341,1796,2729],\"type\":\"scatter\",\"xaxis\":\"x9\",\"yaxis\":\"y9\",\"texttemplate\":\"%{text:.2s}\"}],                        {\"template\":{\"data\":{\"bar\":[{\"error_x\":{\"color\":\"#2a3f5f\"},\"error_y\":{\"color\":\"#2a3f5f\"},\"marker\":{\"line\":{\"color\":\"#E5ECF6\",\"width\":0.5},\"pattern\":{\"fillmode\":\"overlay\",\"size\":10,\"solidity\":0.2}},\"type\":\"bar\"}],\"barpolar\":[{\"marker\":{\"line\":{\"color\":\"#E5ECF6\",\"width\":0.5},\"pattern\":{\"fillmode\":\"overlay\",\"size\":10,\"solidity\":0.2}},\"type\":\"barpolar\"}],\"carpet\":[{\"aaxis\":{\"endlinecolor\":\"#2a3f5f\",\"gridcolor\":\"white\",\"linecolor\":\"white\",\"minorgridcolor\":\"white\",\"startlinecolor\":\"#2a3f5f\"},\"baxis\":{\"endlinecolor\":\"#2a3f5f\",\"gridcolor\":\"white\",\"linecolor\":\"white\",\"minorgridcolor\":\"white\",\"startlinecolor\":\"#2a3f5f\"},\"type\":\"carpet\"}],\"choropleth\":[{\"colorbar\":{\"outlinewidth\":0,\"ticks\":\"\"},\"type\":\"choropleth\"}],\"contour\":[{\"colorbar\":{\"outlinewidth\":0,\"ticks\":\"\"},\"colorscale\":[[0.0,\"#0d0887\"],[0.1111111111111111,\"#46039f\"],[0.2222222222222222,\"#7201a8\"],[0.3333333333333333,\"#9c179e\"],[0.4444444444444444,\"#bd3786\"],[0.5555555555555556,\"#d8576b\"],[0.6666666666666666,\"#ed7953\"],[0.7777777777777778,\"#fb9f3a\"],[0.8888888888888888,\"#fdca26\"],[1.0,\"#f0f921\"]],\"type\":\"contour\"}],\"contourcarpet\":[{\"colorbar\":{\"outlinewidth\":0,\"ticks\":\"\"},\"type\":\"contourcarpet\"}],\"heatmap\":[{\"colorbar\":{\"outlinewidth\":0,\"ticks\":\"\"},\"colorscale\":[[0.0,\"#0d0887\"],[0.1111111111111111,\"#46039f\"],[0.2222222222222222,\"#7201a8\"],[0.3333333333333333,\"#9c179e\"],[0.4444444444444444,\"#bd3786\"],[0.5555555555555556,\"#d8576b\"],[0.6666666666666666,\"#ed7953\"],[0.7777777777777778,\"#fb9f3a\"],[0.8888888888888888,\"#fdca26\"],[1.0,\"#f0f921\"]],\"type\":\"heatmap\"}],\"heatmapgl\":[{\"colorbar\":{\"outlinewidth\":0,\"ticks\":\"\"},\"colorscale\":[[0.0,\"#0d0887\"],[0.1111111111111111,\"#46039f\"],[0.2222222222222222,\"#7201a8\"],[0.3333333333333333,\"#9c179e\"],[0.4444444444444444,\"#bd3786\"],[0.5555555555555556,\"#d8576b\"],[0.6666666666666666,\"#ed7953\"],[0.7777777777777778,\"#fb9f3a\"],[0.8888888888888888,\"#fdca26\"],[1.0,\"#f0f921\"]],\"type\":\"heatmapgl\"}],\"histogram\":[{\"marker\":{\"pattern\":{\"fillmode\":\"overlay\",\"size\":10,\"solidity\":0.2}},\"type\":\"histogram\"}],\"histogram2d\":[{\"colorbar\":{\"outlinewidth\":0,\"ticks\":\"\"},\"colorscale\":[[0.0,\"#0d0887\"],[0.1111111111111111,\"#46039f\"],[0.2222222222222222,\"#7201a8\"],[0.3333333333333333,\"#9c179e\"],[0.4444444444444444,\"#bd3786\"],[0.5555555555555556,\"#d8576b\"],[0.6666666666666666,\"#ed7953\"],[0.7777777777777778,\"#fb9f3a\"],[0.8888888888888888,\"#fdca26\"],[1.0,\"#f0f921\"]],\"type\":\"histogram2d\"}],\"histogram2dcontour\":[{\"colorbar\":{\"outlinewidth\":0,\"ticks\":\"\"},\"colorscale\":[[0.0,\"#0d0887\"],[0.1111111111111111,\"#46039f\"],[0.2222222222222222,\"#7201a8\"],[0.3333333333333333,\"#9c179e\"],[0.4444444444444444,\"#bd3786\"],[0.5555555555555556,\"#d8576b\"],[0.6666666666666666,\"#ed7953\"],[0.7777777777777778,\"#fb9f3a\"],[0.8888888888888888,\"#fdca26\"],[1.0,\"#f0f921\"]],\"type\":\"histogram2dcontour\"}],\"mesh3d\":[{\"colorbar\":{\"outlinewidth\":0,\"ticks\":\"\"},\"type\":\"mesh3d\"}],\"parcoords\":[{\"line\":{\"colorbar\":{\"outlinewidth\":0,\"ticks\":\"\"}},\"type\":\"parcoords\"}],\"pie\":[{\"automargin\":true,\"type\":\"pie\"}],\"scatter\":[{\"marker\":{\"colorbar\":{\"outlinewidth\":0,\"ticks\":\"\"}},\"type\":\"scatter\"}],\"scatter3d\":[{\"line\":{\"colorbar\":{\"outlinewidth\":0,\"ticks\":\"\"}},\"marker\":{\"colorbar\":{\"outlinewidth\":0,\"ticks\":\"\"}},\"type\":\"scatter3d\"}],\"scattercarpet\":[{\"marker\":{\"colorbar\":{\"outlinewidth\":0,\"ticks\":\"\"}},\"type\":\"scattercarpet\"}],\"scattergeo\":[{\"marker\":{\"colorbar\":{\"outlinewidth\":0,\"ticks\":\"\"}},\"type\":\"scattergeo\"}],\"scattergl\":[{\"marker\":{\"colorbar\":{\"outlinewidth\":0,\"ticks\":\"\"}},\"type\":\"scattergl\"}],\"scattermapbox\":[{\"marker\":{\"colorbar\":{\"outlinewidth\":0,\"ticks\":\"\"}},\"type\":\"scattermapbox\"}],\"scatterpolar\":[{\"marker\":{\"colorbar\":{\"outlinewidth\":0,\"ticks\":\"\"}},\"type\":\"scatterpolar\"}],\"scatterpolargl\":[{\"marker\":{\"colorbar\":{\"outlinewidth\":0,\"ticks\":\"\"}},\"type\":\"scatterpolargl\"}],\"scatterternary\":[{\"marker\":{\"colorbar\":{\"outlinewidth\":0,\"ticks\":\"\"}},\"type\":\"scatterternary\"}],\"surface\":[{\"colorbar\":{\"outlinewidth\":0,\"ticks\":\"\"},\"colorscale\":[[0.0,\"#0d0887\"],[0.1111111111111111,\"#46039f\"],[0.2222222222222222,\"#7201a8\"],[0.3333333333333333,\"#9c179e\"],[0.4444444444444444,\"#bd3786\"],[0.5555555555555556,\"#d8576b\"],[0.6666666666666666,\"#ed7953\"],[0.7777777777777778,\"#fb9f3a\"],[0.8888888888888888,\"#fdca26\"],[1.0,\"#f0f921\"]],\"type\":\"surface\"}],\"table\":[{\"cells\":{\"fill\":{\"color\":\"#EBF0F8\"},\"line\":{\"color\":\"white\"}},\"header\":{\"fill\":{\"color\":\"#C8D4E3\"},\"line\":{\"color\":\"white\"}},\"type\":\"table\"}]},\"layout\":{\"annotationdefaults\":{\"arrowcolor\":\"#2a3f5f\",\"arrowhead\":0,\"arrowwidth\":1},\"autotypenumbers\":\"strict\",\"coloraxis\":{\"colorbar\":{\"outlinewidth\":0,\"ticks\":\"\"}},\"colorscale\":{\"diverging\":[[0,\"#8e0152\"],[0.1,\"#c51b7d\"],[0.2,\"#de77ae\"],[0.3,\"#f1b6da\"],[0.4,\"#fde0ef\"],[0.5,\"#f7f7f7\"],[0.6,\"#e6f5d0\"],[0.7,\"#b8e186\"],[0.8,\"#7fbc41\"],[0.9,\"#4d9221\"],[1,\"#276419\"]],\"sequential\":[[0.0,\"#0d0887\"],[0.1111111111111111,\"#46039f\"],[0.2222222222222222,\"#7201a8\"],[0.3333333333333333,\"#9c179e\"],[0.4444444444444444,\"#bd3786\"],[0.5555555555555556,\"#d8576b\"],[0.6666666666666666,\"#ed7953\"],[0.7777777777777778,\"#fb9f3a\"],[0.8888888888888888,\"#fdca26\"],[1.0,\"#f0f921\"]],\"sequentialminus\":[[0.0,\"#0d0887\"],[0.1111111111111111,\"#46039f\"],[0.2222222222222222,\"#7201a8\"],[0.3333333333333333,\"#9c179e\"],[0.4444444444444444,\"#bd3786\"],[0.5555555555555556,\"#d8576b\"],[0.6666666666666666,\"#ed7953\"],[0.7777777777777778,\"#fb9f3a\"],[0.8888888888888888,\"#fdca26\"],[1.0,\"#f0f921\"]]},\"colorway\":[\"#636efa\",\"#EF553B\",\"#00cc96\",\"#ab63fa\",\"#FFA15A\",\"#19d3f3\",\"#FF6692\",\"#B6E880\",\"#FF97FF\",\"#FECB52\"],\"font\":{\"color\":\"#2a3f5f\"},\"geo\":{\"bgcolor\":\"white\",\"lakecolor\":\"white\",\"landcolor\":\"#E5ECF6\",\"showlakes\":true,\"showland\":true,\"subunitcolor\":\"white\"},\"hoverlabel\":{\"align\":\"left\"},\"hovermode\":\"closest\",\"mapbox\":{\"style\":\"light\"},\"paper_bgcolor\":\"white\",\"plot_bgcolor\":\"#E5ECF6\",\"polar\":{\"angularaxis\":{\"gridcolor\":\"white\",\"linecolor\":\"white\",\"ticks\":\"\"},\"bgcolor\":\"#E5ECF6\",\"radialaxis\":{\"gridcolor\":\"white\",\"linecolor\":\"white\",\"ticks\":\"\"}},\"scene\":{\"xaxis\":{\"backgroundcolor\":\"#E5ECF6\",\"gridcolor\":\"white\",\"gridwidth\":2,\"linecolor\":\"white\",\"showbackground\":true,\"ticks\":\"\",\"zerolinecolor\":\"white\"},\"yaxis\":{\"backgroundcolor\":\"#E5ECF6\",\"gridcolor\":\"white\",\"gridwidth\":2,\"linecolor\":\"white\",\"showbackground\":true,\"ticks\":\"\",\"zerolinecolor\":\"white\"},\"zaxis\":{\"backgroundcolor\":\"#E5ECF6\",\"gridcolor\":\"white\",\"gridwidth\":2,\"linecolor\":\"white\",\"showbackground\":true,\"ticks\":\"\",\"zerolinecolor\":\"white\"}},\"shapedefaults\":{\"line\":{\"color\":\"#2a3f5f\"}},\"ternary\":{\"aaxis\":{\"gridcolor\":\"white\",\"linecolor\":\"white\",\"ticks\":\"\"},\"baxis\":{\"gridcolor\":\"white\",\"linecolor\":\"white\",\"ticks\":\"\"},\"bgcolor\":\"#E5ECF6\",\"caxis\":{\"gridcolor\":\"white\",\"linecolor\":\"white\",\"ticks\":\"\"}},\"title\":{\"x\":0.05},\"xaxis\":{\"automargin\":true,\"gridcolor\":\"white\",\"linecolor\":\"white\",\"ticks\":\"\",\"title\":{\"standoff\":15},\"zerolinecolor\":\"white\",\"zerolinewidth\":2},\"yaxis\":{\"automargin\":true,\"gridcolor\":\"white\",\"linecolor\":\"white\",\"ticks\":\"\",\"title\":{\"standoff\":15},\"zerolinecolor\":\"white\",\"zerolinewidth\":2}}},\"xaxis\":{\"anchor\":\"y\",\"domain\":[0.0,0.2888888888888889]},\"yaxis\":{\"anchor\":\"x\",\"domain\":[0.7777777777777778,1.0]},\"xaxis2\":{\"anchor\":\"y2\",\"domain\":[0.35555555555555557,0.6444444444444445]},\"yaxis2\":{\"anchor\":\"x2\",\"domain\":[0.7777777777777778,1.0]},\"xaxis3\":{\"anchor\":\"y3\",\"domain\":[0.7111111111111111,1.0]},\"yaxis3\":{\"anchor\":\"x3\",\"domain\":[0.7777777777777778,1.0]},\"xaxis4\":{\"anchor\":\"y4\",\"domain\":[0.0,0.2888888888888889]},\"yaxis4\":{\"anchor\":\"x4\",\"domain\":[0.3888888888888889,0.6111111111111112]},\"xaxis5\":{\"anchor\":\"y5\",\"domain\":[0.35555555555555557,0.6444444444444445]},\"yaxis5\":{\"anchor\":\"x5\",\"domain\":[0.3888888888888889,0.6111111111111112]},\"xaxis6\":{\"anchor\":\"y6\",\"domain\":[0.7111111111111111,1.0]},\"yaxis6\":{\"anchor\":\"x6\",\"domain\":[0.3888888888888889,0.6111111111111112]},\"xaxis7\":{\"anchor\":\"y7\",\"domain\":[0.0,0.2888888888888889]},\"yaxis7\":{\"anchor\":\"x7\",\"domain\":[0.0,0.22222222222222224]},\"xaxis8\":{\"anchor\":\"y8\",\"domain\":[0.35555555555555557,0.6444444444444445]},\"yaxis8\":{\"anchor\":\"x8\",\"domain\":[0.0,0.22222222222222224]},\"xaxis9\":{\"anchor\":\"y9\",\"domain\":[0.7111111111111111,1.0]},\"yaxis9\":{\"anchor\":\"x9\",\"domain\":[0.0,0.22222222222222224]},\"annotations\":[{\"font\":{\"size\":16},\"showarrow\":false,\"text\":\"yr vs cnt\",\"x\":0.14444444444444446,\"xanchor\":\"center\",\"xref\":\"paper\",\"y\":1.0,\"yanchor\":\"bottom\",\"yref\":\"paper\"},{\"font\":{\"size\":16},\"showarrow\":false,\"text\":\"mnth vs cnt\",\"x\":0.5,\"xanchor\":\"center\",\"xref\":\"paper\",\"y\":1.0,\"yanchor\":\"bottom\",\"yref\":\"paper\"},{\"font\":{\"size\":16},\"showarrow\":false,\"text\":\"holiday vs cnt\",\"x\":0.8555555555555556,\"xanchor\":\"center\",\"xref\":\"paper\",\"y\":1.0,\"yanchor\":\"bottom\",\"yref\":\"paper\"},{\"font\":{\"size\":16},\"showarrow\":false,\"text\":\"workingday_num vs cnt\",\"x\":0.14444444444444446,\"xanchor\":\"center\",\"xref\":\"paper\",\"y\":0.6111111111111112,\"yanchor\":\"bottom\",\"yref\":\"paper\"},{\"font\":{\"size\":16},\"showarrow\":false,\"text\":\"weekday_num vs cnt\",\"x\":0.5,\"xanchor\":\"center\",\"xref\":\"paper\",\"y\":0.6111111111111112,\"yanchor\":\"bottom\",\"yref\":\"paper\"},{\"font\":{\"size\":16},\"showarrow\":false,\"text\":\"weathersit_num vs cnt\",\"x\":0.8555555555555556,\"xanchor\":\"center\",\"xref\":\"paper\",\"y\":0.6111111111111112,\"yanchor\":\"bottom\",\"yref\":\"paper\"},{\"font\":{\"size\":16},\"showarrow\":false,\"text\":\"temp vs cnt\",\"x\":0.14444444444444446,\"xanchor\":\"center\",\"xref\":\"paper\",\"y\":0.22222222222222224,\"yanchor\":\"bottom\",\"yref\":\"paper\"},{\"font\":{\"size\":16},\"showarrow\":false,\"text\":\"hum vs cnt\",\"x\":0.5,\"xanchor\":\"center\",\"xref\":\"paper\",\"y\":0.22222222222222224,\"yanchor\":\"bottom\",\"yref\":\"paper\"},{\"font\":{\"size\":16},\"showarrow\":false,\"text\":\"windspeed vs cnt\",\"x\":0.8555555555555556,\"xanchor\":\"center\",\"xref\":\"paper\",\"y\":0.22222222222222224,\"yanchor\":\"bottom\",\"yref\":\"paper\"}],\"height\":600,\"width\":1200,\"title\":{\"text\":\"independent variables vs dependent variable\",\"x\":0.5,\"xanchor\":\"center\",\"yanchor\":\"middle\"},\"showlegend\":false},                        {\"responsive\": true}                    ).then(function(){\n",
              "                            \n",
              "var gd = document.getElementById('37a1a494-546e-4997-971d-bc26f343748e');\n",
              "var x = new MutationObserver(function (mutations, observer) {{\n",
              "        var display = window.getComputedStyle(gd).display;\n",
              "        if (!display || display === 'none') {{\n",
              "            console.log([gd, 'removed!']);\n",
              "            Plotly.purge(gd);\n",
              "            observer.disconnect();\n",
              "        }}\n",
              "}});\n",
              "\n",
              "// Listen for the removal of the full notebook cells\n",
              "var notebookContainer = gd.closest('#notebook-container');\n",
              "if (notebookContainer) {{\n",
              "    x.observe(notebookContainer, {childList: true});\n",
              "}}\n",
              "\n",
              "// Listen for the clearing of the current output cell\n",
              "var outputEl = gd.closest('.output');\n",
              "if (outputEl) {{\n",
              "    x.observe(outputEl, {childList: true});\n",
              "}}\n",
              "\n",
              "                        })                };                            </script>        </div>\n",
              "</body>\n",
              "</html>"
            ]
          },
          "metadata": {},
          "output_type": "display_data"
        }
      ],
      "metadata": {
        "colab": {
          "base_uri": "https://localhost:8080/",
          "height": 617
        },
        "cellView": "form",
        "id": "1XnmGTPZsS4q",
        "outputId": "c67cd36d-206a-49c5-e799-81cc09a1137e"
      }
    },
    {
      "cell_type": "markdown",
      "source": [
        "##2.2 Adição gradual de variáveis na regressão\n",
        "\n",
        "Para fazer uma seleção cuidadosa de variáveis, elas serão ordenadas por coeficiente de correlação com a variável dependente ('cnt)"
      ],
      "metadata": {
        "id": "Q11sculgsS4q"
      }
    },
    {
      "cell_type": "code",
      "execution_count": 29,
      "source": [
        "X = df[['yr','mnth','holiday','workingday_num', 'weekday_num', 'temp','hum','windspeed', 'weathersit_num']]\r\n",
        "y = df['cnt']\r\n",
        "\r\n",
        "corrs = np.corrcoef(np.transpose(X), y)[-1][:-1]\r\n",
        "ncorrs = [(X.columns[list(corrs).index(x)], x) for x in list(corrs)]\r\n",
        "ncorrs.sort(key = lambda x : abs(x[1]), reverse=True)\r\n",
        "sorted_vars = [i[0] for i in ncorrs]\r\n",
        "print(pd.DataFrame(ncorrs))"
      ],
      "outputs": [
        {
          "output_type": "stream",
          "name": "stdout",
          "text": [
            "                0         1\n",
            "0            temp  0.627494\n",
            "1              yr  0.566710\n",
            "2  weathersit_num -0.297391\n",
            "3            mnth  0.279977\n",
            "4       windspeed -0.234545\n",
            "5             hum -0.100659\n",
            "6         holiday -0.068348\n",
            "7     weekday_num  0.067443\n",
            "8  workingday_num  0.061156\n"
          ]
        }
      ],
      "metadata": {
        "execution": {
          "iopub.status.busy": "2021-11-13T13:58:54.393836Z",
          "iopub.execute_input": "2021-11-13T13:58:54.39451Z",
          "iopub.status.idle": "2021-11-13T13:58:54.473855Z",
          "shell.execute_reply.started": "2021-11-13T13:58:54.394473Z",
          "shell.execute_reply": "2021-11-13T13:58:54.473046Z"
        },
        "trusted": true,
        "colab": {
          "base_uri": "https://localhost:8080/"
        },
        "id": "le1KHdzfsS4s",
        "outputId": "5af4236a-8f96-4206-afd7-a6339a8f408b"
      }
    },
    {
      "cell_type": "markdown",
      "source": [
        "###2.2.1 Apenas temp (R² = 0.898)"
      ],
      "metadata": {
        "id": "NgxsaRMVsS4s"
      }
    },
    {
      "cell_type": "markdown",
      "source": [
        "P-valor de 0, menor que o nível de significância de 0,05. H0 rejeitada, isto é, a regressão é significativa. O coeficiente da variável temp tem p-valor menor que o nível de significância (0,05), indicando que temp é significativa. \n",
        "\n",
        "R-quadrado ajustado de 0,898"
      ],
      "metadata": {
        "id": "WVqk7j70sS4t"
      }
    },
    {
      "cell_type": "code",
      "execution_count": 30,
      "source": [
        "import statsmodels.api as sm\r\n",
        "\r\n",
        "model = sm.OLS(y, df['temp'])\r\n",
        "model_results = model.fit()\r\n",
        "print(model_results.summary())"
      ],
      "outputs": [
        {
          "output_type": "stream",
          "name": "stderr",
          "text": [
            "/usr/local/lib/python3.7/dist-packages/statsmodels/tools/_testing.py:19: FutureWarning:\n",
            "\n",
            "pandas.util.testing is deprecated. Use the functions in the public API at pandas.testing instead.\n",
            "\n"
          ]
        },
        {
          "output_type": "stream",
          "name": "stdout",
          "text": [
            "                                 OLS Regression Results                                \n",
            "=======================================================================================\n",
            "Dep. Variable:                    cnt   R-squared (uncentered):                   0.898\n",
            "Model:                            OLS   Adj. R-squared (uncentered):              0.898\n",
            "Method:                 Least Squares   F-statistic:                              6435.\n",
            "Date:                Tue, 23 Nov 2021   Prob (F-statistic):                        0.00\n",
            "Time:                        00:00:08   Log-Likelihood:                         -6414.2\n",
            "No. Observations:                 731   AIC:                                  1.283e+04\n",
            "Df Residuals:                     730   BIC:                                  1.283e+04\n",
            "Df Model:                           1                                                  \n",
            "Covariance Type:            nonrobust                                                  \n",
            "==============================================================================\n",
            "                 coef    std err          t      P>|t|      [0.025      0.975]\n",
            "------------------------------------------------------------------------------\n",
            "temp        8798.4169    109.683     80.217      0.000    8583.086    9013.748\n",
            "==============================================================================\n",
            "Omnibus:                        7.295   Durbin-Watson:                   0.451\n",
            "Prob(Omnibus):                  0.026   Jarque-Bera (JB):                4.965\n",
            "Skew:                          -0.000   Prob(JB):                       0.0835\n",
            "Kurtosis:                       2.596   Cond. No.                         1.00\n",
            "==============================================================================\n",
            "\n",
            "Warnings:\n",
            "[1] Standard Errors assume that the covariance matrix of the errors is correctly specified.\n"
          ]
        }
      ],
      "metadata": {
        "colab": {
          "base_uri": "https://localhost:8080/"
        },
        "id": "rIjC8fbgsS4t",
        "outputId": "be558739-906a-45ee-9541-4c8b69ff298a"
      }
    },
    {
      "cell_type": "markdown",
      "source": [
        "###2.2.2 Temp + yr (R² = 0.950)"
      ],
      "metadata": {
        "id": "9pWlAAxjsgTd"
      }
    },
    {
      "cell_type": "markdown",
      "source": [
        "P-valor de 0, menor que o nível de significância de 0,05. H0 rejeitada, isto é, a regressão é significativa. O coeficiente da variável adicionada tem p-valor menor que o nível de significância (0,05), indicando que yr (ano) é significativa. \n",
        "\n",
        "R-quadrado ajustado de 0,950, maior que o anterior"
      ],
      "metadata": {
        "id": "H0d96EcdsgTd"
      }
    },
    {
      "cell_type": "code",
      "execution_count": 31,
      "source": [
        "model = sm.OLS(y, df[['temp','yr']])\r\n",
        "model_results = model.fit()\r\n",
        "print(model_results.summary())"
      ],
      "outputs": [
        {
          "output_type": "stream",
          "name": "stdout",
          "text": [
            "                                 OLS Regression Results                                \n",
            "=======================================================================================\n",
            "Dep. Variable:                    cnt   R-squared (uncentered):                   0.950\n",
            "Model:                            OLS   Adj. R-squared (uncentered):              0.950\n",
            "Method:                 Least Squares   F-statistic:                              6938.\n",
            "Date:                Tue, 23 Nov 2021   Prob (F-statistic):                        0.00\n",
            "Time:                        00:00:08   Log-Likelihood:                         -6153.4\n",
            "No. Observations:                 731   AIC:                                  1.231e+04\n",
            "Df Residuals:                     729   BIC:                                  1.232e+04\n",
            "Df Model:                           2                                                  \n",
            "Covariance Type:            nonrobust                                                  \n",
            "==============================================================================\n",
            "                 coef    std err          t      P>|t|      [0.025      0.975]\n",
            "------------------------------------------------------------------------------\n",
            "temp        6859.7911    104.178     65.847      0.000    6655.267    7064.315\n",
            "yr          2142.0454     77.749     27.551      0.000    1989.408    2294.683\n",
            "==============================================================================\n",
            "Omnibus:                       38.012   Durbin-Watson:                   0.893\n",
            "Prob(Omnibus):                  0.000   Jarque-Bera (JB):               46.216\n",
            "Skew:                          -0.504   Prob(JB):                     9.21e-11\n",
            "Kurtosis:                       3.709   Cond. No.                         2.42\n",
            "==============================================================================\n",
            "\n",
            "Warnings:\n",
            "[1] Standard Errors assume that the covariance matrix of the errors is correctly specified.\n"
          ]
        }
      ],
      "metadata": {
        "colab": {
          "base_uri": "https://localhost:8080/"
        },
        "id": "-uvNUYGHsgTd",
        "outputId": "793859a4-86d3-4625-a07f-7c6e51c4c31a"
      }
    },
    {
      "cell_type": "markdown",
      "source": [
        "###2.2.2 Temp + yr +weathersit_num (R² = 0.952)"
      ],
      "metadata": {
        "id": "AC_8Q2Dcskl1"
      }
    },
    {
      "cell_type": "markdown",
      "source": [
        "P-valor de 0, menor que o nível de significância de 0,05. H0 rejeitada, isto é, a regressão é significativa. O coeficiente da variável adicionada tem p-valor menor que o nível de significância (0,05), indicando que weathersit_num é significativa. \n",
        "\n",
        "R-quadrado ajustado de 0,952, maior que o anterior"
      ],
      "metadata": {
        "id": "DpD7Nn18uNZ6"
      }
    },
    {
      "cell_type": "code",
      "execution_count": 32,
      "source": [
        "model = sm.OLS(y, df[['temp','yr','weathersit_num']])\r\n",
        "model_results = model.fit()\r\n",
        "print(model_results.summary())"
      ],
      "outputs": [
        {
          "output_type": "stream",
          "name": "stdout",
          "text": [
            "                                 OLS Regression Results                                \n",
            "=======================================================================================\n",
            "Dep. Variable:                    cnt   R-squared (uncentered):                   0.952\n",
            "Model:                            OLS   Adj. R-squared (uncentered):              0.952\n",
            "Method:                 Least Squares   F-statistic:                              4797.\n",
            "Date:                Tue, 23 Nov 2021   Prob (F-statistic):                        0.00\n",
            "Time:                        00:00:08   Log-Likelihood:                         -6140.2\n",
            "No. Observations:                 731   AIC:                                  1.229e+04\n",
            "Df Residuals:                     728   BIC:                                  1.230e+04\n",
            "Df Model:                           3                                                  \n",
            "Covariance Type:            nonrobust                                                  \n",
            "==================================================================================\n",
            "                     coef    std err          t      P>|t|      [0.025      0.975]\n",
            "----------------------------------------------------------------------------------\n",
            "temp            7460.2713    154.828     48.184      0.000    7156.308    7764.234\n",
            "yr              2212.8384     77.629     28.505      0.000    2060.435    2365.241\n",
            "weathersit_num  -272.8443     52.772     -5.170      0.000    -376.447    -169.241\n",
            "==============================================================================\n",
            "Omnibus:                       34.477   Durbin-Watson:                   0.815\n",
            "Prob(Omnibus):                  0.000   Jarque-Bera (JB):               39.459\n",
            "Skew:                          -0.501   Prob(JB):                     2.70e-09\n",
            "Kurtosis:                       3.540   Cond. No.                         6.67\n",
            "==============================================================================\n",
            "\n",
            "Warnings:\n",
            "[1] Standard Errors assume that the covariance matrix of the errors is correctly specified.\n"
          ]
        }
      ],
      "metadata": {
        "colab": {
          "base_uri": "https://localhost:8080/"
        },
        "id": "hNqzwr2RsgTd",
        "outputId": "6629ea72-bdce-4b50-ef58-4cfb93299a01"
      }
    },
    {
      "cell_type": "markdown",
      "source": [
        "###2.2.3 Temp + yr + weathersit_num + mnth (R² = 0.958)"
      ],
      "metadata": {
        "id": "C-MQmutVsgTe"
      }
    },
    {
      "cell_type": "markdown",
      "source": [
        "P-valor de 0, menor que o nível de significância de 0,05. H0 rejeitada, isto é, a regressão é significativa. O coeficiente da variável adicionada tem p-valor menor que o nível de significância (0,05), indicando que mnth (mês) é significativa. \n",
        "\n",
        "R-quadrado ajustado de 0,958, maior que o anterior"
      ],
      "metadata": {
        "id": "IeV53USYsgTe"
      }
    },
    {
      "cell_type": "code",
      "execution_count": 33,
      "source": [
        "model = sm.OLS(y, df[['temp','yr','weathersit_num','mnth']])\r\n",
        "model_results = model.fit()\r\n",
        "print(model_results.summary())"
      ],
      "outputs": [
        {
          "output_type": "stream",
          "name": "stdout",
          "text": [
            "                                 OLS Regression Results                                \n",
            "=======================================================================================\n",
            "Dep. Variable:                    cnt   R-squared (uncentered):                   0.959\n",
            "Model:                            OLS   Adj. R-squared (uncentered):              0.958\n",
            "Method:                 Least Squares   F-statistic:                              4202.\n",
            "Date:                Tue, 23 Nov 2021   Prob (F-statistic):                        0.00\n",
            "Time:                        00:00:09   Log-Likelihood:                         -6085.5\n",
            "No. Observations:                 731   AIC:                                  1.218e+04\n",
            "Df Residuals:                     727   BIC:                                  1.220e+04\n",
            "Df Model:                           4                                                  \n",
            "Covariance Type:            nonrobust                                                  \n",
            "==================================================================================\n",
            "                     coef    std err          t      P>|t|      [0.025      0.975]\n",
            "----------------------------------------------------------------------------------\n",
            "temp            6556.2148    166.237     39.439      0.000    6229.852    6882.577\n",
            "yr              2170.9893     72.186     30.075      0.000    2029.271    2312.708\n",
            "weathersit_num  -458.6927     51.919     -8.835      0.000    -560.621    -356.764\n",
            "mnth             115.4444     10.658     10.832      0.000      94.521     136.368\n",
            "==============================================================================\n",
            "Omnibus:                      109.684   Durbin-Watson:                   0.869\n",
            "Prob(Omnibus):                  0.000   Jarque-Bera (JB):              194.288\n",
            "Skew:                          -0.918   Prob(JB):                     6.47e-43\n",
            "Kurtosis:                       4.734   Cond. No.                         34.3\n",
            "==============================================================================\n",
            "\n",
            "Warnings:\n",
            "[1] Standard Errors assume that the covariance matrix of the errors is correctly specified.\n"
          ]
        }
      ],
      "metadata": {
        "colab": {
          "base_uri": "https://localhost:8080/"
        },
        "id": "Xsk0yHRqsgTe",
        "outputId": "33a4e9a7-6b77-4cd3-b80d-f205ce1e3a66"
      }
    },
    {
      "cell_type": "markdown",
      "source": [
        "###2.2.4 Temp + yr + weathersit_num + mnth + windspeed (R² = 0.958)"
      ],
      "metadata": {
        "id": "hdmLLEOgsgTe"
      }
    },
    {
      "cell_type": "markdown",
      "source": [
        "P-valor de 0, menor que o nível de significância de 0,05. H0 rejeitada, isto é, a regressão é significativa. O coeficiente da variável adicionada tem p-valor bem maior que o nível de significância (0,05), indicando que windspeed não é significativa. \n",
        "\n",
        "R-quadrado ajustado de 0,958, igual ao anterior."
      ],
      "metadata": {
        "id": "XQYANpMnsgTf"
      }
    },
    {
      "cell_type": "code",
      "execution_count": 34,
      "source": [
        "model = sm.OLS(y, df[['temp','yr','weathersit_num','mnth','windspeed']])\n",
        "model_results = model.fit()\n",
        "print(model_results.summary())"
      ],
      "outputs": [
        {
          "output_type": "stream",
          "name": "stdout",
          "text": [
            "                                 OLS Regression Results                                \n",
            "=======================================================================================\n",
            "Dep. Variable:                    cnt   R-squared (uncentered):                   0.959\n",
            "Model:                            OLS   Adj. R-squared (uncentered):              0.958\n",
            "Method:                 Least Squares   F-statistic:                              3358.\n",
            "Date:                Tue, 23 Nov 2021   Prob (F-statistic):                        0.00\n",
            "Time:                        00:00:09   Log-Likelihood:                         -6085.4\n",
            "No. Observations:                 731   AIC:                                  1.218e+04\n",
            "Df Residuals:                     726   BIC:                                  1.220e+04\n",
            "Df Model:                           5                                                  \n",
            "Covariance Type:            nonrobust                                                  \n",
            "==================================================================================\n",
            "                     coef    std err          t      P>|t|      [0.025      0.975]\n",
            "----------------------------------------------------------------------------------\n",
            "temp            6580.3804    175.210     37.557      0.000    6236.401    6924.360\n",
            "yr              2175.2373     72.872     29.850      0.000    2032.172    2318.303\n",
            "weathersit_num  -446.3480     59.076     -7.555      0.000    -562.329    -330.367\n",
            "mnth             115.4455     10.664     10.826      0.000      94.510     136.381\n",
            "windspeed       -175.8408    400.735     -0.439      0.661    -962.579     610.897\n",
            "==============================================================================\n",
            "Omnibus:                      110.141   Durbin-Watson:                   0.866\n",
            "Prob(Omnibus):                  0.000   Jarque-Bera (JB):              194.592\n",
            "Skew:                          -0.923   Prob(JB):                     5.56e-43\n",
            "Kurtosis:                       4.727   Cond. No.                         82.4\n",
            "==============================================================================\n",
            "\n",
            "Warnings:\n",
            "[1] Standard Errors assume that the covariance matrix of the errors is correctly specified.\n"
          ]
        }
      ],
      "metadata": {
        "colab": {
          "base_uri": "https://localhost:8080/"
        },
        "id": "tOzukdTjsgTf",
        "outputId": "ccf6ce22-9732-460e-d310-666ef105671e"
      }
    },
    {
      "cell_type": "markdown",
      "source": [
        "###2.2.5 Temp + yr + weathersit_num + mnth + hum (R² = 0.959)"
      ],
      "metadata": {
        "id": "XfszY5MmsgTf"
      }
    },
    {
      "cell_type": "markdown",
      "source": [
        "P-valor de 0, menor que o nível de significância de 0,05. H0 rejeitada, isto é, a regressão é significativa. O coeficiente da variável adicionada tem p-valor menor que o nível de significância (0,05), indicando que hum é significativa. \n",
        "\n",
        "R-quadrado ajustado de 0,959, maior que o anterior"
      ],
      "metadata": {
        "id": "nPbSQLuHsgTf"
      }
    },
    {
      "cell_type": "code",
      "execution_count": 35,
      "source": [
        "model = sm.OLS(y, df[['temp','yr','weathersit_num','mnth', 'hum']])\r\n",
        "model_results = model.fit()\r\n",
        "print(model_results.summary())"
      ],
      "outputs": [
        {
          "output_type": "stream",
          "name": "stdout",
          "text": [
            "                                 OLS Regression Results                                \n",
            "=======================================================================================\n",
            "Dep. Variable:                    cnt   R-squared (uncentered):                   0.959\n",
            "Model:                            OLS   Adj. R-squared (uncentered):              0.959\n",
            "Method:                 Least Squares   F-statistic:                              3387.\n",
            "Date:                Tue, 23 Nov 2021   Prob (F-statistic):                        0.00\n",
            "Time:                        00:00:09   Log-Likelihood:                         -6082.5\n",
            "No. Observations:                 731   AIC:                                  1.217e+04\n",
            "Df Residuals:                     726   BIC:                                  1.220e+04\n",
            "Df Model:                           5                                                  \n",
            "Covariance Type:            nonrobust                                                  \n",
            "==================================================================================\n",
            "                     coef    std err          t      P>|t|      [0.025      0.975]\n",
            "----------------------------------------------------------------------------------\n",
            "temp            6291.0993    197.521     31.850      0.000    5903.319    6678.880\n",
            "yr              2165.4063     71.971     30.087      0.000    2024.109    2306.703\n",
            "weathersit_num  -629.6250     86.528     -7.277      0.000    -799.499    -459.751\n",
            "mnth             106.9899     11.161      9.586      0.000      85.078     128.902\n",
            "hum              699.6033    283.862      2.465      0.014     142.316    1256.891\n",
            "==============================================================================\n",
            "Omnibus:                       99.211   Durbin-Watson:                   0.899\n",
            "Prob(Omnibus):                  0.000   Jarque-Bera (JB):              170.714\n",
            "Skew:                          -0.853   Prob(JB):                     8.51e-38\n",
            "Kurtosis:                       4.641   Cond. No.                         64.8\n",
            "==============================================================================\n",
            "\n",
            "Warnings:\n",
            "[1] Standard Errors assume that the covariance matrix of the errors is correctly specified.\n"
          ]
        }
      ],
      "metadata": {
        "colab": {
          "base_uri": "https://localhost:8080/"
        },
        "id": "77v39AfqsgTf",
        "outputId": "0dace5c1-0ecf-495d-dce0-65d8d8bf1ca1"
      }
    },
    {
      "cell_type": "markdown",
      "source": [
        "###2.2.6 Temp + yr + weathersit_num + mnth + hum + holiday"
      ],
      "metadata": {
        "id": "eT6CrrwOsgTg"
      }
    },
    {
      "cell_type": "markdown",
      "source": [
        "P-valor de 0, menor que o nível de significância de 0,05. H0 rejeitada, isto é, a regressão é significativa. O coeficiente da variável adicionada tem p-valor menor que o nível de significância (0,05), indicando que holiday é significativa. \n",
        "\n",
        "R-quadrado ajustado de 0,959, igual ao anterior.\n",
        "\n",
        "Não há diferença no R-quadrado calculado, e assim não será adicionada a variável ao modelo."
      ],
      "metadata": {
        "id": "J7MC0rvksgTg"
      }
    },
    {
      "cell_type": "code",
      "execution_count": 36,
      "source": [
        "model = sm.OLS(y, df[['temp','yr','weathersit_num','mnth', 'hum', 'holiday']])\n",
        "model_results = model.fit()\n",
        "print(model_results.summary())"
      ],
      "outputs": [
        {
          "output_type": "stream",
          "name": "stdout",
          "text": [
            "                                 OLS Regression Results                                \n",
            "=======================================================================================\n",
            "Dep. Variable:                    cnt   R-squared (uncentered):                   0.959\n",
            "Model:                            OLS   Adj. R-squared (uncentered):              0.959\n",
            "Method:                 Least Squares   F-statistic:                              2860.\n",
            "Date:                Tue, 23 Nov 2021   Prob (F-statistic):                        0.00\n",
            "Time:                        00:00:09   Log-Likelihood:                         -6077.3\n",
            "No. Observations:                 731   AIC:                                  1.217e+04\n",
            "Df Residuals:                     725   BIC:                                  1.219e+04\n",
            "Df Model:                           6                                                  \n",
            "Covariance Type:            nonrobust                                                  \n",
            "==================================================================================\n",
            "                     coef    std err          t      P>|t|      [0.025      0.975]\n",
            "----------------------------------------------------------------------------------\n",
            "temp            6278.2053    196.309     31.981      0.000    5892.802    6663.608\n",
            "yr              2170.9341     71.536     30.348      0.000    2030.492    2311.376\n",
            "weathersit_num  -638.6024     86.024     -7.424      0.000    -807.489    -469.716\n",
            "mnth             108.1409     11.096      9.746      0.000      86.357     129.925\n",
            "hum              743.5967    282.394      2.633      0.009     189.188    1298.005\n",
            "holiday         -704.3155    219.486     -3.209      0.001   -1135.220    -273.411\n",
            "==============================================================================\n",
            "Omnibus:                       97.174   Durbin-Watson:                   0.932\n",
            "Prob(Omnibus):                  0.000   Jarque-Bera (JB):              168.018\n",
            "Skew:                          -0.836   Prob(JB):                     3.28e-37\n",
            "Kurtosis:                       4.649   Cond. No.                         64.9\n",
            "==============================================================================\n",
            "\n",
            "Warnings:\n",
            "[1] Standard Errors assume that the covariance matrix of the errors is correctly specified.\n"
          ]
        }
      ],
      "metadata": {
        "colab": {
          "base_uri": "https://localhost:8080/"
        },
        "id": "ldgvYAPesgTg",
        "outputId": "b61464ca-6a27-4f72-fa95-cad2b314bd92"
      }
    },
    {
      "cell_type": "markdown",
      "source": [
        "###2.2.7 Temp + yr + weathersit_num + mnth + hum + weekday_num  "
      ],
      "metadata": {
        "id": "7GllqHQZwDOr"
      }
    },
    {
      "cell_type": "markdown",
      "source": [
        "P-valor de bem próximo de 0, menor que o nível de significância de 0,05. H0 rejeitada, isto é, a regressão é significativa. A adição da variável causa uma queda considerável no R-quadrado e nos p-valor dos testes das variáveis.\n",
        "\n",
        "Não faz sentido utilizar a variável no modelo"
      ],
      "metadata": {
        "id": "llbEjolkwDOs"
      }
    },
    {
      "cell_type": "code",
      "execution_count": 37,
      "source": [
        "model = sm.OLS(y, df[['temp','yr','weathersit_num','mnth', 'hum', 'weekday_num']])\n",
        "model_results = model.fit()\n",
        "print(model_results.summary())"
      ],
      "outputs": [
        {
          "output_type": "stream",
          "name": "stdout",
          "text": [
            "                                 OLS Regression Results                                \n",
            "=======================================================================================\n",
            "Dep. Variable:                    cnt   R-squared (uncentered):                   0.961\n",
            "Model:                            OLS   Adj. R-squared (uncentered):              0.960\n",
            "Method:                 Least Squares   F-statistic:                              2952.\n",
            "Date:                Tue, 23 Nov 2021   Prob (F-statistic):                        0.00\n",
            "Time:                        00:00:09   Log-Likelihood:                         -6066.2\n",
            "No. Observations:                 731   AIC:                                  1.214e+04\n",
            "Df Residuals:                     725   BIC:                                  1.217e+04\n",
            "Df Model:                           6                                                  \n",
            "Covariance Type:            nonrobust                                                  \n",
            "==================================================================================\n",
            "                     coef    std err          t      P>|t|      [0.025      0.975]\n",
            "----------------------------------------------------------------------------------\n",
            "temp            6125.9154    195.427     31.346      0.000    5742.244    6509.586\n",
            "yr              2138.6481     70.588     30.298      0.000    2000.067    2277.229\n",
            "weathersit_num  -681.8972     85.166     -8.007      0.000    -849.100    -514.695\n",
            "mnth             103.4468     10.940      9.456      0.000      81.969     124.925\n",
            "hum              550.4293    279.009      1.973      0.049       2.668    1098.191\n",
            "weekday_num       99.1097     17.244      5.748      0.000      65.256     132.964\n",
            "==============================================================================\n",
            "Omnibus:                      104.577   Durbin-Watson:                   0.892\n",
            "Prob(Omnibus):                  0.000   Jarque-Bera (JB):              178.932\n",
            "Skew:                          -0.896   Prob(JB):                     1.40e-39\n",
            "Kurtosis:                       4.632   Cond. No.                         69.2\n",
            "==============================================================================\n",
            "\n",
            "Warnings:\n",
            "[1] Standard Errors assume that the covariance matrix of the errors is correctly specified.\n"
          ]
        }
      ],
      "metadata": {
        "colab": {
          "base_uri": "https://localhost:8080/"
        },
        "id": "cWzNunFRwDOs",
        "outputId": "388925cf-46a4-40dd-a6f3-53b291f7341e"
      }
    },
    {
      "cell_type": "markdown",
      "source": [
        "###2.2.8 Temp + yr + weathersit_num + mnth + hum + workingday_num  "
      ],
      "metadata": {
        "id": "amZIxNlpwmaJ"
      }
    },
    {
      "cell_type": "markdown",
      "source": [
        "P-valor de bem próximo de 0, menor que o nível de significância de 0,05. H0 rejeitada, isto é, a regressão é significativa. A adição da variável causa uma queda considerável no R-quadrado e nos p-valor dos testes das variáveis.\n",
        "\n",
        "Não faz sentido utilizar a variável no modelo"
      ],
      "metadata": {
        "id": "5xSFjjQmwmaa"
      }
    },
    {
      "cell_type": "code",
      "execution_count": 38,
      "source": [
        "model = sm.OLS(y, df[['temp','yr','weathersit_num','mnth', 'hum', 'workingday_num']])\n",
        "model_results = model.fit()\n",
        "print(model_results.summary())"
      ],
      "outputs": [
        {
          "output_type": "stream",
          "name": "stdout",
          "text": [
            "                                 OLS Regression Results                                \n",
            "=======================================================================================\n",
            "Dep. Variable:                    cnt   R-squared (uncentered):                   0.960\n",
            "Model:                            OLS   Adj. R-squared (uncentered):              0.959\n",
            "Method:                 Least Squares   F-statistic:                              2881.\n",
            "Date:                Tue, 23 Nov 2021   Prob (F-statistic):                        0.00\n",
            "Time:                        00:00:09   Log-Likelihood:                         -6074.7\n",
            "No. Observations:                 731   AIC:                                  1.216e+04\n",
            "Df Residuals:                     725   BIC:                                  1.219e+04\n",
            "Df Model:                           6                                                  \n",
            "Covariance Type:            nonrobust                                                  \n",
            "==================================================================================\n",
            "                     coef    std err          t      P>|t|      [0.025      0.975]\n",
            "----------------------------------------------------------------------------------\n",
            "temp            6162.2898    198.277     31.079      0.000    5773.025    6551.555\n",
            "yr              2149.6606     71.372     30.119      0.000    2009.540    2289.781\n",
            "weathersit_num  -660.3190     86.025     -7.676      0.000    -829.207    -491.431\n",
            "mnth             106.7049     11.051      9.656      0.000      85.009     128.401\n",
            "hum              565.0499    283.119      1.996      0.046       9.219    1120.881\n",
            "workingday_num   302.9266     76.791      3.945      0.000     152.168     453.685\n",
            "==============================================================================\n",
            "Omnibus:                       79.899   Durbin-Watson:                   0.910\n",
            "Prob(Omnibus):                  0.000   Jarque-Bera (JB):              137.960\n",
            "Skew:                          -0.709   Prob(JB):                     1.10e-30\n",
            "Kurtosis:                       4.587   Cond. No.                         65.0\n",
            "==============================================================================\n",
            "\n",
            "Warnings:\n",
            "[1] Standard Errors assume that the covariance matrix of the errors is correctly specified.\n"
          ]
        }
      ],
      "metadata": {
        "colab": {
          "base_uri": "https://localhost:8080/"
        },
        "id": "WY8CfpOJwmab",
        "outputId": "aac7c4b0-5b62-47be-ac12-9d9496977f61"
      }
    },
    {
      "cell_type": "markdown",
      "source": [
        "###2.2.7 Versão final\n",
        "\n",
        "**Lista final de variáveis:** [temp, yr, weathersit_num, mnth, hum]"
      ],
      "metadata": {
        "id": "vYCgCI-vsgTg"
      }
    },
    {
      "cell_type": "code",
      "execution_count": 39,
      "source": [
        "model = sm.OLS(y, df[['temp','yr','weathersit_num','mnth', 'hum']])\n",
        "model_results = model.fit()\n",
        "print(model_results.summary())"
      ],
      "outputs": [
        {
          "output_type": "stream",
          "name": "stdout",
          "text": [
            "                                 OLS Regression Results                                \n",
            "=======================================================================================\n",
            "Dep. Variable:                    cnt   R-squared (uncentered):                   0.959\n",
            "Model:                            OLS   Adj. R-squared (uncentered):              0.959\n",
            "Method:                 Least Squares   F-statistic:                              3387.\n",
            "Date:                Tue, 23 Nov 2021   Prob (F-statistic):                        0.00\n",
            "Time:                        00:00:09   Log-Likelihood:                         -6082.5\n",
            "No. Observations:                 731   AIC:                                  1.217e+04\n",
            "Df Residuals:                     726   BIC:                                  1.220e+04\n",
            "Df Model:                           5                                                  \n",
            "Covariance Type:            nonrobust                                                  \n",
            "==================================================================================\n",
            "                     coef    std err          t      P>|t|      [0.025      0.975]\n",
            "----------------------------------------------------------------------------------\n",
            "temp            6291.0993    197.521     31.850      0.000    5903.319    6678.880\n",
            "yr              2165.4063     71.971     30.087      0.000    2024.109    2306.703\n",
            "weathersit_num  -629.6250     86.528     -7.277      0.000    -799.499    -459.751\n",
            "mnth             106.9899     11.161      9.586      0.000      85.078     128.902\n",
            "hum              699.6033    283.862      2.465      0.014     142.316    1256.891\n",
            "==============================================================================\n",
            "Omnibus:                       99.211   Durbin-Watson:                   0.899\n",
            "Prob(Omnibus):                  0.000   Jarque-Bera (JB):              170.714\n",
            "Skew:                          -0.853   Prob(JB):                     8.51e-38\n",
            "Kurtosis:                       4.641   Cond. No.                         64.8\n",
            "==============================================================================\n",
            "\n",
            "Warnings:\n",
            "[1] Standard Errors assume that the covariance matrix of the errors is correctly specified.\n"
          ]
        }
      ],
      "metadata": {
        "colab": {
          "base_uri": "https://localhost:8080/"
        },
        "id": "HSWkZSzTsgTh",
        "outputId": "8ee287fb-5b66-44b0-9f8d-4bd3710e4b62"
      }
    },
    {
      "cell_type": "markdown",
      "source": [
        "##2.3 Teste de normalidade QQplot\n",
        "\n",
        "Determinada uma versão preliminar do nosso modelo, conseguimos testar um ponto importante para uma boa regressão linear: a normalidade dos resíduos.\n",
        "\n",
        "Como é possível ver no gráfico qqplot abaixo, mesmo com normalização, não temos uma correspondência ideal entre o esperado (traço linear no gráfico) e o plot dos quantis dos resíduos."
      ],
      "metadata": {
        "id": "wTYreJ2csgTi"
      }
    },
    {
      "cell_type": "code",
      "execution_count": 40,
      "source": [
        "residuals = model_results.resid\n",
        "from statsmodels.graphics.gofplots import qqplot\n",
        "qqplot_data = qqplot(residuals, line='s').gca().lines"
      ],
      "outputs": [
        {
          "data": {
            "text/plain": [
              "<Figure size 432x288 with 1 Axes>"
            ],
            "image/png": "[encoded data removed]"
          },
          "metadata": {},
          "output_type": "display_data"
        }
      ],
      "metadata": {
        "colab": {
          "base_uri": "https://localhost:8080/",
          "height": 279
        },
        "id": "jLHB3_dBsgTi",
        "outputId": "4a172f49-973f-44b2-a82b-ecd081502e3a"
      }
    },
    {
      "cell_type": "markdown",
      "source": [
        "Ao olharmos o histograma dos resíduos, é possível perceber como a cauda à esquerda é mais longa, e como o centro da distribuição é mais alongado e alto que a distribuição teórica normal"
      ],
      "metadata": {
        "id": "096b5l9nsgTj"
      }
    },
    {
      "cell_type": "code",
      "execution_count": 41,
      "source": [
        "fig = px.histogram(pd.DataFrame(residuals,columns=[\"residuals\"]), x=\"residuals\", height=300, width=500)\n",
        "fig.update_layout(\n",
        "    title={\n",
        "        'text': \"Histograma dos resíduos\",\n",
        "        'x':0.5,\n",
        "        'xanchor': 'center',\n",
        "        'yanchor': 'middle'},\n",
        "        )\n",
        "fig.show()"
      ],
      "outputs": [
        {
          "data": {
            "text/html": [
              "<html>\n",
              "<head><meta charset=\"utf-8\" /></head>\n",
              "<body>\n",
              "    <div>            <script src=\"https://cdnjs.cloudflare.com/ajax/libs/mathjax/2.7.5/MathJax.js?config=TeX-AMS-MML_SVG\"></script><script type=\"text/javascript\">if (window.MathJax) {MathJax.Hub.Config({SVG: {font: \"STIX-Web\"}});}</script>                <script type=\"text/javascript\">window.PlotlyConfig = {MathJaxConfig: 'local'};</script>\n",
              "        <script src=\"https://cdn.plot.ly/plotly-2.6.3.min.js\"></script>                <div id=\"2d5b1264-fa5c-41af-ad98-4f444274f4cf\" class=\"plotly-graph-div\" style=\"height:300px; width:500px;\"></div>            <script type=\"text/javascript\">                                    window.PLOTLYENV=window.PLOTLYENV || {};                                    if (document.getElementById(\"2d5b1264-fa5c-41af-ad98-4f444274f4cf\")) {                    Plotly.newPlot(                        \"2d5b1264-fa5c-41af-ad98-4f444274f4cf\",                        [{\"alignmentgroup\":\"True\",\"bingroup\":\"x\",\"hovertemplate\":\"residuals=%{x}<br>count=%{y}<extra></extra>\",\"legendgroup\":\"\",\"marker\":{\"color\":\"#636efa\",\"pattern\":{\"shape\":\"\"}},\"name\":\"\",\"offsetgroup\":\"\",\"orientation\":\"v\",\"showlegend\":false,\"x\":[-591.6920284473913,-820.4007809923487,330.37208922030834,413.3450085959821,389.12956322520563,480.48447884452344,1077.0313912335241,698.3582546492568,170.62384015158295,556.8794371817341,871.3093801802207,178.54877335086962,561.4984750020463,555.3211549245204,583.4119566118212,-69.23805256301398,670.0405372842986,-130.63852043384043,445.24147219849124,1056.4675510789198,629.1882445106705,851.7986075583409,596.0153141673923,981.914577738457,1299.7127305654194,316.1632546765553,-754.1064911360122,484.3443663170285,-71.66302995538331,-248.76157559626517,1093.236320916786,615.9181627813412,393.10018272970683,483.17570212112696,1014.5161051992939,-67.69908279709603,-157.16616188544413,-97.97901360254036,180.03442666408318,1456.185240714105,739.5374793032498,617.8010839301774,107.17464339817661,-306.61831660627104,-545.0949451767979,336.7466338017755,232.16710909380913,-204.52307868003572,-300.67556724724363,-592.0213127257484,148.0003852572804,-179.2877240224734,315.0531735197917,641.7009224123317,504.39715936236007,-284.1184334794805,231.08120661653675,181.0608155581781,-684.0317395979355,107.73904708669966,20.607375886685986,523.2159785082758,809.0575903977306,46.343833778608314,-1488.863402621621,148.33525187962937,307.0926912333384,425.6813442903358,-256.9046560292519,469.5712679822668,-46.13912324796911,-61.280527053077094,-38.989807389290036,538.8458172925305,289.4066493375699,20.046457147506317,-216.9817764548411,187.84449055462255,356.4278106982906,-208.51008680686573,-203.87589319264225,289.1770303500657,446.5536883606153,510.4509280909815,856.5130581702329,693.8186158104809,462.2139487759266,610.8055859737731,134.5402609062496,922.3270972214576,690.8579852118398,644.2286037087943,734.7254585917258,-588.4352249578683,-428.4785678666394,221.49998106862176,168.50684557005388,-395.5114736252922,517.6871304709498,442.1762427375461,-69.6001222277946,-813.1105302937171,-174.8798595502908,149.49907426558957,48.03034473804746,-1075.978315673189,737.2102212264795,26.94233240570611,387.225945586777,-27.211830282501978,1217.203713648978,-114.13366316990891,1352.19519586846,795.7042405620505,-85.29562511797576,117.65805024795372,218.348483394097,514.2316447556987,1268.4280973648683,2188.9876672997034,700.6629328521171,1159.726125164491,808.1057654089877,236.06923929057848,1328.269746649622,1275.4225099364521,1158.643714359334,661.9639506324538,694.773815538671,1205.442412889418,420.96344281171514,1069.9840403616768,1001.1216535301014,211.3044935328826,1131.9431764762317,-131.6635469118214,727.5882925987094,510.5411747452672,1379.3985422355854,1132.027603707973,1670.8700060300744,429.3903019089794,457.742168016146,545.8859145617557,428.2108132522035,-158.49884088599447,27.87519167238497,216.3464322689697,110.56664765132791,-900.023348084268,-1244.340655055188,-689.8291912972581,244.17075908634797,1151.4277954358986,1015.6437004048857,988.0923525064491,-151.53648237726065,-48.57170171650159,-927.3680034607532,-950.6000216540842,-599.3542084034461,-65.30966102295042,-432.14571023698136,666.8258063642743,723.0542293465369,895.2816464317675,-50.15454739326424,232.92050189973816,254.8585362622871,496.37933086528574,110.38376817938524,630.1365009046531,-613.7543002742368,333.24147360387724,21.773594384510034,479.2303861793789,655.6087759807979,571.0635768306101,-489.6080597873006,282.326158665549,816.1398204585248,420.1588340001781,43.73793167384065,173.21839639321024,1535.4978182584919,-564.7180403007033,-539.9338366591683,-701.2452429673267,-441.36034245119845,177.0499154227109,-345.50451950002935,-1275.0981997444978,-1248.6826529470363,-916.5766772238558,348.32180265726856,831.9616585443255,1074.5376684077837,235.66764459171736,-814.2770090266704,-919.4272182254381,-1115.640918419098,-1316.5257993437408,-2475.3129077405138,-2526.299684418046,-2120.281119818338,-1485.3436020833997,-762.3063916172487,-620.7881341665479,-1039.2227773805353,-1926.8750557594904,-1029.2968696601638,-1223.271890871084,-1200.2923023153526,-652.999802080516,-1085.6478875095663,-17.298971081982927,-273.54783352607956,-339.4927217642162,-1639.178446449264,-1127.2081802578996,-898.9615676621434,-566.2208518060415,-244.6146383259047,-67.82260207067884,-271.7311486228991,-605.5739575384896,-575.2911350775194,-314.90766633898784,-485.4173571326055,-1356.4101891702567,-258.8271071857762,105.01478309516278,-1363.909528669944,-148.45332383230652,1318.5507327897058,244.4412424774,-898.6922832937053,-501.636520994035,-3354.2792993579933,-733.4850227367888,14.382589674125484,573.0273621897422,282.24399359092513,213.88274168313455,467.39970208622526,-560.4625192379763,-373.88760888760316,-1141.6419533052203,-381.74548545236894,-1489.0472068683125,-1877.3662246981385,-877.0590903520733,332.26459808151867,103.19148983609193,-158.18834180587692,-163.20625778440717,-271.97020748284103,-173.90426514576984,1691.707288640851,1211.667096370145,261.75893514252994,897.7507479200076,-212.68712805709674,275.4940970006637,507.33561058201667,-1821.3531473237017,1299.3309660350214,725.5687935901606,248.87052634487645,-208.4348219982894,-385.29520456774026,137.06325168726016,866.4923692246985,-488.32542600578563,309.67091348142003,810.2372516967607,473.0652276308606,545.7350162487064,781.5357638860046,852.3796264557704,1196.2705332204332,1159.3307370546263,572.2252375449079,621.5887386304739,-817.2010437378403,-1231.468020469585,-133.0846881382031,1251.0924791449356,1041.3045052175949,363.75042912410845,1096.452350390416,-791.454308043813,316.0909939334406,772.5921688949302,769.5694827913576,769.3963296590873,291.70051740786494,843.6275246413206,533.4024902389551,-677.1848131292895,1445.1973222291226,-770.4134469963305,446.43739712555,597.6983946089208,520.7024056692089,761.0065092751693,366.6933333246343,1155.4503911347838,960.4308888774835,396.42218297335967,471.9281388889949,583.9923019185003,514.7643770125319,55.73321067660754,469.17161234478135,889.0862980856632,75.76091542188897,193.72853747466706,461.2269971921519,-994.5820888255857,583.0457081871059,833.087197277499,693.6551637549296,208.55096073205823,25.080484772318414,-975.6752250193845,-655.2040150162529,-1785.137650269353,-564.7954935433281,-320.5628383134308,-853.4848956437495,-367.52906078525484,-468.310528262125,592.0393052276254,739.7779634668282,871.4558648627517,648.8584307173587,206.66790615780337,780.4278053599728,-374.9682803039841,-1948.2611030226785,589.59477698411,649.2801433907839,450.6455104260026,356.65854387121317,687.0529392111389,678.7449918887514,1253.5858022480884,582.7167415711419,843.1159019100864,696.8123488827766,-132.77251322835127,562.2098163906385,881.5021079403136,-659.8065182850528,-149.8079203244879,-1274.0312496003053,-1925.8458362846886,-2105.5831763437664,-1716.0142947862778,-1440.6832702285874,-586.6492383864975,-195.23019924191794,-61.39588926876149,-1179.4430204060873,-2160.9532033006462,-1676.2733346657856,-659.1360250464049,388.51704697179775,-409.861937781734,-26.292009879345642,31.775877577055326,-666.332721154612,-538.2915534747235,-439.1172908791059,-1153.8717689516798,115.78498622095503,-508.6316707587216,-602.237557749615,-673.540436847085,-905.622766428572,-925.9735315543194,-485.22642652019704,105.86731655515678,466.71827407652563,-1384.1465089900007,-615.5089141811777,-592.2142426836126,-43.224215339448165,326.22539113743187,373.9900206635293,-749.4442958001036,13.1745003933097,-394.75824973773706,7.448412966926298,121.19849324286406,-477.6776448121145,-341.11021167013496,61.57196003928584,-495.4356948947934,-326.786828444016,-178.95731953050836,49.96104570924672,-438.6087285096073,19.862510967552225,566.3299063622599,-243.35276558988744,-1347.9000127285512,-15.242501649693168,438.02950982755465,-143.8227971977094,-634.0627856176552,-199.65941053538427,13.326396359582759,-553.522294508688,-737.5456011164142,-199.31082257332173,135.69763151571988,67.04115606903088,-712.7164232449486,-1124.3464052041477,-403.86572108742257,-77.88794426141612,76.75761576770037,-2015.4923308843636,-353.72233994933504,-715.6763252608603,-201.3201738558273,-765.7717828282957,-408.75716604534,154.5647759560561,157.46488009388304,-190.33068190110498,472.4862952791718,207.4051355834581,444.83241120485945,163.17778815138627,3.7729286767053054,498.8377836983336,422.4830324274126,-180.11863094086584,2845.415183403584,1125.6510046094218,357.76404524163536,142.77157416648697,1083.5549954495127,946.3841977974253,2864.0857336335257,-1635.84395768972,400.28447791437975,562.1170881462222,1008.2441083938179,458.6223100184652,860.1527235853728,1497.8146759376455,1822.8571777835532,1554.8198017334125,889.6258988700365,1594.9012176865708,736.0564951434417,1494.862533655687,1695.0427316602254,1963.0871837472705,-133.26412752763736,321.73697959664605,839.9053094884839,376.06880950407776,618.357184654792,1364.7766419558575,2030.3226487619113,996.3164475113081,-165.02544020096593,627.0388661141515,-280.1807994754545,1037.6897842770159,1527.0122376717754,596.5616043695982,-2757.4227274575264,-680.1175827285606,751.2035164702538,934.1276210356473,27.45510292216204,1110.6571774690829,173.72084234303838,1046.1155735299617,918.9896541498947,-21.090904521272023,-8.603203520859097,919.3504330464748,-236.89565669810236,1001.5587853224552,861.4445456632793,985.7750464826386,147.75845853028113,-862.1094425200272,932.7845958265743,1351.8695350994794,1472.9373812041604,-209.17540578536318,-2757.3953643516143,-730.0563812127257,859.6689605665697,1216.7587810602108,1652.9132051509723,2129.4157336881135,781.4657827490801,-1413.8311517751072,227.08898027790565,-633.975307747005,77.21667500622243,-137.33994185825577,-403.7763678037654,-308.27076881206085,-983.2456669328994,-1351.9864543142985,814.0028309760701,644.4754354074421,-2065.017315027073,1888.274566461403,1327.7547180617612,720.5827352683245,1621.3805701731635,963.3272955404027,1129.1589732597613,1146.9491053606853,542.5737451612422,-527.874357114385,169.76381555502485,-1269.2808304478476,710.1417249225569,708.0700111053675,1053.7421608300137,1197.6827226464875,653.9156278671926,-568.7681730720678,-165.81809348574825,-1303.7289823066849,-1739.6125882744755,-1647.4476581924264,303.2936588725415,-298.32908792434864,-254.81394037460723,1034.4614001398477,517.380494688553,-307.3869398970546,-2304.4790996346637,-1724.0480083229504,-2249.1160622979096,-1288.0358927953284,-881.2712653564076,-223.349674961054,-1569.9553490131784,-1604.23984480925,-3209.805985536138,-3188.537003842718,-36.06841934734439,-366.9025929133513,27.584442964094706,287.4150641562028,901.0344735719555,400.0373063850275,-1448.077006153887,-708.1582685291141,-1000.8070344521911,-1966.3762886526638,-957.9106127231762,-564.4889514658671,-920.3535411674466,1022.158290295446,-470.2527076683482,125.48443942897211,1017.6615736193862,-727.229859256222,-714.2273823993291,-783.8206855243379,-664.1667548872147,-245.31312036955387,-48.9967335187348,200.45469994344603,-326.1989826081908,145.49814442008574,-987.7267864836831,-2223.0974441991093,59.2150993551586,389.3804198737362,582.825285347677,-294.7665529432188,-980.2509011914344,-332.41270451601576,-627.7917931348538,-425.1078287676146,-659.6290708959477,76.12510402179487,325.737729785983,-193.61669496250943,783.7456653043228,-1711.0484103929302,254.2105149217141,58.9679003198662,310.3013991339267,550.914319813266,970.1714271704168,-370.4471736549049,-1209.0056269489369,-410.4402052350006,-367.46958782557977,609.6575764403615,462.5297344339324,-260.16773198078226,-914.9377449012227,-1012.0431320330554,-1468.9123276317023,-729.1781652120135,-539.7163893018569,-615.8368500204779,65.48913109862315,-599.0500892230666,1507.7064278577918,1004.0788179024466,1271.4062461339963,1198.1615414930893,1006.30611547022,1055.4657931559668,2037.258609313497,786.6983319362225,831.9400635031934,-2327.918847406848,1241.023439913558,1349.585617406562,1431.0310040183103,1354.6848938028452,1752.49485707033,1357.7877943001577,1180.431310700009,798.1289021433131,951.4112439862265,1167.9674780253717,2263.5619120888878,668.8937194263071,1071.173460651682,-1034.2401979665847,904.2370469732095,709.7920488926684,1242.2927883446155,1408.3468766719543,-1577.6538436676783,593.9323791772376,1073.0537573247339,1409.3114254041884,1903.542439054927,1546.7609727050867,1682.8110695302876,303.42318250059907,-129.527248270595,1591.3789110123134,1502.8622390326054,1736.3014017521127,-666.2155765213101,2037.5626300114,941.401557897414,987.8013776866392,987.9989442785727,946.1764898337815,1362.8659655466772,1469.4174205701847,2037.9479515213015,-1006.9875180741747,-4708.164612897449,-3459.260646661073,874.4745232439218,1194.5271974827,535.7388099086493,551.3329648811323,-28.348199399734767,192.69789710635814,809.8486217370619,707.8074945437374,153.4661405540446,625.6784886902469,923.505944605964,1030.672448780444,-13.725793343724035,-612.7658381415786,576.9126500267184,904.2702601939673,447.90079453153794,490.14724481874237,-683.1384823974677,584.0110361968054,717.8050661838133,-218.90446504615647,-2832.7053607403714,-1517.7888050573374,-2469.738090638386,-2162.8770752527926,28.541533453470038,-509.3058128840439,326.79432427150186,454.61301660673325,624.0371102785475,559.7757753430469,-303.1982924731956,30.67220359701878,279.49359584187187,-187.56385501529348,589.9461869631978,264.95918234254714,353.3466929855085,-2012.3002690830435,-409.03653691285035,670.6820113394278,880.7436181476241,511.33502454767404,569.5582493032907,-267.06049550719126,-1271.3505662294947,-714.1300243247078,-313.361726113857,-81.99414292475012,-605.3745053810189,-1011.575402162769,-3051.741581901996,-2939.8070754456403,-3278.790124409865,-3523.7138027245037,-3226.24832212453,-2131.807522970974,-1101.5438041178504,-2969.521078096257,-2971.2719954689037,-1222.882539171253],\"xaxis\":\"x\",\"yaxis\":\"y\",\"type\":\"histogram\"}],                        {\"template\":{\"data\":{\"bar\":[{\"error_x\":{\"color\":\"#2a3f5f\"},\"error_y\":{\"color\":\"#2a3f5f\"},\"marker\":{\"line\":{\"color\":\"#E5ECF6\",\"width\":0.5},\"pattern\":{\"fillmode\":\"overlay\",\"size\":10,\"solidity\":0.2}},\"type\":\"bar\"}],\"barpolar\":[{\"marker\":{\"line\":{\"color\":\"#E5ECF6\",\"width\":0.5},\"pattern\":{\"fillmode\":\"overlay\",\"size\":10,\"solidity\":0.2}},\"type\":\"barpolar\"}],\"carpet\":[{\"aaxis\":{\"endlinecolor\":\"#2a3f5f\",\"gridcolor\":\"white\",\"linecolor\":\"white\",\"minorgridcolor\":\"white\",\"startlinecolor\":\"#2a3f5f\"},\"baxis\":{\"endlinecolor\":\"#2a3f5f\",\"gridcolor\":\"white\",\"linecolor\":\"white\",\"minorgridcolor\":\"white\",\"startlinecolor\":\"#2a3f5f\"},\"type\":\"carpet\"}],\"choropleth\":[{\"colorbar\":{\"outlinewidth\":0,\"ticks\":\"\"},\"type\":\"choropleth\"}],\"contour\":[{\"colorbar\":{\"outlinewidth\":0,\"ticks\":\"\"},\"colorscale\":[[0.0,\"#0d0887\"],[0.1111111111111111,\"#46039f\"],[0.2222222222222222,\"#7201a8\"],[0.3333333333333333,\"#9c179e\"],[0.4444444444444444,\"#bd3786\"],[0.5555555555555556,\"#d8576b\"],[0.6666666666666666,\"#ed7953\"],[0.7777777777777778,\"#fb9f3a\"],[0.8888888888888888,\"#fdca26\"],[1.0,\"#f0f921\"]],\"type\":\"contour\"}],\"contourcarpet\":[{\"colorbar\":{\"outlinewidth\":0,\"ticks\":\"\"},\"type\":\"contourcarpet\"}],\"heatmap\":[{\"colorbar\":{\"outlinewidth\":0,\"ticks\":\"\"},\"colorscale\":[[0.0,\"#0d0887\"],[0.1111111111111111,\"#46039f\"],[0.2222222222222222,\"#7201a8\"],[0.3333333333333333,\"#9c179e\"],[0.4444444444444444,\"#bd3786\"],[0.5555555555555556,\"#d8576b\"],[0.6666666666666666,\"#ed7953\"],[0.7777777777777778,\"#fb9f3a\"],[0.8888888888888888,\"#fdca26\"],[1.0,\"#f0f921\"]],\"type\":\"heatmap\"}],\"heatmapgl\":[{\"colorbar\":{\"outlinewidth\":0,\"ticks\":\"\"},\"colorscale\":[[0.0,\"#0d0887\"],[0.1111111111111111,\"#46039f\"],[0.2222222222222222,\"#7201a8\"],[0.3333333333333333,\"#9c179e\"],[0.4444444444444444,\"#bd3786\"],[0.5555555555555556,\"#d8576b\"],[0.6666666666666666,\"#ed7953\"],[0.7777777777777778,\"#fb9f3a\"],[0.8888888888888888,\"#fdca26\"],[1.0,\"#f0f921\"]],\"type\":\"heatmapgl\"}],\"histogram\":[{\"marker\":{\"pattern\":{\"fillmode\":\"overlay\",\"size\":10,\"solidity\":0.2}},\"type\":\"histogram\"}],\"histogram2d\":[{\"colorbar\":{\"outlinewidth\":0,\"ticks\":\"\"},\"colorscale\":[[0.0,\"#0d0887\"],[0.1111111111111111,\"#46039f\"],[0.2222222222222222,\"#7201a8\"],[0.3333333333333333,\"#9c179e\"],[0.4444444444444444,\"#bd3786\"],[0.5555555555555556,\"#d8576b\"],[0.6666666666666666,\"#ed7953\"],[0.7777777777777778,\"#fb9f3a\"],[0.8888888888888888,\"#fdca26\"],[1.0,\"#f0f921\"]],\"type\":\"histogram2d\"}],\"histogram2dcontour\":[{\"colorbar\":{\"outlinewidth\":0,\"ticks\":\"\"},\"colorscale\":[[0.0,\"#0d0887\"],[0.1111111111111111,\"#46039f\"],[0.2222222222222222,\"#7201a8\"],[0.3333333333333333,\"#9c179e\"],[0.4444444444444444,\"#bd3786\"],[0.5555555555555556,\"#d8576b\"],[0.6666666666666666,\"#ed7953\"],[0.7777777777777778,\"#fb9f3a\"],[0.8888888888888888,\"#fdca26\"],[1.0,\"#f0f921\"]],\"type\":\"histogram2dcontour\"}],\"mesh3d\":[{\"colorbar\":{\"outlinewidth\":0,\"ticks\":\"\"},\"type\":\"mesh3d\"}],\"parcoords\":[{\"line\":{\"colorbar\":{\"outlinewidth\":0,\"ticks\":\"\"}},\"type\":\"parcoords\"}],\"pie\":[{\"automargin\":true,\"type\":\"pie\"}],\"scatter\":[{\"marker\":{\"colorbar\":{\"outlinewidth\":0,\"ticks\":\"\"}},\"type\":\"scatter\"}],\"scatter3d\":[{\"line\":{\"colorbar\":{\"outlinewidth\":0,\"ticks\":\"\"}},\"marker\":{\"colorbar\":{\"outlinewidth\":0,\"ticks\":\"\"}},\"type\":\"scatter3d\"}],\"scattercarpet\":[{\"marker\":{\"colorbar\":{\"outlinewidth\":0,\"ticks\":\"\"}},\"type\":\"scattercarpet\"}],\"scattergeo\":[{\"marker\":{\"colorbar\":{\"outlinewidth\":0,\"ticks\":\"\"}},\"type\":\"scattergeo\"}],\"scattergl\":[{\"marker\":{\"colorbar\":{\"outlinewidth\":0,\"ticks\":\"\"}},\"type\":\"scattergl\"}],\"scattermapbox\":[{\"marker\":{\"colorbar\":{\"outlinewidth\":0,\"ticks\":\"\"}},\"type\":\"scattermapbox\"}],\"scatterpolar\":[{\"marker\":{\"colorbar\":{\"outlinewidth\":0,\"ticks\":\"\"}},\"type\":\"scatterpolar\"}],\"scatterpolargl\":[{\"marker\":{\"colorbar\":{\"outlinewidth\":0,\"ticks\":\"\"}},\"type\":\"scatterpolargl\"}],\"scatterternary\":[{\"marker\":{\"colorbar\":{\"outlinewidth\":0,\"ticks\":\"\"}},\"type\":\"scatterternary\"}],\"surface\":[{\"colorbar\":{\"outlinewidth\":0,\"ticks\":\"\"},\"colorscale\":[[0.0,\"#0d0887\"],[0.1111111111111111,\"#46039f\"],[0.2222222222222222,\"#7201a8\"],[0.3333333333333333,\"#9c179e\"],[0.4444444444444444,\"#bd3786\"],[0.5555555555555556,\"#d8576b\"],[0.6666666666666666,\"#ed7953\"],[0.7777777777777778,\"#fb9f3a\"],[0.8888888888888888,\"#fdca26\"],[1.0,\"#f0f921\"]],\"type\":\"surface\"}],\"table\":[{\"cells\":{\"fill\":{\"color\":\"#EBF0F8\"},\"line\":{\"color\":\"white\"}},\"header\":{\"fill\":{\"color\":\"#C8D4E3\"},\"line\":{\"color\":\"white\"}},\"type\":\"table\"}]},\"layout\":{\"annotationdefaults\":{\"arrowcolor\":\"#2a3f5f\",\"arrowhead\":0,\"arrowwidth\":1},\"autotypenumbers\":\"strict\",\"coloraxis\":{\"colorbar\":{\"outlinewidth\":0,\"ticks\":\"\"}},\"colorscale\":{\"diverging\":[[0,\"#8e0152\"],[0.1,\"#c51b7d\"],[0.2,\"#de77ae\"],[0.3,\"#f1b6da\"],[0.4,\"#fde0ef\"],[0.5,\"#f7f7f7\"],[0.6,\"#e6f5d0\"],[0.7,\"#b8e186\"],[0.8,\"#7fbc41\"],[0.9,\"#4d9221\"],[1,\"#276419\"]],\"sequential\":[[0.0,\"#0d0887\"],[0.1111111111111111,\"#46039f\"],[0.2222222222222222,\"#7201a8\"],[0.3333333333333333,\"#9c179e\"],[0.4444444444444444,\"#bd3786\"],[0.5555555555555556,\"#d8576b\"],[0.6666666666666666,\"#ed7953\"],[0.7777777777777778,\"#fb9f3a\"],[0.8888888888888888,\"#fdca26\"],[1.0,\"#f0f921\"]],\"sequentialminus\":[[0.0,\"#0d0887\"],[0.1111111111111111,\"#46039f\"],[0.2222222222222222,\"#7201a8\"],[0.3333333333333333,\"#9c179e\"],[0.4444444444444444,\"#bd3786\"],[0.5555555555555556,\"#d8576b\"],[0.6666666666666666,\"#ed7953\"],[0.7777777777777778,\"#fb9f3a\"],[0.8888888888888888,\"#fdca26\"],[1.0,\"#f0f921\"]]},\"colorway\":[\"#636efa\",\"#EF553B\",\"#00cc96\",\"#ab63fa\",\"#FFA15A\",\"#19d3f3\",\"#FF6692\",\"#B6E880\",\"#FF97FF\",\"#FECB52\"],\"font\":{\"color\":\"#2a3f5f\"},\"geo\":{\"bgcolor\":\"white\",\"lakecolor\":\"white\",\"landcolor\":\"#E5ECF6\",\"showlakes\":true,\"showland\":true,\"subunitcolor\":\"white\"},\"hoverlabel\":{\"align\":\"left\"},\"hovermode\":\"closest\",\"mapbox\":{\"style\":\"light\"},\"paper_bgcolor\":\"white\",\"plot_bgcolor\":\"#E5ECF6\",\"polar\":{\"angularaxis\":{\"gridcolor\":\"white\",\"linecolor\":\"white\",\"ticks\":\"\"},\"bgcolor\":\"#E5ECF6\",\"radialaxis\":{\"gridcolor\":\"white\",\"linecolor\":\"white\",\"ticks\":\"\"}},\"scene\":{\"xaxis\":{\"backgroundcolor\":\"#E5ECF6\",\"gridcolor\":\"white\",\"gridwidth\":2,\"linecolor\":\"white\",\"showbackground\":true,\"ticks\":\"\",\"zerolinecolor\":\"white\"},\"yaxis\":{\"backgroundcolor\":\"#E5ECF6\",\"gridcolor\":\"white\",\"gridwidth\":2,\"linecolor\":\"white\",\"showbackground\":true,\"ticks\":\"\",\"zerolinecolor\":\"white\"},\"zaxis\":{\"backgroundcolor\":\"#E5ECF6\",\"gridcolor\":\"white\",\"gridwidth\":2,\"linecolor\":\"white\",\"showbackground\":true,\"ticks\":\"\",\"zerolinecolor\":\"white\"}},\"shapedefaults\":{\"line\":{\"color\":\"#2a3f5f\"}},\"ternary\":{\"aaxis\":{\"gridcolor\":\"white\",\"linecolor\":\"white\",\"ticks\":\"\"},\"baxis\":{\"gridcolor\":\"white\",\"linecolor\":\"white\",\"ticks\":\"\"},\"bgcolor\":\"#E5ECF6\",\"caxis\":{\"gridcolor\":\"white\",\"linecolor\":\"white\",\"ticks\":\"\"}},\"title\":{\"x\":0.05},\"xaxis\":{\"automargin\":true,\"gridcolor\":\"white\",\"linecolor\":\"white\",\"ticks\":\"\",\"title\":{\"standoff\":15},\"zerolinecolor\":\"white\",\"zerolinewidth\":2},\"yaxis\":{\"automargin\":true,\"gridcolor\":\"white\",\"linecolor\":\"white\",\"ticks\":\"\",\"title\":{\"standoff\":15},\"zerolinecolor\":\"white\",\"zerolinewidth\":2}}},\"xaxis\":{\"anchor\":\"y\",\"domain\":[0.0,1.0],\"title\":{\"text\":\"residuals\"}},\"yaxis\":{\"anchor\":\"x\",\"domain\":[0.0,1.0],\"title\":{\"text\":\"count\"}},\"legend\":{\"tracegroupgap\":0},\"margin\":{\"t\":60},\"barmode\":\"relative\",\"height\":300,\"width\":500,\"title\":{\"text\":\"Histograma dos res\\u00edduos\",\"x\":0.5,\"xanchor\":\"center\",\"yanchor\":\"middle\"}},                        {\"responsive\": true}                    ).then(function(){\n",
              "                            \n",
              "var gd = document.getElementById('2d5b1264-fa5c-41af-ad98-4f444274f4cf');\n",
              "var x = new MutationObserver(function (mutations, observer) {{\n",
              "        var display = window.getComputedStyle(gd).display;\n",
              "        if (!display || display === 'none') {{\n",
              "            console.log([gd, 'removed!']);\n",
              "            Plotly.purge(gd);\n",
              "            observer.disconnect();\n",
              "        }}\n",
              "}});\n",
              "\n",
              "// Listen for the removal of the full notebook cells\n",
              "var notebookContainer = gd.closest('#notebook-container');\n",
              "if (notebookContainer) {{\n",
              "    x.observe(notebookContainer, {childList: true});\n",
              "}}\n",
              "\n",
              "// Listen for the clearing of the current output cell\n",
              "var outputEl = gd.closest('.output');\n",
              "if (outputEl) {{\n",
              "    x.observe(outputEl, {childList: true});\n",
              "}}\n",
              "\n",
              "                        })                };                            </script>        </div>\n",
              "</body>\n",
              "</html>"
            ]
          },
          "metadata": {},
          "output_type": "display_data"
        }
      ],
      "metadata": {
        "colab": {
          "base_uri": "https://localhost:8080/",
          "height": 317
        },
        "id": "WHlnK3-KsgTj",
        "outputId": "719273b5-dfce-459a-bb52-f85490bd3b7d"
      }
    },
    {
      "cell_type": "markdown",
      "source": [
        "Uma das explicações possíveis para esse comportamento é que os resíduos só terão distribuição normal se as observações forem independentes entre si. Como apontado anteriormente, há uma quebra dessa expectativa, já que há uma tendência temporal de aumento da variável independente 'cnt' (contagem total de usuários)."
      ],
      "metadata": {
        "id": "rtSYEJkmsgTj"
      }
    },
    {
      "cell_type": "markdown",
      "source": [
        "## 2.4 Avaliação do modelo\n",
        "\n",
        "Para avaliar de fato o modelo, escolhemos o método de validação cruzada, com frações de 20%, e com os dados embaralhados previamente. Como é possível ver com os resultados, tivemos um RMSE em torno de 945, o que representa 21% da média dos dados originais.\n",
        "\n",
        "Nos gráficos boxplot abaixo, foi feito um teste com divisão de 20% dos dados para teste. É possível enxergar de forma mais visual como os resíduos se apresentam. "
      ],
      "metadata": {
        "id": "OR8OGfxhsgTj"
      }
    },
    {
      "cell_type": "code",
      "execution_count": 42,
      "source": [
        "#@title\r\n",
        "\r\n",
        "from sklearn.model_selection import cross_val_score\r\n",
        "from sklearn import linear_model\r\n",
        "from sklearn.metrics import mean_squared_error, r2_score\r\n",
        "from sklearn.model_selection import train_test_split\r\n",
        "\r\n",
        "#shuffling our dataframe\r\n",
        "df_shuffled = df.sample(frac=1).reset_index(drop=True)\r\n",
        "\r\n",
        "X = df_shuffled[['temp','yr','mnth','windspeed', 'hum', 'weathersit_num']]\r\n",
        "y = df_shuffled[['cnt']]\r\n",
        "regr = linear_model.LinearRegression()\r\n",
        "scores = cross_val_score(regr, X, y, cv=5, scoring = 'neg_mean_squared_error')\r\n",
        "rmse_scores = np.sqrt(-scores)\r\n",
        "#print(scores)\r\n",
        "print(\"MSE: %0.2f with a standard deviation of %0.2f\" % (-1*scores.mean(), scores.std()))\r\n",
        "print(\"RMSE: %0.2f with a standard deviation of %0.2f\" % (rmse_scores.mean(), rmse_scores.std()))\r\n",
        "print(\"Original data: %0.2f mean with a standard deviation of %0.2f\" % (df['cnt'].mean(), df['cnt'].std()))\r\n",
        "print(\"Mean RMSE found divided by original data mean: %0.2f\" % (rmse_scores.mean()/df['cnt'].mean()))"
      ],
      "outputs": [
        {
          "output_type": "stream",
          "name": "stdout",
          "text": [
            "MSE: 897650.98 with a standard deviation of 123284.03\n",
            "RMSE: 945.13 with a standard deviation of 66.18\n",
            "Original data: 4504.35 mean with a standard deviation of 1937.21\n",
            "Mean RMSE found divided by original data mean: 0.21\n"
          ]
        }
      ],
      "metadata": {
        "colab": {
          "base_uri": "https://localhost:8080/"
        },
        "cellView": "form",
        "id": "zk9Obk_PsgTk",
        "outputId": "c2bb3f67-146a-45c2-9606-b2ae148d1524"
      }
    },
    {
      "cell_type": "code",
      "execution_count": 43,
      "source": [
        "#@title\r\n",
        "\r\n",
        "X_train, X_test, y_train, y_test = train_test_split(X, y, test_size=0.2, random_state=42)\r\n",
        "\r\n",
        "regr.fit(X_train, y_train)\r\n",
        "\r\n",
        "y_pred = regr.predict(X_test)\r\n",
        "y_pred = pd.Series(row[0] for row in y_pred)\r\n",
        "y_test = y_test['cnt'].reset_index(drop=True)\r\n",
        "errors = y_test-y_pred\r\n",
        "\r\n",
        "fig = go.Figure()\r\n",
        "fig.add_trace(go.Box(y=y_test, name = \"Test data sample (20%)\"))\r\n",
        "fig.add_trace(go.Box(y=y_pred, name = \"Model predictions for test data sample\"))\r\n",
        "fig.add_trace(go.Box(y=errors, name = \"Residuals\"))\r\n",
        "fig.add_trace(go.Box(y=[abs(item) for item in errors], name = \"Residuals (absolute values)\"))\r\n",
        "fig.update_layout(\r\n",
        "    title={\r\n",
        "        'text': \"Boxplot para validação\",\r\n",
        "        'x':0.5,\r\n",
        "        'xanchor': 'center',\r\n",
        "        'yanchor': 'middle'},\r\n",
        "        showlegend = False\r\n",
        "        )\r\n",
        "fig.update_layout(margin = dict(l=0,r=0,b=30, t=50))\r\n",
        "fig.update_layout(height=500, width=1000)\r\n",
        "fig.show()\r\n"
      ],
      "outputs": [
        {
          "data": {
            "text/html": [
              "<html>\n",
              "<head><meta charset=\"utf-8\" /></head>\n",
              "<body>\n",
              "    <div>            <script src=\"https://cdnjs.cloudflare.com/ajax/libs/mathjax/2.7.5/MathJax.js?config=TeX-AMS-MML_SVG\"></script><script type=\"text/javascript\">if (window.MathJax) {MathJax.Hub.Config({SVG: {font: \"STIX-Web\"}});}</script>                <script type=\"text/javascript\">window.PlotlyConfig = {MathJaxConfig: 'local'};</script>\n",
              "        <script src=\"https://cdn.plot.ly/plotly-2.6.3.min.js\"></script>                <div id=\"f61b8efb-8635-4184-b891-799ba69f8554\" class=\"plotly-graph-div\" style=\"height:500px; width:1000px;\"></div>            <script type=\"text/javascript\">                                    window.PLOTLYENV=window.PLOTLYENV || {};                                    if (document.getElementById(\"f61b8efb-8635-4184-b891-799ba69f8554\")) {                    Plotly.newPlot(                        \"f61b8efb-8635-4184-b891-799ba69f8554\",                        [{\"name\":\"Test data sample (20%)\",\"y\":[4679,4905,4549,4672,4629,4098,7040,2895,6966,4677,3095,2999,4763,6359,5046,3368,5298,7261,7442,8120,7109,4294,6536,1985,4459,4758,4400,5499,6779,605,6196,6904,4333,6772,7030,7592,7466,2376,6889,3425,441,1027,1341,6034,6857,2298,6591,3071,4274,1450,3423,7436,1107,4332,5058,7384,5729,4486,7001,3659,7333,6864,5895,7765,1589,3331,4592,2077,4258,6917,6871,4521,7498,4326,1301,3194,4968,7582,2566,3613,6398,4451,3894,4509,2311,2933,6436,4911,4579,2485,1927,7359,3805,7216,22,4788,7363,7965,4602,3285,4548,6891,3811,5107,3761,8009,3115,3520,5409,5170,5572,1815,7525,4154,2423,4492,3830,1461,5633,4795,5531,4187,4725,3292,7424,6969,4086,7328,3351,2417,6824,4541,4660,4098,7534,5225,3126,4066,7713,7290,6273,8167,6234,2935,4539,5115,1812],\"type\":\"box\"},{\"name\":\"Model predictions for test data sample\",\"y\":[4472.905416437877,5468.66254127202,6336.050656644662,7866.513684489426,5030.581206695655,4453.081830234121,7185.522950863753,2456.7343772861714,7240.342437605812,4715.274085415396,4441.8659782897885,3299.2593893508324,4869.154038830645,5440.822942524121,4957.108784233811,2977.305451139194,5333.850308844508,7454.4103055203195,6270.971500062238,6264.868901677761,5707.124095946847,4352.436147188626,5860.605917695293,1328.8939760277028,4983.249348715037,4891.548385828481,3777.2765586484325,4823.090746607037,6751.012515232109,1433.739994787485,5794.4746853692905,7534.302250579689,4084.9980170728422,5822.665826332406,5948.100953349802,7130.205452688104,6558.543164802106,3332.27366537077,6317.538075934643,4487.447525850224,3169.8410228652856,3240.177061137468,4356.634879245286,7086.620195944852,5316.861827707491,3471.6522099154554,7426.559822857333,3778.8155074968063,3524.4095906820876,1555.619167973011,4263.8345921709715,6320.860478183926,1388.4183951007053,5446.38221859952,5098.257990635826,6143.228167068568,5654.715525776379,4027.8180804380354,5373.011741996601,3574.3706791481272,6762.091324862464,6990.529196956157,4980.696693954425,7281.000965276302,2268.1078139138726,3058.518590390656,5273.421542249111,1902.0298652556949,5508.30099642248,7100.087003822402,5724.904560029037,4783.189772526806,7230.95727835984,5418.741885539727,2557.6562517743623,4167.787439934816,4977.209633800536,6859.601893142542,2738.8526364395884,2927.269179840401,5517.026289684865,3253.06837171124,3461.6047133733828,4641.772474408464,3391.792512946495,2743.7790653847087,5947.729249064589,4705.137318958325,5291.1856798550525,3642.978668158264,1445.1240352192049,5823.854525696451,4932.655919509856,6992.798101848557,3938.8163986250565,4292.283767868665,6426.625093352597,6105.631510321187,5613.920756140237,6078.878905045283,4933.0622427414855,7368.782669558737,3207.568050821802,5277.605245638757,4205.184520419949,6920.233254691942,3598.6635388201603,3365.2065562147322,4502.1417521350395,5033.2327238617945,4908.080776482273,2045.6166024965296,6378.836212776276,4390.662534645009,3045.1042895679775,3834.57225282511,4052.5948712625623,1515.4226514892314,5038.519958559358,4061.803652843694,7766.333519307473,3887.951102373103,4942.639005829156,3529.4983099289825,6502.579772109801,6485.40911685537,5016.036852965757,6539.639817156443,4200.182618753195,2643.985564845545,6039.998360554917,5506.943650587211,4188.161158372757,5042.059729373563,5967.361328626663,4934.726519637205,3061.457829656245,4508.185791340004,7411.962783194102,5711.091829949689,5151.508326490879,6587.6712180627765,6113.209644820505,3466.8099133073238,3767.3558812234714,4970.5917295776535,2247.0915740755017],\"type\":\"box\"},{\"name\":\"Residuals\",\"y\":[206.09458356212326,-563.6625412720196,-1787.050656644662,-3194.513684489426,-401.58120669565506,-355.0818302341213,-145.52295086375307,438.26562271382863,-274.34243760581194,-38.27408541539626,-1346.8659782897885,-300.2593893508324,-106.15403883064482,918.1770574758793,88.8912157661889,390.6945488608062,-35.85030884450771,-193.41030552031953,1171.0284999377618,1855.1310983222393,1401.8759040531531,-58.43614718862591,675.3940823047069,656.1060239722972,-524.2493487150368,-133.5483858284806,622.7234413515675,675.9092533929634,27.987484767891146,-828.7399947874851,401.52531463070954,-630.3022505796889,248.00198292715777,949.3341736675939,1081.8990466501982,461.79454731189617,907.4568351978942,-956.2736653707698,571.4619240653574,-1062.4475258502243,-2728.8410228652856,-2213.177061137468,-3015.6348792452864,-1052.6201959448517,1540.138172292509,-1173.6522099154554,-835.5598228573326,-707.8155074968063,749.5904093179124,-105.61916797301092,-840.8345921709715,1115.1395218160742,-281.4183951007053,-1114.3822185995195,-40.25799063582599,1240.771832931432,74.28447422362115,458.1819195619646,1627.988258003399,84.62932085187276,570.9086751375362,-126.52919695615674,914.3033060455746,483.99903472369806,-679.1078139138726,272.48140960934415,-681.4215422491106,174.97013474430514,-1250.3009964224802,-183.08700382240204,1146.0954399709626,-262.18977252680634,267.0427216401604,-1092.7418855397273,-1256.6562517743623,-973.7874399348157,-9.209633800535812,722.3981068574576,-172.85263643958842,685.7308201595988,880.9737103151347,1197.9316282887598,432.39528662661724,-132.7724744084644,-1080.7925129464952,189.2209346152913,488.27075093541134,205.8626810416754,-712.1856798550525,-1157.978668158264,481.87596478079513,1535.1454743035492,-1127.6559195098562,223.20189815144295,-3916.8163986250565,495.71623213133535,936.3749066474029,1859.3684896788127,-1011.9207561402372,-2793.8789050452833,-385.06224274148553,-477.7826695587373,603.431949178198,-170.60524563875697,-444.18452041994897,1088.7667453080576,-483.6635388201603,154.79344378526775,906.8582478649605,136.7672761382055,663.919223517727,-230.6166024965296,1146.1637872237243,-236.66253464500915,-622.1042895679775,657.4277471748901,-222.59487126256226,-54.422651489231384,594.4800414406418,733.1963471563058,-2235.3335193074727,299.0488976268971,-217.6390058291563,-237.4983099289825,921.4202278901994,483.5908831446304,-930.0368529657571,788.3601828435567,-849.1826187531951,-226.985564845545,784.0016394450831,-965.9436505872109,471.8388416272428,-944.0597293735627,1566.6386713733373,290.27348036279545,64.54217034375506,-442.18579134000356,301.0372168058984,1578.9081700503111,1121.491673509121,1579.3287819372235,120.79035517949524,-531.8099133073238,771.6441187765286,144.4082704223465,-435.09157407550174],\"type\":\"box\"},{\"name\":\"Residuals (absolute values)\",\"y\":[206.09458356212326,563.6625412720196,1787.050656644662,3194.513684489426,401.58120669565506,355.0818302341213,145.52295086375307,438.26562271382863,274.34243760581194,38.27408541539626,1346.8659782897885,300.2593893508324,106.15403883064482,918.1770574758793,88.8912157661889,390.6945488608062,35.85030884450771,193.41030552031953,1171.0284999377618,1855.1310983222393,1401.8759040531531,58.43614718862591,675.3940823047069,656.1060239722972,524.2493487150368,133.5483858284806,622.7234413515675,675.9092533929634,27.987484767891146,828.7399947874851,401.52531463070954,630.3022505796889,248.00198292715777,949.3341736675939,1081.8990466501982,461.79454731189617,907.4568351978942,956.2736653707698,571.4619240653574,1062.4475258502243,2728.8410228652856,2213.177061137468,3015.6348792452864,1052.6201959448517,1540.138172292509,1173.6522099154554,835.5598228573326,707.8155074968063,749.5904093179124,105.61916797301092,840.8345921709715,1115.1395218160742,281.4183951007053,1114.3822185995195,40.25799063582599,1240.771832931432,74.28447422362115,458.1819195619646,1627.988258003399,84.62932085187276,570.9086751375362,126.52919695615674,914.3033060455746,483.99903472369806,679.1078139138726,272.48140960934415,681.4215422491106,174.97013474430514,1250.3009964224802,183.08700382240204,1146.0954399709626,262.18977252680634,267.0427216401604,1092.7418855397273,1256.6562517743623,973.7874399348157,9.209633800535812,722.3981068574576,172.85263643958842,685.7308201595988,880.9737103151347,1197.9316282887598,432.39528662661724,132.7724744084644,1080.7925129464952,189.2209346152913,488.27075093541134,205.8626810416754,712.1856798550525,1157.978668158264,481.87596478079513,1535.1454743035492,1127.6559195098562,223.20189815144295,3916.8163986250565,495.71623213133535,936.3749066474029,1859.3684896788127,1011.9207561402372,2793.8789050452833,385.06224274148553,477.7826695587373,603.431949178198,170.60524563875697,444.18452041994897,1088.7667453080576,483.6635388201603,154.79344378526775,906.8582478649605,136.7672761382055,663.919223517727,230.6166024965296,1146.1637872237243,236.66253464500915,622.1042895679775,657.4277471748901,222.59487126256226,54.422651489231384,594.4800414406418,733.1963471563058,2235.3335193074727,299.0488976268971,217.6390058291563,237.4983099289825,921.4202278901994,483.5908831446304,930.0368529657571,788.3601828435567,849.1826187531951,226.985564845545,784.0016394450831,965.9436505872109,471.8388416272428,944.0597293735627,1566.6386713733373,290.27348036279545,64.54217034375506,442.18579134000356,301.0372168058984,1578.9081700503111,1121.491673509121,1579.3287819372235,120.79035517949524,531.8099133073238,771.6441187765286,144.4082704223465,435.09157407550174],\"type\":\"box\"}],                        {\"template\":{\"data\":{\"bar\":[{\"error_x\":{\"color\":\"#2a3f5f\"},\"error_y\":{\"color\":\"#2a3f5f\"},\"marker\":{\"line\":{\"color\":\"#E5ECF6\",\"width\":0.5},\"pattern\":{\"fillmode\":\"overlay\",\"size\":10,\"solidity\":0.2}},\"type\":\"bar\"}],\"barpolar\":[{\"marker\":{\"line\":{\"color\":\"#E5ECF6\",\"width\":0.5},\"pattern\":{\"fillmode\":\"overlay\",\"size\":10,\"solidity\":0.2}},\"type\":\"barpolar\"}],\"carpet\":[{\"aaxis\":{\"endlinecolor\":\"#2a3f5f\",\"gridcolor\":\"white\",\"linecolor\":\"white\",\"minorgridcolor\":\"white\",\"startlinecolor\":\"#2a3f5f\"},\"baxis\":{\"endlinecolor\":\"#2a3f5f\",\"gridcolor\":\"white\",\"linecolor\":\"white\",\"minorgridcolor\":\"white\",\"startlinecolor\":\"#2a3f5f\"},\"type\":\"carpet\"}],\"choropleth\":[{\"colorbar\":{\"outlinewidth\":0,\"ticks\":\"\"},\"type\":\"choropleth\"}],\"contour\":[{\"colorbar\":{\"outlinewidth\":0,\"ticks\":\"\"},\"colorscale\":[[0.0,\"#0d0887\"],[0.1111111111111111,\"#46039f\"],[0.2222222222222222,\"#7201a8\"],[0.3333333333333333,\"#9c179e\"],[0.4444444444444444,\"#bd3786\"],[0.5555555555555556,\"#d8576b\"],[0.6666666666666666,\"#ed7953\"],[0.7777777777777778,\"#fb9f3a\"],[0.8888888888888888,\"#fdca26\"],[1.0,\"#f0f921\"]],\"type\":\"contour\"}],\"contourcarpet\":[{\"colorbar\":{\"outlinewidth\":0,\"ticks\":\"\"},\"type\":\"contourcarpet\"}],\"heatmap\":[{\"colorbar\":{\"outlinewidth\":0,\"ticks\":\"\"},\"colorscale\":[[0.0,\"#0d0887\"],[0.1111111111111111,\"#46039f\"],[0.2222222222222222,\"#7201a8\"],[0.3333333333333333,\"#9c179e\"],[0.4444444444444444,\"#bd3786\"],[0.5555555555555556,\"#d8576b\"],[0.6666666666666666,\"#ed7953\"],[0.7777777777777778,\"#fb9f3a\"],[0.8888888888888888,\"#fdca26\"],[1.0,\"#f0f921\"]],\"type\":\"heatmap\"}],\"heatmapgl\":[{\"colorbar\":{\"outlinewidth\":0,\"ticks\":\"\"},\"colorscale\":[[0.0,\"#0d0887\"],[0.1111111111111111,\"#46039f\"],[0.2222222222222222,\"#7201a8\"],[0.3333333333333333,\"#9c179e\"],[0.4444444444444444,\"#bd3786\"],[0.5555555555555556,\"#d8576b\"],[0.6666666666666666,\"#ed7953\"],[0.7777777777777778,\"#fb9f3a\"],[0.8888888888888888,\"#fdca26\"],[1.0,\"#f0f921\"]],\"type\":\"heatmapgl\"}],\"histogram\":[{\"marker\":{\"pattern\":{\"fillmode\":\"overlay\",\"size\":10,\"solidity\":0.2}},\"type\":\"histogram\"}],\"histogram2d\":[{\"colorbar\":{\"outlinewidth\":0,\"ticks\":\"\"},\"colorscale\":[[0.0,\"#0d0887\"],[0.1111111111111111,\"#46039f\"],[0.2222222222222222,\"#7201a8\"],[0.3333333333333333,\"#9c179e\"],[0.4444444444444444,\"#bd3786\"],[0.5555555555555556,\"#d8576b\"],[0.6666666666666666,\"#ed7953\"],[0.7777777777777778,\"#fb9f3a\"],[0.8888888888888888,\"#fdca26\"],[1.0,\"#f0f921\"]],\"type\":\"histogram2d\"}],\"histogram2dcontour\":[{\"colorbar\":{\"outlinewidth\":0,\"ticks\":\"\"},\"colorscale\":[[0.0,\"#0d0887\"],[0.1111111111111111,\"#46039f\"],[0.2222222222222222,\"#7201a8\"],[0.3333333333333333,\"#9c179e\"],[0.4444444444444444,\"#bd3786\"],[0.5555555555555556,\"#d8576b\"],[0.6666666666666666,\"#ed7953\"],[0.7777777777777778,\"#fb9f3a\"],[0.8888888888888888,\"#fdca26\"],[1.0,\"#f0f921\"]],\"type\":\"histogram2dcontour\"}],\"mesh3d\":[{\"colorbar\":{\"outlinewidth\":0,\"ticks\":\"\"},\"type\":\"mesh3d\"}],\"parcoords\":[{\"line\":{\"colorbar\":{\"outlinewidth\":0,\"ticks\":\"\"}},\"type\":\"parcoords\"}],\"pie\":[{\"automargin\":true,\"type\":\"pie\"}],\"scatter\":[{\"marker\":{\"colorbar\":{\"outlinewidth\":0,\"ticks\":\"\"}},\"type\":\"scatter\"}],\"scatter3d\":[{\"line\":{\"colorbar\":{\"outlinewidth\":0,\"ticks\":\"\"}},\"marker\":{\"colorbar\":{\"outlinewidth\":0,\"ticks\":\"\"}},\"type\":\"scatter3d\"}],\"scattercarpet\":[{\"marker\":{\"colorbar\":{\"outlinewidth\":0,\"ticks\":\"\"}},\"type\":\"scattercarpet\"}],\"scattergeo\":[{\"marker\":{\"colorbar\":{\"outlinewidth\":0,\"ticks\":\"\"}},\"type\":\"scattergeo\"}],\"scattergl\":[{\"marker\":{\"colorbar\":{\"outlinewidth\":0,\"ticks\":\"\"}},\"type\":\"scattergl\"}],\"scattermapbox\":[{\"marker\":{\"colorbar\":{\"outlinewidth\":0,\"ticks\":\"\"}},\"type\":\"scattermapbox\"}],\"scatterpolar\":[{\"marker\":{\"colorbar\":{\"outlinewidth\":0,\"ticks\":\"\"}},\"type\":\"scatterpolar\"}],\"scatterpolargl\":[{\"marker\":{\"colorbar\":{\"outlinewidth\":0,\"ticks\":\"\"}},\"type\":\"scatterpolargl\"}],\"scatterternary\":[{\"marker\":{\"colorbar\":{\"outlinewidth\":0,\"ticks\":\"\"}},\"type\":\"scatterternary\"}],\"surface\":[{\"colorbar\":{\"outlinewidth\":0,\"ticks\":\"\"},\"colorscale\":[[0.0,\"#0d0887\"],[0.1111111111111111,\"#46039f\"],[0.2222222222222222,\"#7201a8\"],[0.3333333333333333,\"#9c179e\"],[0.4444444444444444,\"#bd3786\"],[0.5555555555555556,\"#d8576b\"],[0.6666666666666666,\"#ed7953\"],[0.7777777777777778,\"#fb9f3a\"],[0.8888888888888888,\"#fdca26\"],[1.0,\"#f0f921\"]],\"type\":\"surface\"}],\"table\":[{\"cells\":{\"fill\":{\"color\":\"#EBF0F8\"},\"line\":{\"color\":\"white\"}},\"header\":{\"fill\":{\"color\":\"#C8D4E3\"},\"line\":{\"color\":\"white\"}},\"type\":\"table\"}]},\"layout\":{\"annotationdefaults\":{\"arrowcolor\":\"#2a3f5f\",\"arrowhead\":0,\"arrowwidth\":1},\"autotypenumbers\":\"strict\",\"coloraxis\":{\"colorbar\":{\"outlinewidth\":0,\"ticks\":\"\"}},\"colorscale\":{\"diverging\":[[0,\"#8e0152\"],[0.1,\"#c51b7d\"],[0.2,\"#de77ae\"],[0.3,\"#f1b6da\"],[0.4,\"#fde0ef\"],[0.5,\"#f7f7f7\"],[0.6,\"#e6f5d0\"],[0.7,\"#b8e186\"],[0.8,\"#7fbc41\"],[0.9,\"#4d9221\"],[1,\"#276419\"]],\"sequential\":[[0.0,\"#0d0887\"],[0.1111111111111111,\"#46039f\"],[0.2222222222222222,\"#7201a8\"],[0.3333333333333333,\"#9c179e\"],[0.4444444444444444,\"#bd3786\"],[0.5555555555555556,\"#d8576b\"],[0.6666666666666666,\"#ed7953\"],[0.7777777777777778,\"#fb9f3a\"],[0.8888888888888888,\"#fdca26\"],[1.0,\"#f0f921\"]],\"sequentialminus\":[[0.0,\"#0d0887\"],[0.1111111111111111,\"#46039f\"],[0.2222222222222222,\"#7201a8\"],[0.3333333333333333,\"#9c179e\"],[0.4444444444444444,\"#bd3786\"],[0.5555555555555556,\"#d8576b\"],[0.6666666666666666,\"#ed7953\"],[0.7777777777777778,\"#fb9f3a\"],[0.8888888888888888,\"#fdca26\"],[1.0,\"#f0f921\"]]},\"colorway\":[\"#636efa\",\"#EF553B\",\"#00cc96\",\"#ab63fa\",\"#FFA15A\",\"#19d3f3\",\"#FF6692\",\"#B6E880\",\"#FF97FF\",\"#FECB52\"],\"font\":{\"color\":\"#2a3f5f\"},\"geo\":{\"bgcolor\":\"white\",\"lakecolor\":\"white\",\"landcolor\":\"#E5ECF6\",\"showlakes\":true,\"showland\":true,\"subunitcolor\":\"white\"},\"hoverlabel\":{\"align\":\"left\"},\"hovermode\":\"closest\",\"mapbox\":{\"style\":\"light\"},\"paper_bgcolor\":\"white\",\"plot_bgcolor\":\"#E5ECF6\",\"polar\":{\"angularaxis\":{\"gridcolor\":\"white\",\"linecolor\":\"white\",\"ticks\":\"\"},\"bgcolor\":\"#E5ECF6\",\"radialaxis\":{\"gridcolor\":\"white\",\"linecolor\":\"white\",\"ticks\":\"\"}},\"scene\":{\"xaxis\":{\"backgroundcolor\":\"#E5ECF6\",\"gridcolor\":\"white\",\"gridwidth\":2,\"linecolor\":\"white\",\"showbackground\":true,\"ticks\":\"\",\"zerolinecolor\":\"white\"},\"yaxis\":{\"backgroundcolor\":\"#E5ECF6\",\"gridcolor\":\"white\",\"gridwidth\":2,\"linecolor\":\"white\",\"showbackground\":true,\"ticks\":\"\",\"zerolinecolor\":\"white\"},\"zaxis\":{\"backgroundcolor\":\"#E5ECF6\",\"gridcolor\":\"white\",\"gridwidth\":2,\"linecolor\":\"white\",\"showbackground\":true,\"ticks\":\"\",\"zerolinecolor\":\"white\"}},\"shapedefaults\":{\"line\":{\"color\":\"#2a3f5f\"}},\"ternary\":{\"aaxis\":{\"gridcolor\":\"white\",\"linecolor\":\"white\",\"ticks\":\"\"},\"baxis\":{\"gridcolor\":\"white\",\"linecolor\":\"white\",\"ticks\":\"\"},\"bgcolor\":\"#E5ECF6\",\"caxis\":{\"gridcolor\":\"white\",\"linecolor\":\"white\",\"ticks\":\"\"}},\"title\":{\"x\":0.05},\"xaxis\":{\"automargin\":true,\"gridcolor\":\"white\",\"linecolor\":\"white\",\"ticks\":\"\",\"title\":{\"standoff\":15},\"zerolinecolor\":\"white\",\"zerolinewidth\":2},\"yaxis\":{\"automargin\":true,\"gridcolor\":\"white\",\"linecolor\":\"white\",\"ticks\":\"\",\"title\":{\"standoff\":15},\"zerolinecolor\":\"white\",\"zerolinewidth\":2}}},\"title\":{\"text\":\"Boxplot para valida\\u00e7\\u00e3o\",\"x\":0.5,\"xanchor\":\"center\",\"yanchor\":\"middle\"},\"showlegend\":false,\"margin\":{\"l\":0,\"r\":0,\"b\":30,\"t\":50},\"height\":500,\"width\":1000},                        {\"responsive\": true}                    ).then(function(){\n",
              "                            \n",
              "var gd = document.getElementById('f61b8efb-8635-4184-b891-799ba69f8554');\n",
              "var x = new MutationObserver(function (mutations, observer) {{\n",
              "        var display = window.getComputedStyle(gd).display;\n",
              "        if (!display || display === 'none') {{\n",
              "            console.log([gd, 'removed!']);\n",
              "            Plotly.purge(gd);\n",
              "            observer.disconnect();\n",
              "        }}\n",
              "}});\n",
              "\n",
              "// Listen for the removal of the full notebook cells\n",
              "var notebookContainer = gd.closest('#notebook-container');\n",
              "if (notebookContainer) {{\n",
              "    x.observe(notebookContainer, {childList: true});\n",
              "}}\n",
              "\n",
              "// Listen for the clearing of the current output cell\n",
              "var outputEl = gd.closest('.output');\n",
              "if (outputEl) {{\n",
              "    x.observe(outputEl, {childList: true});\n",
              "}}\n",
              "\n",
              "                        })                };                            </script>        </div>\n",
              "</body>\n",
              "</html>"
            ]
          },
          "metadata": {},
          "output_type": "display_data"
        }
      ],
      "metadata": {
        "colab": {
          "base_uri": "https://localhost:8080/",
          "height": 517
        },
        "cellView": "form",
        "id": "XP2TYc0OsgTk",
        "outputId": "0eb467b5-a3bc-4fcc-db79-d39531d9a254"
      }
    },
    {
      "cell_type": "markdown",
      "source": [
        "Olhando as top 10 previsões erradas, conseguimos perceber alguns dias que fogem do comum, como por exemplo dias próximos a natal e ano novo, e também dias com quantidades muito altas de usuários, bem acima do terceiro quartil."
      ],
      "metadata": {
        "id": "T-HcJBke0mO2"
      }
    },
    {
      "cell_type": "code",
      "execution_count": 44,
      "source": [
        "#@title\r\n",
        "\r\n",
        "test_df = X_test.reset_index(drop = True)\r\n",
        "test_df['cnt'] = y_test\r\n",
        "test_df['cnt_predicted'] = y_pred\r\n",
        "test_df['residual'] = errors\r\n",
        "test_df['residual_abs'] = [abs(item) for item in errors]\r\n",
        "\r\n",
        "test_df.sort_values(by=\"residual_abs\", ascending = False).head(10)"
      ],
      "outputs": [
        {
          "data": {
            "text/plain": [
              "         temp  yr  mnth  ...  cnt_predicted     residual  residual_abs\n",
              "94   0.440000   1    10  ...    3938.816399 -3916.816399   3916.816399\n",
              "3    0.822500   1     7  ...    7866.513684 -3194.513684   3194.513684\n",
              "42   0.253333   1    12  ...    4356.634879 -3015.634879   3015.634879\n",
              "99   0.849167   0     7  ...    6078.878905 -2793.878905   2793.878905\n",
              "40   0.243333   1    12  ...    3169.841023 -2728.841023   2728.841023\n",
              "120  0.815833   1     7  ...    7766.333519 -2235.333519   2235.333519\n",
              "41   0.396667   1     4  ...    3240.177061 -2213.177061   2213.177061\n",
              "97   0.554167   1    10  ...    6105.631510  1859.368490   1859.368490\n",
              "19   0.583333   1     6  ...    6264.868902  1855.131098   1855.131098\n",
              "2    0.635833   1     8  ...    6336.050657 -1787.050657   1787.050657\n",
              "\n",
              "[10 rows x 10 columns]"
            ],
            "text/html": [
              "<div>\n",
              "<style scoped>\n",
              "    .dataframe tbody tr th:only-of-type {\n",
              "        vertical-align: middle;\n",
              "    }\n",
              "\n",
              "    .dataframe tbody tr th {\n",
              "        vertical-align: top;\n",
              "    }\n",
              "\n",
              "    .dataframe thead th {\n",
              "        text-align: right;\n",
              "    }\n",
              "</style>\n",
              "<table border=\"1\" class=\"dataframe\">\n",
              "  <thead>\n",
              "    <tr style=\"text-align: right;\">\n",
              "      <th></th>\n",
              "      <th>temp</th>\n",
              "      <th>yr</th>\n",
              "      <th>mnth</th>\n",
              "      <th>windspeed</th>\n",
              "      <th>hum</th>\n",
              "      <th>weathersit_num</th>\n",
              "      <th>cnt</th>\n",
              "      <th>cnt_predicted</th>\n",
              "      <th>residual</th>\n",
              "      <th>residual_abs</th>\n",
              "    </tr>\n",
              "  </thead>\n",
              "  <tbody>\n",
              "    <tr>\n",
              "      <th>94</th>\n",
              "      <td>0.440000</td>\n",
              "      <td>1</td>\n",
              "      <td>10</td>\n",
              "      <td>0.358200</td>\n",
              "      <td>0.880000</td>\n",
              "      <td>3</td>\n",
              "      <td>22</td>\n",
              "      <td>3938.816399</td>\n",
              "      <td>-3916.816399</td>\n",
              "      <td>3916.816399</td>\n",
              "    </tr>\n",
              "    <tr>\n",
              "      <th>3</th>\n",
              "      <td>0.822500</td>\n",
              "      <td>1</td>\n",
              "      <td>7</td>\n",
              "      <td>0.125629</td>\n",
              "      <td>0.573750</td>\n",
              "      <td>1</td>\n",
              "      <td>4672</td>\n",
              "      <td>7866.513684</td>\n",
              "      <td>-3194.513684</td>\n",
              "      <td>3194.513684</td>\n",
              "    </tr>\n",
              "    <tr>\n",
              "      <th>42</th>\n",
              "      <td>0.253333</td>\n",
              "      <td>1</td>\n",
              "      <td>12</td>\n",
              "      <td>0.124383</td>\n",
              "      <td>0.752917</td>\n",
              "      <td>2</td>\n",
              "      <td>1341</td>\n",
              "      <td>4356.634879</td>\n",
              "      <td>-3015.634879</td>\n",
              "      <td>3015.634879</td>\n",
              "    </tr>\n",
              "    <tr>\n",
              "      <th>99</th>\n",
              "      <td>0.849167</td>\n",
              "      <td>0</td>\n",
              "      <td>7</td>\n",
              "      <td>0.131221</td>\n",
              "      <td>0.500000</td>\n",
              "      <td>1</td>\n",
              "      <td>3285</td>\n",
              "      <td>6078.878905</td>\n",
              "      <td>-2793.878905</td>\n",
              "      <td>2793.878905</td>\n",
              "    </tr>\n",
              "    <tr>\n",
              "      <th>40</th>\n",
              "      <td>0.243333</td>\n",
              "      <td>1</td>\n",
              "      <td>12</td>\n",
              "      <td>0.316546</td>\n",
              "      <td>0.823333</td>\n",
              "      <td>3</td>\n",
              "      <td>441</td>\n",
              "      <td>3169.841023</td>\n",
              "      <td>-2728.841023</td>\n",
              "      <td>2728.841023</td>\n",
              "    </tr>\n",
              "    <tr>\n",
              "      <th>120</th>\n",
              "      <td>0.815833</td>\n",
              "      <td>1</td>\n",
              "      <td>7</td>\n",
              "      <td>0.168529</td>\n",
              "      <td>0.518750</td>\n",
              "      <td>1</td>\n",
              "      <td>5531</td>\n",
              "      <td>7766.333519</td>\n",
              "      <td>-2235.333519</td>\n",
              "      <td>2235.333519</td>\n",
              "    </tr>\n",
              "    <tr>\n",
              "      <th>41</th>\n",
              "      <td>0.396667</td>\n",
              "      <td>1</td>\n",
              "      <td>4</td>\n",
              "      <td>0.344546</td>\n",
              "      <td>0.835417</td>\n",
              "      <td>3</td>\n",
              "      <td>1027</td>\n",
              "      <td>3240.177061</td>\n",
              "      <td>-2213.177061</td>\n",
              "      <td>2213.177061</td>\n",
              "    </tr>\n",
              "    <tr>\n",
              "      <th>97</th>\n",
              "      <td>0.554167</td>\n",
              "      <td>1</td>\n",
              "      <td>10</td>\n",
              "      <td>0.268025</td>\n",
              "      <td>0.664167</td>\n",
              "      <td>1</td>\n",
              "      <td>7965</td>\n",
              "      <td>6105.631510</td>\n",
              "      <td>1859.368490</td>\n",
              "      <td>1859.368490</td>\n",
              "    </tr>\n",
              "    <tr>\n",
              "      <th>19</th>\n",
              "      <td>0.583333</td>\n",
              "      <td>1</td>\n",
              "      <td>6</td>\n",
              "      <td>0.186562</td>\n",
              "      <td>0.549167</td>\n",
              "      <td>1</td>\n",
              "      <td>8120</td>\n",
              "      <td>6264.868902</td>\n",
              "      <td>1855.131098</td>\n",
              "      <td>1855.131098</td>\n",
              "    </tr>\n",
              "    <tr>\n",
              "      <th>2</th>\n",
              "      <td>0.635833</td>\n",
              "      <td>1</td>\n",
              "      <td>8</td>\n",
              "      <td>0.086450</td>\n",
              "      <td>0.711667</td>\n",
              "      <td>2</td>\n",
              "      <td>4549</td>\n",
              "      <td>6336.050657</td>\n",
              "      <td>-1787.050657</td>\n",
              "      <td>1787.050657</td>\n",
              "    </tr>\n",
              "  </tbody>\n",
              "</table>\n",
              "</div>"
            ]
          },
          "metadata": {},
          "output_type": "display_data"
        }
      ],
      "metadata": {
        "colab": {
          "base_uri": "https://localhost:8080/",
          "height": 359
        },
        "cellView": "form",
        "id": "UvG2WZ7-sgTk",
        "outputId": "3fc42ec4-288c-409d-a3a0-e5a684aef2ae"
      }
    },
    {
      "cell_type": "code",
      "execution_count": 45,
      "source": [
        "for cnt_value in test_df.sort_values(by=\"residual_abs\", ascending = False).head(10)['cnt'].values:\r\n",
        "  print(\"________\")\r\n",
        "  print(df[df['cnt']==cnt_value][['cnt','dteday','season','workingday','weathersit']].T)"
      ],
      "outputs": [
        {
          "output_type": "stream",
          "name": "stdout",
          "text": [
            "________\n",
            "                               667\n",
            "cnt                             22\n",
            "dteday                  2012-10-29\n",
            "season                    4_autumn\n",
            "workingday                 workday\n",
            "weathersit  3 _ Formations - Light\n",
            "________\n",
            "                   554\n",
            "cnt               4672\n",
            "dteday      2012-07-08\n",
            "season        3_summer\n",
            "workingday     restday\n",
            "weathersit   1 _ Clear\n",
            "________\n",
            "                   728\n",
            "cnt               1341\n",
            "dteday      2012-12-29\n",
            "season        1_winter\n",
            "workingday     restday\n",
            "weathersit    2 _ Mist\n",
            "________\n",
            "                   203\n",
            "cnt               3285\n",
            "dteday      2011-07-23\n",
            "season        3_summer\n",
            "workingday     restday\n",
            "weathersit   1 _ Clear\n",
            "________\n",
            "                               725\n",
            "cnt                            441\n",
            "dteday                  2012-12-26\n",
            "season                    1_winter\n",
            "workingday                 workday\n",
            "weathersit  3 _ Formations - Light\n",
            "________\n",
            "                   547\n",
            "cnt               5531\n",
            "dteday      2012-07-01\n",
            "season        3_summer\n",
            "workingday     restday\n",
            "weathersit   1 _ Clear\n",
            "________\n",
            "                               477\n",
            "cnt                           1027\n",
            "dteday                  2012-04-22\n",
            "season                    2_spring\n",
            "workingday                 restday\n",
            "weathersit  3 _ Formations - Light\n",
            "________\n",
            "                   644\n",
            "cnt               7965\n",
            "dteday      2012-10-06\n",
            "season        4_autumn\n",
            "workingday     restday\n",
            "weathersit   1 _ Clear\n",
            "________\n",
            "                   518\n",
            "cnt               8120\n",
            "dteday      2012-06-02\n",
            "season        2_spring\n",
            "workingday     restday\n",
            "weathersit   1 _ Clear\n",
            "________\n",
            "                   596\n",
            "cnt               4549\n",
            "dteday      2012-08-19\n",
            "season        3_summer\n",
            "workingday     restday\n",
            "weathersit    2 _ Mist\n"
          ]
        }
      ],
      "metadata": {
        "colab": {
          "base_uri": "https://localhost:8080/"
        },
        "id": "q-7xRzLBsgTk",
        "outputId": "acfd6273-b7f3-466b-9a21-07653c676054"
      }
    },
    {
      "cell_type": "markdown",
      "source": [
        "#3.Próximos passos\n",
        "\n",
        "Como próximos passos, há outros modelos a serem avaliados, como a regressão polinomial a árvore de decisão e muitos outros. Foram levantados diversos pontos no documento sobre quais premissas da regressão linear não foram satisfeitas neste caso, e que portanto há a oportunidade de modelos diferentes trazerem melhores resultados."
      ],
      "metadata": {
        "id": "LsEf-suo19Z5"
      }
    }
  ]
}